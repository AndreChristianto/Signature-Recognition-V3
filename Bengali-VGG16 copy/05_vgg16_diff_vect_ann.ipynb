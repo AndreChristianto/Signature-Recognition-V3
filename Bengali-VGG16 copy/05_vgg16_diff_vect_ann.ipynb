{
 "cells": [
  {
   "cell_type": "markdown",
   "metadata": {},
   "source": [
    "### 1. Load Train / Test / Validation Data Files"
   ]
  },
  {
   "cell_type": "code",
   "execution_count": 1,
   "metadata": {},
   "outputs": [],
   "source": [
    "import numpy as np"
   ]
  },
  {
   "cell_type": "code",
   "execution_count": 2,
   "metadata": {},
   "outputs": [],
   "source": [
    "train_features_path =  \"../feature/BENGALI-feature/train_features.npy\"\n",
    "train_names_path = \"../feature/BENGALI-feature/train_names.npy\"\n",
    "train_labels_path = \"../feature/BENGALI-feature/train_labels.npy\"\n",
    "\n",
    "test_features_path = \"../feature/BENGALI-feature/test_features.npy\"\n",
    "test_names_path = \"../feature/BENGALI-feature/test_names.npy\"\n",
    "test_labels_path = \"../feature/BENGALI-feature/test_labels.npy\"\n",
    "\n",
    "validation_features_path = \"../feature/BENGALI-feature/validation_features.npy\"\n",
    "validation_names_path = \"../feature/BENGALI-feature/validation_names.npy\"\n",
    "validation_labels_path = \"../feature/BENGALI-feature/validation_labels.npy\"\n",
    "\n",
    "gallery_feature_path = \"../feature/BENGALI-feature/gallery_features.npy\"\n",
    "gallery_name_path = \"../feature/BENGALI-feature/gallery_names.npy\"\n",
    "\n",
    "train_features = np.load(train_features_path)\n",
    "train_names = np.load(train_names_path)\n",
    "train_labels = np.load(train_labels_path)\n",
    "\n",
    "test_features = np.load(test_features_path)\n",
    "test_names = np.load(test_names_path)\n",
    "test_labels = np.load(test_labels_path)\n",
    "\n",
    "validation_features = np.load(validation_features_path)\n",
    "validation_names = np.load(validation_names_path)\n",
    "validation_labels = np.load(validation_labels_path)\n",
    "\n",
    "gallery_features = np.load(gallery_feature_path)\n",
    "gallery_names = np.load(gallery_name_path)"
   ]
  },
  {
   "cell_type": "code",
   "execution_count": 3,
   "metadata": {},
   "outputs": [
    {
     "name": "stdout",
     "output_type": "stream",
     "text": [
      "(3200, 512)\n",
      "(3200,)\n",
      "(3200,)\n",
      "(1100, 512)\n",
      "(1100,)\n",
      "(1100,)\n",
      "(1100, 512)\n",
      "(1100,)\n",
      "(1100,)\n",
      "(100, 512)\n",
      "(100,)\n"
     ]
    }
   ],
   "source": [
    "print(train_features.shape)\n",
    "print(train_labels.shape)\n",
    "print(train_names.shape)\n",
    "print(test_features.shape)\n",
    "print(test_labels.shape)\n",
    "print(test_names.shape)\n",
    "print(validation_features.shape)\n",
    "print(validation_labels.shape)\n",
    "print(validation_names.shape)\n",
    "print(gallery_features.shape)\n",
    "print(gallery_names.shape)"
   ]
  },
  {
   "cell_type": "code",
   "execution_count": 4,
   "metadata": {},
   "outputs": [],
   "source": [
    "def find_difference_vector(vector_features, vector_labels, vector_names, gallery_features, gallery_names):\n",
    "    difference_vectors = []\n",
    "    difference_names = []\n",
    "    difference_labels = []\n",
    "\n",
    "    for gallery_feature, gallery_name in zip(gallery_features, gallery_names):\n",
    "        curr_difference_name = gallery_name\n",
    "        curr_difference_feature = []\n",
    "        curr_difference_label = []\n",
    "        curr_difference = []\n",
    "        \n",
    "        for feature, name, label in zip(vector_features, vector_names, vector_labels):\n",
    "            # print(f\"Gallery Name: {gallery_name}, Name: {name}\")\n",
    "            if gallery_name == name:\n",
    "                curr_difference_feature.append(feature)\n",
    "                curr_difference_label.append(label)\n",
    "        \n",
    "        if curr_difference_feature:  # Check if the list is not empty\n",
    "            # Assuming curr_difference_feature, curr_difference_label, and gallery_feature are numpy arrays\n",
    "            curr_difference_feature = np.array(curr_difference_feature)\n",
    "            curr_difference_label = np.array(curr_difference_label)\n",
    "            curr_difference = curr_difference_feature - gallery_feature\n",
    "\n",
    "            difference_vectors.append(curr_difference)\n",
    "            difference_names.append(curr_difference_name)\n",
    "            difference_labels.append(curr_difference_label)\n",
    "            \n",
    "    return difference_vectors, difference_names, difference_labels"
   ]
  },
  {
   "cell_type": "code",
   "execution_count": 5,
   "metadata": {},
   "outputs": [],
   "source": [
    "test_difference_vectors, test_difference_names, test_difference_labels = find_difference_vector(test_features, test_labels, test_names, gallery_features, gallery_names)\n",
    "train_difference_vectors, train_difference_names, train_difference_labels = find_difference_vector(train_features, train_labels, train_names, gallery_features, gallery_names)\n",
    "validation_difference_vectors, validation_difference_names, validation_difference_labels = find_difference_vector(validation_features, validation_labels, validation_names, gallery_features, gallery_names)"
   ]
  },
  {
   "cell_type": "markdown",
   "metadata": {},
   "source": [
    "### 2. Train on ANN"
   ]
  },
  {
   "cell_type": "code",
   "execution_count": 6,
   "metadata": {},
   "outputs": [
    {
     "name": "stdout",
     "output_type": "stream",
     "text": [
      "WARNING:tensorflow:From C:\\Users\\Andreas Christianto\\AppData\\Roaming\\Python\\Python311\\site-packages\\keras\\src\\losses.py:2976: The name tf.losses.sparse_softmax_cross_entropy is deprecated. Please use tf.compat.v1.losses.sparse_softmax_cross_entropy instead.\n",
      "\n"
     ]
    }
   ],
   "source": [
    "from tensorflow.keras.models import Sequential\n",
    "from tensorflow.keras.layers import Dense\n",
    "from sklearn.preprocessing import StandardScaler\n",
    "from sklearn.model_selection import GridSearchCV\n",
    "from scikeras.wrappers import KerasClassifier"
   ]
  },
  {
   "cell_type": "code",
   "execution_count": 7,
   "metadata": {},
   "outputs": [],
   "source": [
    "train_difference_vectors_flat = np.vstack(train_difference_vectors)\n",
    "test_difference_vectors_flat = np.vstack(test_difference_vectors)\n",
    "validation_difference_vectors_flat = np.vstack(validation_difference_vectors)\n",
    "\n",
    "train_labels = np.vstack(train_labels)\n",
    "test_labels = np.vstack(test_labels)\n",
    "validation_labels = np.vstack(validation_labels)"
   ]
  },
  {
   "cell_type": "code",
   "execution_count": 8,
   "metadata": {},
   "outputs": [],
   "source": [
    "scaler = StandardScaler()\n",
    "train_difference_vectors_scaled = scaler.fit_transform(train_difference_vectors_flat)\n",
    "test_difference_vectors_scaled = scaler.transform(test_difference_vectors_flat)\n",
    "validation_difference_vectors_scaled = scaler.transform(validation_difference_vectors_flat)"
   ]
  },
  {
   "cell_type": "code",
   "execution_count": 9,
   "metadata": {},
   "outputs": [],
   "source": [
    "def create_model(optimizer='adam', units1=128, units2=64, activation='relu'):\n",
    "    model = Sequential()\n",
    "    model.add(Dense(units=units1, input_shape=(train_difference_vectors_flat.shape[1],), activation=activation))\n",
    "    model.add(Dense(units=units2, activation=activation))\n",
    "    model.add(Dense(units=1, activation='sigmoid'))\n",
    "    model.compile(optimizer=optimizer, loss='binary_crossentropy', metrics=['accuracy'])\n",
    "    return model"
   ]
  },
  {
   "cell_type": "code",
   "execution_count": 10,
   "metadata": {},
   "outputs": [],
   "source": [
    "model = KerasClassifier(build_fn=create_model, epochs=10, batch_size=32, verbose=0)"
   ]
  },
  {
   "cell_type": "code",
   "execution_count": 11,
   "metadata": {},
   "outputs": [
    {
     "name": "stderr",
     "output_type": "stream",
     "text": [
      "c:\\Users\\Andreas Christianto\\AppData\\Local\\Programs\\Python\\Python311\\Lib\\site-packages\\scikeras\\wrappers.py:915: UserWarning: ``build_fn`` will be renamed to ``model`` in a future release, at which point use of ``build_fn`` will raise an Error instead.\n",
      "  X, y = self._initialize(X, y)\n"
     ]
    },
    {
     "name": "stdout",
     "output_type": "stream",
     "text": [
      "WARNING:tensorflow:From C:\\Users\\Andreas Christianto\\AppData\\Roaming\\Python\\Python311\\site-packages\\keras\\src\\backend.py:873: The name tf.get_default_graph is deprecated. Please use tf.compat.v1.get_default_graph instead.\n",
      "\n",
      "WARNING:tensorflow:From C:\\Users\\Andreas Christianto\\AppData\\Roaming\\Python\\Python311\\site-packages\\keras\\src\\optimizers\\__init__.py:309: The name tf.train.Optimizer is deprecated. Please use tf.compat.v1.train.Optimizer instead.\n",
      "\n",
      "WARNING:tensorflow:From C:\\Users\\Andreas Christianto\\AppData\\Roaming\\Python\\Python311\\site-packages\\keras\\src\\utils\\tf_utils.py:492: The name tf.ragged.RaggedTensorValue is deprecated. Please use tf.compat.v1.ragged.RaggedTensorValue instead.\n",
      "\n",
      "WARNING:tensorflow:From C:\\Users\\Andreas Christianto\\AppData\\Roaming\\Python\\Python311\\site-packages\\keras\\src\\engine\\base_layer_utils.py:384: The name tf.executing_eagerly_outside_functions is deprecated. Please use tf.compat.v1.executing_eagerly_outside_functions instead.\n",
      "\n"
     ]
    },
    {
     "data": {
      "text/html": [
       "<style>#sk-container-id-1 {color: black;}#sk-container-id-1 pre{padding: 0;}#sk-container-id-1 div.sk-toggleable {background-color: white;}#sk-container-id-1 label.sk-toggleable__label {cursor: pointer;display: block;width: 100%;margin-bottom: 0;padding: 0.3em;box-sizing: border-box;text-align: center;}#sk-container-id-1 label.sk-toggleable__label-arrow:before {content: \"▸\";float: left;margin-right: 0.25em;color: #696969;}#sk-container-id-1 label.sk-toggleable__label-arrow:hover:before {color: black;}#sk-container-id-1 div.sk-estimator:hover label.sk-toggleable__label-arrow:before {color: black;}#sk-container-id-1 div.sk-toggleable__content {max-height: 0;max-width: 0;overflow: hidden;text-align: left;background-color: #f0f8ff;}#sk-container-id-1 div.sk-toggleable__content pre {margin: 0.2em;color: black;border-radius: 0.25em;background-color: #f0f8ff;}#sk-container-id-1 input.sk-toggleable__control:checked~div.sk-toggleable__content {max-height: 200px;max-width: 100%;overflow: auto;}#sk-container-id-1 input.sk-toggleable__control:checked~label.sk-toggleable__label-arrow:before {content: \"▾\";}#sk-container-id-1 div.sk-estimator input.sk-toggleable__control:checked~label.sk-toggleable__label {background-color: #d4ebff;}#sk-container-id-1 div.sk-label input.sk-toggleable__control:checked~label.sk-toggleable__label {background-color: #d4ebff;}#sk-container-id-1 input.sk-hidden--visually {border: 0;clip: rect(1px 1px 1px 1px);clip: rect(1px, 1px, 1px, 1px);height: 1px;margin: -1px;overflow: hidden;padding: 0;position: absolute;width: 1px;}#sk-container-id-1 div.sk-estimator {font-family: monospace;background-color: #f0f8ff;border: 1px dotted black;border-radius: 0.25em;box-sizing: border-box;margin-bottom: 0.5em;}#sk-container-id-1 div.sk-estimator:hover {background-color: #d4ebff;}#sk-container-id-1 div.sk-parallel-item::after {content: \"\";width: 100%;border-bottom: 1px solid gray;flex-grow: 1;}#sk-container-id-1 div.sk-label:hover label.sk-toggleable__label {background-color: #d4ebff;}#sk-container-id-1 div.sk-serial::before {content: \"\";position: absolute;border-left: 1px solid gray;box-sizing: border-box;top: 0;bottom: 0;left: 50%;z-index: 0;}#sk-container-id-1 div.sk-serial {display: flex;flex-direction: column;align-items: center;background-color: white;padding-right: 0.2em;padding-left: 0.2em;position: relative;}#sk-container-id-1 div.sk-item {position: relative;z-index: 1;}#sk-container-id-1 div.sk-parallel {display: flex;align-items: stretch;justify-content: center;background-color: white;position: relative;}#sk-container-id-1 div.sk-item::before, #sk-container-id-1 div.sk-parallel-item::before {content: \"\";position: absolute;border-left: 1px solid gray;box-sizing: border-box;top: 0;bottom: 0;left: 50%;z-index: -1;}#sk-container-id-1 div.sk-parallel-item {display: flex;flex-direction: column;z-index: 1;position: relative;background-color: white;}#sk-container-id-1 div.sk-parallel-item:first-child::after {align-self: flex-end;width: 50%;}#sk-container-id-1 div.sk-parallel-item:last-child::after {align-self: flex-start;width: 50%;}#sk-container-id-1 div.sk-parallel-item:only-child::after {width: 0;}#sk-container-id-1 div.sk-dashed-wrapped {border: 1px dashed gray;margin: 0 0.4em 0.5em 0.4em;box-sizing: border-box;padding-bottom: 0.4em;background-color: white;}#sk-container-id-1 div.sk-label label {font-family: monospace;font-weight: bold;display: inline-block;line-height: 1.2em;}#sk-container-id-1 div.sk-label-container {text-align: center;}#sk-container-id-1 div.sk-container {/* jupyter's `normalize.less` sets `[hidden] { display: none; }` but bootstrap.min.css set `[hidden] { display: none !important; }` so we also need the `!important` here to be able to override the default hidden behavior on the sphinx rendered scikit-learn.org. See: https://github.com/scikit-learn/scikit-learn/issues/21755 */display: inline-block !important;position: relative;}#sk-container-id-1 div.sk-text-repr-fallback {display: none;}</style><div id=\"sk-container-id-1\" class=\"sk-top-container\"><div class=\"sk-text-repr-fallback\"><pre>KerasClassifier(\n",
       "\tmodel=None\n",
       "\tbuild_fn=&lt;function create_model at 0x000001FAA7CC1080&gt;\n",
       "\twarm_start=False\n",
       "\trandom_state=None\n",
       "\toptimizer=rmsprop\n",
       "\tloss=None\n",
       "\tmetrics=None\n",
       "\tbatch_size=32\n",
       "\tvalidation_batch_size=None\n",
       "\tverbose=0\n",
       "\tcallbacks=None\n",
       "\tvalidation_split=0.0\n",
       "\tshuffle=True\n",
       "\trun_eagerly=False\n",
       "\tepochs=10\n",
       "\tclass_weight=None\n",
       ")</pre><b>In a Jupyter environment, please rerun this cell to show the HTML representation or trust the notebook. <br />On GitHub, the HTML representation is unable to render, please try loading this page with nbviewer.org.</b></div><div class=\"sk-container\" hidden><div class=\"sk-item\"><div class=\"sk-estimator sk-toggleable\"><input class=\"sk-toggleable__control sk-hidden--visually\" id=\"sk-estimator-id-1\" type=\"checkbox\" checked><label for=\"sk-estimator-id-1\" class=\"sk-toggleable__label sk-toggleable__label-arrow\">KerasClassifier</label><div class=\"sk-toggleable__content\"><pre>KerasClassifier(\n",
       "\tmodel=None\n",
       "\tbuild_fn=&lt;function create_model at 0x000001FAA7CC1080&gt;\n",
       "\twarm_start=False\n",
       "\trandom_state=None\n",
       "\toptimizer=rmsprop\n",
       "\tloss=None\n",
       "\tmetrics=None\n",
       "\tbatch_size=32\n",
       "\tvalidation_batch_size=None\n",
       "\tverbose=0\n",
       "\tcallbacks=None\n",
       "\tvalidation_split=0.0\n",
       "\tshuffle=True\n",
       "\trun_eagerly=False\n",
       "\tepochs=10\n",
       "\tclass_weight=None\n",
       ")</pre></div></div></div></div></div>"
      ],
      "text/plain": [
       "KerasClassifier(\n",
       "\tmodel=None\n",
       "\tbuild_fn=<function create_model at 0x000001FAA7CC1080>\n",
       "\twarm_start=False\n",
       "\trandom_state=None\n",
       "\toptimizer=rmsprop\n",
       "\tloss=None\n",
       "\tmetrics=None\n",
       "\tbatch_size=32\n",
       "\tvalidation_batch_size=None\n",
       "\tverbose=0\n",
       "\tcallbacks=None\n",
       "\tvalidation_split=0.0\n",
       "\tshuffle=True\n",
       "\trun_eagerly=False\n",
       "\tepochs=10\n",
       "\tclass_weight=None\n",
       ")"
      ]
     },
     "execution_count": 11,
     "metadata": {},
     "output_type": "execute_result"
    }
   ],
   "source": [
    "model.fit(train_difference_vectors_scaled, train_labels)"
   ]
  },
  {
   "cell_type": "code",
   "execution_count": 12,
   "metadata": {},
   "outputs": [
    {
     "name": "stdout",
     "output_type": "stream",
     "text": [
      "Model: \"sequential\"\n",
      "_________________________________________________________________\n",
      " Layer (type)                Output Shape              Param #   \n",
      "=================================================================\n",
      " dense (Dense)               (None, 128)               65664     \n",
      "                                                                 \n",
      " dense_1 (Dense)             (None, 64)                8256      \n",
      "                                                                 \n",
      " dense_2 (Dense)             (None, 1)                 65        \n",
      "                                                                 \n",
      "=================================================================\n",
      "Total params: 73985 (289.00 KB)\n",
      "Trainable params: 73985 (289.00 KB)\n",
      "Non-trainable params: 0 (0.00 Byte)\n",
      "_________________________________________________________________\n"
     ]
    }
   ],
   "source": [
    "model.model_.summary()"
   ]
  },
  {
   "cell_type": "markdown",
   "metadata": {},
   "source": [
    "### 3. Hyperparameter Tuning"
   ]
  },
  {
   "cell_type": "code",
   "execution_count": 13,
   "metadata": {},
   "outputs": [
    {
     "name": "stdout",
     "output_type": "stream",
     "text": [
      "model: None\n",
      "build_fn: <function create_model at 0x000001FAA7CC1080>\n",
      "warm_start: False\n",
      "random_state: None\n",
      "optimizer: rmsprop\n",
      "loss: None\n",
      "metrics: None\n",
      "batch_size: 32\n",
      "validation_batch_size: None\n",
      "verbose: 0\n",
      "callbacks: None\n",
      "validation_split: 0.0\n",
      "shuffle: True\n",
      "run_eagerly: False\n",
      "epochs: 10\n",
      "class_weight: None\n"
     ]
    }
   ],
   "source": [
    "params = model.get_params()\n",
    "\n",
    "# Print the parameter keys and values\n",
    "for key, value in params.items():\n",
    "    print(f\"{key}: {value}\")\n"
   ]
  },
  {
   "cell_type": "code",
   "execution_count": 14,
   "metadata": {},
   "outputs": [],
   "source": [
    "param_grid = {'optimizer': ['adam', 'sgd', 'rmsprop'], 'batch_size': [16, 32, 64], 'epochs': [5, 10, 15]}"
   ]
  },
  {
   "cell_type": "code",
   "execution_count": 15,
   "metadata": {},
   "outputs": [],
   "source": [
    "grid = GridSearchCV(estimator=model, param_grid=param_grid, cv=5, scoring='accuracy')"
   ]
  },
  {
   "cell_type": "code",
   "execution_count": 16,
   "metadata": {},
   "outputs": [
    {
     "name": "stderr",
     "output_type": "stream",
     "text": [
      "c:\\Users\\Andreas Christianto\\AppData\\Local\\Programs\\Python\\Python311\\Lib\\site-packages\\scikeras\\wrappers.py:915: UserWarning: ``build_fn`` will be renamed to ``model`` in a future release, at which point use of ``build_fn`` will raise an Error instead.\n",
      "  X, y = self._initialize(X, y)\n",
      "c:\\Users\\Andreas Christianto\\AppData\\Local\\Programs\\Python\\Python311\\Lib\\site-packages\\scikeras\\wrappers.py:915: UserWarning: ``build_fn`` will be renamed to ``model`` in a future release, at which point use of ``build_fn`` will raise an Error instead.\n",
      "  X, y = self._initialize(X, y)\n",
      "c:\\Users\\Andreas Christianto\\AppData\\Local\\Programs\\Python\\Python311\\Lib\\site-packages\\scikeras\\wrappers.py:915: UserWarning: ``build_fn`` will be renamed to ``model`` in a future release, at which point use of ``build_fn`` will raise an Error instead.\n",
      "  X, y = self._initialize(X, y)\n",
      "c:\\Users\\Andreas Christianto\\AppData\\Local\\Programs\\Python\\Python311\\Lib\\site-packages\\scikeras\\wrappers.py:915: UserWarning: ``build_fn`` will be renamed to ``model`` in a future release, at which point use of ``build_fn`` will raise an Error instead.\n",
      "  X, y = self._initialize(X, y)\n",
      "c:\\Users\\Andreas Christianto\\AppData\\Local\\Programs\\Python\\Python311\\Lib\\site-packages\\scikeras\\wrappers.py:915: UserWarning: ``build_fn`` will be renamed to ``model`` in a future release, at which point use of ``build_fn`` will raise an Error instead.\n",
      "  X, y = self._initialize(X, y)\n",
      "c:\\Users\\Andreas Christianto\\AppData\\Local\\Programs\\Python\\Python311\\Lib\\site-packages\\scikeras\\wrappers.py:915: UserWarning: ``build_fn`` will be renamed to ``model`` in a future release, at which point use of ``build_fn`` will raise an Error instead.\n",
      "  X, y = self._initialize(X, y)\n",
      "c:\\Users\\Andreas Christianto\\AppData\\Local\\Programs\\Python\\Python311\\Lib\\site-packages\\scikeras\\wrappers.py:915: UserWarning: ``build_fn`` will be renamed to ``model`` in a future release, at which point use of ``build_fn`` will raise an Error instead.\n",
      "  X, y = self._initialize(X, y)\n",
      "c:\\Users\\Andreas Christianto\\AppData\\Local\\Programs\\Python\\Python311\\Lib\\site-packages\\scikeras\\wrappers.py:915: UserWarning: ``build_fn`` will be renamed to ``model`` in a future release, at which point use of ``build_fn`` will raise an Error instead.\n",
      "  X, y = self._initialize(X, y)\n",
      "c:\\Users\\Andreas Christianto\\AppData\\Local\\Programs\\Python\\Python311\\Lib\\site-packages\\scikeras\\wrappers.py:915: UserWarning: ``build_fn`` will be renamed to ``model`` in a future release, at which point use of ``build_fn`` will raise an Error instead.\n",
      "  X, y = self._initialize(X, y)\n",
      "c:\\Users\\Andreas Christianto\\AppData\\Local\\Programs\\Python\\Python311\\Lib\\site-packages\\scikeras\\wrappers.py:915: UserWarning: ``build_fn`` will be renamed to ``model`` in a future release, at which point use of ``build_fn`` will raise an Error instead.\n",
      "  X, y = self._initialize(X, y)\n",
      "c:\\Users\\Andreas Christianto\\AppData\\Local\\Programs\\Python\\Python311\\Lib\\site-packages\\scikeras\\wrappers.py:915: UserWarning: ``build_fn`` will be renamed to ``model`` in a future release, at which point use of ``build_fn`` will raise an Error instead.\n",
      "  X, y = self._initialize(X, y)\n",
      "c:\\Users\\Andreas Christianto\\AppData\\Local\\Programs\\Python\\Python311\\Lib\\site-packages\\scikeras\\wrappers.py:915: UserWarning: ``build_fn`` will be renamed to ``model`` in a future release, at which point use of ``build_fn`` will raise an Error instead.\n",
      "  X, y = self._initialize(X, y)\n",
      "c:\\Users\\Andreas Christianto\\AppData\\Local\\Programs\\Python\\Python311\\Lib\\site-packages\\scikeras\\wrappers.py:915: UserWarning: ``build_fn`` will be renamed to ``model`` in a future release, at which point use of ``build_fn`` will raise an Error instead.\n",
      "  X, y = self._initialize(X, y)\n",
      "c:\\Users\\Andreas Christianto\\AppData\\Local\\Programs\\Python\\Python311\\Lib\\site-packages\\scikeras\\wrappers.py:915: UserWarning: ``build_fn`` will be renamed to ``model`` in a future release, at which point use of ``build_fn`` will raise an Error instead.\n",
      "  X, y = self._initialize(X, y)\n",
      "c:\\Users\\Andreas Christianto\\AppData\\Local\\Programs\\Python\\Python311\\Lib\\site-packages\\scikeras\\wrappers.py:915: UserWarning: ``build_fn`` will be renamed to ``model`` in a future release, at which point use of ``build_fn`` will raise an Error instead.\n",
      "  X, y = self._initialize(X, y)\n",
      "c:\\Users\\Andreas Christianto\\AppData\\Local\\Programs\\Python\\Python311\\Lib\\site-packages\\scikeras\\wrappers.py:915: UserWarning: ``build_fn`` will be renamed to ``model`` in a future release, at which point use of ``build_fn`` will raise an Error instead.\n",
      "  X, y = self._initialize(X, y)\n",
      "c:\\Users\\Andreas Christianto\\AppData\\Local\\Programs\\Python\\Python311\\Lib\\site-packages\\scikeras\\wrappers.py:915: UserWarning: ``build_fn`` will be renamed to ``model`` in a future release, at which point use of ``build_fn`` will raise an Error instead.\n",
      "  X, y = self._initialize(X, y)\n",
      "c:\\Users\\Andreas Christianto\\AppData\\Local\\Programs\\Python\\Python311\\Lib\\site-packages\\scikeras\\wrappers.py:915: UserWarning: ``build_fn`` will be renamed to ``model`` in a future release, at which point use of ``build_fn`` will raise an Error instead.\n",
      "  X, y = self._initialize(X, y)\n",
      "c:\\Users\\Andreas Christianto\\AppData\\Local\\Programs\\Python\\Python311\\Lib\\site-packages\\scikeras\\wrappers.py:915: UserWarning: ``build_fn`` will be renamed to ``model`` in a future release, at which point use of ``build_fn`` will raise an Error instead.\n",
      "  X, y = self._initialize(X, y)\n",
      "c:\\Users\\Andreas Christianto\\AppData\\Local\\Programs\\Python\\Python311\\Lib\\site-packages\\scikeras\\wrappers.py:915: UserWarning: ``build_fn`` will be renamed to ``model`` in a future release, at which point use of ``build_fn`` will raise an Error instead.\n",
      "  X, y = self._initialize(X, y)\n",
      "c:\\Users\\Andreas Christianto\\AppData\\Local\\Programs\\Python\\Python311\\Lib\\site-packages\\scikeras\\wrappers.py:915: UserWarning: ``build_fn`` will be renamed to ``model`` in a future release, at which point use of ``build_fn`` will raise an Error instead.\n",
      "  X, y = self._initialize(X, y)\n",
      "c:\\Users\\Andreas Christianto\\AppData\\Local\\Programs\\Python\\Python311\\Lib\\site-packages\\scikeras\\wrappers.py:915: UserWarning: ``build_fn`` will be renamed to ``model`` in a future release, at which point use of ``build_fn`` will raise an Error instead.\n",
      "  X, y = self._initialize(X, y)\n",
      "c:\\Users\\Andreas Christianto\\AppData\\Local\\Programs\\Python\\Python311\\Lib\\site-packages\\scikeras\\wrappers.py:915: UserWarning: ``build_fn`` will be renamed to ``model`` in a future release, at which point use of ``build_fn`` will raise an Error instead.\n",
      "  X, y = self._initialize(X, y)\n",
      "c:\\Users\\Andreas Christianto\\AppData\\Local\\Programs\\Python\\Python311\\Lib\\site-packages\\scikeras\\wrappers.py:915: UserWarning: ``build_fn`` will be renamed to ``model`` in a future release, at which point use of ``build_fn`` will raise an Error instead.\n",
      "  X, y = self._initialize(X, y)\n",
      "c:\\Users\\Andreas Christianto\\AppData\\Local\\Programs\\Python\\Python311\\Lib\\site-packages\\scikeras\\wrappers.py:915: UserWarning: ``build_fn`` will be renamed to ``model`` in a future release, at which point use of ``build_fn`` will raise an Error instead.\n",
      "  X, y = self._initialize(X, y)\n",
      "c:\\Users\\Andreas Christianto\\AppData\\Local\\Programs\\Python\\Python311\\Lib\\site-packages\\scikeras\\wrappers.py:915: UserWarning: ``build_fn`` will be renamed to ``model`` in a future release, at which point use of ``build_fn`` will raise an Error instead.\n",
      "  X, y = self._initialize(X, y)\n",
      "c:\\Users\\Andreas Christianto\\AppData\\Local\\Programs\\Python\\Python311\\Lib\\site-packages\\scikeras\\wrappers.py:915: UserWarning: ``build_fn`` will be renamed to ``model`` in a future release, at which point use of ``build_fn`` will raise an Error instead.\n",
      "  X, y = self._initialize(X, y)\n",
      "c:\\Users\\Andreas Christianto\\AppData\\Local\\Programs\\Python\\Python311\\Lib\\site-packages\\scikeras\\wrappers.py:915: UserWarning: ``build_fn`` will be renamed to ``model`` in a future release, at which point use of ``build_fn`` will raise an Error instead.\n",
      "  X, y = self._initialize(X, y)\n",
      "c:\\Users\\Andreas Christianto\\AppData\\Local\\Programs\\Python\\Python311\\Lib\\site-packages\\scikeras\\wrappers.py:915: UserWarning: ``build_fn`` will be renamed to ``model`` in a future release, at which point use of ``build_fn`` will raise an Error instead.\n",
      "  X, y = self._initialize(X, y)\n",
      "c:\\Users\\Andreas Christianto\\AppData\\Local\\Programs\\Python\\Python311\\Lib\\site-packages\\scikeras\\wrappers.py:915: UserWarning: ``build_fn`` will be renamed to ``model`` in a future release, at which point use of ``build_fn`` will raise an Error instead.\n",
      "  X, y = self._initialize(X, y)\n",
      "c:\\Users\\Andreas Christianto\\AppData\\Local\\Programs\\Python\\Python311\\Lib\\site-packages\\scikeras\\wrappers.py:915: UserWarning: ``build_fn`` will be renamed to ``model`` in a future release, at which point use of ``build_fn`` will raise an Error instead.\n",
      "  X, y = self._initialize(X, y)\n",
      "c:\\Users\\Andreas Christianto\\AppData\\Local\\Programs\\Python\\Python311\\Lib\\site-packages\\scikeras\\wrappers.py:915: UserWarning: ``build_fn`` will be renamed to ``model`` in a future release, at which point use of ``build_fn`` will raise an Error instead.\n",
      "  X, y = self._initialize(X, y)\n",
      "c:\\Users\\Andreas Christianto\\AppData\\Local\\Programs\\Python\\Python311\\Lib\\site-packages\\scikeras\\wrappers.py:915: UserWarning: ``build_fn`` will be renamed to ``model`` in a future release, at which point use of ``build_fn`` will raise an Error instead.\n",
      "  X, y = self._initialize(X, y)\n",
      "c:\\Users\\Andreas Christianto\\AppData\\Local\\Programs\\Python\\Python311\\Lib\\site-packages\\scikeras\\wrappers.py:915: UserWarning: ``build_fn`` will be renamed to ``model`` in a future release, at which point use of ``build_fn`` will raise an Error instead.\n",
      "  X, y = self._initialize(X, y)\n",
      "c:\\Users\\Andreas Christianto\\AppData\\Local\\Programs\\Python\\Python311\\Lib\\site-packages\\scikeras\\wrappers.py:915: UserWarning: ``build_fn`` will be renamed to ``model`` in a future release, at which point use of ``build_fn`` will raise an Error instead.\n",
      "  X, y = self._initialize(X, y)\n",
      "c:\\Users\\Andreas Christianto\\AppData\\Local\\Programs\\Python\\Python311\\Lib\\site-packages\\scikeras\\wrappers.py:915: UserWarning: ``build_fn`` will be renamed to ``model`` in a future release, at which point use of ``build_fn`` will raise an Error instead.\n",
      "  X, y = self._initialize(X, y)\n",
      "c:\\Users\\Andreas Christianto\\AppData\\Local\\Programs\\Python\\Python311\\Lib\\site-packages\\scikeras\\wrappers.py:915: UserWarning: ``build_fn`` will be renamed to ``model`` in a future release, at which point use of ``build_fn`` will raise an Error instead.\n",
      "  X, y = self._initialize(X, y)\n",
      "c:\\Users\\Andreas Christianto\\AppData\\Local\\Programs\\Python\\Python311\\Lib\\site-packages\\scikeras\\wrappers.py:915: UserWarning: ``build_fn`` will be renamed to ``model`` in a future release, at which point use of ``build_fn`` will raise an Error instead.\n",
      "  X, y = self._initialize(X, y)\n",
      "c:\\Users\\Andreas Christianto\\AppData\\Local\\Programs\\Python\\Python311\\Lib\\site-packages\\scikeras\\wrappers.py:915: UserWarning: ``build_fn`` will be renamed to ``model`` in a future release, at which point use of ``build_fn`` will raise an Error instead.\n",
      "  X, y = self._initialize(X, y)\n",
      "c:\\Users\\Andreas Christianto\\AppData\\Local\\Programs\\Python\\Python311\\Lib\\site-packages\\scikeras\\wrappers.py:915: UserWarning: ``build_fn`` will be renamed to ``model`` in a future release, at which point use of ``build_fn`` will raise an Error instead.\n",
      "  X, y = self._initialize(X, y)\n",
      "c:\\Users\\Andreas Christianto\\AppData\\Local\\Programs\\Python\\Python311\\Lib\\site-packages\\scikeras\\wrappers.py:915: UserWarning: ``build_fn`` will be renamed to ``model`` in a future release, at which point use of ``build_fn`` will raise an Error instead.\n",
      "  X, y = self._initialize(X, y)\n",
      "c:\\Users\\Andreas Christianto\\AppData\\Local\\Programs\\Python\\Python311\\Lib\\site-packages\\scikeras\\wrappers.py:915: UserWarning: ``build_fn`` will be renamed to ``model`` in a future release, at which point use of ``build_fn`` will raise an Error instead.\n",
      "  X, y = self._initialize(X, y)\n",
      "c:\\Users\\Andreas Christianto\\AppData\\Local\\Programs\\Python\\Python311\\Lib\\site-packages\\scikeras\\wrappers.py:915: UserWarning: ``build_fn`` will be renamed to ``model`` in a future release, at which point use of ``build_fn`` will raise an Error instead.\n",
      "  X, y = self._initialize(X, y)\n",
      "c:\\Users\\Andreas Christianto\\AppData\\Local\\Programs\\Python\\Python311\\Lib\\site-packages\\scikeras\\wrappers.py:915: UserWarning: ``build_fn`` will be renamed to ``model`` in a future release, at which point use of ``build_fn`` will raise an Error instead.\n",
      "  X, y = self._initialize(X, y)\n",
      "c:\\Users\\Andreas Christianto\\AppData\\Local\\Programs\\Python\\Python311\\Lib\\site-packages\\scikeras\\wrappers.py:915: UserWarning: ``build_fn`` will be renamed to ``model`` in a future release, at which point use of ``build_fn`` will raise an Error instead.\n",
      "  X, y = self._initialize(X, y)\n",
      "c:\\Users\\Andreas Christianto\\AppData\\Local\\Programs\\Python\\Python311\\Lib\\site-packages\\scikeras\\wrappers.py:915: UserWarning: ``build_fn`` will be renamed to ``model`` in a future release, at which point use of ``build_fn`` will raise an Error instead.\n",
      "  X, y = self._initialize(X, y)\n",
      "c:\\Users\\Andreas Christianto\\AppData\\Local\\Programs\\Python\\Python311\\Lib\\site-packages\\scikeras\\wrappers.py:915: UserWarning: ``build_fn`` will be renamed to ``model`` in a future release, at which point use of ``build_fn`` will raise an Error instead.\n",
      "  X, y = self._initialize(X, y)\n",
      "c:\\Users\\Andreas Christianto\\AppData\\Local\\Programs\\Python\\Python311\\Lib\\site-packages\\scikeras\\wrappers.py:915: UserWarning: ``build_fn`` will be renamed to ``model`` in a future release, at which point use of ``build_fn`` will raise an Error instead.\n",
      "  X, y = self._initialize(X, y)\n",
      "c:\\Users\\Andreas Christianto\\AppData\\Local\\Programs\\Python\\Python311\\Lib\\site-packages\\scikeras\\wrappers.py:915: UserWarning: ``build_fn`` will be renamed to ``model`` in a future release, at which point use of ``build_fn`` will raise an Error instead.\n",
      "  X, y = self._initialize(X, y)\n",
      "c:\\Users\\Andreas Christianto\\AppData\\Local\\Programs\\Python\\Python311\\Lib\\site-packages\\scikeras\\wrappers.py:915: UserWarning: ``build_fn`` will be renamed to ``model`` in a future release, at which point use of ``build_fn`` will raise an Error instead.\n",
      "  X, y = self._initialize(X, y)\n",
      "c:\\Users\\Andreas Christianto\\AppData\\Local\\Programs\\Python\\Python311\\Lib\\site-packages\\scikeras\\wrappers.py:915: UserWarning: ``build_fn`` will be renamed to ``model`` in a future release, at which point use of ``build_fn`` will raise an Error instead.\n",
      "  X, y = self._initialize(X, y)\n",
      "c:\\Users\\Andreas Christianto\\AppData\\Local\\Programs\\Python\\Python311\\Lib\\site-packages\\scikeras\\wrappers.py:915: UserWarning: ``build_fn`` will be renamed to ``model`` in a future release, at which point use of ``build_fn`` will raise an Error instead.\n",
      "  X, y = self._initialize(X, y)\n",
      "c:\\Users\\Andreas Christianto\\AppData\\Local\\Programs\\Python\\Python311\\Lib\\site-packages\\scikeras\\wrappers.py:915: UserWarning: ``build_fn`` will be renamed to ``model`` in a future release, at which point use of ``build_fn`` will raise an Error instead.\n",
      "  X, y = self._initialize(X, y)\n",
      "c:\\Users\\Andreas Christianto\\AppData\\Local\\Programs\\Python\\Python311\\Lib\\site-packages\\scikeras\\wrappers.py:915: UserWarning: ``build_fn`` will be renamed to ``model`` in a future release, at which point use of ``build_fn`` will raise an Error instead.\n",
      "  X, y = self._initialize(X, y)\n",
      "c:\\Users\\Andreas Christianto\\AppData\\Local\\Programs\\Python\\Python311\\Lib\\site-packages\\scikeras\\wrappers.py:915: UserWarning: ``build_fn`` will be renamed to ``model`` in a future release, at which point use of ``build_fn`` will raise an Error instead.\n",
      "  X, y = self._initialize(X, y)\n",
      "c:\\Users\\Andreas Christianto\\AppData\\Local\\Programs\\Python\\Python311\\Lib\\site-packages\\scikeras\\wrappers.py:915: UserWarning: ``build_fn`` will be renamed to ``model`` in a future release, at which point use of ``build_fn`` will raise an Error instead.\n",
      "  X, y = self._initialize(X, y)\n",
      "c:\\Users\\Andreas Christianto\\AppData\\Local\\Programs\\Python\\Python311\\Lib\\site-packages\\scikeras\\wrappers.py:915: UserWarning: ``build_fn`` will be renamed to ``model`` in a future release, at which point use of ``build_fn`` will raise an Error instead.\n",
      "  X, y = self._initialize(X, y)\n",
      "c:\\Users\\Andreas Christianto\\AppData\\Local\\Programs\\Python\\Python311\\Lib\\site-packages\\scikeras\\wrappers.py:915: UserWarning: ``build_fn`` will be renamed to ``model`` in a future release, at which point use of ``build_fn`` will raise an Error instead.\n",
      "  X, y = self._initialize(X, y)\n",
      "c:\\Users\\Andreas Christianto\\AppData\\Local\\Programs\\Python\\Python311\\Lib\\site-packages\\scikeras\\wrappers.py:915: UserWarning: ``build_fn`` will be renamed to ``model`` in a future release, at which point use of ``build_fn`` will raise an Error instead.\n",
      "  X, y = self._initialize(X, y)\n",
      "c:\\Users\\Andreas Christianto\\AppData\\Local\\Programs\\Python\\Python311\\Lib\\site-packages\\scikeras\\wrappers.py:915: UserWarning: ``build_fn`` will be renamed to ``model`` in a future release, at which point use of ``build_fn`` will raise an Error instead.\n",
      "  X, y = self._initialize(X, y)\n",
      "c:\\Users\\Andreas Christianto\\AppData\\Local\\Programs\\Python\\Python311\\Lib\\site-packages\\scikeras\\wrappers.py:915: UserWarning: ``build_fn`` will be renamed to ``model`` in a future release, at which point use of ``build_fn`` will raise an Error instead.\n",
      "  X, y = self._initialize(X, y)\n",
      "c:\\Users\\Andreas Christianto\\AppData\\Local\\Programs\\Python\\Python311\\Lib\\site-packages\\scikeras\\wrappers.py:915: UserWarning: ``build_fn`` will be renamed to ``model`` in a future release, at which point use of ``build_fn`` will raise an Error instead.\n",
      "  X, y = self._initialize(X, y)\n",
      "c:\\Users\\Andreas Christianto\\AppData\\Local\\Programs\\Python\\Python311\\Lib\\site-packages\\scikeras\\wrappers.py:915: UserWarning: ``build_fn`` will be renamed to ``model`` in a future release, at which point use of ``build_fn`` will raise an Error instead.\n",
      "  X, y = self._initialize(X, y)\n",
      "c:\\Users\\Andreas Christianto\\AppData\\Local\\Programs\\Python\\Python311\\Lib\\site-packages\\scikeras\\wrappers.py:915: UserWarning: ``build_fn`` will be renamed to ``model`` in a future release, at which point use of ``build_fn`` will raise an Error instead.\n",
      "  X, y = self._initialize(X, y)\n",
      "c:\\Users\\Andreas Christianto\\AppData\\Local\\Programs\\Python\\Python311\\Lib\\site-packages\\scikeras\\wrappers.py:915: UserWarning: ``build_fn`` will be renamed to ``model`` in a future release, at which point use of ``build_fn`` will raise an Error instead.\n",
      "  X, y = self._initialize(X, y)\n",
      "c:\\Users\\Andreas Christianto\\AppData\\Local\\Programs\\Python\\Python311\\Lib\\site-packages\\scikeras\\wrappers.py:915: UserWarning: ``build_fn`` will be renamed to ``model`` in a future release, at which point use of ``build_fn`` will raise an Error instead.\n",
      "  X, y = self._initialize(X, y)\n",
      "c:\\Users\\Andreas Christianto\\AppData\\Local\\Programs\\Python\\Python311\\Lib\\site-packages\\scikeras\\wrappers.py:915: UserWarning: ``build_fn`` will be renamed to ``model`` in a future release, at which point use of ``build_fn`` will raise an Error instead.\n",
      "  X, y = self._initialize(X, y)\n",
      "c:\\Users\\Andreas Christianto\\AppData\\Local\\Programs\\Python\\Python311\\Lib\\site-packages\\scikeras\\wrappers.py:915: UserWarning: ``build_fn`` will be renamed to ``model`` in a future release, at which point use of ``build_fn`` will raise an Error instead.\n",
      "  X, y = self._initialize(X, y)\n",
      "c:\\Users\\Andreas Christianto\\AppData\\Local\\Programs\\Python\\Python311\\Lib\\site-packages\\scikeras\\wrappers.py:915: UserWarning: ``build_fn`` will be renamed to ``model`` in a future release, at which point use of ``build_fn`` will raise an Error instead.\n",
      "  X, y = self._initialize(X, y)\n",
      "c:\\Users\\Andreas Christianto\\AppData\\Local\\Programs\\Python\\Python311\\Lib\\site-packages\\scikeras\\wrappers.py:915: UserWarning: ``build_fn`` will be renamed to ``model`` in a future release, at which point use of ``build_fn`` will raise an Error instead.\n",
      "  X, y = self._initialize(X, y)\n",
      "c:\\Users\\Andreas Christianto\\AppData\\Local\\Programs\\Python\\Python311\\Lib\\site-packages\\scikeras\\wrappers.py:915: UserWarning: ``build_fn`` will be renamed to ``model`` in a future release, at which point use of ``build_fn`` will raise an Error instead.\n",
      "  X, y = self._initialize(X, y)\n",
      "c:\\Users\\Andreas Christianto\\AppData\\Local\\Programs\\Python\\Python311\\Lib\\site-packages\\scikeras\\wrappers.py:915: UserWarning: ``build_fn`` will be renamed to ``model`` in a future release, at which point use of ``build_fn`` will raise an Error instead.\n",
      "  X, y = self._initialize(X, y)\n",
      "c:\\Users\\Andreas Christianto\\AppData\\Local\\Programs\\Python\\Python311\\Lib\\site-packages\\scikeras\\wrappers.py:915: UserWarning: ``build_fn`` will be renamed to ``model`` in a future release, at which point use of ``build_fn`` will raise an Error instead.\n",
      "  X, y = self._initialize(X, y)\n",
      "c:\\Users\\Andreas Christianto\\AppData\\Local\\Programs\\Python\\Python311\\Lib\\site-packages\\scikeras\\wrappers.py:915: UserWarning: ``build_fn`` will be renamed to ``model`` in a future release, at which point use of ``build_fn`` will raise an Error instead.\n",
      "  X, y = self._initialize(X, y)\n",
      "c:\\Users\\Andreas Christianto\\AppData\\Local\\Programs\\Python\\Python311\\Lib\\site-packages\\scikeras\\wrappers.py:915: UserWarning: ``build_fn`` will be renamed to ``model`` in a future release, at which point use of ``build_fn`` will raise an Error instead.\n",
      "  X, y = self._initialize(X, y)\n",
      "c:\\Users\\Andreas Christianto\\AppData\\Local\\Programs\\Python\\Python311\\Lib\\site-packages\\scikeras\\wrappers.py:915: UserWarning: ``build_fn`` will be renamed to ``model`` in a future release, at which point use of ``build_fn`` will raise an Error instead.\n",
      "  X, y = self._initialize(X, y)\n",
      "c:\\Users\\Andreas Christianto\\AppData\\Local\\Programs\\Python\\Python311\\Lib\\site-packages\\scikeras\\wrappers.py:915: UserWarning: ``build_fn`` will be renamed to ``model`` in a future release, at which point use of ``build_fn`` will raise an Error instead.\n",
      "  X, y = self._initialize(X, y)\n",
      "c:\\Users\\Andreas Christianto\\AppData\\Local\\Programs\\Python\\Python311\\Lib\\site-packages\\scikeras\\wrappers.py:915: UserWarning: ``build_fn`` will be renamed to ``model`` in a future release, at which point use of ``build_fn`` will raise an Error instead.\n",
      "  X, y = self._initialize(X, y)\n",
      "c:\\Users\\Andreas Christianto\\AppData\\Local\\Programs\\Python\\Python311\\Lib\\site-packages\\scikeras\\wrappers.py:915: UserWarning: ``build_fn`` will be renamed to ``model`` in a future release, at which point use of ``build_fn`` will raise an Error instead.\n",
      "  X, y = self._initialize(X, y)\n",
      "c:\\Users\\Andreas Christianto\\AppData\\Local\\Programs\\Python\\Python311\\Lib\\site-packages\\scikeras\\wrappers.py:915: UserWarning: ``build_fn`` will be renamed to ``model`` in a future release, at which point use of ``build_fn`` will raise an Error instead.\n",
      "  X, y = self._initialize(X, y)\n",
      "c:\\Users\\Andreas Christianto\\AppData\\Local\\Programs\\Python\\Python311\\Lib\\site-packages\\scikeras\\wrappers.py:915: UserWarning: ``build_fn`` will be renamed to ``model`` in a future release, at which point use of ``build_fn`` will raise an Error instead.\n",
      "  X, y = self._initialize(X, y)\n",
      "c:\\Users\\Andreas Christianto\\AppData\\Local\\Programs\\Python\\Python311\\Lib\\site-packages\\scikeras\\wrappers.py:915: UserWarning: ``build_fn`` will be renamed to ``model`` in a future release, at which point use of ``build_fn`` will raise an Error instead.\n",
      "  X, y = self._initialize(X, y)\n",
      "c:\\Users\\Andreas Christianto\\AppData\\Local\\Programs\\Python\\Python311\\Lib\\site-packages\\scikeras\\wrappers.py:915: UserWarning: ``build_fn`` will be renamed to ``model`` in a future release, at which point use of ``build_fn`` will raise an Error instead.\n",
      "  X, y = self._initialize(X, y)\n",
      "c:\\Users\\Andreas Christianto\\AppData\\Local\\Programs\\Python\\Python311\\Lib\\site-packages\\scikeras\\wrappers.py:915: UserWarning: ``build_fn`` will be renamed to ``model`` in a future release, at which point use of ``build_fn`` will raise an Error instead.\n",
      "  X, y = self._initialize(X, y)\n",
      "c:\\Users\\Andreas Christianto\\AppData\\Local\\Programs\\Python\\Python311\\Lib\\site-packages\\scikeras\\wrappers.py:915: UserWarning: ``build_fn`` will be renamed to ``model`` in a future release, at which point use of ``build_fn`` will raise an Error instead.\n",
      "  X, y = self._initialize(X, y)\n",
      "c:\\Users\\Andreas Christianto\\AppData\\Local\\Programs\\Python\\Python311\\Lib\\site-packages\\scikeras\\wrappers.py:915: UserWarning: ``build_fn`` will be renamed to ``model`` in a future release, at which point use of ``build_fn`` will raise an Error instead.\n",
      "  X, y = self._initialize(X, y)\n",
      "c:\\Users\\Andreas Christianto\\AppData\\Local\\Programs\\Python\\Python311\\Lib\\site-packages\\scikeras\\wrappers.py:915: UserWarning: ``build_fn`` will be renamed to ``model`` in a future release, at which point use of ``build_fn`` will raise an Error instead.\n",
      "  X, y = self._initialize(X, y)\n",
      "c:\\Users\\Andreas Christianto\\AppData\\Local\\Programs\\Python\\Python311\\Lib\\site-packages\\scikeras\\wrappers.py:915: UserWarning: ``build_fn`` will be renamed to ``model`` in a future release, at which point use of ``build_fn`` will raise an Error instead.\n",
      "  X, y = self._initialize(X, y)\n",
      "c:\\Users\\Andreas Christianto\\AppData\\Local\\Programs\\Python\\Python311\\Lib\\site-packages\\scikeras\\wrappers.py:915: UserWarning: ``build_fn`` will be renamed to ``model`` in a future release, at which point use of ``build_fn`` will raise an Error instead.\n",
      "  X, y = self._initialize(X, y)\n",
      "c:\\Users\\Andreas Christianto\\AppData\\Local\\Programs\\Python\\Python311\\Lib\\site-packages\\scikeras\\wrappers.py:915: UserWarning: ``build_fn`` will be renamed to ``model`` in a future release, at which point use of ``build_fn`` will raise an Error instead.\n",
      "  X, y = self._initialize(X, y)\n",
      "c:\\Users\\Andreas Christianto\\AppData\\Local\\Programs\\Python\\Python311\\Lib\\site-packages\\scikeras\\wrappers.py:915: UserWarning: ``build_fn`` will be renamed to ``model`` in a future release, at which point use of ``build_fn`` will raise an Error instead.\n",
      "  X, y = self._initialize(X, y)\n",
      "c:\\Users\\Andreas Christianto\\AppData\\Local\\Programs\\Python\\Python311\\Lib\\site-packages\\scikeras\\wrappers.py:915: UserWarning: ``build_fn`` will be renamed to ``model`` in a future release, at which point use of ``build_fn`` will raise an Error instead.\n",
      "  X, y = self._initialize(X, y)\n",
      "c:\\Users\\Andreas Christianto\\AppData\\Local\\Programs\\Python\\Python311\\Lib\\site-packages\\scikeras\\wrappers.py:915: UserWarning: ``build_fn`` will be renamed to ``model`` in a future release, at which point use of ``build_fn`` will raise an Error instead.\n",
      "  X, y = self._initialize(X, y)\n",
      "c:\\Users\\Andreas Christianto\\AppData\\Local\\Programs\\Python\\Python311\\Lib\\site-packages\\scikeras\\wrappers.py:915: UserWarning: ``build_fn`` will be renamed to ``model`` in a future release, at which point use of ``build_fn`` will raise an Error instead.\n",
      "  X, y = self._initialize(X, y)\n",
      "c:\\Users\\Andreas Christianto\\AppData\\Local\\Programs\\Python\\Python311\\Lib\\site-packages\\scikeras\\wrappers.py:915: UserWarning: ``build_fn`` will be renamed to ``model`` in a future release, at which point use of ``build_fn`` will raise an Error instead.\n",
      "  X, y = self._initialize(X, y)\n",
      "c:\\Users\\Andreas Christianto\\AppData\\Local\\Programs\\Python\\Python311\\Lib\\site-packages\\scikeras\\wrappers.py:915: UserWarning: ``build_fn`` will be renamed to ``model`` in a future release, at which point use of ``build_fn`` will raise an Error instead.\n",
      "  X, y = self._initialize(X, y)\n",
      "c:\\Users\\Andreas Christianto\\AppData\\Local\\Programs\\Python\\Python311\\Lib\\site-packages\\scikeras\\wrappers.py:915: UserWarning: ``build_fn`` will be renamed to ``model`` in a future release, at which point use of ``build_fn`` will raise an Error instead.\n",
      "  X, y = self._initialize(X, y)\n",
      "c:\\Users\\Andreas Christianto\\AppData\\Local\\Programs\\Python\\Python311\\Lib\\site-packages\\scikeras\\wrappers.py:915: UserWarning: ``build_fn`` will be renamed to ``model`` in a future release, at which point use of ``build_fn`` will raise an Error instead.\n",
      "  X, y = self._initialize(X, y)\n",
      "c:\\Users\\Andreas Christianto\\AppData\\Local\\Programs\\Python\\Python311\\Lib\\site-packages\\scikeras\\wrappers.py:915: UserWarning: ``build_fn`` will be renamed to ``model`` in a future release, at which point use of ``build_fn`` will raise an Error instead.\n",
      "  X, y = self._initialize(X, y)\n",
      "c:\\Users\\Andreas Christianto\\AppData\\Local\\Programs\\Python\\Python311\\Lib\\site-packages\\scikeras\\wrappers.py:915: UserWarning: ``build_fn`` will be renamed to ``model`` in a future release, at which point use of ``build_fn`` will raise an Error instead.\n",
      "  X, y = self._initialize(X, y)\n",
      "c:\\Users\\Andreas Christianto\\AppData\\Local\\Programs\\Python\\Python311\\Lib\\site-packages\\scikeras\\wrappers.py:915: UserWarning: ``build_fn`` will be renamed to ``model`` in a future release, at which point use of ``build_fn`` will raise an Error instead.\n",
      "  X, y = self._initialize(X, y)\n",
      "c:\\Users\\Andreas Christianto\\AppData\\Local\\Programs\\Python\\Python311\\Lib\\site-packages\\scikeras\\wrappers.py:915: UserWarning: ``build_fn`` will be renamed to ``model`` in a future release, at which point use of ``build_fn`` will raise an Error instead.\n",
      "  X, y = self._initialize(X, y)\n",
      "c:\\Users\\Andreas Christianto\\AppData\\Local\\Programs\\Python\\Python311\\Lib\\site-packages\\scikeras\\wrappers.py:915: UserWarning: ``build_fn`` will be renamed to ``model`` in a future release, at which point use of ``build_fn`` will raise an Error instead.\n",
      "  X, y = self._initialize(X, y)\n",
      "c:\\Users\\Andreas Christianto\\AppData\\Local\\Programs\\Python\\Python311\\Lib\\site-packages\\scikeras\\wrappers.py:915: UserWarning: ``build_fn`` will be renamed to ``model`` in a future release, at which point use of ``build_fn`` will raise an Error instead.\n",
      "  X, y = self._initialize(X, y)\n",
      "c:\\Users\\Andreas Christianto\\AppData\\Local\\Programs\\Python\\Python311\\Lib\\site-packages\\scikeras\\wrappers.py:915: UserWarning: ``build_fn`` will be renamed to ``model`` in a future release, at which point use of ``build_fn`` will raise an Error instead.\n",
      "  X, y = self._initialize(X, y)\n",
      "c:\\Users\\Andreas Christianto\\AppData\\Local\\Programs\\Python\\Python311\\Lib\\site-packages\\scikeras\\wrappers.py:915: UserWarning: ``build_fn`` will be renamed to ``model`` in a future release, at which point use of ``build_fn`` will raise an Error instead.\n",
      "  X, y = self._initialize(X, y)\n",
      "c:\\Users\\Andreas Christianto\\AppData\\Local\\Programs\\Python\\Python311\\Lib\\site-packages\\scikeras\\wrappers.py:915: UserWarning: ``build_fn`` will be renamed to ``model`` in a future release, at which point use of ``build_fn`` will raise an Error instead.\n",
      "  X, y = self._initialize(X, y)\n",
      "c:\\Users\\Andreas Christianto\\AppData\\Local\\Programs\\Python\\Python311\\Lib\\site-packages\\scikeras\\wrappers.py:915: UserWarning: ``build_fn`` will be renamed to ``model`` in a future release, at which point use of ``build_fn`` will raise an Error instead.\n",
      "  X, y = self._initialize(X, y)\n",
      "c:\\Users\\Andreas Christianto\\AppData\\Local\\Programs\\Python\\Python311\\Lib\\site-packages\\scikeras\\wrappers.py:915: UserWarning: ``build_fn`` will be renamed to ``model`` in a future release, at which point use of ``build_fn`` will raise an Error instead.\n",
      "  X, y = self._initialize(X, y)\n",
      "c:\\Users\\Andreas Christianto\\AppData\\Local\\Programs\\Python\\Python311\\Lib\\site-packages\\scikeras\\wrappers.py:915: UserWarning: ``build_fn`` will be renamed to ``model`` in a future release, at which point use of ``build_fn`` will raise an Error instead.\n",
      "  X, y = self._initialize(X, y)\n",
      "c:\\Users\\Andreas Christianto\\AppData\\Local\\Programs\\Python\\Python311\\Lib\\site-packages\\scikeras\\wrappers.py:915: UserWarning: ``build_fn`` will be renamed to ``model`` in a future release, at which point use of ``build_fn`` will raise an Error instead.\n",
      "  X, y = self._initialize(X, y)\n",
      "c:\\Users\\Andreas Christianto\\AppData\\Local\\Programs\\Python\\Python311\\Lib\\site-packages\\scikeras\\wrappers.py:915: UserWarning: ``build_fn`` will be renamed to ``model`` in a future release, at which point use of ``build_fn`` will raise an Error instead.\n",
      "  X, y = self._initialize(X, y)\n",
      "c:\\Users\\Andreas Christianto\\AppData\\Local\\Programs\\Python\\Python311\\Lib\\site-packages\\scikeras\\wrappers.py:915: UserWarning: ``build_fn`` will be renamed to ``model`` in a future release, at which point use of ``build_fn`` will raise an Error instead.\n",
      "  X, y = self._initialize(X, y)\n",
      "c:\\Users\\Andreas Christianto\\AppData\\Local\\Programs\\Python\\Python311\\Lib\\site-packages\\scikeras\\wrappers.py:915: UserWarning: ``build_fn`` will be renamed to ``model`` in a future release, at which point use of ``build_fn`` will raise an Error instead.\n",
      "  X, y = self._initialize(X, y)\n",
      "c:\\Users\\Andreas Christianto\\AppData\\Local\\Programs\\Python\\Python311\\Lib\\site-packages\\scikeras\\wrappers.py:915: UserWarning: ``build_fn`` will be renamed to ``model`` in a future release, at which point use of ``build_fn`` will raise an Error instead.\n",
      "  X, y = self._initialize(X, y)\n",
      "c:\\Users\\Andreas Christianto\\AppData\\Local\\Programs\\Python\\Python311\\Lib\\site-packages\\scikeras\\wrappers.py:915: UserWarning: ``build_fn`` will be renamed to ``model`` in a future release, at which point use of ``build_fn`` will raise an Error instead.\n",
      "  X, y = self._initialize(X, y)\n",
      "c:\\Users\\Andreas Christianto\\AppData\\Local\\Programs\\Python\\Python311\\Lib\\site-packages\\scikeras\\wrappers.py:915: UserWarning: ``build_fn`` will be renamed to ``model`` in a future release, at which point use of ``build_fn`` will raise an Error instead.\n",
      "  X, y = self._initialize(X, y)\n",
      "c:\\Users\\Andreas Christianto\\AppData\\Local\\Programs\\Python\\Python311\\Lib\\site-packages\\scikeras\\wrappers.py:915: UserWarning: ``build_fn`` will be renamed to ``model`` in a future release, at which point use of ``build_fn`` will raise an Error instead.\n",
      "  X, y = self._initialize(X, y)\n",
      "c:\\Users\\Andreas Christianto\\AppData\\Local\\Programs\\Python\\Python311\\Lib\\site-packages\\scikeras\\wrappers.py:915: UserWarning: ``build_fn`` will be renamed to ``model`` in a future release, at which point use of ``build_fn`` will raise an Error instead.\n",
      "  X, y = self._initialize(X, y)\n",
      "c:\\Users\\Andreas Christianto\\AppData\\Local\\Programs\\Python\\Python311\\Lib\\site-packages\\scikeras\\wrappers.py:915: UserWarning: ``build_fn`` will be renamed to ``model`` in a future release, at which point use of ``build_fn`` will raise an Error instead.\n",
      "  X, y = self._initialize(X, y)\n",
      "c:\\Users\\Andreas Christianto\\AppData\\Local\\Programs\\Python\\Python311\\Lib\\site-packages\\scikeras\\wrappers.py:915: UserWarning: ``build_fn`` will be renamed to ``model`` in a future release, at which point use of ``build_fn`` will raise an Error instead.\n",
      "  X, y = self._initialize(X, y)\n",
      "c:\\Users\\Andreas Christianto\\AppData\\Local\\Programs\\Python\\Python311\\Lib\\site-packages\\scikeras\\wrappers.py:915: UserWarning: ``build_fn`` will be renamed to ``model`` in a future release, at which point use of ``build_fn`` will raise an Error instead.\n",
      "  X, y = self._initialize(X, y)\n",
      "c:\\Users\\Andreas Christianto\\AppData\\Local\\Programs\\Python\\Python311\\Lib\\site-packages\\scikeras\\wrappers.py:915: UserWarning: ``build_fn`` will be renamed to ``model`` in a future release, at which point use of ``build_fn`` will raise an Error instead.\n",
      "  X, y = self._initialize(X, y)\n",
      "c:\\Users\\Andreas Christianto\\AppData\\Local\\Programs\\Python\\Python311\\Lib\\site-packages\\scikeras\\wrappers.py:915: UserWarning: ``build_fn`` will be renamed to ``model`` in a future release, at which point use of ``build_fn`` will raise an Error instead.\n",
      "  X, y = self._initialize(X, y)\n",
      "c:\\Users\\Andreas Christianto\\AppData\\Local\\Programs\\Python\\Python311\\Lib\\site-packages\\scikeras\\wrappers.py:915: UserWarning: ``build_fn`` will be renamed to ``model`` in a future release, at which point use of ``build_fn`` will raise an Error instead.\n",
      "  X, y = self._initialize(X, y)\n",
      "c:\\Users\\Andreas Christianto\\AppData\\Local\\Programs\\Python\\Python311\\Lib\\site-packages\\scikeras\\wrappers.py:915: UserWarning: ``build_fn`` will be renamed to ``model`` in a future release, at which point use of ``build_fn`` will raise an Error instead.\n",
      "  X, y = self._initialize(X, y)\n",
      "c:\\Users\\Andreas Christianto\\AppData\\Local\\Programs\\Python\\Python311\\Lib\\site-packages\\scikeras\\wrappers.py:915: UserWarning: ``build_fn`` will be renamed to ``model`` in a future release, at which point use of ``build_fn`` will raise an Error instead.\n",
      "  X, y = self._initialize(X, y)\n",
      "c:\\Users\\Andreas Christianto\\AppData\\Local\\Programs\\Python\\Python311\\Lib\\site-packages\\scikeras\\wrappers.py:915: UserWarning: ``build_fn`` will be renamed to ``model`` in a future release, at which point use of ``build_fn`` will raise an Error instead.\n",
      "  X, y = self._initialize(X, y)\n",
      "c:\\Users\\Andreas Christianto\\AppData\\Local\\Programs\\Python\\Python311\\Lib\\site-packages\\scikeras\\wrappers.py:915: UserWarning: ``build_fn`` will be renamed to ``model`` in a future release, at which point use of ``build_fn`` will raise an Error instead.\n",
      "  X, y = self._initialize(X, y)\n",
      "c:\\Users\\Andreas Christianto\\AppData\\Local\\Programs\\Python\\Python311\\Lib\\site-packages\\scikeras\\wrappers.py:915: UserWarning: ``build_fn`` will be renamed to ``model`` in a future release, at which point use of ``build_fn`` will raise an Error instead.\n",
      "  X, y = self._initialize(X, y)\n",
      "c:\\Users\\Andreas Christianto\\AppData\\Local\\Programs\\Python\\Python311\\Lib\\site-packages\\scikeras\\wrappers.py:915: UserWarning: ``build_fn`` will be renamed to ``model`` in a future release, at which point use of ``build_fn`` will raise an Error instead.\n",
      "  X, y = self._initialize(X, y)\n",
      "c:\\Users\\Andreas Christianto\\AppData\\Local\\Programs\\Python\\Python311\\Lib\\site-packages\\scikeras\\wrappers.py:915: UserWarning: ``build_fn`` will be renamed to ``model`` in a future release, at which point use of ``build_fn`` will raise an Error instead.\n",
      "  X, y = self._initialize(X, y)\n",
      "c:\\Users\\Andreas Christianto\\AppData\\Local\\Programs\\Python\\Python311\\Lib\\site-packages\\scikeras\\wrappers.py:915: UserWarning: ``build_fn`` will be renamed to ``model`` in a future release, at which point use of ``build_fn`` will raise an Error instead.\n",
      "  X, y = self._initialize(X, y)\n",
      "c:\\Users\\Andreas Christianto\\AppData\\Local\\Programs\\Python\\Python311\\Lib\\site-packages\\scikeras\\wrappers.py:915: UserWarning: ``build_fn`` will be renamed to ``model`` in a future release, at which point use of ``build_fn`` will raise an Error instead.\n",
      "  X, y = self._initialize(X, y)\n",
      "c:\\Users\\Andreas Christianto\\AppData\\Local\\Programs\\Python\\Python311\\Lib\\site-packages\\scikeras\\wrappers.py:915: UserWarning: ``build_fn`` will be renamed to ``model`` in a future release, at which point use of ``build_fn`` will raise an Error instead.\n",
      "  X, y = self._initialize(X, y)\n",
      "c:\\Users\\Andreas Christianto\\AppData\\Local\\Programs\\Python\\Python311\\Lib\\site-packages\\scikeras\\wrappers.py:915: UserWarning: ``build_fn`` will be renamed to ``model`` in a future release, at which point use of ``build_fn`` will raise an Error instead.\n",
      "  X, y = self._initialize(X, y)\n"
     ]
    }
   ],
   "source": [
    "grid_result = grid.fit(train_difference_vectors_scaled, train_labels)"
   ]
  },
  {
   "cell_type": "code",
   "execution_count": 17,
   "metadata": {},
   "outputs": [
    {
     "name": "stdout",
     "output_type": "stream",
     "text": [
      "Best: 0.762188 using {'batch_size': 16, 'epochs': 15, 'optimizer': 'rmsprop'}\n"
     ]
    }
   ],
   "source": [
    "print(\"Best: %f using %s\" % (grid_result.best_score_, grid_result.best_params_))"
   ]
  },
  {
   "cell_type": "markdown",
   "metadata": {},
   "source": [
    "### 4. Test"
   ]
  },
  {
   "cell_type": "code",
   "execution_count": 18,
   "metadata": {},
   "outputs": [
    {
     "name": "stdout",
     "output_type": "stream",
     "text": [
      "Accuracy on the test set: 0.8945454545454545\n"
     ]
    }
   ],
   "source": [
    "best_model = grid_result.best_estimator_\n",
    "accuracy = best_model.score(test_difference_vectors_scaled, test_labels)\n",
    "print(f\"Accuracy on the test set: {accuracy}\")"
   ]
  },
  {
   "cell_type": "markdown",
   "metadata": {},
   "source": [
    "### 5. ROC Curve"
   ]
  },
  {
   "cell_type": "code",
   "execution_count": 19,
   "metadata": {},
   "outputs": [],
   "source": [
    "from sklearn.metrics import roc_curve, auc\n",
    "import matplotlib.pyplot as plt"
   ]
  },
  {
   "cell_type": "code",
   "execution_count": 20,
   "metadata": {},
   "outputs": [
    {
     "data": {
      "image/png": "[encoded data removed]",
      "text/plain": [
       "<Figure size 800x800 with 1 Axes>"
      ]
     },
     "metadata": {},
     "output_type": "display_data"
    }
   ],
   "source": [
    "# Get predicted probabilities for each class on each dataset\n",
    "y_train_prob = best_model.predict_proba(train_difference_vectors_scaled)[:, 1]\n",
    "y_test_prob = best_model.predict_proba(test_difference_vectors_scaled)[:, 1]\n",
    "y_val_prob = best_model.predict_proba(validation_difference_vectors_scaled)[:, 1]\n",
    "\n",
    "fpr_test, tpr_test, _ = roc_curve(test_labels, y_test_prob)\n",
    "roc_auc_test = auc(fpr_test, tpr_test)\n",
    "fpr_train, tpr_train, _ = roc_curve(train_labels, y_train_prob)\n",
    "roc_auc_train = auc(fpr_train, tpr_train)\n",
    "fpr_val, tpr_val, _ = roc_curve(validation_labels, y_val_prob)\n",
    "roc_auc_val = auc(fpr_val, tpr_val)\n",
    "\n",
    "plt.figure(figsize=(8, 8))\n",
    "\n",
    "plt.plot(fpr_train, tpr_train, color='darkseagreen', lw=2, label=f'Train AUC = {roc_auc_train:.5f}')\n",
    "plt.plot(fpr_val, tpr_val, color='steelblue', lw=2, label=f'Validation AUC = {roc_auc_val:.5f}')\n",
    "# plt.plot(fpr_test, tpr_test, color='peru', lw=2, label=f'Test AUC = {roc_auc_test:.5f}')\n",
    "\n",
    "plt.plot([0, 1], [0, 1], 'k--')\n",
    "plt.xlabel('False Positive Rate')\n",
    "plt.ylabel('True Positive Rate')\n",
    "plt.title('ROC Curves - ANN')\n",
    "plt.legend()\n",
    "plt.show()"
   ]
  },
  {
   "cell_type": "code",
   "execution_count": 21,
   "metadata": {},
   "outputs": [
    {
     "data": {
      "image/png": "[encoded data removed]",
      "text/plain": [
       "<Figure size 800x800 with 1 Axes>"
      ]
     },
     "metadata": {},
     "output_type": "display_data"
    }
   ],
   "source": [
    "plt.figure(figsize=(8, 8))\n",
    "\n",
    "# plt.plot(fpr_train, tpr_train, color='darkseagreen', lw=2, label=f'Train AUC = {roc_auc_train:.5f}')\n",
    "# plt.plot(fpr_val, tpr_val, color='steelblue', lw=2, label=f'Validation AUC = {roc_auc_val:.5f}')\n",
    "plt.plot(fpr_test, tpr_test, color='peru', lw=2, label=f'Test AUC = {roc_auc_test:.5f}')\n",
    "\n",
    "plt.plot([0, 1], [0, 1], 'k--')\n",
    "plt.xlabel('False Positive Rate')\n",
    "plt.ylabel('True Positive Rate')\n",
    "plt.title('ROC Curves - ANN')\n",
    "plt.legend()\n",
    "plt.show()"
   ]
  },
  {
   "cell_type": "code",
   "execution_count": 22,
   "metadata": {},
   "outputs": [],
   "source": [
    "def find_tpr_at_fpr(fpr, tpr, target_fpr):\n",
    "    return np.interp(target_fpr, fpr, tpr)"
   ]
  },
  {
   "cell_type": "code",
   "execution_count": 23,
   "metadata": {},
   "outputs": [],
   "source": [
    "target_fprs = [0.1, 0.01, 0.001]\n",
    "tpr_at_target_fpr_train = [find_tpr_at_fpr(fpr_train, tpr_train, fpr) for fpr in target_fprs]\n",
    "tpr_at_target_fpr_test = [find_tpr_at_fpr(fpr_test, tpr_test, fpr) for fpr in target_fprs]\n",
    "tpr_at_target_fpr_val = [find_tpr_at_fpr(fpr_val, tpr_val, fpr) for fpr in target_fprs]"
   ]
  },
  {
   "cell_type": "code",
   "execution_count": 24,
   "metadata": {},
   "outputs": [
    {
     "name": "stdout",
     "output_type": "stream",
     "text": [
      "[0.    0.084 0.1   0.124 0.136 0.142 0.144 0.156 0.164 0.166 0.172 0.176\n",
      " 0.182 0.19  0.194 0.198 0.202 0.204 0.208 0.21  0.214 0.218 0.224 0.232\n",
      " 0.238 0.242 0.244 0.248 0.25  0.254 0.268 0.272 0.296 0.304 0.376 0.38\n",
      " 0.414 0.414 0.418 0.418 0.42  0.42  0.426 0.43  0.488 0.492 0.53  0.53\n",
      " 0.564 0.564 0.584 0.584 0.604 0.604 0.636 0.64  0.648 0.648 0.66  0.66\n",
      " 0.676 0.68  0.7   0.7   0.702 0.702 0.708 0.708 0.716 0.716 0.722 0.722\n",
      " 0.746 0.746 0.748 0.748 0.754 0.754 0.758 0.758 0.766 0.766 0.778 0.778\n",
      " 0.784 0.784 0.794 0.794 0.802 0.802 0.804 0.804 0.804 0.806 0.806 0.81\n",
      " 0.81  0.82  0.82  0.824 0.824 0.83  0.83  0.868 0.868 0.872 0.872 0.878\n",
      " 0.878 0.88  0.88  0.88  0.886 0.886 0.888 0.888 0.892 0.892 0.894 0.898\n",
      " 0.898 0.9   0.9   0.902 0.902 0.904 0.904 0.91  0.91  0.91  0.912 0.912\n",
      " 0.914 0.914 0.918 0.918 0.918 0.92  0.924 0.926 0.926 0.928 0.928 0.928\n",
      " 0.928 0.932 0.932 0.934 0.938 0.94  0.94  0.942 0.942 0.944 0.944 0.95\n",
      " 0.95  0.954 0.954 0.956 0.956 0.958 0.958 0.96  0.96  0.962 0.962 0.964\n",
      " 0.964 0.964 0.964 0.966 0.966 0.966 0.966 0.968 0.968 0.97  0.97  0.97\n",
      " 0.97  0.972 0.972 0.974 0.974 0.976 0.976 0.978 0.978 0.98  0.98  0.982\n",
      " 0.982 0.982 0.982 0.984 0.984 0.984 0.984 0.984 0.984 0.984 0.984 0.984\n",
      " 0.984 0.984 0.984 0.984 0.984 0.984 0.984 0.984 0.986 0.986 0.986 0.986\n",
      " 0.986 0.986 0.986 0.986 0.986 0.986 0.988 0.988 0.988 0.988 0.988 0.988\n",
      " 0.988 0.988 0.988 0.988 0.988 0.988 0.988 0.988 0.988 0.988 0.99  0.99\n",
      " 0.99  0.99  0.992 0.992 0.992 0.992 0.992 0.992 0.994 0.994 0.996 0.996\n",
      " 0.998 0.998 0.998 0.998 1.   ]\n"
     ]
    }
   ],
   "source": [
    "print(tpr_test)"
   ]
  },
  {
   "cell_type": "code",
   "execution_count": 25,
   "metadata": {},
   "outputs": [
    {
     "name": "stdout",
     "output_type": "stream",
     "text": [
      "[0.         0.005      0.005      0.005      0.005      0.005\n",
      " 0.005      0.005      0.005      0.005      0.005      0.005\n",
      " 0.005      0.005      0.005      0.005      0.005      0.005\n",
      " 0.005      0.005      0.005      0.005      0.005      0.005\n",
      " 0.005      0.005      0.005      0.005      0.005      0.005\n",
      " 0.005      0.005      0.005      0.005      0.005      0.005\n",
      " 0.005      0.00666667 0.00666667 0.00833333 0.00833333 0.01\n",
      " 0.01       0.01       0.01       0.01       0.01       0.01166667\n",
      " 0.01166667 0.01333333 0.01333333 0.01666667 0.01666667 0.01833333\n",
      " 0.01833333 0.01833333 0.01833333 0.02       0.02       0.02333333\n",
      " 0.02333333 0.02333333 0.02333333 0.025      0.025      0.02666667\n",
      " 0.02666667 0.02833333 0.02833333 0.03       0.03       0.03333333\n",
      " 0.03333333 0.035      0.035      0.03666667 0.03666667 0.03833333\n",
      " 0.03833333 0.04       0.04       0.04166667 0.04166667 0.04333333\n",
      " 0.04333333 0.045      0.045      0.04666667 0.04666667 0.04833333\n",
      " 0.04833333 0.05166667 0.05333333 0.05333333 0.055      0.055\n",
      " 0.05666667 0.05666667 0.05833333 0.05833333 0.06       0.06\n",
      " 0.06166667 0.06166667 0.06333333 0.06333333 0.065      0.065\n",
      " 0.06666667 0.06666667 0.07       0.07166667 0.07166667 0.07333333\n",
      " 0.07333333 0.07833333 0.07833333 0.08       0.08       0.08\n",
      " 0.085      0.085      0.08666667 0.08666667 0.09166667 0.09166667\n",
      " 0.09333333 0.09333333 0.09666667 0.09833333 0.09833333 0.10166667\n",
      " 0.10166667 0.10666667 0.10666667 0.11       0.115      0.115\n",
      " 0.115      0.115      0.125      0.125      0.13333333 0.13666667\n",
      " 0.14166667 0.14166667 0.14333333 0.14333333 0.14333333 0.14333333\n",
      " 0.15833333 0.15833333 0.16833333 0.16833333 0.17333333 0.17333333\n",
      " 0.175      0.175      0.19       0.19       0.195      0.195\n",
      " 0.21       0.21       0.25       0.25       0.25166667 0.25166667\n",
      " 0.25333333 0.25666667 0.265      0.265      0.27       0.27666667\n",
      " 0.27833333 0.27833333 0.28666667 0.28666667 0.29833333 0.30166667\n",
      " 0.315      0.315      0.32166667 0.32166667 0.33166667 0.33166667\n",
      " 0.345      0.345      0.35333333 0.35333333 0.35833333 0.35833333\n",
      " 0.36833333 0.37166667 0.43       0.43       0.43333333 0.45166667\n",
      " 0.455      0.48833333 0.495      0.49833333 0.50166667 0.50833333\n",
      " 0.515      0.51833333 0.52166667 0.53666667 0.54       0.56\n",
      " 0.56333333 0.57666667 0.57666667 0.58833333 0.59166667 0.65166667\n",
      " 0.655      0.7        0.70333333 0.715      0.71833333 0.735\n",
      " 0.735      0.75166667 0.755      0.76666667 0.77       0.77166667\n",
      " 0.77833333 0.80833333 0.81166667 0.825      0.82833333 0.86\n",
      " 0.86333333 0.88       0.88666667 0.89333333 0.89333333 0.93166667\n",
      " 0.935      0.94       0.94       0.95166667 0.955      0.95666667\n",
      " 0.96       0.96166667 0.96166667 0.965      0.965      0.975\n",
      " 0.975      0.98       0.98333333 0.98833333 1.        ]\n"
     ]
    }
   ],
   "source": [
    "print(fpr_test)"
   ]
  },
  {
   "cell_type": "code",
   "execution_count": 26,
   "metadata": {},
   "outputs": [
    {
     "name": "stdout",
     "output_type": "stream",
     "text": [
      "Train\n",
      "TPR at FPR 0.100: 1.000\n",
      "TPR at FPR 0.010: 1.000\n",
      "TPR at FPR 0.001: 1.000\n",
      "             AUC: 1.0\n",
      "Validation\n",
      "TPR at FPR 0.100: 0.884\n",
      "TPR at FPR 0.010: 0.398\n",
      "TPR at FPR 0.001: 0.022\n",
      "             AUC: 0.9424133333333333\n",
      "Test\n",
      "TPR at FPR 0.100: 0.912\n",
      "TPR at FPR 0.010: 0.530\n",
      "TPR at FPR 0.001: 0.017\n",
      "             AUC: 0.9541483333333334\n"
     ]
    }
   ],
   "source": [
    "print(\"Train\")\n",
    "for tpr, fpr in zip(tpr_at_target_fpr_train, target_fprs):\n",
    "    print(f'TPR at FPR {fpr:.3f}: {tpr:.3f}')\n",
    "print(f'             AUC: {roc_auc_train}')\n",
    "\n",
    "print(\"Validation\")\n",
    "for tpr, fpr in zip(tpr_at_target_fpr_val, target_fprs):\n",
    "    print(f'TPR at FPR {fpr:.3f}: {tpr:.3f}')\n",
    "print(f'             AUC: {roc_auc_val}')\n",
    "\n",
    "print(\"Test\")\n",
    "for tpr, fpr in zip(tpr_at_target_fpr_test, target_fprs):\n",
    "    print(f'TPR at FPR {fpr:.3f}: {tpr:.3f}')\n",
    "print(f'             AUC: {roc_auc_test}')"
   ]
  }
 ],
 "metadata": {
  "kernelspec": {
   "display_name": "Python 3",
   "language": "python",
   "name": "python3"
  },
  "language_info": {
   "codemirror_mode": {
    "name": "ipython",
    "version": 3
   },
   "file_extension": ".py",
   "mimetype": "text/x-python",
   "name": "python",
   "nbconvert_exporter": "python",
   "pygments_lexer": "ipython3",
   "version": "3.11.1"
  }
 },
 "nbformat": 4,
 "nbformat_minor": 2
}
