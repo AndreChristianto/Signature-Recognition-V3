{
 "cells": [
  {
   "cell_type": "code",
   "execution_count": 1,
   "metadata": {},
   "outputs": [],
   "source": [
    "import numpy as np"
   ]
  },
  {
   "cell_type": "markdown",
   "metadata": {},
   "source": [
    "### Load Features, Names, and Labels"
   ]
  },
  {
   "cell_type": "code",
   "execution_count": 2,
   "metadata": {},
   "outputs": [],
   "source": [
    "train_features_path =  \"../feature/ICDAR-RESNET-feature/train_features.npy\"\n",
    "train_names_path = \"../feature/ICDAR-RESNET-feature/train_names.npy\"\n",
    "train_labels_path = \"../feature/ICDAR-RESNET-feature/train_labels.npy\"\n",
    "\n",
    "test_features_path = \"../feature/ICDAR-RESNET-feature/test_features.npy\"\n",
    "test_names_path = \"../feature/ICDAR-RESNET-feature/test_names.npy\"\n",
    "test_labels_path = \"../feature/ICDAR-RESNET-feature/test_labels.npy\"\n",
    "\n",
    "validation_features_path = \"../feature/ICDAR-RESNET-feature/validation_features.npy\"\n",
    "validation_names_path = \"../feature/ICDAR-RESNET-feature/validation_names.npy\"\n",
    "validation_labels_path = \"../feature/ICDAR-RESNET-feature/validation_labels.npy\""
   ]
  },
  {
   "cell_type": "code",
   "execution_count": 3,
   "metadata": {},
   "outputs": [],
   "source": [
    "train_features = np.load(train_features_path)\n",
    "train_names = np.load(train_names_path)\n",
    "train_labels = np.load(train_labels_path)\n",
    "\n",
    "test_features = np.load(test_features_path)\n",
    "test_names = np.load(test_names_path)\n",
    "test_labels = np.load(test_labels_path)\n",
    "\n",
    "validation_features = np.load(validation_features_path)\n",
    "validation_names = np.load(validation_names_path)\n",
    "validation_labels = np.load(validation_labels_path)"
   ]
  },
  {
   "cell_type": "code",
   "execution_count": 4,
   "metadata": {},
   "outputs": [
    {
     "name": "stdout",
     "output_type": "stream",
     "text": [
      "train_features shape :  (857, 2048)\n",
      "test_features shape :  (401, 2048)\n",
      "validation_features shape :  (391, 2048)\n"
     ]
    }
   ],
   "source": [
    "print(\"train_features shape : \", train_features.shape)\n",
    "print(\"test_features shape : \", test_features.shape)\n",
    "print(\"validation_features shape : \", validation_features.shape)"
   ]
  },
  {
   "cell_type": "markdown",
   "metadata": {},
   "source": [
    "### Feature Gallery"
   ]
  },
  {
   "cell_type": "code",
   "execution_count": 5,
   "metadata": {},
   "outputs": [],
   "source": [
    "# Feature Gallery dilakukan untuk setiap kelas / nama seperti \"001\", \"002\", \"003\", dst dengan cara mengambil data training positive dan mengambil mean / rata-rata dari data tersebut\n",
    "def create_feature_gallery(train_features, train_names, train_labels):\n",
    "    gallery_feature = []\n",
    "    gallery_name = []\n",
    "\n",
    "    unique_names = set(train_names.flatten())\n",
    "    sorted_names = sorted(unique_names)\n",
    "\n",
    "    for name in sorted_names:\n",
    "        # print(name)\n",
    "        # print(name)\n",
    "        name_features = []\n",
    "\n",
    "        for feature, feature_name, label in zip(train_features, train_names, train_labels):\n",
    "            # print(feature, feature_name, label)\n",
    "            if name in feature_name and label == 1:\n",
    "                name_features.append(feature)\n",
    "\n",
    "        if name_features:\n",
    "            # print(name_features)\n",
    "            average_feature = np.mean(name_features, axis=0)\n",
    "            gallery_feature.append(average_feature)\n",
    "            gallery_name.append(name)\n",
    "\n",
    "    return gallery_feature, gallery_name"
   ]
  },
  {
   "cell_type": "code",
   "execution_count": 6,
   "metadata": {},
   "outputs": [],
   "source": [
    "gallery_features, gallery_names = create_feature_gallery(train_features, train_names, train_labels)"
   ]
  },
  {
   "cell_type": "code",
   "execution_count": 7,
   "metadata": {},
   "outputs": [],
   "source": [
    "gallery_feature_path = \"../feature/ICDAR-RESNET-feature/gallery_features.npy\"\n",
    "gallery_name_path = \"../feature/ICDAR-RESNET-feature/gallery_names.npy\""
   ]
  },
  {
   "cell_type": "code",
   "execution_count": 8,
   "metadata": {},
   "outputs": [],
   "source": [
    "np.save(gallery_feature_path, gallery_features)\n",
    "np.save(gallery_name_path, gallery_names)"
   ]
  },
  {
   "cell_type": "code",
   "execution_count": 9,
   "metadata": {},
   "outputs": [],
   "source": [
    "gallery_features = np.load(gallery_feature_path)\n",
    "gallery_names = np.load(gallery_name_path)"
   ]
  },
  {
   "cell_type": "code",
   "execution_count": 10,
   "metadata": {},
   "outputs": [
    {
     "name": "stdout",
     "output_type": "stream",
     "text": [
      "gallery features shape :  (64, 2048)\n"
     ]
    }
   ],
   "source": [
    "gallery_features_array = np.array(gallery_features)\n",
    "print(\"gallery features shape : \", gallery_features_array.shape)"
   ]
  },
  {
   "cell_type": "markdown",
   "metadata": {},
   "source": [
    "### Euclidean Distance"
   ]
  },
  {
   "cell_type": "code",
   "execution_count": 11,
   "metadata": {},
   "outputs": [],
   "source": [
    "def euclidean_distance(feature_vector1, feature_vector2):\n",
    "    return np.sqrt(np.sum((feature_vector1 - feature_vector2)**2))"
   ]
  },
  {
   "cell_type": "code",
   "execution_count": 12,
   "metadata": {},
   "outputs": [],
   "source": [
    "def find_euclidean_distance(test_features, test_names, test_labels, gallery_features, gallery_names):\n",
    "    euclidean_distances = []\n",
    "    euclidean_names = []\n",
    "    euclidean_actual_labels = []\n",
    "\n",
    "    for gallery_feature, gallery_name in zip(gallery_features, gallery_names):\n",
    "        curr_euclid_name = gallery_name\n",
    "        curr_euclid_feature = []\n",
    "        curr_euclid_label = []\n",
    "        curr_euclid_dist = []\n",
    "        for feature, name, label in zip(test_features, test_names, test_labels):\n",
    "            if gallery_name in name:\n",
    "                curr_euclid_feature.append(feature)\n",
    "                curr_euclid_label.append(label)\n",
    "        \n",
    "        for feature in curr_euclid_feature:\n",
    "            distance = euclidean_distance(feature, gallery_feature)\n",
    "            curr_euclid_dist.append(distance)\n",
    "\n",
    "        euclidean_distances.append(curr_euclid_dist)\n",
    "        euclidean_names.append(curr_euclid_name)\n",
    "        euclidean_actual_labels.append(curr_euclid_label)\n",
    "        \n",
    "    return euclidean_distances, euclidean_names, euclidean_actual_labels"
   ]
  },
  {
   "cell_type": "code",
   "execution_count": 13,
   "metadata": {},
   "outputs": [],
   "source": [
    "test_euclidean_distances, test_euclidean_names, test_euclidean_actual_labels = find_euclidean_distance(test_features, test_names, test_labels, gallery_features, gallery_names)\n",
    "train_euclidean_distances, train_euclidean_names, train_euclidean_actual_labels = find_euclidean_distance(train_features, train_names, train_labels, gallery_features, gallery_names)\n",
    "validation_euclidean_distances, validation_euclidean_names, validation_euclidean_actual_labels = find_euclidean_distance(validation_features, validation_names, validation_labels, gallery_features, gallery_names)"
   ]
  },
  {
   "cell_type": "markdown",
   "metadata": {},
   "source": [
    "### Split Euclidean Distance to Positive and Negative for Future Use (If needed)"
   ]
  },
  {
   "cell_type": "code",
   "execution_count": 14,
   "metadata": {},
   "outputs": [],
   "source": [
    "def split_euc_dist(euclidean_distances, euclidean_names, euclidean_actual_labels):\n",
    "    positive_distance = []\n",
    "    positive_name = []\n",
    "    positive_label = []\n",
    "    negative_distance = []\n",
    "    negative_name = []\n",
    "    negative_label = []\n",
    "\n",
    "    for euclidean_distance, euclidean_name, euclidean_actual_label in zip(euclidean_distances, euclidean_names, euclidean_actual_labels):\n",
    "        pos_dist = []\n",
    "        neg_dist = []\n",
    "        pos_lab = []\n",
    "        neg_lab = []\n",
    "        for distance, label in zip(euclidean_distance, euclidean_actual_label):\n",
    "            if label == 0:\n",
    "                neg_dist.append(distance)\n",
    "                neg_lab.append(label)\n",
    "            else:\n",
    "                pos_dist.append(distance)\n",
    "                pos_lab.append(label)\n",
    "\n",
    "        positive_distance.append(pos_dist)\n",
    "        positive_name.append(euclidean_name)\n",
    "        positive_label.append(pos_lab)\n",
    "\n",
    "        negative_distance.append(neg_dist)\n",
    "        negative_name.append(euclidean_name)\n",
    "        negative_label.append(neg_lab)\n",
    "        # print(euclidean_distance, euclidean_name, euclidean_actual_label)\n",
    "\n",
    "    return positive_distance, negative_label"
   ]
  },
  {
   "cell_type": "code",
   "execution_count": 15,
   "metadata": {},
   "outputs": [],
   "source": [
    "train_positive_dist, train_negative_dist = split_euc_dist(train_euclidean_distances, train_names, train_euclidean_actual_labels)\n",
    "test_positive_dist, test_negative_dist = split_euc_dist(test_euclidean_distances, test_names, test_euclidean_actual_labels)\n",
    "validation_positive_dist, validation_negative_dist = split_euc_dist(validation_euclidean_distances, validation_names, validation_euclidean_actual_labels)"
   ]
  },
  {
   "cell_type": "code",
   "execution_count": 16,
   "metadata": {},
   "outputs": [
    {
     "name": "stdout",
     "output_type": "stream",
     "text": [
      "Train total : 857\n",
      "  Train pos : 463\n",
      "  Train neg : 394\n",
      " Test total : 401\n",
      "   Test pos : 212\n",
      "   Test neg : 189\n",
      "  Val total : 391\n",
      "    Val pos : 212\n",
      "    Val neg : 179\n"
     ]
    }
   ],
   "source": [
    "flat_train_positive_dist = [item for sublist in train_positive_dist for item in sublist]\n",
    "flat_train_negative_dist = [item for sublist in train_negative_dist for item in sublist]\n",
    "flat_test_positive_dist = [item for sublist in test_positive_dist for item in sublist]\n",
    "flat_test_negative_dist = [item for sublist in test_negative_dist for item in sublist]\n",
    "flat_validation_positive_dist = [item for sublist in validation_positive_dist for item in sublist]\n",
    "flat_validation_negative_dist = [item for sublist in validation_negative_dist for item in sublist]\n",
    "\n",
    "print(f'Train total : {len(flat_train_positive_dist) + len(flat_train_negative_dist)}')\n",
    "print(f'  Train pos : {len(flat_train_positive_dist)}')\n",
    "print(f'  Train neg : {len(flat_train_negative_dist)}')\n",
    "print(f' Test total : {len(flat_test_positive_dist) + len(flat_test_negative_dist)}')\n",
    "print(f'   Test pos : {len(flat_test_positive_dist)}')\n",
    "print(f'   Test neg : {len(flat_test_negative_dist)}')\n",
    "print(f'  Val total : {len(flat_validation_positive_dist) + len(flat_validation_negative_dist)}')\n",
    "print(f'    Val pos : {len(flat_validation_positive_dist)}')\n",
    "print(f'    Val neg : {len(flat_validation_negative_dist)}')"
   ]
  },
  {
   "cell_type": "markdown",
   "metadata": {},
   "source": [
    "### Normalize Euclidean Distance"
   ]
  },
  {
   "cell_type": "code",
   "execution_count": 17,
   "metadata": {},
   "outputs": [],
   "source": [
    "# Flatten the lists of distances\n",
    "flat_test_distances = [item for sublist in test_euclidean_distances for item in sublist]\n",
    "flat_train_distances = [item for sublist in train_euclidean_distances for item in sublist]\n",
    "flat_validation_distances = [item for sublist in validation_euclidean_distances for item in sublist]"
   ]
  },
  {
   "cell_type": "code",
   "execution_count": 18,
   "metadata": {},
   "outputs": [
    {
     "name": "stdout",
     "output_type": "stream",
     "text": [
      "[24.779734, 37.250656, 21.760643, 20.149998, 20.283216, 20.859539, 18.893707, 22.61569, 22.683678, 18.225756, 21.562855, 24.589697, 18.35972, 23.895193, 27.566654, 32.076553, 32.25673, 36.002594, 17.628862, 22.381931, 18.32394, 13.997371, 27.186483, 17.71999, 18.078053, 10.254757, 21.23784, 24.165634, 21.161524, 18.758482, 31.17315, 22.887337, 31.076475, 25.487415, 27.907913, 47.021744, 43.095367, 45.430145, 26.853985, 26.960363, 24.643621, 36.609547, 35.898155, 51.27076, 29.520977, 30.78164, 59.642624, 59.305534, 48.015205, 25.720741, 25.675217, 34.802357, 40.24901, 47.62346, 40.710308, 48.298233, 36.469917, 33.588364, 19.524065, 21.422323, 12.3393, 16.672733, 13.151798, 15.408923, 21.47214, 18.510529, 14.617347, 14.4227, 19.763798, 21.198494, 19.576283, 25.930967, 25.992638, 16.914051, 20.605106, 15.871198, 22.094715, 25.311605, 12.991844, 10.448204, 12.468055, 15.592415, 19.920963, 15.7680855, 20.46744, 11.666869, 22.971235, 13.580467, 26.4259, 15.81147, 14.310906, 15.766083, 32.00219, 49.094624, 47.08643, 19.29497, 27.143843, 22.819412, 16.32149, 22.461866, 18.451977, 19.546383, 21.379017, 14.509134, 25.221188, 11.21096, 20.361258, 15.266121, 21.098722, 14.714189, 13.0600815, 13.93957, 26.1671, 35.77835, 28.794622, 26.618786, 20.368496, 23.488388, 20.688484, 20.937346, 23.985153, 25.931501, 35.194748, 20.596443, 24.938772, 25.07901, 24.549334, 24.26212, 27.187695, 28.040785, 50.026024, 25.355816, 36.773277, 29.174898, 41.80009, 36.05756, 34.348286, 66.19963, 14.82757, 12.479911, 18.78473, 16.738022, 29.758978, 15.218343, 32.92011, 31.113546, 23.995846, 23.801674, 23.759544, 26.906069, 28.402939, 36.92916, 18.749538, 30.8476, 24.263102, 21.891275, 19.371534, 28.879707, 15.458168, 41.717747, 26.49868, 18.397482, 22.474514, 27.448864, 41.457115, 43.854324, 40.357643, 40.024696, 49.561733, 43.54951, 29.797619, 42.83059, 34.96826, 20.264793, 21.009743, 24.04243, 19.42487, 28.38483, 23.648355, 25.13232, 15.689304, 15.712907, 18.575132, 23.414833, 24.649412, 25.920141, 16.749125, 23.389109, 20.816591, 34.132633, 40.368034, 41.84367, 32.734936, 17.013569, 24.806234, 17.31425, 19.986147, 17.972965, 21.366177, 15.317383, 12.481454, 15.78576, 25.932228, 17.005745, 20.978662, 22.218105, 23.354458, 22.83852, 23.176039, 24.135122, 26.063051, 27.83033, 16.821812, 34.863266, 29.713211, 10.661566, 15.388817, 14.558028, 11.650741, 15.136346, 21.43707, 18.931095, 32.145954, 30.87311, 31.896618, 27.172573, 29.486736, 32.159977, 27.769169, 27.839792, 55.240913, 39.371716, 26.424261, 58.257755, 53.120193, 58.815414, 55.883938, 58.42285, 59.774643, 10.467138, 13.527902, 18.783525, 20.909082, 11.800548, 13.37997, 34.573837, 40.927456, 35.319965, 47.656517, 52.781857, 40.291836, 20.818203, 15.554579, 20.70781, 17.03564, 18.540527, 19.326141, 36.918037, 33.292732, 42.989742, 31.901571, 39.907135, 38.80949, 47.09215, 31.033796, 35.79629, 45.986744, 34.18142, 67.67344, 33.033978, 48.352486, 38.97933, 53.284374, 49.463165, 80.31292, 66.90781, 52.461803, 69.24739, 54.039795, 50.80966, 35.452644, 29.933998, 32.570507, 35.590458, 34.59776, 35.896095, 34.421307, 32.096127, 45.41328, 30.733578, 37.860332, 54.75039, 46.004253, 42.099857, 64.318794, 30.155634, 24.447918, 30.521996, 22.082767, 19.93036, 26.781492, 52.13451, 37.98312, 30.000553, 19.033285, 27.112576, 27.231379, 33.29804, 24.363333, 20.156906, 24.16349, 51.147873, 39.48007, 53.230953, 44.71909, 45.155685, 44.732338, 13.481543, 20.26277, 15.810204, 21.086555, 23.422798, 17.51989, 31.821583, 31.650928, 31.135242, 38.6314, 28.217886, 16.349516, 17.535492, 21.550179, 16.393606, 17.337593, 30.999554, 36.913017, 35.82537, 24.573128, 28.039576, 26.09849, 23.593756, 16.65853, 27.179174, 15.570495, 16.70181, 18.212784, 27.720886, 21.11878, 35.97212, 38.52392, 19.419422, 14.45886, 21.571001, 15.995857, 28.539194, 14.493166, 32.502758, 69.10878, 32.198143, 20.850773, 35.423347, 62.66822, 18.24974, 13.217888, 17.519241, 12.81141, 18.692888, 12.402287, 19.746744, 19.563814, 16.744795, 16.083141, 29.31002, 22.177467, 17.544664, 22.464548, 20.719795, 18.725426, 25.218662, 19.621403, 18.151093, 36.826298, 19.490088, 22.780888, 23.615755, 21.158747, 18.055515, 20.505623, 17.793163, 39.295883, 17.306498, 16.63, 29.91549, 29.323599, 24.825256, 28.696907, 19.839968, 21.653404, 19.878677, 15.336553, 16.626999, 19.395634, 19.416977, 38.789803, 26.950165, 40.848534, 40.622944, 23.394407, 20.38972, 24.989674, 20.389786, 24.390743, 17.027637, 18.648893, 25.459887, 22.694578, 22.124756, 22.30251, 28.159727, 25.736437, 28.319296, 19.16487, 17.948647, 18.489098, 16.3049, 20.30051, 21.318201, 14.8078985, 26.727926, 44.629097, 25.205345, 33.786846, 28.371967, 38.855793, 38.44829, 19.651213, 30.385294, 22.205004, 19.714863, 18.893877, 24.051336, 22.667288, 56.17727, 36.99619, 44.01372, 23.064312, 44.799614, 17.818523, 14.629933, 18.383327, 13.32017, 16.24522, 14.90865, 19.650587, 29.442646, 37.71957, 44.95507, 28.143724, 21.687925, 16.300499, 16.774925, 16.582245, 13.821309, 11.235164, 15.964726, 19.494587, 20.943743, 26.30378, 22.34534, 29.6713, 22.18953, 25.544773, 24.808283, 23.712994, 15.564123, 28.55606, 20.114023, 14.563369, 19.609373, 21.659365, 26.11387, 25.055935, 25.954927, 22.759874, 35.6094, 30.872444, 13.761881, 16.700394, 14.368074, 14.003654, 10.629103, 15.493961, 21.576553, 25.048471, 25.40665, 29.814249, 35.690273, 23.942682, 27.24807, 22.518145, 25.729393, 32.18471, 28.02261, 28.039421, 34.79187, 44.966797, 36.53042, 34.44795, 14.147009, 20.198812, 20.863771, 13.356248, 13.680259, 11.709286, 23.157108, 28.499983, 26.426613, 38.453335, 27.06473, 35.487873, 26.914965, 26.086926, 25.210228, 21.516693, 17.471027, 34.763096, 44.42227, 42.591415, 53.2002, 53.890076, 46.412132, 43.120705, 18.088997, 14.150549, 11.806587, 17.871471, 17.136662, 12.019713, 38.481995, 38.775917, 23.843744, 30.321947, 32.65341, 30.39503, 20.281176, 29.637396, 19.216892, 23.047262, 16.52624, 19.628788, 40.925976, 35.113243, 34.859238, 33.80194, 27.053596, 32.590034, 29.60145, 26.241045, 20.596466, 24.740442, 18.707127, 37.8562, 39.988274, 30.85526, 29.0607, 33.919518, 23.780962, 31.693205, 31.512615, 34.323563, 58.537575, 18.609512, 22.140688, 28.771296, 59.2906, 42.160275, 44.867496, 51.841187, 39.605347, 39.472942, 15.624103, 18.126606, 12.254508, 12.010154, 24.741966, 10.83342, 44.621548, 58.24495, 19.923218, 19.897448, 42.39591, 33.39416, 13.624517, 18.568058, 17.523827, 17.608952, 15.471976, 23.799551, 24.291704, 20.844212, 25.207487, 24.673298, 21.550695, 21.523167, 13.500337, 13.238857, 15.950665, 16.673788, 24.31911, 44.357895, 34.61944, 43.82843, 32.248512, 59.529095, 47.79785, 33.828556, 31.959545, 32.66212, 25.212011, 33.098164, 42.612843, 53.093002, 48.333313, 46.883053, 52.2836, 45.43866, 33.86073, 17.996227, 22.803274, 32.35773, 20.279245, 34.866356, 53.98415, 53.601635, 54.584, 57.332977, 19.526606, 10.406709, 10.196755, 17.108995, 12.9761505, 12.159747, 20.348917, 37.658688, 20.561125, 17.609077, 42.570362, 19.643097, 30.361912, 50.350952, 21.991268, 13.244146, 18.143295, 16.544327, 17.988583, 11.936346, 14.70455, 30.443918, 16.660067, 13.7700615, 19.45457, 17.544537, 16.527948, 23.034243, 15.871006, 20.77132, 23.42386, 26.302565, 23.468113, 23.679369, 22.96737, 28.376047, 28.903385, 33.542767, 28.924028, 33.644264, 34.5998, 26.24917, 28.13433, 35.382313, 37.516907, 35.457825, 51.866096, 31.827122, 19.674067, 16.050098, 12.106011, 12.789292, 10.498917, 9.872189, 22.332535, 37.29977, 26.62158, 23.610153, 40.615795, 16.447468, 30.23231, 31.684803, 34.612915, 43.68933, 59.343082, 35.332027, 36.753956, 54.851574, 51.253925, 53.488106, 35.193604, 33.02878, 37.00117, 36.535904, 32.332108, 52.85007, 64.85143, 47.61784, 63.781048, 66.36951, 55.85055, 51.86129, 20.977577, 19.909725, 26.101395, 15.990403, 16.090374, 15.377034, 37.91903, 22.665258, 22.10437, 28.871113, 24.628414, 25.705896, 28.271355, 30.130339, 24.597378, 30.558311, 24.732948, 14.659085, 26.680769, 15.822556, 16.824589, 37.253395, 46.992176, 45.508526, 34.622322, 51.23721, 44.69774, 48.59413, 49.293358, 41.10542, 36.048286, 69.61097, 64.46345, 73.07463, 48.835598, 57.437, 59.352974, 22.349888, 13.548767, 16.4093, 17.321777, 18.739285, 23.948805, 32.03983, 44.18849, 29.43614, 36.208828, 34.776535, 23.265882, 16.134354, 23.34352, 24.7564, 11.593632, 14.081796, 16.731148, 35.071964, 35.9845, 50.31991, 20.794247, 30.55472, 28.522287, 20.781897, 18.748428, 16.927818, 21.527176, 23.894035, 31.744669, 41.504555, 37.18557, 36.72368, 26.226704, 31.612656, 45.420044, 17.632769, 23.17244, 13.914608, 14.558115, 14.133976, 14.540749, 41.673397, 35.87414, 18.985954, 21.287233, 32.37653, 32.98054, 28.862019, 21.718498, 35.036453, 39.652134, 33.88458, 36.68639, 47.388206, 42.553715, 23.368109, 36.917915, 21.366026, 21.935934, 20.259512, 17.806887, 32.963818, 23.943804, 41.619766, 35.38001, 32.939625, 49.250095, 26.233568, 27.460073, 44.07637, 22.832973, 21.831577, 19.199959, 27.861938, 31.799953, 23.819206, 31.721233, 41.230186, 39.3529, 31.69892, 18.690702, 14.469257, 20.160776, 17.398775, 13.662913, 12.126556, 25.535217, 34.36411, 27.603523, 36.286835, 50.99978, 25.325096, 26.38247, 23.465626, 22.157665, 25.821047, 37.63242, 49.156487, 36.583477, 42.784584, 32.939648, 42.936787]\n"
     ]
    }
   ],
   "source": [
    "print(flat_train_distances)"
   ]
  },
  {
   "cell_type": "code",
   "execution_count": 19,
   "metadata": {},
   "outputs": [],
   "source": [
    "def get_min_max(euclidean_distances):\n",
    "    min_distance = min(euclidean_distances)\n",
    "    max_distance = max(euclidean_distances)\n",
    "\n",
    "    return min_distance, max_distance"
   ]
  },
  {
   "cell_type": "code",
   "execution_count": 20,
   "metadata": {},
   "outputs": [
    {
     "name": "stdout",
     "output_type": "stream",
     "text": [
      "min: 9.872188568115234, max: 80.31291961669922\n"
     ]
    }
   ],
   "source": [
    "min_val, max_val = get_min_max(flat_train_distances)\n",
    "print(f'min: {min_val}, max: {max_val}')"
   ]
  },
  {
   "cell_type": "code",
   "execution_count": 21,
   "metadata": {},
   "outputs": [],
   "source": [
    "def normalize_distance(euclidean_distances, min_val, max_val):\n",
    "    all_distance = []\n",
    "\n",
    "    for distance in euclidean_distances:\n",
    "        normalized_distance = (distance - min_val) / (max_val - min_val)\n",
    "\n",
    "        # in case test and train distances are beyond max of train\n",
    "        if normalized_distance > 1:\n",
    "            normalized_distance = 1\n",
    "        elif normalized_distance < 0:\n",
    "            normalized_distance = 0\n",
    "        \n",
    "        all_distance.append(normalized_distance)\n",
    "\n",
    "    return all_distance\n",
    "\n",
    "def reverse_normalized_distance(euclidean_distances, min_val, max_val):\n",
    "    reverse_distance = []\n",
    "    normalized_distances = normalize_distance(euclidean_distances, min_val, max_val)\n",
    "    for distance in normalized_distances:\n",
    "        distance = -distance\n",
    "        reverse_distance.append(distance)\n",
    "\n",
    "    return reverse_distance"
   ]
  },
  {
   "cell_type": "code",
   "execution_count": 22,
   "metadata": {},
   "outputs": [],
   "source": [
    "# normalized_positive_distances = reverse_normalized_distance(positive_distance)\n",
    "# normalized_negative_distances = reverse_normalized_distance(negative_distance)"
   ]
  },
  {
   "cell_type": "code",
   "execution_count": 23,
   "metadata": {},
   "outputs": [],
   "source": [
    "normalized_test_euclidean_distance = reverse_normalized_distance(flat_test_distances, min_val, max_val)\n",
    "normalized_train_euclidean_distance = reverse_normalized_distance(flat_train_distances, min_val, max_val)\n",
    "normalized_validation_euclidean_distance = reverse_normalized_distance(flat_validation_distances, min_val, max_val)"
   ]
  },
  {
   "cell_type": "code",
   "execution_count": 24,
   "metadata": {},
   "outputs": [
    {
     "name": "stdout",
     "output_type": "stream",
     "text": [
      "[-0.2420799, -0.16967292, -0.09552687, -0.1384901, -0.27939755, -0.23622593, -0.26346081, -0.2182155, -0.086127415, -0.20569961, -0.23303108, -0.26108193, -0.6034584, -0.5592799, -0.53672373, -0.4878484, -0.41918722, -0.25920448, -0.46357277, -0.35321572, -0.43128332, -0.42652732, -0.32980767, -0.122970715, -0.1338785, -0.15679997, -0.22068016, -0.11382437, -0.10601312, -0.13389377, -0.2705375, -0.2871759, -0.11393993, -0.07556148, -0.059551276, -0.17037179, -0.24922125, -0.20614815, -0.17924571, -0.24295521, -0.3675063, -0.099074386, -0.12917154, -0.20633388, -0.20132028, -0.11909437, -0.20182127, -0.30946407, -0.29979968, -0.14230143, -0.27238178, -0.18018603, -0.58370185, -0.4184441, -0.63298583, -0.15747246, -0.060743533, -0.12874003, -0.30294544, -0.27689156, -0.24362288, -0.20330286, -0.544977, -0.17949244, -0.21814044, -0.18616742, -0.3672393, -0.3317781, -0.3423649, -0.28961295, -0.16928287, -0.17182028, -0.13498212, -0.15500335, -0.23735613, -0.2637564, -0.2605026, -0.31291515, -0.30785728, -0.110386275, -0.08353415, -0.3379128, -0.17154653, -0.14276889, -0.22821568, -0.5899837, -0.24542482, -0.321546, -0.22935306, -0.19110005, -0.15958005, -0.29844227, -0.2989557, -0.3134737, -0.20547242, -0.38991535, -0.75024474, -0.5803486, -0.7283851, -0.18255882, -0.09716004, -0.045188095, -0.29178134, -0.30492124, -0.34021968, -0.1614901, -0.17591384, -0.23905127, -0.5820503, -0.310808, -0.36571258, -0.4009182, -0.30659777, -0.40430734, -0.27204382, -0.4859415, -1, -0.6391386, -0.20059028, -0.26145902, -0.39849907, -0.60680646, -0.43177417, -0.5193637, -0.3885657, -0.1916095, -0.5745101, -0.15779933, -0.15651774, -0.25852352, -0.42314067, -0.41869575, -0.31520584, -0.54679036, -0.55934376, -0.8318238, -0.2510684, -0.2340552, -0.2595222, -0.44121745, -0.37770444, -0.20329492, -0.17675677, -0.2898118, -0.29684067, -0.17249073, -0.22169122, -0.15433046, -0.35293916, -0.07749008, -0.36303976, -0.33897942, -0.12865426, -0.14392799, -0.23531826, -0.49258184, -0.31299025, -0.28946462, -0.12101933, -0.07921094, -0.1316931, -0.11048342, -0.2699752, -0.16526102, -0.07503723, -0.14825587, -0.10770242, -0.28967232, -0.31423345, -0.12738207, -0.27593437, -0.2590122, -0.18701288, -0.30264848, -0.39360312, -0.14492737, -0.2767276, -0.18442808, -0.19913623, -0.2825718, -0.28686997, -0.11373417, -0.18753298, -0.18839984, -0.18396732, -0.1826317, -0.17103416, -0.1646511, -0.3087456, -0.2067149, -0.56295985, -0.42899597, -0.23126781, -0.36067748, -0.34170905, -0.22858043, -0.3438448, -0.62620693, -0.23605064, -0.15414603, -0.6958354, -0.20554465, -0.12696688, -0.20184472, -0.40113008, -0.09563572, -0.099703714, -0.059629586, -0.028091399, -0.30597052, -0.17529738, -0.23261417, -0.18695271, -0.19976282, -0.49255368, -0.14100775, -0.24034974, -0.31446257, -0.25955737, -0.15209484, -0.23037937, -0.42024714, -0.20618887, -0.1375086, -0.223912, -0.22408023, -0.29746678, -0.3001177, -0.17693804, -0.39202857, -0.06381271, -0.12681821, -0.0731935, -0.3361924, -0.45427844, -0.34699985, -0.4866096, -0.35456336, -0.52084184, -0.46070448, -0.55357325, -0.5582324, -0.1992775, -0.23588222, -0.3065907, -0.14992628, -0.3946804, -0.36834726, -0.40473083, -0.06835029, -0.15569337, -0.2135477, -0.3368732, -0.2826549, -0.14138025, -0.19780155, -0.16875254, -0.22092488, -0.42225143, -0.2673826, -0.24334715, -0.30687594, -0.45249066, -0.68719673, -0.3638614, -0.5213559, -0.2182974, -0.14156768, -0.04045653, -0.15571037, -0.121287346, -0.1321384, -0.20488133, -0.1669577, -0.13386299, -0.20138627, -0.18688, -0.15429054, -0.26312232, -0.4484926, -0.5587696, -0.2709641, -0.45597687, -0.19370122, -0.2913985, -0.29036456, -0.4757122, -0.6584007, -0.36269146, -0.2813295, -0.13964234, -0.31598377, -0.71961915, -0.6379059, -0.04558953, -0.037363783, -0.10188466, -0.3747756, -0.10665125, -0.46711007, -0.19112696, -0.053422805, -0.1019546, -0.03898148, -0.14894375, -0.15900104, -0.06387836, -0.20702241, -0.29191226, -0.31537545, -0.25161847, -0.2480191, -0.2218102, -0.5716839, -0.26962394, -0.041910205, -0.10096449, -0.1162942, -0.16585025, -0.38388532, -0.32751715, -0.34072208, -0.5348167, -0.6172064, -0.60446733, -0.5922016, -0.3630634, -0.47596857, -0.43731955, -0.7737574, -0.85611004, -0.5813322, -0.17142776, -0.09624385, -0.13272974, -0.4215849, -0.4774576, -0.26246426, -0.2341357, -0.33486477, -0.11749678, -0.20541605, -0.20836072, -0.5791519, -0.4583575, -0.5377789, -0.5486243, -0.58333075, -0.8709586, -0.8716702, -0.1256766, -0.2264286, -0.15973556, -0.23526064, -0.26509413, -0.3344654, -0.14774977, -0.110956036, -0.13617808, -0.19661936, -0.20127, -0.29271898, -0.12386838, -0.39356938, -0.29356465, -0.27996817, -0.3263732, -0.4098321, -0.05121546, -0.1712654, -0.26500645, -0.2963246, -0.13630006, -0.2719545, -0.3293322, -0.43928882, -0.49395692, -0.38340074, -0.13571893, -0.29677522, -0.1882256, -0.25110978, -0.26990128, -0.2528371, -0.3991567, -0.44687608, -0.4152477, -0.16137579, -0.4444967, -0.457552, -0.353706, -0.18829323, -0.15284264, -0.28541496, -0.31598952, -0.2515081, -0.298234, -0.13136001, -0.49373236, -0.3453445, -0.44252026]\n"
     ]
    }
   ],
   "source": [
    "print(normalized_test_euclidean_distance)"
   ]
  },
  {
   "cell_type": "markdown",
   "metadata": {},
   "source": [
    "# 3. ROC Curve"
   ]
  },
  {
   "cell_type": "code",
   "execution_count": 25,
   "metadata": {},
   "outputs": [],
   "source": [
    "from sklearn.metrics import roc_curve, auc\n",
    "import matplotlib.pyplot as plt\n",
    "from matplotlib.ticker import MultipleLocator"
   ]
  },
  {
   "cell_type": "code",
   "execution_count": 32,
   "metadata": {},
   "outputs": [
    {
     "data": {
      "image/png": "[encoded data removed]",
      "text/plain": [
       "<Figure size 800x800 with 1 Axes>"
      ]
     },
     "metadata": {},
     "output_type": "display_data"
    }
   ],
   "source": [
    "# Flatten the lists of labels\n",
    "flat_test_labels = [item for sublist in test_euclidean_actual_labels for item in sublist]\n",
    "flat_train_labels = [item for sublist in train_euclidean_actual_labels for item in sublist]\n",
    "flat_validation_labels = [item for sublist in validation_euclidean_actual_labels for item in sublist]\n",
    "\n",
    "# Calculate ROC curve\n",
    "fpr_test, tpr_test, thresholds_test = roc_curve(flat_test_labels, normalized_test_euclidean_distance, drop_intermediate=False)\n",
    "roc_auc_test = auc(fpr_test, tpr_test)\n",
    "fpr_train, tpr_train, thresholds_train = roc_curve(flat_train_labels, normalized_train_euclidean_distance, drop_intermediate=False)\n",
    "roc_auc_train = auc(fpr_train, tpr_train)\n",
    "fpr_validation, tpr_validation, thresholds_validation = roc_curve(flat_validation_labels, normalized_validation_euclidean_distance, drop_intermediate=False)\n",
    "roc_auc_validation = auc(fpr_validation, tpr_validation)\n",
    "\n",
    "# Plot ROC curve\n",
    "plt.figure(figsize=(8, 8))\n",
    "\n",
    "plt.plot(fpr_train, tpr_train, color='darkseagreen', lw=2, label=f'Train AUC = {roc_auc_train:.5f}')\n",
    "plt.plot(fpr_validation, tpr_validation, color='steelblue', lw=2, label=f'Validation AUC = {roc_auc_validation:.5f}')\n",
    "# plt.plot(fpr_test, tpr_test, color='peru', lw=2, label=f'Test AUC = {roc_auc_test:.5f}')\n",
    "\n",
    "plt.plot([0, 1], [0, 1], color='navy', lw=2, linestyle='--')\n",
    "plt.xlabel('False Positive Rate')\n",
    "plt.ylabel('True Positive Rate')\n",
    "plt.title('ROC Curves - Euclidean Distance')\n",
    "plt.legend(loc='lower right')\n",
    "plt.show()"
   ]
  },
  {
   "cell_type": "code",
   "execution_count": 28,
   "metadata": {},
   "outputs": [],
   "source": [
    "def find_tpr_at_fpr(fpr, tpr, target_fpr):\n",
    "    return np.interp(target_fpr, fpr, tpr)"
   ]
  },
  {
   "cell_type": "code",
   "execution_count": 33,
   "metadata": {},
   "outputs": [],
   "source": [
    "target_fprs = [0.1, 0.01, 0.001]\n",
    "tpr_at_target_fpr_train = [find_tpr_at_fpr(fpr_train, tpr_train, fpr) for fpr in target_fprs]\n",
    "tpr_at_target_fpr_test = [find_tpr_at_fpr(fpr_test, tpr_test, fpr) for fpr in target_fprs]\n",
    "tpr_at_target_fpr_val = [find_tpr_at_fpr(fpr_validation, tpr_validation, fpr) for fpr in target_fprs]"
   ]
  },
  {
   "cell_type": "code",
   "execution_count": 34,
   "metadata": {},
   "outputs": [
    {
     "name": "stdout",
     "output_type": "stream",
     "text": [
      "Train\n",
      "TPR at FPR 0.100: 0.540\n",
      "TPR at FPR 0.010: 0.233\n",
      "TPR at FPR 0.001: 0.110\n",
      "             AUC: 0.821189330234292\n",
      "Validation\n",
      "TPR at FPR 0.100: 0.358\n",
      "TPR at FPR 0.010: 0.165\n",
      "TPR at FPR 0.001: 0.075\n",
      "             AUC: 0.7075998735111204\n",
      "Test\n",
      "TPR at FPR 0.100: 0.344\n",
      "TPR at FPR 0.010: 0.104\n",
      "TPR at FPR 0.001: 0.061\n",
      "             AUC: 0.7124638115204154\n"
     ]
    }
   ],
   "source": [
    "print(\"Train\")\n",
    "for tpr, fpr in zip(tpr_at_target_fpr_train, target_fprs):\n",
    "    print(f'TPR at FPR {fpr:.3f}: {tpr:.3f}')\n",
    "print(f'             AUC: {roc_auc_train}')\n",
    "\n",
    "print(\"Validation\")\n",
    "for tpr, fpr in zip(tpr_at_target_fpr_val, target_fprs):\n",
    "    print(f'TPR at FPR {fpr:.3f}: {tpr:.3f}')\n",
    "print(f'             AUC: {roc_auc_validation}')\n",
    "\n",
    "print(\"Test\")\n",
    "for tpr, fpr in zip(tpr_at_target_fpr_test, target_fprs):\n",
    "    print(f'TPR at FPR {fpr:.3f}: {tpr:.3f}')\n",
    "print(f'             AUC: {roc_auc_test}')\n"
   ]
  }
 ],
 "metadata": {
  "kernelspec": {
   "display_name": "Python 3",
   "language": "python",
   "name": "python3"
  },
  "language_info": {
   "codemirror_mode": {
    "name": "ipython",
    "version": 3
   },
   "file_extension": ".py",
   "mimetype": "text/x-python",
   "name": "python",
   "nbconvert_exporter": "python",
   "pygments_lexer": "ipython3",
   "version": "3.11.1"
  }
 },
 "nbformat": 4,
 "nbformat_minor": 2
}
