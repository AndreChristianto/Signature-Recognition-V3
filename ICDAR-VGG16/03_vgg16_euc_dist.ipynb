{
 "cells": [
  {
   "cell_type": "code",
   "execution_count": 1,
   "metadata": {},
   "outputs": [],
   "source": [
    "import numpy as np"
   ]
  },
  {
   "cell_type": "markdown",
   "metadata": {},
   "source": [
    "### Load Features, Names, and Labels"
   ]
  },
  {
   "cell_type": "code",
   "execution_count": 2,
   "metadata": {},
   "outputs": [],
   "source": [
    "train_features_path =  \"../feature/ICDAR-feature/train_features.npy\"\n",
    "train_names_path = \"../feature/ICDAR-feature/train_names.npy\"\n",
    "train_labels_path = \"../feature/ICDAR-feature/train_labels.npy\"\n",
    "\n",
    "test_features_path = \"../feature/ICDAR-feature/test_features.npy\"\n",
    "test_names_path = \"../feature/ICDAR-feature/test_names.npy\"\n",
    "test_labels_path = \"../feature/ICDAR-feature/test_labels.npy\"\n",
    "\n",
    "validation_features_path = \"../feature/ICDAR-feature/validation_features.npy\"\n",
    "validation_names_path = \"../feature/ICDAR-feature/validation_names.npy\"\n",
    "validation_labels_path = \"../feature/ICDAR-feature/validation_labels.npy\""
   ]
  },
  {
   "cell_type": "code",
   "execution_count": 3,
   "metadata": {},
   "outputs": [],
   "source": [
    "train_features = np.load(train_features_path)\n",
    "train_names = np.load(train_names_path)\n",
    "train_labels = np.load(train_labels_path)\n",
    "\n",
    "test_features = np.load(test_features_path)\n",
    "test_names = np.load(test_names_path)\n",
    "test_labels = np.load(test_labels_path)\n",
    "\n",
    "validation_features = np.load(validation_features_path)\n",
    "validation_names = np.load(validation_names_path)\n",
    "validation_labels = np.load(validation_labels_path)"
   ]
  },
  {
   "cell_type": "code",
   "execution_count": 4,
   "metadata": {},
   "outputs": [
    {
     "name": "stdout",
     "output_type": "stream",
     "text": [
      "train_features shape :  (857, 512)\n",
      "test_features shape :  (401, 512)\n",
      "validation_features shape :  (391, 512)\n"
     ]
    }
   ],
   "source": [
    "print(\"train_features shape : \", train_features.shape)\n",
    "print(\"test_features shape : \", test_features.shape)\n",
    "print(\"validation_features shape : \", validation_features.shape)"
   ]
  },
  {
   "cell_type": "markdown",
   "metadata": {},
   "source": [
    "### Feature Gallery"
   ]
  },
  {
   "cell_type": "code",
   "execution_count": 5,
   "metadata": {},
   "outputs": [],
   "source": [
    "# Feature Gallery dilakukan untuk setiap kelas / nama seperti \"001\", \"002\", \"003\", dst dengan cara mengambil data training positive dan mengambil mean / rata-rata dari data tersebut\n",
    "def create_feature_gallery(train_features, train_names, train_labels):\n",
    "    gallery_feature = []\n",
    "    gallery_name = []\n",
    "\n",
    "    unique_names = set(train_names.flatten())\n",
    "    sorted_names = sorted(unique_names)\n",
    "\n",
    "    for name in sorted_names:\n",
    "        # print(name)\n",
    "        # print(name)\n",
    "        name_features = []\n",
    "\n",
    "        for feature, feature_name, label in zip(train_features, train_names, train_labels):\n",
    "            # print(feature, feature_name, label)\n",
    "            if name in feature_name and label == 1:\n",
    "                name_features.append(feature)\n",
    "\n",
    "        if name_features:\n",
    "            # print(name_features)\n",
    "            average_feature = np.mean(name_features, axis=0)\n",
    "            gallery_feature.append(average_feature)\n",
    "            gallery_name.append(name)\n",
    "\n",
    "    return gallery_feature, gallery_name"
   ]
  },
  {
   "cell_type": "code",
   "execution_count": 6,
   "metadata": {},
   "outputs": [],
   "source": [
    "gallery_features, gallery_names = create_feature_gallery(train_features, train_names, train_labels)"
   ]
  },
  {
   "cell_type": "code",
   "execution_count": 7,
   "metadata": {},
   "outputs": [],
   "source": [
    "gallery_feature_path = \"../feature/ICDAR-feature/gallery_features.npy\"\n",
    "gallery_name_path = \"../feature/ICDAR-feature/gallery_names.npy\""
   ]
  },
  {
   "cell_type": "code",
   "execution_count": 8,
   "metadata": {},
   "outputs": [],
   "source": [
    "np.save(gallery_feature_path, gallery_features)\n",
    "np.save(gallery_name_path, gallery_names)"
   ]
  },
  {
   "cell_type": "code",
   "execution_count": 9,
   "metadata": {},
   "outputs": [],
   "source": [
    "gallery_features = np.load(gallery_feature_path)\n",
    "gallery_names = np.load(gallery_name_path)"
   ]
  },
  {
   "cell_type": "code",
   "execution_count": 10,
   "metadata": {},
   "outputs": [
    {
     "name": "stdout",
     "output_type": "stream",
     "text": [
      "gallery features shape :  (64, 512)\n"
     ]
    }
   ],
   "source": [
    "gallery_features_array = np.array(gallery_features)\n",
    "print(\"gallery features shape : \", gallery_features_array.shape)"
   ]
  },
  {
   "cell_type": "markdown",
   "metadata": {},
   "source": [
    "### Euclidean Distance"
   ]
  },
  {
   "cell_type": "code",
   "execution_count": 11,
   "metadata": {},
   "outputs": [],
   "source": [
    "def euclidean_distance(feature_vector1, feature_vector2):\n",
    "    return np.sqrt(np.sum((feature_vector1 - feature_vector2)**2))"
   ]
  },
  {
   "cell_type": "code",
   "execution_count": 12,
   "metadata": {},
   "outputs": [],
   "source": [
    "def find_euclidean_distance(test_features, test_names, test_labels, gallery_features, gallery_names):\n",
    "    euclidean_distances = []\n",
    "    euclidean_names = []\n",
    "    euclidean_actual_labels = []\n",
    "\n",
    "    for gallery_feature, gallery_name in zip(gallery_features, gallery_names):\n",
    "        curr_euclid_name = gallery_name\n",
    "        curr_euclid_feature = []\n",
    "        curr_euclid_label = []\n",
    "        curr_euclid_dist = []\n",
    "        for feature, name, label in zip(test_features, test_names, test_labels):\n",
    "            if gallery_name in name:\n",
    "                curr_euclid_feature.append(feature)\n",
    "                curr_euclid_label.append(label)\n",
    "        \n",
    "        for feature in curr_euclid_feature:\n",
    "            distance = euclidean_distance(feature, gallery_feature)\n",
    "            curr_euclid_dist.append(distance)\n",
    "\n",
    "        euclidean_distances.append(curr_euclid_dist)\n",
    "        euclidean_names.append(curr_euclid_name)\n",
    "        euclidean_actual_labels.append(curr_euclid_label)\n",
    "        \n",
    "    return euclidean_distances, euclidean_names, euclidean_actual_labels"
   ]
  },
  {
   "cell_type": "code",
   "execution_count": 13,
   "metadata": {},
   "outputs": [],
   "source": [
    "test_euclidean_distances, test_euclidean_names, test_euclidean_actual_labels = find_euclidean_distance(test_features, test_names, test_labels, gallery_features, gallery_names)\n",
    "train_euclidean_distances, train_euclidean_names, train_euclidean_actual_labels = find_euclidean_distance(train_features, train_names, train_labels, gallery_features, gallery_names)\n",
    "validation_euclidean_distances, validation_euclidean_names, validation_euclidean_actual_labels = find_euclidean_distance(validation_features, validation_names, validation_labels, gallery_features, gallery_names)"
   ]
  },
  {
   "cell_type": "markdown",
   "metadata": {},
   "source": [
    "### Split Euclidean Distance to Positive and Negative for Future Use (If needed)"
   ]
  },
  {
   "cell_type": "code",
   "execution_count": 14,
   "metadata": {},
   "outputs": [],
   "source": [
    "def split_euc_dist(euclidean_distances, euclidean_names, euclidean_actual_labels):\n",
    "    positive_distance = []\n",
    "    positive_name = []\n",
    "    positive_label = []\n",
    "    negative_distance = []\n",
    "    negative_name = []\n",
    "    negative_label = []\n",
    "\n",
    "    for euclidean_distance, euclidean_name, euclidean_actual_label in zip(euclidean_distances, euclidean_names, euclidean_actual_labels):\n",
    "        pos_dist = []\n",
    "        neg_dist = []\n",
    "        pos_lab = []\n",
    "        neg_lab = []\n",
    "        for distance, label in zip(euclidean_distance, euclidean_actual_label):\n",
    "            if label == 0:\n",
    "                neg_dist.append(distance)\n",
    "                neg_lab.append(label)\n",
    "            else:\n",
    "                pos_dist.append(distance)\n",
    "                pos_lab.append(label)\n",
    "\n",
    "        positive_distance.append(pos_dist)\n",
    "        positive_name.append(euclidean_name)\n",
    "        positive_label.append(pos_lab)\n",
    "\n",
    "        negative_distance.append(neg_dist)\n",
    "        negative_name.append(euclidean_name)\n",
    "        negative_label.append(neg_lab)\n",
    "        # print(euclidean_distance, euclidean_name, euclidean_actual_label)\n",
    "\n",
    "    return positive_distance, negative_label"
   ]
  },
  {
   "cell_type": "code",
   "execution_count": 15,
   "metadata": {},
   "outputs": [],
   "source": [
    "train_positive_dist, train_negative_dist = split_euc_dist(train_euclidean_distances, train_names, train_euclidean_actual_labels)\n",
    "test_positive_dist, test_negative_dist = split_euc_dist(test_euclidean_distances, test_names, test_euclidean_actual_labels)\n",
    "validation_positive_dist, validation_negative_dist = split_euc_dist(validation_euclidean_distances, validation_names, validation_euclidean_actual_labels)"
   ]
  },
  {
   "cell_type": "code",
   "execution_count": 16,
   "metadata": {},
   "outputs": [
    {
     "name": "stdout",
     "output_type": "stream",
     "text": [
      "Train total : 857\n",
      "  Train pos : 463\n",
      "  Train neg : 394\n",
      " Test total : 401\n",
      "   Test pos : 212\n",
      "   Test neg : 189\n",
      "  Val total : 391\n",
      "    Val pos : 212\n",
      "    Val neg : 179\n"
     ]
    }
   ],
   "source": [
    "flat_train_positive_dist = [item for sublist in train_positive_dist for item in sublist]\n",
    "flat_train_negative_dist = [item for sublist in train_negative_dist for item in sublist]\n",
    "flat_test_positive_dist = [item for sublist in test_positive_dist for item in sublist]\n",
    "flat_test_negative_dist = [item for sublist in test_negative_dist for item in sublist]\n",
    "flat_validation_positive_dist = [item for sublist in validation_positive_dist for item in sublist]\n",
    "flat_validation_negative_dist = [item for sublist in validation_negative_dist for item in sublist]\n",
    "\n",
    "print(f'Train total : {len(flat_train_positive_dist) + len(flat_train_negative_dist)}')\n",
    "print(f'  Train pos : {len(flat_train_positive_dist)}')\n",
    "print(f'  Train neg : {len(flat_train_negative_dist)}')\n",
    "print(f' Test total : {len(flat_test_positive_dist) + len(flat_test_negative_dist)}')\n",
    "print(f'   Test pos : {len(flat_test_positive_dist)}')\n",
    "print(f'   Test neg : {len(flat_test_negative_dist)}')\n",
    "print(f'  Val total : {len(flat_validation_positive_dist) + len(flat_validation_negative_dist)}')\n",
    "print(f'    Val pos : {len(flat_validation_positive_dist)}')\n",
    "print(f'    Val neg : {len(flat_validation_negative_dist)}')"
   ]
  },
  {
   "cell_type": "markdown",
   "metadata": {},
   "source": [
    "### Normalize Euclidean Distance"
   ]
  },
  {
   "cell_type": "code",
   "execution_count": 17,
   "metadata": {},
   "outputs": [],
   "source": [
    "# Flatten the lists of distances\n",
    "flat_test_distances = [item for sublist in test_euclidean_distances for item in sublist]\n",
    "flat_train_distances = [item for sublist in train_euclidean_distances for item in sublist]\n",
    "flat_validation_distances = [item for sublist in validation_euclidean_distances for item in sublist]"
   ]
  },
  {
   "cell_type": "code",
   "execution_count": 18,
   "metadata": {},
   "outputs": [
    {
     "name": "stdout",
     "output_type": "stream",
     "text": [
      "[56.099308, 49.63134, 55.47484, 30.277966, 44.332897, 53.872494, 39.599842, 47.78665, 47.553905, 47.302917, 38.41194, 61.128033, 49.142616, 48.987473, 98.77728, 89.22222, 57.66375, 100.57957, 63.915653, 136.93427, 70.96293, 50.093685, 68.38117, 37.041306, 37.63924, 55.21432, 64.32803, 61.6729, 99.71855, 58.56722, 72.32606, 63.15611, 102.07995, 109.15281, 107.69545, 72.277885, 61.285244, 101.3278, 66.063156, 62.556137, 60.30448, 89.006775, 80.69992, 137.47066, 65.170204, 95.25502, 92.99116, 129.20213, 152.91655, 68.99433, 111.696236, 64.568954, 161.55598, 161.85133, 88.39991, 114.53654, 109.11129, 84.36539, 53.953358, 49.621155, 34.164783, 40.590603, 29.171003, 49.813805, 47.11115, 33.588882, 44.842876, 34.580402, 52.515762, 43.58226, 45.31996, 53.529602, 86.07375, 68.86363, 94.61788, 51.07759, 66.37016, 65.42961, 33.277985, 30.907581, 38.50632, 58.167484, 46.75951, 30.773151, 41.361584, 41.975273, 81.8924, 41.708984, 52.159878, 30.761238, 27.933685, 50.587456, 74.61032, 110.88716, 57.700615, 59.25022, 67.38638, 69.72541, 69.94919, 30.211002, 66.67137, 27.705952, 39.418774, 39.975464, 39.450943, 38.72553, 55.06225, 52.522854, 51.519226, 45.052822, 38.76261, 38.768345, 87.02853, 85.697754, 76.25697, 66.15168, 54.402588, 60.835983, 46.469032, 41.04856, 63.67733, 59.02233, 83.00267, 70.79024, 44.583515, 101.79625, 65.347694, 47.329704, 66.14699, 62.25395, 80.53501, 68.09942, 84.492714, 67.13681, 117.68555, 101.59557, 94.3676, 81.1312, 21.92804, 30.748089, 28.423132, 29.992922, 64.86546, 35.257904, 113.48302, 79.112686, 65.52714, 83.1767, 88.09946, 58.303337, 47.299416, 51.526325, 37.77068, 39.129898, 44.227566, 38.258713, 57.759937, 52.857315, 60.382133, 85.573265, 70.067444, 52.232346, 59.44738, 48.22105, 96.899284, 88.10611, 102.53418, 94.51758, 122.96327, 93.43895, 81.04004, 81.78642, 109.48776, 67.577065, 55.757202, 51.259953, 61.815254, 81.678505, 55.739136, 82.925446, 58.70979, 51.379017, 37.120354, 30.34671, 56.09825, 69.574425, 42.802505, 160.27435, 89.19498, 80.503975, 123.774605, 139.88861, 86.25872, 35.443142, 63.71262, 46.031536, 46.687428, 46.882957, 51.665092, 64.19013, 42.338352, 43.41651, 21.447432, 41.031242, 46.839523, 72.47485, 52.51657, 55.546547, 56.660896, 49.193886, 52.612507, 45.38024, 48.049984, 68.72602, 69.4027, 46.86247, 42.611576, 33.560566, 40.75478, 38.335896, 56.547466, 84.97379, 71.754524, 145.27022, 60.16727, 124.6724, 87.06069, 59.85529, 25.224426, 21.647717, 60.954033, 40.873478, 47.23066, 68.1393, 88.98915, 127.47125, 78.50884, 95.76128, 83.38959, 25.08242, 37.9415, 48.219387, 56.61496, 36.614094, 35.296265, 87.02717, 76.37953, 132.6557, 145.3598, 176.22826, 120.5454, 53.94772, 45.30666, 31.397587, 38.09107, 59.597023, 76.26663, 119.36378, 132.58875, 113.499825, 149.62616, 103.757416, 84.94319, 125.57748, 95.44887, 103.33929, 152.2144, 103.69469, 69.03156, 49.400917, 63.209747, 62.695858, 71.227196, 75.298965, 127.505615, 146.48633, 101.26896, 126.49846, 125.73734, 108.36808, 69.57664, 39.11245, 85.06976, 34.712284, 36.184353, 31.552969, 63.470676, 112.7805, 90.49231, 68.63535, 165.42587, 137.4656, 93.817154, 100.62967, 102.925255, 60.153458, 66.56522, 62.441338, 59.875565, 36.16298, 51.412346, 104.62589, 117.660576, 91.82601, 70.2412, 79.3671, 70.65359, 45.49079, 50.07257, 36.415546, 39.850834, 75.31964, 97.254944, 155.71048, 114.3725, 138.72792, 149.82387, 44.422314, 58.88606, 33.201794, 52.048645, 50.01766, 28.96806, 75.12754, 71.68594, 92.38516, 104.24019, 65.377785, 30.356537, 43.46603, 26.593777, 45.39632, 49.639362, 86.149605, 113.73574, 118.86208, 74.95014, 85.20907, 90.19959, 80.67336, 39.187447, 38.587204, 38.510235, 46.775257, 31.135798, 79.0002, 79.229256, 97.04599, 87.230286, 33.672523, 42.504444, 41.002544, 35.646973, 24.77482, 29.902147, 57.065388, 152.6869, 63.025463, 30.393087, 79.87344, 98.56043, 37.56716, 30.838919, 49.07242, 24.928162, 33.187035, 37.35951, 81.1275, 66.67923, 66.76747, 39.6554, 85.275856, 60.76034, 65.801, 42.86667, 45.831688, 50.188454, 78.043495, 40.822212, 69.98811, 75.82013, 61.15521, 69.52272, 64.97582, 137.73051, 43.429157, 84.4238, 37.015373, 30.001762, 35.540604, 39.926155, 51.392975, 56.796875, 106.97287, 94.47546, 25.05407, 31.461075, 36.035378, 36.365955, 32.514877, 26.047586, 87.76456, 104.344475, 109.29211, 95.22426, 101.96927, 48.2279, 36.847507, 44.67712, 49.85483, 48.559673, 33.85561, 37.29755, 54.36529, 71.41698, 61.164112, 77.86158, 87.438896, 68.00927, 129.1235, 79.720345, 70.353294, 45.57152, 43.217934, 39.345524, 47.022923, 35.575855, 76.18732, 107.69988, 63.883503, 105.10755, 65.82145, 126.206276, 119.17622, 67.40755, 50.457905, 38.204994, 28.018612, 50.555195, 41.280033, 122.26611, 105.56536, 77.605385, 125.80863, 66.029144, 141.55434, 43.202095, 29.418951, 35.293594, 36.831894, 38.275105, 48.18011, 88.68389, 54.396847, 144.79518, 90.4638, 86.46319, 75.24367, 40.36186, 24.782995, 57.7527, 47.05364, 34.987186, 35.783375, 54.636757, 80.21043, 93.264725, 64.872955, 63.71971, 72.30417, 59.84998, 119.48183, 67.75941, 52.031452, 68.428215, 75.47382, 43.6022, 79.82622, 55.152687, 72.33359, 82.74402, 72.04108, 108.27374, 78.21251, 66.11006, 31.128286, 29.737633, 30.949497, 29.610235, 33.6254, 34.714314, 61.51303, 98.49063, 94.09018, 101.92925, 145.06775, 79.1119, 45.584873, 36.810192, 42.543312, 40.4899, 58.052223, 46.09365, 56.73269, 68.18796, 52.820423, 60.599194, 48.231503, 40.02069, 43.471092, 61.64417, 31.719393, 43.933903, 96.359184, 89.94204, 143.69933, 74.7182, 85.28555, 93.335625, 43.917027, 57.062725, 43.257847, 33.190067, 29.117142, 46.168922, 94.60865, 99.78334, 111.66587, 102.627754, 92.133286, 104.37324, 42.035725, 23.990257, 30.195375, 27.959137, 40.664246, 51.021137, 77.5456, 96.6518, 85.40217, 71.87945, 89.79709, 46.689877, 33.285416, 35.146774, 60.898422, 43.940174, 43.2214, 59.32779, 145.04375, 77.67479, 118.96907, 102.214325, 68.83376, 102.93909, 61.077248, 33.37067, 33.054947, 49.670628, 24.923506, 52.258896, 75.09878, 110.55585, 74.682335, 103.517395, 85.30944, 72.632034, 53.22485, 67.5495, 99.92175, 44.463505, 38.669014, 43.381382, 173.89108, 92.09172, 88.76136, 125.22901, 94.03879, 76.22698, 25.340178, 52.90959, 29.07031, 40.358803, 44.460598, 38.147728, 83.35355, 156.22961, 113.70808, 53.58487, 122.73222, 64.7951, 54.981827, 71.39281, 51.337387, 52.25626, 44.896633, 67.43612, 91.274864, 73.98482, 64.71723, 100.28252, 60.598248, 81.10019, 28.893341, 37.921646, 44.008488, 49.74175, 72.247475, 85.07591, 134.48782, 108.216, 139.5917, 117.19115, 76.75588, 38.713272, 44.031418, 59.95254, 37.038025, 43.205845, 56.67167, 109.29971, 81.83625, 97.009895, 79.80459, 101.62092, 48.35496, 33.979145, 26.476147, 56.332607, 34.173283, 76.08847, 112.67299, 115.492744, 97.216446, 117.63217, 64.590195, 29.77071, 23.552624, 29.423914, 19.785326, 24.065018, 96.312294, 118.57635, 67.75637, 88.62431, 138.65869, 52.865612, 93.44492, 139.15767, 66.054596, 27.660496, 25.9926, 22.380777, 25.090342, 29.535658, 27.733633, 90.948494, 56.75103, 42.814754, 78.04688, 37.05584, 51.286057, 35.26374, 43.018917, 74.141426, 50.828304, 85.82317, 48.952267, 53.507225, 32.93893, 47.888893, 87.771416, 70.99725, 80.113625, 78.5662, 105.167656, 146.38147, 71.369995, 90.68341, 91.13794, 133.28665, 170.55699, 85.9848, 34.64152, 37.226696, 23.121412, 19.988842, 25.995308, 22.65617, 88.7655, 66.41422, 116.46245, 46.23268, 171.71863, 36.69833, 59.044544, 56.356445, 62.230118, 60.917877, 109.60925, 66.72146, 74.204926, 110.847946, 146.76494, 120.90756, 54.78607, 46.46434, 57.345963, 74.118065, 92.43902, 29.905891, 123.62697, 87.15862, 76.08153, 97.68722, 90.87468, 81.63222, 59.429623, 69.93487, 79.15109, 34.33774, 38.63013, 49.72224, 137.794, 78.82863, 70.383125, 146.16852, 106.60421, 94.8336, 86.23193, 92.37418, 157.72527, 65.51723, 55.07052, 42.968735, 65.347275, 37.34701, 35.36201, 126.894295, 85.75229, 76.280716, 71.30974, 55.812885, 69.91633, 59.614227, 83.00458, 74.63939, 71.4476, 125.123665, 119.07693, 130.4267, 97.18086, 116.95091, 78.49063, 44.53706, 56.217365, 22.90779, 41.112427, 32.862225, 36.553196, 145.46094, 153.09705, 136.10603, 134.18831, 167.33322, 77.316246, 47.310936, 42.264343, 60.584095, 25.586914, 42.24858, 50.153877, 107.30316, 84.28072, 128.86665, 52.863766, 97.97699, 83.389465, 58.45384, 36.302113, 54.298546, 43.70291, 46.957355, 52.63747, 92.79035, 93.22098, 104.737625, 103.422066, 81.30095, 92.60141, 35.697483, 56.64983, 34.008972, 42.509663, 26.94417, 35.912548, 120.08192, 59.726013, 70.55831, 74.18135, 62.878334, 68.828674, 56.38018, 75.30969, 97.10665, 49.079945, 83.70026, 73.61646, 129.08408, 153.48232, 42.577675, 36.08603, 33.56515, 28.950397, 47.662544, 26.369883, 59.55521, 66.62316, 97.981606, 77.70787, 67.61484, 92.735374, 62.20885, 97.54729, 103.69334, 27.573067, 58.129017, 38.321766, 70.95241, 45.82571, 40.639835, 74.58435, 78.1881, 64.262375, 55.949203, 32.717815, 40.678, 31.542746, 33.19661, 37.544727, 19.918518, 98.29477, 96.069496, 113.84821, 79.49779, 32.299347, 27.82248, 47.98759, 42.414017, 28.413193, 50.32374, 59.581722, 120.3951, 109.4959, 77.951584, 76.41186, 97.15721]\n"
     ]
    }
   ],
   "source": [
    "print(flat_train_distances)"
   ]
  },
  {
   "cell_type": "code",
   "execution_count": 19,
   "metadata": {},
   "outputs": [],
   "source": [
    "def get_min_max(euclidean_distances):\n",
    "    min_distance = min(euclidean_distances)\n",
    "    max_distance = max(euclidean_distances)\n",
    "\n",
    "    return min_distance, max_distance"
   ]
  },
  {
   "cell_type": "code",
   "execution_count": 20,
   "metadata": {},
   "outputs": [
    {
     "name": "stdout",
     "output_type": "stream",
     "text": [
      "min: 19.78532600402832, max: 176.22825622558594\n"
     ]
    }
   ],
   "source": [
    "min_val, max_val = get_min_max(flat_train_distances)\n",
    "print(f'min: {min_val}, max: {max_val}')"
   ]
  },
  {
   "cell_type": "code",
   "execution_count": 21,
   "metadata": {},
   "outputs": [],
   "source": [
    "def normalize_distance(euclidean_distances, min_val, max_val):\n",
    "    all_distance = []\n",
    "\n",
    "    for distance in euclidean_distances:\n",
    "        normalized_distance = (distance - min_val) / (max_val - min_val)\n",
    "\n",
    "        # in case test and train distances are beyond max of train\n",
    "        if normalized_distance > 1:\n",
    "            normalized_distance = 1\n",
    "        elif normalized_distance < 0:\n",
    "            normalized_distance = 0\n",
    "        \n",
    "        all_distance.append(normalized_distance)\n",
    "\n",
    "    return all_distance\n",
    "\n",
    "def reverse_normalized_distance(euclidean_distances, min_val, max_val):\n",
    "    reverse_distance = []\n",
    "    normalized_distances = normalize_distance(euclidean_distances, min_val, max_val)\n",
    "    for distance in normalized_distances:\n",
    "        distance = -distance\n",
    "        reverse_distance.append(distance)\n",
    "\n",
    "    return reverse_distance"
   ]
  },
  {
   "cell_type": "code",
   "execution_count": 22,
   "metadata": {},
   "outputs": [],
   "source": [
    "# normalized_positive_distances = reverse_normalized_distance(positive_distance)\n",
    "# normalized_negative_distances = reverse_normalized_distance(negative_distance)"
   ]
  },
  {
   "cell_type": "code",
   "execution_count": 23,
   "metadata": {},
   "outputs": [],
   "source": [
    "normalized_test_euclidean_distance = reverse_normalized_distance(flat_test_distances, min_val, max_val)\n",
    "normalized_train_euclidean_distance = reverse_normalized_distance(flat_train_distances, min_val, max_val)\n",
    "normalized_validation_euclidean_distance = reverse_normalized_distance(flat_validation_distances, min_val, max_val)"
   ]
  },
  {
   "cell_type": "code",
   "execution_count": 24,
   "metadata": {},
   "outputs": [
    {
     "name": "stdout",
     "output_type": "stream",
     "text": [
      "[-0.10605295, -0.32315898, -0.24133453, -0.15420465, -0.28128934, -0.24882913, -0.40191066, -0.20113398, -0.28813952, -0.22360349, -0.37636083, -0.31667623, -0.680989, -0.55319476, -0.4382814, -0.4484842, -0.34496647, -0.27546045, -0.32763645, -0.39588398, -0.42898783, -0.3985424, -0.3900984, -0.24622858, -0.27095523, -0.25800082, -0.10693774, -0.23429279, -0.26527327, -0.3013465, -0.49602976, -0.2554345, -0.32290554, -0.26836795, -0.13941464, -0.19565864, -0.37410828, -0.30738598, -0.60579723, -0.22420807, -0.47621292, -0.28036454, -0.124269344, -0.16279921, -0.30478713, -0.2996372, -0.3032546, -0.38326895, -0.23025066, -0.41645727, -0.41580924, -0.50395286, -0.47290012, -0.41236588, -0.47898445, -0.117108, -0.041782796, -0.106640846, -0.40748963, -0.46947086, -0.27278632, -0.2107234, -0.3575211, -0.27560014, -0.36838365, -0.17663482, -0.4232168, -0.33069685, -0.35756943, -0.4549845, -0.1368575, -0.26859143, -0.26784506, -0.16471116, -0.20968391, -0.5191112, -0.3370277, -0.6122186, -0.34423906, -0.07856579, -0.18972209, -0.4352327, -0.123013504, -0.29887632, -0.34986496, -0.46470144, -0.20038915, -0.10307406, -0.20989703, -0.25016806, -0.31787655, -0.9508881, -0.95067596, -0.2786691, -0.13133125, -0.082701996, -0.2512876, -0.28975546, -0.58597815, -0.14355165, -0.15426439, -0.052991368, -0.34835595, -0.56232244, -1, -0.56075233, -0.30203834, -0.16958353, -0.5591924, -0.4265983, -0.55675894, -0.681988, -0.099480495, -0.27916604, -0.30382803, -0.4302299, -0.61286473, -0.5453459, -0.09903132, -0.09015256, -0.20254798, -0.39321154, -0.28960043, -0.56423306, -0.5396316, -0.41261795, -0.35952535, -0.30841753, -0.42389446, -0.8855434, -0.2469937, -0.28766432, -0.2381454, -0.6321242, -0.58629036, -0.62322384, -0.10368927, -0.11955988, -0.38030317, -0.6247389, -0.71099484, -0.10507447, -0.17165357, -0.23838012, -0.3514395, -0.4868455, -0.59293264, -0.1684167, -0.13748991, -0.23087722, -0.4456336, -0.3347358, -0.036280457, -0.029807603, -0.3066818, -0.2692781, -0.30054048, -0.23002677, -0.10053652, -0.13361184, -0.08824725, -0.34303108, -0.38954985, -0.3098454, -0.13946906, -0.11017959, -0.20345715, -0.43093854, -0.76869345, -0.4286369, -0.14351548, -0.34180066, -0.050121095, -0.8392354, -0.8835131, -0.19511259, -0.11101462, -0.33297732, -0.21679749, -0.24806084, -0.40857583, -0.17185965, -0.30857942, -0.1962284, -0.33012044, -0.16491202, -0.38792953, -0.32847732, -0.23326491, -0.16467746, -0.16533466, -0.60647875, -0.6443051, -0.6081788, -0.102274336, -0.1877193, -0.16638738, -0.47067684, -0.71535057, -0.43646702, -0.14608282, -0.203865, -0.036028866, -0.2783379, -0.257879, -0.18374096, -0.1327885, -0.10478454, -0.09628269, -0.4593703, -0.33196598, -0.4466523, -0.21091911, -0.37643445, -0.20425859, -0.25283045, -0.32032913, -0.2352121, -0.2879801, -0.1462354, -0.16794, -0.20400885, -0.28707716, -0.21462527, -0.3667951, -0.16979587, -0.08726143, -0.13540702, -0.31413746, -0.12324822, -0.19524811, -0.22033687, -0.08761293, -0.51557595, -0.93741494, -0.58914274, -0.19716153, -0.14288682, -0.17940535, -0.54721314, -0.380719, -0.72267497, -0.102350146, -0.24712923, -0.33453682, -0.28466013, -0.4105578, -0.69187224, -0.21827482, -0.12548254, -0.54710215, -0.57171154, -0.68805337, -0.33503103, -0.09036558, -0.15112406, -0.12988102, -0.3351059, -0.34405106, -0.435212, -0.25951427, -0.44483146, -0.266816, -0.5104815, -0.55780697, -0.518996, -0.11961304, -0.22880459, -0.1036541, -0.3631497, -0.31610596, -0.30234665, -0.359676, -0.24946555, -0.19482268, -0.4458848, -0.3062092, -0.13417135, -0.21387786, -0.14958687, -0.41074464, -0.31006166, -0.6904929, -0.1384614, -0.13381457, -0.1207225, -0.5030812, -0.49467376, -0.51437694, -0.16917212, -0.19484502, -0.22737491, -0.61020225, -0.5973748, -0.024976436, -0.08119351, -0.14991942, -0.557914, -0.40915987, -0.86939955, -0.20106241, 0, -0.02434644, -0.013276515, -0.22855534, -0.24122518, -0.09108666, -0.30355325, -0.2830555, -0.19427441, -0.30626845, -0.34929946, -0.51893216, -0.924768, -0.51587045, -0.07112658, -0.077503346, -0.07113677, -0.20262098, -0.35852352, -0.570916, -0.2846038, -0.45028028, -0.6802377, -0.4719521, -0.4068853, -0.15057881, -0.27455807, -0.4270766, -0.41964462, -0.5244487, -0.5600231, -0.19616021, -0.12322301, -0.14855804, -0.26824632, -0.77152264, -0.5686598, -0.44523993, -0.38745093, -0.33849907, -0.17481238, -0.290857, -0.6788441, -0.41015494, -0.28926164, -0.31223843, -0.88093406, -0.8533034, -0.8346739, -0.11851308, -0.19508764, -0.15377125, -0.6945814, -0.517148, -1, -0.27326557, -0.165328, -0.29115778, -0.40976283, -0.33297387, -0.40175638, -0.15774849, -0.45570493, -0.19789582, -0.20662275, -0.55567795, -0.15841496, -0.1064902, -0.15678596, -0.17220412, -0.17160112, -0.19914006, -0.4428689, -0.40832305, -0.4854628, -0.6540216, -0.7679212, -0.25835842, -0.2876778, -0.16105105, -0.41324487, -0.71397966, -0.5182909, -0.72289014, -0.3186546, -0.29545668, -0.1558519, -0.3699808, -0.49248612, -0.21357296, -0.106243774, -0.069150604, -0.23116681, -0.24630086, -0.14923032, -0.17002313, -0.06728711, -0.582135, -0.47774935, -0.6441739]\n"
     ]
    }
   ],
   "source": [
    "print(normalized_test_euclidean_distance)"
   ]
  },
  {
   "cell_type": "markdown",
   "metadata": {},
   "source": [
    "# 3. ROC Curve"
   ]
  },
  {
   "cell_type": "code",
   "execution_count": 25,
   "metadata": {},
   "outputs": [],
   "source": [
    "from sklearn.metrics import roc_curve, auc\n",
    "import matplotlib.pyplot as plt\n",
    "from matplotlib.ticker import MultipleLocator"
   ]
  },
  {
   "cell_type": "code",
   "execution_count": 26,
   "metadata": {},
   "outputs": [
    {
     "data": {
      "image/png": "[encoded data removed]",
      "text/plain": [
       "<Figure size 800x800 with 1 Axes>"
      ]
     },
     "metadata": {},
     "output_type": "display_data"
    }
   ],
   "source": [
    "# Flatten the lists of labels\n",
    "flat_test_labels = [item for sublist in test_euclidean_actual_labels for item in sublist]\n",
    "flat_train_labels = [item for sublist in train_euclidean_actual_labels for item in sublist]\n",
    "flat_validation_labels = [item for sublist in validation_euclidean_actual_labels for item in sublist]\n",
    "\n",
    "# Calculate ROC curve\n",
    "fpr_test, tpr_test, thresholds_test = roc_curve(flat_test_labels, normalized_test_euclidean_distance, drop_intermediate=False)\n",
    "roc_auc_test = auc(fpr_test, tpr_test)\n",
    "fpr_train, tpr_train, thresholds_train = roc_curve(flat_train_labels, normalized_train_euclidean_distance, drop_intermediate=False)\n",
    "roc_auc_train = auc(fpr_train, tpr_train)\n",
    "fpr_validation, tpr_validation, thresholds_validation = roc_curve(flat_validation_labels, normalized_validation_euclidean_distance, drop_intermediate=False)\n",
    "roc_auc_validation = auc(fpr_validation, tpr_validation)\n",
    "\n",
    "# Plot ROC curve\n",
    "plt.figure(figsize=(8, 8))\n",
    "\n",
    "plt.plot(fpr_train, tpr_train, color='darkseagreen', lw=2, label=f'Train AUC = {roc_auc_train:.5f}')\n",
    "plt.plot(fpr_validation, tpr_validation, color='steelblue', lw=2, label=f'Validation AUC = {roc_auc_validation:.5f}')\n",
    "plt.plot(fpr_test, tpr_test, color='peru', lw=2, label=f'Test AUC = {roc_auc_test:.5f}')\n",
    "\n",
    "plt.plot([0, 1], [0, 1], color='navy', lw=2, linestyle='--')\n",
    "plt.xlabel('False Positive Rate')\n",
    "plt.ylabel('True Positive Rate')\n",
    "plt.title('ROC Curves - Euclidean Distance')\n",
    "plt.legend(loc='lower right')\n",
    "plt.show()"
   ]
  },
  {
   "cell_type": "code",
   "execution_count": 27,
   "metadata": {},
   "outputs": [
    {
     "name": "stdout",
     "output_type": "stream",
     "text": [
      "[0.         0.00471698 0.00943396 0.01415094 0.01886792 0.02358491\n",
      " 0.02830189 0.03301887 0.03773585 0.04245283 0.04716981 0.05188679\n",
      " 0.05660377 0.06132075 0.06603774 0.07075472 0.0754717  0.08018868\n",
      " 0.08490566 0.08962264 0.09433962 0.0990566  0.10377358 0.10849057\n",
      " 0.10849057 0.11320755 0.11792453 0.12264151 0.12735849 0.13207547\n",
      " 0.13679245 0.14150943 0.14622642 0.1509434  0.15566038 0.16037736\n",
      " 0.16509434 0.16981132 0.1745283  0.17924528 0.18396226 0.18867925\n",
      " 0.19339623 0.19811321 0.20283019 0.20754717 0.21226415 0.21698113\n",
      " 0.22169811 0.22641509 0.22641509 0.23113208 0.23584906 0.24056604\n",
      " 0.24528302 0.25       0.25471698 0.25943396 0.26415094 0.26886792\n",
      " 0.27358491 0.27830189 0.28301887 0.28773585 0.29245283 0.29716981\n",
      " 0.30188679 0.30660377 0.31132075 0.31603774 0.32075472 0.3254717\n",
      " 0.33018868 0.33490566 0.33962264 0.34433962 0.3490566  0.35377358\n",
      " 0.35849057 0.36320755 0.36792453 0.37264151 0.37264151 0.37735849\n",
      " 0.38207547 0.38679245 0.39150943 0.39150943 0.39622642 0.4009434\n",
      " 0.40566038 0.41037736 0.41509434 0.41981132 0.4245283  0.42924528\n",
      " 0.43396226 0.43396226 0.43867925 0.44339623 0.44811321 0.45283019\n",
      " 0.45754717 0.46226415 0.46226415 0.46698113 0.47169811 0.47641509\n",
      " 0.48113208 0.48584906 0.49056604 0.49528302 0.5        0.50471698\n",
      " 0.50943396 0.51415094 0.51886792 0.52358491 0.52358491 0.52358491\n",
      " 0.52358491 0.52830189 0.53301887 0.53301887 0.53773585 0.54245283\n",
      " 0.54716981 0.55188679 0.55188679 0.55660377 0.56132075 0.56603774\n",
      " 0.56603774 0.57075472 0.5754717  0.5754717  0.5754717  0.58018868\n",
      " 0.58490566 0.58962264 0.59433962 0.5990566  0.5990566  0.60377358\n",
      " 0.60377358 0.60849057 0.61320755 0.61320755 0.61792453 0.62264151\n",
      " 0.62264151 0.62735849 0.63207547 0.63207547 0.63679245 0.64150943\n",
      " 0.64150943 0.64622642 0.6509434  0.6509434  0.6509434  0.65566038\n",
      " 0.66037736 0.66037736 0.66509434 0.66981132 0.66981132 0.6745283\n",
      " 0.67924528 0.68396226 0.68396226 0.68867925 0.69339623 0.69339623\n",
      " 0.69811321 0.70283019 0.70283019 0.70754717 0.70754717 0.71226415\n",
      " 0.71698113 0.72169811 0.72641509 0.72641509 0.73113208 0.73584906\n",
      " 0.74056604 0.74528302 0.75       0.75471698 0.75471698 0.75471698\n",
      " 0.75943396 0.76415094 0.76415094 0.76886792 0.77358491 0.77358491\n",
      " 0.77358491 0.77358491 0.77830189 0.78301887 0.78301887 0.78301887\n",
      " 0.78301887 0.78301887 0.78773585 0.78773585 0.78773585 0.78773585\n",
      " 0.79245283 0.79245283 0.79245283 0.79716981 0.80188679 0.80188679\n",
      " 0.80660377 0.81132075 0.81132075 0.81132075 0.81603774 0.81603774\n",
      " 0.81603774 0.82075472 0.82075472 0.8254717  0.8254717  0.83018868\n",
      " 0.83490566 0.83962264 0.83962264 0.83962264 0.83962264 0.83962264\n",
      " 0.83962264 0.84433962 0.8490566  0.8490566  0.8490566  0.8490566\n",
      " 0.8490566  0.85377358 0.85849057 0.85849057 0.85849057 0.86320755\n",
      " 0.86792453 0.86792453 0.86792453 0.86792453 0.86792453 0.87264151\n",
      " 0.87264151 0.87264151 0.87735849 0.88207547 0.88207547 0.88207547\n",
      " 0.88679245 0.88679245 0.88679245 0.89150943 0.89622642 0.9009434\n",
      " 0.9009434  0.90566038 0.91037736 0.91037736 0.91037736 0.91037736\n",
      " 0.91037736 0.91509434 0.91509434 0.91509434 0.91509434 0.91509434\n",
      " 0.91509434 0.91981132 0.91981132 0.91981132 0.91981132 0.9245283\n",
      " 0.9245283  0.9245283  0.9245283  0.92924528 0.92924528 0.93396226\n",
      " 0.93867925 0.93867925 0.93867925 0.93867925 0.93867925 0.94339623\n",
      " 0.94339623 0.94339623 0.94339623 0.94339623 0.94339623 0.94811321\n",
      " 0.94811321 0.94811321 0.95283019 0.95754717 0.95754717 0.95754717\n",
      " 0.95754717 0.95754717 0.96226415 0.96698113 0.96698113 0.97169811\n",
      " 0.97169811 0.97169811 0.97169811 0.97169811 0.97169811 0.97169811\n",
      " 0.97641509 0.97641509 0.97641509 0.98113208 0.98113208 0.98113208\n",
      " 0.98113208 0.98113208 0.98113208 0.98584906 0.98584906 0.98584906\n",
      " 0.98584906 0.98584906 0.98584906 0.98584906 0.98584906 0.98584906\n",
      " 0.98584906 0.98584906 0.98584906 0.98584906 0.99056604 0.99056604\n",
      " 0.99056604 0.99056604 0.99056604 0.99056604 0.99056604 0.99056604\n",
      " 0.99056604 0.99528302 0.99528302 0.99528302 0.99528302 0.99528302\n",
      " 0.99528302 0.99528302 0.99528302 0.99528302 0.99528302 0.99528302\n",
      " 0.99528302 0.99528302 0.99528302 0.99528302 0.99528302 0.99528302\n",
      " 0.99528302 0.99528302 0.99528302 0.99528302 0.99528302 0.99528302\n",
      " 0.99528302 0.99528302 1.         1.         1.         1.\n",
      " 1.         1.         1.         1.         1.         1.\n",
      " 1.         1.         1.         1.         1.         1.\n",
      " 1.         1.         1.         1.         1.         1.\n",
      " 1.         1.         1.         1.         1.        ]\n"
     ]
    }
   ],
   "source": [
    "print(tpr_test)"
   ]
  },
  {
   "cell_type": "code",
   "execution_count": 28,
   "metadata": {},
   "outputs": [
    {
     "name": "stdout",
     "output_type": "stream",
     "text": [
      "[0.         0.         0.         0.         0.         0.\n",
      " 0.         0.         0.         0.         0.         0.\n",
      " 0.         0.         0.         0.         0.         0.\n",
      " 0.         0.         0.         0.         0.         0.\n",
      " 0.00529101 0.00529101 0.00529101 0.00529101 0.00529101 0.00529101\n",
      " 0.00529101 0.00529101 0.00529101 0.00529101 0.00529101 0.00529101\n",
      " 0.00529101 0.00529101 0.00529101 0.00529101 0.00529101 0.00529101\n",
      " 0.00529101 0.00529101 0.00529101 0.00529101 0.00529101 0.00529101\n",
      " 0.00529101 0.00529101 0.01058201 0.01058201 0.01058201 0.01058201\n",
      " 0.01058201 0.01058201 0.01058201 0.01058201 0.01058201 0.01058201\n",
      " 0.01058201 0.01058201 0.01058201 0.01058201 0.01058201 0.01058201\n",
      " 0.01058201 0.01058201 0.01058201 0.01058201 0.01058201 0.01058201\n",
      " 0.01058201 0.01058201 0.01058201 0.01058201 0.01058201 0.01058201\n",
      " 0.01058201 0.01058201 0.01058201 0.01058201 0.01587302 0.01587302\n",
      " 0.01587302 0.01587302 0.01587302 0.02116402 0.02116402 0.02116402\n",
      " 0.02116402 0.02116402 0.02116402 0.02116402 0.02116402 0.02116402\n",
      " 0.02116402 0.02645503 0.02645503 0.02645503 0.02645503 0.02645503\n",
      " 0.02645503 0.02645503 0.03174603 0.03174603 0.03174603 0.03174603\n",
      " 0.03174603 0.03174603 0.03174603 0.03174603 0.03174603 0.03174603\n",
      " 0.03174603 0.03174603 0.03174603 0.03174603 0.03703704 0.04232804\n",
      " 0.04761905 0.04761905 0.04761905 0.05291005 0.05291005 0.05291005\n",
      " 0.05291005 0.05291005 0.05820106 0.05820106 0.05820106 0.05820106\n",
      " 0.06349206 0.06349206 0.06349206 0.06878307 0.07407407 0.07407407\n",
      " 0.07407407 0.07407407 0.07407407 0.07407407 0.07936508 0.07936508\n",
      " 0.08465608 0.08465608 0.08465608 0.08994709 0.08994709 0.08994709\n",
      " 0.0952381  0.0952381  0.0952381  0.1005291  0.1005291  0.1005291\n",
      " 0.10582011 0.10582011 0.10582011 0.11111111 0.11640212 0.11640212\n",
      " 0.11640212 0.12169312 0.12169312 0.12169312 0.12698413 0.12698413\n",
      " 0.12698413 0.12698413 0.13227513 0.13227513 0.13227513 0.13756614\n",
      " 0.13756614 0.13756614 0.14285714 0.14285714 0.14814815 0.14814815\n",
      " 0.14814815 0.14814815 0.14814815 0.15343915 0.15343915 0.15343915\n",
      " 0.15343915 0.15343915 0.15343915 0.15343915 0.15873016 0.16402116\n",
      " 0.16402116 0.16402116 0.16931217 0.16931217 0.16931217 0.17460317\n",
      " 0.17989418 0.18518519 0.18518519 0.18518519 0.19047619 0.1957672\n",
      " 0.2010582  0.20634921 0.20634921 0.21164021 0.21693122 0.22222222\n",
      " 0.22222222 0.22751323 0.23280423 0.23280423 0.23280423 0.23809524\n",
      " 0.23809524 0.23809524 0.24338624 0.24867725 0.24867725 0.25396825\n",
      " 0.25925926 0.25925926 0.26455026 0.26455026 0.26984127 0.26984127\n",
      " 0.26984127 0.26984127 0.27513228 0.28042328 0.28571429 0.29100529\n",
      " 0.2962963  0.2962963  0.2962963  0.3015873  0.30687831 0.31216931\n",
      " 0.31746032 0.31746032 0.31746032 0.32275132 0.32804233 0.32804233\n",
      " 0.32804233 0.33333333 0.33862434 0.34391534 0.34920635 0.34920635\n",
      " 0.35449735 0.35978836 0.35978836 0.35978836 0.36507937 0.37037037\n",
      " 0.37037037 0.37566138 0.38095238 0.38095238 0.38095238 0.38095238\n",
      " 0.38624339 0.38624339 0.38624339 0.39153439 0.3968254  0.4021164\n",
      " 0.40740741 0.40740741 0.41269841 0.41798942 0.42328042 0.42857143\n",
      " 0.43386243 0.43386243 0.43915344 0.44444444 0.44973545 0.44973545\n",
      " 0.45502646 0.46031746 0.46560847 0.46560847 0.47089947 0.47089947\n",
      " 0.47089947 0.47619048 0.48148148 0.48677249 0.49206349 0.49206349\n",
      " 0.4973545  0.5026455  0.50793651 0.51322751 0.51851852 0.51851852\n",
      " 0.52380952 0.52910053 0.52910053 0.52910053 0.53439153 0.53968254\n",
      " 0.54497354 0.55026455 0.55026455 0.55026455 0.55555556 0.55555556\n",
      " 0.56084656 0.56613757 0.57142857 0.57671958 0.58201058 0.58730159\n",
      " 0.58730159 0.59259259 0.5978836  0.5978836  0.6031746  0.60846561\n",
      " 0.61375661 0.61904762 0.62433862 0.62433862 0.62962963 0.63492063\n",
      " 0.64021164 0.64550265 0.65079365 0.65608466 0.66137566 0.66666667\n",
      " 0.67195767 0.67724868 0.68253968 0.68783069 0.68783069 0.69312169\n",
      " 0.6984127  0.7037037  0.70899471 0.71428571 0.71957672 0.72486772\n",
      " 0.73015873 0.73015873 0.73544974 0.74074074 0.74603175 0.75132275\n",
      " 0.75661376 0.76190476 0.76719577 0.77248677 0.77777778 0.78306878\n",
      " 0.78835979 0.79365079 0.7989418  0.8042328  0.80952381 0.81481481\n",
      " 0.82010582 0.82539683 0.83068783 0.83597884 0.84126984 0.84656085\n",
      " 0.85185185 0.85714286 0.85714286 0.86243386 0.86772487 0.87301587\n",
      " 0.87830688 0.88359788 0.88888889 0.89417989 0.8994709  0.9047619\n",
      " 0.91005291 0.91534392 0.92063492 0.92592593 0.93121693 0.93650794\n",
      " 0.94179894 0.94708995 0.95238095 0.95767196 0.96296296 0.96825397\n",
      " 0.97354497 0.97883598 0.98412698 0.98941799 1.        ]\n"
     ]
    }
   ],
   "source": [
    "print(fpr_test)"
   ]
  },
  {
   "cell_type": "code",
   "execution_count": 29,
   "metadata": {},
   "outputs": [],
   "source": [
    "def find_tpr_at_fpr(fpr, tpr, target_fpr):\n",
    "    return np.interp(target_fpr, fpr, tpr)"
   ]
  },
  {
   "cell_type": "code",
   "execution_count": 30,
   "metadata": {},
   "outputs": [],
   "source": [
    "target_fprs = [0.1, 0.01, 0.001]\n",
    "tpr_at_target_fpr_train = [find_tpr_at_fpr(fpr_train, tpr_train, fpr) for fpr in target_fprs]\n",
    "tpr_at_target_fpr_test = [find_tpr_at_fpr(fpr_test, tpr_test, fpr) for fpr in target_fprs]\n",
    "tpr_at_target_fpr_val = [find_tpr_at_fpr(fpr_validation, tpr_validation, fpr) for fpr in target_fprs]"
   ]
  },
  {
   "cell_type": "code",
   "execution_count": 31,
   "metadata": {},
   "outputs": [
    {
     "name": "stdout",
     "output_type": "stream",
     "text": [
      "Train\n",
      "TPR at FPR 0.100: 0.762\n",
      "TPR at FPR 0.010: 0.281\n",
      "TPR at FPR 0.001: 0.132\n",
      "             AUC: 0.917663439716701\n",
      "Validation\n",
      "TPR at FPR 0.100: 0.618\n",
      "TPR at FPR 0.010: 0.222\n",
      "TPR at FPR 0.001: 0.208\n",
      "             AUC: 0.8666332876567934\n",
      "Test\n",
      "TPR at FPR 0.100: 0.632\n",
      "TPR at FPR 0.010: 0.226\n",
      "TPR at FPR 0.001: 0.108\n",
      "             AUC: 0.8769591694119996\n"
     ]
    }
   ],
   "source": [
    "print(\"Train\")\n",
    "for tpr, fpr in zip(tpr_at_target_fpr_train, target_fprs):\n",
    "    print(f'TPR at FPR {fpr:.3f}: {tpr:.3f}')\n",
    "print(f'             AUC: {roc_auc_train}')\n",
    "\n",
    "print(\"Validation\")\n",
    "for tpr, fpr in zip(tpr_at_target_fpr_val, target_fprs):\n",
    "    print(f'TPR at FPR {fpr:.3f}: {tpr:.3f}')\n",
    "print(f'             AUC: {roc_auc_validation}')\n",
    "\n",
    "print(\"Test\")\n",
    "for tpr, fpr in zip(tpr_at_target_fpr_test, target_fprs):\n",
    "    print(f'TPR at FPR {fpr:.3f}: {tpr:.3f}')\n",
    "print(f'             AUC: {roc_auc_test}')\n"
   ]
  }
 ],
 "metadata": {
  "kernelspec": {
   "display_name": "Python 3",
   "language": "python",
   "name": "python3"
  },
  "language_info": {
   "codemirror_mode": {
    "name": "ipython",
    "version": 3
   },
   "file_extension": ".py",
   "mimetype": "text/x-python",
   "name": "python",
   "nbconvert_exporter": "python",
   "pygments_lexer": "ipython3",
   "version": "3.11.1"
  }
 },
 "nbformat": 4,
 "nbformat_minor": 2
}
