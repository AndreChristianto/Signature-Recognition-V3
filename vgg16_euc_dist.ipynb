{
 "cells": [
  {
   "cell_type": "markdown",
   "metadata": {},
   "source": [
    "# 1. Data Pre-Processing"
   ]
  },
  {
   "cell_type": "markdown",
   "metadata": {},
   "source": [
    "### Import Library"
   ]
  },
  {
   "cell_type": "code",
   "execution_count": 1,
   "metadata": {},
   "outputs": [],
   "source": [
    "import os\n",
    "import shutil\n",
    "from sklearn.model_selection import train_test_split"
   ]
  },
  {
   "cell_type": "markdown",
   "metadata": {},
   "source": [
    "### Folder Paths"
   ]
  },
  {
   "cell_type": "code",
   "execution_count": 2,
   "metadata": {},
   "outputs": [],
   "source": [
    "# source_folder = folder penyimpanan kumpulan dataset yang masih tercampur atau belum dibagi menjadi train, test, dan validation\n",
    "source_folder = \"../dataset/ICDAR-2011\"\n",
    "# train_folder, test_folder, validation_folder = folder tujuan / tempat penyimpanan dataset setelah dibagi di bagian \"Train and Test Data Split\" \n",
    "train_folder = \"../template/ICDAR-data/train\"\n",
    "test_folder = \"../template/ICDAR-data/test\"\n",
    "validation_folder = \"../template/ICDAR-data/validation\""
   ]
  },
  {
   "cell_type": "markdown",
   "metadata": {},
   "source": [
    "### Train and Test Data Split"
   ]
  },
  {
   "cell_type": "code",
   "execution_count": 3,
   "metadata": {},
   "outputs": [],
   "source": [
    "# Hanya membagi data, belum read / membaca gambar "
   ]
  },
  {
   "cell_type": "code",
   "execution_count": 4,
   "metadata": {},
   "outputs": [],
   "source": [
    "def extract_label(folder_name):\n",
    "    return 0 if \"_forg\" in folder_name else 1\n",
    "\n",
    "def split_data(source_folder, train_folder, test_folder, validation_folder):\n",
    "    if not os.path.exists(train_folder):\n",
    "        os.makedirs(train_folder)\n",
    "    if not os.path.exists(test_folder):\n",
    "        os.makedirs(test_folder)\n",
    "    if not os.path.exists(validation_folder):\n",
    "        os.makedirs(validation_folder)\n",
    "\n",
    "    signatures = [folder for folder in os.listdir(source_folder) if os.path.isdir(os.path.join(source_folder, folder))]\n",
    "    for signature in signatures:\n",
    "        signature_path = os.path.join(source_folder, signature)\n",
    "        images = os.listdir(signature_path)\n",
    "\n",
    "        label = extract_label(signature)\n",
    "\n",
    "        train_signature_temp, test_signature = train_test_split(images, test_size=0.2, random_state=3, stratify=[label]*len(images)) #stratify\n",
    "        train_signature, validation_signature = train_test_split(train_signature_temp, test_size=0.25, random_state=3, stratify=[label]*len(train_signature_temp))\n",
    "\n",
    "        for sig in train_signature:\n",
    "            source_path = os.path.join(signature_path, sig)\n",
    "            destination_path = os.path.join(train_folder, signature)\n",
    "            if not os.path.exists(destination_path):\n",
    "                os.makedirs(destination_path)\n",
    "            destination_path = os.path.join(destination_path, sig)\n",
    "            shutil.copy(source_path, destination_path)\n",
    "\n",
    "        for sig in test_signature:\n",
    "            source_path = os.path.join(signature_path, sig)\n",
    "            destination_path = os.path.join(test_folder, signature)\n",
    "            if not os.path.exists(destination_path):\n",
    "                os.makedirs(destination_path)\n",
    "            destination_path = os.path.join(destination_path, sig)\n",
    "            shutil.copy(source_path, destination_path)\n",
    "\n",
    "        for sig in validation_signature:\n",
    "            source_path = os.path.join(signature_path, sig)\n",
    "            destination_path = os.path.join(validation_folder, signature)\n",
    "            if not os.path.exists(destination_path):\n",
    "                os.makedirs(destination_path)\n",
    "            destination_path = os.path.join(destination_path, sig)\n",
    "            shutil.copy(source_path, destination_path)"
   ]
  },
  {
   "cell_type": "code",
   "execution_count": 5,
   "metadata": {},
   "outputs": [],
   "source": [
    "# split_data(source_folder, train_folder, test_folder, validation_folder)"
   ]
  },
  {
   "cell_type": "markdown",
   "metadata": {},
   "source": [
    "# 2. Feature Extraction"
   ]
  },
  {
   "cell_type": "markdown",
   "metadata": {},
   "source": [
    "### Load vgg16 model"
   ]
  },
  {
   "cell_type": "code",
   "execution_count": 6,
   "metadata": {},
   "outputs": [
    {
     "name": "stdout",
     "output_type": "stream",
     "text": [
      "WARNING:tensorflow:From C:\\Users\\Andreas Christianto\\AppData\\Roaming\\Python\\Python311\\site-packages\\keras\\src\\losses.py:2976: The name tf.losses.sparse_softmax_cross_entropy is deprecated. Please use tf.compat.v1.losses.sparse_softmax_cross_entropy instead.\n",
      "\n"
     ]
    }
   ],
   "source": [
    "from tensorflow.keras.applications import VGG16\n",
    "from tensorflow.keras.applications.vgg16 import preprocess_input\n",
    "from tensorflow.keras.preprocessing import image\n",
    "import numpy as np"
   ]
  },
  {
   "cell_type": "markdown",
   "metadata": {},
   "source": [
    "### Extract Features"
   ]
  },
  {
   "cell_type": "code",
   "execution_count": 7,
   "metadata": {},
   "outputs": [],
   "source": [
    "from tensorflow.keras.models import Model\n",
    "from tensorflow.keras.layers import GlobalAveragePooling2D, Dense\n",
    "import cv2 as cv"
   ]
  },
  {
   "cell_type": "code",
   "execution_count": 8,
   "metadata": {},
   "outputs": [],
   "source": [
    "size = 224"
   ]
  },
  {
   "cell_type": "code",
   "execution_count": 9,
   "metadata": {},
   "outputs": [
    {
     "name": "stdout",
     "output_type": "stream",
     "text": [
      "WARNING:tensorflow:From C:\\Users\\Andreas Christianto\\AppData\\Roaming\\Python\\Python311\\site-packages\\keras\\src\\backend.py:1398: The name tf.executing_eagerly_outside_functions is deprecated. Please use tf.compat.v1.executing_eagerly_outside_functions instead.\n",
      "\n",
      "WARNING:tensorflow:From C:\\Users\\Andreas Christianto\\AppData\\Roaming\\Python\\Python311\\site-packages\\keras\\src\\layers\\pooling\\max_pooling2d.py:161: The name tf.nn.max_pool is deprecated. Please use tf.nn.max_pool2d instead.\n",
      "\n"
     ]
    }
   ],
   "source": [
    "base_model = VGG16(weights='imagenet', include_top=False, input_shape=(size, size, 3))\n",
    "gap = GlobalAveragePooling2D()(base_model.output) "
   ]
  },
  {
   "cell_type": "code",
   "execution_count": 10,
   "metadata": {},
   "outputs": [],
   "source": [
    "model = Model(inputs=base_model.input, outputs=gap)"
   ]
  },
  {
   "cell_type": "code",
   "execution_count": 11,
   "metadata": {},
   "outputs": [
    {
     "name": "stdout",
     "output_type": "stream",
     "text": [
      "Model: \"model\"\n",
      "_________________________________________________________________\n",
      " Layer (type)                Output Shape              Param #   \n",
      "=================================================================\n",
      " input_1 (InputLayer)        [(None, 224, 224, 3)]     0         \n",
      "                                                                 \n",
      " block1_conv1 (Conv2D)       (None, 224, 224, 64)      1792      \n",
      "                                                                 \n",
      " block1_conv2 (Conv2D)       (None, 224, 224, 64)      36928     \n",
      "                                                                 \n",
      " block1_pool (MaxPooling2D)  (None, 112, 112, 64)      0         \n",
      "                                                                 \n",
      " block2_conv1 (Conv2D)       (None, 112, 112, 128)     73856     \n",
      "                                                                 \n",
      " block2_conv2 (Conv2D)       (None, 112, 112, 128)     147584    \n",
      "                                                                 \n",
      " block2_pool (MaxPooling2D)  (None, 56, 56, 128)       0         \n",
      "                                                                 \n",
      " block3_conv1 (Conv2D)       (None, 56, 56, 256)       295168    \n",
      "                                                                 \n",
      " block3_conv2 (Conv2D)       (None, 56, 56, 256)       590080    \n",
      "                                                                 \n",
      " block3_conv3 (Conv2D)       (None, 56, 56, 256)       590080    \n",
      "                                                                 \n",
      " block3_pool (MaxPooling2D)  (None, 28, 28, 256)       0         \n",
      "                                                                 \n",
      " block4_conv1 (Conv2D)       (None, 28, 28, 512)       1180160   \n",
      "                                                                 \n",
      " block4_conv2 (Conv2D)       (None, 28, 28, 512)       2359808   \n",
      "                                                                 \n",
      " block4_conv3 (Conv2D)       (None, 28, 28, 512)       2359808   \n",
      "                                                                 \n",
      " block4_pool (MaxPooling2D)  (None, 14, 14, 512)       0         \n",
      "                                                                 \n",
      " block5_conv1 (Conv2D)       (None, 14, 14, 512)       2359808   \n",
      "                                                                 \n",
      " block5_conv2 (Conv2D)       (None, 14, 14, 512)       2359808   \n",
      "                                                                 \n",
      " block5_conv3 (Conv2D)       (None, 14, 14, 512)       2359808   \n",
      "                                                                 \n",
      " block5_pool (MaxPooling2D)  (None, 7, 7, 512)         0         \n",
      "                                                                 \n",
      " global_average_pooling2d (  (None, 512)               0         \n",
      " GlobalAveragePooling2D)                                         \n",
      "                                                                 \n",
      "=================================================================\n",
      "Total params: 14714688 (56.13 MB)\n",
      "Trainable params: 14714688 (56.13 MB)\n",
      "Non-trainable params: 0 (0.00 Byte)\n",
      "_________________________________________________________________\n"
     ]
    }
   ],
   "source": [
    "model.summary()"
   ]
  },
  {
   "cell_type": "code",
   "execution_count": 12,
   "metadata": {},
   "outputs": [],
   "source": [
    "def extract_features(folder_path, batch_size=32):\n",
    "    features = []\n",
    "    names = []\n",
    "    labels = []\n",
    "    signatures = [folder for folder in os.listdir(folder_path) if os.path.isdir(os.path.join(folder_path, folder))]\n",
    "\n",
    "    for signature in signatures:\n",
    "        signature_path = os.path.join(folder_path, signature)\n",
    "        images = os.listdir(signature_path)\n",
    "\n",
    "        batch_features = []\n",
    "        batch_names = []\n",
    "        batch_labels = []\n",
    "\n",
    "        for image_name in images:\n",
    "            image_path = os.path.join(signature_path, image_name)\n",
    "            # Read dan pre-processing gambar\n",
    "            img = cv.imread(image_path)\n",
    "            img = cv.cvtColor(img, cv.COLOR_BGR2RGB)\n",
    "            img = cv.resize(img, (size, size))\n",
    "            img = np.array(preprocess_input(img))\n",
    "\n",
    "            batch_features.append(img)\n",
    "            batch_names.append(signature[:3])\n",
    "\n",
    "            if signature.endswith(\"_forg\"):\n",
    "                batch_labels.append(0)\n",
    "            else:\n",
    "                batch_labels.append(1)\n",
    "\n",
    "            if len(batch_features) == batch_size:\n",
    "                batch_features = np.array(batch_features)\n",
    "                batch_features = model.predict(batch_features)\n",
    "                batch_features = batch_features.reshape(len(batch_features), -1)\n",
    "\n",
    "                features.extend(batch_features)\n",
    "                names.extend(batch_names)\n",
    "                labels.extend(batch_labels)\n",
    "\n",
    "                batch_features = []\n",
    "                batch_names = []\n",
    "                batch_labels = []\n",
    "\n",
    "        if batch_features:\n",
    "            batch_features = np.array(batch_features)\n",
    "            batch_features = model.predict(batch_features)\n",
    "            batch_features = batch_features.reshape(len(batch_features), -1)\n",
    "\n",
    "            features.extend(batch_features)\n",
    "            names.extend(batch_names)\n",
    "            labels.extend(batch_labels)\n",
    "\n",
    "    return features, names, labels"
   ]
  },
  {
   "cell_type": "code",
   "execution_count": 13,
   "metadata": {},
   "outputs": [],
   "source": [
    "# train_features, train_names, train_labels = extract_features(train_folder)\n",
    "# test_features, test_names, test_labels = extract_features(test_folder)\n",
    "# validation_features, validation_names, validation_labels = extract_features(validation_folder)"
   ]
  },
  {
   "cell_type": "markdown",
   "metadata": {},
   "source": [
    "### Save and Load Features, Names, and Labels to reduce time needed"
   ]
  },
  {
   "cell_type": "code",
   "execution_count": 14,
   "metadata": {},
   "outputs": [],
   "source": [
    "train_features_path =  \"../template/ICDAR-feature/train_features.npy\"\n",
    "train_names_path = \"../template/ICDAR-feature/train_names.npy\"\n",
    "train_labels_path = \"../template/ICDAR-feature/train_labels.npy\"\n",
    "\n",
    "test_features_path = \"../template/ICDAR-feature/test_features.npy\"\n",
    "test_names_path = \"../template/ICDAR-feature/test_names.npy\"\n",
    "test_labels_path = \"../template/ICDAR-feature/test_labels.npy\"\n",
    "\n",
    "validation_features_path = \"../template/ICDAR-feature/validation_features.npy\"\n",
    "validation_names_path = \"../template/ICDAR-feature/validation_names.npy\"\n",
    "validation_labels_path = \"../template/ICDAR-feature/validation_labels.npy\""
   ]
  },
  {
   "cell_type": "code",
   "execution_count": 15,
   "metadata": {},
   "outputs": [],
   "source": [
    "# np.save(train_features_path, train_features)\n",
    "# np.save(train_names_path, train_names)\n",
    "# np.save(train_labels_path, train_labels)\n",
    "\n",
    "# np.save(test_features_path, test_features)\n",
    "# np.save(test_names_path, test_names)\n",
    "# np.save(test_labels_path, test_labels)\n",
    "\n",
    "# np.save(validation_features_path, validation_features)\n",
    "# np.save(validation_names_path, validation_names)\n",
    "# np.save(validation_labels_path, validation_labels)"
   ]
  },
  {
   "cell_type": "code",
   "execution_count": 16,
   "metadata": {},
   "outputs": [],
   "source": [
    "train_features = np.load(train_features_path)\n",
    "train_names = np.load(train_names_path)\n",
    "train_labels = np.load(train_labels_path)\n",
    "\n",
    "test_features = np.load(test_features_path)\n",
    "test_names = np.load(test_names_path)\n",
    "test_labels = np.load(test_labels_path)\n",
    "\n",
    "validation_features = np.load(validation_features_path)\n",
    "validation_names = np.load(validation_names_path)\n",
    "validation_labels = np.load(validation_labels_path)"
   ]
  },
  {
   "cell_type": "code",
   "execution_count": 17,
   "metadata": {},
   "outputs": [
    {
     "name": "stdout",
     "output_type": "stream",
     "text": [
      "train_features shape :  (857, 512)\n",
      "test_features shape :  (401, 512)\n",
      "validation_features shape :  (391, 512)\n"
     ]
    }
   ],
   "source": [
    "print(\"train_features shape : \", train_features.shape)\n",
    "print(\"test_features shape : \", test_features.shape)\n",
    "print(\"validation_features shape : \", validation_features.shape)"
   ]
  },
  {
   "cell_type": "markdown",
   "metadata": {},
   "source": [
    "### Feature Gallery"
   ]
  },
  {
   "cell_type": "code",
   "execution_count": 18,
   "metadata": {},
   "outputs": [],
   "source": [
    "# Feature Gallery dilakukan untuk setiap kelas / nama seperti \"001\", \"002\", \"003\", dst dengan cara mengambil data training positive dan mengambil mean / rata-rata dari data tersebut\n",
    "def create_feature_gallery(train_features, train_names, train_labels):\n",
    "    gallery_feature = []\n",
    "    gallery_name = []\n",
    "\n",
    "    unique_names = set(train_names.flatten())\n",
    "    sorted_names = sorted(unique_names)\n",
    "\n",
    "    for name in sorted_names:\n",
    "        # print(name)\n",
    "        # print(name)\n",
    "        name_features = []\n",
    "\n",
    "        for feature, feature_name, label in zip(train_features, train_names, train_labels):\n",
    "            # print(feature, feature_name, label)\n",
    "            if name in feature_name and label == 1:\n",
    "                name_features.append(feature)\n",
    "\n",
    "        if name_features:\n",
    "            # print(name_features)\n",
    "            average_feature = np.mean(name_features, axis=0)\n",
    "            gallery_feature.append(average_feature)\n",
    "            gallery_name.append(name)\n",
    "\n",
    "    return gallery_feature, gallery_name"
   ]
  },
  {
   "cell_type": "code",
   "execution_count": 19,
   "metadata": {},
   "outputs": [],
   "source": [
    "# gallery_features, gallery_names = create_feature_gallery(train_features, train_names, train_labels)"
   ]
  },
  {
   "cell_type": "code",
   "execution_count": 20,
   "metadata": {},
   "outputs": [],
   "source": [
    "gallery_feature_path = \"../template/ICDAR-feature/gallery_features.npy\"\n",
    "gallery_name_path = \"../template/ICDAR-feature/gallery_names.npy\""
   ]
  },
  {
   "cell_type": "code",
   "execution_count": 21,
   "metadata": {},
   "outputs": [],
   "source": [
    "# np.save(gallery_feature_path, gallery_features)\n",
    "# np.save(gallery_name_path, gallery_names)"
   ]
  },
  {
   "cell_type": "code",
   "execution_count": 22,
   "metadata": {},
   "outputs": [],
   "source": [
    "gallery_features = np.load(gallery_feature_path)\n",
    "gallery_names = np.load(gallery_name_path)"
   ]
  },
  {
   "cell_type": "code",
   "execution_count": 23,
   "metadata": {},
   "outputs": [
    {
     "name": "stdout",
     "output_type": "stream",
     "text": [
      "gallery features shape :  (64, 512)\n"
     ]
    }
   ],
   "source": [
    "gallery_features_array = np.array(gallery_features)\n",
    "print(\"gallery features shape : \", gallery_features_array.shape)"
   ]
  },
  {
   "cell_type": "markdown",
   "metadata": {},
   "source": [
    "### Euclidean Distance"
   ]
  },
  {
   "cell_type": "code",
   "execution_count": 24,
   "metadata": {},
   "outputs": [],
   "source": [
    "def euclidean_distance(feature_vector1, feature_vector2):\n",
    "    return np.sqrt(np.sum((feature_vector1 - feature_vector2)**2))"
   ]
  },
  {
   "cell_type": "code",
   "execution_count": 25,
   "metadata": {},
   "outputs": [],
   "source": [
    "def find_euclidean_distance(test_features, test_names, test_labels, gallery_features, gallery_names):\n",
    "    euclidean_distances = []\n",
    "    euclidean_names = []\n",
    "    euclidean_actual_labels = []\n",
    "\n",
    "    for gallery_feature, gallery_name in zip(gallery_features, gallery_names):\n",
    "        curr_euclid_name = gallery_name\n",
    "        curr_euclid_feature = []\n",
    "        curr_euclid_label = []\n",
    "        curr_euclid_dist = []\n",
    "        for feature, name, label in zip(test_features, test_names, test_labels):\n",
    "            if gallery_name in name:\n",
    "                curr_euclid_feature.append(feature)\n",
    "                curr_euclid_label.append(label)\n",
    "        \n",
    "        for feature in curr_euclid_feature:\n",
    "            distance = euclidean_distance(feature, gallery_feature)\n",
    "            curr_euclid_dist.append(distance)\n",
    "\n",
    "        euclidean_distances.append(curr_euclid_dist)\n",
    "        euclidean_names.append(curr_euclid_name)\n",
    "        euclidean_actual_labels.append(curr_euclid_label)\n",
    "        \n",
    "    return euclidean_distances, euclidean_names, euclidean_actual_labels"
   ]
  },
  {
   "cell_type": "code",
   "execution_count": 26,
   "metadata": {},
   "outputs": [],
   "source": [
    "test_euclidean_distances, test_euclidean_names, test_euclidean_actual_labels = find_euclidean_distance(test_features, test_names, test_labels, gallery_features, gallery_names)\n",
    "train_euclidean_distances, train_euclidean_names, train_euclidean_actual_labels = find_euclidean_distance(train_features, train_names, train_labels, gallery_features, gallery_names)\n",
    "validation_euclidean_distances, validation_euclidean_names, validation_euclidean_actual_labels = find_euclidean_distance(validation_features, validation_names, validation_labels, gallery_features, gallery_names)"
   ]
  },
  {
   "cell_type": "markdown",
   "metadata": {},
   "source": [
    "### Split Euclidean Distance to Positive and Negative for Future Use (If needed)"
   ]
  },
  {
   "cell_type": "code",
   "execution_count": 27,
   "metadata": {},
   "outputs": [],
   "source": [
    "def split_euc_dist(euclidean_distances, euclidean_names, euclidean_actual_labels):\n",
    "    positive_distance = []\n",
    "    positive_name = []\n",
    "    positive_label = []\n",
    "    negative_distance = []\n",
    "    negative_name = []\n",
    "    negative_label = []\n",
    "\n",
    "    for euclidean_distance, euclidean_name, euclidean_actual_label in zip(euclidean_distances, euclidean_names, euclidean_actual_labels):\n",
    "        pos_dist = []\n",
    "        neg_dist = []\n",
    "        pos_lab = []\n",
    "        neg_lab = []\n",
    "        for distance, label in zip(euclidean_distance, euclidean_actual_label):\n",
    "            if label == 0:\n",
    "                neg_dist.append(distance)\n",
    "                neg_lab.append(label)\n",
    "            else:\n",
    "                pos_dist.append(distance)\n",
    "                pos_lab.append(label)\n",
    "\n",
    "        positive_distance.append(pos_dist)\n",
    "        positive_name.append(euclidean_name)\n",
    "        positive_label.append(pos_lab)\n",
    "\n",
    "        negative_distance.append(neg_dist)\n",
    "        negative_name.append(euclidean_name)\n",
    "        negative_label.append(neg_lab)\n",
    "        # print(euclidean_distance, euclidean_name, euclidean_actual_label)\n",
    "\n",
    "    return positive_distance, negative_label"
   ]
  },
  {
   "cell_type": "code",
   "execution_count": 28,
   "metadata": {},
   "outputs": [],
   "source": [
    "train_positive_dist, train_negative_dist = split_euc_dist(train_euclidean_distances, train_names, train_euclidean_actual_labels)\n",
    "test_positive_dist, test_negative_dist = split_euc_dist(test_euclidean_distances, test_names, test_euclidean_actual_labels)\n",
    "validation_positive_dist, validation_negative_dist = split_euc_dist(validation_euclidean_distances, validation_names, validation_euclidean_actual_labels)"
   ]
  },
  {
   "cell_type": "code",
   "execution_count": 29,
   "metadata": {},
   "outputs": [
    {
     "name": "stdout",
     "output_type": "stream",
     "text": [
      "Train total : 857\n",
      "  Train pos : 463\n",
      "  Train neg : 394\n",
      " Test total : 401\n",
      "   Test pos : 212\n",
      "   Test neg : 189\n",
      "  Val total : 391\n",
      "    Val pos : 212\n",
      "    Val neg : 179\n"
     ]
    }
   ],
   "source": [
    "flat_train_positive_dist = [item for sublist in train_positive_dist for item in sublist]\n",
    "flat_train_negative_dist = [item for sublist in train_negative_dist for item in sublist]\n",
    "flat_test_positive_dist = [item for sublist in test_positive_dist for item in sublist]\n",
    "flat_test_negative_dist = [item for sublist in test_negative_dist for item in sublist]\n",
    "flat_validation_positive_dist = [item for sublist in validation_positive_dist for item in sublist]\n",
    "flat_validation_negative_dist = [item for sublist in validation_negative_dist for item in sublist]\n",
    "\n",
    "print(f'Train total : {len(flat_train_positive_dist) + len(flat_train_negative_dist)}')\n",
    "print(f'  Train pos : {len(flat_train_positive_dist)}')\n",
    "print(f'  Train neg : {len(flat_train_negative_dist)}')\n",
    "print(f' Test total : {len(flat_test_positive_dist) + len(flat_test_negative_dist)}')\n",
    "print(f'   Test pos : {len(flat_test_positive_dist)}')\n",
    "print(f'   Test neg : {len(flat_test_negative_dist)}')\n",
    "print(f'  Val total : {len(flat_validation_positive_dist) + len(flat_validation_negative_dist)}')\n",
    "print(f'    Val pos : {len(flat_validation_positive_dist)}')\n",
    "print(f'    Val neg : {len(flat_validation_negative_dist)}')"
   ]
  },
  {
   "cell_type": "markdown",
   "metadata": {},
   "source": [
    "### Normalize Euclidean Distance"
   ]
  },
  {
   "cell_type": "code",
   "execution_count": 30,
   "metadata": {},
   "outputs": [],
   "source": [
    "# Flatten the lists of distances\n",
    "flat_test_distances = [item for sublist in test_euclidean_distances for item in sublist]\n",
    "flat_train_distances = [item for sublist in train_euclidean_distances for item in sublist]\n",
    "flat_validation_distances = [item for sublist in validation_euclidean_distances for item in sublist]"
   ]
  },
  {
   "cell_type": "code",
   "execution_count": 31,
   "metadata": {},
   "outputs": [
    {
     "name": "stdout",
     "output_type": "stream",
     "text": [
      "[13.604956, 21.932957, 21.496452, 15.307753, 17.360264, 17.418999, 17.911547, 15.009511, 17.355011, 16.276548, 18.273981, 12.368688, 18.67557, 20.502792, 28.272856, 34.73277, 24.176556, 33.339798, 18.51894, 19.481527, 12.24827, 14.898224, 18.72175, 11.35333, 12.044215, 11.9683895, 11.557664, 14.413529, 12.622262, 17.348125, 19.835337, 27.133867, 24.609852, 26.387075, 25.235924, 27.82256, 22.213787, 45.627033, 14.824518, 17.712778, 21.489477, 21.16146, 22.580679, 23.389305, 18.937658, 28.622068, 28.459631, 32.85016, 30.861511, 23.943708, 32.683018, 27.10683, 57.106064, 52.177788, 32.550224, 42.41867, 44.19614, 30.131369, 24.728718, 22.71922, 16.46551, 21.463213, 14.68966, 15.622107, 18.84334, 19.464497, 18.075891, 21.851475, 22.20698, 25.088404, 23.62804, 23.006983, 25.213789, 43.784542, 33.359356, 27.575058, 33.787533, 33.839516, 19.02061, 18.832644, 23.530851, 21.256649, 19.957918, 20.854753, 18.693727, 19.869644, 19.426582, 15.240157, 24.195032, 18.26359, 22.538998, 21.362713, 33.030975, 31.489807, 39.931515, 27.813765, 28.478378, 34.581284, 19.777143, 22.328218, 15.291112, 15.276846, 21.693352, 17.856731, 15.620665, 15.022865, 17.650694, 19.718225, 20.117718, 17.113085, 18.410948, 17.742197, 38.689693, 42.159233, 35.21856, 42.868603, 42.610386, 23.618492, 12.474695, 10.987899, 11.322255, 12.941682, 13.921639, 13.975723, 15.821198, 13.720267, 16.011194, 12.484563, 14.567089, 21.424849, 13.287888, 11.578655, 30.061928, 23.868734, 29.781303, 29.579115, 30.4156, 32.719658, 15.066547, 15.363035, 15.8067, 12.497654, 19.392504, 12.575491, 23.313797, 43.472702, 32.86906, 32.473564, 31.378904, 45.73596, 17.380117, 16.400658, 12.177479, 11.7628, 8.604851, 10.220474, 9.272925, 10.985184, 10.297253, 9.575802, 8.381493, 14.89749, 15.660602, 15.770754, 37.125122, 22.510496, 28.312162, 24.772556, 22.94772, 35.91641, 32.625126, 17.945597, 39.144226, 12.67475, 12.843872, 9.599991, 13.768671, 13.650406, 15.931925, 14.756114, 13.41828, 12.189921, 12.006968, 10.243788, 19.235884, 11.194479, 11.493542, 26.912844, 20.125778, 34.11545, 35.545654, 40.52208, 34.44661, 18.392267, 16.978596, 16.096474, 22.328432, 21.022778, 21.693064, 20.276386, 14.27149, 12.215314, 13.401047, 20.743387, 16.621038, 23.238577, 41.188934, 25.56604, 27.562817, 28.481394, 31.08421, 34.12608, 17.614052, 43.483032, 28.674826, 11.016513, 15.868646, 9.964765, 12.408093, 13.0594425, 11.163091, 26.580954, 34.348637, 32.513027, 31.482464, 34.3871, 35.86367, 12.803897, 8.681709, 12.565509, 13.413889, 11.396373, 10.405849, 28.900331, 21.952162, 32.27929, 23.104874, 36.19229, 27.244827, 12.567923, 6.250147, 10.620664, 7.536111, 12.726054, 13.305177, 26.840384, 32.61135, 38.67875, 37.871685, 51.05059, 36.209408, 12.719252, 9.277892, 9.672277, 10.91885, 11.350626, 14.093427, 27.466908, 33.391075, 36.922733, 47.289806, 48.624443, 38.35752, 31.530565, 37.456375, 32.066803, 39.111122, 25.554295, 12.396514, 9.084661, 10.308498, 11.969124, 9.081148, 9.908396, 37.545963, 33.02638, 31.222404, 26.327736, 33.869232, 36.248997, 20.76034, 15.392891, 14.516641, 12.12329, 13.137917, 12.227884, 31.50761, 31.258646, 34.83599, 39.40063, 36.343998, 32.202164, 28.96334, 36.148685, 36.223896, 15.933408, 17.50926, 14.101793, 11.18788, 10.617459, 13.243217, 24.175842, 25.33062, 33.117767, 26.672653, 17.207617, 18.446985, 12.315778, 11.992686, 10.758372, 12.90437, 29.10326, 32.485645, 34.830105, 33.596554, 31.766756, 33.130947, 19.873117, 20.371582, 18.624918, 13.964031, 16.550783, 15.850978, 36.538475, 33.528133, 42.092964, 46.912918, 26.476196, 12.512608, 12.793519, 14.171614, 10.7063055, 13.506409, 33.689335, 30.017, 40.218033, 35.92433, 41.844124, 34.120785, 16.739328, 15.127287, 13.296475, 13.690107, 13.29754, 13.9937, 42.4122, 28.06144, 43.843803, 44.37316, 12.207915, 9.877776, 10.782065, 12.652618, 11.909441, 20.780066, 21.950636, 22.290506, 25.722902, 17.404882, 25.23976, 27.668592, 12.974271, 14.447619, 10.6987095, 11.389204, 16.247402, 13.736316, 25.322218, 28.105837, 29.894316, 22.732096, 35.10537, 35.493237, 18.66011, 19.010714, 16.081131, 15.869294, 23.34381, 20.053413, 26.81092, 23.877428, 30.648262, 21.981203, 42.457584, 28.15654, 16.08283, 18.49634, 12.635527, 19.745346, 16.594675, 20.142292, 36.479343, 37.29736, 28.063822, 44.998726, 15.280759, 22.47724, 16.279982, 10.453619, 19.489586, 15.077846, 36.02156, 35.83997, 51.144825, 37.32836, 48.36052, 35.187572, 16.937536, 15.467328, 14.203607, 18.287169, 12.194937, 15.933684, 33.802223, 35.107185, 24.439125, 31.396883, 30.277712, 28.55505, 40.29576, 32.25097, 33.85865, 17.316664, 16.604763, 19.519142, 17.881428, 13.573985, 22.652382, 32.35047, 42.289913, 41.009785, 42.79657, 37.983025, 40.167534, 17.917389, 17.159433, 17.175127, 16.711657, 18.877058, 17.48835, 51.90247, 36.659935, 35.821106, 43.192467, 31.909191, 45.40901, 14.738676, 22.412037, 16.016392, 14.542841, 12.90372, 18.993645, 32.453102, 26.43367, 47.261883, 39.69611, 50.23845, 42.305614, 15.324545, 15.452161, 13.703099, 14.603001, 14.169775, 12.366323, 28.765995, 42.224052, 47.762, 30.778152, 44.00079, 41.247925, 30.770515, 41.1971, 30.33984, 15.668589, 19.386229, 14.353578, 18.805117, 15.466424, 18.021204, 27.443779, 24.098127, 37.717617, 22.646246, 38.716736, 25.063799, 14.71363, 11.298586, 12.23795, 11.180338, 18.508026, 19.153175, 32.07868, 29.562206, 33.655853, 41.796402, 34.058113, 29.361307, 24.09315, 16.684803, 15.975288, 18.18025, 18.689066, 18.300743, 36.758694, 35.911545, 31.984211, 35.443024, 10.178265, 9.511765, 11.137874, 10.706262, 11.7124405, 11.014586, 21.885843, 37.477837, 32.2979, 27.84689, 43.687363, 32.294724, 14.055101, 9.003466, 15.495574, 10.992302, 10.9513445, 14.770977, 28.436544, 49.73028, 43.004974, 36.398376, 46.991848, 35.980225, 17.666553, 16.305178, 14.380562, 24.286001, 15.985824, 18.11081, 30.396954, 31.384506, 42.41471, 31.636623, 40.59427, 31.87478, 19.073547, 25.04279, 25.996468, 21.399761, 17.43208, 17.40648, 35.71941, 36.96372, 46.84497, 35.39501, 43.302967, 44.284637, 21.5974, 12.703069, 11.712237, 16.429296, 14.359145, 14.726284, 30.227257, 36.8099, 38.46889, 42.60999, 49.39872, 30.477196, 22.023216, 15.07856, 24.131842, 14.42129, 13.146981, 14.135187, 24.559515, 28.292841, 34.07317, 41.257755, 49.24087, 34.893288, 14.916745, 20.462427, 15.944649, 16.008522, 20.82004, 13.243567, 29.94348, 31.474983, 34.382633, 30.099976, 37.804947, 32.761303, 10.703736, 10.284885, 10.516353, 11.486412, 11.908821, 15.317886, 27.313587, 27.447865, 34.671986, 31.747461, 15.426524, 21.355904, 11.824048, 12.4622755, 15.337641, 21.744854, 33.283356, 40.592663, 28.533379, 32.18358, 33.91579, 41.430717, 11.7805195, 10.983659, 10.176067, 13.499073, 7.873974, 9.506781, 25.278763, 35.926384, 33.64151, 33.71904, 38.564705, 35.508137, 11.344554, 11.222771, 10.8166, 17.891779, 16.732124, 17.562014, 44.733883, 40.743256, 41.15159, 39.7551, 12.630027, 9.406425, 10.808903, 11.337534, 12.467547, 13.875365, 22.579613, 35.636086, 27.79812, 20.73154, 28.453167, 31.13044, 36.4854, 23.484423, 19.627638, 12.263819, 13.645952, 11.984543, 9.200768, 12.085699, 11.36996, 32.158596, 25.788029, 19.788458, 21.484879, 35.756172, 23.158165, 25.528923, 30.465338, 38.827244, 23.92752, 18.781025, 13.483765, 19.492401, 14.98291, 17.741938, 35.720795, 31.817806, 35.191357, 38.86568, 48.16473, 34.064865, 34.560234, 44.185894, 49.064854, 28.218676, 43.3546, 37.127277, 23.741173, 18.169977, 14.539897, 14.695137, 12.847587, 15.078586, 34.188038, 30.942968, 41.850353, 19.300114, 31.573381, 20.145988, 14.8431835, 23.582878, 19.947914, 22.00976, 21.521935, 17.04514, 32.42943, 52.99406, 30.69239, 33.014877, 16.581383, 12.359706, 15.601696, 16.49758, 18.363337, 17.899395, 45.82166, 30.861124, 37.139656, 29.109482, 41.95783, 34.72134, 14.764484, 13.2791815, 14.673574, 8.282186, 14.397611, 11.027244, 36.49932, 37.845325, 28.06284, 31.675072, 42.51573, 34.441452, 30.631355, 41.29231, 32.096207, 13.042101, 13.4945755, 9.858851, 16.037683, 14.823559, 14.073265, 31.969337, 28.53262, 35.53309, 28.761122, 13.676801, 17.895874, 12.303465, 13.167572, 14.122145, 16.89639, 36.770958, 30.380564, 30.127161, 29.9873, 36.902996, 35.83231, 15.730158, 15.9113455, 10.373273, 10.166832, 10.388402, 16.503973, 36.674644, 28.172443, 43.918114, 30.240993, 38.29377, 27.61635, 11.390697, 14.820394, 14.428683, 10.68461, 11.710749, 14.186545, 40.260117, 33.86199, 54.432705, 32.67307, 49.410763, 38.329033, 15.755389, 17.853992, 13.764008, 13.34471, 14.775512, 16.231995, 26.29642, 35.017193, 30.274294, 28.026823, 38.72901, 35.90802, 16.378906, 13.749351, 15.173518, 17.419226, 17.512323, 20.245226, 35.548035, 32.24279, 32.77345, 37.75031, 18.07481, 19.935923, 12.037743, 16.836374, 15.479259, 16.180765, 36.726643, 32.33767, 44.549374, 44.62216, 20.937809, 18.203901, 14.881467, 13.554726, 21.4598, 19.144676, 36.404255, 26.745691, 32.389484, 40.43374, 28.000494, 43.205734, 36.885864, 36.273064, 36.696777, 19.617613, 15.227244, 16.263239, 17.72062, 15.193541, 17.06652, 30.849903, 43.712784, 29.489307, 46.533875, 19.843739, 14.226141, 15.324507, 17.443527, 13.310798, 14.713673, 44.59515, 39.74066, 42.46091, 39.973812, 21.513256, 11.786017, 14.870894, 12.037947, 10.261873, 14.0285, 32.1635, 43.36585, 46.788506, 35.326626, 44.41673, 48.673664]\n"
     ]
    }
   ],
   "source": [
    "print(flat_train_distances)"
   ]
  },
  {
   "cell_type": "code",
   "execution_count": 32,
   "metadata": {},
   "outputs": [],
   "source": [
    "def get_min_max(euclidean_distances):\n",
    "    min_distance = min(euclidean_distances)\n",
    "    max_distance = max(euclidean_distances)\n",
    "\n",
    "    return min_distance, max_distance"
   ]
  },
  {
   "cell_type": "code",
   "execution_count": 33,
   "metadata": {},
   "outputs": [
    {
     "name": "stdout",
     "output_type": "stream",
     "text": [
      "min: 6.250146865844727, max: 57.10606384277344\n"
     ]
    }
   ],
   "source": [
    "min_val, max_val = get_min_max(flat_train_distances)\n",
    "print(f'min: {min_val}, max: {max_val}')"
   ]
  },
  {
   "cell_type": "code",
   "execution_count": null,
   "metadata": {},
   "outputs": [],
   "source": []
  },
  {
   "cell_type": "code",
   "execution_count": 34,
   "metadata": {},
   "outputs": [],
   "source": [
    "def normalize_distance(euclidean_distances, min_val, max_val):\n",
    "    all_distance = []\n",
    "\n",
    "    for distance in euclidean_distances:\n",
    "        normalized_distance = (distance - min_val) / (max_val - min_val)\n",
    "\n",
    "        # in case test and train distances are beyond max of train\n",
    "        if normalized_distance > 1:\n",
    "            normalized_distance = 1\n",
    "        elif normalized_distance < 0:\n",
    "            normalized_distance = 0\n",
    "        \n",
    "        all_distance.append(normalized_distance)\n",
    "\n",
    "    return all_distance\n",
    "\n",
    "def reverse_normalized_distance(euclidean_distances, min_val, max_val):\n",
    "    reverse_distance = []\n",
    "    normalized_distances = normalize_distance(euclidean_distances, min_val, max_val)\n",
    "    for distance in normalized_distances:\n",
    "        distance = -distance\n",
    "        reverse_distance.append(distance)\n",
    "\n",
    "    return reverse_distance"
   ]
  },
  {
   "cell_type": "code",
   "execution_count": 35,
   "metadata": {},
   "outputs": [],
   "source": [
    "# normalized_positive_distances = reverse_normalized_distance(positive_distance)\n",
    "# normalized_negative_distances = reverse_normalized_distance(negative_distance)"
   ]
  },
  {
   "cell_type": "code",
   "execution_count": 36,
   "metadata": {},
   "outputs": [],
   "source": [
    "normalized_test_euclidean_distance = reverse_normalized_distance(flat_test_distances, min_val, max_val)\n",
    "normalized_train_euclidean_distance = reverse_normalized_distance(flat_train_distances, min_val, max_val)\n",
    "normalized_validation_euclidean_distance = reverse_normalized_distance(flat_validation_distances, min_val, max_val)"
   ]
  },
  {
   "cell_type": "code",
   "execution_count": 37,
   "metadata": {},
   "outputs": [
    {
     "name": "stdout",
     "output_type": "stream",
     "text": [
      "[-0.25422573, -0.23537026, -0.29414475, -0.15490603, -0.16482523, -0.47296745, -0.4328774, -0.30000275, -0.17319702, -0.18513294, -0.14104244, -0.19797689, -0.8869253, -0.8701052, -0.77497673, -0.51007986, -0.43141246, -0.37722462, -0.41234118, -0.39609876, -0.64571744, -0.57392037, -0.60348886, -0.27834496, -0.28279793, -0.3849206, -0.32266095, -0.4476662, -0.5846515, -0.3787631, -0.6312467, -0.30577818, -0.26076746, -0.26411465, -0.27208775, -0.29079163, -0.6596513, -0.52450424, -0.55307597, -0.29167932, -0.4407237, -0.21151009, -0.2632165, -0.28693232, -0.4890744, -0.47143695, -0.39116892, -0.25048834, -0.1700157, -0.20560701, -0.09551066, -0.091448955, -0.508932, -0.53424364, -0.46714348, -0.19726343, -0.092136346, -0.2982935, -0.5985536, -0.7805707, -0.59722495, -0.17057501, -0.22335483, -0.12643573, -0.101880394, -0.12825505, -0.41764316, -0.27107143, -0.36251965, -0.3686206, -0.18953696, -0.21210872, -0.09946971, -0.15394709, -0.095745146, -0.44680783, -0.38008696, -0.57613885, -0.40937218, -0.21634838, -0.3571102, -0.47495848, -0.36412114, -0.6553922, -0.39626968, -0.5209266, -0.49015364, -0.1558076, -0.1861153, -0.17367254, -0.6242959, -0.5147402, -0.5819684, -0.15631261, -0.15071076, -0.19541852, -0.30363977, -0.46186438, -0.72075284, -0.15438467, -0.17918412, -0.072427794, -0.58679, -0.46987322, -0.6727531, -0.34662476, -0.17180774, -0.092818, -0.42640045, -0.30899593, -0.52401835, -0.42840603, -0.09609721, -0.11994544, -0.11979403, -0.39236897, -0.68731767, -0.7335795, -0.14386821, -0.16645376, -0.16428497, -0.6710429, -0.46524915, -0.51199526, -0.44209507, -0.16137043, -0.1862886, -0.13558023, -0.42140567, -0.6403079, -0.11470656, -0.23830296, -0.25896406, -0.5549908, -0.47796518, -0.48490182, -0.27486363, -0.33480752, -0.37337884, -0.5229638, -0.87938964, -0.101744756, -0.13620877, -0.26081002, -0.48171848, -0.40207306, -0.7104691, -0.21969686, -0.3075439, -0.23733518, -0.71308386, -0.7277714, -0.11867008, -0.17634201, -0.2225103, -0.4137043, -0.3158017, -0.41594112, -0.13216312, -0.115012094, -0.18926656, -0.47854373, -0.44486794, -0.4675919, -0.18761472, -0.2739941, -0.33825544, -0.5271552, -0.47092557, -0.83496666, -0.3092617, -0.38271505, -0.19195674, -0.54964983, -0.6359813, -0.38323444, -0.23766507, -0.37497798, -0.6247182, -0.71767116, -0.77652526, -0.2513636, -0.23376745, -0.33559832, -0.46746674, -0.58595985, -0.53922653, -0.5785855, -0.30862346, -0.2785258, -0.27246958, -0.62614995, -0.57263446, -0.7475671, -0.36439028, -0.20040973, -0.20033494, -0.77012885, -0.8529841, -0.73856753, -0.15789944, -0.16455518, -0.29453495, -0.7527662, -0.6231382, -0.63094157, -0.118131585, -0.15187223, -0.21374033, -0.6300702, -0.7369887, -0.69125056, -0.5690012, -0.22932263, -0.33661428, -0.19331491, -0.42839888, -0.5244493, -0.55593777, -0.24810281, -0.30218703, -0.2924028, -0.42323604, -0.5802156, -0.52874136, -0.360854, -0.18069929, -0.20868623, -0.38265732, -0.51019555, -0.11596153, -0.19181742, -0.19191882, -0.6285395, -0.5547377, -0.62149787, -0.113432705, -0.16937847, -0.09901475, -0.7950047, -0.42868727, -0.9119441, -0.30603305, -0.3257579, -0.38301003, -0.42839897, -0.6754916, -0.8095757, -0.3962759, -0.42074668, -0.35152698, -0.85241127, -0.850248, -0.67419106, -0.23465447, -0.15869589, -0.2221432, -0.55608004, -0.3436667, -0.8433201, -0.2003095, -0.25263184, -0.22452487, -0.39855883, -0.4582332, -0.6276263, -0.39560014, -0.3080726, -0.3110369, -0.4964102, -0.5157417, -0.60725933, -0.0800588, -0.0913921, -0.102032006, -0.47412372, -0.42469257, -0.22314338, -0.26246715, -0.26635715, -0.47629485, -0.54867464, -0.46926057, -0.100794084, -0.23745655, -0.0556207, -0.6676887, -0.55889714, -0.461839, -0.22392881, -0.2404337, -0.15022849, -0.8383709, -0.7363707, -0.16506489, -0.23373662, -0.12537679, -0.40933433, -0.38425827, -0.47553185, -0.4345176, -0.13598287, -0.19956428, -0.10874783, -0.45154414, -0.3290632, -0.32212293, -0.3051751, -0.3542382, -0.46250755, -0.49083495, -0.62285835, -0.5870466, -0.35771927, -0.6732665, -0.13041225, -0.16938938, -0.23169589, -0.33677816, -0.9510106, -0.7880783, -0.27234298, -0.23972061, -0.31269923, -0.38820836, -0.52938104, -0.15496539, -0.3617259, -0.26758876, -0.5632707, -0.76079476, -0.47761437, -0.19880098, -0.1587414, -0.18956415, -0.56890786, -0.6740064, -0.7959174, -0.5659736, -0.14607112, -0.18329787, -0.23972957, -0.4973115, -0.32415503, -0.22433311, -0.31077862, -0.2438775, -0.8299218, -0.5515803, -0.76533496, -0.13618164, -0.1836276, -0.17362398, -0.49423388, -0.47878432, -0.9342331, -0.24521846, -0.18697333, -0.18307482, -0.68189245, -0.6223465, -0.6746434, -0.13678192, -0.31877902, -0.23756427, -0.5735086, -0.51948756, -0.47208065, -0.2489325, -0.26917636, -0.39753908, -0.43111917, -0.5810456, -0.1537984, -0.26027805, -0.20814276, -0.9017022, -0.7232418, -0.2471374, -0.34269303, -0.3240145, -0.70104283, -0.6331012, -0.45302254, -0.8834876, -0.22269073, -0.23329878, -0.21774136, -0.51110023, -0.44940925, -0.13307498, -0.29127094, -0.18535496, -0.6640454, -0.7509373, -0.22992131, -0.15319264, -0.1131977, -0.7928303, -0.5614703, -0.9414072]\n"
     ]
    }
   ],
   "source": [
    "print(normalized_test_euclidean_distance)"
   ]
  },
  {
   "cell_type": "markdown",
   "metadata": {},
   "source": [
    "# 3. ROC Curve"
   ]
  },
  {
   "cell_type": "code",
   "execution_count": 38,
   "metadata": {},
   "outputs": [],
   "source": [
    "from sklearn.metrics import roc_curve, auc\n",
    "import matplotlib.pyplot as plt\n",
    "from matplotlib.ticker import MultipleLocator"
   ]
  },
  {
   "cell_type": "code",
   "execution_count": 39,
   "metadata": {},
   "outputs": [
    {
     "data": {
      "image/png": "[encoded data removed]",
      "text/plain": [
       "<Figure size 800x800 with 1 Axes>"
      ]
     },
     "metadata": {},
     "output_type": "display_data"
    }
   ],
   "source": [
    "# Flatten the lists of labels\n",
    "flat_test_labels = [item for sublist in test_euclidean_actual_labels for item in sublist]\n",
    "flat_train_labels = [item for sublist in train_euclidean_actual_labels for item in sublist]\n",
    "flat_validation_labels = [item for sublist in validation_euclidean_actual_labels for item in sublist]\n",
    "\n",
    "# Calculate ROC curve\n",
    "fpr_test, tpr_test, thresholds_test = roc_curve(flat_test_labels, normalized_test_euclidean_distance, drop_intermediate=False)\n",
    "roc_auc_test = auc(fpr_test, tpr_test)\n",
    "fpr_train, tpr_train, thresholds_train = roc_curve(flat_train_labels, normalized_train_euclidean_distance, drop_intermediate=False)\n",
    "roc_auc_train = auc(fpr_train, tpr_train)\n",
    "fpr_validation, tpr_validation, thresholds_validation = roc_curve(flat_validation_labels, normalized_validation_euclidean_distance, drop_intermediate=False)\n",
    "roc_auc_validation = auc(fpr_validation, tpr_validation)\n",
    "\n",
    "# Plot ROC curve\n",
    "plt.figure(figsize=(8, 8))\n",
    "\n",
    "plt.plot(fpr_test, tpr_test, color='peru', lw=2, label=f'Test AUC = {roc_auc_test:.5f}')\n",
    "plt.plot(fpr_train, tpr_train, color='darkseagreen', lw=2, label=f'Train AUC = {roc_auc_train:.5f}')\n",
    "plt.plot(fpr_validation, tpr_validation, color='steelblue', lw=2, label=f'Validation AUC = {roc_auc_validation:.5f}')\n",
    "\n",
    "plt.plot([0, 1], [0, 1], color='navy', lw=2, linestyle='--')\n",
    "plt.xlabel('False Positive Rate')\n",
    "plt.ylabel('True Positive Rate')\n",
    "plt.title('ROC Curve with Optimal Threshold')\n",
    "plt.legend(loc='lower right')\n",
    "plt.show()"
   ]
  },
  {
   "cell_type": "code",
   "execution_count": 40,
   "metadata": {},
   "outputs": [
    {
     "name": "stdout",
     "output_type": "stream",
     "text": [
      "[0.         0.00471698 0.00943396 0.01415094 0.01886792 0.02358491\n",
      " 0.02830189 0.03301887 0.03773585 0.04245283 0.04716981 0.05188679\n",
      " 0.05660377 0.06132075 0.06603774 0.07075472 0.0754717  0.08018868\n",
      " 0.08490566 0.08962264 0.09433962 0.0990566  0.10377358 0.10849057\n",
      " 0.11320755 0.11792453 0.12264151 0.12735849 0.13207547 0.13679245\n",
      " 0.14150943 0.14622642 0.1509434  0.15566038 0.16037736 0.16509434\n",
      " 0.16981132 0.1745283  0.17924528 0.18396226 0.18867925 0.19339623\n",
      " 0.19811321 0.20283019 0.20754717 0.21226415 0.21698113 0.22169811\n",
      " 0.22641509 0.23113208 0.23584906 0.24056604 0.24528302 0.25\n",
      " 0.25471698 0.25943396 0.26415094 0.26886792 0.27358491 0.27830189\n",
      " 0.28301887 0.28773585 0.29245283 0.29716981 0.30188679 0.30660377\n",
      " 0.31132075 0.31603774 0.32075472 0.3254717  0.33018868 0.33490566\n",
      " 0.33962264 0.34433962 0.3490566  0.35377358 0.35849057 0.36320755\n",
      " 0.36792453 0.37264151 0.37735849 0.38207547 0.38679245 0.39150943\n",
      " 0.39622642 0.4009434  0.40566038 0.41037736 0.41509434 0.41981132\n",
      " 0.4245283  0.42924528 0.43396226 0.43867925 0.44339623 0.44811321\n",
      " 0.45283019 0.45754717 0.46226415 0.46698113 0.47169811 0.47641509\n",
      " 0.48113208 0.48584906 0.49056604 0.49528302 0.5        0.50471698\n",
      " 0.50943396 0.51415094 0.51886792 0.52358491 0.52830189 0.53301887\n",
      " 0.53773585 0.54245283 0.54716981 0.55188679 0.55660377 0.56132075\n",
      " 0.56603774 0.57075472 0.5754717  0.58018868 0.58490566 0.58962264\n",
      " 0.59433962 0.5990566  0.60377358 0.60849057 0.61320755 0.61792453\n",
      " 0.62264151 0.62735849 0.63207547 0.63679245 0.64150943 0.64622642\n",
      " 0.6509434  0.65566038 0.66037736 0.66509434 0.66981132 0.6745283\n",
      " 0.67924528 0.68396226 0.68867925 0.69339623 0.69339623 0.69811321\n",
      " 0.70283019 0.70754717 0.71226415 0.71698113 0.72169811 0.72641509\n",
      " 0.73113208 0.73584906 0.74056604 0.74528302 0.75       0.75471698\n",
      " 0.75943396 0.76415094 0.76886792 0.77358491 0.77830189 0.77830189\n",
      " 0.77830189 0.78301887 0.78773585 0.79245283 0.79716981 0.80188679\n",
      " 0.80188679 0.80660377 0.81132075 0.81603774 0.82075472 0.82075472\n",
      " 0.8254717  0.8254717  0.83018868 0.83490566 0.83490566 0.83962264\n",
      " 0.83962264 0.84433962 0.8490566  0.85377358 0.85377358 0.85849057\n",
      " 0.86320755 0.86320755 0.86792453 0.87264151 0.87735849 0.88207547\n",
      " 0.88207547 0.88679245 0.89150943 0.89150943 0.89622642 0.9009434\n",
      " 0.9009434  0.90566038 0.91037736 0.91509434 0.91509434 0.91509434\n",
      " 0.91509434 0.91981132 0.9245283  0.92924528 0.92924528 0.93396226\n",
      " 0.93396226 0.93396226 0.93396226 0.93867925 0.94339623 0.94339623\n",
      " 0.94811321 0.95283019 0.95283019 0.95283019 0.95283019 0.95754717\n",
      " 0.96226415 0.96226415 0.96226415 0.96226415 0.96698113 0.96698113\n",
      " 0.96698113 0.96698113 0.96698113 0.96698113 0.96698113 0.96698113\n",
      " 0.96698113 0.96698113 0.97169811 0.97169811 0.97169811 0.97641509\n",
      " 0.97641509 0.97641509 0.97641509 0.98113208 0.98113208 0.98113208\n",
      " 0.98113208 0.98113208 0.98113208 0.98113208 0.98584906 0.98584906\n",
      " 0.98584906 0.98584906 0.98584906 0.98584906 0.98584906 0.98584906\n",
      " 0.98584906 0.98584906 0.98584906 0.98584906 0.99056604 0.99056604\n",
      " 0.99056604 0.99056604 0.99056604 0.99056604 0.99056604 0.99056604\n",
      " 0.99056604 0.99056604 0.99056604 0.99528302 0.99528302 0.99528302\n",
      " 0.99528302 0.99528302 1.         1.         1.         1.\n",
      " 1.         1.         1.         1.         1.         1.\n",
      " 1.         1.         1.         1.         1.         1.\n",
      " 1.         1.         1.         1.         1.         1.\n",
      " 1.         1.         1.         1.         1.         1.\n",
      " 1.         1.         1.         1.         1.         1.\n",
      " 1.         1.         1.         1.         1.         1.\n",
      " 1.         1.         1.         1.         1.         1.\n",
      " 1.         1.         1.         1.         1.         1.\n",
      " 1.         1.         1.         1.         1.         1.\n",
      " 1.         1.         1.         1.         1.         1.\n",
      " 1.         1.         1.         1.         1.         1.\n",
      " 1.         1.         1.         1.         1.         1.\n",
      " 1.         1.         1.         1.         1.         1.\n",
      " 1.         1.         1.         1.         1.         1.\n",
      " 1.         1.         1.         1.         1.         1.\n",
      " 1.         1.         1.         1.         1.         1.\n",
      " 1.         1.         1.         1.         1.         1.\n",
      " 1.         1.         1.         1.         1.         1.\n",
      " 1.         1.         1.         1.         1.         1.        ]\n"
     ]
    }
   ],
   "source": [
    "print(tpr_test)"
   ]
  },
  {
   "cell_type": "code",
   "execution_count": 41,
   "metadata": {},
   "outputs": [
    {
     "name": "stdout",
     "output_type": "stream",
     "text": [
      "[0.         0.         0.         0.         0.         0.\n",
      " 0.         0.         0.         0.         0.         0.\n",
      " 0.         0.         0.         0.         0.         0.\n",
      " 0.         0.         0.         0.         0.         0.\n",
      " 0.         0.         0.         0.         0.         0.\n",
      " 0.         0.         0.         0.         0.         0.\n",
      " 0.         0.         0.         0.         0.         0.\n",
      " 0.         0.         0.         0.         0.         0.\n",
      " 0.         0.         0.         0.         0.         0.\n",
      " 0.         0.         0.         0.         0.         0.\n",
      " 0.         0.         0.         0.         0.         0.\n",
      " 0.         0.         0.         0.         0.         0.\n",
      " 0.         0.         0.         0.         0.         0.\n",
      " 0.         0.         0.         0.         0.         0.\n",
      " 0.         0.         0.         0.         0.         0.\n",
      " 0.         0.         0.         0.         0.         0.\n",
      " 0.         0.         0.         0.         0.         0.\n",
      " 0.         0.         0.         0.         0.         0.\n",
      " 0.         0.         0.         0.         0.         0.\n",
      " 0.         0.         0.         0.         0.         0.\n",
      " 0.         0.         0.         0.         0.         0.\n",
      " 0.         0.         0.         0.         0.         0.\n",
      " 0.         0.         0.         0.         0.         0.\n",
      " 0.         0.         0.         0.         0.         0.\n",
      " 0.         0.         0.         0.         0.00529101 0.00529101\n",
      " 0.00529101 0.00529101 0.00529101 0.00529101 0.00529101 0.00529101\n",
      " 0.00529101 0.00529101 0.00529101 0.00529101 0.00529101 0.00529101\n",
      " 0.00529101 0.00529101 0.00529101 0.00529101 0.00529101 0.01058201\n",
      " 0.01587302 0.01587302 0.01587302 0.01587302 0.01587302 0.01587302\n",
      " 0.02116402 0.02116402 0.02116402 0.02116402 0.02116402 0.02645503\n",
      " 0.02645503 0.03174603 0.03174603 0.03174603 0.03703704 0.03703704\n",
      " 0.04232804 0.04232804 0.04232804 0.04232804 0.04761905 0.04761905\n",
      " 0.04761905 0.05291005 0.05291005 0.05291005 0.05291005 0.05291005\n",
      " 0.05820106 0.05820106 0.05820106 0.06349206 0.06349206 0.06349206\n",
      " 0.06878307 0.06878307 0.06878307 0.06878307 0.07407407 0.07936508\n",
      " 0.08465608 0.08465608 0.08465608 0.08465608 0.08994709 0.08994709\n",
      " 0.0952381  0.1005291  0.10582011 0.10582011 0.10582011 0.11111111\n",
      " 0.11111111 0.11111111 0.11640212 0.12169312 0.12698413 0.12698413\n",
      " 0.12698413 0.13227513 0.13756614 0.14285714 0.14285714 0.14814815\n",
      " 0.15343915 0.15873016 0.16402116 0.16931217 0.17460317 0.17989418\n",
      " 0.18518519 0.19047619 0.19047619 0.1957672  0.2010582  0.2010582\n",
      " 0.20634921 0.21164021 0.21693122 0.21693122 0.22222222 0.22751323\n",
      " 0.23280423 0.23809524 0.24338624 0.24867725 0.24867725 0.25396825\n",
      " 0.25925926 0.26455026 0.26984127 0.27513228 0.28042328 0.28571429\n",
      " 0.29100529 0.2962963  0.3015873  0.30687831 0.30687831 0.31216931\n",
      " 0.31746032 0.32275132 0.32804233 0.33333333 0.33862434 0.34391534\n",
      " 0.34920635 0.35449735 0.35978836 0.35978836 0.36507937 0.37037037\n",
      " 0.37566138 0.38095238 0.38095238 0.38624339 0.39153439 0.3968254\n",
      " 0.4021164  0.40740741 0.41269841 0.41798942 0.42328042 0.42857143\n",
      " 0.43386243 0.43915344 0.44444444 0.44973545 0.45502646 0.46031746\n",
      " 0.46560847 0.47089947 0.47619048 0.48148148 0.48677249 0.49206349\n",
      " 0.4973545  0.5026455  0.50793651 0.51322751 0.51851852 0.52380952\n",
      " 0.52910053 0.53439153 0.53968254 0.54497354 0.55026455 0.55555556\n",
      " 0.56084656 0.56613757 0.57142857 0.57671958 0.58201058 0.58730159\n",
      " 0.59259259 0.5978836  0.6031746  0.60846561 0.61375661 0.61904762\n",
      " 0.62433862 0.62962963 0.63492063 0.64021164 0.64550265 0.65079365\n",
      " 0.65608466 0.66137566 0.66666667 0.67195767 0.67724868 0.68253968\n",
      " 0.68783069 0.69312169 0.6984127  0.7037037  0.70899471 0.71428571\n",
      " 0.71957672 0.72486772 0.73015873 0.73544974 0.74074074 0.74603175\n",
      " 0.75132275 0.75661376 0.76190476 0.76719577 0.77248677 0.77777778\n",
      " 0.78306878 0.78835979 0.79365079 0.7989418  0.8042328  0.80952381\n",
      " 0.81481481 0.82010582 0.82539683 0.83068783 0.83597884 0.84126984\n",
      " 0.84656085 0.85185185 0.85714286 0.86243386 0.86772487 0.87301587\n",
      " 0.87830688 0.88359788 0.88888889 0.89417989 0.8994709  0.9047619\n",
      " 0.91005291 0.91534392 0.92063492 0.92592593 0.93121693 0.93650794\n",
      " 0.94179894 0.94708995 0.95238095 0.95767196 0.96296296 0.96825397\n",
      " 0.97354497 0.97883598 0.98412698 0.98941799 0.99470899 1.        ]\n"
     ]
    }
   ],
   "source": [
    "print(fpr_test)"
   ]
  },
  {
   "cell_type": "code",
   "execution_count": 42,
   "metadata": {},
   "outputs": [],
   "source": [
    "def find_tpr_at_fpr(fpr, tpr, target_fpr):\n",
    "    return np.interp(target_fpr, fpr, tpr)"
   ]
  },
  {
   "cell_type": "code",
   "execution_count": 43,
   "metadata": {},
   "outputs": [],
   "source": [
    "target_fprs = [0.1, 0.01, 0.001]\n",
    "tpr_at_target_fpr_train = [find_tpr_at_fpr(fpr_train, tpr_train, fpr) for fpr in target_fprs]\n",
    "tpr_at_target_fpr_test = [find_tpr_at_fpr(fpr_test, tpr_test, fpr) for fpr in target_fprs]\n",
    "tpr_at_target_fpr_val = [find_tpr_at_fpr(fpr_validation, tpr_validation, fpr) for fpr in target_fprs]"
   ]
  },
  {
   "cell_type": "code",
   "execution_count": 44,
   "metadata": {},
   "outputs": [
    {
     "name": "stdout",
     "output_type": "stream",
     "text": [
      "Test\n",
      "TPR at FPR 0.100: 0.934\n",
      "TPR at FPR 0.010: 0.778\n",
      "TPR at FPR 0.001: 0.693\n",
      "             AUC: 0.9794848757112908\n",
      "Train\n",
      "TPR at FPR 0.100: 0.981\n",
      "TPR at FPR 0.010: 0.808\n",
      "TPR at FPR 0.001: 0.678\n",
      "             AUC: 0.9887678021291292\n",
      "Validation\n",
      "TPR at FPR 0.100: 0.873\n",
      "TPR at FPR 0.010: 0.533\n",
      "TPR at FPR 0.001: 0.340\n",
      "             AUC: 0.95385791082534\n"
     ]
    }
   ],
   "source": [
    "print(\"Test\")\n",
    "for tpr, fpr in zip(tpr_at_target_fpr_test, target_fprs):\n",
    "    print(f'TPR at FPR {fpr:.3f}: {tpr:.3f}')\n",
    "print(f'             AUC: {roc_auc_test}')\n",
    "\n",
    "print(\"Train\")\n",
    "for tpr, fpr in zip(tpr_at_target_fpr_train, target_fprs):\n",
    "    print(f'TPR at FPR {fpr:.3f}: {tpr:.3f}')\n",
    "print(f'             AUC: {roc_auc_train}')\n",
    "\n",
    "print(\"Validation\")\n",
    "for tpr, fpr in zip(tpr_at_target_fpr_val, target_fprs):\n",
    "    print(f'TPR at FPR {fpr:.3f}: {tpr:.3f}')\n",
    "print(f'             AUC: {roc_auc_validation}')"
   ]
  }
 ],
 "metadata": {
  "kernelspec": {
   "display_name": "Python 3",
   "language": "python",
   "name": "python3"
  },
  "language_info": {
   "codemirror_mode": {
    "name": "ipython",
    "version": 3
   },
   "file_extension": ".py",
   "mimetype": "text/x-python",
   "name": "python",
   "nbconvert_exporter": "python",
   "pygments_lexer": "ipython3",
   "version": "3.11.1"
  }
 },
 "nbformat": 4,
 "nbformat_minor": 2
}
