{
 "cells": [
  {
   "cell_type": "markdown",
   "metadata": {},
   "source": [
    "# 1. Data Pre-Processing"
   ]
  },
  {
   "cell_type": "markdown",
   "metadata": {},
   "source": [
    "### Import Library"
   ]
  },
  {
   "cell_type": "code",
   "execution_count": 2,
   "metadata": {},
   "outputs": [],
   "source": [
    "import os\n",
    "import shutil\n",
    "from sklearn.model_selection import train_test_split"
   ]
  },
  {
   "cell_type": "markdown",
   "metadata": {},
   "source": [
    "### Folder Paths"
   ]
  },
  {
   "cell_type": "code",
   "execution_count": 3,
   "metadata": {},
   "outputs": [],
   "source": [
    "# source_folder = folder penyimpanan kumpulan dataset yang masih tercampur atau belum dibagi menjadi train, test, dan validation\n",
    "source_folder = \"../dataset/ICDAR-2011\"\n",
    "# train_folder, test_folder, validation_folder = folder tujuan / tempat penyimpanan dataset setelah dibagi di bagian \"Train and Test Data Split\" \n",
    "train_folder = \"../template/ICDAR-data/train\"\n",
    "test_folder = \"../template/ICDAR-data/test\"\n",
    "validation_folder = \"../template/ICDAR-data/validation\""
   ]
  },
  {
   "cell_type": "markdown",
   "metadata": {},
   "source": [
    "### Train and Test Data Split"
   ]
  },
  {
   "cell_type": "code",
   "execution_count": 4,
   "metadata": {},
   "outputs": [],
   "source": [
    "# Hanya membagi data, belum read / membaca gambar "
   ]
  },
  {
   "cell_type": "code",
   "execution_count": 5,
   "metadata": {},
   "outputs": [],
   "source": [
    "def extract_label(folder_name):\n",
    "    return 0 if \"_forg\" in folder_name else 1\n",
    "\n",
    "def split_data(source_folder, train_folder, test_folder, validation_folder):\n",
    "    if not os.path.exists(train_folder):\n",
    "        os.makedirs(train_folder)\n",
    "    if not os.path.exists(test_folder):\n",
    "        os.makedirs(test_folder)\n",
    "    if not os.path.exists(validation_folder):\n",
    "        os.makedirs(validation_folder)\n",
    "\n",
    "    signatures = [folder for folder in os.listdir(source_folder) if os.path.isdir(os.path.join(source_folder, folder))]\n",
    "    for signature in signatures:\n",
    "        signature_path = os.path.join(source_folder, signature)\n",
    "        images = os.listdir(signature_path)\n",
    "\n",
    "        label = extract_label(signature)\n",
    "\n",
    "        train_signature_temp, test_signature = train_test_split(images, test_size=0.2, random_state=3, stratify=[label]*len(images)) #stratify\n",
    "        train_signature, validation_signature = train_test_split(train_signature_temp, test_size=0.25, random_state=3, stratify=[label]*len(train_signature_temp))\n",
    "\n",
    "        for sig in train_signature:\n",
    "            source_path = os.path.join(signature_path, sig)\n",
    "            destination_path = os.path.join(train_folder, signature)\n",
    "            if not os.path.exists(destination_path):\n",
    "                os.makedirs(destination_path)\n",
    "            destination_path = os.path.join(destination_path, sig)\n",
    "            shutil.copy(source_path, destination_path)\n",
    "\n",
    "        for sig in test_signature:\n",
    "            source_path = os.path.join(signature_path, sig)\n",
    "            destination_path = os.path.join(test_folder, signature)\n",
    "            if not os.path.exists(destination_path):\n",
    "                os.makedirs(destination_path)\n",
    "            destination_path = os.path.join(destination_path, sig)\n",
    "            shutil.copy(source_path, destination_path)\n",
    "\n",
    "        for sig in validation_signature:\n",
    "            source_path = os.path.join(signature_path, sig)\n",
    "            destination_path = os.path.join(validation_folder, signature)\n",
    "            if not os.path.exists(destination_path):\n",
    "                os.makedirs(destination_path)\n",
    "            destination_path = os.path.join(destination_path, sig)\n",
    "            shutil.copy(source_path, destination_path)"
   ]
  },
  {
   "cell_type": "code",
   "execution_count": 6,
   "metadata": {},
   "outputs": [],
   "source": [
    "# split_data(source_folder, train_folder, test_folder, validation_folder)"
   ]
  },
  {
   "cell_type": "markdown",
   "metadata": {},
   "source": [
    "# 2. Feature Extraction"
   ]
  },
  {
   "cell_type": "markdown",
   "metadata": {},
   "source": [
    "### Load vgg16 model"
   ]
  },
  {
   "cell_type": "code",
   "execution_count": 7,
   "metadata": {},
   "outputs": [],
   "source": [
    "from tensorflow.keras.applications import VGG16\n",
    "from tensorflow.keras.applications.vgg16 import preprocess_input\n",
    "from tensorflow.keras.preprocessing import image\n",
    "import numpy as np"
   ]
  },
  {
   "cell_type": "markdown",
   "metadata": {},
   "source": [
    "### Extract Features"
   ]
  },
  {
   "cell_type": "code",
   "execution_count": 8,
   "metadata": {},
   "outputs": [],
   "source": [
    "from tensorflow.keras.models import Model\n",
    "from tensorflow.keras.layers import GlobalAveragePooling2D, Dense\n",
    "import cv2 as cv"
   ]
  },
  {
   "cell_type": "code",
   "execution_count": 9,
   "metadata": {},
   "outputs": [],
   "source": [
    "size = 224"
   ]
  },
  {
   "cell_type": "code",
   "execution_count": 10,
   "metadata": {},
   "outputs": [],
   "source": [
    "base_model = VGG16(weights='imagenet', include_top=False, input_shape=(size, size, 3))\n",
    "gap = GlobalAveragePooling2D()(base_model.output) \n",
    "gap = Dense(512, activation='relu')(gap) # Global Average Pooling to 512"
   ]
  },
  {
   "cell_type": "code",
   "execution_count": 11,
   "metadata": {},
   "outputs": [],
   "source": [
    "model = Model(inputs=base_model.input, outputs=gap)"
   ]
  },
  {
   "cell_type": "code",
   "execution_count": 12,
   "metadata": {},
   "outputs": [
    {
     "name": "stdout",
     "output_type": "stream",
     "text": [
      "Model: \"model\"\n",
      "_________________________________________________________________\n",
      " Layer (type)                Output Shape              Param #   \n",
      "=================================================================\n",
      " input_1 (InputLayer)        [(None, 224, 224, 3)]     0         \n",
      "                                                                 \n",
      " block1_conv1 (Conv2D)       (None, 224, 224, 64)      1792      \n",
      "                                                                 \n",
      " block1_conv2 (Conv2D)       (None, 224, 224, 64)      36928     \n",
      "                                                                 \n",
      " block1_pool (MaxPooling2D)  (None, 112, 112, 64)      0         \n",
      "                                                                 \n",
      " block2_conv1 (Conv2D)       (None, 112, 112, 128)     73856     \n",
      "                                                                 \n",
      " block2_conv2 (Conv2D)       (None, 112, 112, 128)     147584    \n",
      "                                                                 \n",
      " block2_pool (MaxPooling2D)  (None, 56, 56, 128)       0         \n",
      "                                                                 \n",
      " block3_conv1 (Conv2D)       (None, 56, 56, 256)       295168    \n",
      "                                                                 \n",
      " block3_conv2 (Conv2D)       (None, 56, 56, 256)       590080    \n",
      "                                                                 \n",
      " block3_conv3 (Conv2D)       (None, 56, 56, 256)       590080    \n",
      "                                                                 \n",
      " block3_pool (MaxPooling2D)  (None, 28, 28, 256)       0         \n",
      "                                                                 \n",
      " block4_conv1 (Conv2D)       (None, 28, 28, 512)       1180160   \n",
      "                                                                 \n",
      " block4_conv2 (Conv2D)       (None, 28, 28, 512)       2359808   \n",
      "                                                                 \n",
      " block4_conv3 (Conv2D)       (None, 28, 28, 512)       2359808   \n",
      "                                                                 \n",
      " block4_pool (MaxPooling2D)  (None, 14, 14, 512)       0         \n",
      "                                                                 \n",
      " block5_conv1 (Conv2D)       (None, 14, 14, 512)       2359808   \n",
      "                                                                 \n",
      " block5_conv2 (Conv2D)       (None, 14, 14, 512)       2359808   \n",
      "                                                                 \n",
      " block5_conv3 (Conv2D)       (None, 14, 14, 512)       2359808   \n",
      "                                                                 \n",
      " block5_pool (MaxPooling2D)  (None, 7, 7, 512)         0         \n",
      "                                                                 \n",
      " global_average_pooling2d (  (None, 512)               0         \n",
      " GlobalAveragePooling2D)                                         \n",
      "                                                                 \n",
      " dense (Dense)               (None, 512)               262656    \n",
      "                                                                 \n",
      "=================================================================\n",
      "Total params: 14977344 (57.13 MB)\n",
      "Trainable params: 14977344 (57.13 MB)\n",
      "Non-trainable params: 0 (0.00 Byte)\n",
      "_________________________________________________________________\n"
     ]
    }
   ],
   "source": [
    "model.summary()"
   ]
  },
  {
   "cell_type": "code",
   "execution_count": 13,
   "metadata": {},
   "outputs": [],
   "source": [
    "def extract_features(folder_path, batch_size=32):\n",
    "    features = []\n",
    "    names = []\n",
    "    labels = []\n",
    "    signatures = [folder for folder in os.listdir(folder_path) if os.path.isdir(os.path.join(folder_path, folder))]\n",
    "\n",
    "    for signature in signatures:\n",
    "        signature_path = os.path.join(folder_path, signature)\n",
    "        images = os.listdir(signature_path)\n",
    "\n",
    "        batch_features = []\n",
    "        batch_names = []\n",
    "        batch_labels = []\n",
    "\n",
    "        for image_name in images:\n",
    "            image_path = os.path.join(signature_path, image_name)\n",
    "            # Read dan pre-processing gambar\n",
    "            img = cv.imread(image_path)\n",
    "            img = cv.cvtColor(img, cv.COLOR_BGR2RGB)\n",
    "            img = cv.resize(img, (size, size))\n",
    "            img = np.array(preprocess_input(img))\n",
    "\n",
    "            batch_features.append(img)\n",
    "            batch_names.append(signature[:3])\n",
    "\n",
    "            if signature.endswith(\"_forg\"):\n",
    "                batch_labels.append(0)\n",
    "            else:\n",
    "                batch_labels.append(1)\n",
    "\n",
    "            if len(batch_features) == batch_size:\n",
    "                batch_features = np.array(batch_features)\n",
    "                batch_features = model.predict(batch_features)\n",
    "                batch_features = batch_features.reshape(len(batch_features), -1)\n",
    "\n",
    "                features.extend(batch_features)\n",
    "                names.extend(batch_names)\n",
    "                labels.extend(batch_labels)\n",
    "\n",
    "                batch_features = []\n",
    "                batch_names = []\n",
    "                batch_labels = []\n",
    "\n",
    "        if batch_features:\n",
    "            batch_features = np.array(batch_features)\n",
    "            batch_features = model.predict(batch_features)\n",
    "            batch_features = batch_features.reshape(len(batch_features), -1)\n",
    "\n",
    "            features.extend(batch_features)\n",
    "            names.extend(batch_names)\n",
    "            labels.extend(batch_labels)\n",
    "\n",
    "    return features, names, labels"
   ]
  },
  {
   "cell_type": "code",
   "execution_count": 14,
   "metadata": {},
   "outputs": [],
   "source": [
    "# train_features, train_names, train_labels = extract_features(train_folder)\n",
    "# test_features, test_names, test_labels = extract_features(test_folder)\n",
    "# validation_features, validation_names, validation_labels = extract_features(validation_folder)"
   ]
  },
  {
   "cell_type": "markdown",
   "metadata": {},
   "source": [
    "### Save and Load Features, Names, and Labels to reduce time needed"
   ]
  },
  {
   "cell_type": "code",
   "execution_count": 15,
   "metadata": {},
   "outputs": [],
   "source": [
    "train_features_path =  \"../template/ICDAR-feature/train_features.npy\"\n",
    "train_names_path = \"../template/ICDAR-feature/train_names.npy\"\n",
    "train_labels_path = \"../template/ICDAR-feature/train_labels.npy\"\n",
    "\n",
    "test_features_path = \"../template/ICDAR-feature/test_features.npy\"\n",
    "test_names_path = \"../template/ICDAR-feature/test_names.npy\"\n",
    "test_labels_path = \"../template/ICDAR-feature/test_labels.npy\"\n",
    "\n",
    "validation_features_path = \"../template/ICDAR-feature/validation_features.npy\"\n",
    "validation_names_path = \"../template/ICDAR-feature/validation_names.npy\"\n",
    "validation_labels_path = \"../template/ICDAR-feature/validation_labels.npy\""
   ]
  },
  {
   "cell_type": "code",
   "execution_count": 16,
   "metadata": {},
   "outputs": [],
   "source": [
    "# np.save(train_features_path, train_features)\n",
    "# np.save(train_names_path, train_names)\n",
    "# np.save(train_labels_path, train_labels)\n",
    "\n",
    "# np.save(test_features_path, test_features)\n",
    "# np.save(test_names_path, test_names)\n",
    "# np.save(test_labels_path, test_labels)\n",
    "\n",
    "# np.save(validation_features_path, validation_features)\n",
    "# np.save(validation_names_path, validation_names)\n",
    "# np.save(validation_labels_path, validation_labels)"
   ]
  },
  {
   "cell_type": "code",
   "execution_count": 17,
   "metadata": {},
   "outputs": [],
   "source": [
    "train_features = np.load(train_features_path)\n",
    "train_names = np.load(train_names_path)\n",
    "train_labels = np.load(train_labels_path)\n",
    "\n",
    "test_features = np.load(test_features_path)\n",
    "test_names = np.load(test_names_path)\n",
    "test_labels = np.load(test_labels_path)\n",
    "\n",
    "validation_features = np.load(validation_features_path)\n",
    "validation_names = np.load(validation_names_path)\n",
    "validation_labels = np.load(validation_labels_path)"
   ]
  },
  {
   "cell_type": "code",
   "execution_count": 18,
   "metadata": {},
   "outputs": [
    {
     "name": "stdout",
     "output_type": "stream",
     "text": [
      "train_features shape :  (857, 512)\n",
      "test_features shape :  (401, 512)\n",
      "validation_features shape :  (391, 512)\n"
     ]
    }
   ],
   "source": [
    "print(\"train_features shape : \", train_features.shape)\n",
    "print(\"test_features shape : \", test_features.shape)\n",
    "print(\"validation_features shape : \", validation_features.shape)"
   ]
  },
  {
   "cell_type": "markdown",
   "metadata": {},
   "source": [
    "### Feature Gallery"
   ]
  },
  {
   "cell_type": "code",
   "execution_count": 19,
   "metadata": {},
   "outputs": [],
   "source": [
    "# Feature Gallery dilakukan untuk setiap kelas / nama seperti \"001\", \"002\", \"003\", dst dengan cara mengambil data training positive dan mengambil mean / rata-rata dari data tersebut\n",
    "def create_feature_gallery(train_features, train_names, train_labels):\n",
    "    gallery_feature = []\n",
    "    gallery_name = []\n",
    "\n",
    "    unique_names = set(train_names.flatten())\n",
    "    sorted_names = sorted(unique_names)\n",
    "\n",
    "    for name in sorted_names:\n",
    "        # print(name)\n",
    "        # print(name)\n",
    "        name_features = []\n",
    "\n",
    "        for feature, feature_name, label in zip(train_features, train_names, train_labels):\n",
    "            # print(feature, feature_name, label)\n",
    "            if name in feature_name and label == 1:\n",
    "                name_features.append(feature)\n",
    "\n",
    "        if name_features:\n",
    "            # print(name_features)\n",
    "            average_feature = np.mean(name_features, axis=0)\n",
    "            gallery_feature.append(average_feature)\n",
    "            gallery_name.append(name)\n",
    "\n",
    "    return gallery_feature, gallery_name"
   ]
  },
  {
   "cell_type": "code",
   "execution_count": 20,
   "metadata": {},
   "outputs": [],
   "source": [
    "# gallery_features, gallery_names = create_feature_gallery(train_features, train_names, train_labels)"
   ]
  },
  {
   "cell_type": "code",
   "execution_count": 21,
   "metadata": {},
   "outputs": [],
   "source": [
    "gallery_feature_path = \"../template/ICDAR-feature/gallery_features.npy\"\n",
    "gallery_name_path = \"../template/ICDAR-feature/gallery_names.npy\""
   ]
  },
  {
   "cell_type": "code",
   "execution_count": 22,
   "metadata": {},
   "outputs": [],
   "source": [
    "# np.save(gallery_feature_path, gallery_features)\n",
    "# np.save(gallery_name_path, gallery_names)"
   ]
  },
  {
   "cell_type": "code",
   "execution_count": 23,
   "metadata": {},
   "outputs": [],
   "source": [
    "gallery_features = np.load(gallery_feature_path)\n",
    "gallery_names = np.load(gallery_name_path)"
   ]
  },
  {
   "cell_type": "code",
   "execution_count": 24,
   "metadata": {},
   "outputs": [
    {
     "name": "stdout",
     "output_type": "stream",
     "text": [
      "gallery features shape :  (64, 512)\n"
     ]
    }
   ],
   "source": [
    "gallery_features_array = np.array(gallery_features)\n",
    "print(\"gallery features shape : \", gallery_features_array.shape)"
   ]
  },
  {
   "cell_type": "markdown",
   "metadata": {},
   "source": [
    "### Euclidean Distance"
   ]
  },
  {
   "cell_type": "code",
   "execution_count": 25,
   "metadata": {},
   "outputs": [],
   "source": [
    "def euclidean_distance(feature_vector1, feature_vector2):\n",
    "    return np.sqrt(np.sum((feature_vector1 - feature_vector2)**2))"
   ]
  },
  {
   "cell_type": "code",
   "execution_count": 26,
   "metadata": {},
   "outputs": [],
   "source": [
    "def find_euclidean_distance(test_features, test_names, test_labels, gallery_features, gallery_names):\n",
    "    euclidean_distances = []\n",
    "    euclidean_names = []\n",
    "    euclidean_actual_labels = []\n",
    "\n",
    "    for gallery_feature, gallery_name in zip(gallery_features, gallery_names):\n",
    "        curr_euclid_name = gallery_name\n",
    "        curr_euclid_feature = []\n",
    "        curr_euclid_label = []\n",
    "        curr_euclid_dist = []\n",
    "        for feature, name, label in zip(test_features, test_names, test_labels):\n",
    "            if gallery_name in name:\n",
    "                curr_euclid_feature.append(feature)\n",
    "                curr_euclid_label.append(label)\n",
    "        \n",
    "        for feature in curr_euclid_feature:\n",
    "            distance = euclidean_distance(feature, gallery_feature)\n",
    "            curr_euclid_dist.append(distance)\n",
    "\n",
    "        euclidean_distances.append(curr_euclid_dist)\n",
    "        euclidean_names.append(curr_euclid_name)\n",
    "        euclidean_actual_labels.append(curr_euclid_label)\n",
    "        \n",
    "    return euclidean_distances, euclidean_names, euclidean_actual_labels"
   ]
  },
  {
   "cell_type": "code",
   "execution_count": 27,
   "metadata": {},
   "outputs": [],
   "source": [
    "#test dengan train"
   ]
  },
  {
   "cell_type": "code",
   "execution_count": 28,
   "metadata": {},
   "outputs": [],
   "source": [
    "test_euclidean_distances, test_euclidean_names, test_euclidean_actual_labels = find_euclidean_distance(test_features, test_names, test_labels, gallery_features, gallery_names)\n",
    "train_euclidean_distances, train_euclidean_names, train_euclidean_actual_labels = find_euclidean_distance(train_features, train_names, train_labels, gallery_features, gallery_names)\n",
    "validation_euclidean_distances, validation_euclidean_names, validation_euclidean_actual_labels = find_euclidean_distance(validation_features, validation_names, validation_labels, gallery_features, gallery_names)"
   ]
  },
  {
   "cell_type": "code",
   "execution_count": 29,
   "metadata": {},
   "outputs": [],
   "source": [
    "# print(euclidean_actual_labels)"
   ]
  },
  {
   "cell_type": "markdown",
   "metadata": {},
   "source": [
    "### Split Euclidean Distance to Positive and Negative for Future Use (If needed)"
   ]
  },
  {
   "cell_type": "code",
   "execution_count": 47,
   "metadata": {},
   "outputs": [],
   "source": [
    "def split_euc_dist(euclidean_distances, euclidean_names, euclidean_actual_labels):\n",
    "    positive_distance = []\n",
    "    positive_name = []\n",
    "    positive_label = []\n",
    "    negative_distance = []\n",
    "    negative_name = []\n",
    "    negative_label = []\n",
    "\n",
    "    for euclidean_distance, euclidean_name, euclidean_actual_label in zip(euclidean_distances, euclidean_names, euclidean_actual_labels):\n",
    "        pos_dist = []\n",
    "        neg_dist = []\n",
    "        pos_lab = []\n",
    "        neg_lab = []\n",
    "        for distance, label in zip(euclidean_distance, euclidean_actual_label):\n",
    "            if label == 0:\n",
    "                neg_dist.append(distance)\n",
    "                neg_lab.append(label)\n",
    "            else:\n",
    "                pos_dist.append(distance)\n",
    "                pos_lab.append(label)\n",
    "\n",
    "        positive_distance.append(pos_dist)\n",
    "        positive_name.append(euclidean_name)\n",
    "        positive_label.append(pos_lab)\n",
    "\n",
    "        negative_distance.append(neg_dist)\n",
    "        negative_name.append(euclidean_name)\n",
    "        negative_label.append(neg_lab)\n",
    "        # print(euclidean_distance, euclidean_name, euclidean_actual_label)\n",
    "\n",
    "    return positive_distance, negative_label"
   ]
  },
  {
   "cell_type": "code",
   "execution_count": 53,
   "metadata": {},
   "outputs": [],
   "source": [
    "train_positive_dist, train_negative_dist = split_euc_dist(train_euclidean_distances, train_names, train_euclidean_actual_labels)\n",
    "test_positive_dist, test_negative_dist = split_euc_dist(test_euclidean_distances, test_names, test_euclidean_actual_labels)\n",
    "validation_positive_dist, validation_negative_dist = split_euc_dist(validation_euclidean_distances, validation_names, validation_euclidean_actual_labels)"
   ]
  },
  {
   "cell_type": "code",
   "execution_count": 58,
   "metadata": {},
   "outputs": [
    {
     "name": "stdout",
     "output_type": "stream",
     "text": [
      "Train total : 857\n",
      "  Train pos : 463\n",
      "  Train neg : 394\n",
      " Test total : 401\n",
      "   Test pos : 212\n",
      "   Test neg : 189\n",
      "  Val total : 391\n",
      "    Val pos : 212\n",
      "    Val neg : 179\n"
     ]
    }
   ],
   "source": [
    "flat_train_positive_dist = [item for sublist in train_positive_dist for item in sublist]\n",
    "flat_train_negative_dist = [item for sublist in train_negative_dist for item in sublist]\n",
    "flat_test_positive_dist = [item for sublist in test_positive_dist for item in sublist]\n",
    "flat_test_negative_dist = [item for sublist in test_negative_dist for item in sublist]\n",
    "flat_validation_positive_dist = [item for sublist in validation_positive_dist for item in sublist]\n",
    "flat_validation_negative_dist = [item for sublist in validation_negative_dist for item in sublist]\n",
    "\n",
    "print(f'Train total : {len(flat_train_positive_dist) + len(flat_train_negative_dist)}')\n",
    "print(f'  Train pos : {len(flat_train_positive_dist)}')\n",
    "print(f'  Train neg : {len(flat_train_negative_dist)}')\n",
    "print(f' Test total : {len(flat_test_positive_dist) + len(flat_test_negative_dist)}')\n",
    "print(f'   Test pos : {len(flat_test_positive_dist)}')\n",
    "print(f'   Test neg : {len(flat_test_negative_dist)}')\n",
    "print(f'  Val total : {len(flat_validation_positive_dist) + len(flat_validation_negative_dist)}')\n",
    "print(f'    Val pos : {len(flat_validation_positive_dist)}')\n",
    "print(f'    Val neg : {len(flat_validation_negative_dist)}')"
   ]
  },
  {
   "cell_type": "markdown",
   "metadata": {},
   "source": [
    "### Normalize Euclidean Distance"
   ]
  },
  {
   "cell_type": "code",
   "execution_count": 31,
   "metadata": {},
   "outputs": [],
   "source": [
    "def normalize_distance(euclidean_distances):\n",
    "    all_distances = []\n",
    "    for distances in euclidean_distances:\n",
    "        min_distance = min(distances)\n",
    "        max_distance = max(distances)\n",
    "\n",
    "        normalized_distances = [(d - min_distance) / (max_distance - min_distance) for d in distances]\n",
    "        all_distances.append(normalized_distances)\n",
    "\n",
    "    return all_distances\n",
    "\n",
    "def reverse_normalized_distance(euclidean_distances):\n",
    "    reverse_distance = []\n",
    "    normalized_distances = normalize_distance(euclidean_distances)\n",
    "    for distances in normalized_distances:\n",
    "        temp = []\n",
    "        for distance in distances :\n",
    "            distance = -distance\n",
    "            temp.append(distance)\n",
    "        reverse_distance.append(temp)\n",
    "    return reverse_distance"
   ]
  },
  {
   "cell_type": "code",
   "execution_count": 32,
   "metadata": {},
   "outputs": [],
   "source": [
    "# normalized_positive_distances = reverse_normalized_distance(positive_distance)\n",
    "# normalized_negative_distances = reverse_normalized_distance(negative_distance)"
   ]
  },
  {
   "cell_type": "code",
   "execution_count": 33,
   "metadata": {},
   "outputs": [],
   "source": [
    "normalized_test_euclidean_distance = reverse_normalized_distance(test_euclidean_distances)\n",
    "normalized_train_euclidean_distance = reverse_normalized_distance(train_euclidean_distances)\n",
    "normalized_validation_euclidean_distance = reverse_normalized_distance(validation_euclidean_distances)"
   ]
  },
  {
   "cell_type": "markdown",
   "metadata": {},
   "source": [
    "# 3. ROC Curve"
   ]
  },
  {
   "cell_type": "code",
   "execution_count": 34,
   "metadata": {},
   "outputs": [],
   "source": [
    "from sklearn.metrics import roc_curve, auc\n",
    "import matplotlib.pyplot as plt\n",
    "from matplotlib.ticker import MultipleLocator"
   ]
  },
  {
   "cell_type": "code",
   "execution_count": 35,
   "metadata": {},
   "outputs": [
    {
     "data": {
      "image/png": "[encoded data removed]",
      "text/plain": [
       "<Figure size 800x800 with 1 Axes>"
      ]
     },
     "metadata": {},
     "output_type": "display_data"
    }
   ],
   "source": [
    "# Flatten the lists of distances\n",
    "flat_test_distances = [item for sublist in normalized_test_euclidean_distance for item in sublist]\n",
    "flat_train_distances = [item for sublist in normalized_train_euclidean_distance for item in sublist]\n",
    "flat_validation_distances = [item for sublist in normalized_validation_euclidean_distance for item in sublist]\n",
    "\n",
    "# Flatten the lists of labels\n",
    "flat_test_labels = [item for sublist in test_euclidean_actual_labels for item in sublist]\n",
    "flat_train_labels = [item for sublist in train_euclidean_actual_labels for item in sublist]\n",
    "flat_validation_labels = [item for sublist in validation_euclidean_actual_labels for item in sublist]\n",
    "\n",
    "# Calculate ROC curve\n",
    "fpr_test, tpr_test, thresholds_test = roc_curve(flat_test_labels, flat_test_distances, drop_intermediate=False)\n",
    "roc_auc_test = auc(fpr_test, tpr_test)\n",
    "fpr_train, tpr_train, thresholds_train = roc_curve(flat_train_labels, flat_train_distances, drop_intermediate=False)\n",
    "roc_auc_train = auc(fpr_train, tpr_train)\n",
    "fpr_validation, tpr_validation, thresholds_validation = roc_curve(flat_validation_labels, flat_validation_distances, drop_intermediate=False)\n",
    "roc_auc_validation = auc(fpr_validation, tpr_validation)\n",
    "\n",
    "# Calculate Youden's J statistic\n",
    "J_values_test = tpr_test - fpr_test\n",
    "optimal_idx_test = np.argmax(J_values_test)\n",
    "optimal_threshold_test = abs(thresholds_test[optimal_idx_test])\n",
    "J_values_train = tpr_train - fpr_train\n",
    "optimal_idx_train = np.argmax(J_values_train)\n",
    "optimal_threshold_train = abs(thresholds_train[optimal_idx_train])\n",
    "J_values_validation = tpr_validation - fpr_validation\n",
    "optimal_idx_validation = np.argmax(J_values_validation)\n",
    "optimal_threshold_validation = abs(thresholds_validation[optimal_idx_validation])\n",
    "\n",
    "# Plot ROC curve\n",
    "plt.figure(figsize=(8, 8))\n",
    "\n",
    "plt.plot(fpr_test, tpr_test, color='peru', lw=2, label=f'Test AUC = {roc_auc_test:.2f}')\n",
    "plt.scatter(fpr_test[optimal_idx_test], tpr_test[optimal_idx_test], marker='o', color='orangered', label=f'Test Optimal Threshold = {optimal_threshold_test:.2f}')\n",
    "plt.plot(fpr_train, tpr_train, color='darkseagreen', lw=2, label=f'Train AUC = {roc_auc_train:.2f}')\n",
    "plt.scatter(fpr_train[optimal_idx_train], tpr_train[optimal_idx_train], marker='o', color='darkolivegreen', label=f'Train Optimal Threshold = {optimal_threshold_train:.2f}')\n",
    "plt.plot(fpr_validation, tpr_validation, color='steelblue', lw=2, label=f'Validation AUC = {roc_auc_validation:.2f}')\n",
    "plt.scatter(fpr_validation[optimal_idx_validation], tpr_validation[optimal_idx_validation], marker='o', color='darkslategray', label=f'Validation Optimal Threshold = {optimal_threshold_validation:.2f}')\n",
    "\n",
    "plt.plot([0, 1], [0, 1], color='navy', lw=2, linestyle='--')\n",
    "plt.xlabel('False Positive Rate')\n",
    "plt.ylabel('True Positive Rate')\n",
    "plt.title('ROC Curve with Optimal Threshold')\n",
    "plt.legend(loc='lower right')\n",
    "plt.show()"
   ]
  },
  {
   "cell_type": "code",
   "execution_count": 36,
   "metadata": {},
   "outputs": [
    {
     "name": "stdout",
     "output_type": "stream",
     "text": [
      "[0.         0.30188679 0.30660377 0.31132075 0.31603774 0.32075472\n",
      " 0.3254717  0.33018868 0.33490566 0.33962264 0.34433962 0.3490566\n",
      " 0.35377358 0.35849057 0.36320755 0.36792453 0.37264151 0.37735849\n",
      " 0.38207547 0.38679245 0.39150943 0.39622642 0.4009434  0.40566038\n",
      " 0.41037736 0.41509434 0.41509434 0.41981132 0.4245283  0.42924528\n",
      " 0.43396226 0.43867925 0.44339623 0.44811321 0.45283019 0.45754717\n",
      " 0.46226415 0.46698113 0.47169811 0.47641509 0.48113208 0.48584906\n",
      " 0.49056604 0.49528302 0.5        0.50471698 0.50943396 0.51415094\n",
      " 0.51886792 0.52358491 0.52830189 0.53301887 0.53773585 0.54245283\n",
      " 0.54716981 0.55188679 0.55660377 0.56132075 0.56603774 0.57075472\n",
      " 0.5754717  0.58018868 0.58490566 0.58962264 0.59433962 0.5990566\n",
      " 0.60377358 0.60849057 0.61320755 0.61792453 0.62264151 0.62735849\n",
      " 0.63207547 0.63679245 0.64150943 0.64622642 0.6509434  0.65566038\n",
      " 0.66037736 0.66509434 0.66981132 0.6745283  0.67924528 0.68396226\n",
      " 0.68867925 0.69339623 0.69811321 0.70283019 0.70754717 0.71226415\n",
      " 0.71698113 0.72169811 0.72641509 0.73113208 0.73584906 0.74056604\n",
      " 0.74528302 0.75       0.75471698 0.75943396 0.76415094 0.76886792\n",
      " 0.76886792 0.77358491 0.77830189 0.78301887 0.78773585 0.79245283\n",
      " 0.79716981 0.80188679 0.80660377 0.81132075 0.81603774 0.82075472\n",
      " 0.82075472 0.8254717  0.83018868 0.83490566 0.83962264 0.84433962\n",
      " 0.84433962 0.8490566  0.85377358 0.85849057 0.86320755 0.86792453\n",
      " 0.86792453 0.86792453 0.87264151 0.87735849 0.87735849 0.88207547\n",
      " 0.88679245 0.89150943 0.89622642 0.89622642 0.9009434  0.90566038\n",
      " 0.91037736 0.91509434 0.91981132 0.9245283  0.92924528 0.92924528\n",
      " 0.93396226 0.93396226 0.93867925 0.94339623 0.94339623 0.94339623\n",
      " 0.94339623 0.94339623 0.94811321 0.95283019 0.95754717 0.95754717\n",
      " 0.95754717 0.95754717 0.96226415 0.96226415 0.96226415 0.96226415\n",
      " 0.96226415 0.96226415 0.96226415 0.96698113 0.97169811 0.97641509\n",
      " 0.97641509 0.97641509 0.97641509 0.97641509 0.97641509 0.97641509\n",
      " 0.97641509 0.97641509 0.98113208 0.98113208 0.98113208 0.98113208\n",
      " 0.98113208 0.98113208 0.98113208 0.98584906 0.98584906 0.98584906\n",
      " 0.98584906 0.99056604 0.99056604 0.99528302 0.99528302 0.99528302\n",
      " 0.99528302 0.99528302 0.99528302 0.99528302 0.99528302 0.99528302\n",
      " 0.99528302 0.99528302 0.99528302 0.99528302 0.99528302 0.99528302\n",
      " 0.99528302 0.99528302 0.99528302 0.99528302 0.99528302 0.99528302\n",
      " 0.99528302 0.99528302 0.99528302 0.99528302 0.99528302 0.99528302\n",
      " 0.99528302 0.99528302 0.99528302 0.99528302 0.99528302 0.99528302\n",
      " 0.99528302 0.99528302 0.99528302 1.         1.         1.\n",
      " 1.         1.         1.         1.         1.         1.\n",
      " 1.         1.         1.         1.         1.         1.\n",
      " 1.         1.         1.         1.         1.         1.\n",
      " 1.         1.         1.         1.         1.         1.\n",
      " 1.         1.         1.         1.         1.         1.\n",
      " 1.         1.         1.         1.         1.         1.\n",
      " 1.         1.         1.         1.         1.         1.\n",
      " 1.         1.         1.         1.         1.         1.        ]\n"
     ]
    }
   ],
   "source": [
    "print(tpr_test)"
   ]
  },
  {
   "cell_type": "code",
   "execution_count": 37,
   "metadata": {},
   "outputs": [
    {
     "name": "stdout",
     "output_type": "stream",
     "text": [
      "[0.         0.         0.         0.         0.         0.\n",
      " 0.         0.         0.         0.         0.         0.\n",
      " 0.         0.         0.         0.         0.         0.\n",
      " 0.         0.         0.         0.         0.         0.\n",
      " 0.         0.         0.00529101 0.00529101 0.00529101 0.00529101\n",
      " 0.00529101 0.00529101 0.00529101 0.00529101 0.00529101 0.00529101\n",
      " 0.00529101 0.00529101 0.00529101 0.00529101 0.00529101 0.00529101\n",
      " 0.00529101 0.00529101 0.00529101 0.00529101 0.00529101 0.00529101\n",
      " 0.00529101 0.00529101 0.00529101 0.00529101 0.00529101 0.00529101\n",
      " 0.00529101 0.00529101 0.00529101 0.00529101 0.00529101 0.00529101\n",
      " 0.00529101 0.00529101 0.00529101 0.00529101 0.00529101 0.00529101\n",
      " 0.00529101 0.00529101 0.00529101 0.00529101 0.00529101 0.00529101\n",
      " 0.00529101 0.00529101 0.00529101 0.00529101 0.00529101 0.00529101\n",
      " 0.00529101 0.00529101 0.00529101 0.00529101 0.00529101 0.00529101\n",
      " 0.00529101 0.00529101 0.00529101 0.00529101 0.00529101 0.00529101\n",
      " 0.00529101 0.00529101 0.00529101 0.00529101 0.00529101 0.00529101\n",
      " 0.00529101 0.00529101 0.00529101 0.00529101 0.00529101 0.00529101\n",
      " 0.01058201 0.01058201 0.01058201 0.01058201 0.01058201 0.01058201\n",
      " 0.01058201 0.01058201 0.01058201 0.01058201 0.01058201 0.01058201\n",
      " 0.01587302 0.01587302 0.01587302 0.01587302 0.01587302 0.01587302\n",
      " 0.02116402 0.02116402 0.02116402 0.02116402 0.02116402 0.02116402\n",
      " 0.02645503 0.03174603 0.03174603 0.03174603 0.03703704 0.03703704\n",
      " 0.03703704 0.03703704 0.03703704 0.04232804 0.04232804 0.04232804\n",
      " 0.04232804 0.04232804 0.04232804 0.04232804 0.04232804 0.04761905\n",
      " 0.04761905 0.05291005 0.05291005 0.05291005 0.05820106 0.06349206\n",
      " 0.06878307 0.07407407 0.07407407 0.07407407 0.07407407 0.07936508\n",
      " 0.08465608 0.08994709 0.08994709 0.0952381  0.1005291  0.10582011\n",
      " 0.11111111 0.11640212 0.12169312 0.12169312 0.12169312 0.12169312\n",
      " 0.12698413 0.13227513 0.13756614 0.14285714 0.14814815 0.15343915\n",
      " 0.15873016 0.16402116 0.16402116 0.16931217 0.17460317 0.17989418\n",
      " 0.18518519 0.19047619 0.1957672  0.1957672  0.2010582  0.20634921\n",
      " 0.21164021 0.21164021 0.21693122 0.21693122 0.22222222 0.22751323\n",
      " 0.23280423 0.23809524 0.24338624 0.24867725 0.25396825 0.25925926\n",
      " 0.26455026 0.26984127 0.27513228 0.28042328 0.28571429 0.29100529\n",
      " 0.2962963  0.3015873  0.30687831 0.31216931 0.31746032 0.32275132\n",
      " 0.32804233 0.33333333 0.33862434 0.34391534 0.34920635 0.35449735\n",
      " 0.35978836 0.36507937 0.37037037 0.37566138 0.38095238 0.38624339\n",
      " 0.39153439 0.3968254  0.4021164  0.4021164  0.40740741 0.41269841\n",
      " 0.41798942 0.42328042 0.42857143 0.43386243 0.43915344 0.44444444\n",
      " 0.44973545 0.45502646 0.46031746 0.46560847 0.47089947 0.47619048\n",
      " 0.48148148 0.48677249 0.49206349 0.4973545  0.5026455  0.50793651\n",
      " 0.51322751 0.51851852 0.52380952 0.52910053 0.53439153 0.53968254\n",
      " 0.54497354 0.55026455 0.55555556 0.56084656 0.56613757 0.57142857\n",
      " 0.57671958 0.58201058 0.58730159 0.59259259 0.5978836  0.6031746\n",
      " 0.60846561 0.61375661 0.61904762 0.62433862 0.62962963 0.63492063\n",
      " 0.64021164 0.64550265 0.65079365 0.65608466 0.66137566 1.        ]\n"
     ]
    }
   ],
   "source": [
    "print(fpr_test)"
   ]
  },
  {
   "cell_type": "code",
   "execution_count": 38,
   "metadata": {},
   "outputs": [],
   "source": [
    "def find_tpr_at_fpr(fpr, tpr, target_fpr):\n",
    "    return np.interp(target_fpr, fpr, tpr)"
   ]
  },
  {
   "cell_type": "code",
   "execution_count": 39,
   "metadata": {},
   "outputs": [],
   "source": [
    "target_fprs = [0.1, 0.01, 0.001]\n",
    "tpr_at_target_fpr_train = [find_tpr_at_fpr(fpr_train, tpr_train, fpr) for fpr in target_fprs]\n",
    "tpr_at_target_fpr_test = [find_tpr_at_fpr(fpr_test, tpr_test, fpr) for fpr in target_fprs]\n",
    "tpr_at_target_fpr_val = [find_tpr_at_fpr(fpr_validation, tpr_validation, fpr) for fpr in target_fprs]"
   ]
  },
  {
   "cell_type": "code",
   "execution_count": 40,
   "metadata": {},
   "outputs": [
    {
     "name": "stdout",
     "output_type": "stream",
     "text": [
      "Test\n",
      "TPR at FPR 0.100: 0.962\n",
      "TPR at FPR 0.010: 0.769\n",
      "TPR at FPR 0.001: 0.415\n",
      "             AUC: 0.9847758810022961\n",
      "Train\n",
      "TPR at FPR 0.100: 0.991\n",
      "TPR at FPR 0.010: 0.896\n",
      "TPR at FPR 0.001: 0.812\n",
      "             AUC: 0.9953130653101051\n",
      "Validation\n",
      "TPR at FPR 0.100: 0.934\n",
      "TPR at FPR 0.010: 0.594\n",
      "TPR at FPR 0.001: 0.401\n",
      "             AUC: 0.9722778539053442\n"
     ]
    }
   ],
   "source": [
    "print(\"Test\")\n",
    "for tpr, fpr in zip(tpr_at_target_fpr_test, target_fprs):\n",
    "    print(f'TPR at FPR {fpr:.3f}: {tpr:.3f}')\n",
    "print(f'             AUC: {roc_auc_test}')\n",
    "\n",
    "print(\"Train\")\n",
    "for tpr, fpr in zip(tpr_at_target_fpr_train, target_fprs):\n",
    "    print(f'TPR at FPR {fpr:.3f}: {tpr:.3f}')\n",
    "print(f'             AUC: {roc_auc_train}')\n",
    "\n",
    "print(\"Validation\")\n",
    "for tpr, fpr in zip(tpr_at_target_fpr_val, target_fprs):\n",
    "    print(f'TPR at FPR {fpr:.3f}: {tpr:.3f}')\n",
    "print(f'             AUC: {roc_auc_validation}')"
   ]
  }
 ],
 "metadata": {
  "kernelspec": {
   "display_name": "Python 3",
   "language": "python",
   "name": "python3"
  },
  "language_info": {
   "codemirror_mode": {
    "name": "ipython",
    "version": 3
   },
   "file_extension": ".py",
   "mimetype": "text/x-python",
   "name": "python",
   "nbconvert_exporter": "python",
   "pygments_lexer": "ipython3",
   "version": "3.11.1"
  }
 },
 "nbformat": 4,
 "nbformat_minor": 2
}
