{
 "cells": [
  {
   "cell_type": "markdown",
   "metadata": {},
   "source": [
    "### 1. Load Train / Test / Validation Data Files"
   ]
  },
  {
   "cell_type": "code",
   "execution_count": 1,
   "metadata": {},
   "outputs": [],
   "source": [
    "import numpy as np"
   ]
  },
  {
   "cell_type": "code",
   "execution_count": 2,
   "metadata": {},
   "outputs": [
    {
     "ename": "FileNotFoundError",
     "evalue": "[Errno 2] No such file or directory: '../template/ICDAR-feature/train_features.npy'",
     "output_type": "error",
     "traceback": [
      "\u001b[1;31m---------------------------------------------------------------------------\u001b[0m",
      "\u001b[1;31mFileNotFoundError\u001b[0m                         Traceback (most recent call last)",
      "\u001b[1;32mc:\\Users\\Andreas Christianto\\Documents\\College Crap\\7th Semester\\Papers\\test 3\\Signature-Recognition-V3\\scrap\\vgg16_euc_dist_svm.ipynb Cell 3\u001b[0m line \u001b[0;36m1\n\u001b[0;32m     <a href='vscode-notebook-cell:/c%3A/Users/Andreas%20Christianto/Documents/College%20Crap/7th%20Semester/Papers/test%203/Signature-Recognition-V3/scrap/vgg16_euc_dist_svm.ipynb#W2sZmlsZQ%3D%3D?line=12'>13</a>\u001b[0m gallery_feature_path \u001b[39m=\u001b[39m \u001b[39m\"\u001b[39m\u001b[39m../template/ICDAR-feature/gallery_features.npy\u001b[39m\u001b[39m\"\u001b[39m\n\u001b[0;32m     <a href='vscode-notebook-cell:/c%3A/Users/Andreas%20Christianto/Documents/College%20Crap/7th%20Semester/Papers/test%203/Signature-Recognition-V3/scrap/vgg16_euc_dist_svm.ipynb#W2sZmlsZQ%3D%3D?line=13'>14</a>\u001b[0m gallery_name_path \u001b[39m=\u001b[39m \u001b[39m\"\u001b[39m\u001b[39m../template/ICDAR-feature/gallery_names.npy\u001b[39m\u001b[39m\"\u001b[39m\n\u001b[1;32m---> <a href='vscode-notebook-cell:/c%3A/Users/Andreas%20Christianto/Documents/College%20Crap/7th%20Semester/Papers/test%203/Signature-Recognition-V3/scrap/vgg16_euc_dist_svm.ipynb#W2sZmlsZQ%3D%3D?line=15'>16</a>\u001b[0m train_features \u001b[39m=\u001b[39m np\u001b[39m.\u001b[39;49mload(train_features_path)\n\u001b[0;32m     <a href='vscode-notebook-cell:/c%3A/Users/Andreas%20Christianto/Documents/College%20Crap/7th%20Semester/Papers/test%203/Signature-Recognition-V3/scrap/vgg16_euc_dist_svm.ipynb#W2sZmlsZQ%3D%3D?line=16'>17</a>\u001b[0m train_names \u001b[39m=\u001b[39m np\u001b[39m.\u001b[39mload(train_names_path)\n\u001b[0;32m     <a href='vscode-notebook-cell:/c%3A/Users/Andreas%20Christianto/Documents/College%20Crap/7th%20Semester/Papers/test%203/Signature-Recognition-V3/scrap/vgg16_euc_dist_svm.ipynb#W2sZmlsZQ%3D%3D?line=17'>18</a>\u001b[0m train_labels \u001b[39m=\u001b[39m np\u001b[39m.\u001b[39mload(train_labels_path)\n",
      "File \u001b[1;32mc:\\Users\\Andreas Christianto\\AppData\\Local\\Programs\\Python\\Python311\\Lib\\site-packages\\numpy\\lib\\npyio.py:405\u001b[0m, in \u001b[0;36mload\u001b[1;34m(file, mmap_mode, allow_pickle, fix_imports, encoding, max_header_size)\u001b[0m\n\u001b[0;32m    403\u001b[0m     own_fid \u001b[39m=\u001b[39m \u001b[39mFalse\u001b[39;00m\n\u001b[0;32m    404\u001b[0m \u001b[39melse\u001b[39;00m:\n\u001b[1;32m--> 405\u001b[0m     fid \u001b[39m=\u001b[39m stack\u001b[39m.\u001b[39menter_context(\u001b[39mopen\u001b[39;49m(os_fspath(file), \u001b[39m\"\u001b[39;49m\u001b[39mrb\u001b[39;49m\u001b[39m\"\u001b[39;49m))\n\u001b[0;32m    406\u001b[0m     own_fid \u001b[39m=\u001b[39m \u001b[39mTrue\u001b[39;00m\n\u001b[0;32m    408\u001b[0m \u001b[39m# Code to distinguish from NumPy binary files and pickles.\u001b[39;00m\n",
      "\u001b[1;31mFileNotFoundError\u001b[0m: [Errno 2] No such file or directory: '../template/ICDAR-feature/train_features.npy'"
     ]
    }
   ],
   "source": [
    "train_features_path =  \"../template/ICDAR-feature/train_features.npy\"\n",
    "train_names_path = \"../template/ICDAR-feature/train_names.npy\"\n",
    "train_labels_path = \"../template/ICDAR-feature/train_labels.npy\"\n",
    "\n",
    "test_features_path = \"../template/ICDAR-feature/test_features.npy\"\n",
    "test_names_path = \"../template/ICDAR-feature/test_names.npy\"\n",
    "test_labels_path = \"../template/ICDAR-feature/test_labels.npy\"\n",
    "\n",
    "validation_features_path = \"../template/ICDAR-feature/validation_features.npy\"\n",
    "validation_names_path = \"../template/ICDAR-feature/validation_names.npy\"\n",
    "validation_labels_path = \"../template/ICDAR-feature/validation_labels.npy\"\n",
    "\n",
    "gallery_feature_path = \"../template/ICDAR-feature/gallery_features.npy\"\n",
    "gallery_name_path = \"../template/ICDAR-feature/gallery_names.npy\"\n",
    "\n",
    "train_features = np.load(train_features_path)\n",
    "train_names = np.load(train_names_path)\n",
    "train_labels = np.load(train_labels_path)\n",
    "\n",
    "test_features = np.load(test_features_path)\n",
    "test_names = np.load(test_names_path)\n",
    "test_labels = np.load(test_labels_path)\n",
    "\n",
    "validation_features = np.load(validation_features_path)\n",
    "validation_names = np.load(validation_names_path)\n",
    "validation_labels = np.load(validation_labels_path)\n",
    "\n",
    "gallery_features = np.load(gallery_feature_path)\n",
    "gallery_names = np.load(gallery_name_path)"
   ]
  },
  {
   "cell_type": "code",
   "execution_count": null,
   "metadata": {},
   "outputs": [
    {
     "name": "stdout",
     "output_type": "stream",
     "text": [
      "(857, 512)\n",
      "(857,)\n",
      "(401, 512)\n",
      "(401,)\n",
      "(391, 512)\n",
      "(391,)\n",
      "(64, 512)\n"
     ]
    }
   ],
   "source": [
    "print(train_features.shape)\n",
    "print(train_labels.shape)\n",
    "print(test_features.shape)\n",
    "print(test_labels.shape)\n",
    "print(validation_features.shape)\n",
    "print(validation_labels.shape)\n",
    "print(gallery_features.shape)"
   ]
  },
  {
   "cell_type": "markdown",
   "metadata": {},
   "source": [
    "### Euclidean Distance"
   ]
  },
  {
   "cell_type": "code",
   "execution_count": null,
   "metadata": {},
   "outputs": [],
   "source": [
    "def euclidean_distance(feature_vector1, feature_vector2):\n",
    "    return np.sqrt(np.sum((feature_vector1 - feature_vector2)**2))\n",
    "\n",
    "def find_euclidean_distance(test_features, test_names, test_labels, gallery_features, gallery_names):\n",
    "    euclidean_distances = []\n",
    "    euclidean_names = []\n",
    "    euclidean_actual_labels = []\n",
    "\n",
    "    for gallery_feature, gallery_name in zip(gallery_features, gallery_names):\n",
    "        curr_euclid_name = gallery_name\n",
    "        curr_euclid_feature = []\n",
    "        curr_euclid_label = []\n",
    "        curr_euclid_dist = []\n",
    "        for feature, name, label in zip(test_features, test_names, test_labels):\n",
    "            if gallery_name in name:\n",
    "                curr_euclid_feature.append(feature)\n",
    "                curr_euclid_label.append(label)\n",
    "        \n",
    "        for feature in curr_euclid_feature:\n",
    "            distance = euclidean_distance(feature, gallery_feature)\n",
    "            curr_euclid_dist.append(distance)\n",
    "\n",
    "        euclidean_distances.append(curr_euclid_dist)\n",
    "        euclidean_names.append(curr_euclid_name)\n",
    "        euclidean_actual_labels.append(curr_euclid_label)\n",
    "        \n",
    "    return euclidean_distances, euclidean_names, euclidean_actual_labels"
   ]
  },
  {
   "cell_type": "code",
   "execution_count": null,
   "metadata": {},
   "outputs": [],
   "source": [
    "test_euclidean_distances, test_euclidean_names, test_euclidean_actual_labels = find_euclidean_distance(test_features, test_names, test_labels, gallery_features, gallery_names)\n",
    "train_euclidean_distances, train_euclidean_names, train_euclidean_actual_labels = find_euclidean_distance(train_features, train_names, train_labels, gallery_features, gallery_names)\n",
    "validation_euclidean_distances, validation_euclidean_names, validation_euclidean_actual_labels = find_euclidean_distance(validation_features, validation_names, validation_labels, gallery_features, gallery_names)"
   ]
  },
  {
   "cell_type": "markdown",
   "metadata": {},
   "source": [
    "### Normalize Euclidean Distance"
   ]
  },
  {
   "cell_type": "code",
   "execution_count": null,
   "metadata": {},
   "outputs": [],
   "source": [
    "def normalize_distance(euclidean_distances):\n",
    "    all_distances = []\n",
    "    for distances in euclidean_distances:\n",
    "        min_distance = min(distances)\n",
    "        max_distance = max(distances)\n",
    "\n",
    "        normalized_distances = [(d - min_distance) / (max_distance - min_distance) for d in distances]\n",
    "        all_distances.append(normalized_distances)\n",
    "\n",
    "    return all_distances\n",
    "\n",
    "def reverse_normalized_distance(euclidean_distances):\n",
    "    reverse_distance = []\n",
    "    normalized_distances = normalize_distance(euclidean_distances)\n",
    "    for distances in normalized_distances:\n",
    "        temp = []\n",
    "        for distance in distances :\n",
    "            distance = -distance\n",
    "            temp.append(distance)\n",
    "        reverse_distance.append(temp)\n",
    "    return reverse_distance"
   ]
  },
  {
   "cell_type": "code",
   "execution_count": null,
   "metadata": {},
   "outputs": [],
   "source": [
    "normalized_test_euclidean_distance = reverse_normalized_distance(test_euclidean_distances)\n",
    "normalized_train_euclidean_distance = reverse_normalized_distance(train_euclidean_distances)\n",
    "normalized_validation_euclidean_distance = reverse_normalized_distance(validation_euclidean_distances)"
   ]
  },
  {
   "cell_type": "markdown",
   "metadata": {},
   "source": [
    "### 2. Train on ML"
   ]
  },
  {
   "cell_type": "code",
   "execution_count": null,
   "metadata": {},
   "outputs": [],
   "source": [
    "from sklearn import svm\n",
    "from sklearn.metrics import accuracy_score\n",
    "from sklearn.model_selection import GridSearchCV"
   ]
  },
  {
   "cell_type": "code",
   "execution_count": null,
   "metadata": {},
   "outputs": [],
   "source": [
    "# Flatten Train Set\n",
    "flattened_train_distances = [item for sublist in normalized_train_euclidean_distance for item in sublist]\n",
    "flattened_train_distances_array = np.array(flattened_train_distances)\n",
    "flattened_train_distances_array = flattened_train_distances_array.reshape(-1, 1)\n",
    "\n",
    "flattened_train_labels = [item for sublist in train_euclidean_actual_labels for item in sublist]\n",
    "flattened_train_labels_array = np.array(flattened_train_labels)\n",
    "flattened_train_labels_array = flattened_train_labels_array.reshape(-1, 1)\n",
    "flattened_train_labels_array = np.ravel(flattened_train_labels_array)\n",
    "\n",
    "# Flatten Test Set\n",
    "flattened_test_distances = [item for sublist in normalized_test_euclidean_distance for item in sublist]\n",
    "flattened_test_distances_array = np.array(flattened_test_distances)\n",
    "flattened_test_distances_array = flattened_test_distances_array.reshape(-1, 1)\n",
    "\n",
    "flattened_test_labels = [item for sublist in test_euclidean_actual_labels for item in sublist]\n",
    "flattened_test_labels_array = np.array(flattened_test_labels)\n",
    "flattened_test_labels_array = flattened_test_labels_array.reshape(-1, 1)\n",
    "flattened_test_labels_array = np.ravel(flattened_test_labels_array)\n",
    "\n",
    "# Flatten Validation Set\n",
    "flattened_validation_distances = [item for sublist in normalized_validation_euclidean_distance for item in sublist]\n",
    "flattened_validation_distances_array = np.array(flattened_validation_distances)\n",
    "flattened_validation_distances_array = flattened_validation_distances_array.reshape(-1, 1)\n",
    "\n",
    "flattened_validation_labels = [item for sublist in validation_euclidean_actual_labels for item in sublist]\n",
    "flattened_validation_labels_array = np.array(flattened_validation_labels)\n",
    "flattened_validation_labels_array = flattened_validation_labels_array.reshape(-1, 1)\n",
    "flattened_validation_labels_array = np.ravel(flattened_validation_labels_array)\n"
   ]
  },
  {
   "cell_type": "code",
   "execution_count": null,
   "metadata": {},
   "outputs": [
    {
     "data": {
      "text/html": [
       "<style>#sk-container-id-1 {color: black;}#sk-container-id-1 pre{padding: 0;}#sk-container-id-1 div.sk-toggleable {background-color: white;}#sk-container-id-1 label.sk-toggleable__label {cursor: pointer;display: block;width: 100%;margin-bottom: 0;padding: 0.3em;box-sizing: border-box;text-align: center;}#sk-container-id-1 label.sk-toggleable__label-arrow:before {content: \"▸\";float: left;margin-right: 0.25em;color: #696969;}#sk-container-id-1 label.sk-toggleable__label-arrow:hover:before {color: black;}#sk-container-id-1 div.sk-estimator:hover label.sk-toggleable__label-arrow:before {color: black;}#sk-container-id-1 div.sk-toggleable__content {max-height: 0;max-width: 0;overflow: hidden;text-align: left;background-color: #f0f8ff;}#sk-container-id-1 div.sk-toggleable__content pre {margin: 0.2em;color: black;border-radius: 0.25em;background-color: #f0f8ff;}#sk-container-id-1 input.sk-toggleable__control:checked~div.sk-toggleable__content {max-height: 200px;max-width: 100%;overflow: auto;}#sk-container-id-1 input.sk-toggleable__control:checked~label.sk-toggleable__label-arrow:before {content: \"▾\";}#sk-container-id-1 div.sk-estimator input.sk-toggleable__control:checked~label.sk-toggleable__label {background-color: #d4ebff;}#sk-container-id-1 div.sk-label input.sk-toggleable__control:checked~label.sk-toggleable__label {background-color: #d4ebff;}#sk-container-id-1 input.sk-hidden--visually {border: 0;clip: rect(1px 1px 1px 1px);clip: rect(1px, 1px, 1px, 1px);height: 1px;margin: -1px;overflow: hidden;padding: 0;position: absolute;width: 1px;}#sk-container-id-1 div.sk-estimator {font-family: monospace;background-color: #f0f8ff;border: 1px dotted black;border-radius: 0.25em;box-sizing: border-box;margin-bottom: 0.5em;}#sk-container-id-1 div.sk-estimator:hover {background-color: #d4ebff;}#sk-container-id-1 div.sk-parallel-item::after {content: \"\";width: 100%;border-bottom: 1px solid gray;flex-grow: 1;}#sk-container-id-1 div.sk-label:hover label.sk-toggleable__label {background-color: #d4ebff;}#sk-container-id-1 div.sk-serial::before {content: \"\";position: absolute;border-left: 1px solid gray;box-sizing: border-box;top: 0;bottom: 0;left: 50%;z-index: 0;}#sk-container-id-1 div.sk-serial {display: flex;flex-direction: column;align-items: center;background-color: white;padding-right: 0.2em;padding-left: 0.2em;position: relative;}#sk-container-id-1 div.sk-item {position: relative;z-index: 1;}#sk-container-id-1 div.sk-parallel {display: flex;align-items: stretch;justify-content: center;background-color: white;position: relative;}#sk-container-id-1 div.sk-item::before, #sk-container-id-1 div.sk-parallel-item::before {content: \"\";position: absolute;border-left: 1px solid gray;box-sizing: border-box;top: 0;bottom: 0;left: 50%;z-index: -1;}#sk-container-id-1 div.sk-parallel-item {display: flex;flex-direction: column;z-index: 1;position: relative;background-color: white;}#sk-container-id-1 div.sk-parallel-item:first-child::after {align-self: flex-end;width: 50%;}#sk-container-id-1 div.sk-parallel-item:last-child::after {align-self: flex-start;width: 50%;}#sk-container-id-1 div.sk-parallel-item:only-child::after {width: 0;}#sk-container-id-1 div.sk-dashed-wrapped {border: 1px dashed gray;margin: 0 0.4em 0.5em 0.4em;box-sizing: border-box;padding-bottom: 0.4em;background-color: white;}#sk-container-id-1 div.sk-label label {font-family: monospace;font-weight: bold;display: inline-block;line-height: 1.2em;}#sk-container-id-1 div.sk-label-container {text-align: center;}#sk-container-id-1 div.sk-container {/* jupyter's `normalize.less` sets `[hidden] { display: none; }` but bootstrap.min.css set `[hidden] { display: none !important; }` so we also need the `!important` here to be able to override the default hidden behavior on the sphinx rendered scikit-learn.org. See: https://github.com/scikit-learn/scikit-learn/issues/21755 */display: inline-block !important;position: relative;}#sk-container-id-1 div.sk-text-repr-fallback {display: none;}</style><div id=\"sk-container-id-1\" class=\"sk-top-container\"><div class=\"sk-text-repr-fallback\"><pre>SVC()</pre><b>In a Jupyter environment, please rerun this cell to show the HTML representation or trust the notebook. <br />On GitHub, the HTML representation is unable to render, please try loading this page with nbviewer.org.</b></div><div class=\"sk-container\" hidden><div class=\"sk-item\"><div class=\"sk-estimator sk-toggleable\"><input class=\"sk-toggleable__control sk-hidden--visually\" id=\"sk-estimator-id-1\" type=\"checkbox\" checked><label for=\"sk-estimator-id-1\" class=\"sk-toggleable__label sk-toggleable__label-arrow\">SVC</label><div class=\"sk-toggleable__content\"><pre>SVC()</pre></div></div></div></div></div>"
      ],
      "text/plain": [
       "SVC()"
      ]
     },
     "execution_count": 11,
     "metadata": {},
     "output_type": "execute_result"
    }
   ],
   "source": [
    "model = svm.SVC()\n",
    "model.fit(flattened_train_distances_array, flattened_train_labels_array)"
   ]
  },
  {
   "cell_type": "markdown",
   "metadata": {},
   "source": [
    "### 3. Hyperparameter Tuning"
   ]
  },
  {
   "cell_type": "code",
   "execution_count": null,
   "metadata": {},
   "outputs": [],
   "source": [
    "param_grid = {'C': [0.1, 1, 10], 'kernel': ['linear', 'rbf']}\n",
    "grid_search = GridSearchCV(svm.SVC(), param_grid, cv=5)\n",
    "grid_search.fit(flattened_validation_distances_array, flattened_validation_labels_array)\n",
    "best_params = grid_search.best_params_"
   ]
  },
  {
   "cell_type": "markdown",
   "metadata": {},
   "source": [
    "### 4. Test"
   ]
  },
  {
   "cell_type": "code",
   "execution_count": null,
   "metadata": {},
   "outputs": [],
   "source": [
    "best_model = svm.SVC(**best_params)\n",
    "best_model.fit(flattened_train_distances_array , flattened_train_labels_array )\n",
    "test_pred = best_model.predict(flattened_test_distances_array)\n",
    "accuracy = accuracy_score(flattened_test_labels_array , test_pred)"
   ]
  },
  {
   "cell_type": "code",
   "execution_count": null,
   "metadata": {},
   "outputs": [
    {
     "name": "stdout",
     "output_type": "stream",
     "text": [
      "0.940149625935162\n"
     ]
    }
   ],
   "source": [
    "print(accuracy)"
   ]
  },
  {
   "cell_type": "markdown",
   "metadata": {},
   "source": [
    "### 5. ROC Curve"
   ]
  },
  {
   "cell_type": "code",
   "execution_count": null,
   "metadata": {},
   "outputs": [],
   "source": [
    "from sklearn.metrics import roc_curve, auc\n",
    "import matplotlib.pyplot as plt"
   ]
  },
  {
   "cell_type": "code",
   "execution_count": null,
   "metadata": {},
   "outputs": [
    {
     "data": {
      "image/png": "[encoded data removed]",
      "text/plain": [
       "<Figure size 1000x600 with 1 Axes>"
      ]
     },
     "metadata": {},
     "output_type": "display_data"
    }
   ],
   "source": [
    "# Predict probabilities for each class\n",
    "y_train_prob = best_model.decision_function(flattened_train_distances_array)\n",
    "y_test_prob = best_model.decision_function(flattened_test_distances_array)\n",
    "y_val_prob = best_model.decision_function(flattened_validation_distances_array)\n",
    "\n",
    "# Compute ROC curve and AUC for each set\n",
    "fpr_train, tpr_train, thresholds_train = roc_curve(flattened_train_labels_array, y_train_prob, drop_intermediate=False)\n",
    "roc_auc_train = auc(fpr_train, tpr_train)\n",
    "fpr_test, tpr_test, thresholds_test = roc_curve(flattened_test_labels_array, y_test_prob, drop_intermediate=False)\n",
    "roc_auc_test = auc(fpr_test, tpr_test)\n",
    "fpr_val, tpr_val, thresholds_val = roc_curve(flattened_validation_labels_array, y_val_prob, drop_intermediate=False)\n",
    "roc_auc_val = auc(fpr_val, tpr_val)\n",
    "\n",
    "# Calculate Youden's J statistic\n",
    "J_values_test = tpr_test - fpr_test\n",
    "optimal_idx_test = np.argmax(J_values_test)\n",
    "optimal_threshold_test = abs(thresholds_test[optimal_idx_test])\n",
    "J_values_train = tpr_train - fpr_train\n",
    "optimal_idx_train = np.argmax(J_values_train)\n",
    "optimal_threshold_train = abs(thresholds_train[optimal_idx_train])\n",
    "J_values_val = tpr_val - fpr_val\n",
    "optimal_idx_validation = np.argmax(J_values_val)\n",
    "optimal_threshold_val = abs(thresholds_val[optimal_idx_validation])\n",
    "\n",
    "# Plot ROC curve\n",
    "plt.figure(figsize=(10, 6))\n",
    "\n",
    "plt.plot(fpr_test, tpr_test, color='peru', lw=2, label=f'Test AUC = {roc_auc_test:.2f}')\n",
    "plt.scatter(fpr_test[optimal_idx_test], tpr_test[optimal_idx_test], marker='o', color='orangered', label=f'Test Optimal Threshold = {optimal_threshold_test:.2f}')\n",
    "plt.plot(fpr_train, tpr_train, color='darkseagreen', lw=2, label=f'Train AUC = {roc_auc_train:.2f}')\n",
    "plt.scatter(fpr_train[optimal_idx_train], tpr_train[optimal_idx_train], marker='o', color='darkolivegreen', label=f'Train Optimal Threshold = {optimal_threshold_train:.2f}')\n",
    "plt.plot(fpr_val, tpr_val, color='steelblue', lw=2, label=f'Validation AUC = {roc_auc_val:.2f}')\n",
    "plt.scatter(fpr_val[optimal_idx_validation], tpr_val[optimal_idx_validation], marker='o', color='darkslategray', label=f'Validation Optimal Threshold = {optimal_threshold_val:.2f}')\n",
    "\n",
    "plt.plot([0, 1], [0, 1], 'k--')\n",
    "plt.xlabel('False Positive Rate')\n",
    "plt.ylabel('True Positive Rate')\n",
    "plt.title('ROC Curve')\n",
    "plt.legend()\n",
    "plt.show()\n"
   ]
  },
  {
   "cell_type": "code",
   "execution_count": null,
   "metadata": {},
   "outputs": [],
   "source": [
    "def find_tpr_at_fpr(fpr, tpr, target_fpr):\n",
    "    return np.interp(target_fpr, fpr, tpr)"
   ]
  },
  {
   "cell_type": "code",
   "execution_count": null,
   "metadata": {},
   "outputs": [],
   "source": [
    "target_fprs = [0.1, 0.01, 0.001]\n",
    "tpr_at_target_fpr_train = [find_tpr_at_fpr(fpr_train, tpr_train, fpr) for fpr in target_fprs]\n",
    "tpr_at_target_fpr_test = [find_tpr_at_fpr(fpr_test, tpr_test, fpr) for fpr in target_fprs]\n",
    "tpr_at_target_fpr_val = [find_tpr_at_fpr(fpr_val, tpr_val, fpr) for fpr in target_fprs]"
   ]
  },
  {
   "cell_type": "code",
   "execution_count": null,
   "metadata": {},
   "outputs": [
    {
     "name": "stdout",
     "output_type": "stream",
     "text": [
      "[0.         0.00471698 0.00943396 0.01415094 0.01886792 0.02358491\n",
      " 0.02830189 0.03301887 0.03773585 0.04245283 0.04716981 0.05188679\n",
      " 0.05660377 0.06132075 0.06603774 0.07075472 0.0754717  0.08018868\n",
      " 0.08490566 0.08962264 0.09433962 0.0990566  0.10377358 0.10849057\n",
      " 0.11320755 0.11792453 0.12264151 0.12264151 0.12735849 0.13207547\n",
      " 0.13679245 0.14150943 0.14622642 0.1509434  0.15566038 0.16037736\n",
      " 0.16509434 0.16981132 0.1745283  0.17924528 0.18396226 0.18867925\n",
      " 0.19339623 0.19811321 0.20283019 0.20754717 0.21226415 0.21698113\n",
      " 0.22169811 0.22641509 0.23113208 0.23584906 0.24056604 0.24528302\n",
      " 0.25       0.25471698 0.25943396 0.26415094 0.26886792 0.27358491\n",
      " 0.27830189 0.28301887 0.28773585 0.28773585 0.29245283 0.29716981\n",
      " 0.30188679 0.30660377 0.31132075 0.31603774 0.32075472 0.3254717\n",
      " 0.33018868 0.33490566 0.33962264 0.34433962 0.3490566  0.35377358\n",
      " 0.35849057 0.36320755 0.36792453 0.37264151 0.37735849 0.38207547\n",
      " 0.38679245 0.38679245 0.39150943 0.39622642 0.4009434  0.40566038\n",
      " 0.41037736 0.41509434 0.41981132 0.4245283  0.42924528 0.43396226\n",
      " 0.43867925 0.43867925 0.44339623 0.44811321 0.45283019 0.45754717\n",
      " 0.46226415 0.46698113 0.47169811 0.47641509 0.48113208 0.48584906\n",
      " 0.49056604 0.49528302 0.5        0.50471698 0.50943396 0.51415094\n",
      " 0.51886792 0.52358491 0.52830189 0.53301887 0.53301887 0.53773585\n",
      " 0.54245283 0.54716981 0.54716981 0.55188679 0.55660377 0.56132075\n",
      " 0.56603774 0.57075472 0.87264151 0.87735849 0.87735849 0.88207547\n",
      " 0.88679245 0.89150943 0.89622642 0.89622642 0.9009434  0.90566038\n",
      " 0.91037736 0.91509434 0.91981132 0.9245283  0.92924528 0.92924528\n",
      " 0.93396226 0.93396226 0.93867925 0.94339623 0.94339623 0.94339623\n",
      " 0.94339623 0.94339623 0.94811321 0.94811321 0.94811321 0.94811321\n",
      " 0.94811321 0.94811321 0.94811321 0.94811321 0.94811321 0.94811321\n",
      " 0.94811321 0.94811321 0.94811321 0.94811321 0.94811321 0.94811321\n",
      " 0.94811321 0.94811321 0.94811321 0.94811321 0.94811321 0.94811321\n",
      " 0.94811321 0.94811321 0.94811321 0.94811321 0.94811321 0.94811321\n",
      " 0.94811321 0.94811321 0.94811321 0.94811321 0.94811321 0.94811321\n",
      " 0.94811321 0.94811321 0.94811321 0.94811321 0.94811321 0.94811321\n",
      " 0.94811321 0.94811321 0.95283019 0.95283019 0.95283019 0.95754717\n",
      " 0.95754717 0.95754717 0.95754717 0.95754717 0.95754717 0.95754717\n",
      " 0.95754717 0.95754717 0.95754717 0.96226415 0.96226415 0.96226415\n",
      " 0.96226415 0.96226415 0.96226415 0.96226415 0.96226415 0.96226415\n",
      " 0.96226415 0.96226415 0.96226415 0.96226415 0.96226415 0.96226415\n",
      " 0.96226415 0.96226415 0.96226415 0.96226415 0.96226415 0.96226415\n",
      " 0.96226415 0.96226415 0.96226415 0.96226415 0.96226415 0.96226415\n",
      " 0.96226415 0.96226415 0.96226415 0.96226415 0.96698113 0.96698113\n",
      " 0.96698113 0.96698113 0.96698113 0.96698113 0.96698113 0.96698113\n",
      " 0.96698113 0.97169811 0.97169811 0.97169811 0.97169811 0.97169811\n",
      " 0.97641509 0.97641509 0.98113208 0.98113208 0.98113208 0.98113208\n",
      " 0.98584906 0.99056604 0.99056604 0.99528302 0.99528302 0.99528302\n",
      " 0.99528302 0.99528302 0.99528302 0.99528302 0.99528302 1.\n",
      " 1.         1.         1.         1.         1.         1.        ]\n"
     ]
    }
   ],
   "source": [
    "print(tpr_test)"
   ]
  },
  {
   "cell_type": "code",
   "execution_count": null,
   "metadata": {},
   "outputs": [
    {
     "name": "stdout",
     "output_type": "stream",
     "text": [
      "[0.         0.         0.         0.         0.         0.\n",
      " 0.         0.         0.         0.         0.         0.\n",
      " 0.         0.         0.         0.         0.         0.\n",
      " 0.         0.         0.         0.         0.         0.\n",
      " 0.         0.         0.         0.00529101 0.00529101 0.00529101\n",
      " 0.00529101 0.00529101 0.00529101 0.00529101 0.00529101 0.00529101\n",
      " 0.00529101 0.00529101 0.00529101 0.00529101 0.00529101 0.00529101\n",
      " 0.00529101 0.00529101 0.00529101 0.00529101 0.00529101 0.00529101\n",
      " 0.00529101 0.00529101 0.00529101 0.00529101 0.00529101 0.00529101\n",
      " 0.00529101 0.00529101 0.00529101 0.00529101 0.00529101 0.00529101\n",
      " 0.00529101 0.00529101 0.00529101 0.01058201 0.01058201 0.01058201\n",
      " 0.01058201 0.01058201 0.01058201 0.01058201 0.01058201 0.01058201\n",
      " 0.01058201 0.01058201 0.01058201 0.01058201 0.01058201 0.01058201\n",
      " 0.01058201 0.01058201 0.01058201 0.01058201 0.01058201 0.01058201\n",
      " 0.01058201 0.01587302 0.01587302 0.01587302 0.01587302 0.01587302\n",
      " 0.01587302 0.01587302 0.01587302 0.01587302 0.01587302 0.01587302\n",
      " 0.01587302 0.02116402 0.02116402 0.02116402 0.02116402 0.02116402\n",
      " 0.02116402 0.02116402 0.02116402 0.02116402 0.02116402 0.02116402\n",
      " 0.02116402 0.02116402 0.02116402 0.02116402 0.02116402 0.02116402\n",
      " 0.02116402 0.02116402 0.02116402 0.02116402 0.02645503 0.02645503\n",
      " 0.02645503 0.02645503 0.03174603 0.03174603 0.03174603 0.03174603\n",
      " 0.03174603 0.03174603 0.03174603 0.03174603 0.03703704 0.03703704\n",
      " 0.03703704 0.03703704 0.03703704 0.04232804 0.04232804 0.04232804\n",
      " 0.04232804 0.04232804 0.04232804 0.04232804 0.04232804 0.04761905\n",
      " 0.04761905 0.05291005 0.05291005 0.05291005 0.05820106 0.06349206\n",
      " 0.06878307 0.07407407 0.07407407 0.07936508 0.08465608 0.08994709\n",
      " 0.0952381  0.1005291  0.10582011 0.11111111 0.11640212 0.12169312\n",
      " 0.12698413 0.13227513 0.13756614 0.14285714 0.14814815 0.15343915\n",
      " 0.15873016 0.16402116 0.16931217 0.17460317 0.17989418 0.18518519\n",
      " 0.19047619 0.1957672  0.2010582  0.20634921 0.21164021 0.21693122\n",
      " 0.22222222 0.22751323 0.23280423 0.23809524 0.24338624 0.24867725\n",
      " 0.25396825 0.25925926 0.26455026 0.26984127 0.27513228 0.28042328\n",
      " 0.28571429 0.29100529 0.29100529 0.2962963  0.3015873  0.3015873\n",
      " 0.30687831 0.31216931 0.31746032 0.32275132 0.32804233 0.33333333\n",
      " 0.33862434 0.34391534 0.34920635 0.34920635 0.35449735 0.35978836\n",
      " 0.36507937 0.37037037 0.37566138 0.38095238 0.38624339 0.39153439\n",
      " 0.3968254  0.4021164  0.40740741 0.41269841 0.41798942 0.42328042\n",
      " 0.42857143 0.43386243 0.43915344 0.44444444 0.44973545 0.45502646\n",
      " 0.46031746 0.46560847 0.47089947 0.47619048 0.48148148 0.48677249\n",
      " 0.49206349 0.83068783 0.83597884 0.84126984 0.84126984 0.84656085\n",
      " 0.85185185 0.85714286 0.86243386 0.86772487 0.87301587 0.87830688\n",
      " 0.88359788 0.88359788 0.88888889 0.89417989 0.8994709  0.9047619\n",
      " 0.9047619  0.91005291 0.91005291 0.91534392 0.92063492 0.92592593\n",
      " 0.92592593 0.92592593 0.93121693 0.93121693 0.93650794 0.94179894\n",
      " 0.94708995 0.95238095 0.95767196 0.96296296 0.96825397 0.96825397\n",
      " 0.97354497 0.97883598 0.98412698 0.98941799 0.99470899 1.        ]\n"
     ]
    }
   ],
   "source": [
    "print(fpr_test)"
   ]
  },
  {
   "cell_type": "code",
   "execution_count": null,
   "metadata": {},
   "outputs": [
    {
     "name": "stdout",
     "output_type": "stream",
     "text": [
      "Test\n",
      "TPR at FPR 0.100: 0.948\n",
      "TPR at FPR 0.010: 0.288\n",
      "TPR at FPR 0.001: 0.123\n",
      "             AUC: 0.9423979235299988\n",
      "Train\n",
      "TPR at FPR 0.100: 0.989\n",
      "TPR at FPR 0.010: 0.613\n",
      "TPR at FPR 0.001: 0.283\n",
      "             AUC: 0.9857199241319576\n",
      "Validation\n",
      "TPR at FPR 0.100: 0.934\n",
      "TPR at FPR 0.010: 0.061\n",
      "TPR at FPR 0.001: 0.057\n",
      "             AUC: 0.9187045430589227\n"
     ]
    }
   ],
   "source": [
    "print(\"Test\")\n",
    "for tpr, fpr in zip(tpr_at_target_fpr_test, target_fprs):\n",
    "    print(f'TPR at FPR {fpr:.3f}: {tpr:.3f}')\n",
    "print(f'             AUC: {roc_auc_test}')\n",
    "\n",
    "print(\"Train\")\n",
    "for tpr, fpr in zip(tpr_at_target_fpr_train, target_fprs):\n",
    "    print(f'TPR at FPR {fpr:.3f}: {tpr:.3f}')\n",
    "print(f'             AUC: {roc_auc_train}')\n",
    "\n",
    "print(\"Validation\")\n",
    "for tpr, fpr in zip(tpr_at_target_fpr_val, target_fprs):\n",
    "    print(f'TPR at FPR {fpr:.3f}: {tpr:.3f}')\n",
    "print(f'             AUC: {roc_auc_val}')"
   ]
  }
 ],
 "metadata": {
  "kernelspec": {
   "display_name": "Python 3",
   "language": "python",
   "name": "python3"
  },
  "language_info": {
   "codemirror_mode": {
    "name": "ipython",
    "version": 3
   },
   "file_extension": ".py",
   "mimetype": "text/x-python",
   "name": "python",
   "nbconvert_exporter": "python",
   "pygments_lexer": "ipython3",
   "version": "3.11.1"
  }
 },
 "nbformat": 4,
 "nbformat_minor": 2
}
