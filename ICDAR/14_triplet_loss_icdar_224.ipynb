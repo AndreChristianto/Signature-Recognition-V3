{
  "cells": [
    {
      "cell_type": "markdown",
      "metadata": {
        "id": "C0aMf2qRhLhq"
      },
      "source": [
        "# Triplet Loss"
      ]
    },
    {
      "cell_type": "markdown",
      "metadata": {
        "id": "Ne-QoPpVhLht"
      },
      "source": [
        "### Load VGG16 Model"
      ]
    },
    {
      "cell_type": "code",
      "execution_count": 1,
      "metadata": {
        "id": "OCFtG-lkhLhu"
      },
      "outputs": [],
      "source": [
        "from tensorflow.keras.applications import VGG16\n",
        "from tensorflow.keras.applications.vgg16 import preprocess_input\n",
        "from tensorflow.keras.preprocessing import image\n",
        "from tensorflow.keras.models import Model\n",
        "from tensorflow.keras.layers import GlobalAveragePooling2D, Dense\n",
        "import cv2 as cv\n",
        "import numpy as np\n",
        "import os"
      ]
    },
    {
      "cell_type": "code",
      "execution_count": 2,
      "metadata": {
        "id": "bY54nFTMhLhy"
      },
      "outputs": [],
      "source": [
        "size = 224"
      ]
    },
    {
      "cell_type": "code",
      "execution_count": 3,
      "metadata": {
        "colab": {
          "base_uri": "https://localhost:8080/"
        },
        "id": "vXL3DliLhLhz",
        "outputId": "2a2eb964-294d-4633-a515-9c1fad76e9a9"
      },
      "outputs": [
        {
          "output_type": "stream",
          "name": "stdout",
          "text": [
            "Model: \"model\"\n",
            "_________________________________________________________________\n",
            " Layer (type)                Output Shape              Param #   \n",
            "=================================================================\n",
            " input_1 (InputLayer)        [(None, 224, 224, 3)]     0         \n",
            "                                                                 \n",
            " block1_conv1 (Conv2D)       (None, 224, 224, 64)      1792      \n",
            "                                                                 \n",
            " block1_conv2 (Conv2D)       (None, 224, 224, 64)      36928     \n",
            "                                                                 \n",
            " block1_pool (MaxPooling2D)  (None, 112, 112, 64)      0         \n",
            "                                                                 \n",
            " block2_conv1 (Conv2D)       (None, 112, 112, 128)     73856     \n",
            "                                                                 \n",
            " block2_conv2 (Conv2D)       (None, 112, 112, 128)     147584    \n",
            "                                                                 \n",
            " block2_pool (MaxPooling2D)  (None, 56, 56, 128)       0         \n",
            "                                                                 \n",
            " block3_conv1 (Conv2D)       (None, 56, 56, 256)       295168    \n",
            "                                                                 \n",
            " block3_conv2 (Conv2D)       (None, 56, 56, 256)       590080    \n",
            "                                                                 \n",
            " block3_conv3 (Conv2D)       (None, 56, 56, 256)       590080    \n",
            "                                                                 \n",
            " block3_pool (MaxPooling2D)  (None, 28, 28, 256)       0         \n",
            "                                                                 \n",
            " block4_conv1 (Conv2D)       (None, 28, 28, 512)       1180160   \n",
            "                                                                 \n",
            " block4_conv2 (Conv2D)       (None, 28, 28, 512)       2359808   \n",
            "                                                                 \n",
            " block4_conv3 (Conv2D)       (None, 28, 28, 512)       2359808   \n",
            "                                                                 \n",
            " block4_pool (MaxPooling2D)  (None, 14, 14, 512)       0         \n",
            "                                                                 \n",
            " block5_conv1 (Conv2D)       (None, 14, 14, 512)       2359808   \n",
            "                                                                 \n",
            " block5_conv2 (Conv2D)       (None, 14, 14, 512)       2359808   \n",
            "                                                                 \n",
            " block5_conv3 (Conv2D)       (None, 14, 14, 512)       2359808   \n",
            "                                                                 \n",
            " block5_pool (MaxPooling2D)  (None, 7, 7, 512)         0         \n",
            "                                                                 \n",
            " global_average_pooling2d (  (None, 512)               0         \n",
            " GlobalAveragePooling2D)                                         \n",
            "                                                                 \n",
            "=================================================================\n",
            "Total params: 14714688 (56.13 MB)\n",
            "Trainable params: 14714688 (56.13 MB)\n",
            "Non-trainable params: 0 (0.00 Byte)\n",
            "_________________________________________________________________\n"
          ]
        }
      ],
      "source": [
        "base_model = VGG16(weights='imagenet', include_top=False, input_shape=(size, size, 3))\n",
        "gap = GlobalAveragePooling2D()(base_model.output)\n",
        "model = Model(inputs=base_model.input, outputs=gap)\n",
        "\n",
        "model.summary()"
      ]
    },
    {
      "cell_type": "markdown",
      "metadata": {
        "id": "nH_K6OFrhLhz"
      },
      "source": [
        "### Triplet Loss Model"
      ]
    },
    {
      "cell_type": "code",
      "execution_count": 4,
      "metadata": {
        "id": "BfEv26G0hLh0"
      },
      "outputs": [],
      "source": [
        "import tensorflow as tf\n",
        "from tensorflow.keras import layers, models"
      ]
    },
    {
      "cell_type": "code",
      "execution_count": 5,
      "metadata": {
        "id": "XN0bvVughLh0"
      },
      "outputs": [],
      "source": [
        "def create_triplet_loss_model(embedding_model, input_shape):\n",
        "    anchor_input = layers.Input(shape=input_shape, name='anchor_input')\n",
        "    positive_input = layers.Input(shape=input_shape, name='positive_input')\n",
        "    negative_input = layers.Input(shape=input_shape, name='negative_input')\n",
        "\n",
        "    # Get embeddings\n",
        "    anchor_embedding = embedding_model(anchor_input)\n",
        "    positive_embedding = embedding_model(positive_input)\n",
        "    negative_embedding = embedding_model(negative_input)\n",
        "\n",
        "    # Triplet loss function\n",
        "    margin = 0.5\n",
        "    positive_distance = tf.reduce_sum(tf.square(anchor_embedding - positive_embedding), axis=1)\n",
        "    negative_distance = tf.reduce_sum(tf.square(anchor_embedding - negative_embedding), axis=1)\n",
        "    loss = tf.maximum(0.0, positive_distance - negative_distance + margin)\n",
        "    loss = tf.reduce_mean(loss)\n",
        "\n",
        "    triplet_loss_model = models.Model(inputs=[anchor_input, positive_input, negative_input], outputs=loss)\n",
        "    return triplet_loss_model"
      ]
    },
    {
      "cell_type": "code",
      "execution_count": 6,
      "metadata": {
        "id": "hPOQQDdshLh1"
      },
      "outputs": [],
      "source": [
        "triplet_model = create_triplet_loss_model(model, input_shape=(size, size, 3))\n",
        "optimizer = tf.keras.optimizers.Adam(learning_rate=0.00001)\n",
        "triplet_model.compile(optimizer=optimizer, loss='mean_squared_error')"
      ]
    },
    {
      "cell_type": "code",
      "execution_count": 7,
      "metadata": {
        "colab": {
          "base_uri": "https://localhost:8080/"
        },
        "id": "PBdt40mhhLh2",
        "outputId": "f160e506-d4ca-4d8b-a7d5-748e938a4026"
      },
      "outputs": [
        {
          "output_type": "stream",
          "name": "stdout",
          "text": [
            "Model: \"model_1\"\n",
            "__________________________________________________________________________________________________\n",
            " Layer (type)                Output Shape                 Param #   Connected to                  \n",
            "==================================================================================================\n",
            " anchor_input (InputLayer)   [(None, 224, 224, 3)]        0         []                            \n",
            "                                                                                                  \n",
            " positive_input (InputLayer  [(None, 224, 224, 3)]        0         []                            \n",
            " )                                                                                                \n",
            "                                                                                                  \n",
            " negative_input (InputLayer  [(None, 224, 224, 3)]        0         []                            \n",
            " )                                                                                                \n",
            "                                                                                                  \n",
            " model (Functional)          (None, 512)                  1471468   ['anchor_input[0][0]',        \n",
            "                                                          8          'positive_input[0][0]',      \n",
            "                                                                     'negative_input[0][0]']      \n",
            "                                                                                                  \n",
            " tf.math.subtract (TFOpLamb  (None, 512)                  0         ['model[0][0]',               \n",
            " da)                                                                 'model[1][0]']               \n",
            "                                                                                                  \n",
            " tf.math.subtract_1 (TFOpLa  (None, 512)                  0         ['model[0][0]',               \n",
            " mbda)                                                               'model[2][0]']               \n",
            "                                                                                                  \n",
            " tf.math.square (TFOpLambda  (None, 512)                  0         ['tf.math.subtract[0][0]']    \n",
            " )                                                                                                \n",
            "                                                                                                  \n",
            " tf.math.square_1 (TFOpLamb  (None, 512)                  0         ['tf.math.subtract_1[0][0]']  \n",
            " da)                                                                                              \n",
            "                                                                                                  \n",
            " tf.math.reduce_sum (TFOpLa  (None,)                      0         ['tf.math.square[0][0]']      \n",
            " mbda)                                                                                            \n",
            "                                                                                                  \n",
            " tf.math.reduce_sum_1 (TFOp  (None,)                      0         ['tf.math.square_1[0][0]']    \n",
            " Lambda)                                                                                          \n",
            "                                                                                                  \n",
            " tf.math.subtract_2 (TFOpLa  (None,)                      0         ['tf.math.reduce_sum[0][0]',  \n",
            " mbda)                                                               'tf.math.reduce_sum_1[0][0]']\n",
            "                                                                                                  \n",
            " tf.__operators__.add (TFOp  (None,)                      0         ['tf.math.subtract_2[0][0]']  \n",
            " Lambda)                                                                                          \n",
            "                                                                                                  \n",
            " tf.math.maximum (TFOpLambd  (None,)                      0         ['tf.__operators__.add[0][0]']\n",
            " a)                                                                                               \n",
            "                                                                                                  \n",
            " tf.math.reduce_mean (TFOpL  ()                           0         ['tf.math.maximum[0][0]']     \n",
            " ambda)                                                                                           \n",
            "                                                                                                  \n",
            "==================================================================================================\n",
            "Total params: 14714688 (56.13 MB)\n",
            "Trainable params: 14714688 (56.13 MB)\n",
            "Non-trainable params: 0 (0.00 Byte)\n",
            "__________________________________________________________________________________________________\n"
          ]
        }
      ],
      "source": [
        "triplet_model.summary()"
      ]
    },
    {
      "cell_type": "markdown",
      "metadata": {
        "id": "rKbyYQ5ohLh2"
      },
      "source": [
        "### Read Images and separate into anchors, positives, and negatives"
      ]
    },
    {
      "cell_type": "code",
      "execution_count": 8,
      "metadata": {
        "id": "bCy1Ncs3hole"
      },
      "outputs": [],
      "source": [
        "from google.colab import drive\n",
        "import os"
      ]
    },
    {
      "cell_type": "code",
      "execution_count": 9,
      "metadata": {
        "colab": {
          "base_uri": "https://localhost:8080/"
        },
        "id": "pBHUhJhRiG5_",
        "outputId": "eff0b77c-cfac-4145-aa78-637d60a188cd"
      },
      "outputs": [
        {
          "output_type": "stream",
          "name": "stdout",
          "text": [
            "Drive already mounted at gdrive; to attempt to forcibly remount, call drive.mount(\"gdrive\", force_remount=True).\n"
          ]
        }
      ],
      "source": [
        "drive.mount('gdrive')"
      ]
    },
    {
      "cell_type": "code",
      "execution_count": 10,
      "metadata": {
        "id": "aiMGkHEhjGkE"
      },
      "outputs": [],
      "source": [
        "folder_path = \"./gdrive/My Drive/ICDAR-2011-Split\""
      ]
    },
    {
      "cell_type": "code",
      "execution_count": 11,
      "metadata": {
        "colab": {
          "base_uri": "https://localhost:8080/"
        },
        "id": "O_Zq7_VIiz8e",
        "outputId": "e24cfd59-eb5c-4a5d-c947-8af405574d0b"
      },
      "outputs": [
        {
          "output_type": "stream",
          "name": "stdout",
          "text": [
            "validation\n",
            "test\n",
            "train\n",
            "train_features_triplet_224.npy\n",
            "train_names_triplet_224.npy\n",
            "train_labels_triplet_224.npy\n",
            "train_anchors_224.npy\n",
            "train_positives_224.npy\n",
            "train_negatives_224.npy\n",
            "train_features_triplet_loss_224.npy\n",
            "test_features_triplet_loss_224.npy\n",
            "validation_features_triplet_loss_224.npy\n"
          ]
        }
      ],
      "source": [
        "for file in os.listdir(folder_path):\n",
        "  print(file)"
      ]
    },
    {
      "cell_type": "code",
      "execution_count": 12,
      "metadata": {
        "id": "KwB2dZADhLh3"
      },
      "outputs": [],
      "source": [
        "train_folder = \"./gdrive/My Drive/ICDAR-2011-Split/train\"\n",
        "test_folder = \"./gdrive/My Drive/ICDAR-2011-Split/test\"\n",
        "validation_folder = \"./gdrive/My Drive/ICDAR-2011-Split/validation\""
      ]
    },
    {
      "cell_type": "code",
      "execution_count": 13,
      "metadata": {
        "id": "Pr-JwQ80hLh3"
      },
      "outputs": [],
      "source": [
        "def read_images(folder_path):\n",
        "    features = []\n",
        "    names = []\n",
        "    labels = []\n",
        "    signatures = [folder for folder in os.listdir(folder_path) if os.path.isdir(os.path.join(folder_path, folder))]\n",
        "\n",
        "    for signature in signatures:\n",
        "        signature_path = os.path.join(folder_path, signature)\n",
        "        images = os.listdir(signature_path)\n",
        "\n",
        "        batch_features = []\n",
        "        batch_names = []\n",
        "        batch_labels = []\n",
        "\n",
        "        for image_name in images:\n",
        "            image_path = os.path.join(signature_path, image_name)\n",
        "            # Read dan pre-processing gambar\n",
        "            img = cv.imread(image_path)\n",
        "            img = cv.cvtColor(img, cv.COLOR_BGR2RGB)\n",
        "            img = cv.resize(img, (size, size))\n",
        "            img = np.array(preprocess_input(img))\n",
        "\n",
        "            features.append(img)\n",
        "            names.append(signature[:3])\n",
        "\n",
        "            if signature.endswith(\"_forg\"):\n",
        "                labels.append(0)\n",
        "            else:\n",
        "                labels.append(1)\n",
        "\n",
        "    features = np.array(features)\n",
        "    names = np.array(names)\n",
        "    labels = np.array(labels)\n",
        "\n",
        "    return features, names, labels"
      ]
    },
    {
      "cell_type": "code",
      "execution_count": 14,
      "metadata": {
        "id": "frUTbiwMhLh4"
      },
      "outputs": [],
      "source": [
        "# train_features, train_names, train_labels = read_images(train_folder)"
      ]
    },
    {
      "cell_type": "code",
      "execution_count": 15,
      "metadata": {
        "id": "AWhh2wtYhLh5"
      },
      "outputs": [],
      "source": [
        "train_features_triplet_path = \"./gdrive/My Drive/ICDAR-2011-Split/train_features_triplet_224.npy\"\n",
        "train_names_triplet_path = \"./gdrive/My Drive/ICDAR-2011-Split/train_names_triplet_224.npy\"\n",
        "train_labels_triplet_path = \"./gdrive/My Drive/ICDAR-2011-Split/train_labels_triplet_224.npy\""
      ]
    },
    {
      "cell_type": "code",
      "execution_count": 16,
      "metadata": {
        "id": "YB8a1IJOhLh5"
      },
      "outputs": [],
      "source": [
        "# np.save(train_features_triplet_path, train_features)\n",
        "# np.save(train_names_triplet_path, train_names)\n",
        "# np.save(train_labels_triplet_path, train_labels)"
      ]
    },
    {
      "cell_type": "code",
      "execution_count": 17,
      "metadata": {
        "id": "XIMyW_zrhLh5"
      },
      "outputs": [],
      "source": [
        "train_features = np.load(train_features_triplet_path)\n",
        "train_names = np.load(train_names_triplet_path)\n",
        "train_labels = np.load(train_labels_triplet_path)"
      ]
    },
    {
      "cell_type": "code",
      "execution_count": 18,
      "metadata": {
        "colab": {
          "base_uri": "https://localhost:8080/"
        },
        "id": "srUANf1_hLh6",
        "outputId": "9723ef95-7e07-480b-f297-b4c628eeac97"
      },
      "outputs": [
        {
          "output_type": "stream",
          "name": "stdout",
          "text": [
            "(857, 224, 224, 3)\n",
            "(857,)\n",
            "(857,)\n"
          ]
        }
      ],
      "source": [
        "print(train_features.shape)\n",
        "print(train_names.shape)\n",
        "print(train_labels.shape)"
      ]
    },
    {
      "cell_type": "code",
      "execution_count": 19,
      "metadata": {
        "id": "faP9EmsQhLh6"
      },
      "outputs": [],
      "source": [
        "unique_names = set(train_names)\n",
        "sorted_names = sorted(unique_names)"
      ]
    },
    {
      "cell_type": "code",
      "execution_count": 20,
      "metadata": {
        "colab": {
          "base_uri": "https://localhost:8080/"
        },
        "id": "Neb403iihLh6",
        "outputId": "3f752ecf-cdbf-45ce-bae7-6a98d8e3b467"
      },
      "outputs": [
        {
          "output_type": "stream",
          "name": "stdout",
          "text": [
            "['001', '002', '003', '004', '006', '009', '012', '013', '014', '015', '016', '017', '018', '019', '020', '021', '022', '023', '024', '025', '026', '027', '028', '029', '030', '031', '032', '033', '034', '035', '036', '037', '038', '039', '040', '041', '042', '043', '044', '045', '046', '047', '048', '049', '050', '051', '052', '053', '054', '055', '056', '057', '058', '059', '060', '061', '062', '063', '064', '065', '066', '067', '068', '069']\n"
          ]
        }
      ],
      "source": [
        "print(sorted_names)"
      ]
    },
    {
      "cell_type": "code",
      "execution_count": 21,
      "metadata": {
        "id": "oroanIrGhLh7"
      },
      "outputs": [],
      "source": [
        "def split_positive_negative(features, names, labels, sorted_names):\n",
        "    anchors = []\n",
        "    positives = []\n",
        "    negatives = []\n",
        "\n",
        "    for name in sorted_names:\n",
        "        indices = np.where(names == name)[0]\n",
        "        positive_set, negative_set = [], []\n",
        "\n",
        "        for index in indices:\n",
        "            # print(labels[index])\n",
        "            if labels[index] == 0:\n",
        "                negative_set.append(features[index])\n",
        "            else:\n",
        "                positive_set.append(features[index])\n",
        "\n",
        "        negative_set = np.array(negative_set)\n",
        "        positive_set = np.array(positive_set)\n",
        "\n",
        "        anchor = positive_set[0]\n",
        "        positive_set = positive_set[1:]\n",
        "\n",
        "        anchor_set = []\n",
        "        if(len(positive_set) < len(negative_set)):\n",
        "            positive_idx = np.random.choice(len(positive_set), size=len(negative_set), replace=True)\n",
        "            positive = positive_set[positive_idx]\n",
        "            negative = negative_set\n",
        "            for _ in range(0, len(negative_set)):\n",
        "                anchor_set.append(anchor)\n",
        "        elif(len(positive_set) > len(negative_set)):\n",
        "            negative_idx = np.random.choice(len(negative_set), size=len(positive_set), replace=True)\n",
        "            negative = negative_set[negative_idx]\n",
        "            positive = positive_set\n",
        "            for _ in range(0, len(positive_set)):\n",
        "                anchor_set.append(anchor)\n",
        "        else:\n",
        "            positive = positive_set\n",
        "            negative = negative_set\n",
        "            for _ in range(0, len(negative_set)):\n",
        "                anchor_set.append(anchor)\n",
        "\n",
        "        anchors.append(anchor_set)\n",
        "        positives.append(positive)\n",
        "        negatives.append(negative)\n",
        "\n",
        "    anchors = np.concatenate(anchors)\n",
        "    positives = np.concatenate(positives)\n",
        "    negatives = np.concatenate(negatives)\n",
        "\n",
        "    return anchors, positives, negatives"
      ]
    },
    {
      "cell_type": "code",
      "execution_count": 22,
      "metadata": {
        "id": "q9R17_qKhLh7"
      },
      "outputs": [],
      "source": [
        "# train_anchors, train_positives, train_negatives = split_positive_negative(train_features, train_names, train_labels, sorted_names)"
      ]
    },
    {
      "cell_type": "code",
      "execution_count": 23,
      "metadata": {
        "id": "kTjregEchLh8"
      },
      "outputs": [],
      "source": [
        "train_anchors_path = \"./gdrive/My Drive/ICDAR-2011-Split/train_anchors_224.npy\"\n",
        "train_positives_path = \"./gdrive/My Drive/ICDAR-2011-Split/train_positives_224.npy\"\n",
        "train_negatives_path = \"./gdrive/My Drive/ICDAR-2011-Split/train_negatives_224.npy\""
      ]
    },
    {
      "cell_type": "code",
      "execution_count": 24,
      "metadata": {
        "id": "Qh23wB2WhLh8"
      },
      "outputs": [],
      "source": [
        "# np.save(train_anchors_path, train_anchors)\n",
        "# np.save(train_positives_path, train_positives)\n",
        "# np.save(train_negatives_path, train_negatives)"
      ]
    },
    {
      "cell_type": "code",
      "execution_count": 25,
      "metadata": {
        "id": "ropXhTJshLh8"
      },
      "outputs": [],
      "source": [
        "train_anchors = np.load(train_anchors_path)\n",
        "train_positives = np.load(train_positives_path)\n",
        "train_negatives = np.load(train_negatives_path)"
      ]
    },
    {
      "cell_type": "code",
      "execution_count": 26,
      "metadata": {
        "colab": {
          "base_uri": "https://localhost:8080/"
        },
        "id": "FXM5RHSzhLh9",
        "outputId": "228d5fc2-fca8-490d-9b8b-551e9614f29f"
      },
      "outputs": [
        {
          "output_type": "stream",
          "name": "stdout",
          "text": [
            "(472, 224, 224, 3)\n",
            "(472, 224, 224, 3)\n",
            "(472, 224, 224, 3)\n"
          ]
        }
      ],
      "source": [
        "print(train_anchors.shape)\n",
        "print(train_positives.shape)\n",
        "print(train_negatives.shape)"
      ]
    },
    {
      "cell_type": "code",
      "execution_count": 27,
      "metadata": {
        "colab": {
          "base_uri": "https://localhost:8080/"
        },
        "id": "0uhNe_3thLh9",
        "outputId": "57505af7-18ed-481c-bbf3-767a73636eaa"
      },
      "outputs": [
        {
          "output_type": "stream",
          "name": "stdout",
          "text": [
            "Epoch 1/2\n",
            "15/15 [==============================] - 75s 3s/step - loss: 34.5913\n",
            "Epoch 2/2\n",
            "15/15 [==============================] - 19s 1s/step - loss: 0.2517\n"
          ]
        }
      ],
      "source": [
        "history = triplet_model.fit([train_anchors, train_positives, train_negatives], np.zeros_like(train_anchors), epochs=2, batch_size=32)"
      ]
    },
    {
      "cell_type": "code",
      "execution_count": 28,
      "metadata": {
        "id": "h9SQwCr8hLh9"
      },
      "outputs": [],
      "source": [
        "import matplotlib.pyplot as plt"
      ]
    },
    {
      "cell_type": "code",
      "execution_count": 29,
      "metadata": {
        "id": "1vEUENPGhLh-",
        "colab": {
          "base_uri": "https://localhost:8080/",
          "height": 472
        },
        "outputId": "79c01c6b-807c-4420-dbd4-00fc35d69066"
      },
      "outputs": [
        {
          "output_type": "display_data",
          "data": {
            "text/plain": [
              "<Figure size 640x480 with 1 Axes>"
            ],
            "image/png": "[encoded data removed]"
          },
          "metadata": {}
        }
      ],
      "source": [
        "plt.plot(history.history['loss'], label='Training Loss')\n",
        "plt.title('Triplet Loss Over Training')\n",
        "plt.xlabel('Epoch')\n",
        "plt.ylabel('Loss')\n",
        "plt.legend()\n",
        "plt.show()"
      ]
    },
    {
      "cell_type": "markdown",
      "metadata": {
        "id": "K2qhGCJfhLh-"
      },
      "source": [
        "### Feature Extraction"
      ]
    },
    {
      "cell_type": "code",
      "execution_count": 30,
      "metadata": {
        "id": "o7c-N7_mhLh_"
      },
      "outputs": [],
      "source": [
        "def extract_features(folder_path, batch_size=32):\n",
        "    features = []\n",
        "    names = []\n",
        "    labels = []\n",
        "    signatures = [folder for folder in os.listdir(folder_path) if os.path.isdir(os.path.join(folder_path, folder))]\n",
        "\n",
        "    for signature in signatures:\n",
        "        signature_path = os.path.join(folder_path, signature)\n",
        "        images = os.listdir(signature_path)\n",
        "\n",
        "        batch_features = []\n",
        "        batch_names = []\n",
        "        batch_labels = []\n",
        "\n",
        "        for image_name in images:\n",
        "            image_path = os.path.join(signature_path, image_name)\n",
        "            # Read dan pre-processing gambar\n",
        "            img = cv.imread(image_path)\n",
        "            img = cv.cvtColor(img, cv.COLOR_BGR2RGB)\n",
        "            img = cv.resize(img, (size, size))\n",
        "            img = np.array(preprocess_input(img))\n",
        "\n",
        "            batch_features.append(img)\n",
        "            batch_names.append(signature[:3])\n",
        "\n",
        "            if signature.endswith(\"_forg\"):\n",
        "                batch_labels.append(0)\n",
        "            else:\n",
        "                batch_labels.append(1)\n",
        "\n",
        "            if len(batch_features) == batch_size:\n",
        "                batch_features = np.array(batch_features)\n",
        "                batch_features = model.predict(batch_features)\n",
        "                batch_features = batch_features.reshape(len(batch_features), -1)\n",
        "\n",
        "                features.extend(batch_features)\n",
        "                names.extend(batch_names)\n",
        "                labels.extend(batch_labels)\n",
        "\n",
        "                batch_features = []\n",
        "                batch_names = []\n",
        "                batch_labels = []\n",
        "\n",
        "        if batch_features:\n",
        "            batch_features = np.array(batch_features)\n",
        "            batch_features = model.predict(batch_features)\n",
        "            batch_features = batch_features.reshape(len(batch_features), -1)\n",
        "\n",
        "            features.extend(batch_features)\n",
        "            names.extend(batch_names)\n",
        "            labels.extend(batch_labels)\n",
        "\n",
        "    return features, names, labels"
      ]
    },
    {
      "cell_type": "code",
      "source": [
        "print(os.listdir(train_folder))"
      ],
      "metadata": {
        "colab": {
          "base_uri": "https://localhost:8080/"
        },
        "id": "Jk5-ahy-CX85",
        "outputId": "32ca109a-e8c4-457f-ee17-32a0b9eb432b"
      },
      "execution_count": 39,
      "outputs": [
        {
          "output_type": "stream",
          "name": "stdout",
          "text": [
            "['001', '001_forg', '002_forg', '002', '006', '003_forg', '012', '003', '012_forg', '004', '009', '006_forg', '004_forg', '009_forg', '013', '015_forg', '016_forg', '015', '014_forg', '014', '017_forg', '013_forg', '017', '016', '018', '022_forg', '022', '021_forg', '020_forg', '021', '019_forg', '019', '020', '018_forg', '024', '025', '027_forg', '024_forg', '025_forg', '026', '027', '023', '023_forg', '026_forg', '030_forg', '028_forg', '029_forg', '029', '031_forg', '032', '028', '032_forg', '031', '030', '037_forg', '035_forg', '036', '034_forg', '035', '033_forg', '033', '034', '037', '036_forg', '042', '040', '039', '038', '038_forg', '041', '041_forg', '040_forg', '039_forg', '042_forg', '047', '046', '043_forg', '047_forg', '044_forg', '044', '045_forg', '043', '045', '046_forg', '051', '052_forg', '051_forg', '050', '049_forg', '048', '048_forg', '049', '052', '050_forg', '053', '054_forg', '053_forg', '056_forg', '056', '055_forg', '057_forg', '055', '054', '057', '061', '061_forg', '059', '058_forg', '060_forg', '059_forg', '062', '062_forg', '060', '058', '066_forg', '066', '064_forg', '063_forg', '063', '067', '065_forg', '065', '064', '067_forg', '068_forg', '069', '069_forg', '068']\n"
          ]
        }
      ]
    },
    {
      "cell_type": "code",
      "execution_count": 31,
      "metadata": {
        "id": "jOV0uH82hLh_",
        "colab": {
          "base_uri": "https://localhost:8080/"
        },
        "outputId": "b5d6a3f9-177f-4d76-a383-f3af739def58"
      },
      "outputs": [
        {
          "output_type": "stream",
          "name": "stdout",
          "text": [
            "1/1 [==============================] - 4s 4s/step\n",
            "1/1 [==============================] - 2s 2s/step\n",
            "1/1 [==============================] - 2s 2s/step\n",
            "1/1 [==============================] - 0s 29ms/step\n",
            "1/1 [==============================] - 0s 35ms/step\n",
            "1/1 [==============================] - 0s 22ms/step\n",
            "1/1 [==============================] - 0s 21ms/step\n",
            "1/1 [==============================] - 0s 25ms/step\n",
            "1/1 [==============================] - 0s 19ms/step\n",
            "1/1 [==============================] - 0s 27ms/step\n",
            "1/1 [==============================] - 0s 22ms/step\n",
            "1/1 [==============================] - 0s 21ms/step\n",
            "1/1 [==============================] - 0s 20ms/step\n",
            "1/1 [==============================] - 0s 19ms/step\n",
            "1/1 [==============================] - 0s 45ms/step\n",
            "1/1 [==============================] - 0s 49ms/step\n",
            "1/1 [==============================] - 3s 3s/step\n",
            "1/1 [==============================] - 0s 37ms/step\n",
            "1/1 [==============================] - 0s 62ms/step\n",
            "1/1 [==============================] - 0s 50ms/step\n",
            "1/1 [==============================] - 0s 42ms/step\n",
            "1/1 [==============================] - 0s 35ms/step\n",
            "1/1 [==============================] - 0s 87ms/step\n",
            "1/1 [==============================] - 4s 4s/step\n",
            "1/1 [==============================] - 0s 102ms/step\n",
            "1/1 [==============================] - 0s 84ms/step\n",
            "1/1 [==============================] - 0s 100ms/step\n",
            "1/1 [==============================] - 0s 133ms/step\n",
            "1/1 [==============================] - 4s 4s/step\n",
            "1/1 [==============================] - 0s 20ms/step\n",
            "1/1 [==============================] - 0s 22ms/step\n",
            "1/1 [==============================] - 0s 20ms/step\n",
            "1/1 [==============================] - 0s 23ms/step\n",
            "1/1 [==============================] - 0s 20ms/step\n",
            "1/1 [==============================] - 0s 20ms/step\n",
            "1/1 [==============================] - 0s 20ms/step\n",
            "1/1 [==============================] - 0s 19ms/step\n",
            "1/1 [==============================] - 0s 19ms/step\n",
            "1/1 [==============================] - 0s 19ms/step\n",
            "1/1 [==============================] - 0s 21ms/step\n",
            "1/1 [==============================] - 0s 19ms/step\n",
            "1/1 [==============================] - 0s 21ms/step\n",
            "1/1 [==============================] - 0s 18ms/step\n",
            "1/1 [==============================] - 0s 18ms/step\n",
            "1/1 [==============================] - 0s 20ms/step\n",
            "1/1 [==============================] - 0s 19ms/step\n",
            "1/1 [==============================] - 0s 22ms/step\n",
            "1/1 [==============================] - 0s 19ms/step\n",
            "1/1 [==============================] - 0s 19ms/step\n",
            "1/1 [==============================] - 0s 19ms/step\n",
            "1/1 [==============================] - 0s 19ms/step\n",
            "1/1 [==============================] - 0s 24ms/step\n",
            "1/1 [==============================] - 0s 19ms/step\n",
            "1/1 [==============================] - 0s 19ms/step\n",
            "1/1 [==============================] - 0s 21ms/step\n",
            "1/1 [==============================] - 0s 19ms/step\n",
            "1/1 [==============================] - 0s 19ms/step\n",
            "1/1 [==============================] - 0s 19ms/step\n",
            "1/1 [==============================] - 0s 22ms/step\n",
            "1/1 [==============================] - 0s 21ms/step\n",
            "1/1 [==============================] - 0s 19ms/step\n",
            "1/1 [==============================] - 0s 19ms/step\n",
            "1/1 [==============================] - 0s 19ms/step\n",
            "1/1 [==============================] - 0s 20ms/step\n",
            "1/1 [==============================] - 0s 21ms/step\n",
            "1/1 [==============================] - 0s 19ms/step\n",
            "1/1 [==============================] - 0s 25ms/step\n",
            "1/1 [==============================] - 0s 19ms/step\n",
            "1/1 [==============================] - 0s 20ms/step\n",
            "1/1 [==============================] - 0s 19ms/step\n",
            "1/1 [==============================] - 0s 19ms/step\n",
            "1/1 [==============================] - 0s 18ms/step\n",
            "1/1 [==============================] - 0s 19ms/step\n",
            "1/1 [==============================] - 0s 18ms/step\n",
            "1/1 [==============================] - 0s 22ms/step\n",
            "1/1 [==============================] - 0s 20ms/step\n",
            "1/1 [==============================] - 0s 20ms/step\n",
            "1/1 [==============================] - 0s 18ms/step\n",
            "1/1 [==============================] - 0s 18ms/step\n",
            "1/1 [==============================] - 0s 20ms/step\n",
            "1/1 [==============================] - 0s 28ms/step\n",
            "1/1 [==============================] - 0s 26ms/step\n",
            "1/1 [==============================] - 0s 28ms/step\n",
            "1/1 [==============================] - 0s 32ms/step\n",
            "1/1 [==============================] - 0s 27ms/step\n",
            "1/1 [==============================] - 0s 32ms/step\n",
            "1/1 [==============================] - 0s 30ms/step\n",
            "1/1 [==============================] - 0s 27ms/step\n",
            "1/1 [==============================] - 0s 27ms/step\n",
            "1/1 [==============================] - 0s 26ms/step\n",
            "1/1 [==============================] - 0s 31ms/step\n",
            "1/1 [==============================] - 0s 31ms/step\n",
            "1/1 [==============================] - 0s 31ms/step\n",
            "1/1 [==============================] - 0s 44ms/step\n",
            "1/1 [==============================] - 0s 27ms/step\n",
            "1/1 [==============================] - 4s 4s/step\n",
            "1/1 [==============================] - 0s 21ms/step\n",
            "1/1 [==============================] - 0s 19ms/step\n",
            "1/1 [==============================] - 0s 20ms/step\n",
            "1/1 [==============================] - 0s 20ms/step\n",
            "1/1 [==============================] - 0s 19ms/step\n",
            "1/1 [==============================] - 0s 19ms/step\n",
            "1/1 [==============================] - 0s 21ms/step\n",
            "1/1 [==============================] - 0s 19ms/step\n",
            "1/1 [==============================] - 0s 21ms/step\n",
            "1/1 [==============================] - 0s 19ms/step\n",
            "1/1 [==============================] - 0s 19ms/step\n",
            "1/1 [==============================] - 0s 24ms/step\n",
            "1/1 [==============================] - 0s 21ms/step\n",
            "1/1 [==============================] - 0s 20ms/step\n",
            "1/1 [==============================] - 0s 22ms/step\n",
            "1/1 [==============================] - 0s 19ms/step\n",
            "1/1 [==============================] - 0s 19ms/step\n",
            "1/1 [==============================] - 0s 19ms/step\n",
            "1/1 [==============================] - 0s 22ms/step\n",
            "1/1 [==============================] - 0s 19ms/step\n",
            "1/1 [==============================] - 0s 19ms/step\n",
            "1/1 [==============================] - 0s 19ms/step\n",
            "1/1 [==============================] - 0s 19ms/step\n",
            "1/1 [==============================] - 0s 20ms/step\n",
            "1/1 [==============================] - 0s 19ms/step\n",
            "1/1 [==============================] - 0s 19ms/step\n",
            "1/1 [==============================] - 0s 19ms/step\n",
            "1/1 [==============================] - 0s 18ms/step\n",
            "1/1 [==============================] - 0s 21ms/step\n",
            "1/1 [==============================] - 0s 19ms/step\n",
            "1/1 [==============================] - 0s 19ms/step\n",
            "1/1 [==============================] - 0s 19ms/step\n",
            "1/1 [==============================] - 1s 1s/step\n",
            "1/1 [==============================] - 2s 2s/step\n",
            "1/1 [==============================] - 0s 29ms/step\n",
            "1/1 [==============================] - 2s 2s/step\n",
            "1/1 [==============================] - 0s 20ms/step\n",
            "1/1 [==============================] - 0s 27ms/step\n",
            "1/1 [==============================] - 0s 19ms/step\n",
            "1/1 [==============================] - 0s 20ms/step\n",
            "1/1 [==============================] - 0s 19ms/step\n",
            "1/1 [==============================] - 0s 27ms/step\n",
            "1/1 [==============================] - 0s 19ms/step\n",
            "1/1 [==============================] - 0s 19ms/step\n",
            "1/1 [==============================] - 0s 18ms/step\n",
            "1/1 [==============================] - 0s 19ms/step\n",
            "1/1 [==============================] - 0s 26ms/step\n",
            "1/1 [==============================] - 0s 19ms/step\n",
            "1/1 [==============================] - 0s 21ms/step\n",
            "1/1 [==============================] - 0s 26ms/step\n",
            "1/1 [==============================] - 0s 20ms/step\n",
            "1/1 [==============================] - 0s 20ms/step\n",
            "1/1 [==============================] - 0s 19ms/step\n",
            "1/1 [==============================] - 0s 32ms/step\n",
            "1/1 [==============================] - 0s 19ms/step\n",
            "1/1 [==============================] - 0s 18ms/step\n",
            "1/1 [==============================] - 0s 20ms/step\n",
            "1/1 [==============================] - 0s 26ms/step\n",
            "1/1 [==============================] - 0s 30ms/step\n",
            "1/1 [==============================] - 0s 19ms/step\n",
            "1/1 [==============================] - 0s 18ms/step\n",
            "1/1 [==============================] - 0s 20ms/step\n",
            "1/1 [==============================] - 0s 19ms/step\n",
            "1/1 [==============================] - 0s 36ms/step\n",
            "1/1 [==============================] - 0s 20ms/step\n",
            "1/1 [==============================] - 0s 19ms/step\n",
            "1/1 [==============================] - 0s 19ms/step\n",
            "1/1 [==============================] - 0s 26ms/step\n",
            "1/1 [==============================] - 0s 33ms/step\n",
            "1/1 [==============================] - 0s 18ms/step\n",
            "1/1 [==============================] - 0s 18ms/step\n",
            "1/1 [==============================] - 0s 27ms/step\n",
            "1/1 [==============================] - 0s 18ms/step\n",
            "1/1 [==============================] - 0s 18ms/step\n",
            "1/1 [==============================] - 0s 19ms/step\n",
            "1/1 [==============================] - 0s 18ms/step\n",
            "1/1 [==============================] - 0s 18ms/step\n",
            "1/1 [==============================] - 0s 27ms/step\n",
            "1/1 [==============================] - 0s 19ms/step\n",
            "1/1 [==============================] - 0s 18ms/step\n",
            "1/1 [==============================] - 0s 19ms/step\n",
            "1/1 [==============================] - 0s 19ms/step\n",
            "1/1 [==============================] - 0s 28ms/step\n",
            "1/1 [==============================] - 0s 19ms/step\n",
            "1/1 [==============================] - 0s 19ms/step\n",
            "1/1 [==============================] - 0s 18ms/step\n",
            "1/1 [==============================] - 0s 22ms/step\n",
            "1/1 [==============================] - 0s 28ms/step\n",
            "1/1 [==============================] - 0s 18ms/step\n",
            "1/1 [==============================] - 0s 18ms/step\n",
            "1/1 [==============================] - 0s 18ms/step\n",
            "1/1 [==============================] - 0s 26ms/step\n",
            "1/1 [==============================] - 0s 18ms/step\n",
            "1/1 [==============================] - 0s 20ms/step\n",
            "1/1 [==============================] - 0s 19ms/step\n",
            "1/1 [==============================] - 0s 19ms/step\n",
            "1/1 [==============================] - 0s 26ms/step\n",
            "1/1 [==============================] - 0s 19ms/step\n",
            "1/1 [==============================] - 0s 18ms/step\n",
            "1/1 [==============================] - 0s 18ms/step\n",
            "1/1 [==============================] - 0s 19ms/step\n",
            "1/1 [==============================] - 0s 32ms/step\n",
            "1/1 [==============================] - 0s 20ms/step\n",
            "1/1 [==============================] - 0s 19ms/step\n",
            "1/1 [==============================] - 0s 23ms/step\n",
            "1/1 [==============================] - 0s 28ms/step\n",
            "1/1 [==============================] - 0s 18ms/step\n",
            "1/1 [==============================] - 0s 18ms/step\n",
            "1/1 [==============================] - 0s 19ms/step\n",
            "1/1 [==============================] - 0s 26ms/step\n",
            "1/1 [==============================] - 0s 19ms/step\n",
            "1/1 [==============================] - 0s 18ms/step\n",
            "1/1 [==============================] - 0s 19ms/step\n",
            "1/1 [==============================] - 0s 26ms/step\n",
            "1/1 [==============================] - 0s 19ms/step\n",
            "1/1 [==============================] - 0s 19ms/step\n",
            "1/1 [==============================] - 0s 18ms/step\n",
            "1/1 [==============================] - 0s 19ms/step\n",
            "1/1 [==============================] - 0s 34ms/step\n",
            "1/1 [==============================] - 0s 18ms/step\n",
            "1/1 [==============================] - 0s 21ms/step\n",
            "1/1 [==============================] - 0s 19ms/step\n",
            "1/1 [==============================] - 0s 18ms/step\n",
            "1/1 [==============================] - 0s 28ms/step\n",
            "1/1 [==============================] - 0s 19ms/step\n",
            "1/1 [==============================] - 0s 19ms/step\n",
            "1/1 [==============================] - 0s 25ms/step\n",
            "1/1 [==============================] - 0s 18ms/step\n",
            "1/1 [==============================] - 0s 19ms/step\n",
            "1/1 [==============================] - 0s 19ms/step\n",
            "1/1 [==============================] - 0s 27ms/step\n",
            "1/1 [==============================] - 0s 18ms/step\n",
            "1/1 [==============================] - 0s 18ms/step\n",
            "1/1 [==============================] - 0s 19ms/step\n",
            "1/1 [==============================] - 0s 18ms/step\n",
            "1/1 [==============================] - 0s 19ms/step\n",
            "1/1 [==============================] - 0s 19ms/step\n",
            "1/1 [==============================] - 0s 30ms/step\n",
            "1/1 [==============================] - 0s 18ms/step\n",
            "1/1 [==============================] - 0s 18ms/step\n",
            "1/1 [==============================] - 0s 19ms/step\n",
            "1/1 [==============================] - 0s 27ms/step\n",
            "1/1 [==============================] - 0s 19ms/step\n",
            "1/1 [==============================] - 0s 18ms/step\n",
            "1/1 [==============================] - 0s 19ms/step\n",
            "1/1 [==============================] - 0s 30ms/step\n",
            "1/1 [==============================] - 0s 19ms/step\n",
            "1/1 [==============================] - 0s 18ms/step\n",
            "1/1 [==============================] - 0s 26ms/step\n",
            "1/1 [==============================] - 0s 20ms/step\n",
            "1/1 [==============================] - 0s 19ms/step\n",
            "1/1 [==============================] - 0s 18ms/step\n",
            "1/1 [==============================] - 0s 18ms/step\n",
            "1/1 [==============================] - 0s 26ms/step\n",
            "1/1 [==============================] - 0s 18ms/step\n",
            "1/1 [==============================] - 0s 20ms/step\n",
            "1/1 [==============================] - 0s 19ms/step\n",
            "1/1 [==============================] - 0s 19ms/step\n",
            "1/1 [==============================] - 0s 31ms/step\n",
            "1/1 [==============================] - 0s 18ms/step\n",
            "1/1 [==============================] - 0s 19ms/step\n",
            "1/1 [==============================] - 0s 20ms/step\n",
            "1/1 [==============================] - 0s 18ms/step\n",
            "1/1 [==============================] - 0s 20ms/step\n",
            "1/1 [==============================] - 0s 20ms/step\n",
            "1/1 [==============================] - 0s 19ms/step\n",
            "1/1 [==============================] - 0s 19ms/step\n",
            "1/1 [==============================] - 0s 28ms/step\n",
            "1/1 [==============================] - 0s 29ms/step\n",
            "1/1 [==============================] - 0s 19ms/step\n",
            "1/1 [==============================] - 0s 19ms/step\n",
            "1/1 [==============================] - 0s 30ms/step\n",
            "1/1 [==============================] - 0s 18ms/step\n",
            "1/1 [==============================] - 0s 18ms/step\n",
            "1/1 [==============================] - 0s 20ms/step\n",
            "1/1 [==============================] - 0s 27ms/step\n",
            "1/1 [==============================] - 0s 18ms/step\n",
            "1/1 [==============================] - 0s 22ms/step\n",
            "1/1 [==============================] - 0s 46ms/step\n",
            "1/1 [==============================] - 0s 19ms/step\n",
            "1/1 [==============================] - 0s 18ms/step\n",
            "1/1 [==============================] - 0s 26ms/step\n",
            "1/1 [==============================] - 0s 20ms/step\n",
            "1/1 [==============================] - 0s 19ms/step\n",
            "1/1 [==============================] - 0s 18ms/step\n",
            "1/1 [==============================] - 0s 19ms/step\n",
            "1/1 [==============================] - 0s 38ms/step\n",
            "1/1 [==============================] - 0s 20ms/step\n",
            "1/1 [==============================] - 0s 20ms/step\n",
            "1/1 [==============================] - 0s 27ms/step\n",
            "1/1 [==============================] - 0s 18ms/step\n",
            "1/1 [==============================] - 0s 18ms/step\n",
            "1/1 [==============================] - 0s 19ms/step\n",
            "1/1 [==============================] - 0s 41ms/step\n",
            "1/1 [==============================] - 0s 20ms/step\n",
            "1/1 [==============================] - 0s 19ms/step\n",
            "1/1 [==============================] - 0s 18ms/step\n",
            "1/1 [==============================] - 0s 18ms/step\n",
            "1/1 [==============================] - 0s 31ms/step\n",
            "1/1 [==============================] - 0s 19ms/step\n",
            "1/1 [==============================] - 0s 22ms/step\n",
            "1/1 [==============================] - 0s 19ms/step\n",
            "1/1 [==============================] - 0s 22ms/step\n",
            "1/1 [==============================] - 0s 19ms/step\n",
            "1/1 [==============================] - 0s 19ms/step\n",
            "1/1 [==============================] - 0s 18ms/step\n",
            "1/1 [==============================] - 0s 18ms/step\n",
            "1/1 [==============================] - 0s 31ms/step\n",
            "1/1 [==============================] - 0s 19ms/step\n",
            "1/1 [==============================] - 0s 19ms/step\n",
            "1/1 [==============================] - 0s 18ms/step\n",
            "1/1 [==============================] - 0s 26ms/step\n",
            "1/1 [==============================] - 0s 26ms/step\n",
            "1/1 [==============================] - 0s 20ms/step\n",
            "1/1 [==============================] - 0s 18ms/step\n",
            "1/1 [==============================] - 0s 19ms/step\n",
            "1/1 [==============================] - 0s 19ms/step\n",
            "1/1 [==============================] - 0s 28ms/step\n",
            "1/1 [==============================] - 0s 20ms/step\n",
            "1/1 [==============================] - 0s 19ms/step\n",
            "1/1 [==============================] - 0s 30ms/step\n",
            "1/1 [==============================] - 0s 18ms/step\n",
            "1/1 [==============================] - 0s 19ms/step\n",
            "1/1 [==============================] - 0s 34ms/step\n",
            "1/1 [==============================] - 0s 18ms/step\n",
            "1/1 [==============================] - 0s 19ms/step\n",
            "1/1 [==============================] - 0s 19ms/step\n",
            "1/1 [==============================] - 0s 31ms/step\n",
            "1/1 [==============================] - 0s 18ms/step\n",
            "1/1 [==============================] - 0s 18ms/step\n",
            "1/1 [==============================] - 0s 19ms/step\n",
            "1/1 [==============================] - 0s 19ms/step\n",
            "1/1 [==============================] - 0s 37ms/step\n",
            "1/1 [==============================] - 0s 18ms/step\n",
            "1/1 [==============================] - 0s 18ms/step\n",
            "1/1 [==============================] - 0s 19ms/step\n",
            "1/1 [==============================] - 0s 18ms/step\n",
            "1/1 [==============================] - 0s 27ms/step\n",
            "1/1 [==============================] - 0s 18ms/step\n",
            "1/1 [==============================] - 0s 26ms/step\n",
            "1/1 [==============================] - 0s 19ms/step\n",
            "1/1 [==============================] - 0s 23ms/step\n",
            "1/1 [==============================] - 0s 18ms/step\n",
            "1/1 [==============================] - 0s 31ms/step\n",
            "1/1 [==============================] - 0s 19ms/step\n",
            "1/1 [==============================] - 0s 19ms/step\n",
            "1/1 [==============================] - 0s 19ms/step\n",
            "1/1 [==============================] - 0s 27ms/step\n",
            "1/1 [==============================] - 0s 27ms/step\n",
            "1/1 [==============================] - 0s 18ms/step\n",
            "1/1 [==============================] - 0s 18ms/step\n",
            "1/1 [==============================] - 0s 18ms/step\n",
            "1/1 [==============================] - 0s 26ms/step\n",
            "1/1 [==============================] - 0s 19ms/step\n",
            "1/1 [==============================] - 0s 19ms/step\n",
            "1/1 [==============================] - 0s 19ms/step\n",
            "1/1 [==============================] - 0s 19ms/step\n",
            "1/1 [==============================] - 0s 18ms/step\n",
            "1/1 [==============================] - 0s 18ms/step\n",
            "1/1 [==============================] - 0s 18ms/step\n",
            "1/1 [==============================] - 0s 17ms/step\n",
            "1/1 [==============================] - 0s 29ms/step\n",
            "1/1 [==============================] - 0s 18ms/step\n",
            "1/1 [==============================] - 0s 19ms/step\n",
            "1/1 [==============================] - 0s 19ms/step\n",
            "1/1 [==============================] - 0s 19ms/step\n",
            "1/1 [==============================] - 0s 19ms/step\n",
            "1/1 [==============================] - 0s 19ms/step\n",
            "1/1 [==============================] - 0s 18ms/step\n",
            "1/1 [==============================] - 0s 19ms/step\n",
            "1/1 [==============================] - 0s 19ms/step\n",
            "1/1 [==============================] - 0s 18ms/step\n",
            "1/1 [==============================] - 0s 18ms/step\n",
            "1/1 [==============================] - 0s 19ms/step\n",
            "1/1 [==============================] - 0s 19ms/step\n",
            "1/1 [==============================] - 0s 21ms/step\n",
            "1/1 [==============================] - 0s 26ms/step\n",
            "1/1 [==============================] - 0s 19ms/step\n",
            "1/1 [==============================] - 0s 19ms/step\n",
            "1/1 [==============================] - 0s 19ms/step\n",
            "1/1 [==============================] - 0s 19ms/step\n",
            "1/1 [==============================] - 0s 25ms/step\n",
            "1/1 [==============================] - 0s 18ms/step\n",
            "1/1 [==============================] - 0s 18ms/step\n",
            "1/1 [==============================] - 0s 19ms/step\n",
            "1/1 [==============================] - 0s 29ms/step\n",
            "1/1 [==============================] - 0s 20ms/step\n",
            "1/1 [==============================] - 0s 20ms/step\n"
          ]
        }
      ],
      "source": [
        "train_features_new, _, _ = extract_features(train_folder)\n",
        "test_features, _, _ = extract_features(test_folder)\n",
        "validation_features, _, _ = extract_features(validation_folder)"
      ]
    },
    {
      "cell_type": "code",
      "execution_count": 32,
      "metadata": {
        "id": "kQZklA0ehLiA",
        "colab": {
          "base_uri": "https://localhost:8080/"
        },
        "outputId": "7113758d-5fa0-4e5a-acc7-b6dc3edeed10"
      },
      "outputs": [
        {
          "output_type": "stream",
          "name": "stdout",
          "text": [
            "857 512\n",
            "401 512\n",
            "391 512\n"
          ]
        }
      ],
      "source": [
        "print(len(train_features_new), len(train_features_new[0]))\n",
        "print(len(test_features), len(test_features[0]))\n",
        "print(len(validation_features), len(validation_features[0]))"
      ]
    },
    {
      "cell_type": "code",
      "execution_count": 33,
      "metadata": {
        "id": "iruvoZmUhLiB",
        "colab": {
          "base_uri": "https://localhost:8080/"
        },
        "outputId": "cdf2da77-56a8-4de2-dab3-63799c1f6c0f"
      },
      "outputs": [
        {
          "output_type": "stream",
          "name": "stderr",
          "text": [
            "IOPub data rate exceeded.\n",
            "The notebook server will temporarily stop sending output\n",
            "to the client in order to avoid crashing it.\n",
            "To change this limit, set the config variable\n",
            "`--NotebookApp.iopub_data_rate_limit`.\n",
            "\n",
            "Current values:\n",
            "NotebookApp.iopub_data_rate_limit=1000000.0 (bytes/sec)\n",
            "NotebookApp.rate_limit_window=3.0 (secs)\n",
            "\n"
          ]
        }
      ],
      "source": [
        "print(train_features_new)"
      ]
    },
    {
      "cell_type": "markdown",
      "metadata": {
        "id": "wt5v7C8lhLiB"
      },
      "source": [
        "### Save and Load Features, Names, and Labels to reduce time needed"
      ]
    },
    {
      "cell_type": "code",
      "execution_count": 34,
      "metadata": {
        "id": "1lqAcf0bhLiB"
      },
      "outputs": [],
      "source": [
        "train_features_path =  \"./gdrive/My Drive/ICDAR-2011-Split/train_features_triplet_loss_224.npy\"\n",
        "test_features_path = \"./gdrive/My Drive/ICDAR-2011-Split/test_features_triplet_loss_224.npy\"\n",
        "validation_features_path = \"./gdrive/My Drive/ICDAR-2011-Split/validation_features_triplet_loss_224.npy\""
      ]
    },
    {
      "cell_type": "code",
      "execution_count": 35,
      "metadata": {
        "id": "KpaLMVBshLiC"
      },
      "outputs": [],
      "source": [
        "np.save(train_features_path, train_features_new)\n",
        "np.save(validation_features_path, validation_features)\n",
        "np.save(test_features_path, test_features)"
      ]
    }
  ],
  "metadata": {
    "accelerator": "GPU",
    "colab": {
      "provenance": []
    },
    "kernelspec": {
      "display_name": "Python 3",
      "name": "python3"
    },
    "language_info": {
      "codemirror_mode": {
        "name": "ipython",
        "version": 3
      },
      "file_extension": ".py",
      "mimetype": "text/x-python",
      "name": "python",
      "nbconvert_exporter": "python",
      "pygments_lexer": "ipython3",
      "version": "3.11.1"
    }
  },
  "nbformat": 4,
  "nbformat_minor": 0
}