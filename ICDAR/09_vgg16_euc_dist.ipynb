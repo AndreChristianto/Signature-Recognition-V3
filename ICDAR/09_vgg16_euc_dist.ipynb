{
 "cells": [
  {
   "cell_type": "code",
   "execution_count": 1,
   "metadata": {},
   "outputs": [],
   "source": [
    "import numpy as np"
   ]
  },
  {
   "cell_type": "markdown",
   "metadata": {},
   "source": [
    "### Load Features, Names, and Labels"
   ]
  },
  {
   "cell_type": "code",
   "execution_count": 2,
   "metadata": {},
   "outputs": [],
   "source": [
    "train_features_path =  \"../feature/ICDAR-feature/train_features_triplet_loss.npy\"\n",
    "train_names_path = \"../feature/ICDAR-feature/train_names.npy\"\n",
    "train_labels_path = \"../feature/ICDAR-feature/train_labels.npy\"\n",
    "\n",
    "test_features_path = \"../feature/ICDAR-feature/test_features_triplet_loss.npy\"\n",
    "test_names_path = \"../feature/ICDAR-feature/test_names.npy\"\n",
    "test_labels_path = \"../feature/ICDAR-feature/test_labels.npy\"\n",
    "\n",
    "validation_features_path = \"../feature/ICDAR-feature/validation_features_triplet_loss.npy\"\n",
    "validation_names_path = \"../feature/ICDAR-feature/validation_names.npy\"\n",
    "validation_labels_path = \"../feature/ICDAR-feature/validation_labels.npy\""
   ]
  },
  {
   "cell_type": "code",
   "execution_count": 3,
   "metadata": {},
   "outputs": [],
   "source": [
    "train_features = np.load(train_features_path)\n",
    "train_names = np.load(train_names_path)\n",
    "train_labels = np.load(train_labels_path)\n",
    "\n",
    "test_features = np.load(test_features_path)\n",
    "test_names = np.load(test_names_path)\n",
    "test_labels = np.load(test_labels_path)\n",
    "\n",
    "validation_features = np.load(validation_features_path)\n",
    "validation_names = np.load(validation_names_path)\n",
    "validation_labels = np.load(validation_labels_path)"
   ]
  },
  {
   "cell_type": "code",
   "execution_count": 4,
   "metadata": {},
   "outputs": [
    {
     "name": "stdout",
     "output_type": "stream",
     "text": [
      "train_features shape :  (857, 512)\n",
      "test_features shape :  (401, 512)\n",
      "validation_features shape :  (391, 512)\n"
     ]
    }
   ],
   "source": [
    "print(\"train_features shape : \", train_features.shape)\n",
    "print(\"test_features shape : \", test_features.shape)\n",
    "print(\"validation_features shape : \", validation_features.shape)"
   ]
  },
  {
   "cell_type": "markdown",
   "metadata": {},
   "source": [
    "### Feature Gallery"
   ]
  },
  {
   "cell_type": "code",
   "execution_count": 5,
   "metadata": {},
   "outputs": [],
   "source": [
    "# Feature Gallery dilakukan untuk setiap kelas / nama seperti \"001\", \"002\", \"003\", dst dengan cara mengambil data training positive dan mengambil mean / rata-rata dari data tersebut\n",
    "def create_feature_gallery(train_features, train_names, train_labels):\n",
    "    gallery_feature = []\n",
    "    gallery_name = []\n",
    "\n",
    "    unique_names = set(train_names.flatten())\n",
    "    sorted_names = sorted(unique_names)\n",
    "\n",
    "    for name in sorted_names:\n",
    "        # print(name)\n",
    "        # print(name)\n",
    "        name_features = []\n",
    "\n",
    "        for feature, feature_name, label in zip(train_features, train_names, train_labels):\n",
    "            # print(feature, feature_name, label)\n",
    "            if name in feature_name and label == 1:\n",
    "                name_features.append(feature)\n",
    "\n",
    "        if name_features:\n",
    "            # print(name_features)\n",
    "            average_feature = np.mean(name_features, axis=0)\n",
    "            gallery_feature.append(average_feature)\n",
    "            gallery_name.append(name)\n",
    "\n",
    "    return gallery_feature, gallery_name"
   ]
  },
  {
   "cell_type": "code",
   "execution_count": 6,
   "metadata": {},
   "outputs": [],
   "source": [
    "gallery_features, gallery_names = create_feature_gallery(train_features, train_names, train_labels)"
   ]
  },
  {
   "cell_type": "code",
   "execution_count": 7,
   "metadata": {},
   "outputs": [],
   "source": [
    "gallery_feature_path = \"../feature/ICDAR-feature/gallery_features_triplet_loss.npy\"\n",
    "gallery_name_path = \"../feature/ICDAR-feature/gallery_names.npy\""
   ]
  },
  {
   "cell_type": "code",
   "execution_count": 8,
   "metadata": {},
   "outputs": [],
   "source": [
    "np.save(gallery_feature_path, gallery_features)\n",
    "np.save(gallery_name_path, gallery_names)"
   ]
  },
  {
   "cell_type": "code",
   "execution_count": 9,
   "metadata": {},
   "outputs": [],
   "source": [
    "gallery_features = np.load(gallery_feature_path)\n",
    "gallery_names = np.load(gallery_name_path)"
   ]
  },
  {
   "cell_type": "code",
   "execution_count": 10,
   "metadata": {},
   "outputs": [
    {
     "name": "stdout",
     "output_type": "stream",
     "text": [
      "gallery features shape :  (64, 512)\n"
     ]
    }
   ],
   "source": [
    "gallery_features_array = np.array(gallery_features)\n",
    "print(\"gallery features shape : \", gallery_features_array.shape)"
   ]
  },
  {
   "cell_type": "markdown",
   "metadata": {},
   "source": [
    "### Euclidean Distance"
   ]
  },
  {
   "cell_type": "code",
   "execution_count": 11,
   "metadata": {},
   "outputs": [],
   "source": [
    "def euclidean_distance(feature_vector1, feature_vector2):\n",
    "    return np.sqrt(np.sum((feature_vector1 - feature_vector2)**2))"
   ]
  },
  {
   "cell_type": "code",
   "execution_count": 12,
   "metadata": {},
   "outputs": [],
   "source": [
    "def find_euclidean_distance(test_features, test_names, test_labels, gallery_features, gallery_names):\n",
    "    euclidean_distances = []\n",
    "    euclidean_names = []\n",
    "    euclidean_actual_labels = []\n",
    "\n",
    "    for gallery_feature, gallery_name in zip(gallery_features, gallery_names):\n",
    "        curr_euclid_name = gallery_name\n",
    "        curr_euclid_feature = []\n",
    "        curr_euclid_label = []\n",
    "        curr_euclid_dist = []\n",
    "        for feature, name, label in zip(test_features, test_names, test_labels):\n",
    "            if gallery_name in name:\n",
    "                curr_euclid_feature.append(feature)\n",
    "                curr_euclid_label.append(label)\n",
    "        \n",
    "        for feature in curr_euclid_feature:\n",
    "            distance = euclidean_distance(feature, gallery_feature)\n",
    "            curr_euclid_dist.append(distance)\n",
    "\n",
    "        euclidean_distances.append(curr_euclid_dist)\n",
    "        euclidean_names.append(curr_euclid_name)\n",
    "        euclidean_actual_labels.append(curr_euclid_label)\n",
    "        \n",
    "    return euclidean_distances, euclidean_names, euclidean_actual_labels"
   ]
  },
  {
   "cell_type": "code",
   "execution_count": 13,
   "metadata": {},
   "outputs": [],
   "source": [
    "test_euclidean_distances, test_euclidean_names, test_euclidean_actual_labels = find_euclidean_distance(test_features, test_names, test_labels, gallery_features, gallery_names)\n",
    "train_euclidean_distances, train_euclidean_names, train_euclidean_actual_labels = find_euclidean_distance(train_features, train_names, train_labels, gallery_features, gallery_names)\n",
    "validation_euclidean_distances, validation_euclidean_names, validation_euclidean_actual_labels = find_euclidean_distance(validation_features, validation_names, validation_labels, gallery_features, gallery_names)"
   ]
  },
  {
   "cell_type": "markdown",
   "metadata": {},
   "source": [
    "### Split Euclidean Distance to Positive and Negative for Future Use (If needed)"
   ]
  },
  {
   "cell_type": "code",
   "execution_count": 14,
   "metadata": {},
   "outputs": [],
   "source": [
    "def split_euc_dist(euclidean_distances, euclidean_names, euclidean_actual_labels):\n",
    "    positive_distance = []\n",
    "    positive_name = []\n",
    "    positive_label = []\n",
    "    negative_distance = []\n",
    "    negative_name = []\n",
    "    negative_label = []\n",
    "\n",
    "    for euclidean_distance, euclidean_name, euclidean_actual_label in zip(euclidean_distances, euclidean_names, euclidean_actual_labels):\n",
    "        pos_dist = []\n",
    "        neg_dist = []\n",
    "        pos_lab = []\n",
    "        neg_lab = []\n",
    "        for distance, label in zip(euclidean_distance, euclidean_actual_label):\n",
    "            if label == 0:\n",
    "                neg_dist.append(distance)\n",
    "                neg_lab.append(label)\n",
    "            else:\n",
    "                pos_dist.append(distance)\n",
    "                pos_lab.append(label)\n",
    "\n",
    "        positive_distance.append(pos_dist)\n",
    "        positive_name.append(euclidean_name)\n",
    "        positive_label.append(pos_lab)\n",
    "\n",
    "        negative_distance.append(neg_dist)\n",
    "        negative_name.append(euclidean_name)\n",
    "        negative_label.append(neg_lab)\n",
    "        # print(euclidean_distance, euclidean_name, euclidean_actual_label)\n",
    "\n",
    "    return positive_distance, negative_label"
   ]
  },
  {
   "cell_type": "code",
   "execution_count": 15,
   "metadata": {},
   "outputs": [],
   "source": [
    "train_positive_dist, train_negative_dist = split_euc_dist(train_euclidean_distances, train_names, train_euclidean_actual_labels)\n",
    "test_positive_dist, test_negative_dist = split_euc_dist(test_euclidean_distances, test_names, test_euclidean_actual_labels)\n",
    "validation_positive_dist, validation_negative_dist = split_euc_dist(validation_euclidean_distances, validation_names, validation_euclidean_actual_labels)"
   ]
  },
  {
   "cell_type": "code",
   "execution_count": 16,
   "metadata": {},
   "outputs": [
    {
     "name": "stdout",
     "output_type": "stream",
     "text": [
      "Train total : 857\n",
      "  Train pos : 463\n",
      "  Train neg : 394\n",
      " Test total : 401\n",
      "   Test pos : 212\n",
      "   Test neg : 189\n",
      "  Val total : 391\n",
      "    Val pos : 212\n",
      "    Val neg : 179\n"
     ]
    }
   ],
   "source": [
    "flat_train_positive_dist = [item for sublist in train_positive_dist for item in sublist]\n",
    "flat_train_negative_dist = [item for sublist in train_negative_dist for item in sublist]\n",
    "flat_test_positive_dist = [item for sublist in test_positive_dist for item in sublist]\n",
    "flat_test_negative_dist = [item for sublist in test_negative_dist for item in sublist]\n",
    "flat_validation_positive_dist = [item for sublist in validation_positive_dist for item in sublist]\n",
    "flat_validation_negative_dist = [item for sublist in validation_negative_dist for item in sublist]\n",
    "\n",
    "print(f'Train total : {len(flat_train_positive_dist) + len(flat_train_negative_dist)}')\n",
    "print(f'  Train pos : {len(flat_train_positive_dist)}')\n",
    "print(f'  Train neg : {len(flat_train_negative_dist)}')\n",
    "print(f' Test total : {len(flat_test_positive_dist) + len(flat_test_negative_dist)}')\n",
    "print(f'   Test pos : {len(flat_test_positive_dist)}')\n",
    "print(f'   Test neg : {len(flat_test_negative_dist)}')\n",
    "print(f'  Val total : {len(flat_validation_positive_dist) + len(flat_validation_negative_dist)}')\n",
    "print(f'    Val pos : {len(flat_validation_positive_dist)}')\n",
    "print(f'    Val neg : {len(flat_validation_negative_dist)}')"
   ]
  },
  {
   "cell_type": "markdown",
   "metadata": {},
   "source": [
    "### Normalize Euclidean Distance"
   ]
  },
  {
   "cell_type": "code",
   "execution_count": 17,
   "metadata": {},
   "outputs": [],
   "source": [
    "# Flatten the lists of distances\n",
    "flat_test_distances = [item for sublist in test_euclidean_distances for item in sublist]\n",
    "flat_train_distances = [item for sublist in train_euclidean_distances for item in sublist]\n",
    "flat_validation_distances = [item for sublist in validation_euclidean_distances for item in sublist]"
   ]
  },
  {
   "cell_type": "code",
   "execution_count": 18,
   "metadata": {},
   "outputs": [
    {
     "name": "stdout",
     "output_type": "stream",
     "text": [
      "[2.734596, 5.0557876, 3.3782666, 3.2623954, 2.385428, 3.5892973, 1.5008122, 3.036822, 1.4878119, 1.8144886, 1.907797, 1.659485, 2.451176, 6.4352903, 10.164594, 7.253827, 5.346561, 6.0238295, 2.084983, 1.9813595, 2.496933, 1.6132157, 1.7889733, 2.0693483, 2.5602868, 2.427624, 1.4579349, 2.6483521, 2.6322007, 2.0957546, 1.0825729, 2.5109415, 7.1772738, 5.5722804, 5.470825, 5.615573, 3.542255, 3.8556128, 2.5656936, 3.4784992, 3.8637726, 4.069508, 2.1657996, 3.4714835, 5.6698785, 4.348783, 3.1729584, 5.1511474, 3.7796092, 3.90717, 4.7385254, 3.7089875, 8.838375, 8.750296, 5.425414, 8.050349, 5.5654545, 5.768924, 4.226311, 3.24299, 2.477424, 2.0509303, 1.9358815, 2.1052494, 1.9668529, 3.7842517, 3.1203606, 3.7724864, 2.141175, 4.0671806, 3.368826, 4.0415564, 6.5492887, 7.943371, 5.3167596, 4.174771, 7.0668187, 7.40456, 3.241386, 2.3127186, 3.8220625, 3.2076194, 2.285308, 3.0374947, 2.8717685, 3.9747555, 3.1855505, 3.8526661, 2.541514, 4.3464346, 2.4698703, 3.6097364, 7.039327, 7.649748, 6.6736603, 4.5970945, 6.4895477, 6.3325005, 2.9232416, 2.1497583, 2.01288, 3.341732, 5.2695904, 3.6514516, 2.5081606, 2.4230514, 4.7350044, 3.060028, 4.6438327, 2.2113152, 1.8200716, 1.8624477, 6.085118, 4.8367057, 8.105839, 6.62663, 7.3403378, 9.326952, 1.1599418, 2.1316268, 1.7125379, 2.14561, 3.5746236, 1.8268235, 3.9533045, 4.1929507, 2.4863968, 2.5567958, 3.689294, 2.7352357, 2.1990724, 2.3883457, 6.188249, 4.9103794, 4.709605, 4.9322634, 5.349867, 5.5721087, 2.782039, 1.5088909, 1.9724745, 2.6994865, 1.9940411, 1.3518708, 5.908582, 8.428696, 4.046172, 6.5614734, 2.351547, 5.9929433, 1.7505153, 3.1898546, 2.5906909, 2.5901446, 1.696897, 2.7633119, 3.705069, 2.726553, 1.7164202, 2.4668474, 1.9697206, 2.0457118, 1.9862658, 1.8100727, 5.4099483, 3.614004, 7.6534, 5.421622, 4.981187, 4.1378746, 6.1841497, 3.3402607, 4.4058595, 1.3606539, 1.6937333, 3.2916224, 2.5551505, 1.6962068, 2.0124872, 2.3837194, 1.8327398, 2.1941483, 1.8789244, 4.2206254, 2.7596455, 1.3225307, 3.175177, 5.5110836, 4.0046954, 5.0180798, 3.7188473, 5.503093, 3.6747556, 2.7382388, 2.6017485, 2.7359262, 2.21384, 2.8696713, 2.5319643, 4.2925777, 1.9409955, 2.5890203, 2.4140086, 3.7807682, 2.6624353, 4.8092637, 5.514938, 5.7894144, 4.7786036, 4.276738, 2.8513036, 7.60846, 3.168532, 5.839683, 4.141792, 1.8492498, 2.0204928, 2.9978297, 2.6498, 2.0915313, 2.009891, 4.662579, 10.91383, 6.383679, 8.826525, 4.5077953, 6.612892, 2.4236536, 1.4078712, 1.0114605, 1.4379287, 2.1893413, 1.418443, 5.3895664, 4.5936437, 5.307257, 3.697301, 5.7588806, 4.7574825, 1.9555972, 1.1563122, 1.9026653, 1.2089207, 2.1986275, 0.9971421, 3.1688108, 9.16701, 11.858621, 9.287152, 11.260992, 7.9442716, 2.5948048, 1.9776876, 1.6979666, 2.0837371, 2.0607765, 2.5251737, 5.2287755, 5.410804, 6.148311, 5.425505, 8.081978, 4.999109, 6.355495, 4.974022, 4.1679726, 7.458465, 4.9324255, 2.0969856, 1.2169343, 1.6782535, 0.81703675, 1.0966585, 1.4723079, 5.8862643, 4.5527816, 3.9814212, 4.524399, 5.357435, 5.800726, 3.0834496, 2.1401272, 3.4975896, 1.7512037, 2.1262434, 1.5621556, 4.2229953, 6.3981237, 4.1006165, 4.91077, 7.434871, 4.8913927, 5.118185, 6.970966, 3.731213, 3.173834, 3.9081116, 2.6354606, 2.1154068, 3.2544446, 3.216624, 4.642766, 6.418889, 4.407812, 3.904233, 2.2319663, 3.6088216, 2.16686, 1.746439, 1.7716861, 2.5320926, 4.4894733, 3.5592058, 8.974319, 4.5753174, 3.4648042, 3.9298189, 5.1390386, 3.4929197, 2.8631632, 3.6020026, 3.9126093, 3.588534, 9.714802, 10.93959, 7.865293, 8.144036, 3.986875, 1.6068548, 2.2348757, 2.4675386, 2.5238945, 3.196856, 3.80506, 7.3537903, 7.830033, 5.8694015, 7.896345, 4.8821306, 3.983474, 2.3516774, 1.796186, 1.5325092, 2.433648, 2.4709933, 9.236492, 8.442526, 6.5522738, 8.827582, 1.8808302, 1.8901783, 2.358444, 3.0756104, 2.2969966, 1.6578531, 4.9201856, 2.961155, 3.8818276, 2.4584014, 4.432358, 4.5517673, 3.1082075, 2.5835128, 3.0987902, 2.1504824, 3.1444738, 2.5685394, 5.541087, 4.4768467, 3.7033803, 4.367322, 4.2027817, 5.399801, 4.8663206, 2.6937711, 3.3141868, 2.8262687, 3.7890294, 4.1683364, 8.080962, 5.401378, 6.4475327, 6.108976, 10.098438, 5.3281655, 2.4073162, 3.2530265, 2.3296325, 4.8599772, 2.4765599, 3.8544247, 6.281105, 7.379476, 5.6497345, 7.137318, 3.6878617, 2.6162643, 2.0796857, 1.7517636, 1.525388, 1.5067706, 7.409885, 6.023283, 6.742257, 5.7773657, 7.3033447, 7.1002517, 3.2837229, 2.4286666, 2.967014, 2.1399317, 2.7625563, 1.7939974, 4.238678, 7.5574226, 3.9715164, 5.6475587, 5.824259, 4.822674, 5.009172, 7.278594, 4.586123, 1.7295412, 3.2589464, 2.1444664, 3.749318, 2.8188765, 2.4204106, 6.559602, 4.8038917, 3.7902186, 6.7482047, 5.4678464, 8.538484, 3.2312882, 2.7883966, 3.4817362, 2.981307, 3.958573, 3.3156815, 6.412817, 6.0085454, 4.55522, 6.8670187, 4.6978416, 6.188983, 3.3400986, 3.1442926, 2.5103, 3.1383114, 1.7704706, 1.5107886, 7.946331, 6.416893, 7.543593, 8.9775, 7.224536, 8.407078, 2.552036, 2.2632, 2.6584256, 2.4452035, 2.7507331, 3.55113, 9.524945, 5.0132694, 5.72927, 10.957551, 6.334601, 5.18452, 4.093974, 7.455055, 3.5882852, 3.158268, 3.4409013, 2.5598652, 3.234132, 2.1600163, 2.8662302, 5.7627225, 4.533545, 7.570064, 7.446071, 7.193595, 5.131492, 2.4870346, 1.7574419, 3.1481197, 2.479662, 3.159871, 2.5058222, 6.786056, 6.058665, 5.726217, 5.3315005, 5.582179, 5.3831363, 2.7456968, 3.7545884, 3.3230217, 4.479857, 3.0745053, 2.8095129, 8.895598, 7.9609647, 5.052268, 6.226191, 3.5908484, 2.7083776, 1.5082575, 1.7243413, 2.4732316, 3.093607, 5.964549, 6.531981, 5.128515, 9.550008, 5.448007, 7.098899, 2.8610632, 1.161457, 1.9372965, 1.3521035, 0.9121704, 1.6861259, 4.283969, 9.607051, 7.2877173, 9.530498, 8.506896, 8.141944, 3.4784575, 2.984231, 2.059598, 1.9214033, 2.6290824, 2.4577098, 5.8780875, 6.452356, 6.1174617, 6.752507, 6.786038, 3.3040497, 3.732971, 4.0056295, 5.4301915, 3.6080418, 2.804975, 3.6122053, 7.455927, 6.594619, 7.744747, 9.398192, 5.5202894, 10.933989, 2.7798645, 2.4387467, 2.1704962, 2.985404, 2.2131197, 3.2784114, 5.0170813, 4.819522, 11.689012, 3.4984384, 6.8950562, 5.553743, 2.685775, 3.198683, 2.786053, 2.5739775, 1.6878208, 2.3419042, 4.129695, 5.341221, 4.471677, 6.023623, 5.3128953, 4.19489, 2.6003075, 2.9936957, 2.1000795, 1.8691376, 3.96812, 2.0999658, 3.5033283, 5.4688954, 5.5835137, 4.9752874, 5.8829117, 4.540544, 1.6996515, 2.3467035, 1.8760458, 1.9467074, 1.6037629, 2.831752, 6.2845445, 6.2027082, 2.8881052, 3.4625947, 1.8595903, 3.082624, 1.4779133, 1.3196346, 1.1786928, 2.1351423, 7.706916, 9.45935, 6.8551536, 6.1824965, 5.2799377, 8.391508, 0.72670794, 1.4992671, 1.8104974, 0.7701155, 0.75084144, 1.2475547, 4.706799, 6.4415584, 6.1379247, 7.6236157, 5.0050707, 5.306297, 1.4907101, 2.0488944, 1.4377931, 3.1297703, 1.5196941, 1.6213784, 5.693922, 6.62459, 6.958231, 6.7933455, 3.5195847, 1.7794993, 2.007099, 1.7777941, 1.6485023, 1.9576138, 7.5972514, 8.15956, 6.8474107, 7.7895737, 6.5561595, 3.6970668, 10.2129965, 7.5645614, 6.342438, 2.5215592, 2.057167, 3.775594, 1.7913541, 3.11512, 2.1669762, 6.013825, 3.0533402, 3.9474037, 5.6406546, 2.4268684, 3.89106, 4.196292, 3.5600402, 6.199781, 5.176941, 4.2594743, 2.8710573, 2.875742, 3.2593157, 4.0862856, 7.973002, 6.4957314, 4.6076064, 6.90761, 6.272327, 6.3382063, 8.084456, 5.641248, 6.566801, 9.42716, 6.7801933, 5.7199407, 4.3583913, 2.351282, 4.153088, 3.897758, 3.1341355, 2.8382056, 6.6363325, 4.882354, 6.776488, 3.9892507, 5.908147, 3.296055, 1.7233442, 2.0502968, 2.4634743, 2.2656522, 2.6552994, 2.75212, 4.09512, 3.4070725, 5.2206445, 4.919734, 2.1293285, 2.899829, 2.014311, 3.8466644, 2.3072286, 2.949755, 10.674186, 6.862813, 7.0472703, 4.2803845, 6.735718, 3.9619951, 3.1310515, 4.6950197, 2.4393826, 2.479202, 1.6529975, 2.9316485, 8.136, 10.220479, 4.225578, 9.685925, 9.697819, 6.562936, 5.450648, 10.266272, 6.5561156, 3.575487, 1.9123219, 1.3349955, 2.4148755, 1.157068, 1.4224541, 4.703748, 6.974265, 4.0801682, 5.570186, 2.5044527, 3.0613532, 1.8814669, 3.1662824, 2.3976076, 2.319693, 5.533441, 6.3513584, 6.966906, 5.7403827, 6.6485248, 4.927659, 3.5782702, 2.0511541, 2.447035, 3.8711867, 2.3620648, 3.162953, 4.9388433, 7.036683, 6.565209, 6.884724, 7.683502, 5.1522374, 2.1283362, 2.4787524, 2.8926704, 2.2481081, 1.4809012, 1.6551539, 9.762911, 6.223436, 17.995335, 6.311677, 10.241228, 7.216498, 3.6455307, 2.1231837, 1.6493539, 5.141547, 2.4599442, 2.954041, 3.4171784, 10.6637945, 3.5959277, 8.525814, 4.60154, 8.502637, 2.5352416, 2.2634864, 1.545313, 2.7940874, 1.6818655, 3.3859606, 2.9623582, 3.6733618, 4.6200314, 6.9941683, 5.2646027, 5.068552, 2.9122, 2.4241667, 3.078176, 3.2995389, 10.115288, 10.177886, 9.809043, 10.588684, 4.675883, 2.6739154, 3.0566428, 3.185052, 4.074381, 1.884275, 6.205805, 4.025187, 10.2935505, 11.13036, 5.7343006, 10.90942, 2.9975493, 7.524694, 8.674321, 1.6326069, 2.446294, 2.3150272, 2.8684664, 1.9502578, 3.043969, 2.636637, 3.7213643, 6.507567, 8.535323, 1.921637, 3.2124057, 1.4155538, 2.8397286, 2.25852, 2.218359, 8.234639, 5.9634175, 6.180201, 5.6669307, 2.405212, 1.5875984, 3.4821188, 2.0324044, 1.7946354, 3.8094497, 5.661496, 7.1971726, 7.8200345, 6.0960093, 8.753456, 7.3725743]\n"
     ]
    }
   ],
   "source": [
    "print(flat_train_distances)"
   ]
  },
  {
   "cell_type": "code",
   "execution_count": 19,
   "metadata": {},
   "outputs": [],
   "source": [
    "def get_min_max(euclidean_distances):\n",
    "    min_distance = min(euclidean_distances)\n",
    "    max_distance = max(euclidean_distances)\n",
    "\n",
    "    return min_distance, max_distance"
   ]
  },
  {
   "cell_type": "code",
   "execution_count": 20,
   "metadata": {},
   "outputs": [
    {
     "name": "stdout",
     "output_type": "stream",
     "text": [
      "min: 0.726707935333252, max: 17.99533462524414\n"
     ]
    }
   ],
   "source": [
    "min_val, max_val = get_min_max(flat_train_distances)\n",
    "print(f'min: {min_val}, max: {max_val}')"
   ]
  },
  {
   "cell_type": "code",
   "execution_count": 21,
   "metadata": {},
   "outputs": [],
   "source": [
    "def normalize_distance(euclidean_distances, min_val, max_val):\n",
    "    all_distance = []\n",
    "\n",
    "    for distance in euclidean_distances:\n",
    "        normalized_distance = (distance - min_val) / (max_val - min_val)\n",
    "\n",
    "        # in case test and train distances are beyond max of train\n",
    "        if normalized_distance > 1:\n",
    "            normalized_distance = 1\n",
    "        elif normalized_distance < 0:\n",
    "            normalized_distance = 0\n",
    "        \n",
    "        all_distance.append(normalized_distance)\n",
    "\n",
    "    return all_distance\n",
    "\n",
    "def reverse_normalized_distance(euclidean_distances, min_val, max_val):\n",
    "    reverse_distance = []\n",
    "    normalized_distances = normalize_distance(euclidean_distances, min_val, max_val)\n",
    "    for distance in normalized_distances:\n",
    "        distance = -distance\n",
    "        reverse_distance.append(distance)\n",
    "\n",
    "    return reverse_distance"
   ]
  },
  {
   "cell_type": "code",
   "execution_count": 22,
   "metadata": {},
   "outputs": [],
   "source": [
    "# normalized_positive_distances = reverse_normalized_distance(positive_distance)\n",
    "# normalized_negative_distances = reverse_normalized_distance(negative_distance)"
   ]
  },
  {
   "cell_type": "code",
   "execution_count": 23,
   "metadata": {},
   "outputs": [],
   "source": [
    "normalized_test_euclidean_distance = reverse_normalized_distance(flat_test_distances, min_val, max_val)\n",
    "normalized_train_euclidean_distance = reverse_normalized_distance(flat_train_distances, min_val, max_val)\n",
    "normalized_validation_euclidean_distance = reverse_normalized_distance(flat_validation_distances, min_val, max_val)"
   ]
  },
  {
   "cell_type": "code",
   "execution_count": 24,
   "metadata": {},
   "outputs": [
    {
     "name": "stdout",
     "output_type": "stream",
     "text": [
      "[-0.064013526, -0.21388663, -0.13351642, -0.16262393, -0.14253719, -0.23078981, -0.1937458, -0.040048346, -0.04592022, -0.092971526, -0.10302639, -0.064932995, -0.27166966, -0.45500284, -0.22336408, -0.1639519, -0.14697026, -0.17859818, -0.12981735, -0.12979634, -0.2236525, -0.23936746, -0.29857734, -0.2408771, -0.1529149, -0.13866164, -0.1455587, -0.1377319, -0.22230524, -0.27694547, -0.34049523, -0.30469182, -0.17064732, -0.17342328, -0.08595294, -0.13171813, -0.38574144, -0.37571457, -0.2687146, -0.16444018, -0.1851237, -0.17027758, -0.17255671, -0.07938898, -0.52962625, -0.3265915, -0.5253247, -0.232493, -0.111842655, -0.1093029, -0.09718076, -0.13709426, -0.37206098, -0.23875242, -0.45417193, -0.13681716, -0.090042114, -0.052091092, -0.29318565, -0.3446742, -0.34420913, -0.13702893, -0.10515385, -0.08219751, -0.09783471, -0.07780055, -0.18356287, -0.19294173, -0.17843437, -0.21198317, -0.18553634, -0.073855825, -0.07537331, -0.09117085, -0.13553894, -0.16144387, -0.16802488, -0.17117848, -0.2248034, -0.17992333, -0.09536403, -0.30468515, -0.22467269, -0.29096127, -0.3395125, -0.29584065, -0.32256457, -0.09954843, -0.14965746, -0.13463765, -0.27344555, -0.32351166, -0.2697943, -0.07943097, -0.1240447, -0.08601871, -0.18829148, -0.17220764, -0.37069038, -0.06068029, -0.046271842, -0.13235074, -0.3871036, -0.20214936, -0.55031174, -0.17784283, -0.10863921, -0.09862069, -0.32536167, -0.17653781, -0.218571, -0.28402382, -0.009766844, -0.031368528, -0.08437335, -0.19843343, -0.32669067, -0.24661389, -0.06904993, -0.1487869, -0.06449441, -0.20480338, -0.3351065, -0.3243671, -0.2580445, -0.10461614, -0.1063471, -0.1379125, -0.21429709, -0.28587493, -0.12072754, -0.1469045, -0.12621452, -0.2921028, -0.3525652, -0.26369014, -0.22995819, -0.15906757, -0.29479948, -0.47978845, -0.37257954, -0.059560418, -0.1321589, -0.079990625, -0.3828766, -0.20748672, -0.27518314, -0.08678934, -0.046035226, -0.08822891, -0.3775675, -0.36289424, -0.059716668, -0.07236259, -0.189022, -0.14036955, -0.20793846, -0.11723024, -0.117735095, -0.19633424, -0.090648055, -0.25163478, -0.23995887, -0.16931093, -0.18704805, -0.29502463, -0.25740254, -0.50207365, -0.30323106, -0.4109501, -0.12273834, -0.13517225, -0.12691806, -0.25987118, -0.2003715, -0.14610843, -0.082314834, -0.26272035, -0.2826675, -0.2724091, -0.42720017, -0.12086429, -0.12408655, -0.101497695, -0.27955216, -0.13517976, -0.43266052, -0.32776988, -0.11464311, -0.16921015, -0.22355224, -0.5130023, -0.21004245, -0.25563806, -0.13499679, -0.23303443, -0.33499628, -0.22365548, -0.19875932, -0.26318625, -0.0802746, -0.11868714, -0.07016704, -0.36200505, -0.5022544, -0.3467946, -0.14155562, -0.122533865, -0.09593086, -0.26465732, -0.41026828, -0.33945385, -0.3212069, -0.1539454, -0.12096029, -0.077736616, -0.30788654, -0.36113966, -0.32834065, -0.1130175, -0.18281461, -0.33509198, -0.3196946, -0.36666974, -0.3128015, -0.25668037, -0.28133824, -0.12543558, -0.35773855, -0.29367346, -0.10384293, -0.12631579, -0.0747241, -0.4897409, -0.3294627, -0.30665877, -0.049585674, -0.02418262, -0.06909363, -0.45257258, -0.17806666, -0.36710337, -0.19883667, -0.12184114, -0.3709635, -0.22374283, -0.31946057, -0.3992815, -0.22493492, -0.28487644, -0.3100452, -0.5808024, -0.49743718, -0.24846676, -0.15482055, -0.13538955, -0.1245268, -0.2832897, -0.20909886, -0.38767028, -0.07624919, -0.1290882, -0.101836674, -0.18051063, -0.14809124, -0.24808888, -0.21805747, -0.17211317, -0.23211533, -0.24928676, -0.18873715, -0.38949645, -0.13775316, -0.22461022, -0.11675678, -0.30811632, -0.14938608, -0.08319782, -0.1485206, -0.15555432, -0.22752267, -0.3737094, -0.3315397, -0.015851464, -0.018805431, -0.05430835, -0.2256368, -0.43971777, -0.18818784, -0.08676203, -0.09781956, -0.14086376, -0.35520247, -0.35263035, -0.20410421, -0.08272507, -0.11739428, -0.38964987, -0.33825827, -0.37644905, -0.14146413, -0.05320338, -0.15987748, -0.14518975, -0.2727971, -0.26175582, -0.17018607, -0.28152743, -0.24158162, -0.3484272, -0.3203758, -0.26481903, -0.32214105, -0.21788698, -0.36292845, -0.10319675, -0.2188293, -0.101860434, -0.19400035, -0.3342421, -0.46625614, -0.17384085, -0.09028805, -0.1388804, -0.17722164, -0.17644267, -0.099272534, -0.15938385, -0.30524272, -0.1655462, -0.40912467, -0.28421712, -0.1142365, -0.078279816, -0.12005693, -0.34915018, -0.56683284, -0.5559758, -0.39732423, -0.04086167, -0.07071325, -0.07613938, -0.20729287, -0.21848746, -0.11176217, -0.08668595, -0.13919862, -0.4326141, -0.25876576, -0.28402936, -0.09488802, -0.14235924, -0.07411939, -0.40217012, -0.20187938, -0.46473578, -0.042085033, -0.06675922, -0.05775952, -0.22918116, -0.4098951, -0.61296165, -0.1517915, -0.11548282, -0.21421929, -0.50362104, -0.37990838, -0.15300007, -0.12413098, -0.094204284, -0.18820561, -0.27062532, -0.31282187, -0.12317597, -0.13341978, -0.15248391, -0.35787338, -0.6074834, -0.16492541, -0.1637822, -0.11691302, -0.1274428, -0.21560049, -0.22530848, -0.7609372, -0.06321346, -0.13153955, -0.025277229, -0.22987631, -0.29543275, -0.115775436, -0.13850904, -0.12003564, -0.24469584, -0.36943927, -0.17799866, -0.16063419, -0.09074079, -0.44170088, -0.2840021, -0.5195171]\n"
     ]
    }
   ],
   "source": [
    "print(normalized_test_euclidean_distance)"
   ]
  },
  {
   "cell_type": "markdown",
   "metadata": {},
   "source": [
    "# 3. ROC Curve"
   ]
  },
  {
   "cell_type": "code",
   "execution_count": 25,
   "metadata": {},
   "outputs": [],
   "source": [
    "from sklearn.metrics import roc_curve, auc\n",
    "import matplotlib.pyplot as plt\n",
    "from matplotlib.ticker import MultipleLocator"
   ]
  },
  {
   "cell_type": "code",
   "execution_count": 26,
   "metadata": {},
   "outputs": [
    {
     "data": {
      "image/png": "[encoded data removed]",
      "text/plain": [
       "<Figure size 800x800 with 1 Axes>"
      ]
     },
     "metadata": {},
     "output_type": "display_data"
    }
   ],
   "source": [
    "# Flatten the lists of labels\n",
    "flat_test_labels = [item for sublist in test_euclidean_actual_labels for item in sublist]\n",
    "flat_train_labels = [item for sublist in train_euclidean_actual_labels for item in sublist]\n",
    "flat_validation_labels = [item for sublist in validation_euclidean_actual_labels for item in sublist]\n",
    "\n",
    "# Calculate ROC curve\n",
    "fpr_test, tpr_test, thresholds_test = roc_curve(flat_test_labels, normalized_test_euclidean_distance, drop_intermediate=False)\n",
    "roc_auc_test = auc(fpr_test, tpr_test)\n",
    "fpr_train, tpr_train, thresholds_train = roc_curve(flat_train_labels, normalized_train_euclidean_distance, drop_intermediate=False)\n",
    "roc_auc_train = auc(fpr_train, tpr_train)\n",
    "fpr_validation, tpr_validation, thresholds_validation = roc_curve(flat_validation_labels, normalized_validation_euclidean_distance, drop_intermediate=False)\n",
    "roc_auc_validation = auc(fpr_validation, tpr_validation)\n",
    "\n",
    "# Plot ROC curve\n",
    "plt.figure(figsize=(8, 8))\n",
    "\n",
    "plt.plot(fpr_train, tpr_train, color='darkseagreen', lw=2, label=f'Train AUC = {roc_auc_train:.5f}')\n",
    "plt.plot(fpr_validation, tpr_validation, color='steelblue', lw=2, label=f'Validation AUC = {roc_auc_validation:.5f}')\n",
    "plt.plot(fpr_test, tpr_test, color='peru', lw=2, label=f'Test AUC = {roc_auc_test:.5f}')\n",
    "\n",
    "plt.plot([0, 1], [0, 1], color='navy', lw=2, linestyle='--')\n",
    "plt.xlabel('False Positive Rate')\n",
    "plt.ylabel('True Positive Rate')\n",
    "plt.title('ROC Curves - Euclidean Distance')\n",
    "plt.legend(loc='lower right')\n",
    "plt.show()"
   ]
  },
  {
   "cell_type": "code",
   "execution_count": 27,
   "metadata": {},
   "outputs": [
    {
     "name": "stdout",
     "output_type": "stream",
     "text": [
      "[0.         0.00471698 0.00943396 0.01415094 0.01886792 0.02358491\n",
      " 0.02830189 0.03301887 0.03773585 0.04245283 0.04716981 0.05188679\n",
      " 0.05660377 0.06132075 0.06603774 0.07075472 0.0754717  0.08018868\n",
      " 0.08490566 0.08962264 0.09433962 0.0990566  0.10377358 0.10849057\n",
      " 0.11320755 0.11792453 0.12264151 0.12735849 0.13207547 0.13679245\n",
      " 0.14150943 0.14622642 0.1509434  0.15566038 0.16037736 0.16509434\n",
      " 0.16981132 0.1745283  0.17924528 0.18396226 0.18867925 0.19339623\n",
      " 0.19811321 0.20283019 0.20754717 0.21226415 0.21698113 0.22169811\n",
      " 0.22641509 0.23113208 0.23584906 0.24056604 0.24528302 0.25\n",
      " 0.25471698 0.25943396 0.26415094 0.26886792 0.27358491 0.27830189\n",
      " 0.28301887 0.28773585 0.29245283 0.29716981 0.30188679 0.30660377\n",
      " 0.31132075 0.31603774 0.32075472 0.3254717  0.33018868 0.33490566\n",
      " 0.33962264 0.34433962 0.3490566  0.35377358 0.35849057 0.36320755\n",
      " 0.36792453 0.37264151 0.37735849 0.38207547 0.38679245 0.39150943\n",
      " 0.39622642 0.4009434  0.40566038 0.41037736 0.41509434 0.41981132\n",
      " 0.4245283  0.4245283  0.42924528 0.43396226 0.43867925 0.44339623\n",
      " 0.44811321 0.45283019 0.45754717 0.46226415 0.46698113 0.47169811\n",
      " 0.47641509 0.48113208 0.48584906 0.49056604 0.49528302 0.5\n",
      " 0.50471698 0.50943396 0.51415094 0.51886792 0.51886792 0.52358491\n",
      " 0.52830189 0.53301887 0.53773585 0.54245283 0.54716981 0.55188679\n",
      " 0.55660377 0.56132075 0.56603774 0.57075472 0.5754717  0.5754717\n",
      " 0.58018868 0.58490566 0.58962264 0.59433962 0.5990566  0.60377358\n",
      " 0.60849057 0.61320755 0.61792453 0.62264151 0.62735849 0.63207547\n",
      " 0.63207547 0.63679245 0.63679245 0.64150943 0.64622642 0.6509434\n",
      " 0.65566038 0.66037736 0.66509434 0.66981132 0.6745283  0.6745283\n",
      " 0.67924528 0.68396226 0.68396226 0.68867925 0.69339623 0.69811321\n",
      " 0.70283019 0.70283019 0.70754717 0.71226415 0.71698113 0.72169811\n",
      " 0.72641509 0.73113208 0.73584906 0.73584906 0.74056604 0.74528302\n",
      " 0.75       0.75471698 0.75943396 0.75943396 0.75943396 0.76415094\n",
      " 0.76415094 0.76415094 0.76886792 0.77358491 0.77358491 0.77830189\n",
      " 0.77830189 0.78301887 0.78773585 0.79245283 0.79245283 0.79245283\n",
      " 0.79245283 0.79716981 0.80188679 0.80188679 0.80188679 0.80660377\n",
      " 0.81132075 0.81132075 0.81603774 0.81603774 0.82075472 0.8254717\n",
      " 0.83018868 0.83018868 0.83490566 0.83490566 0.83490566 0.83962264\n",
      " 0.83962264 0.83962264 0.83962264 0.84433962 0.84433962 0.84433962\n",
      " 0.8490566  0.8490566  0.8490566  0.8490566  0.85377358 0.85377358\n",
      " 0.85377358 0.85377358 0.85377358 0.85377358 0.85377358 0.85377358\n",
      " 0.85849057 0.86320755 0.86320755 0.86320755 0.86320755 0.86792453\n",
      " 0.86792453 0.86792453 0.87264151 0.87264151 0.87264151 0.87735849\n",
      " 0.87735849 0.87735849 0.87735849 0.88207547 0.88679245 0.89150943\n",
      " 0.89622642 0.89622642 0.89622642 0.89622642 0.89622642 0.89622642\n",
      " 0.9009434  0.9009434  0.90566038 0.91037736 0.91509434 0.91509434\n",
      " 0.91509434 0.91509434 0.91981132 0.9245283  0.9245283  0.9245283\n",
      " 0.9245283  0.9245283  0.9245283  0.9245283  0.9245283  0.92924528\n",
      " 0.93396226 0.93396226 0.93396226 0.93396226 0.93396226 0.93867925\n",
      " 0.93867925 0.93867925 0.93867925 0.93867925 0.93867925 0.93867925\n",
      " 0.93867925 0.93867925 0.93867925 0.93867925 0.93867925 0.93867925\n",
      " 0.93867925 0.93867925 0.94339623 0.94339623 0.94339623 0.94339623\n",
      " 0.94339623 0.94339623 0.94339623 0.94339623 0.94811321 0.94811321\n",
      " 0.94811321 0.94811321 0.94811321 0.94811321 0.95283019 0.95754717\n",
      " 0.95754717 0.95754717 0.95754717 0.95754717 0.96226415 0.96698113\n",
      " 0.97169811 0.97169811 0.97169811 0.97169811 0.97641509 0.97641509\n",
      " 0.97641509 0.97641509 0.97641509 0.98113208 0.98113208 0.98113208\n",
      " 0.98113208 0.98113208 0.98113208 0.98113208 0.98113208 0.98113208\n",
      " 0.98113208 0.98113208 0.98113208 0.98113208 0.98113208 0.98584906\n",
      " 0.99056604 0.99056604 0.99056604 0.99056604 0.99056604 0.99056604\n",
      " 0.99056604 0.99056604 0.99056604 0.99528302 0.99528302 0.99528302\n",
      " 0.99528302 0.99528302 0.99528302 0.99528302 0.99528302 0.99528302\n",
      " 0.99528302 0.99528302 0.99528302 0.99528302 0.99528302 0.99528302\n",
      " 1.         1.         1.         1.         1.         1.\n",
      " 1.         1.         1.         1.         1.         1.\n",
      " 1.         1.         1.         1.         1.         1.\n",
      " 1.         1.         1.         1.         1.         1.\n",
      " 1.         1.         1.         1.         1.         1.\n",
      " 1.         1.         1.         1.         1.         1.\n",
      " 1.         1.         1.         1.         1.         1.\n",
      " 1.         1.         1.         1.         1.         1.        ]\n"
     ]
    }
   ],
   "source": [
    "print(tpr_test)"
   ]
  },
  {
   "cell_type": "code",
   "execution_count": 28,
   "metadata": {},
   "outputs": [
    {
     "name": "stdout",
     "output_type": "stream",
     "text": [
      "[0.         0.         0.         0.         0.         0.\n",
      " 0.         0.         0.         0.         0.         0.\n",
      " 0.         0.         0.         0.         0.         0.\n",
      " 0.         0.         0.         0.         0.         0.\n",
      " 0.         0.         0.         0.         0.         0.\n",
      " 0.         0.         0.         0.         0.         0.\n",
      " 0.         0.         0.         0.         0.         0.\n",
      " 0.         0.         0.         0.         0.         0.\n",
      " 0.         0.         0.         0.         0.         0.\n",
      " 0.         0.         0.         0.         0.         0.\n",
      " 0.         0.         0.         0.         0.         0.\n",
      " 0.         0.         0.         0.         0.         0.\n",
      " 0.         0.         0.         0.         0.         0.\n",
      " 0.         0.         0.         0.         0.         0.\n",
      " 0.         0.         0.         0.         0.         0.\n",
      " 0.         0.00529101 0.00529101 0.00529101 0.00529101 0.00529101\n",
      " 0.00529101 0.00529101 0.00529101 0.00529101 0.00529101 0.00529101\n",
      " 0.00529101 0.00529101 0.00529101 0.00529101 0.00529101 0.00529101\n",
      " 0.00529101 0.00529101 0.00529101 0.00529101 0.01058201 0.01058201\n",
      " 0.01058201 0.01058201 0.01058201 0.01058201 0.01058201 0.01058201\n",
      " 0.01058201 0.01058201 0.01058201 0.01058201 0.01058201 0.01587302\n",
      " 0.01587302 0.01587302 0.01587302 0.01587302 0.01587302 0.01587302\n",
      " 0.01587302 0.01587302 0.01587302 0.01587302 0.01587302 0.01587302\n",
      " 0.02116402 0.02116402 0.02645503 0.02645503 0.02645503 0.02645503\n",
      " 0.02645503 0.02645503 0.02645503 0.02645503 0.02645503 0.03174603\n",
      " 0.03174603 0.03174603 0.03703704 0.03703704 0.03703704 0.03703704\n",
      " 0.03703704 0.04232804 0.04232804 0.04232804 0.04232804 0.04232804\n",
      " 0.04232804 0.04232804 0.04232804 0.04761905 0.04761905 0.04761905\n",
      " 0.04761905 0.04761905 0.04761905 0.05291005 0.05820106 0.05820106\n",
      " 0.06349206 0.06878307 0.06878307 0.06878307 0.07407407 0.07407407\n",
      " 0.07936508 0.07936508 0.07936508 0.07936508 0.08465608 0.08994709\n",
      " 0.0952381  0.0952381  0.0952381  0.1005291  0.10582011 0.10582011\n",
      " 0.10582011 0.11111111 0.11111111 0.11640212 0.11640212 0.11640212\n",
      " 0.11640212 0.12169312 0.12169312 0.12698413 0.13227513 0.13227513\n",
      " 0.13756614 0.14285714 0.14814815 0.14814815 0.15343915 0.15873016\n",
      " 0.15873016 0.16402116 0.16931217 0.17460317 0.17460317 0.17989418\n",
      " 0.18518519 0.19047619 0.1957672  0.2010582  0.20634921 0.21164021\n",
      " 0.21164021 0.21164021 0.21693122 0.22222222 0.22751323 0.22751323\n",
      " 0.23280423 0.23809524 0.23809524 0.24338624 0.24867725 0.24867725\n",
      " 0.25396825 0.25925926 0.26455026 0.26455026 0.26455026 0.26455026\n",
      " 0.26455026 0.26984127 0.27513228 0.28042328 0.28571429 0.29100529\n",
      " 0.29100529 0.2962963  0.2962963  0.2962963  0.2962963  0.3015873\n",
      " 0.30687831 0.31216931 0.31216931 0.31216931 0.31746032 0.32275132\n",
      " 0.32804233 0.33333333 0.33862434 0.34391534 0.34920635 0.34920635\n",
      " 0.34920635 0.35449735 0.35978836 0.36507937 0.37037037 0.37037037\n",
      " 0.37566138 0.38095238 0.38624339 0.39153439 0.3968254  0.4021164\n",
      " 0.40740741 0.41269841 0.41798942 0.42328042 0.42857143 0.43386243\n",
      " 0.43915344 0.44444444 0.44444444 0.44973545 0.45502646 0.46031746\n",
      " 0.46560847 0.47089947 0.47619048 0.48148148 0.48148148 0.48677249\n",
      " 0.49206349 0.4973545  0.5026455  0.50793651 0.50793651 0.50793651\n",
      " 0.51322751 0.51851852 0.52380952 0.52910053 0.52910053 0.52910053\n",
      " 0.52910053 0.53439153 0.53968254 0.54497354 0.54497354 0.55026455\n",
      " 0.55555556 0.56084656 0.56613757 0.56613757 0.57142857 0.57671958\n",
      " 0.58201058 0.58730159 0.59259259 0.5978836  0.6031746  0.60846561\n",
      " 0.61375661 0.61904762 0.62433862 0.62962963 0.63492063 0.63492063\n",
      " 0.63492063 0.64021164 0.64550265 0.65079365 0.65608466 0.66137566\n",
      " 0.66666667 0.67195767 0.67724868 0.67724868 0.68253968 0.68783069\n",
      " 0.69312169 0.6984127  0.7037037  0.70899471 0.71428571 0.71957672\n",
      " 0.72486772 0.73015873 0.73544974 0.74074074 0.74603175 0.75132275\n",
      " 0.75132275 0.75661376 0.76190476 0.76719577 0.77248677 0.77777778\n",
      " 0.78306878 0.78835979 0.79365079 0.7989418  0.8042328  0.80952381\n",
      " 0.81481481 0.82010582 0.82539683 0.83068783 0.83597884 0.84126984\n",
      " 0.84656085 0.85185185 0.85714286 0.86243386 0.86772487 0.87301587\n",
      " 0.87830688 0.88359788 0.88888889 0.89417989 0.8994709  0.9047619\n",
      " 0.91005291 0.91534392 0.92063492 0.92592593 0.93121693 0.93650794\n",
      " 0.94179894 0.94708995 0.95238095 0.95767196 0.96296296 0.96825397\n",
      " 0.97354497 0.97883598 0.98412698 0.98941799 0.99470899 1.        ]\n"
     ]
    }
   ],
   "source": [
    "print(fpr_test)"
   ]
  },
  {
   "cell_type": "code",
   "execution_count": 29,
   "metadata": {},
   "outputs": [],
   "source": [
    "def find_tpr_at_fpr(fpr, tpr, target_fpr):\n",
    "    return np.interp(target_fpr, fpr, tpr)"
   ]
  },
  {
   "cell_type": "code",
   "execution_count": 30,
   "metadata": {},
   "outputs": [],
   "source": [
    "target_fprs = [0.1, 0.01, 0.001]\n",
    "tpr_at_target_fpr_train = [find_tpr_at_fpr(fpr_train, tpr_train, fpr) for fpr in target_fprs]\n",
    "tpr_at_target_fpr_test = [find_tpr_at_fpr(fpr_test, tpr_test, fpr) for fpr in target_fprs]\n",
    "tpr_at_target_fpr_val = [find_tpr_at_fpr(fpr_validation, tpr_validation, fpr) for fpr in target_fprs]"
   ]
  },
  {
   "cell_type": "code",
   "execution_count": 31,
   "metadata": {},
   "outputs": [
    {
     "name": "stdout",
     "output_type": "stream",
     "text": [
      "Train\n",
      "TPR at FPR 0.100: 0.901\n",
      "TPR at FPR 0.010: 0.564\n",
      "TPR at FPR 0.001: 0.410\n",
      "             AUC: 0.9666103869050883\n",
      "Validation\n",
      "TPR at FPR 0.100: 0.708\n",
      "TPR at FPR 0.010: 0.434\n",
      "TPR at FPR 0.001: 0.377\n",
      "             AUC: 0.9022873405713081\n",
      "Test\n",
      "TPR at FPR 0.100: 0.802\n",
      "TPR at FPR 0.010: 0.519\n",
      "TPR at FPR 0.001: 0.425\n",
      "             AUC: 0.9249276230408305\n"
     ]
    }
   ],
   "source": [
    "print(\"Train\")\n",
    "for tpr, fpr in zip(tpr_at_target_fpr_train, target_fprs):\n",
    "    print(f'TPR at FPR {fpr:.3f}: {tpr:.3f}')\n",
    "print(f'             AUC: {roc_auc_train}')\n",
    "\n",
    "print(\"Validation\")\n",
    "for tpr, fpr in zip(tpr_at_target_fpr_val, target_fprs):\n",
    "    print(f'TPR at FPR {fpr:.3f}: {tpr:.3f}')\n",
    "print(f'             AUC: {roc_auc_validation}')\n",
    "\n",
    "print(\"Test\")\n",
    "for tpr, fpr in zip(tpr_at_target_fpr_test, target_fprs):\n",
    "    print(f'TPR at FPR {fpr:.3f}: {tpr:.3f}')\n",
    "print(f'             AUC: {roc_auc_test}')\n"
   ]
  }
 ],
 "metadata": {
  "kernelspec": {
   "display_name": "Python 3",
   "language": "python",
   "name": "python3"
  },
  "language_info": {
   "codemirror_mode": {
    "name": "ipython",
    "version": 3
   },
   "file_extension": ".py",
   "mimetype": "text/x-python",
   "name": "python",
   "nbconvert_exporter": "python",
   "pygments_lexer": "ipython3",
   "version": "3.11.1"
  }
 },
 "nbformat": 4,
 "nbformat_minor": 2
}
