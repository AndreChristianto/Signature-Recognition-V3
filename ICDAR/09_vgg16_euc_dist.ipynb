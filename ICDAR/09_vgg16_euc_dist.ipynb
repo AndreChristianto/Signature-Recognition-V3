{
 "cells": [
  {
   "cell_type": "code",
   "execution_count": 1,
   "metadata": {},
   "outputs": [],
   "source": [
    "import numpy as np"
   ]
  },
  {
   "cell_type": "markdown",
   "metadata": {},
   "source": [
    "### Load Features, Names, and Labels"
   ]
  },
  {
   "cell_type": "code",
   "execution_count": 2,
   "metadata": {},
   "outputs": [],
   "source": [
    "train_features_path =  \"../feature/ICDAR-feature/train_features_triplet_loss.npy\"\n",
    "train_names_path = \"../feature/ICDAR-feature/train_names.npy\"\n",
    "train_labels_path = \"../feature/ICDAR-feature/train_labels.npy\"\n",
    "\n",
    "test_features_path = \"../feature/ICDAR-feature/test_features_triplet_loss.npy\"\n",
    "test_names_path = \"../feature/ICDAR-feature/test_names.npy\"\n",
    "test_labels_path = \"../feature/ICDAR-feature/test_labels.npy\"\n",
    "\n",
    "validation_features_path = \"../feature/ICDAR-feature/validation_features_triplet_loss.npy\"\n",
    "validation_names_path = \"../feature/ICDAR-feature/validation_names.npy\"\n",
    "validation_labels_path = \"../feature/ICDAR-feature/validation_labels.npy\""
   ]
  },
  {
   "cell_type": "code",
   "execution_count": 3,
   "metadata": {},
   "outputs": [],
   "source": [
    "train_features = np.load(train_features_path)\n",
    "train_names = np.load(train_names_path)\n",
    "train_labels = np.load(train_labels_path)\n",
    "\n",
    "test_features = np.load(test_features_path)\n",
    "test_names = np.load(test_names_path)\n",
    "test_labels = np.load(test_labels_path)\n",
    "\n",
    "validation_features = np.load(validation_features_path)\n",
    "validation_names = np.load(validation_names_path)\n",
    "validation_labels = np.load(validation_labels_path)"
   ]
  },
  {
   "cell_type": "code",
   "execution_count": 4,
   "metadata": {},
   "outputs": [
    {
     "name": "stdout",
     "output_type": "stream",
     "text": [
      "train_features shape :  (857, 512)\n",
      "test_features shape :  (401, 512)\n",
      "validation_features shape :  (391, 512)\n"
     ]
    }
   ],
   "source": [
    "print(\"train_features shape : \", train_features.shape)\n",
    "print(\"test_features shape : \", test_features.shape)\n",
    "print(\"validation_features shape : \", validation_features.shape)"
   ]
  },
  {
   "cell_type": "markdown",
   "metadata": {},
   "source": [
    "### Feature Gallery"
   ]
  },
  {
   "cell_type": "code",
   "execution_count": 5,
   "metadata": {},
   "outputs": [],
   "source": [
    "# Feature Gallery dilakukan untuk setiap kelas / nama seperti \"001\", \"002\", \"003\", dst dengan cara mengambil data training positive dan mengambil mean / rata-rata dari data tersebut\n",
    "def create_feature_gallery(train_features, train_names, train_labels):\n",
    "    gallery_feature = []\n",
    "    gallery_name = []\n",
    "\n",
    "    unique_names = set(train_names.flatten())\n",
    "    sorted_names = sorted(unique_names)\n",
    "\n",
    "    for name in sorted_names:\n",
    "        # print(name)\n",
    "        # print(name)\n",
    "        name_features = []\n",
    "\n",
    "        for feature, feature_name, label in zip(train_features, train_names, train_labels):\n",
    "            # print(feature, feature_name, label)\n",
    "            if name in feature_name and label == 1:\n",
    "                name_features.append(feature)\n",
    "\n",
    "        if name_features:\n",
    "            # print(name_features)\n",
    "            average_feature = np.mean(name_features, axis=0)\n",
    "            gallery_feature.append(average_feature)\n",
    "            gallery_name.append(name)\n",
    "\n",
    "    return gallery_feature, gallery_name"
   ]
  },
  {
   "cell_type": "code",
   "execution_count": 6,
   "metadata": {},
   "outputs": [],
   "source": [
    "gallery_features, gallery_names = create_feature_gallery(train_features, train_names, train_labels)"
   ]
  },
  {
   "cell_type": "code",
   "execution_count": 7,
   "metadata": {},
   "outputs": [],
   "source": [
    "gallery_feature_path = \"../feature/ICDAR-feature/gallery_features_triplet_loss.npy\"\n",
    "gallery_name_path = \"../feature/ICDAR-feature/gallery_names.npy\""
   ]
  },
  {
   "cell_type": "code",
   "execution_count": 8,
   "metadata": {},
   "outputs": [],
   "source": [
    "np.save(gallery_feature_path, gallery_features)\n",
    "np.save(gallery_name_path, gallery_names)"
   ]
  },
  {
   "cell_type": "code",
   "execution_count": 9,
   "metadata": {},
   "outputs": [],
   "source": [
    "gallery_features = np.load(gallery_feature_path)\n",
    "gallery_names = np.load(gallery_name_path)"
   ]
  },
  {
   "cell_type": "code",
   "execution_count": 10,
   "metadata": {},
   "outputs": [
    {
     "name": "stdout",
     "output_type": "stream",
     "text": [
      "gallery features shape :  (64, 512)\n"
     ]
    }
   ],
   "source": [
    "gallery_features_array = np.array(gallery_features)\n",
    "print(\"gallery features shape : \", gallery_features_array.shape)"
   ]
  },
  {
   "cell_type": "markdown",
   "metadata": {},
   "source": [
    "### Euclidean Distance"
   ]
  },
  {
   "cell_type": "code",
   "execution_count": 11,
   "metadata": {},
   "outputs": [],
   "source": [
    "def euclidean_distance(feature_vector1, feature_vector2):\n",
    "    return np.sqrt(np.sum((feature_vector1 - feature_vector2)**2))"
   ]
  },
  {
   "cell_type": "code",
   "execution_count": 12,
   "metadata": {},
   "outputs": [],
   "source": [
    "def find_euclidean_distance(test_features, test_names, test_labels, gallery_features, gallery_names):\n",
    "    euclidean_distances = []\n",
    "    euclidean_names = []\n",
    "    euclidean_actual_labels = []\n",
    "\n",
    "    for gallery_feature, gallery_name in zip(gallery_features, gallery_names):\n",
    "        curr_euclid_name = gallery_name\n",
    "        curr_euclid_feature = []\n",
    "        curr_euclid_label = []\n",
    "        curr_euclid_dist = []\n",
    "        for feature, name, label in zip(test_features, test_names, test_labels):\n",
    "            if gallery_name in name:\n",
    "                curr_euclid_feature.append(feature)\n",
    "                curr_euclid_label.append(label)\n",
    "        \n",
    "        for feature in curr_euclid_feature:\n",
    "            distance = euclidean_distance(feature, gallery_feature)\n",
    "            curr_euclid_dist.append(distance)\n",
    "\n",
    "        euclidean_distances.append(curr_euclid_dist)\n",
    "        euclidean_names.append(curr_euclid_name)\n",
    "        euclidean_actual_labels.append(curr_euclid_label)\n",
    "        \n",
    "    return euclidean_distances, euclidean_names, euclidean_actual_labels"
   ]
  },
  {
   "cell_type": "code",
   "execution_count": 13,
   "metadata": {},
   "outputs": [],
   "source": [
    "test_euclidean_distances, test_euclidean_names, test_euclidean_actual_labels = find_euclidean_distance(test_features, test_names, test_labels, gallery_features, gallery_names)\n",
    "train_euclidean_distances, train_euclidean_names, train_euclidean_actual_labels = find_euclidean_distance(train_features, train_names, train_labels, gallery_features, gallery_names)\n",
    "validation_euclidean_distances, validation_euclidean_names, validation_euclidean_actual_labels = find_euclidean_distance(validation_features, validation_names, validation_labels, gallery_features, gallery_names)"
   ]
  },
  {
   "cell_type": "markdown",
   "metadata": {},
   "source": [
    "### Split Euclidean Distance to Positive and Negative for Future Use (If needed)"
   ]
  },
  {
   "cell_type": "code",
   "execution_count": 14,
   "metadata": {},
   "outputs": [],
   "source": [
    "def split_euc_dist(euclidean_distances, euclidean_names, euclidean_actual_labels):\n",
    "    positive_distance = []\n",
    "    positive_name = []\n",
    "    positive_label = []\n",
    "    negative_distance = []\n",
    "    negative_name = []\n",
    "    negative_label = []\n",
    "\n",
    "    for euclidean_distance, euclidean_name, euclidean_actual_label in zip(euclidean_distances, euclidean_names, euclidean_actual_labels):\n",
    "        pos_dist = []\n",
    "        neg_dist = []\n",
    "        pos_lab = []\n",
    "        neg_lab = []\n",
    "        for distance, label in zip(euclidean_distance, euclidean_actual_label):\n",
    "            if label == 0:\n",
    "                neg_dist.append(distance)\n",
    "                neg_lab.append(label)\n",
    "            else:\n",
    "                pos_dist.append(distance)\n",
    "                pos_lab.append(label)\n",
    "\n",
    "        positive_distance.append(pos_dist)\n",
    "        positive_name.append(euclidean_name)\n",
    "        positive_label.append(pos_lab)\n",
    "\n",
    "        negative_distance.append(neg_dist)\n",
    "        negative_name.append(euclidean_name)\n",
    "        negative_label.append(neg_lab)\n",
    "        # print(euclidean_distance, euclidean_name, euclidean_actual_label)\n",
    "\n",
    "    return positive_distance, negative_label"
   ]
  },
  {
   "cell_type": "code",
   "execution_count": 15,
   "metadata": {},
   "outputs": [],
   "source": [
    "train_positive_dist, train_negative_dist = split_euc_dist(train_euclidean_distances, train_names, train_euclidean_actual_labels)\n",
    "test_positive_dist, test_negative_dist = split_euc_dist(test_euclidean_distances, test_names, test_euclidean_actual_labels)\n",
    "validation_positive_dist, validation_negative_dist = split_euc_dist(validation_euclidean_distances, validation_names, validation_euclidean_actual_labels)"
   ]
  },
  {
   "cell_type": "code",
   "execution_count": 16,
   "metadata": {},
   "outputs": [
    {
     "name": "stdout",
     "output_type": "stream",
     "text": [
      "Train total : 857\n",
      "  Train pos : 463\n",
      "  Train neg : 394\n",
      " Test total : 401\n",
      "   Test pos : 212\n",
      "   Test neg : 189\n",
      "  Val total : 391\n",
      "    Val pos : 212\n",
      "    Val neg : 179\n"
     ]
    }
   ],
   "source": [
    "flat_train_positive_dist = [item for sublist in train_positive_dist for item in sublist]\n",
    "flat_train_negative_dist = [item for sublist in train_negative_dist for item in sublist]\n",
    "flat_test_positive_dist = [item for sublist in test_positive_dist for item in sublist]\n",
    "flat_test_negative_dist = [item for sublist in test_negative_dist for item in sublist]\n",
    "flat_validation_positive_dist = [item for sublist in validation_positive_dist for item in sublist]\n",
    "flat_validation_negative_dist = [item for sublist in validation_negative_dist for item in sublist]\n",
    "\n",
    "print(f'Train total : {len(flat_train_positive_dist) + len(flat_train_negative_dist)}')\n",
    "print(f'  Train pos : {len(flat_train_positive_dist)}')\n",
    "print(f'  Train neg : {len(flat_train_negative_dist)}')\n",
    "print(f' Test total : {len(flat_test_positive_dist) + len(flat_test_negative_dist)}')\n",
    "print(f'   Test pos : {len(flat_test_positive_dist)}')\n",
    "print(f'   Test neg : {len(flat_test_negative_dist)}')\n",
    "print(f'  Val total : {len(flat_validation_positive_dist) + len(flat_validation_negative_dist)}')\n",
    "print(f'    Val pos : {len(flat_validation_positive_dist)}')\n",
    "print(f'    Val neg : {len(flat_validation_negative_dist)}')"
   ]
  },
  {
   "cell_type": "markdown",
   "metadata": {},
   "source": [
    "### Normalize Euclidean Distance"
   ]
  },
  {
   "cell_type": "code",
   "execution_count": 17,
   "metadata": {},
   "outputs": [],
   "source": [
    "# Flatten the lists of distances\n",
    "flat_test_distances = [item for sublist in test_euclidean_distances for item in sublist]\n",
    "flat_train_distances = [item for sublist in train_euclidean_distances for item in sublist]\n",
    "flat_validation_distances = [item for sublist in validation_euclidean_distances for item in sublist]"
   ]
  },
  {
   "cell_type": "code",
   "execution_count": 18,
   "metadata": {},
   "outputs": [
    {
     "name": "stdout",
     "output_type": "stream",
     "text": [
      "[3.1781766, 3.1499565, 4.219733, 3.551138, 2.5146716, 3.2261956, 2.4738336, 4.3151717, 2.68822, 2.673466, 3.278299, 3.6196673, 4.360577, 4.8498116, 13.372805, 11.68634, 7.3937783, 11.63499, 4.707641, 3.079136, 3.29596, 5.0865774, 7.0720973, 3.3682783, 4.4297643, 4.1946397, 3.121545, 4.663581, 5.760972, 3.210875, 4.023246, 4.4693804, 16.18875, 7.998401, 9.641185, 8.225941, 5.27892, 9.878922, 7.0958114, 4.5602765, 6.842397, 8.000264, 6.741429, 5.6950374, 7.217637, 7.0387206, 8.377399, 8.01603, 7.4270477, 6.298127, 8.418025, 5.2756953, 16.823864, 24.893408, 10.695062, 12.594222, 9.895791, 12.999757, 6.492283, 4.239135, 3.9867833, 4.683536, 4.8791213, 3.70126, 4.4105806, 6.0827546, 6.229725, 4.9569607, 5.7581754, 6.354868, 4.4265666, 5.001199, 11.099553, 12.086794, 8.298772, 10.883967, 7.271877, 6.8320265, 3.9172668, 4.656472, 4.360228, 5.267069, 4.7301297, 3.7650735, 5.834914, 5.9295516, 4.325256, 4.4760556, 4.370457, 4.757905, 6.018688, 5.8446636, 9.192226, 6.9151263, 7.3677535, 5.9072747, 6.010698, 11.307117, 4.920749, 3.2360127, 3.557163, 5.3191366, 7.6296234, 3.6465535, 3.9504359, 3.824021, 3.9173403, 5.3730187, 6.884927, 4.0366387, 2.9569957, 3.7127898, 13.52621, 11.466428, 9.681076, 8.499602, 9.712341, 10.58547, 1.6183499, 2.1497705, 3.137706, 1.7156596, 4.131402, 3.162278, 4.135437, 4.3209696, 2.4828625, 3.027682, 3.9508414, 3.8335083, 3.8651578, 4.004544, 5.902707, 4.7636104, 4.872301, 4.975077, 3.721753, 7.227516, 1.6871935, 3.159511, 2.7634304, 3.0760684, 3.1633441, 3.5552597, 7.24853, 11.431652, 6.1599174, 8.598396, 4.9128637, 7.8809366, 3.0293696, 6.7553897, 4.5558586, 3.4931803, 4.024501, 2.5702894, 5.368499, 5.204716, 2.966581, 3.51674, 3.72017, 2.8068857, 3.0013263, 2.7601972, 12.996111, 13.792851, 12.950641, 11.769637, 17.182215, 14.683713, 14.288048, 11.251951, 9.665709, 3.791724, 2.4372604, 6.7341557, 5.5854754, 7.2559166, 3.2278771, 8.809199, 4.089699, 3.6723843, 3.1561062, 5.131964, 2.237676, 2.9688833, 3.1636715, 8.511769, 6.558212, 6.8661127, 10.075858, 8.595437, 9.512761, 3.7124248, 3.549146, 3.0524797, 4.1055713, 4.2593994, 3.5060487, 4.5937147, 2.782325, 5.051407, 3.9761913, 6.6229343, 4.6546364, 4.839183, 6.8102655, 4.161003, 5.8357477, 9.185025, 6.4562407, 5.4229193, 8.426391, 8.604433, 6.5404377, 4.1476793, 2.985294, 4.6258616, 3.4570312, 5.8062716, 4.8671336, 10.543472, 13.348409, 11.74702, 13.541812, 12.795756, 16.170418, 2.8360102, 2.201664, 2.3259454, 2.6447778, 2.2451427, 2.028869, 6.217868, 5.700659, 12.473668, 4.6700144, 7.665348, 5.262369, 2.0199087, 1.4732226, 3.190833, 4.646515, 2.2390928, 2.843182, 9.923549, 20.545979, 31.470997, 11.187782, 29.070503, 13.0347395, 2.7195985, 3.0872967, 2.7900858, 2.7771153, 3.2515066, 3.0217772, 7.4713078, 6.2572002, 8.095573, 8.656062, 16.238144, 6.354843, 13.8440895, 8.320487, 6.247241, 10.453328, 7.332549, 2.0534043, 2.2559607, 3.8421037, 2.7887135, 2.0757418, 2.1876426, 6.8120437, 8.068181, 7.8150663, 7.38524, 8.143273, 7.9905586, 4.7925315, 1.9746783, 4.989622, 1.9529816, 2.3671439, 2.4505491, 8.455311, 7.647184, 8.545536, 9.078289, 8.5884285, 7.666871, 7.0720487, 9.970104, 7.469669, 4.6594305, 3.1029346, 3.3411057, 3.251605, 3.7603617, 2.4851537, 8.673683, 7.863914, 8.804437, 8.679317, 5.139771, 4.542402, 1.8213761, 2.7898245, 1.722099, 3.6741657, 5.061, 5.882391, 13.543504, 6.2800565, 6.456272, 4.670991, 4.9685044, 3.477076, 4.5846753, 4.5149693, 5.317288, 5.057426, 14.663739, 17.082588, 12.97468, 10.379998, 6.1176443, 3.348402, 3.116169, 2.614144, 3.210178, 3.4944494, 9.014837, 10.166546, 13.46392, 11.975084, 8.988434, 7.976226, 3.1146114, 2.3000376, 1.967792, 4.208278, 3.7088017, 4.11577, 13.18959, 14.25352, 6.201525, 8.191796, 2.506265, 2.450603, 4.5145597, 3.8314152, 2.6748848, 3.11834, 4.406696, 3.8757741, 5.7241178, 3.3019552, 4.253631, 3.622472, 3.9405842, 3.1595225, 5.8340297, 4.214447, 3.736778, 4.185233, 8.791533, 8.9907675, 6.448909, 9.990141, 5.790483, 9.035451, 6.582631, 4.6328783, 2.9282515, 5.8650713, 5.441569, 4.541511, 9.574951, 10.64154, 11.634921, 10.490021, 13.508401, 11.03574, 4.7424664, 5.3127766, 3.8287928, 4.898873, 5.110052, 4.0504465, 9.723532, 10.3821, 12.053511, 12.1064625, 4.720628, 6.355685, 3.2096696, 3.6749735, 4.8192186, 4.1476116, 8.040427, 8.660009, 10.222986, 11.859816, 13.188743, 8.946259, 4.9383864, 4.7532697, 4.194556, 4.957052, 3.716996, 3.1689324, 8.258842, 10.31124, 9.091584, 9.708497, 11.651321, 6.9124823, 9.407437, 11.969064, 13.050134, 2.7969713, 4.6179085, 4.2614956, 3.5868099, 3.7416503, 3.7919452, 6.1558833, 10.339783, 8.979062, 10.198531, 14.826189, 11.249143, 5.7436657, 5.9292717, 4.3342357, 3.997129, 2.7306874, 3.414462, 5.8955274, 8.581449, 9.793598, 10.738469, 7.787601, 9.443339, 2.7609248, 2.3590045, 4.3012443, 3.4979625, 2.9741266, 1.9097992, 6.9973216, 7.305246, 10.584852, 8.219748, 7.660477, 7.910861, 3.5984623, 4.931546, 3.6144018, 5.8962746, 4.1906047, 4.0367966, 10.296792, 11.905505, 10.167691, 12.384468, 12.637007, 8.851191, 9.427267, 11.6201, 6.2342687, 2.6857834, 3.849771, 4.423465, 4.2546015, 3.2703166, 3.5565212, 8.998708, 8.23537, 17.32998, 15.713277, 15.62912, 10.68445, 2.46969, 2.9784055, 4.0387316, 2.0686758, 3.4117289, 2.8846743, 7.171288, 10.887177, 9.122789, 7.422875, 11.043438, 8.127777, 2.5166879, 3.1657991, 2.9366117, 2.389281, 2.778872, 2.396085, 10.567421, 9.224395, 6.199756, 6.2383037, 4.3144197, 4.158254, 3.1964257, 5.039018, 2.9472582, 2.2836168, 13.607826, 9.36928, 11.06553, 15.513279, 10.427279, 12.207344, 2.87226, 2.4093988, 1.6898133, 2.9614432, 1.6151369, 3.80395, 5.3870597, 11.421135, 10.387661, 12.041356, 7.3611727, 11.211095, 4.435064, 3.772287, 4.1819696, 3.732832, 4.3695173, 3.3377962, 8.614062, 10.948907, 11.760004, 8.388498, 13.092491, 10.102802, 3.737845, 3.2026803, 7.60285, 7.2547817, 6.310524, 3.8724945, 9.843324, 6.430026, 13.008616, 10.925213, 10.442765, 15.705345, 5.428925, 4.38163, 4.892589, 4.6919327, 5.6703334, 3.7036197, 12.826014, 7.477648, 11.978326, 9.222972, 12.366819, 10.151446, 2.5310478, 4.0113344, 5.57739, 2.3158472, 3.220071, 4.0597157, 5.0034013, 11.942167, 5.7026014, 13.7252865, 5.754662, 8.040187, 3.4325054, 5.1502857, 3.4088259, 3.3209577, 5.661275, 4.447764, 7.426828, 7.904396, 6.1084976, 6.6077514, 6.5303855, 7.490791, 3.7373235, 2.2905612, 3.2951639, 3.9247642, 4.231973, 3.7763953, 10.310044, 7.3743396, 6.136967, 8.829611, 3.6538498, 4.4411306, 2.4035358, 2.6827748, 2.0735152, 3.1100667, 9.119109, 8.919807, 9.075194, 4.49423, 6.0992417, 6.619627, 3.3026614, 2.945405, 3.3571813, 2.4118161, 1.9630351, 1.8827096, 8.340185, 9.429382, 7.3835216, 8.228906, 9.068574, 7.212796, 2.0087662, 1.6713859, 1.7833271, 2.8257954, 1.753731, 2.9203575, 6.8419356, 8.889948, 11.0044775, 10.745853, 2.8545256, 2.5019727, 2.5612664, 2.1516104, 2.8882234, 4.260665, 9.806438, 10.729145, 12.194438, 8.686311, 9.095729, 11.66107, 14.332994, 7.63448, 8.810778, 3.0984602, 3.17259, 3.4875023, 1.9620074, 3.5530849, 4.782349, 6.1286354, 6.1084437, 5.71814, 6.8576846, 5.0402803, 6.1328506, 5.9163914, 6.390748, 8.077333, 7.269677, 4.8950377, 5.808139, 3.5092754, 4.221251, 5.5851593, 17.6386, 10.599299, 17.96086, 10.978663, 12.297617, 7.5744557, 12.699799, 13.160569, 14.107077, 14.729748, 8.975175, 11.994862, 4.7906213, 3.7927835, 3.9247277, 4.244276, 5.217391, 2.89075, 8.949442, 8.204718, 11.090761, 6.5517387, 13.57153, 6.1291738, 2.6453512, 3.518261, 3.139999, 3.701183, 3.1905015, 3.1310856, 5.620493, 4.7492633, 4.8387756, 4.6321096, 5.584599, 3.2761393, 4.0014296, 4.3024125, 2.6549652, 2.9409568, 14.34219, 6.032182, 6.7403774, 10.041414, 6.4173694, 7.4130645, 2.4892838, 4.3980103, 4.2770815, 5.1592717, 3.0521243, 3.872262, 7.5575175, 6.457234, 9.043166, 9.1533, 9.132384, 10.956008, 9.93543, 11.63315, 9.919784, 4.9977913, 2.6147974, 2.3084686, 3.2063496, 2.374337, 2.9504182, 9.481782, 8.989343, 8.966228, 6.4142613, 4.104467, 3.3164911, 3.0342143, 7.397866, 4.6564207, 6.187004, 11.281791, 12.130916, 12.263269, 8.337747, 10.093468, 7.0753613, 7.468257, 4.9076476, 4.1750636, 5.1197834, 6.201187, 5.8840322, 8.761654, 12.977326, 11.290489, 14.056552, 13.464455, 7.417991, 2.973588, 3.0794966, 4.5144086, 1.7583693, 1.8575779, 3.9487216, 12.975617, 7.7571464, 29.48022, 9.575207, 23.700802, 10.745784, 3.663291, 2.468718, 2.9930353, 4.4454584, 3.2931607, 3.028187, 6.8448634, 11.420153, 9.573868, 12.588387, 7.6695423, 10.819585, 4.853721, 5.206199, 3.3699207, 4.5540185, 3.1358435, 2.8166645, 6.2640753, 6.810444, 9.352364, 8.504488, 6.709124, 5.7900558, 2.928033, 2.7256334, 4.1881146, 3.9292, 10.814274, 9.066511, 13.919287, 12.814403, 7.156192, 2.9228067, 4.222935, 3.931756, 4.05453, 2.5013766, 9.288829, 6.2553964, 9.77402, 12.933367, 9.579173, 10.533746, 7.045882, 11.196056, 10.343693, 3.4600897, 4.622591, 3.6051598, 2.3635461, 3.474709, 3.664444, 6.2203727, 6.8083215, 6.8263645, 8.836466, 4.4130187, 4.8762846, 3.5774822, 4.7294927, 2.2720993, 2.8344014, 13.772518, 14.237936, 11.1829605, 10.62751, 3.8027565, 2.9889536, 5.201376, 3.498252, 2.0015445, 5.274777, 7.247195, 11.302513, 9.53297, 9.612369, 13.596343, 10.35926]\n"
     ]
    }
   ],
   "source": [
    "print(flat_train_distances)"
   ]
  },
  {
   "cell_type": "code",
   "execution_count": 19,
   "metadata": {},
   "outputs": [],
   "source": [
    "def get_min_max(euclidean_distances):\n",
    "    min_distance = min(euclidean_distances)\n",
    "    max_distance = max(euclidean_distances)\n",
    "\n",
    "    return min_distance, max_distance"
   ]
  },
  {
   "cell_type": "code",
   "execution_count": 20,
   "metadata": {},
   "outputs": [
    {
     "name": "stdout",
     "output_type": "stream",
     "text": [
      "min: 1.4732226133346558, max: 31.470996856689453\n"
     ]
    }
   ],
   "source": [
    "min_val, max_val = get_min_max(flat_train_distances)\n",
    "print(f'min: {min_val}, max: {max_val}')"
   ]
  },
  {
   "cell_type": "code",
   "execution_count": 21,
   "metadata": {},
   "outputs": [],
   "source": [
    "def normalize_distance(euclidean_distances, min_val, max_val):\n",
    "    all_distance = []\n",
    "\n",
    "    for distance in euclidean_distances:\n",
    "        normalized_distance = (distance - min_val) / (max_val - min_val)\n",
    "\n",
    "        # in case test and train distances are beyond max of train\n",
    "        if normalized_distance > 1:\n",
    "            normalized_distance = 1\n",
    "        elif normalized_distance < 0:\n",
    "            normalized_distance = 0\n",
    "        \n",
    "        all_distance.append(normalized_distance)\n",
    "\n",
    "    return all_distance\n",
    "\n",
    "def reverse_normalized_distance(euclidean_distances, min_val, max_val):\n",
    "    reverse_distance = []\n",
    "    normalized_distances = normalize_distance(euclidean_distances, min_val, max_val)\n",
    "    for distance in normalized_distances:\n",
    "        distance = -distance\n",
    "        reverse_distance.append(distance)\n",
    "\n",
    "    return reverse_distance"
   ]
  },
  {
   "cell_type": "code",
   "execution_count": 22,
   "metadata": {},
   "outputs": [],
   "source": [
    "# normalized_positive_distances = reverse_normalized_distance(positive_distance)\n",
    "# normalized_negative_distances = reverse_normalized_distance(negative_distance)"
   ]
  },
  {
   "cell_type": "code",
   "execution_count": 23,
   "metadata": {},
   "outputs": [],
   "source": [
    "normalized_test_euclidean_distance = reverse_normalized_distance(flat_test_distances, min_val, max_val)\n",
    "normalized_train_euclidean_distance = reverse_normalized_distance(flat_train_distances, min_val, max_val)\n",
    "normalized_validation_euclidean_distance = reverse_normalized_distance(flat_validation_distances, min_val, max_val)"
   ]
  },
  {
   "cell_type": "code",
   "execution_count": 24,
   "metadata": {},
   "outputs": [
    {
     "name": "stdout",
     "output_type": "stream",
     "text": [
      "[-0.08085417, -0.06569705, -0.09701667, -0.07149629, -0.07643175, -0.22960313, -0.23456123, -0.11341006, -0.057328008, -0.110843316, -0.14047268, -0.13809359, -0.24201529, -0.3195245, -0.29441488, -0.21309696, -0.25741458, -0.31670764, -0.18441135, -0.27683508, -0.38786086, -0.3811294, -0.31588188, -0.15871334, -0.10500202, -0.14244309, -0.06055955, -0.14275342, -0.34921825, -0.143714, -0.32164583, -0.19192253, -0.11081559, -0.14370507, -0.10320441, -0.09496174, -0.3546075, -0.30038682, -0.3115138, -0.073590636, -0.111874364, -0.2368225, -0.10212903, -0.11015318, -0.5288945, -0.3050386, -0.3337555, -0.089949064, -0.022055184, -0.042003885, -0.044184826, -0.019861078, -0.28287533, -0.20471127, -0.1925479, -0.12828729, -0.049652576, -0.06224075, -0.35790393, -0.26225886, -0.22076073, -0.08670854, -0.10838071, -0.07648687, -0.07300819, -0.050206497, -0.35126808, -0.25767076, -0.22387573, -0.27767694, -0.12317788, -0.12071394, -0.09396497, -0.073588364, -0.09029984, -0.23329554, -0.13993862, -0.21113816, -0.16641349, -0.12735188, -0.087451175, -0.18302631, -0.16355814, -0.24077836, -0.17311445, -0.2368713, -0.18897457, -0.13724889, -0.0979412, -0.12447947, -0.3859634, -0.36296424, -0.3223152, -0.07601515, -0.078930944, -0.04691354, -0.14879186, -0.117375866, -0.25674105, -0.05096732, -0.027840069, -0.07245466, -0.35370353, -0.29960874, -0.9156581, -0.076663956, -0.040959414, -0.06358123, -0.28335756, -0.18557294, -0.22625704, -0.22594664, -0.041919485, -0.00077489007, -0.0030711624, -0.17347462, -0.15546589, -0.22842662, -0.038329445, -0.06445307, -0.04526291, -0.25693622, -0.3815993, -0.27694774, -0.16868035, -0.07799258, -0.07437689, -0.12847471, -0.302235, -0.3220261, -0.043900207, -0.043644022, -0.06608595, -0.22284617, -0.20700562, -0.20808303, -0.2582383, -0.14696251, -0.24051127, -0.48377082, -0.4653267, -0.07233204, -0.06624126, -0.12297052, -0.23461026, -0.20251015, -0.30865604, -0.070905, -0.104145765, -0.10194909, -0.15556447, -0.20940225, -0.049247593, -0.07012908, -0.115815505, -0.036471628, -0.14677145, -0.10803673, -0.10756626, -0.14014335, -0.1237881, -0.33685157, -0.22522111, -0.23139156, -0.15899445, -0.18252599, -0.2108659, -0.41411212, -0.17012125, -0.3936816, -0.10845776, -0.1407019, -0.07036831, -0.3203566, -0.26199278, -0.12249442, -0.11786646, -0.21903335, -0.25655153, -0.30413488, -0.3142348, -0.13054341, -0.11396238, -0.114092976, -0.28629905, -0.22248952, -0.385156, -0.27419594, -0.061770678, -0.089859284, -0.107094, -0.41063905, -0.18318667, -0.29121262, -0.116095036, -0.20124829, -0.084771104, -0.215749, -0.21070957, -0.16200155, -0.10769033, -0.07337027, -0.06941379, -0.33318573, -0.20153883, -0.31263125, -0.107245125, -0.19196631, -0.1029663, -0.26180935, -0.26349837, -0.36990657, -0.22574723, -0.16969182, -0.15117417, -0.082954, -0.36343315, -0.17313625, -0.2601103, -0.03411155, -0.13292494, -0.22499628, -0.22406085, -0.2594653, -0.28856358, -0.096737444, -0.024752272, -0.08976954, -0.12974319, -0.19791883, -0.122052446, -0.092074394, -0.054218408, -0.36429378, -0.3257288, -0.37249124, -0.018730015, -0.04202488, -0.046294987, -0.31899422, -0.08952583, -0.29212013, -0.104981855, -0.050909262, -0.16626239, -0.35274068, -0.34901154, -0.3721016, -0.091127895, -0.16070408, -0.18742558, -0.453961, -0.42254102, -0.1812969, -0.11423946, -0.11532309, -0.023552349, -0.28992105, -0.35635304, -0.38521802, -0.049956337, -0.08119813, -0.0731024, -0.2854035, -0.11979065, -0.18404055, -0.15734453, -0.07902105, -0.10183365, -0.2531877, -0.16869107, -0.15915985, -0.090214446, -0.07941301, -0.020450667, -0.09196228, -0.11946105, -0.04304472, -0.09394321, -0.08873361, -0.14644495, -0.32411715, -0.15970097, -0.032851715, -0.038277227, -0.057716444, -0.22769068, -0.3100898, -0.16769256, -0.12093615, -0.07842355, -0.0697854, -0.35780135, -0.30654472, -0.042999666, -0.04487726, -0.06552951, -0.27207524, -0.2603537, -0.21187557, -0.23601653, -0.08183409, -0.13455272, -0.13527131, -0.20448482, -0.14547199, -0.216179, -0.16849174, -0.17596874, -0.15674375, -0.14313482, -0.39415845, -0.42683932, -0.2362073, -0.2838492, -0.15031601, -0.08095315, -0.06285417, -0.1486023, -0.41682902, -0.3770443, -0.040751424, -0.0081875, -0.052053057, -0.07849295, -0.17872095, -0.04217721, -0.076935455, -0.10278779, -0.29621026, -0.28045762, -0.17531063, -0.08257377, -0.10367304, -0.06632694, -0.3095363, -0.30826324, -0.30585614, -0.36431924, -0.059413973, -0.08388547, -0.08738689, -0.14676417, -0.16596992, -0.12494431, -0.057645414, -0.14095046, -0.27394947, -0.26202983, -0.3902131, -0.19464035, -0.1672807, -0.08845825, -0.34549788, -0.17852095, -0.48688185, -0.09637491, -0.054599606, -0.06434511, -0.23042017, -0.41980132, -0.50986034, -0.057277594, -0.11700241, -0.12448435, -0.19815241, -0.20195064, -0.1657403, -0.11116603, -0.06750576, -0.047027092, -0.12603042, -0.2370906, -0.047669686, -0.08800455, -0.09464187, -0.23524418, -0.56777024, -0.09674739, -0.13106357, -0.06561983, -0.16544816, -0.25922108, -0.22863187, -0.36847976, -0.08564889, -0.06109824, -0.0302861, -0.24960946, -0.20002735, -0.088232264, -0.10478893, -0.10563188, -0.26943603, -0.2751367, -0.06367536, -0.09122314, -0.049118638, -0.32619068, -0.1870237, -0.309073]\n"
     ]
    }
   ],
   "source": [
    "print(normalized_test_euclidean_distance)"
   ]
  },
  {
   "cell_type": "markdown",
   "metadata": {},
   "source": [
    "# 3. ROC Curve"
   ]
  },
  {
   "cell_type": "code",
   "execution_count": 25,
   "metadata": {},
   "outputs": [],
   "source": [
    "from sklearn.metrics import roc_curve, auc\n",
    "import matplotlib.pyplot as plt\n",
    "from matplotlib.ticker import MultipleLocator"
   ]
  },
  {
   "cell_type": "code",
   "execution_count": 26,
   "metadata": {},
   "outputs": [
    {
     "data": {
      "image/png": "[encoded data removed]",
      "text/plain": [
       "<Figure size 800x800 with 1 Axes>"
      ]
     },
     "metadata": {},
     "output_type": "display_data"
    }
   ],
   "source": [
    "# Flatten the lists of labels\n",
    "flat_test_labels = [item for sublist in test_euclidean_actual_labels for item in sublist]\n",
    "flat_train_labels = [item for sublist in train_euclidean_actual_labels for item in sublist]\n",
    "flat_validation_labels = [item for sublist in validation_euclidean_actual_labels for item in sublist]\n",
    "\n",
    "# Calculate ROC curve\n",
    "fpr_test, tpr_test, thresholds_test = roc_curve(flat_test_labels, normalized_test_euclidean_distance, drop_intermediate=False)\n",
    "roc_auc_test = auc(fpr_test, tpr_test)\n",
    "fpr_train, tpr_train, thresholds_train = roc_curve(flat_train_labels, normalized_train_euclidean_distance, drop_intermediate=False)\n",
    "roc_auc_train = auc(fpr_train, tpr_train)\n",
    "fpr_validation, tpr_validation, thresholds_validation = roc_curve(flat_validation_labels, normalized_validation_euclidean_distance, drop_intermediate=False)\n",
    "roc_auc_validation = auc(fpr_validation, tpr_validation)\n",
    "\n",
    "# Plot ROC curve\n",
    "plt.figure(figsize=(8, 8))\n",
    "\n",
    "plt.plot(fpr_train, tpr_train, color='darkseagreen', lw=2, label=f'Train AUC = {roc_auc_train:.5f}')\n",
    "plt.plot(fpr_validation, tpr_validation, color='steelblue', lw=2, label=f'Validation AUC = {roc_auc_validation:.5f}')\n",
    "plt.plot(fpr_test, tpr_test, color='peru', lw=2, label=f'Test AUC = {roc_auc_test:.5f}')\n",
    "\n",
    "plt.plot([0, 1], [0, 1], color='navy', lw=2, linestyle='--')\n",
    "plt.xlabel('False Positive Rate')\n",
    "plt.ylabel('True Positive Rate')\n",
    "plt.title('ROC Curves - Euclidean Distance')\n",
    "plt.legend(loc='lower right')\n",
    "plt.show()"
   ]
  },
  {
   "cell_type": "code",
   "execution_count": 27,
   "metadata": {},
   "outputs": [
    {
     "name": "stdout",
     "output_type": "stream",
     "text": [
      "[0.         0.00471698 0.00943396 0.01415094 0.01886792 0.02358491\n",
      " 0.02830189 0.03301887 0.03773585 0.04245283 0.04716981 0.05188679\n",
      " 0.05660377 0.06132075 0.06132075 0.06603774 0.07075472 0.0754717\n",
      " 0.08018868 0.08490566 0.08962264 0.09433962 0.0990566  0.10377358\n",
      " 0.10849057 0.11320755 0.11792453 0.12264151 0.12735849 0.13207547\n",
      " 0.13679245 0.14150943 0.14622642 0.1509434  0.15566038 0.16037736\n",
      " 0.16509434 0.16981132 0.1745283  0.17924528 0.18396226 0.18867925\n",
      " 0.19339623 0.19811321 0.20283019 0.20754717 0.21226415 0.21698113\n",
      " 0.22169811 0.22641509 0.23113208 0.23584906 0.24056604 0.24528302\n",
      " 0.25       0.25471698 0.25943396 0.26415094 0.26886792 0.27358491\n",
      " 0.27830189 0.28301887 0.28773585 0.29245283 0.29716981 0.30188679\n",
      " 0.30660377 0.31132075 0.31603774 0.32075472 0.3254717  0.33018868\n",
      " 0.33490566 0.33962264 0.34433962 0.3490566  0.35377358 0.35849057\n",
      " 0.36320755 0.36792453 0.37264151 0.37735849 0.38207547 0.38679245\n",
      " 0.39150943 0.39622642 0.39622642 0.4009434  0.40566038 0.41037736\n",
      " 0.41509434 0.41981132 0.4245283  0.42924528 0.43396226 0.43867925\n",
      " 0.44339623 0.44811321 0.45283019 0.45754717 0.46226415 0.46698113\n",
      " 0.47169811 0.47641509 0.48113208 0.48584906 0.48584906 0.49056604\n",
      " 0.49528302 0.5        0.50471698 0.50943396 0.51415094 0.51886792\n",
      " 0.51886792 0.52358491 0.52830189 0.53301887 0.53773585 0.54245283\n",
      " 0.54716981 0.55188679 0.55660377 0.56132075 0.56603774 0.57075472\n",
      " 0.5754717  0.58018868 0.58490566 0.58962264 0.59433962 0.5990566\n",
      " 0.60377358 0.60849057 0.61320755 0.61792453 0.62264151 0.62735849\n",
      " 0.63207547 0.63679245 0.64150943 0.64150943 0.64622642 0.6509434\n",
      " 0.65566038 0.66037736 0.66509434 0.66981132 0.6745283  0.67924528\n",
      " 0.68396226 0.68867925 0.69339623 0.69811321 0.70283019 0.70754717\n",
      " 0.71226415 0.71226415 0.71698113 0.71698113 0.71698113 0.72169811\n",
      " 0.72641509 0.73113208 0.73584906 0.74056604 0.74528302 0.75\n",
      " 0.75471698 0.75943396 0.76415094 0.76415094 0.76886792 0.77358491\n",
      " 0.77830189 0.77830189 0.78301887 0.78773585 0.79245283 0.79716981\n",
      " 0.80188679 0.80660377 0.81132075 0.81132075 0.81603774 0.82075472\n",
      " 0.8254717  0.83018868 0.83490566 0.83962264 0.84433962 0.8490566\n",
      " 0.8490566  0.8490566  0.8490566  0.8490566  0.8490566  0.85377358\n",
      " 0.85377358 0.85377358 0.85849057 0.86320755 0.86320755 0.86320755\n",
      " 0.86792453 0.87264151 0.87735849 0.88207547 0.88207547 0.88207547\n",
      " 0.88679245 0.88679245 0.89150943 0.89150943 0.89150943 0.89150943\n",
      " 0.89622642 0.9009434  0.90566038 0.90566038 0.90566038 0.90566038\n",
      " 0.90566038 0.91037736 0.91037736 0.91037736 0.91037736 0.91037736\n",
      " 0.91037736 0.91509434 0.91509434 0.91509434 0.91509434 0.91981132\n",
      " 0.9245283  0.9245283  0.9245283  0.92924528 0.92924528 0.92924528\n",
      " 0.93396226 0.93396226 0.93867925 0.94339623 0.94339623 0.94811321\n",
      " 0.94811321 0.94811321 0.94811321 0.95283019 0.95283019 0.95283019\n",
      " 0.95283019 0.95283019 0.95283019 0.95283019 0.95283019 0.95283019\n",
      " 0.95283019 0.95754717 0.95754717 0.95754717 0.96226415 0.96226415\n",
      " 0.96226415 0.96698113 0.96698113 0.96698113 0.96698113 0.96698113\n",
      " 0.96698113 0.97169811 0.97169811 0.97169811 0.97169811 0.97169811\n",
      " 0.97169811 0.97169811 0.97169811 0.97169811 0.97169811 0.97169811\n",
      " 0.97169811 0.97169811 0.97169811 0.97169811 0.97169811 0.97169811\n",
      " 0.97641509 0.97641509 0.97641509 0.98113208 0.98113208 0.98113208\n",
      " 0.98113208 0.98113208 0.98113208 0.98113208 0.98113208 0.98584906\n",
      " 0.98584906 0.99056604 0.99056604 0.99056604 0.99056604 0.99056604\n",
      " 0.99056604 0.99056604 0.99056604 0.99056604 0.99056604 0.99056604\n",
      " 0.99056604 0.99056604 0.99056604 0.99056604 0.99528302 0.99528302\n",
      " 0.99528302 0.99528302 0.99528302 0.99528302 0.99528302 0.99528302\n",
      " 0.99528302 0.99528302 0.99528302 0.99528302 0.99528302 0.99528302\n",
      " 0.99528302 0.99528302 0.99528302 0.99528302 0.99528302 0.99528302\n",
      " 0.99528302 0.99528302 0.99528302 0.99528302 0.99528302 0.99528302\n",
      " 0.99528302 0.99528302 0.99528302 0.99528302 0.99528302 1.\n",
      " 1.         1.         1.         1.         1.         1.\n",
      " 1.         1.         1.         1.         1.         1.\n",
      " 1.         1.         1.         1.         1.         1.\n",
      " 1.         1.         1.         1.         1.         1.\n",
      " 1.         1.         1.         1.         1.         1.\n",
      " 1.         1.         1.         1.         1.         1.\n",
      " 1.         1.         1.         1.         1.         1.\n",
      " 1.         1.         1.         1.         1.         1.\n",
      " 1.         1.         1.         1.         1.         1.        ]\n"
     ]
    }
   ],
   "source": [
    "print(tpr_test)"
   ]
  },
  {
   "cell_type": "code",
   "execution_count": 28,
   "metadata": {},
   "outputs": [
    {
     "name": "stdout",
     "output_type": "stream",
     "text": [
      "[0.         0.         0.         0.         0.         0.\n",
      " 0.         0.         0.         0.         0.         0.\n",
      " 0.         0.         0.00529101 0.00529101 0.00529101 0.00529101\n",
      " 0.00529101 0.00529101 0.00529101 0.00529101 0.00529101 0.00529101\n",
      " 0.00529101 0.00529101 0.00529101 0.00529101 0.00529101 0.00529101\n",
      " 0.00529101 0.00529101 0.00529101 0.00529101 0.00529101 0.00529101\n",
      " 0.00529101 0.00529101 0.00529101 0.00529101 0.00529101 0.00529101\n",
      " 0.00529101 0.00529101 0.00529101 0.00529101 0.00529101 0.00529101\n",
      " 0.00529101 0.00529101 0.00529101 0.00529101 0.00529101 0.00529101\n",
      " 0.00529101 0.00529101 0.00529101 0.00529101 0.00529101 0.00529101\n",
      " 0.00529101 0.00529101 0.00529101 0.00529101 0.00529101 0.00529101\n",
      " 0.00529101 0.00529101 0.00529101 0.00529101 0.00529101 0.00529101\n",
      " 0.00529101 0.00529101 0.00529101 0.00529101 0.00529101 0.00529101\n",
      " 0.00529101 0.00529101 0.00529101 0.00529101 0.00529101 0.00529101\n",
      " 0.00529101 0.00529101 0.01058201 0.01058201 0.01058201 0.01058201\n",
      " 0.01058201 0.01058201 0.01058201 0.01058201 0.01058201 0.01058201\n",
      " 0.01058201 0.01058201 0.01058201 0.01058201 0.01058201 0.01058201\n",
      " 0.01058201 0.01058201 0.01058201 0.01058201 0.01587302 0.01587302\n",
      " 0.01587302 0.01587302 0.01587302 0.01587302 0.01587302 0.01587302\n",
      " 0.02116402 0.02116402 0.02116402 0.02116402 0.02116402 0.02116402\n",
      " 0.02116402 0.02116402 0.02116402 0.02116402 0.02116402 0.02116402\n",
      " 0.02116402 0.02116402 0.02116402 0.02116402 0.02116402 0.02116402\n",
      " 0.02116402 0.02116402 0.02116402 0.02116402 0.02116402 0.02116402\n",
      " 0.02116402 0.02116402 0.02116402 0.02645503 0.02645503 0.02645503\n",
      " 0.02645503 0.02645503 0.02645503 0.02645503 0.02645503 0.02645503\n",
      " 0.02645503 0.02645503 0.02645503 0.02645503 0.02645503 0.02645503\n",
      " 0.02645503 0.03174603 0.03174603 0.03703704 0.04232804 0.04232804\n",
      " 0.04232804 0.04232804 0.04232804 0.04232804 0.04232804 0.04232804\n",
      " 0.04232804 0.04232804 0.04232804 0.04761905 0.04761905 0.04761905\n",
      " 0.04761905 0.05291005 0.05291005 0.05291005 0.05291005 0.05291005\n",
      " 0.05291005 0.05291005 0.05291005 0.05820106 0.05820106 0.05820106\n",
      " 0.05820106 0.05820106 0.05820106 0.05820106 0.05820106 0.05820106\n",
      " 0.06349206 0.06878307 0.07407407 0.07936508 0.08465608 0.08465608\n",
      " 0.08994709 0.0952381  0.0952381  0.0952381  0.1005291  0.10582011\n",
      " 0.10582011 0.10582011 0.10582011 0.10582011 0.11111111 0.11640212\n",
      " 0.11640212 0.12169312 0.12169312 0.12698413 0.13227513 0.13756614\n",
      " 0.13756614 0.13756614 0.13756614 0.14285714 0.14814815 0.15343915\n",
      " 0.15873016 0.15873016 0.16402116 0.16931217 0.17460317 0.17989418\n",
      " 0.18518519 0.18518519 0.19047619 0.1957672  0.2010582  0.2010582\n",
      " 0.2010582  0.20634921 0.21164021 0.21164021 0.21693122 0.22222222\n",
      " 0.22222222 0.22751323 0.22751323 0.22751323 0.23280423 0.23280423\n",
      " 0.23809524 0.24338624 0.24867725 0.24867725 0.25396825 0.25925926\n",
      " 0.26455026 0.26984127 0.27513228 0.28042328 0.28571429 0.29100529\n",
      " 0.2962963  0.2962963  0.3015873  0.30687831 0.30687831 0.31216931\n",
      " 0.31746032 0.31746032 0.32275132 0.32804233 0.33333333 0.33862434\n",
      " 0.34391534 0.34391534 0.34920635 0.35449735 0.35978836 0.36507937\n",
      " 0.37037037 0.37566138 0.38095238 0.38624339 0.39153439 0.3968254\n",
      " 0.4021164  0.40740741 0.41269841 0.41798942 0.42328042 0.42857143\n",
      " 0.42857143 0.43386243 0.43915344 0.43915344 0.44444444 0.44973545\n",
      " 0.45502646 0.46031746 0.46560847 0.47089947 0.47619048 0.47619048\n",
      " 0.48148148 0.48148148 0.48677249 0.49206349 0.4973545  0.5026455\n",
      " 0.50793651 0.51322751 0.51851852 0.52380952 0.52910053 0.53439153\n",
      " 0.53968254 0.54497354 0.55026455 0.55555556 0.55555556 0.56084656\n",
      " 0.56613757 0.57142857 0.57671958 0.58201058 0.58730159 0.59259259\n",
      " 0.5978836  0.6031746  0.60846561 0.61375661 0.61904762 0.62433862\n",
      " 0.62962963 0.63492063 0.64021164 0.64550265 0.65079365 0.65608466\n",
      " 0.66137566 0.66666667 0.67195767 0.67724868 0.68253968 0.68783069\n",
      " 0.69312169 0.6984127  0.7037037  0.70899471 0.71428571 0.71428571\n",
      " 0.71957672 0.72486772 0.73015873 0.73544974 0.74074074 0.74603175\n",
      " 0.75132275 0.75661376 0.76190476 0.76719577 0.77248677 0.77777778\n",
      " 0.78306878 0.78835979 0.79365079 0.7989418  0.8042328  0.80952381\n",
      " 0.81481481 0.82010582 0.82539683 0.83068783 0.83597884 0.84126984\n",
      " 0.84656085 0.85185185 0.85714286 0.86243386 0.86772487 0.87301587\n",
      " 0.87830688 0.88359788 0.88888889 0.89417989 0.8994709  0.9047619\n",
      " 0.91005291 0.91534392 0.92063492 0.92592593 0.93121693 0.93650794\n",
      " 0.94179894 0.94708995 0.95238095 0.95767196 0.96296296 0.96825397\n",
      " 0.97354497 0.97883598 0.98412698 0.98941799 0.99470899 1.        ]\n"
     ]
    }
   ],
   "source": [
    "print(fpr_test)"
   ]
  },
  {
   "cell_type": "code",
   "execution_count": 29,
   "metadata": {},
   "outputs": [],
   "source": [
    "def find_tpr_at_fpr(fpr, tpr, target_fpr):\n",
    "    return np.interp(target_fpr, fpr, tpr)"
   ]
  },
  {
   "cell_type": "code",
   "execution_count": 30,
   "metadata": {},
   "outputs": [],
   "source": [
    "target_fprs = [0.1, 0.01, 0.001]\n",
    "tpr_at_target_fpr_train = [find_tpr_at_fpr(fpr_train, tpr_train, fpr) for fpr in target_fprs]\n",
    "tpr_at_target_fpr_test = [find_tpr_at_fpr(fpr_test, tpr_test, fpr) for fpr in target_fprs]\n",
    "tpr_at_target_fpr_val = [find_tpr_at_fpr(fpr_validation, tpr_validation, fpr) for fpr in target_fprs]"
   ]
  },
  {
   "cell_type": "code",
   "execution_count": 31,
   "metadata": {},
   "outputs": [
    {
     "name": "stdout",
     "output_type": "stream",
     "text": [
      "Train\n",
      "TPR at FPR 0.100: 0.924\n",
      "TPR at FPR 0.010: 0.544\n",
      "TPR at FPR 0.001: 0.380\n",
      "             AUC: 0.9700255451645086\n",
      "Validation\n",
      "TPR at FPR 0.100: 0.802\n",
      "TPR at FPR 0.010: 0.505\n",
      "TPR at FPR 0.001: 0.415\n",
      "             AUC: 0.9393907452303152\n",
      "Test\n",
      "TPR at FPR 0.100: 0.863\n",
      "TPR at FPR 0.010: 0.396\n",
      "TPR at FPR 0.001: 0.061\n",
      "             AUC: 0.9486123589897175\n"
     ]
    }
   ],
   "source": [
    "print(\"Train\")\n",
    "for tpr, fpr in zip(tpr_at_target_fpr_train, target_fprs):\n",
    "    print(f'TPR at FPR {fpr:.3f}: {tpr:.3f}')\n",
    "print(f'             AUC: {roc_auc_train}')\n",
    "\n",
    "print(\"Validation\")\n",
    "for tpr, fpr in zip(tpr_at_target_fpr_val, target_fprs):\n",
    "    print(f'TPR at FPR {fpr:.3f}: {tpr:.3f}')\n",
    "print(f'             AUC: {roc_auc_validation}')\n",
    "\n",
    "print(\"Test\")\n",
    "for tpr, fpr in zip(tpr_at_target_fpr_test, target_fprs):\n",
    "    print(f'TPR at FPR {fpr:.3f}: {tpr:.3f}')\n",
    "print(f'             AUC: {roc_auc_test}')\n"
   ]
  }
 ],
 "metadata": {
  "kernelspec": {
   "display_name": "Python 3",
   "language": "python",
   "name": "python3"
  },
  "language_info": {
   "codemirror_mode": {
    "name": "ipython",
    "version": 3
   },
   "file_extension": ".py",
   "mimetype": "text/x-python",
   "name": "python",
   "nbconvert_exporter": "python",
   "pygments_lexer": "ipython3",
   "version": "3.11.1"
  }
 },
 "nbformat": 4,
 "nbformat_minor": 2
}
