{
 "cells": [
  {
   "cell_type": "code",
   "execution_count": 1,
   "metadata": {},
   "outputs": [],
   "source": [
    "import numpy as np"
   ]
  },
  {
   "cell_type": "markdown",
   "metadata": {},
   "source": [
    "### Load Features, Names, and Labels"
   ]
  },
  {
   "cell_type": "code",
   "execution_count": 2,
   "metadata": {},
   "outputs": [],
   "source": [
    "train_features_path =  \"../feature/ICDAR-feature/train_features.npy\"\n",
    "train_names_path = \"../feature/ICDAR-feature/train_names.npy\"\n",
    "train_labels_path = \"../feature/ICDAR-feature/train_labels.npy\"\n",
    "\n",
    "test_features_path = \"../feature/ICDAR-feature/test_features.npy\"\n",
    "test_names_path = \"../feature/ICDAR-feature/test_names.npy\"\n",
    "test_labels_path = \"../feature/ICDAR-feature/test_labels.npy\"\n",
    "\n",
    "validation_features_path = \"../feature/ICDAR-feature/validation_features.npy\"\n",
    "validation_names_path = \"../feature/ICDAR-feature/validation_names.npy\"\n",
    "validation_labels_path = \"../feature/ICDAR-feature/validation_labels.npy\""
   ]
  },
  {
   "cell_type": "code",
   "execution_count": 3,
   "metadata": {},
   "outputs": [],
   "source": [
    "train_features = np.load(train_features_path)\n",
    "train_names = np.load(train_names_path)\n",
    "train_labels = np.load(train_labels_path)\n",
    "\n",
    "test_features = np.load(test_features_path)\n",
    "test_names = np.load(test_names_path)\n",
    "test_labels = np.load(test_labels_path)\n",
    "\n",
    "validation_features = np.load(validation_features_path)\n",
    "validation_names = np.load(validation_names_path)\n",
    "validation_labels = np.load(validation_labels_path)"
   ]
  },
  {
   "cell_type": "code",
   "execution_count": 4,
   "metadata": {},
   "outputs": [
    {
     "name": "stdout",
     "output_type": "stream",
     "text": [
      "train_features shape :  (857, 512)\n",
      "test_features shape :  (401, 512)\n",
      "validation_features shape :  (391, 512)\n"
     ]
    }
   ],
   "source": [
    "print(\"train_features shape : \", train_features.shape)\n",
    "print(\"test_features shape : \", test_features.shape)\n",
    "print(\"validation_features shape : \", validation_features.shape)"
   ]
  },
  {
   "cell_type": "markdown",
   "metadata": {},
   "source": [
    "### Feature Gallery"
   ]
  },
  {
   "cell_type": "code",
   "execution_count": 5,
   "metadata": {},
   "outputs": [],
   "source": [
    "# Feature Gallery dilakukan untuk setiap kelas / nama seperti \"001\", \"002\", \"003\", dst dengan cara mengambil data training positive dan mengambil mean / rata-rata dari data tersebut\n",
    "def create_feature_gallery(train_features, train_names, train_labels):\n",
    "    gallery_feature = []\n",
    "    gallery_name = []\n",
    "\n",
    "    unique_names = set(train_names.flatten())\n",
    "    sorted_names = sorted(unique_names)\n",
    "\n",
    "    for name in sorted_names:\n",
    "        # print(name)\n",
    "        # print(name)\n",
    "        name_features = []\n",
    "\n",
    "        for feature, feature_name, label in zip(train_features, train_names, train_labels):\n",
    "            # print(feature, feature_name, label)\n",
    "            if name in feature_name and label == 1:\n",
    "                name_features.append(feature)\n",
    "\n",
    "        if name_features:\n",
    "            # print(name_features)\n",
    "            average_feature = np.mean(name_features, axis=0)\n",
    "            gallery_feature.append(average_feature)\n",
    "            gallery_name.append(name)\n",
    "\n",
    "    return gallery_feature, gallery_name"
   ]
  },
  {
   "cell_type": "code",
   "execution_count": 6,
   "metadata": {},
   "outputs": [],
   "source": [
    "gallery_features, gallery_names = create_feature_gallery(train_features, train_names, train_labels)"
   ]
  },
  {
   "cell_type": "code",
   "execution_count": 7,
   "metadata": {},
   "outputs": [],
   "source": [
    "gallery_feature_path = \"../feature/ICDAR-feature/gallery_features.npy\"\n",
    "gallery_name_path = \"../feature/ICDAR-feature/gallery_names.npy\""
   ]
  },
  {
   "cell_type": "code",
   "execution_count": 8,
   "metadata": {},
   "outputs": [],
   "source": [
    "np.save(gallery_feature_path, gallery_features)\n",
    "np.save(gallery_name_path, gallery_names)"
   ]
  },
  {
   "cell_type": "code",
   "execution_count": 9,
   "metadata": {},
   "outputs": [],
   "source": [
    "gallery_features = np.load(gallery_feature_path)\n",
    "gallery_names = np.load(gallery_name_path)"
   ]
  },
  {
   "cell_type": "code",
   "execution_count": 10,
   "metadata": {},
   "outputs": [
    {
     "name": "stdout",
     "output_type": "stream",
     "text": [
      "gallery features shape :  (64, 512)\n"
     ]
    }
   ],
   "source": [
    "gallery_features_array = np.array(gallery_features)\n",
    "print(\"gallery features shape : \", gallery_features_array.shape)"
   ]
  },
  {
   "cell_type": "markdown",
   "metadata": {},
   "source": [
    "### Euclidean Distance"
   ]
  },
  {
   "cell_type": "code",
   "execution_count": 11,
   "metadata": {},
   "outputs": [],
   "source": [
    "def euclidean_distance(feature_vector1, feature_vector2):\n",
    "    return np.sqrt(np.sum((feature_vector1 - feature_vector2)**2))"
   ]
  },
  {
   "cell_type": "code",
   "execution_count": 12,
   "metadata": {},
   "outputs": [],
   "source": [
    "def find_euclidean_distance(test_features, test_names, test_labels, gallery_features, gallery_names):\n",
    "    euclidean_distances = []\n",
    "    euclidean_names = []\n",
    "    euclidean_actual_labels = []\n",
    "\n",
    "    for gallery_feature, gallery_name in zip(gallery_features, gallery_names):\n",
    "        curr_euclid_name = gallery_name\n",
    "        curr_euclid_feature = []\n",
    "        curr_euclid_label = []\n",
    "        curr_euclid_dist = []\n",
    "        for feature, name, label in zip(test_features, test_names, test_labels):\n",
    "            if gallery_name in name:\n",
    "                curr_euclid_feature.append(feature)\n",
    "                curr_euclid_label.append(label)\n",
    "        \n",
    "        for feature in curr_euclid_feature:\n",
    "            distance = euclidean_distance(feature, gallery_feature)\n",
    "            curr_euclid_dist.append(distance)\n",
    "\n",
    "        euclidean_distances.append(curr_euclid_dist)\n",
    "        euclidean_names.append(curr_euclid_name)\n",
    "        euclidean_actual_labels.append(curr_euclid_label)\n",
    "        \n",
    "    return euclidean_distances, euclidean_names, euclidean_actual_labels"
   ]
  },
  {
   "cell_type": "code",
   "execution_count": 13,
   "metadata": {},
   "outputs": [],
   "source": [
    "test_euclidean_distances, test_euclidean_names, test_euclidean_actual_labels = find_euclidean_distance(test_features, test_names, test_labels, gallery_features, gallery_names)\n",
    "train_euclidean_distances, train_euclidean_names, train_euclidean_actual_labels = find_euclidean_distance(train_features, train_names, train_labels, gallery_features, gallery_names)\n",
    "validation_euclidean_distances, validation_euclidean_names, validation_euclidean_actual_labels = find_euclidean_distance(validation_features, validation_names, validation_labels, gallery_features, gallery_names)"
   ]
  },
  {
   "cell_type": "markdown",
   "metadata": {},
   "source": [
    "### Split Euclidean Distance to Positive and Negative for Future Use (If needed)"
   ]
  },
  {
   "cell_type": "code",
   "execution_count": 14,
   "metadata": {},
   "outputs": [],
   "source": [
    "def split_euc_dist(euclidean_distances, euclidean_names, euclidean_actual_labels):\n",
    "    positive_distance = []\n",
    "    positive_name = []\n",
    "    positive_label = []\n",
    "    negative_distance = []\n",
    "    negative_name = []\n",
    "    negative_label = []\n",
    "\n",
    "    for euclidean_distance, euclidean_name, euclidean_actual_label in zip(euclidean_distances, euclidean_names, euclidean_actual_labels):\n",
    "        pos_dist = []\n",
    "        neg_dist = []\n",
    "        pos_lab = []\n",
    "        neg_lab = []\n",
    "        for distance, label in zip(euclidean_distance, euclidean_actual_label):\n",
    "            if label == 0:\n",
    "                neg_dist.append(distance)\n",
    "                neg_lab.append(label)\n",
    "            else:\n",
    "                pos_dist.append(distance)\n",
    "                pos_lab.append(label)\n",
    "\n",
    "        positive_distance.append(pos_dist)\n",
    "        positive_name.append(euclidean_name)\n",
    "        positive_label.append(pos_lab)\n",
    "\n",
    "        negative_distance.append(neg_dist)\n",
    "        negative_name.append(euclidean_name)\n",
    "        negative_label.append(neg_lab)\n",
    "        # print(euclidean_distance, euclidean_name, euclidean_actual_label)\n",
    "\n",
    "    return positive_distance, negative_label"
   ]
  },
  {
   "cell_type": "code",
   "execution_count": 15,
   "metadata": {},
   "outputs": [],
   "source": [
    "train_positive_dist, train_negative_dist = split_euc_dist(train_euclidean_distances, train_names, train_euclidean_actual_labels)\n",
    "test_positive_dist, test_negative_dist = split_euc_dist(test_euclidean_distances, test_names, test_euclidean_actual_labels)\n",
    "validation_positive_dist, validation_negative_dist = split_euc_dist(validation_euclidean_distances, validation_names, validation_euclidean_actual_labels)"
   ]
  },
  {
   "cell_type": "code",
   "execution_count": 16,
   "metadata": {},
   "outputs": [
    {
     "name": "stdout",
     "output_type": "stream",
     "text": [
      "Train total : 857\n",
      "  Train pos : 463\n",
      "  Train neg : 394\n",
      " Test total : 401\n",
      "   Test pos : 212\n",
      "   Test neg : 189\n",
      "  Val total : 391\n",
      "    Val pos : 212\n",
      "    Val neg : 179\n"
     ]
    }
   ],
   "source": [
    "flat_train_positive_dist = [item for sublist in train_positive_dist for item in sublist]\n",
    "flat_train_negative_dist = [item for sublist in train_negative_dist for item in sublist]\n",
    "flat_test_positive_dist = [item for sublist in test_positive_dist for item in sublist]\n",
    "flat_test_negative_dist = [item for sublist in test_negative_dist for item in sublist]\n",
    "flat_validation_positive_dist = [item for sublist in validation_positive_dist for item in sublist]\n",
    "flat_validation_negative_dist = [item for sublist in validation_negative_dist for item in sublist]\n",
    "\n",
    "print(f'Train total : {len(flat_train_positive_dist) + len(flat_train_negative_dist)}')\n",
    "print(f'  Train pos : {len(flat_train_positive_dist)}')\n",
    "print(f'  Train neg : {len(flat_train_negative_dist)}')\n",
    "print(f' Test total : {len(flat_test_positive_dist) + len(flat_test_negative_dist)}')\n",
    "print(f'   Test pos : {len(flat_test_positive_dist)}')\n",
    "print(f'   Test neg : {len(flat_test_negative_dist)}')\n",
    "print(f'  Val total : {len(flat_validation_positive_dist) + len(flat_validation_negative_dist)}')\n",
    "print(f'    Val pos : {len(flat_validation_positive_dist)}')\n",
    "print(f'    Val neg : {len(flat_validation_negative_dist)}')"
   ]
  },
  {
   "cell_type": "markdown",
   "metadata": {},
   "source": [
    "### Normalize Euclidean Distance"
   ]
  },
  {
   "cell_type": "code",
   "execution_count": 17,
   "metadata": {},
   "outputs": [],
   "source": [
    "# Flatten the lists of distances\n",
    "flat_test_distances = [item for sublist in test_euclidean_distances for item in sublist]\n",
    "flat_train_distances = [item for sublist in train_euclidean_distances for item in sublist]\n",
    "flat_validation_distances = [item for sublist in validation_euclidean_distances for item in sublist]"
   ]
  },
  {
   "cell_type": "code",
   "execution_count": 18,
   "metadata": {},
   "outputs": [
    {
     "name": "stdout",
     "output_type": "stream",
     "text": [
      "[13.6049595, 21.932959, 21.496456, 15.307754, 17.360264, 17.419003, 17.911547, 15.00951, 17.355019, 16.276554, 18.273987, 12.368687, 18.675575, 20.502789, 28.272856, 34.732773, 24.176556, 33.3398, 18.51894, 19.481525, 12.248274, 14.898222, 18.72175, 11.35333, 12.044213, 11.968388, 11.557663, 14.413532, 12.622269, 17.348131, 19.835333, 27.133863, 24.609848, 26.387075, 25.235922, 27.822554, 22.213787, 45.627037, 14.824518, 17.712778, 21.489483, 21.16146, 22.580687, 23.389305, 18.937662, 28.622076, 28.459631, 32.85015, 30.861513, 23.943705, 32.683014, 27.106833, 57.106064, 52.177784, 32.550224, 42.41868, 44.196136, 30.13137, 24.728722, 22.719225, 16.465508, 21.463211, 14.689658, 15.622107, 18.843342, 19.464495, 18.075893, 21.851465, 22.206976, 25.088398, 23.628038, 23.006983, 25.213789, 43.784546, 33.35936, 27.575056, 33.78753, 33.839516, 19.020607, 18.832644, 23.530853, 21.256655, 19.957914, 20.854757, 18.69372, 19.86964, 19.426579, 15.240164, 24.195028, 18.263596, 22.539003, 21.362715, 33.03097, 31.489809, 39.931515, 27.813768, 28.478376, 34.58128, 19.777143, 22.328215, 15.291112, 15.276845, 21.693352, 17.856728, 15.6206665, 15.022868, 17.650688, 19.718224, 20.11772, 17.113083, 18.410942, 17.742197, 38.68969, 42.159237, 35.21855, 42.86859, 42.61037, 23.618496, 12.474692, 10.987897, 11.322259, 12.94168, 13.9216385, 13.975723, 15.821195, 13.7202635, 16.0112, 12.484558, 14.567088, 21.424849, 13.287885, 11.578655, 30.061928, 23.86873, 29.781303, 29.579111, 30.415594, 32.719658, 15.0665455, 15.363032, 15.806698, 12.497654, 19.392508, 12.575489, 23.313795, 43.472702, 32.869057, 32.47356, 31.378912, 45.735962, 17.38012, 16.400654, 12.177478, 11.762799, 8.604847, 10.220477, 9.272922, 10.985183, 10.297251, 9.575799, 8.381492, 14.897486, 15.660602, 15.770753, 37.125107, 22.5105, 28.312159, 24.77256, 22.94772, 35.91641, 32.625114, 17.945599, 39.144222, 12.674747, 12.843874, 9.599987, 13.768672, 13.650407, 15.931924, 14.756109, 13.4182825, 12.189923, 12.006969, 10.243785, 19.23589, 11.194478, 11.493545, 26.912842, 20.12578, 34.115456, 35.54566, 40.52208, 34.44661, 18.392263, 16.978596, 16.096468, 22.328434, 21.02278, 21.69306, 20.27639, 14.271493, 12.215314, 13.401044, 20.743391, 16.62104, 23.238577, 41.18894, 25.566046, 27.56282, 28.481394, 31.084202, 34.126083, 17.61405, 43.483036, 28.674826, 11.016512, 15.868645, 9.964765, 12.408093, 13.059441, 11.163087, 26.580948, 34.348633, 32.51303, 31.482462, 34.38709, 35.86367, 12.803895, 8.681706, 12.565511, 13.413889, 11.396372, 10.405849, 28.900333, 21.952158, 32.279285, 23.104874, 36.19229, 27.244822, 12.567924, 6.2501497, 10.620666, 7.5361147, 12.726057, 13.305173, 26.840385, 32.611355, 38.678757, 37.871693, 51.05059, 36.20941, 12.71925, 9.277889, 9.672279, 10.91884, 11.350628, 14.093426, 27.466908, 33.39108, 36.92273, 47.289806, 48.624443, 38.357517, 31.530563, 37.45637, 32.066803, 39.11111, 25.554293, 12.396516, 9.08466, 10.308498, 11.969126, 9.08115, 9.908399, 37.545967, 33.026382, 31.222406, 26.327734, 33.869232, 36.24899, 20.760336, 15.39289, 14.516644, 12.123294, 13.137921, 12.227882, 31.507608, 31.25865, 34.83599, 39.40063, 36.34399, 32.20216, 28.963343, 36.148685, 36.223896, 15.933411, 17.50926, 14.101793, 11.187882, 10.617461, 13.243218, 24.175838, 25.33062, 33.117764, 26.672655, 17.207615, 18.44698, 12.315773, 11.992685, 10.758371, 12.90437, 29.10326, 32.485634, 34.83011, 33.596558, 31.766756, 33.130943, 19.873114, 20.371584, 18.624912, 13.964029, 16.550789, 15.850978, 36.538464, 33.528137, 42.09296, 46.912918, 26.47619, 12.512609, 12.79352, 14.171617, 10.7063055, 13.50641, 33.689327, 30.016993, 40.218033, 35.924328, 41.844116, 34.120785, 16.739326, 15.12729, 13.296479, 13.690107, 13.2975445, 13.993699, 42.4122, 28.061443, 43.843803, 44.37317, 12.207917, 9.877776, 10.782069, 12.65262, 11.909443, 20.780073, 21.95064, 22.290506, 25.722898, 17.404879, 25.23976, 27.668589, 12.974274, 14.447624, 10.698712, 11.389206, 16.247402, 13.736321, 25.322208, 28.10584, 29.89432, 22.732101, 35.10536, 35.49324, 18.660109, 19.010721, 16.08113, 15.869295, 23.343811, 20.053411, 26.810913, 23.877432, 30.64825, 21.9812, 42.45757, 28.156538, 16.082827, 18.496336, 12.635523, 19.74535, 16.594679, 20.142296, 36.47935, 37.29736, 28.063824, 44.99873, 15.28076, 22.477236, 16.27998, 10.45362, 19.489582, 15.077851, 36.02157, 35.839973, 51.144817, 37.32836, 48.36051, 35.18756, 16.937536, 15.467331, 14.203612, 18.287174, 12.194939, 15.933678, 33.802223, 35.107185, 24.439121, 31.396887, 30.277714, 28.555046, 40.295746, 32.250973, 33.858654, 17.316664, 16.60476, 19.519148, 17.88143, 13.573988, 22.65238, 32.350468, 42.289917, 41.00978, 42.79656, 37.983017, 40.167534, 17.917381, 17.159433, 17.175121, 16.711657, 18.87706, 17.488354, 51.90247, 36.65994, 35.821102, 43.19247, 31.909187, 45.40902, 14.738672, 22.412043, 16.016392, 14.54284, 12.903721, 18.993643, 32.4531, 26.433664, 47.261887, 39.69611, 50.238457, 42.305622, 15.324543, 15.45216, 13.7031, 14.602999, 14.169779, 12.366322, 28.765995, 42.224052, 47.76199, 30.77816, 44.000782, 41.24792, 30.770521, 41.19711, 30.339844, 15.6685915, 19.386234, 14.353573, 18.805124, 15.466428, 18.02121, 27.443773, 24.098124, 37.717617, 22.646246, 38.71673, 25.063803, 14.71363, 11.298588, 12.237954, 11.18034, 18.508026, 19.153177, 32.078686, 29.562214, 33.655857, 41.796402, 34.05812, 29.361307, 24.093142, 16.684801, 15.975289, 18.180248, 18.68907, 18.30074, 36.758705, 35.911545, 31.984217, 35.443027, 10.178268, 9.511763, 11.137875, 10.706263, 11.712441, 11.01459, 21.885843, 37.477837, 32.29791, 27.846891, 43.687355, 32.294727, 14.055102, 9.003467, 15.495567, 10.992305, 10.951346, 14.770979, 28.436539, 49.730274, 43.00497, 36.398376, 46.991848, 35.980225, 17.666555, 16.30518, 14.380563, 24.286001, 15.985825, 18.11081, 30.396955, 31.38452, 42.414715, 31.636623, 40.59427, 31.874784, 19.073545, 25.04279, 25.996473, 21.39976, 17.432085, 17.40648, 35.71941, 36.96372, 46.844986, 35.395008, 43.30297, 44.284634, 21.597399, 12.703068, 11.712242, 16.429295, 14.359145, 14.726283, 30.22726, 36.809895, 38.468887, 42.609993, 49.398712, 30.4772, 22.02321, 15.078561, 24.131851, 14.421292, 13.146984, 14.135189, 24.559519, 28.292841, 34.07317, 41.25775, 49.24087, 34.893288, 14.916745, 20.462425, 15.944652, 16.008524, 20.820045, 13.2435665, 29.943481, 31.474995, 34.382637, 30.09998, 37.804943, 32.761307, 10.703736, 10.284884, 10.5163555, 11.486413, 11.908826, 15.31789, 27.313593, 27.447865, 34.67199, 31.747456, 15.426519, 21.355906, 11.824049, 12.4622755, 15.337643, 21.744852, 33.283356, 40.59266, 28.533375, 32.183575, 33.915794, 41.430725, 11.78052, 10.983659, 10.176067, 13.499074, 7.873974, 9.506782, 25.278765, 35.926384, 33.641514, 33.719036, 38.564705, 35.508137, 11.344559, 11.222771, 10.816603, 17.891779, 16.73213, 17.562016, 44.733883, 40.74325, 41.151585, 39.7551, 12.630024, 9.406425, 10.808905, 11.337532, 12.467546, 13.875363, 22.579607, 35.63608, 27.798122, 20.73154, 28.453175, 31.130445, 36.48539, 23.484425, 19.627638, 12.263816, 13.645953, 11.984543, 9.200771, 12.085693, 11.36996, 32.1586, 25.78802, 19.788458, 21.484884, 35.756172, 23.158169, 25.528927, 30.465336, 38.827248, 23.927519, 18.781025, 13.483765, 19.492401, 14.98291, 17.74194, 35.72079, 31.817808, 35.191364, 38.865696, 48.164726, 34.064865, 34.56023, 44.1859, 49.06485, 28.21867, 43.354603, 37.12728, 23.741173, 18.169977, 14.539899, 14.695145, 12.847586, 15.078588, 34.188038, 30.94297, 41.85035, 19.300112, 31.573385, 20.14599, 14.843186, 23.582874, 19.947914, 22.009756, 21.521936, 17.04514, 32.429436, 52.99406, 30.692392, 33.014885, 16.581377, 12.359705, 15.601696, 16.49758, 18.363335, 17.899397, 45.821667, 30.861124, 37.139652, 29.109484, 41.95782, 34.721336, 14.764482, 13.279185, 14.673574, 8.282191, 14.397609, 11.027245, 36.49931, 37.84533, 28.06284, 31.675074, 42.515736, 34.441456, 30.631353, 41.292305, 32.096203, 13.042102, 13.49458, 9.8588505, 16.037683, 14.82356, 14.073265, 31.969349, 28.532625, 35.533092, 28.761116, 13.676799, 17.89587, 12.303467, 13.167573, 14.122146, 16.896389, 36.77096, 30.380562, 30.127161, 29.987305, 36.902992, 35.832306, 15.73016, 15.911351, 10.373276, 10.166832, 10.388401, 16.503975, 36.67465, 28.172445, 43.918125, 30.240992, 38.293762, 27.616356, 11.390698, 14.820397, 14.428686, 10.684608, 11.710752, 14.186544, 40.26012, 33.861988, 54.432693, 32.67307, 49.410774, 38.329033, 15.755388, 17.853996, 13.764005, 13.344711, 14.775512, 16.231993, 26.296406, 35.017193, 30.274296, 28.026825, 38.729004, 35.90802, 16.37891, 13.74935, 15.173523, 17.419233, 17.512327, 20.24522, 35.548027, 32.242783, 32.773445, 37.750305, 18.07481, 19.935923, 12.037741, 16.836376, 15.479256, 16.180767, 36.726646, 32.33767, 44.549374, 44.622158, 20.937807, 18.203901, 14.881464, 13.5547285, 21.459799, 19.144676, 36.40425, 26.745693, 32.389496, 40.433735, 28.0005, 43.205734, 36.885864, 36.273067, 36.696762, 19.61762, 15.227245, 16.26324, 17.720615, 15.1935425, 17.066517, 30.849909, 43.712784, 29.489304, 46.533863, 19.843739, 14.226142, 15.324509, 17.443527, 13.310796, 14.713679, 44.595146, 39.740665, 42.46092, 39.973812, 21.513256, 11.786016, 14.870896, 12.037948, 10.261873, 14.0285, 32.163506, 43.365852, 46.78851, 35.326633, 44.41673, 48.673668]\n"
     ]
    }
   ],
   "source": [
    "print(flat_train_distances)"
   ]
  },
  {
   "cell_type": "code",
   "execution_count": 19,
   "metadata": {},
   "outputs": [],
   "source": [
    "def get_min_max(euclidean_distances):\n",
    "    min_distance = min(euclidean_distances)\n",
    "    max_distance = max(euclidean_distances)\n",
    "\n",
    "    return min_distance, max_distance"
   ]
  },
  {
   "cell_type": "code",
   "execution_count": 20,
   "metadata": {},
   "outputs": [
    {
     "name": "stdout",
     "output_type": "stream",
     "text": [
      "min: 6.250149726867676, max: 57.10606384277344\n"
     ]
    }
   ],
   "source": [
    "min_val, max_val = get_min_max(flat_train_distances)\n",
    "print(f'min: {min_val}, max: {max_val}')"
   ]
  },
  {
   "cell_type": "code",
   "execution_count": 21,
   "metadata": {},
   "outputs": [],
   "source": [
    "def normalize_distance(euclidean_distances, min_val, max_val):\n",
    "    all_distance = []\n",
    "\n",
    "    for distance in euclidean_distances:\n",
    "        normalized_distance = (distance - min_val) / (max_val - min_val)\n",
    "\n",
    "        # in case test and train distances are beyond max of train\n",
    "        if normalized_distance > 1:\n",
    "            normalized_distance = 1\n",
    "        elif normalized_distance < 0:\n",
    "            normalized_distance = 0\n",
    "        \n",
    "        all_distance.append(normalized_distance)\n",
    "\n",
    "    return all_distance\n",
    "\n",
    "def reverse_normalized_distance(euclidean_distances, min_val, max_val):\n",
    "    reverse_distance = []\n",
    "    normalized_distances = normalize_distance(euclidean_distances, min_val, max_val)\n",
    "    for distance in normalized_distances:\n",
    "        distance = -distance\n",
    "        reverse_distance.append(distance)\n",
    "\n",
    "    return reverse_distance"
   ]
  },
  {
   "cell_type": "code",
   "execution_count": 22,
   "metadata": {},
   "outputs": [],
   "source": [
    "# normalized_positive_distances = reverse_normalized_distance(positive_distance)\n",
    "# normalized_negative_distances = reverse_normalized_distance(negative_distance)"
   ]
  },
  {
   "cell_type": "code",
   "execution_count": 23,
   "metadata": {},
   "outputs": [],
   "source": [
    "normalized_test_euclidean_distance = reverse_normalized_distance(flat_test_distances, min_val, max_val)\n",
    "normalized_train_euclidean_distance = reverse_normalized_distance(flat_train_distances, min_val, max_val)\n",
    "normalized_validation_euclidean_distance = reverse_normalized_distance(flat_validation_distances, min_val, max_val)"
   ]
  },
  {
   "cell_type": "code",
   "execution_count": 24,
   "metadata": {},
   "outputs": [
    {
     "name": "stdout",
     "output_type": "stream",
     "text": [
      "[-0.2542256, -0.23537022, -0.29414472, -0.15490597, -0.16482513, -0.47296745, -0.43287742, -0.30000266, -0.17319685, -0.18513288, -0.1410424, -0.19797681, -0.8869253, -0.87010527, -0.7749768, -0.51007986, -0.4314125, -0.3772247, -0.41234115, -0.39609873, -0.6457173, -0.5739204, -0.60348904, -0.27834493, -0.28279793, -0.3849205, -0.32266095, -0.44766632, -0.58465177, -0.37876302, -0.63124675, -0.30577826, -0.26076755, -0.26411477, -0.27208787, -0.29079148, -0.65965134, -0.5245042, -0.5530759, -0.2916792, -0.4407237, -0.21151006, -0.26321656, -0.28693214, -0.48907432, -0.4714368, -0.39116883, -0.2504883, -0.17001568, -0.20560692, -0.09551062, -0.0914489, -0.5089318, -0.5342436, -0.46714354, -0.19726346, -0.09213635, -0.2982936, -0.59855366, -0.7805705, -0.597225, -0.17057496, -0.22335483, -0.12643571, -0.10188033, -0.12825502, -0.41764313, -0.2710715, -0.3625197, -0.36862063, -0.18953696, -0.21210867, -0.099469654, -0.15394695, -0.09574504, -0.4468078, -0.3800868, -0.5761388, -0.40937218, -0.2163483, -0.35711014, -0.47495836, -0.3641211, -0.6553923, -0.39626974, -0.52092665, -0.49015355, -0.15580758, -0.18611513, -0.17367238, -0.62429595, -0.5147402, -0.5819682, -0.15631248, -0.15071075, -0.1954186, -0.3036398, -0.46186426, -0.7207529, -0.1543847, -0.17918405, -0.07242778, -0.58678985, -0.46987322, -0.6727531, -0.34662467, -0.17180775, -0.09281791, -0.4264004, -0.30899584, -0.5240184, -0.42840594, -0.09609708, -0.11994545, -0.119793944, -0.392369, -0.6873176, -0.7335796, -0.14386813, -0.16645376, -0.16428496, -0.67104304, -0.465249, -0.51199526, -0.442095, -0.16137038, -0.18628858, -0.1355801, -0.4214057, -0.6403078, -0.11470659, -0.23830289, -0.25896403, -0.55499077, -0.47796512, -0.4849019, -0.2748638, -0.33480746, -0.37337875, -0.5229637, -0.87938946, -0.10174471, -0.1362088, -0.26081002, -0.48171824, -0.40207288, -0.7104691, -0.21969675, -0.307544, -0.23733525, -0.7130839, -0.72777134, -0.118670054, -0.17634197, -0.2225103, -0.4137043, -0.3158016, -0.41594118, -0.13216305, -0.11501201, -0.18926649, -0.47854367, -0.44486767, -0.4675918, -0.18761466, -0.27399394, -0.33825544, -0.5271552, -0.4709255, -0.83496654, -0.30926177, -0.38271493, -0.19195682, -0.5496497, -0.6359814, -0.38323438, -0.23766507, -0.37497795, -0.62471825, -0.71767104, -0.77652526, -0.25136387, -0.2337674, -0.3355983, -0.4674669, -0.5859598, -0.53922653, -0.57858557, -0.30862343, -0.2785257, -0.27246955, -0.62614995, -0.5726344, -0.74756706, -0.36439008, -0.20040968, -0.20033474, -0.7701291, -0.85298413, -0.7385675, -0.15789944, -0.1645552, -0.2945349, -0.7527661, -0.62313825, -0.6309416, -0.11813163, -0.15187211, -0.21374032, -0.6300704, -0.73698896, -0.69125056, -0.5690014, -0.22932258, -0.33661422, -0.19331494, -0.42839897, -0.5244493, -0.5559378, -0.24810277, -0.30218706, -0.2924027, -0.42323595, -0.58021545, -0.52874136, -0.36085403, -0.1806992, -0.20868616, -0.38265732, -0.51019543, -0.11596152, -0.1918174, -0.19191878, -0.6285396, -0.55473775, -0.62149763, -0.11343266, -0.16937846, -0.09901471, -0.7950049, -0.42868716, -0.9119438, -0.30603307, -0.3257579, -0.38301003, -0.42839888, -0.67549145, -0.809576, -0.39627573, -0.42074654, -0.351527, -0.85241127, -0.8502479, -0.6741908, -0.23465444, -0.15869586, -0.22214323, -0.55608, -0.34366664, -0.8433203, -0.20030957, -0.25263187, -0.22452495, -0.39855883, -0.45823333, -0.62762624, -0.39560014, -0.3080725, -0.3110369, -0.49641022, -0.5157417, -0.6072593, -0.08005882, -0.09139195, -0.102031924, -0.47412366, -0.4246928, -0.22314326, -0.26246718, -0.26635712, -0.47629488, -0.5486747, -0.46926045, -0.10079403, -0.2374565, -0.055620667, -0.66768867, -0.5588971, -0.4618389, -0.22392881, -0.24043354, -0.15022835, -0.83837104, -0.73637056, -0.16506484, -0.23373657, -0.12537672, -0.4093342, -0.38425827, -0.47553173, -0.4345175, -0.13598281, -0.1995642, -0.10874778, -0.45154408, -0.32906327, -0.32212284, -0.30517507, -0.35423818, -0.46250755, -0.4908351, -0.6228584, -0.58704656, -0.35771924, -0.6732667, -0.13041212, -0.16938928, -0.23169586, -0.3367781, -0.9510104, -0.78807837, -0.27234298, -0.23972061, -0.3126992, -0.38820827, -0.5293812, -0.1549654, -0.3617259, -0.26758876, -0.56327075, -0.7607948, -0.4776143, -0.19880101, -0.15874137, -0.18956427, -0.568908, -0.6740063, -0.79591733, -0.5659735, -0.14607108, -0.18329778, -0.23972957, -0.49731144, -0.32415515, -0.22433308, -0.31077862, -0.24387757, -0.82992184, -0.55158037, -0.76533496, -0.13618171, -0.18362749, -0.17362386, -0.49423388, -0.47878438, -0.93423325, -0.24521843, -0.18697336, -0.18307485, -0.68189245, -0.6223465, -0.67464334, -0.13678195, -0.31877905, -0.23756415, -0.5735086, -0.51948756, -0.4720806, -0.2489325, -0.26917624, -0.397539, -0.43111897, -0.5810456, -0.15379837, -0.26027802, -0.20814271, -0.90170234, -0.723242, -0.24713743, -0.34269303, -0.3240145, -0.7010427, -0.6331012, -0.45302245, -0.88348764, -0.22269078, -0.2332987, -0.21774136, -0.5111002, -0.4494093, -0.13307494, -0.2912709, -0.18535502, -0.6640454, -0.7509374, -0.22992136, -0.15319267, -0.11319771, -0.7928303, -0.5614705, -0.9414074]\n"
     ]
    }
   ],
   "source": [
    "print(normalized_test_euclidean_distance)"
   ]
  },
  {
   "cell_type": "markdown",
   "metadata": {},
   "source": [
    "# 3. ROC Curve"
   ]
  },
  {
   "cell_type": "code",
   "execution_count": 25,
   "metadata": {},
   "outputs": [],
   "source": [
    "from sklearn.metrics import roc_curve, auc\n",
    "import matplotlib.pyplot as plt\n",
    "from matplotlib.ticker import MultipleLocator"
   ]
  },
  {
   "cell_type": "code",
   "execution_count": 26,
   "metadata": {},
   "outputs": [
    {
     "data": {
      "image/png": "[encoded data removed]",
      "text/plain": [
       "<Figure size 800x800 with 1 Axes>"
      ]
     },
     "metadata": {},
     "output_type": "display_data"
    }
   ],
   "source": [
    "# Flatten the lists of labels\n",
    "flat_test_labels = [item for sublist in test_euclidean_actual_labels for item in sublist]\n",
    "flat_train_labels = [item for sublist in train_euclidean_actual_labels for item in sublist]\n",
    "flat_validation_labels = [item for sublist in validation_euclidean_actual_labels for item in sublist]\n",
    "\n",
    "# Calculate ROC curve\n",
    "fpr_test, tpr_test, thresholds_test = roc_curve(flat_test_labels, normalized_test_euclidean_distance, drop_intermediate=False)\n",
    "roc_auc_test = auc(fpr_test, tpr_test)\n",
    "fpr_train, tpr_train, thresholds_train = roc_curve(flat_train_labels, normalized_train_euclidean_distance, drop_intermediate=False)\n",
    "roc_auc_train = auc(fpr_train, tpr_train)\n",
    "fpr_validation, tpr_validation, thresholds_validation = roc_curve(flat_validation_labels, normalized_validation_euclidean_distance, drop_intermediate=False)\n",
    "roc_auc_validation = auc(fpr_validation, tpr_validation)\n",
    "\n",
    "# Plot ROC curve\n",
    "plt.figure(figsize=(8, 8))\n",
    "\n",
    "plt.plot(fpr_train, tpr_train, color='darkseagreen', lw=2, label=f'Train AUC = {roc_auc_train:.5f}')\n",
    "plt.plot(fpr_validation, tpr_validation, color='steelblue', lw=2, label=f'Validation AUC = {roc_auc_validation:.5f}')\n",
    "plt.plot(fpr_test, tpr_test, color='peru', lw=2, label=f'Test AUC = {roc_auc_test:.5f}')\n",
    "\n",
    "plt.plot([0, 1], [0, 1], color='navy', lw=2, linestyle='--')\n",
    "plt.xlabel('False Positive Rate')\n",
    "plt.ylabel('True Positive Rate')\n",
    "plt.title('ROC Curves - Euclidean Distance')\n",
    "plt.legend(loc='lower right')\n",
    "plt.show()"
   ]
  },
  {
   "cell_type": "code",
   "execution_count": 27,
   "metadata": {},
   "outputs": [
    {
     "name": "stdout",
     "output_type": "stream",
     "text": [
      "[0.         0.00471698 0.00943396 0.01415094 0.01886792 0.02358491\n",
      " 0.02830189 0.03301887 0.03773585 0.04245283 0.04716981 0.05188679\n",
      " 0.05660377 0.06132075 0.06603774 0.07075472 0.0754717  0.08018868\n",
      " 0.08490566 0.08962264 0.09433962 0.0990566  0.10377358 0.10849057\n",
      " 0.11320755 0.11792453 0.12264151 0.12735849 0.13207547 0.13679245\n",
      " 0.14150943 0.14622642 0.1509434  0.15566038 0.16037736 0.16509434\n",
      " 0.16981132 0.1745283  0.17924528 0.18396226 0.18867925 0.19339623\n",
      " 0.19811321 0.20283019 0.20754717 0.21226415 0.21698113 0.22169811\n",
      " 0.22641509 0.23113208 0.23584906 0.24056604 0.24528302 0.25\n",
      " 0.25471698 0.25943396 0.26415094 0.26886792 0.27358491 0.27830189\n",
      " 0.28301887 0.28773585 0.29245283 0.29716981 0.30188679 0.30660377\n",
      " 0.31132075 0.31603774 0.32075472 0.3254717  0.33018868 0.33490566\n",
      " 0.33962264 0.34433962 0.3490566  0.35377358 0.35849057 0.36320755\n",
      " 0.36792453 0.37264151 0.37735849 0.38207547 0.38679245 0.39150943\n",
      " 0.39622642 0.4009434  0.40566038 0.41037736 0.41509434 0.41981132\n",
      " 0.4245283  0.42924528 0.43396226 0.43867925 0.44339623 0.44811321\n",
      " 0.45283019 0.45754717 0.46226415 0.46698113 0.47169811 0.47641509\n",
      " 0.48113208 0.48584906 0.49056604 0.49528302 0.5        0.50471698\n",
      " 0.50943396 0.51415094 0.51886792 0.52358491 0.52830189 0.53301887\n",
      " 0.53773585 0.54245283 0.54716981 0.55188679 0.55660377 0.56132075\n",
      " 0.56603774 0.57075472 0.5754717  0.58018868 0.58490566 0.58962264\n",
      " 0.59433962 0.5990566  0.60377358 0.60849057 0.61320755 0.61792453\n",
      " 0.62264151 0.62735849 0.63207547 0.63679245 0.64150943 0.64622642\n",
      " 0.6509434  0.65566038 0.66037736 0.66509434 0.66981132 0.6745283\n",
      " 0.67924528 0.68396226 0.68867925 0.69339623 0.69339623 0.69811321\n",
      " 0.70283019 0.70754717 0.71226415 0.71698113 0.72169811 0.72641509\n",
      " 0.73113208 0.73584906 0.74056604 0.74528302 0.75       0.75471698\n",
      " 0.75943396 0.76415094 0.76886792 0.77358491 0.77830189 0.77830189\n",
      " 0.77830189 0.78301887 0.78773585 0.79245283 0.79716981 0.80188679\n",
      " 0.80188679 0.80660377 0.81132075 0.81603774 0.82075472 0.82075472\n",
      " 0.8254717  0.8254717  0.83018868 0.83490566 0.83490566 0.83962264\n",
      " 0.83962264 0.84433962 0.8490566  0.85377358 0.85377358 0.85849057\n",
      " 0.86320755 0.86320755 0.86792453 0.87264151 0.87735849 0.88207547\n",
      " 0.88207547 0.88679245 0.89150943 0.89150943 0.89622642 0.9009434\n",
      " 0.9009434  0.90566038 0.91037736 0.91509434 0.91509434 0.91509434\n",
      " 0.91509434 0.91981132 0.9245283  0.92924528 0.92924528 0.93396226\n",
      " 0.93396226 0.93396226 0.93396226 0.93867925 0.94339623 0.94339623\n",
      " 0.94811321 0.95283019 0.95283019 0.95283019 0.95283019 0.95754717\n",
      " 0.96226415 0.96226415 0.96226415 0.96226415 0.96698113 0.96698113\n",
      " 0.96698113 0.96698113 0.96698113 0.96698113 0.96698113 0.96698113\n",
      " 0.96698113 0.96698113 0.97169811 0.97169811 0.97169811 0.97641509\n",
      " 0.97641509 0.97641509 0.97641509 0.98113208 0.98113208 0.98113208\n",
      " 0.98113208 0.98113208 0.98113208 0.98113208 0.98584906 0.98584906\n",
      " 0.98584906 0.98584906 0.98584906 0.98584906 0.98584906 0.98584906\n",
      " 0.98584906 0.98584906 0.98584906 0.98584906 0.99056604 0.99056604\n",
      " 0.99056604 0.99056604 0.99056604 0.99056604 0.99056604 0.99056604\n",
      " 0.99056604 0.99056604 0.99056604 0.99528302 0.99528302 0.99528302\n",
      " 0.99528302 0.99528302 1.         1.         1.         1.\n",
      " 1.         1.         1.         1.         1.         1.\n",
      " 1.         1.         1.         1.         1.         1.\n",
      " 1.         1.         1.         1.         1.         1.\n",
      " 1.         1.         1.         1.         1.         1.\n",
      " 1.         1.         1.         1.         1.         1.\n",
      " 1.         1.         1.         1.         1.         1.\n",
      " 1.         1.         1.         1.         1.         1.\n",
      " 1.         1.         1.         1.         1.         1.\n",
      " 1.         1.         1.         1.         1.         1.\n",
      " 1.         1.         1.         1.         1.         1.\n",
      " 1.         1.         1.         1.         1.         1.\n",
      " 1.         1.         1.         1.         1.         1.\n",
      " 1.         1.         1.         1.         1.         1.\n",
      " 1.         1.         1.         1.         1.         1.\n",
      " 1.         1.         1.         1.         1.         1.\n",
      " 1.         1.         1.         1.         1.         1.\n",
      " 1.         1.         1.         1.         1.         1.\n",
      " 1.         1.         1.         1.         1.         1.\n",
      " 1.         1.         1.         1.         1.         1.        ]\n"
     ]
    }
   ],
   "source": [
    "print(tpr_test)"
   ]
  },
  {
   "cell_type": "code",
   "execution_count": 28,
   "metadata": {},
   "outputs": [
    {
     "name": "stdout",
     "output_type": "stream",
     "text": [
      "[0.         0.         0.         0.         0.         0.\n",
      " 0.         0.         0.         0.         0.         0.\n",
      " 0.         0.         0.         0.         0.         0.\n",
      " 0.         0.         0.         0.         0.         0.\n",
      " 0.         0.         0.         0.         0.         0.\n",
      " 0.         0.         0.         0.         0.         0.\n",
      " 0.         0.         0.         0.         0.         0.\n",
      " 0.         0.         0.         0.         0.         0.\n",
      " 0.         0.         0.         0.         0.         0.\n",
      " 0.         0.         0.         0.         0.         0.\n",
      " 0.         0.         0.         0.         0.         0.\n",
      " 0.         0.         0.         0.         0.         0.\n",
      " 0.         0.         0.         0.         0.         0.\n",
      " 0.         0.         0.         0.         0.         0.\n",
      " 0.         0.         0.         0.         0.         0.\n",
      " 0.         0.         0.         0.         0.         0.\n",
      " 0.         0.         0.         0.         0.         0.\n",
      " 0.         0.         0.         0.         0.         0.\n",
      " 0.         0.         0.         0.         0.         0.\n",
      " 0.         0.         0.         0.         0.         0.\n",
      " 0.         0.         0.         0.         0.         0.\n",
      " 0.         0.         0.         0.         0.         0.\n",
      " 0.         0.         0.         0.         0.         0.\n",
      " 0.         0.         0.         0.         0.         0.\n",
      " 0.         0.         0.         0.         0.00529101 0.00529101\n",
      " 0.00529101 0.00529101 0.00529101 0.00529101 0.00529101 0.00529101\n",
      " 0.00529101 0.00529101 0.00529101 0.00529101 0.00529101 0.00529101\n",
      " 0.00529101 0.00529101 0.00529101 0.00529101 0.00529101 0.01058201\n",
      " 0.01587302 0.01587302 0.01587302 0.01587302 0.01587302 0.01587302\n",
      " 0.02116402 0.02116402 0.02116402 0.02116402 0.02116402 0.02645503\n",
      " 0.02645503 0.03174603 0.03174603 0.03174603 0.03703704 0.03703704\n",
      " 0.04232804 0.04232804 0.04232804 0.04232804 0.04761905 0.04761905\n",
      " 0.04761905 0.05291005 0.05291005 0.05291005 0.05291005 0.05291005\n",
      " 0.05820106 0.05820106 0.05820106 0.06349206 0.06349206 0.06349206\n",
      " 0.06878307 0.06878307 0.06878307 0.06878307 0.07407407 0.07936508\n",
      " 0.08465608 0.08465608 0.08465608 0.08465608 0.08994709 0.08994709\n",
      " 0.0952381  0.1005291  0.10582011 0.10582011 0.10582011 0.11111111\n",
      " 0.11111111 0.11111111 0.11640212 0.12169312 0.12698413 0.12698413\n",
      " 0.12698413 0.13227513 0.13756614 0.14285714 0.14285714 0.14814815\n",
      " 0.15343915 0.15873016 0.16402116 0.16931217 0.17460317 0.17989418\n",
      " 0.18518519 0.19047619 0.19047619 0.1957672  0.2010582  0.2010582\n",
      " 0.20634921 0.21164021 0.21693122 0.21693122 0.22222222 0.22751323\n",
      " 0.23280423 0.23809524 0.24338624 0.24867725 0.24867725 0.25396825\n",
      " 0.25925926 0.26455026 0.26984127 0.27513228 0.28042328 0.28571429\n",
      " 0.29100529 0.2962963  0.3015873  0.30687831 0.30687831 0.31216931\n",
      " 0.31746032 0.32275132 0.32804233 0.33333333 0.33862434 0.34391534\n",
      " 0.34920635 0.35449735 0.35978836 0.35978836 0.36507937 0.37037037\n",
      " 0.37566138 0.38095238 0.38095238 0.38624339 0.39153439 0.3968254\n",
      " 0.4021164  0.40740741 0.41269841 0.41798942 0.42328042 0.42857143\n",
      " 0.43386243 0.43915344 0.44444444 0.44973545 0.45502646 0.46031746\n",
      " 0.46560847 0.47089947 0.47619048 0.48148148 0.48677249 0.49206349\n",
      " 0.4973545  0.5026455  0.50793651 0.51322751 0.51851852 0.52380952\n",
      " 0.52910053 0.53439153 0.53968254 0.54497354 0.55026455 0.55555556\n",
      " 0.56084656 0.56613757 0.57142857 0.57671958 0.58201058 0.58730159\n",
      " 0.59259259 0.5978836  0.6031746  0.60846561 0.61375661 0.61904762\n",
      " 0.62433862 0.62962963 0.63492063 0.64021164 0.64550265 0.65079365\n",
      " 0.65608466 0.66137566 0.66666667 0.67195767 0.67724868 0.68253968\n",
      " 0.68783069 0.69312169 0.6984127  0.7037037  0.70899471 0.71428571\n",
      " 0.71957672 0.72486772 0.73015873 0.73544974 0.74074074 0.74603175\n",
      " 0.75132275 0.75661376 0.76190476 0.76719577 0.77248677 0.77777778\n",
      " 0.78306878 0.78835979 0.79365079 0.7989418  0.8042328  0.80952381\n",
      " 0.81481481 0.82010582 0.82539683 0.83068783 0.83597884 0.84126984\n",
      " 0.84656085 0.85185185 0.85714286 0.86243386 0.86772487 0.87301587\n",
      " 0.87830688 0.88359788 0.88888889 0.89417989 0.8994709  0.9047619\n",
      " 0.91005291 0.91534392 0.92063492 0.92592593 0.93121693 0.93650794\n",
      " 0.94179894 0.94708995 0.95238095 0.95767196 0.96296296 0.96825397\n",
      " 0.97354497 0.97883598 0.98412698 0.98941799 0.99470899 1.        ]\n"
     ]
    }
   ],
   "source": [
    "print(fpr_test)"
   ]
  },
  {
   "cell_type": "code",
   "execution_count": 29,
   "metadata": {},
   "outputs": [],
   "source": [
    "def find_tpr_at_fpr(fpr, tpr, target_fpr):\n",
    "    return np.interp(target_fpr, fpr, tpr)"
   ]
  },
  {
   "cell_type": "code",
   "execution_count": 30,
   "metadata": {},
   "outputs": [],
   "source": [
    "target_fprs = [0.1, 0.01, 0.001]\n",
    "tpr_at_target_fpr_train = [find_tpr_at_fpr(fpr_train, tpr_train, fpr) for fpr in target_fprs]\n",
    "tpr_at_target_fpr_test = [find_tpr_at_fpr(fpr_test, tpr_test, fpr) for fpr in target_fprs]\n",
    "tpr_at_target_fpr_val = [find_tpr_at_fpr(fpr_validation, tpr_validation, fpr) for fpr in target_fprs]"
   ]
  },
  {
   "cell_type": "code",
   "execution_count": 31,
   "metadata": {},
   "outputs": [
    {
     "name": "stdout",
     "output_type": "stream",
     "text": [
      "Train\n",
      "TPR at FPR 0.100: 0.981\n",
      "TPR at FPR 0.010: 0.808\n",
      "TPR at FPR 0.001: 0.678\n",
      "             AUC: 0.9887678021291292\n",
      "Validation\n",
      "TPR at FPR 0.100: 0.873\n",
      "TPR at FPR 0.010: 0.533\n",
      "TPR at FPR 0.001: 0.340\n",
      "             AUC: 0.95385791082534\n",
      "Test\n",
      "TPR at FPR 0.100: 0.934\n",
      "TPR at FPR 0.010: 0.778\n",
      "TPR at FPR 0.001: 0.693\n",
      "             AUC: 0.9794848757112908\n"
     ]
    }
   ],
   "source": [
    "print(\"Train\")\n",
    "for tpr, fpr in zip(tpr_at_target_fpr_train, target_fprs):\n",
    "    print(f'TPR at FPR {fpr:.3f}: {tpr:.3f}')\n",
    "print(f'             AUC: {roc_auc_train}')\n",
    "\n",
    "print(\"Validation\")\n",
    "for tpr, fpr in zip(tpr_at_target_fpr_val, target_fprs):\n",
    "    print(f'TPR at FPR {fpr:.3f}: {tpr:.3f}')\n",
    "print(f'             AUC: {roc_auc_validation}')\n",
    "\n",
    "print(\"Test\")\n",
    "for tpr, fpr in zip(tpr_at_target_fpr_test, target_fprs):\n",
    "    print(f'TPR at FPR {fpr:.3f}: {tpr:.3f}')\n",
    "print(f'             AUC: {roc_auc_test}')\n"
   ]
  }
 ],
 "metadata": {
  "kernelspec": {
   "display_name": "Python 3",
   "language": "python",
   "name": "python3"
  },
  "language_info": {
   "codemirror_mode": {
    "name": "ipython",
    "version": 3
   },
   "file_extension": ".py",
   "mimetype": "text/x-python",
   "name": "python",
   "nbconvert_exporter": "python",
   "pygments_lexer": "ipython3",
   "version": "3.11.1"
  }
 },
 "nbformat": 4,
 "nbformat_minor": 2
}
