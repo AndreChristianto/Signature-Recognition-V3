{
 "cells": [
  {
   "cell_type": "markdown",
   "metadata": {},
   "source": [
    "# Triplet Loss"
   ]
  },
  {
   "cell_type": "markdown",
   "metadata": {},
   "source": [
    "### Load Train, Test, and Validation data"
   ]
  },
  {
   "cell_type": "code",
   "execution_count": 1,
   "metadata": {},
   "outputs": [],
   "source": [
    "import numpy as np"
   ]
  },
  {
   "cell_type": "code",
   "execution_count": 2,
   "metadata": {},
   "outputs": [],
   "source": [
    "train_features_path =  \"../feature/ICDAR-feature/train_features.npy\"\n",
    "train_names_path = \"../feature/ICDAR-feature/train_names.npy\"\n",
    "train_labels_path = \"../feature/ICDAR-feature/train_labels.npy\"\n",
    "\n",
    "test_features_path = \"../feature/ICDAR-feature/test_features.npy\"\n",
    "test_names_path = \"../feature/ICDAR-feature/test_names.npy\"\n",
    "test_labels_path = \"../feature/ICDAR-feature/test_labels.npy\"\n",
    "\n",
    "validation_features_path = \"../feature/ICDAR-feature/validation_features.npy\"\n",
    "validation_names_path = \"../feature/ICDAR-feature/validation_names.npy\"\n",
    "validation_labels_path = \"../feature/ICDAR-feature/validation_labels.npy\"\n",
    "\n",
    "gallery_feature_path = \"../feature/ICDAR-feature/gallery_features.npy\"\n",
    "gallery_name_path = \"../feature/ICDAR-feature/gallery_names.npy\"\n",
    "\n",
    "train_features = np.load(train_features_path)\n",
    "train_names = np.load(train_names_path)\n",
    "train_labels = np.load(train_labels_path)\n",
    "\n",
    "test_features = np.load(test_features_path)\n",
    "test_names = np.load(test_names_path)\n",
    "test_labels = np.load(test_labels_path)\n",
    "\n",
    "validation_features = np.load(validation_features_path)\n",
    "validation_names = np.load(validation_names_path)\n",
    "validation_labels = np.load(validation_labels_path)\n",
    "\n",
    "gallery_features = np.load(gallery_feature_path)\n",
    "gallery_names = np.load(gallery_name_path)"
   ]
  },
  {
   "cell_type": "code",
   "execution_count": 3,
   "metadata": {},
   "outputs": [
    {
     "name": "stdout",
     "output_type": "stream",
     "text": [
      "(857, 512)\n",
      "(857,)\n",
      "(857,)\n",
      "(401, 512)\n",
      "(401,)\n",
      "(401,)\n",
      "(391, 512)\n",
      "(391,)\n",
      "(391,)\n",
      "(64, 512)\n",
      "(64,)\n"
     ]
    }
   ],
   "source": [
    "print(train_features.shape)\n",
    "print(train_labels.shape)\n",
    "print(train_names.shape)\n",
    "print(test_features.shape)\n",
    "print(test_labels.shape)\n",
    "print(test_names.shape)\n",
    "print(validation_features.shape)\n",
    "print(validation_labels.shape)\n",
    "print(validation_names.shape)\n",
    "print(gallery_features.shape)\n",
    "print(gallery_names.shape)"
   ]
  },
  {
   "cell_type": "markdown",
   "metadata": {},
   "source": [
    "### Creating Triplets"
   ]
  },
  {
   "cell_type": "code",
   "execution_count": 4,
   "metadata": {},
   "outputs": [],
   "source": [
    "unique_names = set(train_names.flatten())\n",
    "sorted_names = sorted(unique_names)"
   ]
  },
  {
   "cell_type": "code",
   "execution_count": 5,
   "metadata": {},
   "outputs": [
    {
     "name": "stdout",
     "output_type": "stream",
     "text": [
      "['001', '002', '003', '004', '006', '009', '012', '013', '014', '015', '016', '017', '018', '019', '020', '021', '022', '023', '024', '025', '026', '027', '028', '029', '030', '031', '032', '033', '034', '035', '036', '037', '038', '039', '040', '041', '042', '043', '044', '045', '046', '047', '048', '049', '050', '051', '052', '053', '054', '055', '056', '057', '058', '059', '060', '061', '062', '063', '064', '065', '066', '067', '068', '069']\n"
     ]
    }
   ],
   "source": [
    "print(sorted_names)"
   ]
  },
  {
   "cell_type": "code",
   "execution_count": 6,
   "metadata": {},
   "outputs": [
    {
     "name": "stdout",
     "output_type": "stream",
     "text": [
      "['001' '002' '003' '004' '006' '009' '012' '013' '014' '015' '016' '017'\n",
      " '018' '019' '020' '021' '022' '023' '024' '025' '026' '027' '028' '029'\n",
      " '030' '031' '032' '033' '034' '035' '036' '037' '038' '039' '040' '041'\n",
      " '042' '043' '044' '045' '046' '047' '048' '049' '050' '051' '052' '053'\n",
      " '054' '055' '056' '057' '058' '059' '060' '061' '062' '063' '064' '065'\n",
      " '066' '067' '068' '069']\n"
     ]
    }
   ],
   "source": [
    "print(gallery_names)"
   ]
  },
  {
   "cell_type": "code",
   "execution_count": 7,
   "metadata": {},
   "outputs": [],
   "source": [
    "def create_triplets(unique_names, gallery_features, features, labels):\n",
    "    anchors, positives, negatives = [], [], []\n",
    "    for name, gallery in zip(unique_names, gallery_features):\n",
    "        # find all the instances for name\n",
    "        indices = np.where(train_names == name)[0]\n",
    "        # print(indices)\n",
    "        \n",
    "        # separate instances to positive and negative\n",
    "        positive_set, negative_set = [], []\n",
    "        for index in indices:\n",
    "            # print(index)\n",
    "            if labels[index] == 0:\n",
    "                negative_set.append(features[index])\n",
    "                # print(features[index])\n",
    "            else:\n",
    "                positive_set.append(features[index]) \n",
    "\n",
    "        negative_set = np.array(negative_set)\n",
    "        positive_set = np.array(positive_set)\n",
    "\n",
    "        # use feature gallery for anchor\n",
    "        # print(gallery.size)\n",
    "        anchor = gallery\n",
    "        \n",
    "        # print(positive_set.size)\n",
    "        # print(negative_set.size)\n",
    "\n",
    "        # randomize data picks to accomodate for unequal data size (total size is based on negative data size due to it being bigger than positive data size)\n",
    "        np.random.seed(1)\n",
    "        anchor_set = []\n",
    "        if(len(positive_set) < len(negative_set)):\n",
    "            positive_idx = np.random.choice(len(positive_set), size=len(negative_set), replace=True)\n",
    "            positive = positive_set[positive_idx]\n",
    "            negative = negative_set\n",
    "            for _ in range(0, len(negative_set)):\n",
    "                anchor_set.append(anchor)\n",
    "        elif(len(positive_set) > len(negative_set)):\n",
    "            negative_idx = np.random.choice(len(negative_set), size=len(positive_set), replace=True)\n",
    "            negative = negative_set[negative_idx]\n",
    "            positive = positive_set\n",
    "            for _ in range(0, len(positive_set)):\n",
    "                anchor_set.append(anchor)\n",
    "        else:\n",
    "            positive = positive_set\n",
    "            negative = negative_set\n",
    "            for _ in range(0, len(negative_set)):\n",
    "                anchor_set.append(anchor)\n",
    "\n",
    "        anchors.append(anchor_set)\n",
    "        positives.append(positive)\n",
    "        negatives.append(negative)\n",
    "        # print(len(anchors))\n",
    "        # print(len(positives))\n",
    "        # print(len(negatives))\n",
    "\n",
    "    anchors = np.concatenate(anchors, axis=0)\n",
    "    \n",
    "    positives = np.concatenate(positives, axis=0)\n",
    "\n",
    "    negatives = np.concatenate(negatives, axis=0)\n",
    "    \n",
    "    return anchors, positives, negatives"
   ]
  },
  {
   "cell_type": "code",
   "execution_count": 8,
   "metadata": {},
   "outputs": [],
   "source": [
    "anchors, positives, negatives = create_triplets(sorted_names, gallery_features, train_features, train_labels)"
   ]
  },
  {
   "cell_type": "code",
   "execution_count": 9,
   "metadata": {},
   "outputs": [
    {
     "name": "stdout",
     "output_type": "stream",
     "text": [
      "Anchors shape: (495, 512)\n",
      "Positives shape: (495, 512)\n",
      "Negatives shape: (495, 512)\n"
     ]
    }
   ],
   "source": [
    "print(\"Anchors shape:\", anchors.shape)\n",
    "print(\"Positives shape:\", positives.shape)\n",
    "print(\"Negatives shape:\", negatives.shape)"
   ]
  },
  {
   "cell_type": "markdown",
   "metadata": {},
   "source": [
    "### Triplet Loss Function"
   ]
  },
  {
   "cell_type": "code",
   "execution_count": 10,
   "metadata": {},
   "outputs": [
    {
     "name": "stdout",
     "output_type": "stream",
     "text": [
      "WARNING:tensorflow:From C:\\Users\\Andreas Christianto\\AppData\\Roaming\\Python\\Python311\\site-packages\\keras\\src\\losses.py:2976: The name tf.losses.sparse_softmax_cross_entropy is deprecated. Please use tf.compat.v1.losses.sparse_softmax_cross_entropy instead.\n",
      "\n"
     ]
    }
   ],
   "source": [
    "import tensorflow as tf\n",
    "from tensorflow.keras import layers, models"
   ]
  },
  {
   "cell_type": "code",
   "execution_count": 11,
   "metadata": {},
   "outputs": [],
   "source": [
    "input_shape = (train_features.shape[1],)"
   ]
  },
  {
   "cell_type": "code",
   "execution_count": 12,
   "metadata": {},
   "outputs": [
    {
     "name": "stdout",
     "output_type": "stream",
     "text": [
      "WARNING:tensorflow:From C:\\Users\\Andreas Christianto\\AppData\\Roaming\\Python\\Python311\\site-packages\\keras\\src\\backend.py:1398: The name tf.executing_eagerly_outside_functions is deprecated. Please use tf.compat.v1.executing_eagerly_outside_functions instead.\n",
      "\n"
     ]
    }
   ],
   "source": [
    "embedding_model = models.Sequential([\n",
    "    layers.Input(shape=input_shape),\n",
    "    layers.Dense(512, activation='relu'),\n",
    "    layers.Dense(256, activation='relu'),\n",
    "    layers.Dense(128, activation='relu')\n",
    "])"
   ]
  },
  {
   "cell_type": "code",
   "execution_count": 13,
   "metadata": {},
   "outputs": [],
   "source": [
    "def create_triplet_loss_model(embedding_model, input_shape):\n",
    "    anchor_input = layers.Input(shape=input_shape, name='anchor_input')\n",
    "    positive_input = layers.Input(shape=input_shape, name='positive_input')\n",
    "    negative_input = layers.Input(shape=input_shape, name='negative_input')\n",
    "\n",
    "    # Get embeddings\n",
    "    anchor_embedding = embedding_model(anchor_input)\n",
    "    positive_embedding = embedding_model(positive_input)\n",
    "    negative_embedding = embedding_model(negative_input)\n",
    "\n",
    "    # Triplet loss function\n",
    "    margin = 0.625\n",
    "    positive_distance = tf.reduce_sum(tf.square(anchor_embedding - positive_embedding), axis=1)\n",
    "    negative_distance = tf.reduce_sum(tf.square(anchor_embedding - negative_embedding), axis=1)\n",
    "    loss = tf.maximum(0.0, positive_distance - negative_distance + margin)\n",
    "    loss = tf.reduce_mean(loss)\n",
    "\n",
    "    triplet_loss_model = models.Model(inputs=[anchor_input, positive_input, negative_input], outputs=loss)\n",
    "    return triplet_loss_model"
   ]
  },
  {
   "cell_type": "code",
   "execution_count": 14,
   "metadata": {},
   "outputs": [
    {
     "name": "stdout",
     "output_type": "stream",
     "text": [
      "Model: \"sequential\"\n",
      "_________________________________________________________________\n",
      " Layer (type)                Output Shape              Param #   \n",
      "=================================================================\n",
      " dense (Dense)               (None, 512)               262656    \n",
      "                                                                 \n",
      " dense_1 (Dense)             (None, 256)               131328    \n",
      "                                                                 \n",
      " dense_2 (Dense)             (None, 128)               32896     \n",
      "                                                                 \n",
      "=================================================================\n",
      "Total params: 426880 (1.63 MB)\n",
      "Trainable params: 426880 (1.63 MB)\n",
      "Non-trainable params: 0 (0.00 Byte)\n",
      "_________________________________________________________________\n"
     ]
    }
   ],
   "source": [
    "embedding_model.summary()"
   ]
  },
  {
   "cell_type": "code",
   "execution_count": 15,
   "metadata": {},
   "outputs": [
    {
     "name": "stdout",
     "output_type": "stream",
     "text": [
      "WARNING:tensorflow:From C:\\Users\\Andreas Christianto\\AppData\\Roaming\\Python\\Python311\\site-packages\\keras\\src\\optimizers\\__init__.py:309: The name tf.train.Optimizer is deprecated. Please use tf.compat.v1.train.Optimizer instead.\n",
      "\n"
     ]
    }
   ],
   "source": [
    "triplet_model = create_triplet_loss_model(embedding_model, input_shape)\n",
    "triplet_model.compile(optimizer='adam', loss='mean_squared_error')"
   ]
  },
  {
   "cell_type": "code",
   "execution_count": 16,
   "metadata": {},
   "outputs": [
    {
     "name": "stdout",
     "output_type": "stream",
     "text": [
      "Model: \"model\"\n",
      "__________________________________________________________________________________________________\n",
      " Layer (type)                Output Shape                 Param #   Connected to                  \n",
      "==================================================================================================\n",
      " anchor_input (InputLayer)   [(None, 512)]                0         []                            \n",
      "                                                                                                  \n",
      " positive_input (InputLayer  [(None, 512)]                0         []                            \n",
      " )                                                                                                \n",
      "                                                                                                  \n",
      " negative_input (InputLayer  [(None, 512)]                0         []                            \n",
      " )                                                                                                \n",
      "                                                                                                  \n",
      " sequential (Sequential)     (None, 128)                  426880    ['anchor_input[0][0]',        \n",
      "                                                                     'positive_input[0][0]',      \n",
      "                                                                     'negative_input[0][0]']      \n",
      "                                                                                                  \n",
      " tf.math.subtract (TFOpLamb  (None, 128)                  0         ['sequential[0][0]',          \n",
      " da)                                                                 'sequential[1][0]']          \n",
      "                                                                                                  \n",
      " tf.math.subtract_1 (TFOpLa  (None, 128)                  0         ['sequential[0][0]',          \n",
      " mbda)                                                               'sequential[2][0]']          \n",
      "                                                                                                  \n",
      " tf.math.square (TFOpLambda  (None, 128)                  0         ['tf.math.subtract[0][0]']    \n",
      " )                                                                                                \n",
      "                                                                                                  \n",
      " tf.math.square_1 (TFOpLamb  (None, 128)                  0         ['tf.math.subtract_1[0][0]']  \n",
      " da)                                                                                              \n",
      "                                                                                                  \n",
      " tf.math.reduce_sum (TFOpLa  (None,)                      0         ['tf.math.square[0][0]']      \n",
      " mbda)                                                                                            \n",
      "                                                                                                  \n",
      " tf.math.reduce_sum_1 (TFOp  (None,)                      0         ['tf.math.square_1[0][0]']    \n",
      " Lambda)                                                                                          \n",
      "                                                                                                  \n",
      " tf.math.subtract_2 (TFOpLa  (None,)                      0         ['tf.math.reduce_sum[0][0]',  \n",
      " mbda)                                                               'tf.math.reduce_sum_1[0][0]']\n",
      "                                                                                                  \n",
      " tf.__operators__.add (TFOp  (None,)                      0         ['tf.math.subtract_2[0][0]']  \n",
      " Lambda)                                                                                          \n",
      "                                                                                                  \n",
      " tf.math.maximum (TFOpLambd  (None,)                      0         ['tf.__operators__.add[0][0]']\n",
      " a)                                                                                               \n",
      "                                                                                                  \n",
      " tf.math.reduce_mean (TFOpL  ()                           0         ['tf.math.maximum[0][0]']     \n",
      " ambda)                                                                                           \n",
      "                                                                                                  \n",
      "==================================================================================================\n",
      "Total params: 426880 (1.63 MB)\n",
      "Trainable params: 426880 (1.63 MB)\n",
      "Non-trainable params: 0 (0.00 Byte)\n",
      "__________________________________________________________________________________________________\n"
     ]
    }
   ],
   "source": [
    "triplet_model.summary()"
   ]
  },
  {
   "cell_type": "code",
   "execution_count": 17,
   "metadata": {},
   "outputs": [
    {
     "name": "stdout",
     "output_type": "stream",
     "text": [
      "Epoch 1/10\n",
      "WARNING:tensorflow:From C:\\Users\\Andreas Christianto\\AppData\\Roaming\\Python\\Python311\\site-packages\\keras\\src\\utils\\tf_utils.py:492: The name tf.ragged.RaggedTensorValue is deprecated. Please use tf.compat.v1.ragged.RaggedTensorValue instead.\n",
      "\n",
      "16/16 [==============================] - 2s 9ms/step - loss: 0.0100\n",
      "Epoch 2/10\n",
      "16/16 [==============================] - 0s 9ms/step - loss: 0.0071\n",
      "Epoch 3/10\n",
      "16/16 [==============================] - 0s 9ms/step - loss: 0.0053\n",
      "Epoch 4/10\n",
      "16/16 [==============================] - 0s 9ms/step - loss: 0.0000e+00\n",
      "Epoch 5/10\n",
      "16/16 [==============================] - 0s 9ms/step - loss: 8.4584e-04\n",
      "Epoch 6/10\n",
      "16/16 [==============================] - 0s 9ms/step - loss: 0.0000e+00\n",
      "Epoch 7/10\n",
      "16/16 [==============================] - 0s 9ms/step - loss: 7.1677e-04\n",
      "Epoch 8/10\n",
      "16/16 [==============================] - 0s 9ms/step - loss: 0.0000e+00\n",
      "Epoch 9/10\n",
      "16/16 [==============================] - 0s 9ms/step - loss: 0.0028\n",
      "Epoch 10/10\n",
      "16/16 [==============================] - 0s 10ms/step - loss: 0.0000e+00\n"
     ]
    },
    {
     "data": {
      "text/plain": [
       "<keras.src.callbacks.History at 0x27a29e54b50>"
      ]
     },
     "execution_count": 17,
     "metadata": {},
     "output_type": "execute_result"
    }
   ],
   "source": [
    "triplet_model.fit([anchors, positives, negatives], np.zeros_like(anchors), epochs=10, batch_size=32)"
   ]
  },
  {
   "cell_type": "code",
   "execution_count": 18,
   "metadata": {},
   "outputs": [],
   "source": [
    "from sklearn.metrics import accuracy_score"
   ]
  },
  {
   "cell_type": "code",
   "execution_count": 19,
   "metadata": {},
   "outputs": [
    {
     "name": "stdout",
     "output_type": "stream",
     "text": [
      "[1 1 1 1 1 0 0 1 1 1 1 1 0 0 0 1 1 1 1 1 0 0 0 1 1 1 1 1 0 0 0 1 1 1 1 1 0\n",
      " 0 0 1 1 1 1 1 0 0 0 1 1 1 1 1 0 0 0 1 1 1 0 0 0 1 1 1 1 1 0 0 0 0 1 1 1 1\n",
      " 1 0 0 0 1 1 1 1 1 0 0 0 0 1 1 1 0 0 0 1 1 1 0 0 0 1 1 1 0 0 0 1 1 1 0 0 0\n",
      " 0 1 1 1 0 0 0 1 1 1 0 0 0 0 1 1 1 0 0 1 1 1 0 0 0 1 1 1 0 0 1 1 1 0 0 0 1\n",
      " 1 1 0 0 1 1 1 0 0 0 1 1 1 0 0 0 1 1 1 0 0 0 1 1 1 0 0 1 1 1 0 0 0 1 1 1 0\n",
      " 0 0 0 1 1 1 0 0 0 1 1 1 0 0 0 1 1 1 0 0 0 1 1 1 0 0 0 0 1 1 1 0 0 0 1 1 1\n",
      " 0 0 0 1 1 1 0 0 1 1 1 0 0 0 1 1 1 0 0 0 1 1 1 0 0 0 1 1 1 0 0 0 1 1 1 0 0\n",
      " 0 1 1 1 0 0 0 1 1 1 0 0 0 1 1 1 0 0 1 1 1 0 0 0 1 1 1 0 0 0 1 1 1 0 0 1 1\n",
      " 1 0 0 0 0 1 1 1 0 0 0 0 1 1 1 0 0 0 0 1 1 1 0 0 0 1 1 1 0 0 1 1 1 0 0 0 1\n",
      " 1 1 0 0 0 0 1 1 1 0 0 1 1 1 0 0 0 1 1 1 0 0 0 1 1 1 0 0 0 1 1 1 0 0 0 1 1\n",
      " 1 0 0 1 1 1 0 0 1 1 1 0 0 0 0 1 1 1 0 0 1 1 1 0 0 1 1 1 0 0 0]\n"
     ]
    }
   ],
   "source": [
    "print(test_labels)"
   ]
  },
  {
   "cell_type": "code",
   "execution_count": 20,
   "metadata": {},
   "outputs": [
    {
     "name": "stdout",
     "output_type": "stream",
     "text": [
      "27/27 [==============================] - 0s 4ms/step\n",
      "13/13 [==============================] - 0s 4ms/step\n",
      "13/13 [==============================] - 0s 4ms/step\n",
      "2/2 [==============================] - 0s 5ms/step\n"
     ]
    }
   ],
   "source": [
    "train_predictions = embedding_model.predict(train_features)\n",
    "validation_predictions = embedding_model.predict(validation_features)\n",
    "test_predictions = embedding_model.predict(test_features)\n",
    "gallery_predictions = embedding_model.predict(gallery_features)"
   ]
  },
  {
   "cell_type": "code",
   "execution_count": 21,
   "metadata": {},
   "outputs": [
    {
     "name": "stdout",
     "output_type": "stream",
     "text": [
      "(857, 128)\n",
      "(391, 128)\n",
      "(401, 128)\n",
      "(64, 128)\n"
     ]
    }
   ],
   "source": [
    "print(train_predictions.shape)\n",
    "print(validation_predictions.shape)\n",
    "print(test_predictions.shape)\n",
    "print(gallery_predictions.shape)"
   ]
  },
  {
   "cell_type": "code",
   "execution_count": 22,
   "metadata": {},
   "outputs": [],
   "source": [
    "# Feature Gallery dilakukan untuk setiap kelas / nama seperti \"001\", \"002\", \"003\", dst dengan cara mengambil data training positive dan mengambil mean / rata-rata dari data tersebut\n",
    "def create_feature_gallery(train_features, train_names, train_labels):\n",
    "    gallery_feature = []\n",
    "    gallery_name = []\n",
    "\n",
    "    unique_names = set(train_names.flatten())\n",
    "    sorted_names = sorted(unique_names)\n",
    "\n",
    "    for name in sorted_names:\n",
    "        # print(name)\n",
    "        # print(name)\n",
    "        name_features = []\n",
    "\n",
    "        for feature, feature_name, label in zip(train_features, train_names, train_labels):\n",
    "            # print(feature, feature_name, label)\n",
    "            if name in feature_name and label == 1:\n",
    "                name_features.append(feature)\n",
    "\n",
    "        if name_features:\n",
    "            # print(name_features)\n",
    "            average_feature = np.mean(name_features, axis=0)\n",
    "            gallery_feature.append(average_feature)\n",
    "            gallery_name.append(name)\n",
    "\n",
    "    return gallery_feature, gallery_name"
   ]
  },
  {
   "cell_type": "code",
   "execution_count": 23,
   "metadata": {},
   "outputs": [],
   "source": [
    "# gallery_features_extracted, gallery_names_extracted = create_feature_gallery(train_predictions, train_names, train_labels)"
   ]
  },
  {
   "cell_type": "code",
   "execution_count": 24,
   "metadata": {},
   "outputs": [],
   "source": [
    "# print(gallery_features_extracted)"
   ]
  },
  {
   "cell_type": "code",
   "execution_count": 25,
   "metadata": {},
   "outputs": [],
   "source": [
    "def euclidean_distance(feature_vector1, feature_vector2):\n",
    "    return np.sqrt(np.sum((feature_vector1 - feature_vector2)**2))"
   ]
  },
  {
   "cell_type": "code",
   "execution_count": 26,
   "metadata": {},
   "outputs": [],
   "source": [
    "def find_euclidean_distance(test_features, test_names, test_labels, gallery_features, gallery_names):\n",
    "    euclidean_distances = []\n",
    "    euclidean_names = []\n",
    "    euclidean_actual_labels = []\n",
    "\n",
    "    for gallery_feature, gallery_name in zip(gallery_features, gallery_names):\n",
    "        curr_euclid_name = gallery_name\n",
    "        curr_euclid_feature = []\n",
    "        curr_euclid_label = []\n",
    "        curr_euclid_dist = []\n",
    "        for feature, name, label in zip(test_features, test_names, test_labels):\n",
    "            if gallery_name in name:\n",
    "                curr_euclid_feature.append(feature)\n",
    "                curr_euclid_label.append(label)\n",
    "        \n",
    "        for feature in curr_euclid_feature:\n",
    "            distance = euclidean_distance(feature, gallery_feature)\n",
    "            curr_euclid_dist.append(distance)\n",
    "\n",
    "        euclidean_distances.append(curr_euclid_dist)\n",
    "        euclidean_names.append(curr_euclid_name)\n",
    "        euclidean_actual_labels.append(curr_euclid_label)\n",
    "        \n",
    "    return euclidean_distances, euclidean_names, euclidean_actual_labels"
   ]
  },
  {
   "cell_type": "code",
   "execution_count": 27,
   "metadata": {},
   "outputs": [],
   "source": [
    "test_euclidean_distances, test_euclidean_names, test_euclidean_actual_labels = find_euclidean_distance(test_predictions, test_names, test_labels, gallery_predictions, gallery_names)\n",
    "train_euclidean_distances, train_euclidean_names, train_euclidean_actual_labels = find_euclidean_distance(train_predictions, train_names, train_labels, gallery_predictions, gallery_names)\n",
    "validation_euclidean_distances, validation_euclidean_names, validation_euclidean_actual_labels = find_euclidean_distance(validation_predictions, validation_names, validation_labels, gallery_predictions, gallery_names)"
   ]
  },
  {
   "cell_type": "markdown",
   "metadata": {},
   "source": [
    "### Normalize Euclidean Distance"
   ]
  },
  {
   "cell_type": "code",
   "execution_count": 28,
   "metadata": {},
   "outputs": [],
   "source": [
    "# Flatten the lists of distances\n",
    "flat_test_distances = [item for sublist in test_euclidean_distances for item in sublist]\n",
    "flat_train_distances = [item for sublist in train_euclidean_distances for item in sublist]\n",
    "flat_validation_distances = [item for sublist in validation_euclidean_distances for item in sublist]"
   ]
  },
  {
   "cell_type": "code",
   "execution_count": 29,
   "metadata": {},
   "outputs": [
    {
     "name": "stdout",
     "output_type": "stream",
     "text": [
      "[4.090614, 9.561433, 4.633248, 5.658778, 4.276454, 6.847118, 5.703295, 4.2895627, 5.6011057, 5.404657, 9.790069, 2.0660436, 7.485573, 8.34532, 14.49083, 12.951905, 6.7530193, 9.866902, 5.472255, 8.046626, 4.5578957, 6.942972, 6.8771663, 4.079318, 3.2160285, 4.1416616, 3.0444913, 5.15025, 4.2674584, 5.3207064, 6.0251384, 8.606999, 10.970979, 16.210842, 13.134738, 10.062321, 7.1965313, 26.086803, 3.9403787, 6.2848887, 6.343658, 6.336047, 8.396365, 4.125066, 5.045545, 11.100916, 8.504694, 8.232878, 12.6094885, 7.4880066, 8.565056, 6.3487644, 22.604973, 22.12083, 12.221252, 18.878494, 18.092192, 18.720726, 8.410207, 7.205531, 4.5328274, 5.977479, 5.217064, 4.925484, 4.550821, 6.783599, 5.3535953, 5.293776, 6.684344, 5.443122, 7.5826406, 9.974163, 13.428133, 22.1976, 18.217487, 13.131582, 16.11523, 19.761534, 4.861915, 5.9799414, 10.808481, 10.3006735, 6.494332, 6.652703, 8.3656, 4.5619664, 5.644306, 4.3206024, 9.426956, 6.4784636, 6.630944, 6.976866, 12.521395, 14.992566, 12.264913, 14.306365, 18.232723, 17.604193, 6.5989356, 9.856367, 5.988236, 4.177891, 5.9921064, 7.043612, 5.883164, 4.419408, 4.4210634, 6.146345, 8.425252, 5.0432544, 8.9578905, 4.5883193, 14.538638, 20.591858, 20.502384, 24.729572, 23.217266, 6.8247313, 3.4577181, 4.1857066, 4.5292416, 5.7481265, 6.359577, 5.321511, 4.335897, 4.5680556, 5.232559, 4.0155296, 5.043918, 8.198513, 3.3632247, 3.5986345, 12.41964, 9.187468, 16.207087, 19.900791, 16.16949, 17.173395, 3.6010678, 5.852703, 4.467646, 4.1594877, 7.92609, 2.9953063, 6.5286584, 18.390635, 17.983568, 17.252777, 14.1332245, 27.858225, 4.6403565, 8.406898, 3.8592272, 3.7253284, 3.225574, 3.1839294, 3.2289617, 3.3293808, 2.9798758, 2.4615586, 2.1400416, 3.4496155, 5.317193, 4.159682, 15.930744, 6.6613693, 12.593969, 8.890586, 7.75962, 15.241267, 10.861927, 5.9178133, 13.192084, 5.536361, 4.2767863, 2.0387044, 5.9071045, 4.8430443, 6.4692764, 4.7752037, 4.392302, 4.046843, 3.8056831, 2.787915, 5.395454, 3.4000106, 2.6888413, 12.189349, 7.2387934, 14.899897, 15.471807, 17.992142, 18.53602, 8.013928, 4.5776567, 6.8746195, 4.3520103, 9.1833315, 4.070971, 8.418826, 2.7202384, 4.3453536, 4.1693683, 8.923175, 6.9740796, 5.9209375, 18.14361, 14.693189, 12.384092, 9.174844, 12.615211, 17.808176, 4.730609, 22.005823, 14.245844, 3.1530716, 3.6534956, 3.6012228, 3.6734076, 4.6226745, 3.9975686, 12.6200485, 13.8602705, 12.160494, 12.733407, 18.968544, 14.366046, 4.093151, 2.38923, 3.2113967, 5.005786, 4.5753703, 4.0071106, 9.019789, 6.143038, 12.462103, 8.236069, 18.46213, 9.992163, 3.1068401, 1.9882202, 3.16912, 2.567824, 3.6663444, 5.8813915, 11.642741, 16.453825, 20.985167, 20.306341, 25.5112, 21.130096, 3.7235262, 2.3585618, 3.2347515, 4.2501454, 3.697948, 3.269415, 11.18041, 14.423005, 17.686943, 18.107965, 25.394682, 17.535954, 15.4640875, 11.290446, 16.63222, 21.379839, 13.972279, 4.774044, 1.8071067, 2.7449152, 2.1114545, 2.193656, 2.8602343, 18.195215, 16.604778, 16.824682, 13.455741, 20.0631, 18.539967, 8.44945, 5.778874, 5.7408137, 4.7685723, 3.3868754, 3.85125, 17.159372, 13.501818, 16.747072, 22.227934, 12.860488, 13.875523, 9.826325, 14.662221, 15.701727, 4.0155797, 5.3210754, 3.3762393, 4.5172515, 3.7157874, 4.106094, 9.683899, 10.492936, 15.74922, 8.614538, 4.1488376, 6.430226, 3.3586922, 3.48178, 2.9409761, 2.6401656, 13.115023, 15.477089, 18.461117, 14.509017, 12.60022, 12.3792925, 5.9642572, 5.460892, 4.563374, 4.3476276, 5.583134, 4.8777957, 18.29402, 18.306507, 22.940666, 24.816929, 8.062961, 4.16729, 4.8297343, 4.9217954, 2.5273502, 4.0261555, 19.64986, 16.769327, 24.483667, 24.903418, 24.559542, 24.40643, 4.043193, 4.2706323, 3.4700437, 5.347868, 4.8219543, 3.575506, 16.486305, 9.5047455, 21.804653, 25.62644, 5.1383877, 3.0179327, 3.89155, 4.1676307, 3.5595891, 8.547687, 8.324814, 8.110917, 11.580846, 5.8525486, 9.927563, 11.731603, 3.3272781, 4.175102, 3.2424252, 2.6322138, 4.783759, 4.9504623, 11.886337, 12.644888, 13.618018, 10.060785, 17.355232, 18.114567, 4.487342, 6.148731, 3.5565453, 4.842484, 3.9407904, 7.9405127, 13.336047, 16.993153, 11.647204, 9.325555, 18.498524, 12.617554, 3.8694975, 3.858648, 5.0614986, 6.6176453, 4.140943, 8.52859, 21.890823, 20.060867, 14.10504, 27.653412, 3.1655438, 3.808916, 5.6153865, 3.1851652, 7.856672, 6.4037023, 18.482225, 16.369263, 32.606285, 17.927622, 30.807636, 20.487484, 4.5947933, 3.2433789, 4.460153, 6.154836, 3.4951024, 5.8678937, 10.162931, 16.495682, 6.2269654, 8.503768, 15.640789, 8.663041, 19.258467, 17.596956, 11.1549635, 4.289282, 4.806163, 4.8507915, 5.1862373, 4.4807053, 5.154159, 15.666132, 22.130777, 15.89002, 19.906239, 20.279654, 13.323202, 3.9643617, 4.199794, 5.305365, 5.278929, 5.0104833, 3.6348813, 32.24954, 12.069258, 16.83424, 10.289143, 16.211737, 14.781779, 3.944151, 10.693422, 4.488952, 3.7114804, 6.254893, 4.8365955, 13.747666, 13.972334, 30.243284, 22.68059, 33.326187, 24.611515, 5.4414215, 4.034003, 5.4682875, 3.105741, 3.0967617, 5.78676, 16.754246, 22.202305, 16.021496, 19.168764, 25.82863, 15.63467, 12.197463, 24.3119, 12.995774, 4.6333795, 6.734004, 4.7106385, 4.6091967, 4.0132947, 7.9243913, 11.604865, 7.469136, 15.614463, 9.277734, 19.306225, 13.551988, 3.9878094, 4.455784, 4.0158334, 3.0085692, 4.6223173, 6.150691, 15.61694, 11.222559, 16.752373, 14.018834, 13.5818205, 14.899315, 5.054927, 3.662537, 5.7040486, 3.8751874, 4.7970023, 5.529785, 19.558235, 17.928404, 13.395121, 14.240786, 3.0577898, 2.975157, 3.911861, 4.384845, 3.6509118, 3.7090116, 7.7452273, 19.275972, 18.081131, 16.969797, 24.266443, 15.87418, 5.9005837, 2.3290422, 5.2482796, 2.767142, 4.262305, 2.9633021, 15.931788, 21.263632, 21.226212, 16.495462, 22.480818, 17.999554, 6.0525637, 3.2775486, 3.331941, 8.7689, 5.158982, 5.6015368, 14.112072, 20.636642, 21.722692, 16.932676, 12.23299, 16.652807, 5.3743634, 5.250632, 7.668073, 5.010022, 3.8486886, 4.0552, 11.600168, 22.520937, 23.041975, 15.128912, 21.550734, 15.681485, 6.5801725, 3.1596096, 4.258434, 6.5035796, 4.86562, 4.9092765, 14.788394, 10.986348, 14.631977, 13.118144, 26.187164, 10.455682, 7.905813, 5.6193266, 8.391377, 5.5516686, 4.369579, 5.210134, 16.001772, 12.2164545, 14.990118, 18.809439, 27.715385, 19.512518, 4.9842787, 5.243794, 4.902854, 3.8699334, 4.4645762, 3.3108747, 17.028671, 12.488967, 19.762375, 13.926927, 16.220573, 13.25231, 3.7592602, 2.2386389, 3.9718769, 4.611187, 3.8404224, 4.2197566, 12.991671, 15.082354, 19.072445, 19.032528, 4.3641663, 8.662802, 2.8187685, 4.650362, 5.725145, 7.305362, 12.869472, 8.946224, 10.112774, 9.426313, 8.921897, 13.767614, 4.7003245, 3.270815, 3.9100876, 4.596867, 1.8746898, 2.3787358, 12.587311, 15.048384, 13.336467, 17.835037, 16.886734, 20.34309, 3.057816, 2.7103, 3.3196445, 5.208888, 6.6467266, 7.104861, 20.139505, 24.13525, 16.050512, 20.027967, 4.3233232, 3.208443, 2.5593908, 4.247309, 3.0797527, 4.394368, 12.493618, 20.003149, 14.096675, 8.686975, 15.677171, 13.302816, 20.337587, 11.34164, 9.098364, 4.701621, 4.0681367, 5.5156145, 2.0269856, 4.7858706, 4.671649, 14.488344, 12.879863, 5.9911017, 11.6358595, 22.919811, 12.58407, 7.667221, 16.143803, 16.863636, 8.341859, 7.6746235, 3.474521, 5.7684913, 3.9576545, 5.246582, 14.017434, 12.03913, 12.339033, 18.730734, 20.521065, 19.01161, 16.104979, 24.703587, 24.00816, 14.256549, 25.790388, 13.375921, 6.576884, 5.9441385, 6.218598, 4.095935, 4.947311, 6.9690986, 20.363222, 6.996916, 17.518215, 7.5627346, 14.78671, 8.461847, 3.8569403, 6.421867, 4.752045, 8.176944, 8.012996, 6.734846, 12.866834, 22.24372, 8.76537, 21.756102, 3.2922804, 3.280059, 4.1317782, 4.1631904, 4.2563396, 6.0186477, 18.462301, 14.663375, 21.728504, 13.709633, 19.106987, 12.780582, 7.0941815, 3.4852214, 3.7708254, 1.6230375, 5.2476144, 3.9900649, 18.881018, 10.315175, 11.590502, 12.196625, 13.577086, 13.4580145, 15.736478, 11.998418, 12.874986, 6.8341274, 4.7709866, 3.1562371, 5.425994, 5.7387295, 4.405411, 16.82745, 14.902957, 19.74722, 14.68877, 4.166429, 6.6997986, 3.554668, 4.4445753, 4.798887, 6.4449406, 10.958337, 12.856573, 10.17771, 8.766005, 14.837192, 13.557101, 4.2616553, 3.228919, 2.577268, 2.3081226, 3.4760492, 3.6007736, 18.505705, 8.353044, 21.624275, 11.003513, 19.75857, 12.429918, 3.1296628, 3.7732582, 5.324395, 3.2809238, 2.3395758, 4.324503, 13.907144, 12.858805, 24.475445, 14.024034, 29.720217, 20.314968, 5.023724, 6.0119324, 7.4617205, 4.372502, 8.361942, 4.5978928, 17.256678, 15.442562, 11.809979, 12.6023655, 17.86488, 20.41616, 4.6016064, 3.3949108, 4.646865, 4.1129017, 4.376323, 6.800741, 13.862607, 16.05071, 13.627117, 17.632254, 5.7233677, 5.106269, 3.840973, 4.6249185, 4.86064, 5.6621065, 21.773348, 19.114388, 25.861979, 24.2126, 6.4137163, 5.2359047, 5.7752624, 3.4640381, 9.7674055, 6.3413014, 33.639496, 15.176159, 14.231044, 20.100967, 11.089434, 24.242327, 24.180763, 23.586063, 23.816578, 4.2044525, 4.811128, 4.1835136, 6.4279475, 5.4263825, 5.8797555, 13.65775, 22.760344, 13.2104845, 19.506067, 6.1455636, 4.5754094, 3.7448003, 6.2430754, 4.458925, 4.7533092, 20.63564, 22.025942, 20.782877, 22.694593, 5.5347147, 3.5694656, 6.627777, 2.8613987, 2.9709044, 4.5121827, 18.844093, 19.640863, 22.68424, 14.181868, 16.70891, 23.163694]\n"
     ]
    }
   ],
   "source": [
    "print(flat_train_distances)"
   ]
  },
  {
   "cell_type": "code",
   "execution_count": 30,
   "metadata": {},
   "outputs": [],
   "source": [
    "def get_min_max(euclidean_distances):\n",
    "    min_distance = min(euclidean_distances)\n",
    "    max_distance = max(euclidean_distances)\n",
    "\n",
    "    return min_distance, max_distance"
   ]
  },
  {
   "cell_type": "code",
   "execution_count": 31,
   "metadata": {},
   "outputs": [
    {
     "name": "stdout",
     "output_type": "stream",
     "text": [
      "min: 1.6230374574661255, max: 33.639495849609375\n"
     ]
    }
   ],
   "source": [
    "min_val, max_val = get_min_max(flat_train_distances)\n",
    "print(f'min: {min_val}, max: {max_val}')"
   ]
  },
  {
   "cell_type": "code",
   "execution_count": 32,
   "metadata": {},
   "outputs": [],
   "source": [
    "def normalize_distance(euclidean_distances, min_val, max_val):\n",
    "    all_distance = []\n",
    "\n",
    "    for distance in euclidean_distances:\n",
    "        normalized_distance = (distance - min_val) / (max_val - min_val)\n",
    "\n",
    "        # in case test and train distances are beyond max of train\n",
    "        if normalized_distance > 1:\n",
    "            normalized_distance = 1\n",
    "        elif normalized_distance < 0:\n",
    "            normalized_distance = 0\n",
    "        \n",
    "        all_distance.append(normalized_distance)\n",
    "\n",
    "    return all_distance\n",
    "\n",
    "def reverse_normalized_distance(euclidean_distances, min_val, max_val):\n",
    "    reverse_distance = []\n",
    "    normalized_distances = normalize_distance(euclidean_distances, min_val, max_val)\n",
    "    for distance in normalized_distances:\n",
    "        distance = -distance\n",
    "        reverse_distance.append(distance)\n",
    "\n",
    "    return reverse_distance"
   ]
  },
  {
   "cell_type": "code",
   "execution_count": 33,
   "metadata": {},
   "outputs": [],
   "source": [
    "normalized_test_euclidean_distance = reverse_normalized_distance(flat_test_distances, min_val, max_val)\n",
    "normalized_train_euclidean_distance = reverse_normalized_distance(flat_train_distances, min_val, max_val)\n",
    "normalized_validation_euclidean_distance = reverse_normalized_distance(flat_validation_distances, min_val, max_val)"
   ]
  },
  {
   "cell_type": "code",
   "execution_count": 34,
   "metadata": {},
   "outputs": [
    {
     "name": "stdout",
     "output_type": "stream",
     "text": [
      "[-0.24948552, -0.22000138, -0.194515, -0.06775997, -0.091127545, -0.2908947, -0.21389803, -0.23116446, -0.11036554, -0.13616548, -0.0852198, -0.104448535, -0.8506845, -0.71713394, -0.6942354, -0.2884454, -0.15854087, -0.12352751, -0.18521693, -0.17884469, -0.38774213, -0.42901105, -0.44053617, -0.190993, -0.15395826, -0.2312901, -0.26142865, -0.27531323, -0.5271584, -0.2947249, -0.6146137, -0.17196493, -0.20482947, -0.16251564, -0.16549578, -0.28886494, -0.37746876, -0.47162986, -0.34763566, -0.16156594, -0.21779048, -0.09741828, -0.13871051, -0.13114776, -0.18715058, -0.33664542, -0.25205708, -0.12078311, -0.10585025, -0.1692481, -0.053622115, -0.03922411, -0.56273097, -0.42558265, -0.29410043, -0.12155546, -0.086121336, -0.17168587, -0.5609445, -0.70254076, -0.5196008, -0.18762922, -0.21493873, -0.10004562, -0.0893559, -0.09965283, -0.29870617, -0.13464047, -0.21785502, -0.1928983, -0.1279195, -0.20950305, -0.095585346, -0.06257727, -0.044905297, -0.4025107, -0.35108572, -0.3914978, -0.21990518, -0.15130885, -0.28943238, -0.1804584, -0.13868052, -0.53973424, -0.2561542, -0.4447695, -0.42152536, -0.107052825, -0.108334884, -0.1280899, -0.5108874, -0.37815955, -0.47022426, -0.118353315, -0.05640755, -0.094607055, -0.25248542, -0.35998836, -0.637446, -0.13290052, -0.15292878, -0.02935325, -0.6543729, -0.3777742, -0.5847477, -0.2098832, -0.054503065, -0.03804089, -0.28013125, -0.17161188, -0.45246947, -0.3633924, -0.022686798, -0.0781017, -0.028710311, -0.305807, -0.57828623, -0.7527879, -0.093113385, -0.11909306, -0.10461519, -0.40129292, -0.3382101, -0.46531054, -0.31454447, -0.0892209, -0.10282807, -0.09436504, -0.30327898, -0.4695541, -0.03925072, -0.13336085, -0.17958221, -0.59191054, -0.37765434, -0.32045314, -0.10594431, -0.12542908, -0.20577487, -0.3329193, -0.7625995, -0.04135614, -0.04948072, -0.14125107, -0.5347838, -0.381016, -0.7105204, -0.18399762, -0.1619088, -0.11916245, -0.6333595, -0.48138246, -0.075745225, -0.10200728, -0.0813065, -0.34741023, -0.28952548, -0.24707474, -0.04351537, -0.059102558, -0.10793558, -0.42254773, -0.3913022, -0.33639053, -0.118540645, -0.17350285, -0.2122548, -0.50955236, -0.3487238, -0.67952436, -0.14081164, -0.10471019, -0.21068369, -0.5105401, -0.51188135, -0.23710649, -0.10809206, -0.13589351, -0.49590102, -0.64030766, -0.87280333, -0.059127968, -0.116404094, -0.23909268, -0.38918424, -0.29198098, -0.44442824, -0.22374764, -0.17154704, -0.15813959, -0.076015376, -0.40228862, -0.50561446, -0.6633506, -0.1887905, -0.1253987, -0.11684955, -0.4092048, -0.70057696, -0.65581244, -0.08483754, -0.11921955, -0.25598213, -0.70838, -0.35021326, -0.74640304, -0.06141962, -0.043681066, -0.14826085, -0.25148815, -0.6665612, -0.6490541, -0.51346445, -0.054123122, -0.16085628, -0.088352725, -0.42663306, -0.49245256, -0.4720723, -0.09816395, -0.11118754, -0.11921709, -0.20437454, -0.50453144, -0.36483014, -0.2230715, -0.05603617, -0.058493108, -0.29658982, -0.34076834, -0.10981941, -0.111685954, -0.13485307, -0.5749334, -0.48026446, -0.6068367, -0.050026108, -0.17085513, -0.045604277, -0.7035885, -0.46143976, -0.7660609, -0.11619376, -0.12962931, -0.20858099, -0.1718133, -0.6156076, -0.7890843, -0.22204046, -0.2572298, -0.14113227, -0.5718766, -0.83289367, -0.65817946, -0.10956549, -0.12752995, -0.11188012, -0.42860222, -0.2735074, -0.84026587, -0.08148585, -0.15135688, -0.116189376, -0.3778522, -0.3857288, -0.5192261, -0.23820733, -0.14844893, -0.23211028, -0.43279156, -0.5458116, -0.46597126, -0.04715554, -0.028387241, -0.032659285, -0.3139521, -0.47723445, -0.12884156, -0.14050823, -0.15291007, -0.31494024, -0.31755665, -0.24760489, -0.054607715, -0.090995245, -0.035959084, -0.61315435, -0.49527442, -0.28329816, -0.1504476, -0.1584842, -0.089452535, -0.6605378, -0.7044375, -0.05061658, -0.1664209, -0.055133313, -0.32666522, -0.38736576, -0.37050703, -0.42105383, -0.085183606, -0.16759999, -0.0355765, -0.1961143, -0.2201754, -0.24961801, -0.26063895, -0.21791165, -0.21604061, -0.33862802, -0.47640845, -0.4259689, -0.24189842, -0.60244143, -0.037025534, -0.07029317, -0.1250852, -0.1714036, -0.93052405, -0.6765111, -0.08061827, -0.18952851, -0.1597812, -0.23084502, -0.32394543, -0.07929254, -0.17367946, -0.11602829, -0.36192018, -0.6642622, -0.26873517, -0.115531385, -0.081046835, -0.13539149, -0.43100512, -0.60084337, -0.5554274, -0.46998835, -0.10085005, -0.11460928, -0.13008812, -0.5281307, -0.31136635, -0.10658879, -0.17452568, -0.17444207, -0.5162206, -0.25474745, -0.50870615, -0.059403658, -0.046364013, -0.085959174, -0.3124796, -0.40300918, -0.6545138, -0.15921845, -0.056267064, -0.04555481, -0.63808966, -0.44941345, -0.6693038, -0.0773963, -0.19654955, -0.08500583, -0.51121014, -0.49481514, -0.32583505, -0.092776805, -0.1391286, -0.2316577, -0.2990249, -0.562787, -0.07394323, -0.09545504, -0.08654237, -0.878134, -0.65764695, -0.09108811, -0.09938192, -0.1938289, -0.66718775, -0.7921233, -0.46611676, -0.7364918, -0.08738938, -0.12712245, -0.08014703, -0.40420464, -0.23345153, -0.084486365, -0.069522314, -0.1133192, -0.7429542, -0.6866024, -0.24027556, -0.1861922, -0.07589521, -0.5617449, -0.41265345, -0.808942]\n"
     ]
    }
   ],
   "source": [
    "print(normalized_test_euclidean_distance)"
   ]
  },
  {
   "cell_type": "markdown",
   "metadata": {},
   "source": [
    "# 3. ROC Curve"
   ]
  },
  {
   "cell_type": "code",
   "execution_count": 35,
   "metadata": {},
   "outputs": [],
   "source": [
    "from sklearn.metrics import roc_curve, auc\n",
    "import matplotlib.pyplot as plt\n",
    "from matplotlib.ticker import MultipleLocator"
   ]
  },
  {
   "cell_type": "code",
   "execution_count": 36,
   "metadata": {},
   "outputs": [
    {
     "data": {
      "image/png": "[encoded data removed]",
      "text/plain": [
       "<Figure size 800x800 with 1 Axes>"
      ]
     },
     "metadata": {},
     "output_type": "display_data"
    }
   ],
   "source": [
    "# Flatten the lists of labels\n",
    "flat_test_labels = [item for sublist in test_euclidean_actual_labels for item in sublist]\n",
    "flat_train_labels = [item for sublist in train_euclidean_actual_labels for item in sublist]\n",
    "flat_validation_labels = [item for sublist in validation_euclidean_actual_labels for item in sublist]\n",
    "\n",
    "# Calculate ROC curve\n",
    "fpr_test, tpr_test, thresholds_test = roc_curve(flat_test_labels, normalized_test_euclidean_distance, drop_intermediate=False)\n",
    "roc_auc_test = auc(fpr_test, tpr_test)\n",
    "fpr_train, tpr_train, thresholds_train = roc_curve(flat_train_labels, normalized_train_euclidean_distance, drop_intermediate=False)\n",
    "roc_auc_train = auc(fpr_train, tpr_train)\n",
    "fpr_validation, tpr_validation, thresholds_validation = roc_curve(flat_validation_labels, normalized_validation_euclidean_distance, drop_intermediate=False)\n",
    "roc_auc_validation = auc(fpr_validation, tpr_validation)\n",
    "\n",
    "# Plot ROC curve\n",
    "plt.figure(figsize=(8, 8))\n",
    "\n",
    "plt.plot(fpr_train, tpr_train, color='darkseagreen', lw=2, label=f'Train AUC = {roc_auc_train:.5f}')\n",
    "plt.plot(fpr_validation, tpr_validation, color='steelblue', lw=2, label=f'Validation AUC = {roc_auc_validation:.5f}')\n",
    "plt.plot(fpr_test, tpr_test, color='peru', lw=2, label=f'Test AUC = {roc_auc_test:.5f}')\n",
    "\n",
    "plt.plot([0, 1], [0, 1], color='navy', lw=2, linestyle='--')\n",
    "plt.xlabel('False Positive Rate')\n",
    "plt.ylabel('True Positive Rate')\n",
    "plt.title('ROC Curves - Euclidean Distance')\n",
    "plt.legend(loc='lower right')\n",
    "plt.show()"
   ]
  },
  {
   "cell_type": "code",
   "execution_count": 37,
   "metadata": {},
   "outputs": [
    {
     "name": "stdout",
     "output_type": "stream",
     "text": [
      "[0.         0.00471698 0.00943396 0.01415094 0.01886792 0.02358491\n",
      " 0.02830189 0.03301887 0.03773585 0.04245283 0.04716981 0.05188679\n",
      " 0.05660377 0.06132075 0.06603774 0.07075472 0.0754717  0.08018868\n",
      " 0.08490566 0.08962264 0.09433962 0.0990566  0.10377358 0.10849057\n",
      " 0.11320755 0.11792453 0.12264151 0.12735849 0.13207547 0.13679245\n",
      " 0.14150943 0.14622642 0.1509434  0.15566038 0.16037736 0.16509434\n",
      " 0.16981132 0.1745283  0.17924528 0.18396226 0.18867925 0.19339623\n",
      " 0.19811321 0.20283019 0.20754717 0.21226415 0.21698113 0.22169811\n",
      " 0.22641509 0.23113208 0.23584906 0.24056604 0.24528302 0.25\n",
      " 0.25471698 0.25943396 0.26415094 0.26886792 0.27358491 0.27830189\n",
      " 0.28301887 0.28773585 0.29245283 0.29716981 0.30188679 0.30660377\n",
      " 0.31132075 0.31603774 0.32075472 0.3254717  0.33018868 0.33490566\n",
      " 0.33962264 0.34433962 0.3490566  0.35377358 0.35849057 0.36320755\n",
      " 0.36792453 0.37264151 0.37735849 0.38207547 0.38679245 0.39150943\n",
      " 0.39622642 0.4009434  0.40566038 0.41037736 0.41509434 0.41981132\n",
      " 0.4245283  0.42924528 0.43396226 0.43867925 0.44339623 0.44811321\n",
      " 0.45283019 0.45754717 0.46226415 0.46698113 0.47169811 0.47641509\n",
      " 0.48113208 0.48584906 0.49056604 0.49528302 0.5        0.50471698\n",
      " 0.50943396 0.51415094 0.51886792 0.52358491 0.52830189 0.53301887\n",
      " 0.53773585 0.54245283 0.54716981 0.55188679 0.55660377 0.56132075\n",
      " 0.56603774 0.57075472 0.5754717  0.58018868 0.58490566 0.58962264\n",
      " 0.59433962 0.5990566  0.5990566  0.60377358 0.60849057 0.61320755\n",
      " 0.61792453 0.62264151 0.62735849 0.63207547 0.63679245 0.64150943\n",
      " 0.64622642 0.6509434  0.65566038 0.66037736 0.66509434 0.66981132\n",
      " 0.6745283  0.67924528 0.68396226 0.68867925 0.69339623 0.69811321\n",
      " 0.70283019 0.70754717 0.71226415 0.71698113 0.72169811 0.72641509\n",
      " 0.73113208 0.73584906 0.74056604 0.74528302 0.75       0.75471698\n",
      " 0.75471698 0.75943396 0.75943396 0.76415094 0.76415094 0.76886792\n",
      " 0.77358491 0.77830189 0.78301887 0.78773585 0.79245283 0.79716981\n",
      " 0.80188679 0.80660377 0.81132075 0.81603774 0.81603774 0.82075472\n",
      " 0.8254717  0.83018868 0.83490566 0.83490566 0.83962264 0.84433962\n",
      " 0.84433962 0.8490566  0.8490566  0.85377358 0.85849057 0.86320755\n",
      " 0.86792453 0.87264151 0.87735849 0.88207547 0.88207547 0.88679245\n",
      " 0.89150943 0.89622642 0.89622642 0.9009434  0.90566038 0.91037736\n",
      " 0.91037736 0.91509434 0.91981132 0.91981132 0.91981132 0.9245283\n",
      " 0.92924528 0.93396226 0.93867925 0.93867925 0.94339623 0.94811321\n",
      " 0.95283019 0.95754717 0.95754717 0.95754717 0.95754717 0.96226415\n",
      " 0.96226415 0.96226415 0.96226415 0.96226415 0.96226415 0.96698113\n",
      " 0.96698113 0.97169811 0.97169811 0.97641509 0.97641509 0.97641509\n",
      " 0.98113208 0.98113208 0.98113208 0.98584906 0.99056604 0.99528302\n",
      " 0.99528302 0.99528302 0.99528302 0.99528302 0.99528302 0.99528302\n",
      " 0.99528302 0.99528302 0.99528302 0.99528302 0.99528302 0.99528302\n",
      " 0.99528302 0.99528302 0.99528302 0.99528302 0.99528302 0.99528302\n",
      " 0.99528302 0.99528302 0.99528302 0.99528302 0.99528302 0.99528302\n",
      " 1.         1.         1.         1.         1.         1.\n",
      " 1.         1.         1.         1.         1.         1.\n",
      " 1.         1.         1.         1.         1.         1.\n",
      " 1.         1.         1.         1.         1.         1.\n",
      " 1.         1.         1.         1.         1.         1.\n",
      " 1.         1.         1.         1.         1.         1.\n",
      " 1.         1.         1.         1.         1.         1.\n",
      " 1.         1.         1.         1.         1.         1.\n",
      " 1.         1.         1.         1.         1.         1.\n",
      " 1.         1.         1.         1.         1.         1.\n",
      " 1.         1.         1.         1.         1.         1.\n",
      " 1.         1.         1.         1.         1.         1.\n",
      " 1.         1.         1.         1.         1.         1.\n",
      " 1.         1.         1.         1.         1.         1.\n",
      " 1.         1.         1.         1.         1.         1.\n",
      " 1.         1.         1.         1.         1.         1.\n",
      " 1.         1.         1.         1.         1.         1.\n",
      " 1.         1.         1.         1.         1.         1.\n",
      " 1.         1.         1.         1.         1.         1.\n",
      " 1.         1.         1.         1.         1.         1.\n",
      " 1.         1.         1.         1.         1.         1.\n",
      " 1.         1.         1.         1.         1.         1.\n",
      " 1.         1.         1.         1.         1.         1.        ]\n"
     ]
    }
   ],
   "source": [
    "print(tpr_test)"
   ]
  },
  {
   "cell_type": "code",
   "execution_count": 38,
   "metadata": {},
   "outputs": [
    {
     "name": "stdout",
     "output_type": "stream",
     "text": [
      "[0.         0.         0.         0.         0.         0.\n",
      " 0.         0.         0.         0.         0.         0.\n",
      " 0.         0.         0.         0.         0.         0.\n",
      " 0.         0.         0.         0.         0.         0.\n",
      " 0.         0.         0.         0.         0.         0.\n",
      " 0.         0.         0.         0.         0.         0.\n",
      " 0.         0.         0.         0.         0.         0.\n",
      " 0.         0.         0.         0.         0.         0.\n",
      " 0.         0.         0.         0.         0.         0.\n",
      " 0.         0.         0.         0.         0.         0.\n",
      " 0.         0.         0.         0.         0.         0.\n",
      " 0.         0.         0.         0.         0.         0.\n",
      " 0.         0.         0.         0.         0.         0.\n",
      " 0.         0.         0.         0.         0.         0.\n",
      " 0.         0.         0.         0.         0.         0.\n",
      " 0.         0.         0.         0.         0.         0.\n",
      " 0.         0.         0.         0.         0.         0.\n",
      " 0.         0.         0.         0.         0.         0.\n",
      " 0.         0.         0.         0.         0.         0.\n",
      " 0.         0.         0.         0.         0.         0.\n",
      " 0.         0.         0.         0.         0.         0.\n",
      " 0.         0.         0.00529101 0.00529101 0.00529101 0.00529101\n",
      " 0.00529101 0.00529101 0.00529101 0.00529101 0.00529101 0.00529101\n",
      " 0.00529101 0.00529101 0.00529101 0.00529101 0.00529101 0.00529101\n",
      " 0.00529101 0.00529101 0.00529101 0.00529101 0.00529101 0.00529101\n",
      " 0.00529101 0.00529101 0.00529101 0.00529101 0.00529101 0.00529101\n",
      " 0.00529101 0.00529101 0.00529101 0.00529101 0.00529101 0.00529101\n",
      " 0.01058201 0.01058201 0.01587302 0.01587302 0.02116402 0.02116402\n",
      " 0.02116402 0.02116402 0.02116402 0.02116402 0.02116402 0.02116402\n",
      " 0.02116402 0.02116402 0.02116402 0.02116402 0.02645503 0.02645503\n",
      " 0.02645503 0.02645503 0.02645503 0.03174603 0.03174603 0.03174603\n",
      " 0.03703704 0.03703704 0.04232804 0.04232804 0.04232804 0.04232804\n",
      " 0.04232804 0.04232804 0.04232804 0.04232804 0.04761905 0.04761905\n",
      " 0.04761905 0.04761905 0.05291005 0.05291005 0.05291005 0.05291005\n",
      " 0.05820106 0.05820106 0.05820106 0.06349206 0.06878307 0.06878307\n",
      " 0.06878307 0.06878307 0.06878307 0.07407407 0.07407407 0.07407407\n",
      " 0.07407407 0.07407407 0.07936508 0.08465608 0.08994709 0.08994709\n",
      " 0.0952381  0.1005291  0.10582011 0.11111111 0.11640212 0.11640212\n",
      " 0.12169312 0.12169312 0.12698413 0.12698413 0.13227513 0.13756614\n",
      " 0.13756614 0.14285714 0.14814815 0.14814815 0.14814815 0.14814815\n",
      " 0.15343915 0.15873016 0.16402116 0.16931217 0.17460317 0.17989418\n",
      " 0.18518519 0.19047619 0.1957672  0.2010582  0.20634921 0.21164021\n",
      " 0.21693122 0.22222222 0.22751323 0.23280423 0.23809524 0.24338624\n",
      " 0.24867725 0.25396825 0.25925926 0.26455026 0.26984127 0.27513228\n",
      " 0.27513228 0.28042328 0.28571429 0.29100529 0.2962963  0.3015873\n",
      " 0.30687831 0.31216931 0.31746032 0.32275132 0.32804233 0.33333333\n",
      " 0.33862434 0.34391534 0.34920635 0.35449735 0.35978836 0.36507937\n",
      " 0.37037037 0.37566138 0.38095238 0.38624339 0.39153439 0.3968254\n",
      " 0.4021164  0.40740741 0.41269841 0.41798942 0.42328042 0.42857143\n",
      " 0.43386243 0.43915344 0.44444444 0.44973545 0.45502646 0.46031746\n",
      " 0.46560847 0.47089947 0.47619048 0.48148148 0.48677249 0.49206349\n",
      " 0.4973545  0.5026455  0.50793651 0.51322751 0.51851852 0.52380952\n",
      " 0.52910053 0.53439153 0.53968254 0.54497354 0.55026455 0.55555556\n",
      " 0.56084656 0.56613757 0.57142857 0.57671958 0.58201058 0.58730159\n",
      " 0.59259259 0.5978836  0.6031746  0.60846561 0.61375661 0.61904762\n",
      " 0.62433862 0.62962963 0.63492063 0.64021164 0.64550265 0.65079365\n",
      " 0.65608466 0.66137566 0.66666667 0.67195767 0.67724868 0.68253968\n",
      " 0.68783069 0.69312169 0.6984127  0.7037037  0.70899471 0.71428571\n",
      " 0.71957672 0.72486772 0.73015873 0.73544974 0.74074074 0.74603175\n",
      " 0.75132275 0.75661376 0.76190476 0.76719577 0.77248677 0.77777778\n",
      " 0.78306878 0.78835979 0.79365079 0.7989418  0.8042328  0.80952381\n",
      " 0.81481481 0.82010582 0.82539683 0.83068783 0.83597884 0.84126984\n",
      " 0.84656085 0.85185185 0.85714286 0.86243386 0.86772487 0.87301587\n",
      " 0.87830688 0.88359788 0.88888889 0.89417989 0.8994709  0.9047619\n",
      " 0.91005291 0.91534392 0.92063492 0.92592593 0.93121693 0.93650794\n",
      " 0.94179894 0.94708995 0.95238095 0.95767196 0.96296296 0.96825397\n",
      " 0.97354497 0.97883598 0.98412698 0.98941799 0.99470899 1.        ]\n"
     ]
    }
   ],
   "source": [
    "print(fpr_test)"
   ]
  },
  {
   "cell_type": "code",
   "execution_count": 39,
   "metadata": {},
   "outputs": [],
   "source": [
    "def find_tpr_at_fpr(fpr, tpr, target_fpr):\n",
    "    return np.interp(target_fpr, fpr, tpr)"
   ]
  },
  {
   "cell_type": "code",
   "execution_count": 40,
   "metadata": {},
   "outputs": [],
   "source": [
    "target_fprs = [0.1, 0.01, 0.001]\n",
    "tpr_at_target_fpr_train = [find_tpr_at_fpr(fpr_train, tpr_train, fpr) for fpr in target_fprs]\n",
    "tpr_at_target_fpr_test = [find_tpr_at_fpr(fpr_test, tpr_test, fpr) for fpr in target_fprs]\n",
    "tpr_at_target_fpr_val = [find_tpr_at_fpr(fpr_validation, tpr_validation, fpr) for fpr in target_fprs]"
   ]
  },
  {
   "cell_type": "code",
   "execution_count": 41,
   "metadata": {},
   "outputs": [
    {
     "name": "stdout",
     "output_type": "stream",
     "text": [
      "Train\n",
      "TPR at FPR 0.100: 0.978\n",
      "TPR at FPR 0.010: 0.771\n",
      "TPR at FPR 0.001: 0.531\n",
      "             AUC: 0.9894913990637093\n",
      "Validation\n",
      "TPR at FPR 0.100: 0.929\n",
      "TPR at FPR 0.010: 0.401\n",
      "TPR at FPR 0.001: 0.396\n",
      "             AUC: 0.9713818910087487\n",
      "Test\n",
      "TPR at FPR 0.100: 0.962\n",
      "TPR at FPR 0.010: 0.755\n",
      "TPR at FPR 0.001: 0.599\n",
      "             AUC: 0.9847259658580413\n"
     ]
    }
   ],
   "source": [
    "print(\"Train\")\n",
    "for tpr, fpr in zip(tpr_at_target_fpr_train, target_fprs):\n",
    "    print(f'TPR at FPR {fpr:.3f}: {tpr:.3f}')\n",
    "print(f'             AUC: {roc_auc_train}')\n",
    "\n",
    "print(\"Validation\")\n",
    "for tpr, fpr in zip(tpr_at_target_fpr_val, target_fprs):\n",
    "    print(f'TPR at FPR {fpr:.3f}: {tpr:.3f}')\n",
    "print(f'             AUC: {roc_auc_validation}')\n",
    "\n",
    "print(\"Test\")\n",
    "for tpr, fpr in zip(tpr_at_target_fpr_test, target_fprs):\n",
    "    print(f'TPR at FPR {fpr:.3f}: {tpr:.3f}')\n",
    "print(f'             AUC: {roc_auc_test}')\n"
   ]
  },
  {
   "cell_type": "code",
   "execution_count": 42,
   "metadata": {},
   "outputs": [],
   "source": [
    "train_features_triplet_loss_path =  \"../feature/ICDAR-feature/train_features_triplet_loss.npy\"\n",
    "validation_features_triplet_loss_path = \"../feature/ICDAR-feature/validation_features_triplet_loss.npy\"\n",
    "test_features_triplet_loss_path = \"../feature/ICDAR-feature/test_features_triplet_loss.npy\"\n",
    "gallery_features_triplet_loss_path = \"../feature/ICDAR-feature/gallery_features_triplet_loss.npy\""
   ]
  },
  {
   "cell_type": "code",
   "execution_count": 43,
   "metadata": {},
   "outputs": [],
   "source": [
    "np.save(train_features_triplet_loss_path, train_predictions)\n",
    "np.save(test_features_triplet_loss_path, test_predictions)\n",
    "np.save(validation_features_triplet_loss_path, validation_predictions)\n",
    "np.save(gallery_features_triplet_loss_path, gallery_predictions)"
   ]
  }
 ],
 "metadata": {
  "kernelspec": {
   "display_name": "Python 3",
   "language": "python",
   "name": "python3"
  },
  "language_info": {
   "codemirror_mode": {
    "name": "ipython",
    "version": 3
   },
   "file_extension": ".py",
   "mimetype": "text/x-python",
   "name": "python",
   "nbconvert_exporter": "python",
   "pygments_lexer": "ipython3",
   "version": "3.11.1"
  }
 },
 "nbformat": 4,
 "nbformat_minor": 2
}
