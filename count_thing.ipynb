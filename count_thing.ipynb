{
 "cells": [
  {
   "cell_type": "code",
   "execution_count": 1,
   "metadata": {},
   "outputs": [],
   "source": [
    "import os\n",
    "import numpy as np\n",
    "import math"
   ]
  },
  {
   "cell_type": "code",
   "execution_count": 2,
   "metadata": {},
   "outputs": [],
   "source": [
    "icdar_path = '../dataset/ICDAR-2011'\n",
    "bengali_path = '../dataset/BHSig260-Bengali'\n",
    "\n",
    "icdar_positive = 0\n",
    "icdar_negative = 0\n",
    "bengali_positive = 0\n",
    "bengali_negative = 0"
   ]
  },
  {
   "cell_type": "code",
   "execution_count": 3,
   "metadata": {},
   "outputs": [],
   "source": [
    "def count(source_folder, positive, negative):\n",
    "    signatures = [folder for folder in os.listdir(source_folder) if os.path.isdir(os.path.join(source_folder, folder))]\n",
    "    total_signature = int(len(signatures)/2)\n",
    "\n",
    "    for signature in signatures:\n",
    "        # print(signature)\n",
    "        signature_path = os.path.join(source_folder, signature)\n",
    "        images = os.listdir(signature_path)\n",
    "        count = len(images)\n",
    "        # print(count)\n",
    "\n",
    "        if signature.endswith(\"_forg\"):\n",
    "            negative = negative + count\n",
    "        else:\n",
    "            positive = positive + count\n",
    "\n",
    "    return total_signature, positive, negative"
   ]
  },
  {
   "cell_type": "code",
   "execution_count": 4,
   "metadata": {},
   "outputs": [],
   "source": [
    "icdar_total, icdar_positive, icdar_negative = count(icdar_path, icdar_positive, icdar_negative)"
   ]
  },
  {
   "cell_type": "code",
   "execution_count": 5,
   "metadata": {},
   "outputs": [
    {
     "name": "stdout",
     "output_type": "stream",
     "text": [
      "Average positive for icdar dataset: 14\n",
      "Average negative for icdar dataset: 12\n"
     ]
    }
   ],
   "source": [
    "print(f'Average positive for icdar dataset: {math.ceil(icdar_positive/icdar_total)}')\n",
    "print(f'Average negative for icdar dataset: {math.ceil(icdar_negative/icdar_total)}')"
   ]
  },
  {
   "cell_type": "code",
   "execution_count": 6,
   "metadata": {},
   "outputs": [],
   "source": [
    "bengali_total, bengali_positive, bengali_negative = count(bengali_path, bengali_positive, bengali_negative)"
   ]
  },
  {
   "cell_type": "code",
   "execution_count": 8,
   "metadata": {},
   "outputs": [
    {
     "name": "stdout",
     "output_type": "stream",
     "text": [
      "Average positive for bengali dataset: 24\n",
      "Average negative for bengali dataset: 30\n"
     ]
    }
   ],
   "source": [
    "print(f'Average positive for bengali dataset: {math.ceil(bengali_positive/bengali_total)}')\n",
    "print(f'Average negative for bengali dataset: {math.ceil(bengali_negative/bengali_total)}')"
   ]
  }
 ],
 "metadata": {
  "kernelspec": {
   "display_name": "Python 3",
   "language": "python",
   "name": "python3"
  },
  "language_info": {
   "codemirror_mode": {
    "name": "ipython",
    "version": 3
   },
   "file_extension": ".py",
   "mimetype": "text/x-python",
   "name": "python",
   "nbconvert_exporter": "python",
   "pygments_lexer": "ipython3",
   "version": "3.11.1"
  }
 },
 "nbformat": 4,
 "nbformat_minor": 2
}
