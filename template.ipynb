{
 "cells": [
  {
   "cell_type": "markdown",
   "metadata": {},
   "source": [
    "# 1. Data Pre-Processing"
   ]
  },
  {
   "cell_type": "markdown",
   "metadata": {},
   "source": [
    "### Import Library"
   ]
  },
  {
   "cell_type": "code",
   "execution_count": 1,
   "metadata": {},
   "outputs": [],
   "source": [
    "import os\n",
    "import shutil\n",
    "from sklearn.model_selection import train_test_split"
   ]
  },
  {
   "cell_type": "markdown",
   "metadata": {},
   "source": [
    "### Folder Paths"
   ]
  },
  {
   "cell_type": "code",
   "execution_count": 2,
   "metadata": {},
   "outputs": [],
   "source": [
    "# source_folder = folder penyimpanan kumpulan dataset yang masih tercampur atau belum dibagi menjadi train, test, dan validation\n",
    "source_folder = \"../dataset/ICDAR-2011\"\n",
    "# train_folder, test_folder, validation_folder = folder tujuan / tempat penyimpanan dataset setelah dibagi di bagian \"Train and Test Data Split\" \n",
    "train_folder = \"../template/ICDAR-data/train\"\n",
    "test_folder = \"../template/ICDAR-data/test\"\n",
    "validation_folder = \"../template/ICDAR-data/validation\""
   ]
  },
  {
   "cell_type": "markdown",
   "metadata": {},
   "source": [
    "### Train and Test Data Split"
   ]
  },
  {
   "cell_type": "code",
   "execution_count": null,
   "metadata": {},
   "outputs": [],
   "source": [
    "# Hanya membagi data, belum read / membaca gambar "
   ]
  },
  {
   "cell_type": "code",
   "execution_count": 3,
   "metadata": {},
   "outputs": [],
   "source": [
    "def extract_label(folder_name):\n",
    "    return 0 if \"_forg\" in folder_name else 1\n",
    "\n",
    "def split_data(source_folder, train_folder, test_folder, validation_folder):\n",
    "    if not os.path.exists(train_folder):\n",
    "        os.makedirs(train_folder)\n",
    "    if not os.path.exists(test_folder):\n",
    "        os.makedirs(test_folder)\n",
    "    if not os.path.exists(validation_folder):\n",
    "        os.makedirs(validation_folder)\n",
    "\n",
    "    signatures = [folder for folder in os.listdir(source_folder) if os.path.isdir(os.path.join(source_folder, folder))]\n",
    "    for signature in signatures:\n",
    "        signature_path = os.path.join(source_folder, signature)\n",
    "        images = os.listdir(signature_path)\n",
    "\n",
    "        label = extract_label(signature)\n",
    "\n",
    "        train_signature_temp, test_signature = train_test_split(images, test_size=0.2, random_state=3, stratify=[label]*len(images)) #stratify\n",
    "        train_signature, validation_signature = train_test_split(train_signature_temp, test_size=0.25, random_state=3, stratify=[label]*len(train_signature_temp))\n",
    "\n",
    "        for sig in train_signature:\n",
    "            source_path = os.path.join(signature_path, sig)\n",
    "            destination_path = os.path.join(train_folder, signature)\n",
    "            if not os.path.exists(destination_path):\n",
    "                os.makedirs(destination_path)\n",
    "            destination_path = os.path.join(destination_path, sig)\n",
    "            shutil.copy(source_path, destination_path)\n",
    "\n",
    "        for sig in test_signature:\n",
    "            source_path = os.path.join(signature_path, sig)\n",
    "            destination_path = os.path.join(test_folder, signature)\n",
    "            if not os.path.exists(destination_path):\n",
    "                os.makedirs(destination_path)\n",
    "            destination_path = os.path.join(destination_path, sig)\n",
    "            shutil.copy(source_path, destination_path)\n",
    "\n",
    "        for sig in validation_signature:\n",
    "            source_path = os.path.join(signature_path, sig)\n",
    "            destination_path = os.path.join(validation_folder, signature)\n",
    "            if not os.path.exists(destination_path):\n",
    "                os.makedirs(destination_path)\n",
    "            destination_path = os.path.join(destination_path, sig)\n",
    "            shutil.copy(source_path, destination_path)"
   ]
  },
  {
   "cell_type": "code",
   "execution_count": 4,
   "metadata": {},
   "outputs": [],
   "source": [
    "# split_data(source_folder, train_folder, test_folder, validation_folder)"
   ]
  },
  {
   "cell_type": "markdown",
   "metadata": {},
   "source": [
    "# 2. Feature Extraction"
   ]
  },
  {
   "cell_type": "markdown",
   "metadata": {},
   "source": [
    "### Load vgg16 model"
   ]
  },
  {
   "cell_type": "code",
   "execution_count": 5,
   "metadata": {},
   "outputs": [],
   "source": [
    "from tensorflow.keras.applications import VGG16\n",
    "from tensorflow.keras.applications.vgg16 import preprocess_input\n",
    "from tensorflow.keras.preprocessing import image\n",
    "import numpy as np"
   ]
  },
  {
   "cell_type": "code",
   "execution_count": 6,
   "metadata": {},
   "outputs": [],
   "source": [
    "model = VGG16(weights='imagenet', include_top=False)"
   ]
  },
  {
   "cell_type": "markdown",
   "metadata": {},
   "source": [
    "### Extract Features"
   ]
  },
  {
   "cell_type": "code",
   "execution_count": 7,
   "metadata": {},
   "outputs": [],
   "source": [
    "from tensorflow.keras.models import Model\n",
    "import cv2 as cv"
   ]
  },
  {
   "cell_type": "code",
   "execution_count": 8,
   "metadata": {},
   "outputs": [],
   "source": [
    "size = 224"
   ]
  },
  {
   "cell_type": "code",
   "execution_count": 9,
   "metadata": {},
   "outputs": [],
   "source": [
    "base_model = VGG16(weights='imagenet', include_top=False, input_shape=(size, size, 3))\n",
    "model = Model(inputs=base_model.input, outputs=base_model.get_layer('block5_pool').output)"
   ]
  },
  {
   "cell_type": "code",
   "execution_count": 10,
   "metadata": {},
   "outputs": [
    {
     "name": "stdout",
     "output_type": "stream",
     "text": [
      "Model: \"model\"\n",
      "_________________________________________________________________\n",
      " Layer (type)                Output Shape              Param #   \n",
      "=================================================================\n",
      " input_2 (InputLayer)        [(None, 224, 224, 3)]     0         \n",
      "                                                                 \n",
      " block1_conv1 (Conv2D)       (None, 224, 224, 64)      1792      \n",
      "                                                                 \n",
      " block1_conv2 (Conv2D)       (None, 224, 224, 64)      36928     \n",
      "                                                                 \n",
      " block1_pool (MaxPooling2D)  (None, 112, 112, 64)      0         \n",
      "                                                                 \n",
      " block2_conv1 (Conv2D)       (None, 112, 112, 128)     73856     \n",
      "                                                                 \n",
      " block2_conv2 (Conv2D)       (None, 112, 112, 128)     147584    \n",
      "                                                                 \n",
      " block2_pool (MaxPooling2D)  (None, 56, 56, 128)       0         \n",
      "                                                                 \n",
      " block3_conv1 (Conv2D)       (None, 56, 56, 256)       295168    \n",
      "                                                                 \n",
      " block3_conv2 (Conv2D)       (None, 56, 56, 256)       590080    \n",
      "                                                                 \n",
      " block3_conv3 (Conv2D)       (None, 56, 56, 256)       590080    \n",
      "                                                                 \n",
      " block3_pool (MaxPooling2D)  (None, 28, 28, 256)       0         \n",
      "                                                                 \n",
      " block4_conv1 (Conv2D)       (None, 28, 28, 512)       1180160   \n",
      "                                                                 \n",
      " block4_conv2 (Conv2D)       (None, 28, 28, 512)       2359808   \n",
      "                                                                 \n",
      " block4_conv3 (Conv2D)       (None, 28, 28, 512)       2359808   \n",
      "                                                                 \n",
      " block4_pool (MaxPooling2D)  (None, 14, 14, 512)       0         \n",
      "                                                                 \n",
      " block5_conv1 (Conv2D)       (None, 14, 14, 512)       2359808   \n",
      "                                                                 \n",
      " block5_conv2 (Conv2D)       (None, 14, 14, 512)       2359808   \n",
      "                                                                 \n",
      " block5_conv3 (Conv2D)       (None, 14, 14, 512)       2359808   \n",
      "                                                                 \n",
      " block5_pool (MaxPooling2D)  (None, 7, 7, 512)         0         \n",
      "                                                                 \n",
      "=================================================================\n",
      "Total params: 14714688 (56.13 MB)\n",
      "Trainable params: 14714688 (56.13 MB)\n",
      "Non-trainable params: 0 (0.00 Byte)\n",
      "_________________________________________________________________\n"
     ]
    }
   ],
   "source": [
    "model.summary()"
   ]
  },
  {
   "cell_type": "code",
   "execution_count": 11,
   "metadata": {},
   "outputs": [],
   "source": [
    "def extract_features(folder_path, batch_size=32):\n",
    "    features = []\n",
    "    names = []\n",
    "    labels = []\n",
    "    signatures = [folder for folder in os.listdir(folder_path) if os.path.isdir(os.path.join(folder_path, folder))]\n",
    "\n",
    "    for signature in signatures:\n",
    "        signature_path = os.path.join(folder_path, signature)\n",
    "        images = os.listdir(signature_path)\n",
    "\n",
    "        batch_features = []\n",
    "        batch_names = []\n",
    "        batch_labels = []\n",
    "\n",
    "        for image_name in images:\n",
    "            image_path = os.path.join(signature_path, image_name)\n",
    "            # Read dan pre-processing gambar\n",
    "            img = cv.imread(image_path)\n",
    "            img = cv.cvtColor(img, cv.COLOR_BGR2RGB)\n",
    "            img = cv.resize(img, (size, size))\n",
    "            img = np.array(preprocess_input(img))\n",
    "\n",
    "            batch_features.append(img)\n",
    "            batch_names.append(signature[:3])\n",
    "\n",
    "            if signature.endswith(\"_forg\"):\n",
    "                batch_labels.append(0)\n",
    "            else:\n",
    "                batch_labels.append(1)\n",
    "\n",
    "            if len(batch_features) == batch_size:\n",
    "                batch_features = np.array(batch_features)\n",
    "                batch_features = model.predict(batch_features)\n",
    "                batch_features = batch_features.reshape(len(batch_features), -1)\n",
    "\n",
    "                features.extend(batch_features)\n",
    "                names.extend(batch_names)\n",
    "                labels.extend(batch_labels)\n",
    "\n",
    "                batch_features = []\n",
    "                batch_names = []\n",
    "                batch_labels = []\n",
    "\n",
    "        if batch_features:\n",
    "            batch_features = np.array(batch_features)\n",
    "            batch_features = model.predict(batch_features)\n",
    "            batch_features = batch_features.reshape(len(batch_features), -1)\n",
    "\n",
    "            features.extend(batch_features)\n",
    "            names.extend(batch_names)\n",
    "            labels.extend(batch_labels)\n",
    "\n",
    "    return features, names, labels"
   ]
  },
  {
   "cell_type": "code",
   "execution_count": 12,
   "metadata": {},
   "outputs": [],
   "source": [
    "# train_features, train_names, train_labels = extract_features(train_folder)\n",
    "# test_features, test_names, test_labels = extract_features(test_folder)\n",
    "# validation_features, validation_names, validation_labels = extract_features(validation_folder)"
   ]
  },
  {
   "cell_type": "markdown",
   "metadata": {},
   "source": [
    "### Save and Load Features, Names, and Labels to reduce time needed"
   ]
  },
  {
   "cell_type": "code",
   "execution_count": 13,
   "metadata": {},
   "outputs": [],
   "source": [
    "train_features_path =  \"../template/ICDAR-feature/train_features.npy\"\n",
    "train_names_path = \"../template/ICDAR-feature/train_names.npy\"\n",
    "train_labels_path = \"../template/ICDAR-feature/train_labels.npy\"\n",
    "\n",
    "test_features_path = \"../template/ICDAR-feature/test_features.npy\"\n",
    "test_names_path = \"../template/ICDAR-feature/test_names.npy\"\n",
    "test_labels_path = \"../template/ICDAR-feature/test_labels.npy\"\n",
    "\n",
    "validation_features_path = \"../template/ICDAR-feature/validation_features.npy\"\n",
    "validation_names_path = \"../template/ICDAR-feature/validation_names.npy\"\n",
    "validation_labels_path = \"../template/ICDAR-feature/validation_labels.npy\""
   ]
  },
  {
   "cell_type": "code",
   "execution_count": 14,
   "metadata": {},
   "outputs": [],
   "source": [
    "# np.save(train_features_path, train_features)\n",
    "# np.save(train_names_path, train_names)\n",
    "# np.save(train_labels_path, train_labels)\n",
    "\n",
    "# np.save(test_features_path, test_features)\n",
    "# np.save(test_names_path, test_names)\n",
    "# np.save(test_labels_path, test_labels)\n",
    "\n",
    "# np.save(validation_features_path, validation_features)\n",
    "# np.save(validation_names_path, validation_names)\n",
    "# np.save(validation_labels_path, validation_labels)"
   ]
  },
  {
   "cell_type": "code",
   "execution_count": 15,
   "metadata": {},
   "outputs": [],
   "source": [
    "train_features = np.load(train_features_path)\n",
    "train_names = np.load(train_names_path)\n",
    "train_labels = np.load(train_labels_path)\n",
    "\n",
    "test_features = np.load(test_features_path)\n",
    "test_names = np.load(test_names_path)\n",
    "test_labels = np.load(test_labels_path)\n",
    "\n",
    "validation_features = np.load(validation_features_path)\n",
    "validation_names = np.load(validation_names_path)\n",
    "validation_labels = np.load(validation_labels_path)"
   ]
  },
  {
   "cell_type": "markdown",
   "metadata": {},
   "source": [
    "### Feature Gallery"
   ]
  },
  {
   "cell_type": "code",
   "execution_count": 16,
   "metadata": {},
   "outputs": [],
   "source": [
    "# Feature Gallery dilakukan untuk setiap kelas / nama seperti \"001\", \"002\", \"003\", dst dengan cara mengambil data training positive dan mengambil mean / rata-rata dari data tersebut\n",
    "def create_feature_gallery(train_features, train_names, train_labels):\n",
    "    gallery_feature = []\n",
    "    gallery_name = []\n",
    "\n",
    "    unique_names = set(train_names.flatten())\n",
    "    sorted_names = sorted(unique_names)\n",
    "\n",
    "    for name in sorted_names:\n",
    "        # print(name)\n",
    "        # print(name)\n",
    "        name_features = []\n",
    "\n",
    "        for feature, feature_name, label in zip(train_features, train_names, train_labels):\n",
    "            # print(feature, feature_name, label)\n",
    "            if name in feature_name and label == 1:\n",
    "                name_features.append(feature)\n",
    "\n",
    "        if name_features:\n",
    "            # print(name_features)\n",
    "            average_feature = np.mean(name_features, axis=0)\n",
    "            gallery_feature.append(average_feature)\n",
    "            gallery_name.append(name)\n",
    "\n",
    "    return gallery_feature, gallery_name"
   ]
  },
  {
   "cell_type": "code",
   "execution_count": 17,
   "metadata": {},
   "outputs": [],
   "source": [
    "gallery_features, gallery_names = create_feature_gallery(train_features, train_names, train_labels)"
   ]
  },
  {
   "cell_type": "markdown",
   "metadata": {},
   "source": [
    "### Euclidean Distance"
   ]
  },
  {
   "cell_type": "code",
   "execution_count": 18,
   "metadata": {},
   "outputs": [],
   "source": [
    "def euclidean_distance(feature_vector1, feature_vector2):\n",
    "    return np.sqrt(np.sum((feature_vector1 - feature_vector2)**2))"
   ]
  },
  {
   "cell_type": "code",
   "execution_count": 19,
   "metadata": {},
   "outputs": [],
   "source": [
    "def find_euclidean_distance(test_features, test_names, test_labels, gallery_features, gallery_names):\n",
    "    euclidean_distances = []\n",
    "    euclidean_names = []\n",
    "    euclidean_actual_labels = []\n",
    "\n",
    "    for gallery_feature, gallery_name in zip(gallery_features, gallery_names):\n",
    "        curr_euclid_name = gallery_name\n",
    "        curr_euclid_feature = []\n",
    "        curr_euclid_label = []\n",
    "        curr_euclid_dist = []\n",
    "        for feature, name, label in zip(test_features, test_names, test_labels):\n",
    "            if gallery_name in name:\n",
    "                curr_euclid_feature.append(feature)\n",
    "                curr_euclid_label.append(label)\n",
    "        \n",
    "        for feature in curr_euclid_feature:\n",
    "            distance = euclidean_distance(feature, gallery_feature)\n",
    "            curr_euclid_dist.append(distance)\n",
    "\n",
    "        euclidean_distances.append(curr_euclid_dist)\n",
    "        euclidean_names.append(curr_euclid_name)\n",
    "        euclidean_actual_labels.append(curr_euclid_label)\n",
    "        \n",
    "    return euclidean_distances, euclidean_names, euclidean_actual_labels"
   ]
  },
  {
   "cell_type": "code",
   "execution_count": 20,
   "metadata": {},
   "outputs": [],
   "source": [
    "euclidean_distances, euclidean_names, euclidean_actual_labels = find_euclidean_distance(test_features, test_names, test_labels, gallery_features, gallery_names)"
   ]
  },
  {
   "cell_type": "code",
   "execution_count": 21,
   "metadata": {},
   "outputs": [],
   "source": [
    "# print(euclidean_actual_labels)"
   ]
  },
  {
   "cell_type": "markdown",
   "metadata": {},
   "source": [
    "### Split Euclidean Distance to Positive and Negative for Future Use (If needed)"
   ]
  },
  {
   "cell_type": "code",
   "execution_count": 22,
   "metadata": {},
   "outputs": [],
   "source": [
    "positive_distance = []\n",
    "positive_name = []\n",
    "positive_label = []\n",
    "negative_distance = []\n",
    "negative_name = []\n",
    "negative_label = []\n",
    "\n",
    "for euclidean_distance, euclidean_name, euclidean_actual_label in zip(euclidean_distances, euclidean_names, euclidean_actual_labels):\n",
    "    pos_dist = []\n",
    "    neg_dist = []\n",
    "    pos_lab = []\n",
    "    neg_lab = []\n",
    "    for distance, label in zip(euclidean_distance, euclidean_actual_label):\n",
    "        if label == 0:\n",
    "            neg_dist.append(distance)\n",
    "            neg_lab.append(label)\n",
    "        else:\n",
    "            pos_dist.append(distance)\n",
    "            pos_lab.append(label)\n",
    "\n",
    "    positive_distance.append(pos_dist)\n",
    "    positive_name.append(euclidean_name)\n",
    "    positive_label.append(pos_lab)\n",
    "\n",
    "    negative_distance.append(neg_dist)\n",
    "    negative_name.append(euclidean_name)\n",
    "    negative_label.append(neg_lab)\n",
    "    # print(euclidean_distance, euclidean_name, euclidean_actual_label)"
   ]
  },
  {
   "cell_type": "markdown",
   "metadata": {},
   "source": [
    "### Normalize Euclidean Distance"
   ]
  },
  {
   "cell_type": "code",
   "execution_count": 23,
   "metadata": {},
   "outputs": [],
   "source": [
    "def normalize_distance(euclidean_distances):\n",
    "    all_distances = []\n",
    "    for distances in euclidean_distances:\n",
    "        min_distance = min(distances)\n",
    "        max_distance = max(distances)\n",
    "\n",
    "        normalized_distances = [(d - min_distance) / (max_distance - min_distance) for d in distances]\n",
    "        all_distances.append(normalized_distances)\n",
    "\n",
    "    return all_distances\n",
    "\n",
    "def reverse_normalized_distance(euclidean_distances):\n",
    "    reverse_distance = []\n",
    "    normalized_distances = normalize_distance(euclidean_distances)\n",
    "    for distances in normalized_distances:\n",
    "        temp = []\n",
    "        for distance in distances :\n",
    "            distance = -distance\n",
    "            temp.append(distance)\n",
    "        reverse_distance.append(temp)\n",
    "    return reverse_distance"
   ]
  },
  {
   "cell_type": "code",
   "execution_count": 24,
   "metadata": {},
   "outputs": [],
   "source": [
    "normalized_positive_distances = reverse_normalized_distance(positive_distance)\n",
    "normalized_negative_distances = reverse_normalized_distance(negative_distance)"
   ]
  },
  {
   "cell_type": "code",
   "execution_count": 25,
   "metadata": {},
   "outputs": [],
   "source": [
    "normalized_euclidean_distance = reverse_normalized_distance(euclidean_distances)"
   ]
  },
  {
   "cell_type": "markdown",
   "metadata": {},
   "source": [
    "# 3. ROC Curve"
   ]
  },
  {
   "cell_type": "code",
   "execution_count": 26,
   "metadata": {},
   "outputs": [],
   "source": [
    "from sklearn.metrics import roc_curve, auc\n",
    "import matplotlib.pyplot as plt"
   ]
  },
  {
   "cell_type": "code",
   "execution_count": 35,
   "metadata": {},
   "outputs": [
    {
     "data": {
      "image/png": "[encoded data removed]",
      "text/plain": [
       "<Figure size 800x800 with 1 Axes>"
      ]
     },
     "metadata": {},
     "output_type": "display_data"
    }
   ],
   "source": [
    "# Flatten the lists of distances\n",
    "flat_euclidean_distances = [item for sublist in normalized_euclidean_distance for item in sublist]\n",
    "\n",
    "# Flatten the lists of labels\n",
    "flat_euclidean_labels = [item for sublist in euclidean_actual_labels for item in sublist]\n",
    "\n",
    "# Calculate ROC curve\n",
    "fpr, tpr, thresholds = roc_curve(flat_euclidean_labels, flat_euclidean_distances)\n",
    "roc_auc = auc(fpr, tpr)\n",
    "\n",
    "# Calculate Youden's J statistic\n",
    "J_values = tpr - fpr\n",
    "optimal_idx = np.argmax(J_values)\n",
    "optimal_threshold = thresholds[optimal_idx]\n",
    "\n",
    "# Plot ROC curve\n",
    "plt.figure(figsize=(8, 8))\n",
    "plt.plot(fpr, tpr, color='darkorange', lw=2, label=f'AUC = {roc_auc:.2f}')\n",
    "plt.scatter(fpr[optimal_idx], tpr[optimal_idx], marker='o', color='red', label=f'Optimal Threshold = {optimal_threshold:.2f}')\n",
    "plt.plot([0, 1], [0, 1], color='navy', lw=2, linestyle='--')\n",
    "plt.xlabel('False Positive Rate')\n",
    "plt.ylabel('True Positive Rate')\n",
    "plt.title('ROC Curve with Optimal Threshold')\n",
    "plt.legend(loc='lower right')\n",
    "plt.show()"
   ]
  }
 ],
 "metadata": {
  "kernelspec": {
   "display_name": "Python 3",
   "language": "python",
   "name": "python3"
  },
  "language_info": {
   "codemirror_mode": {
    "name": "ipython",
    "version": 3
   },
   "file_extension": ".py",
   "mimetype": "text/x-python",
   "name": "python",
   "nbconvert_exporter": "python",
   "pygments_lexer": "ipython3",
   "version": "3.11.1"
  }
 },
 "nbformat": 4,
 "nbformat_minor": 2
}
