{
 "cells": [
  {
   "cell_type": "markdown",
   "metadata": {},
   "source": [
    "# 1. Data Pre-Processing"
   ]
  },
  {
   "cell_type": "markdown",
   "metadata": {},
   "source": [
    "### Import Library"
   ]
  },
  {
   "cell_type": "code",
   "execution_count": 1,
   "metadata": {},
   "outputs": [],
   "source": [
    "import os\n",
    "import shutil\n",
    "from sklearn.model_selection import train_test_split"
   ]
  },
  {
   "cell_type": "markdown",
   "metadata": {},
   "source": [
    "### Folder Paths"
   ]
  },
  {
   "cell_type": "code",
   "execution_count": 2,
   "metadata": {},
   "outputs": [],
   "source": [
    "source_folder = \"../dataset/ICDAR-2011\"\n",
    "train_folder = \"../template/ICDAR-data/train\"\n",
    "test_folder = \"../template/ICDAR-data/test\""
   ]
  },
  {
   "cell_type": "markdown",
   "metadata": {},
   "source": [
    "### Train and Test Data Split"
   ]
  },
  {
   "cell_type": "code",
   "execution_count": 3,
   "metadata": {},
   "outputs": [],
   "source": [
    "def split_data(source_folder, train_folder, test_folder):\n",
    "    if not os.path.exists(train_folder):\n",
    "        os.makedirs(train_folder)\n",
    "    if not os.path.exists(test_folder):\n",
    "        os.makedirs(test_folder)\n",
    "\n",
    "    signatures = [folder for folder in os.listdir(source_folder) if os.path.isdir(os.path.join(source_folder, folder))]\n",
    "    for signature in signatures:\n",
    "        signature_path = os.path.join(source_folder, signature)\n",
    "        images = os.listdir(signature_path)\n",
    "        train_signature, test_signature = train_test_split(images, test_size=0.2, random_state=3)\n",
    "\n",
    "        for sig in train_signature:\n",
    "            source_path = os.path.join(signature_path, sig)\n",
    "            destination_path = os.path.join(train_folder, signature)\n",
    "            if not os.path.exists(destination_path):\n",
    "                os.makedirs(destination_path)\n",
    "            destination_path = os.path.join(destination_path, sig)\n",
    "            shutil.copy(source_path, destination_path)\n",
    "\n",
    "        for sig in test_signature:\n",
    "            source_path = os.path.join(signature_path, sig)\n",
    "            destination_path = os.path.join(test_folder, signature)\n",
    "            if not os.path.exists(destination_path):\n",
    "                os.makedirs(destination_path)\n",
    "            destination_path = os.path.join(destination_path, sig)\n",
    "            shutil.copy(source_path, destination_path)"
   ]
  },
  {
   "cell_type": "code",
   "execution_count": 4,
   "metadata": {},
   "outputs": [],
   "source": [
    "# split_data(source_folder, train_folder, test_folder)"
   ]
  },
  {
   "cell_type": "markdown",
   "metadata": {},
   "source": [
    "# 2. Feature Extraction"
   ]
  },
  {
   "cell_type": "markdown",
   "metadata": {},
   "source": [
    "### Load vgg16 model"
   ]
  },
  {
   "cell_type": "code",
   "execution_count": 5,
   "metadata": {},
   "outputs": [],
   "source": [
    "from tensorflow.keras.applications import VGG16\n",
    "from tensorflow.keras.applications.vgg16 import preprocess_input\n",
    "from tensorflow.keras.preprocessing import image\n",
    "import numpy as np"
   ]
  },
  {
   "cell_type": "code",
   "execution_count": 6,
   "metadata": {},
   "outputs": [],
   "source": [
    "model = VGG16(weights='imagenet', include_top=False)"
   ]
  },
  {
   "cell_type": "markdown",
   "metadata": {},
   "source": [
    "### Extract Features"
   ]
  },
  {
   "cell_type": "code",
   "execution_count": 7,
   "metadata": {},
   "outputs": [],
   "source": [
    "from tensorflow.keras.models import Model\n",
    "import cv2 as cv"
   ]
  },
  {
   "cell_type": "code",
   "execution_count": 8,
   "metadata": {},
   "outputs": [],
   "source": [
    "size = 224"
   ]
  },
  {
   "cell_type": "code",
   "execution_count": 9,
   "metadata": {},
   "outputs": [],
   "source": [
    "base_model = VGG16(weights='imagenet', include_top=False, input_shape=(size, size, 3))\n",
    "model = Model(inputs=base_model.input, outputs=base_model.get_layer('block5_pool').output)"
   ]
  },
  {
   "cell_type": "code",
   "execution_count": 10,
   "metadata": {},
   "outputs": [
    {
     "name": "stdout",
     "output_type": "stream",
     "text": [
      "Model: \"model\"\n",
      "_________________________________________________________________\n",
      " Layer (type)                Output Shape              Param #   \n",
      "=================================================================\n",
      " input_2 (InputLayer)        [(None, 224, 224, 3)]     0         \n",
      "                                                                 \n",
      " block1_conv1 (Conv2D)       (None, 224, 224, 64)      1792      \n",
      "                                                                 \n",
      " block1_conv2 (Conv2D)       (None, 224, 224, 64)      36928     \n",
      "                                                                 \n",
      " block1_pool (MaxPooling2D)  (None, 112, 112, 64)      0         \n",
      "                                                                 \n",
      " block2_conv1 (Conv2D)       (None, 112, 112, 128)     73856     \n",
      "                                                                 \n",
      " block2_conv2 (Conv2D)       (None, 112, 112, 128)     147584    \n",
      "                                                                 \n",
      " block2_pool (MaxPooling2D)  (None, 56, 56, 128)       0         \n",
      "                                                                 \n",
      " block3_conv1 (Conv2D)       (None, 56, 56, 256)       295168    \n",
      "                                                                 \n",
      " block3_conv2 (Conv2D)       (None, 56, 56, 256)       590080    \n",
      "                                                                 \n",
      " block3_conv3 (Conv2D)       (None, 56, 56, 256)       590080    \n",
      "                                                                 \n",
      " block3_pool (MaxPooling2D)  (None, 28, 28, 256)       0         \n",
      "                                                                 \n",
      " block4_conv1 (Conv2D)       (None, 28, 28, 512)       1180160   \n",
      "                                                                 \n",
      " block4_conv2 (Conv2D)       (None, 28, 28, 512)       2359808   \n",
      "                                                                 \n",
      " block4_conv3 (Conv2D)       (None, 28, 28, 512)       2359808   \n",
      "                                                                 \n",
      " block4_pool (MaxPooling2D)  (None, 14, 14, 512)       0         \n",
      "                                                                 \n",
      " block5_conv1 (Conv2D)       (None, 14, 14, 512)       2359808   \n",
      "                                                                 \n",
      " block5_conv2 (Conv2D)       (None, 14, 14, 512)       2359808   \n",
      "                                                                 \n",
      " block5_conv3 (Conv2D)       (None, 14, 14, 512)       2359808   \n",
      "                                                                 \n",
      " block5_pool (MaxPooling2D)  (None, 7, 7, 512)         0         \n",
      "                                                                 \n",
      "=================================================================\n",
      "Total params: 14714688 (56.13 MB)\n",
      "Trainable params: 14714688 (56.13 MB)\n",
      "Non-trainable params: 0 (0.00 Byte)\n",
      "_________________________________________________________________\n"
     ]
    }
   ],
   "source": [
    "model.summary()"
   ]
  },
  {
   "cell_type": "code",
   "execution_count": 12,
   "metadata": {},
   "outputs": [],
   "source": [
    "def extract_features(folder_path, batch_size=32):\n",
    "    features = []\n",
    "    names = []\n",
    "    labels = []\n",
    "    signatures = [folder for folder in os.listdir(folder_path) if os.path.isdir(os.path.join(folder_path, folder))]\n",
    "\n",
    "    for signature in signatures:\n",
    "        signature_path = os.path.join(folder_path, signature)\n",
    "        images = os.listdir(signature_path)\n",
    "\n",
    "        batch_features = []\n",
    "        batch_names = []\n",
    "        batch_labels = []\n",
    "\n",
    "        for image_name in images:\n",
    "            image_path = os.path.join(signature_path, image_name)\n",
    "            img = cv.imread(image_path)\n",
    "            img = cv.cvtColor(img, cv.COLOR_BGR2RGB)\n",
    "            img = cv.resize(img, (size, size))\n",
    "            img = np.array(preprocess_input(img))\n",
    "\n",
    "            batch_features.append(img)\n",
    "            batch_names.append(signature[:3])\n",
    "\n",
    "            if signature.endswith(\"_forg\"):\n",
    "                batch_labels.append(0)\n",
    "            else:\n",
    "                batch_labels.append(1)\n",
    "\n",
    "            if len(batch_features) == batch_size:\n",
    "                batch_features = np.array(batch_features)\n",
    "                batch_features = model.predict(batch_features)\n",
    "                batch_features = batch_features.reshape(len(batch_features), -1)\n",
    "\n",
    "                features.extend(batch_features)\n",
    "                names.extend(batch_names)\n",
    "                labels.extend(batch_labels)\n",
    "\n",
    "                batch_features = []\n",
    "                batch_names = []\n",
    "                batch_labels = []\n",
    "\n",
    "        if batch_features:\n",
    "            batch_features = np.array(batch_features)\n",
    "            batch_features = model.predict(batch_features)\n",
    "            batch_features = batch_features.reshape(len(batch_features), -1)\n",
    "\n",
    "            features.extend(batch_features)\n",
    "            names.extend(batch_names)\n",
    "            labels.extend(batch_labels)\n",
    "\n",
    "    return features, names, labels"
   ]
  },
  {
   "cell_type": "code",
   "execution_count": 13,
   "metadata": {},
   "outputs": [],
   "source": [
    "# train_features, train_names, train_labels = extract_features(train_folder)\n",
    "# test_features, test_names, test_labels = extract_features(test_folder)"
   ]
  },
  {
   "cell_type": "code",
   "execution_count": 14,
   "metadata": {},
   "outputs": [],
   "source": [
    "# print(train_features[0].shape)\n",
    "# print(train_features[1].shape)\n",
    "# print(train_features[2].shape)\n",
    "\n",
    "# print(test_features[0].shape)\n",
    "# print(test_features[1].shape)\n",
    "# print(test_features[2].shape)"
   ]
  },
  {
   "cell_type": "code",
   "execution_count": 15,
   "metadata": {},
   "outputs": [],
   "source": [
    "train_features_path =  \"../template/train_features.npy\"\n",
    "train_names_path = \"../template/train_names.npy\"\n",
    "train_labels_path = \"../template/train_labels.npy\"\n",
    "\n",
    "test_features_path = \"../template/test_features.npy\"\n",
    "test_names_path = \"../template/test_names.npy\"\n",
    "test_labels_path = \"../template/test_labels.npy\""
   ]
  },
  {
   "cell_type": "code",
   "execution_count": 16,
   "metadata": {},
   "outputs": [],
   "source": [
    "# np.save(train_features_path, train_features)\n",
    "# np.save(train_names_path, train_names)\n",
    "# np.save(train_labels_path, train_labels)\n",
    "\n",
    "# np.save(test_features_path, test_features)\n",
    "# np.save(test_names_path, test_names)\n",
    "# np.save(test_labels_path, test_labels)"
   ]
  },
  {
   "cell_type": "code",
   "execution_count": 17,
   "metadata": {},
   "outputs": [],
   "source": [
    "train_features = np.load(train_features_path)\n",
    "train_names = np.load(train_names_path)\n",
    "train_labels = np.load(train_labels_path)\n",
    "\n",
    "test_features = np.load(test_features_path)\n",
    "test_names = np.load(test_names_path)\n",
    "test_labels = np.load(test_labels_path)"
   ]
  },
  {
   "cell_type": "code",
   "execution_count": 18,
   "metadata": {},
   "outputs": [],
   "source": [
    "def create_feature_gallery(train_features, train_names, train_labels):\n",
    "    gallery_feature = []\n",
    "    gallery_name = []\n",
    "\n",
    "    unique_names = set(train_names.flatten())\n",
    "    sorted_names = sorted(unique_names)\n",
    "\n",
    "    for name in sorted_names:\n",
    "        # print(name)\n",
    "        # print(name)\n",
    "        name_features = []\n",
    "\n",
    "        for feature, feature_name, label in zip(train_features, train_names, train_labels):\n",
    "            # print(feature, feature_name, label)\n",
    "            if name in feature_name and label == 1:\n",
    "                name_features.append(feature)\n",
    "\n",
    "        if name_features:\n",
    "            # print(name_features)\n",
    "            average_feature = np.mean(name_features, axis=0)\n",
    "            gallery_feature.append(average_feature)\n",
    "            gallery_name.append(name)\n",
    "\n",
    "    return gallery_feature, gallery_name"
   ]
  },
  {
   "cell_type": "code",
   "execution_count": 19,
   "metadata": {},
   "outputs": [],
   "source": [
    "gallery_features, gallery_names = create_feature_gallery(train_features, train_names, train_labels)"
   ]
  },
  {
   "cell_type": "markdown",
   "metadata": {},
   "source": [
    "### Euclidean Distance"
   ]
  },
  {
   "cell_type": "code",
   "execution_count": 20,
   "metadata": {},
   "outputs": [],
   "source": [
    "def euclidean_distance(feature_vector1, feature_vector2):\n",
    "    return np.sqrt(np.sum((feature_vector1 - feature_vector2)**2))"
   ]
  },
  {
   "cell_type": "code",
   "execution_count": 21,
   "metadata": {},
   "outputs": [],
   "source": [
    "def find_euclidean_distance(test_features, test_names, test_labels, gallery_features, gallery_names):\n",
    "    euclidean_distances = []\n",
    "    euclidean_names = []\n",
    "    euclidean_actual_labels = []\n",
    "\n",
    "    for gallery_feature, gallery_name in zip(gallery_features, gallery_names):\n",
    "        curr_euclid_name = gallery_name\n",
    "        curr_euclid_feature = []\n",
    "        curr_euclid_label = []\n",
    "        curr_euclid_dist = []\n",
    "        for feature, name, label in zip(test_features, test_names, test_labels):\n",
    "            if gallery_name in name:\n",
    "                curr_euclid_feature.append(feature)\n",
    "                curr_euclid_label.append(label)\n",
    "        \n",
    "        for feature in curr_euclid_feature:\n",
    "            distance = euclidean_distance(feature, gallery_feature)\n",
    "            curr_euclid_dist.append(distance)\n",
    "\n",
    "        euclidean_distances.append(curr_euclid_dist)\n",
    "        euclidean_names.append(curr_euclid_name)\n",
    "        euclidean_actual_labels.append(curr_euclid_label)\n",
    "        \n",
    "    return euclidean_distances, euclidean_names, euclidean_actual_labels"
   ]
  },
  {
   "cell_type": "code",
   "execution_count": 22,
   "metadata": {},
   "outputs": [],
   "source": [
    "euclidean_distances, euclidean_names, euclidean_actual_labels = find_euclidean_distance(test_features, test_names, test_labels, gallery_features, gallery_names)"
   ]
  },
  {
   "cell_type": "code",
   "execution_count": 23,
   "metadata": {},
   "outputs": [],
   "source": [
    "def normalize_distance(euclidean_distances):\n",
    "    all_distances = []\n",
    "    for distances in euclidean_distances:\n",
    "        min_distance = min(distances)\n",
    "        max_distance = max(distances)\n",
    "\n",
    "        normalized_distances = [(d - min_distance) / (max_distance - min_distance) for d in distances]\n",
    "        all_distances.append(normalized_distances)\n",
    "\n",
    "    return all_distances"
   ]
  },
  {
   "cell_type": "code",
   "execution_count": 24,
   "metadata": {},
   "outputs": [],
   "source": [
    "# for distance, label in zip(euclidean_distances, euclidean_actual_labels):\n",
    "#     print(distance, label)"
   ]
  },
  {
   "cell_type": "code",
   "execution_count": 38,
   "metadata": {},
   "outputs": [],
   "source": [
    "normalized_euclidean_distances = normalize_distance(euclidean_distances)\n",
    "\n",
    "negative_distance = []\n",
    "for distances in normalized_euclidean_distances:\n",
    "    temp = []\n",
    "    for distance in distances :\n",
    "        distance = -distance\n",
    "        temp.append(distance)\n",
    "    negative_distance.append(temp)"
   ]
  },
  {
   "cell_type": "code",
   "execution_count": 26,
   "metadata": {},
   "outputs": [],
   "source": [
    "# for distance, name, label in zip(normalized_euclidean_distances, euclidean_names, euclidean_actual_labels):\n",
    "#     print(distance, name, label)"
   ]
  },
  {
   "cell_type": "code",
   "execution_count": 27,
   "metadata": {},
   "outputs": [],
   "source": [
    "from sklearn.metrics import roc_curve, auc\n",
    "import matplotlib.pyplot as plt"
   ]
  },
  {
   "cell_type": "code",
   "execution_count": 29,
   "metadata": {},
   "outputs": [
    {
     "name": "stdout",
     "output_type": "stream",
     "text": [
      "0.2757474 1\n",
      "0.0 1\n",
      "0.28837177 1\n",
      "0.13088393 1\n",
      "0.79933494 1\n",
      "0.68257785 0\n",
      "1.0 0\n",
      "0.7881511 0\n"
     ]
    }
   ],
   "source": [
    "# for distance, label in zip(normalized_euclidean_distances[1], euclidean_actual_labels[1]):\n",
    "#     print(distance, label)"
   ]
  },
  {
   "cell_type": "code",
   "execution_count": 53,
   "metadata": {},
   "outputs": [
    {
     "name": "stdout",
     "output_type": "stream",
     "text": [
      "name :  001  roc_auc :  1.0\n",
      "name :  002  roc_auc :  0.8666666666666667\n",
      "name :  003  roc_auc :  0.8666666666666667\n",
      "name :  004  roc_auc :  1.0\n",
      "name :  006  roc_auc :  1.0\n",
      "name :  009  roc_auc :  1.0\n",
      "name :  012  roc_auc :  1.0\n",
      "name :  013  roc_auc :  0.888888888888889\n",
      "name :  014  roc_auc :  1.0\n",
      "name :  015  roc_auc :  1.0\n",
      "name :  016  roc_auc :  0.9\n",
      "name :  017  roc_auc :  1.0\n",
      "name :  018  roc_auc :  1.0\n",
      "name :  019  roc_auc :  1.0\n",
      "name :  020  roc_auc :  1.0\n",
      "name :  021  roc_auc :  1.0\n",
      "name :  022  roc_auc :  1.0\n",
      "name :  023  roc_auc :  1.0\n",
      "name :  024  roc_auc :  1.0\n",
      "name :  025  roc_auc :  1.0\n",
      "name :  026  roc_auc :  1.0\n",
      "name :  027  roc_auc :  1.0\n",
      "name :  028  roc_auc :  1.0\n",
      "name :  029  roc_auc :  1.0\n",
      "name :  030  roc_auc :  0.6666666666666666\n",
      "name :  031  roc_auc :  0.8333333333333333\n",
      "name :  032  roc_auc :  1.0\n",
      "name :  033  roc_auc :  1.0\n",
      "name :  034  roc_auc :  0.888888888888889\n",
      "name :  035  roc_auc :  1.0\n",
      "name :  036  roc_auc :  1.0\n",
      "name :  037  roc_auc :  1.0\n",
      "name :  038  roc_auc :  1.0\n",
      "name :  039  roc_auc :  1.0\n",
      "name :  040  roc_auc :  1.0\n",
      "name :  041  roc_auc :  1.0\n",
      "name :  042  roc_auc :  1.0\n",
      "name :  043  roc_auc :  1.0\n",
      "name :  044  roc_auc :  1.0\n",
      "name :  045  roc_auc :  1.0\n",
      "name :  046  roc_auc :  1.0\n",
      "name :  047  roc_auc :  1.0\n",
      "name :  048  roc_auc :  1.0\n",
      "name :  049  roc_auc :  1.0\n",
      "name :  050  roc_auc :  1.0\n",
      "name :  051  roc_auc :  1.0\n",
      "name :  052  roc_auc :  1.0\n",
      "name :  053  roc_auc :  1.0\n",
      "name :  054  roc_auc :  1.0\n",
      "name :  055  roc_auc :  0.6666666666666666\n",
      "name :  056  roc_auc :  1.0\n",
      "name :  057  roc_auc :  1.0\n",
      "name :  058  roc_auc :  1.0\n",
      "name :  059  roc_auc :  1.0\n",
      "name :  060  roc_auc :  1.0\n",
      "name :  061  roc_auc :  1.0\n",
      "name :  062  roc_auc :  1.0\n",
      "name :  063  roc_auc :  1.0\n",
      "name :  064  roc_auc :  0.8333333333333333\n",
      "name :  065  roc_auc :  1.0\n",
      "name :  066  roc_auc :  0.9166666666666666\n",
      "name :  067  roc_auc :  1.0\n",
      "name :  068  roc_auc :  1.0\n",
      "name :  069  roc_auc :  1.0\n"
     ]
    },
    {
     "data": {
      "image/png": "[encoded data removed]",
      "text/plain": [
       "<Figure size 800x800 with 1 Axes>"
      ]
     },
     "metadata": {},
     "output_type": "display_data"
    }
   ],
   "source": [
    "plt.figure(figsize=(8, 8))\n",
    "for name, distances, labels in zip(euclidean_names, negative_distance, euclidean_actual_labels):\n",
    "    data = list(zip(distances, labels))\n",
    "    sorted_data = sorted(set(data), key=lambda x: x[0])\n",
    "    sorted_distances, sorted_labels = zip(*sorted_data)\n",
    "    fpr, tpr, thresholds = roc_curve(sorted_labels, sorted_distances)\n",
    "    roc_auc = auc(fpr, tpr)\n",
    "    print(\"name : \", name, \" roc_auc : \" , roc_auc)\n",
    "    plt.plot(fpr, tpr, lw=2, label=f'{name} (AUC = {roc_auc:.2f})')\n",
    "\n",
    "plt.plot([0, 1], [0, 1], color='navy', lw=2, linestyle='--')\n",
    "plt.xlabel('False Positive Rate')\n",
    "plt.ylabel('True Positive Rate')\n",
    "plt.title('Receiver Operating Characteristic (ROC) Curve')\n",
    "# plt.legend(loc='lower right')\n",
    "plt.show()"
   ]
  },
  {
   "cell_type": "code",
   "execution_count": 51,
   "metadata": {},
   "outputs": [
    {
     "data": {
      "image/png": "[encoded data removed]",
      "text/plain": [
       "<Figure size 800x800 with 1 Axes>"
      ]
     },
     "metadata": {},
     "output_type": "display_data"
    }
   ],
   "source": [
    "name, distances, labels = euclidean_names[0], negative_distance[0], euclidean_actual_labels[0]\n",
    "\n",
    "data = list(zip(distances, labels))\n",
    "sorted_data = sorted(set(data), key=lambda x: x[0])\n",
    "sorted_distances, sorted_labels = zip(*sorted_data)\n",
    "fpr, tpr, thresholds = roc_curve(sorted_labels, sorted_distances)\n",
    "roc_auc = auc(fpr, tpr)\n",
    "\n",
    "youden_index = tpr - fpr\n",
    "\n",
    "optimal_threshold_index = np.argmax(youden_index)\n",
    "optimal_threshold = thresholds[optimal_threshold_index]\n",
    "\n",
    "plt.figure(figsize=(8, 8))\n",
    "plt.plot(fpr, tpr, lw=2, label=f'{name} (Optimal Threshold = {optimal_threshold:.2f}, AUC = {roc_auc:.2f})')\n",
    "\n",
    "plt.plot([0, 1], [0, 1], color='navy', lw=2, linestyle='--')\n",
    "plt.xlabel('False Positive Rate')\n",
    "plt.ylabel('True Positive Rate')\n",
    "plt.title(f'Receiver Operating Characteristic (ROC) Curve for {name}')\n",
    "plt.legend(loc='lower right')\n",
    "\n",
    "plt.scatter(fpr[optimal_threshold_index], tpr[optimal_threshold_index], c='red', marker='o')\n",
    "plt.text(fpr[optimal_threshold_index], tpr[optimal_threshold_index], f'Optimal Threshold\\n({optimal_threshold:.2f})', color='red', verticalalignment='bottom')\n",
    "\n",
    "plt.show()"
   ]
  }
 ],
 "metadata": {
  "kernelspec": {
   "display_name": "Python 3",
   "language": "python",
   "name": "python3"
  },
  "language_info": {
   "codemirror_mode": {
    "name": "ipython",
    "version": 3
   },
   "file_extension": ".py",
   "mimetype": "text/x-python",
   "name": "python",
   "nbconvert_exporter": "python",
   "pygments_lexer": "ipython3",
   "version": "3.11.1"
  }
 },
 "nbformat": 4,
 "nbformat_minor": 2
}
