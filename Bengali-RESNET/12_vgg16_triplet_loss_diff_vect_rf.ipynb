{
 "cells": [
  {
   "cell_type": "markdown",
   "metadata": {},
   "source": [
    "### 1. Load Train / Test / Validation Data Files"
   ]
  },
  {
   "cell_type": "code",
   "execution_count": 1,
   "metadata": {},
   "outputs": [],
   "source": [
    "import numpy as np"
   ]
  },
  {
   "cell_type": "code",
   "execution_count": 2,
   "metadata": {},
   "outputs": [],
   "source": [
    "train_features_path =  \"../feature/BENGALI-RESNET-feature/train_features_triplet_loss.npy\"\n",
    "train_names_path = \"../feature/BENGALI-RESNET-feature/train_names.npy\"\n",
    "train_labels_path = \"../feature/BENGALI-RESNET-feature/train_labels.npy\"\n",
    "\n",
    "test_features_path = \"../feature/BENGALI-RESNET-feature/test_features_triplet_loss.npy\"\n",
    "test_names_path = \"../feature/BENGALI-RESNET-feature/test_names.npy\"\n",
    "test_labels_path = \"../feature/BENGALI-RESNET-feature/test_labels.npy\"\n",
    "\n",
    "validation_features_path = \"../feature/BENGALI-RESNET-feature/validation_features_triplet_loss.npy\"\n",
    "validation_names_path = \"../feature/BENGALI-RESNET-feature/validation_names.npy\"\n",
    "validation_labels_path = \"../feature/BENGALI-RESNET-feature/validation_labels.npy\"\n",
    "\n",
    "gallery_feature_path = \"../feature/BENGALI-RESNET-feature/gallery_features_triplet_loss.npy\"\n",
    "gallery_name_path = \"../feature/BENGALI-RESNET-feature/gallery_names.npy\"\n",
    "\n",
    "train_features = np.load(train_features_path)\n",
    "train_names = np.load(train_names_path)\n",
    "train_labels = np.load(train_labels_path)\n",
    "\n",
    "test_features = np.load(test_features_path)\n",
    "test_names = np.load(test_names_path)\n",
    "test_labels = np.load(test_labels_path)\n",
    "\n",
    "validation_features = np.load(validation_features_path)\n",
    "validation_names = np.load(validation_names_path)\n",
    "validation_labels = np.load(validation_labels_path)\n",
    "\n",
    "gallery_features = np.load(gallery_feature_path)\n",
    "gallery_names = np.load(gallery_name_path)"
   ]
  },
  {
   "cell_type": "code",
   "execution_count": 3,
   "metadata": {},
   "outputs": [
    {
     "name": "stdout",
     "output_type": "stream",
     "text": [
      "(3200, 2048)\n",
      "(3200,)\n",
      "(3200,)\n",
      "(1100, 2048)\n",
      "(1100,)\n",
      "(1100,)\n",
      "(1100, 2048)\n",
      "(1100,)\n",
      "(1100,)\n",
      "(100, 2048)\n",
      "(100,)\n"
     ]
    }
   ],
   "source": [
    "print(train_features.shape)\n",
    "print(train_labels.shape)\n",
    "print(train_names.shape)\n",
    "print(test_features.shape)\n",
    "print(test_labels.shape)\n",
    "print(test_names.shape)\n",
    "print(validation_features.shape)\n",
    "print(validation_labels.shape)\n",
    "print(validation_names.shape)\n",
    "print(gallery_features.shape)\n",
    "print(gallery_names.shape)"
   ]
  },
  {
   "cell_type": "code",
   "execution_count": 4,
   "metadata": {},
   "outputs": [],
   "source": [
    "def find_difference_vector(vector_features, vector_labels, vector_names, gallery_features, gallery_names):\n",
    "    difference_vectors = []\n",
    "    difference_names = []\n",
    "    difference_labels = []\n",
    "\n",
    "    for gallery_feature, gallery_name in zip(gallery_features, gallery_names):\n",
    "        curr_difference_name = gallery_name\n",
    "        curr_difference_feature = []\n",
    "        curr_difference_label = []\n",
    "        curr_difference = []\n",
    "        \n",
    "        for feature, name, label in zip(vector_features, vector_names, vector_labels):\n",
    "            # print(f\"Gallery Name: {gallery_name}, Name: {name}\")\n",
    "            if gallery_name == name:\n",
    "                curr_difference_feature.append(feature)\n",
    "                curr_difference_label.append(label)\n",
    "        \n",
    "        if curr_difference_feature:  # Check if the list is not empty\n",
    "            # Assuming curr_difference_feature, curr_difference_label, and gallery_feature are numpy arrays\n",
    "            curr_difference_feature = np.array(curr_difference_feature)\n",
    "            curr_difference_label = np.array(curr_difference_label)\n",
    "            curr_difference = curr_difference_feature - gallery_feature\n",
    "\n",
    "            difference_vectors.append(curr_difference)\n",
    "            difference_names.append(curr_difference_name)\n",
    "            difference_labels.append(curr_difference_label)\n",
    "            \n",
    "    return difference_vectors, difference_names, difference_labels"
   ]
  },
  {
   "cell_type": "code",
   "execution_count": 5,
   "metadata": {},
   "outputs": [],
   "source": [
    "test_difference_vectors, test_difference_names, test_difference_labels = find_difference_vector(test_features, test_labels, test_names, gallery_features, gallery_names)\n",
    "train_difference_vectors, train_difference_names, train_difference_labels = find_difference_vector(train_features, train_labels, train_names, gallery_features, gallery_names)\n",
    "validation_difference_vectors, validation_difference_names, validation_difference_labels = find_difference_vector(validation_features, validation_labels, validation_names, gallery_features, gallery_names)"
   ]
  },
  {
   "cell_type": "markdown",
   "metadata": {},
   "source": [
    "### 2. Train on ML"
   ]
  },
  {
   "cell_type": "code",
   "execution_count": 6,
   "metadata": {},
   "outputs": [],
   "source": [
    "from sklearn.ensemble import RandomForestClassifier\n",
    "from sklearn.metrics import accuracy_score\n",
    "from sklearn.model_selection import GridSearchCV"
   ]
  },
  {
   "cell_type": "code",
   "execution_count": 7,
   "metadata": {},
   "outputs": [],
   "source": [
    "# For Train Set\n",
    "train_difference_vectors_flat = [item for sublist in train_difference_vectors for item in sublist]\n",
    "train_difference_array = np.array(train_difference_vectors_flat).reshape(len(train_difference_vectors_flat), -1)\n",
    "\n",
    "# For test set\n",
    "test_difference_vectors_flat = [item for sublist in test_difference_vectors for item in sublist]\n",
    "test_difference_array = np.array(test_difference_vectors_flat).reshape(len(test_difference_vectors_flat), -1)\n",
    "\n",
    "# For validation set\n",
    "validation_difference_vectors_flat = [item for sublist in validation_difference_vectors for item in sublist]\n",
    "validation_difference_array = np.array(validation_difference_vectors_flat).reshape(len(validation_difference_vectors_flat), -1)"
   ]
  },
  {
   "cell_type": "code",
   "execution_count": 8,
   "metadata": {},
   "outputs": [
    {
     "name": "stdout",
     "output_type": "stream",
     "text": [
      "(3200, 2048)\n",
      "(3200,)\n",
      "(1100, 2048)\n",
      "(1100,)\n",
      "(1100, 2048)\n",
      "(1100,)\n"
     ]
    }
   ],
   "source": [
    "print(train_difference_array.shape)\n",
    "print(train_labels.shape)\n",
    "print(test_difference_array.shape)\n",
    "print(test_labels.shape)\n",
    "print(validation_difference_array.shape)\n",
    "print(validation_labels.shape)"
   ]
  },
  {
   "cell_type": "code",
   "execution_count": 9,
   "metadata": {},
   "outputs": [
    {
     "data": {
      "text/html": [
       "<style>#sk-container-id-1 {color: black;}#sk-container-id-1 pre{padding: 0;}#sk-container-id-1 div.sk-toggleable {background-color: white;}#sk-container-id-1 label.sk-toggleable__label {cursor: pointer;display: block;width: 100%;margin-bottom: 0;padding: 0.3em;box-sizing: border-box;text-align: center;}#sk-container-id-1 label.sk-toggleable__label-arrow:before {content: \"▸\";float: left;margin-right: 0.25em;color: #696969;}#sk-container-id-1 label.sk-toggleable__label-arrow:hover:before {color: black;}#sk-container-id-1 div.sk-estimator:hover label.sk-toggleable__label-arrow:before {color: black;}#sk-container-id-1 div.sk-toggleable__content {max-height: 0;max-width: 0;overflow: hidden;text-align: left;background-color: #f0f8ff;}#sk-container-id-1 div.sk-toggleable__content pre {margin: 0.2em;color: black;border-radius: 0.25em;background-color: #f0f8ff;}#sk-container-id-1 input.sk-toggleable__control:checked~div.sk-toggleable__content {max-height: 200px;max-width: 100%;overflow: auto;}#sk-container-id-1 input.sk-toggleable__control:checked~label.sk-toggleable__label-arrow:before {content: \"▾\";}#sk-container-id-1 div.sk-estimator input.sk-toggleable__control:checked~label.sk-toggleable__label {background-color: #d4ebff;}#sk-container-id-1 div.sk-label input.sk-toggleable__control:checked~label.sk-toggleable__label {background-color: #d4ebff;}#sk-container-id-1 input.sk-hidden--visually {border: 0;clip: rect(1px 1px 1px 1px);clip: rect(1px, 1px, 1px, 1px);height: 1px;margin: -1px;overflow: hidden;padding: 0;position: absolute;width: 1px;}#sk-container-id-1 div.sk-estimator {font-family: monospace;background-color: #f0f8ff;border: 1px dotted black;border-radius: 0.25em;box-sizing: border-box;margin-bottom: 0.5em;}#sk-container-id-1 div.sk-estimator:hover {background-color: #d4ebff;}#sk-container-id-1 div.sk-parallel-item::after {content: \"\";width: 100%;border-bottom: 1px solid gray;flex-grow: 1;}#sk-container-id-1 div.sk-label:hover label.sk-toggleable__label {background-color: #d4ebff;}#sk-container-id-1 div.sk-serial::before {content: \"\";position: absolute;border-left: 1px solid gray;box-sizing: border-box;top: 0;bottom: 0;left: 50%;z-index: 0;}#sk-container-id-1 div.sk-serial {display: flex;flex-direction: column;align-items: center;background-color: white;padding-right: 0.2em;padding-left: 0.2em;position: relative;}#sk-container-id-1 div.sk-item {position: relative;z-index: 1;}#sk-container-id-1 div.sk-parallel {display: flex;align-items: stretch;justify-content: center;background-color: white;position: relative;}#sk-container-id-1 div.sk-item::before, #sk-container-id-1 div.sk-parallel-item::before {content: \"\";position: absolute;border-left: 1px solid gray;box-sizing: border-box;top: 0;bottom: 0;left: 50%;z-index: -1;}#sk-container-id-1 div.sk-parallel-item {display: flex;flex-direction: column;z-index: 1;position: relative;background-color: white;}#sk-container-id-1 div.sk-parallel-item:first-child::after {align-self: flex-end;width: 50%;}#sk-container-id-1 div.sk-parallel-item:last-child::after {align-self: flex-start;width: 50%;}#sk-container-id-1 div.sk-parallel-item:only-child::after {width: 0;}#sk-container-id-1 div.sk-dashed-wrapped {border: 1px dashed gray;margin: 0 0.4em 0.5em 0.4em;box-sizing: border-box;padding-bottom: 0.4em;background-color: white;}#sk-container-id-1 div.sk-label label {font-family: monospace;font-weight: bold;display: inline-block;line-height: 1.2em;}#sk-container-id-1 div.sk-label-container {text-align: center;}#sk-container-id-1 div.sk-container {/* jupyter's `normalize.less` sets `[hidden] { display: none; }` but bootstrap.min.css set `[hidden] { display: none !important; }` so we also need the `!important` here to be able to override the default hidden behavior on the sphinx rendered scikit-learn.org. See: https://github.com/scikit-learn/scikit-learn/issues/21755 */display: inline-block !important;position: relative;}#sk-container-id-1 div.sk-text-repr-fallback {display: none;}</style><div id=\"sk-container-id-1\" class=\"sk-top-container\"><div class=\"sk-text-repr-fallback\"><pre>RandomForestClassifier(random_state=42)</pre><b>In a Jupyter environment, please rerun this cell to show the HTML representation or trust the notebook. <br />On GitHub, the HTML representation is unable to render, please try loading this page with nbviewer.org.</b></div><div class=\"sk-container\" hidden><div class=\"sk-item\"><div class=\"sk-estimator sk-toggleable\"><input class=\"sk-toggleable__control sk-hidden--visually\" id=\"sk-estimator-id-1\" type=\"checkbox\" checked><label for=\"sk-estimator-id-1\" class=\"sk-toggleable__label sk-toggleable__label-arrow\">RandomForestClassifier</label><div class=\"sk-toggleable__content\"><pre>RandomForestClassifier(random_state=42)</pre></div></div></div></div></div>"
      ],
      "text/plain": [
       "RandomForestClassifier(random_state=42)"
      ]
     },
     "execution_count": 9,
     "metadata": {},
     "output_type": "execute_result"
    }
   ],
   "source": [
    "model = RandomForestClassifier(n_estimators=100, random_state=42)  # You can adjust the number of trees (n_estimators) based on your needs\n",
    "model.fit(train_difference_array, train_labels)"
   ]
  },
  {
   "cell_type": "markdown",
   "metadata": {},
   "source": [
    "### 3. Hyperparameter Tuning"
   ]
  },
  {
   "cell_type": "code",
   "execution_count": 10,
   "metadata": {},
   "outputs": [
    {
     "name": "stdout",
     "output_type": "stream",
     "text": [
      "bootstrap: True\n",
      "ccp_alpha: 0.0\n",
      "class_weight: None\n",
      "criterion: gini\n",
      "max_depth: None\n",
      "max_features: sqrt\n",
      "max_leaf_nodes: None\n",
      "max_samples: None\n",
      "min_impurity_decrease: 0.0\n",
      "min_samples_leaf: 1\n",
      "min_samples_split: 2\n",
      "min_weight_fraction_leaf: 0.0\n",
      "n_estimators: 100\n",
      "n_jobs: None\n",
      "oob_score: False\n",
      "random_state: 42\n",
      "verbose: 0\n",
      "warm_start: False\n"
     ]
    }
   ],
   "source": [
    "parameter = model.get_params()\n",
    "for key, value in parameter.items():\n",
    "    print(f\"{key}: {value}\")"
   ]
  },
  {
   "cell_type": "code",
   "execution_count": 11,
   "metadata": {},
   "outputs": [],
   "source": [
    "param_grid = {'n_estimators': [50, 100, 150], 'max_depth': [None, 10, 20], 'min_samples_split': [2, 5, 10]}\n",
    "grid_search = GridSearchCV(RandomForestClassifier(random_state=42), param_grid, cv=5)\n",
    "grid_search.fit(validation_difference_array, validation_labels)\n",
    "best_params = grid_search.best_params_"
   ]
  },
  {
   "cell_type": "code",
   "execution_count": 12,
   "metadata": {},
   "outputs": [
    {
     "name": "stdout",
     "output_type": "stream",
     "text": [
      "{'max_depth': None, 'min_samples_split': 5, 'n_estimators': 100}\n"
     ]
    }
   ],
   "source": [
    "print(best_params)"
   ]
  },
  {
   "cell_type": "markdown",
   "metadata": {},
   "source": [
    "### 4. Test"
   ]
  },
  {
   "cell_type": "code",
   "execution_count": 13,
   "metadata": {},
   "outputs": [],
   "source": [
    "best_model = RandomForestClassifier(**best_params)\n",
    "best_model.fit(train_difference_array , train_labels)\n",
    "test_pred = best_model.predict(test_difference_array)\n",
    "accuracy = accuracy_score(test_labels, test_pred)"
   ]
  },
  {
   "cell_type": "code",
   "execution_count": 14,
   "metadata": {},
   "outputs": [
    {
     "name": "stdout",
     "output_type": "stream",
     "text": [
      "0.8672727272727273\n"
     ]
    }
   ],
   "source": [
    "print(accuracy)"
   ]
  },
  {
   "cell_type": "markdown",
   "metadata": {},
   "source": [
    "### 5. ROC Curve"
   ]
  },
  {
   "cell_type": "code",
   "execution_count": 15,
   "metadata": {},
   "outputs": [],
   "source": [
    "from sklearn.metrics import roc_curve, auc\n",
    "import matplotlib.pyplot as plt"
   ]
  },
  {
   "cell_type": "code",
   "execution_count": 16,
   "metadata": {},
   "outputs": [
    {
     "data": {
      "image/png": "[encoded data removed]",
      "text/plain": [
       "<Figure size 800x800 with 1 Axes>"
      ]
     },
     "metadata": {},
     "output_type": "display_data"
    }
   ],
   "source": [
    "# Predict decision values for each class\n",
    "y_train_score = best_model.predict_proba(train_difference_array)[:, 1]\n",
    "y_test_score = best_model.predict_proba(test_difference_array)[:, 1]\n",
    "y_val_score = best_model.predict_proba(validation_difference_array)[:, 1]\n",
    "\n",
    "# Compute ROC curve and AUC for each set\n",
    "fpr_train, tpr_train, thresholds_train = roc_curve(train_labels, y_train_score, drop_intermediate=False)\n",
    "roc_auc_train = auc(fpr_train, tpr_train)\n",
    "fpr_test, tpr_test, thresholds_test = roc_curve(test_labels, y_test_score, drop_intermediate=False)\n",
    "roc_auc_test = auc(fpr_test, tpr_test)\n",
    "fpr_val, tpr_val, thresholds_val = roc_curve(validation_labels, y_val_score, drop_intermediate=False)\n",
    "roc_auc_val = auc(fpr_val, tpr_val)\n",
    "\n",
    "# Plot ROC curve\n",
    "plt.figure(figsize=(8, 8))\n",
    "\n",
    "plt.plot(fpr_train, tpr_train, color='darkseagreen', lw=2, label=f'Train AUC = {roc_auc_train:.5f}')\n",
    "plt.plot(fpr_val, tpr_val, color='steelblue', lw=2, label=f'Validation AUC = {roc_auc_val:.5f}')\n",
    "plt.plot(fpr_test, tpr_test, color='peru', lw=2, label=f'Test AUC = {roc_auc_test:.5f}')\n",
    "\n",
    "plt.plot([0, 1], [0, 1], 'k--')\n",
    "plt.xlabel('False Positive Rate')\n",
    "plt.ylabel('True Positive Rate')\n",
    "plt.title('ROC Curves - SVM')\n",
    "plt.legend()\n",
    "plt.show()"
   ]
  },
  {
   "cell_type": "code",
   "execution_count": 17,
   "metadata": {},
   "outputs": [],
   "source": [
    "def find_tpr_at_fpr(fpr, tpr, target_fpr):\n",
    "    return np.interp(target_fpr, fpr, tpr)"
   ]
  },
  {
   "cell_type": "code",
   "execution_count": 18,
   "metadata": {},
   "outputs": [],
   "source": [
    "target_fprs = [0.1, 0.01, 0.001]\n",
    "tpr_at_target_fpr_train = [find_tpr_at_fpr(fpr_train, tpr_train, fpr) for fpr in target_fprs]\n",
    "tpr_at_target_fpr_test = [find_tpr_at_fpr(fpr_test, tpr_test, fpr) for fpr in target_fprs]\n",
    "tpr_at_target_fpr_val = [find_tpr_at_fpr(fpr_val, tpr_val, fpr) for fpr in target_fprs]"
   ]
  },
  {
   "cell_type": "code",
   "execution_count": 19,
   "metadata": {},
   "outputs": [
    {
     "name": "stdout",
     "output_type": "stream",
     "text": [
      "[0.    0.002 0.004 0.006 0.008 0.012 0.014 0.016 0.018 0.02  0.022 0.024\n",
      " 0.026 0.028 0.03  0.032 0.034 0.036 0.038 0.04  0.042 0.044 0.046 0.048\n",
      " 0.05  0.052 0.054 0.056 0.058 0.06  0.062 0.064 0.066 0.068 0.07  0.072\n",
      " 0.074 0.076 0.078 0.08  0.082 0.084 0.086 0.088 0.09  0.092 0.094 0.096\n",
      " 0.098 0.1   0.102 0.104 0.106 0.108 0.11  0.112 0.114 0.116 0.118 0.12\n",
      " 0.122 0.124 0.126 0.128 0.13  0.132 0.136 0.138 0.14  0.142 0.144 0.148\n",
      " 0.15  0.152 0.154 0.156 0.158 0.16  0.164 0.166 0.168 0.17  0.172 0.174\n",
      " 0.176 0.178 0.18  0.182 0.184 0.186 0.188 0.19  0.192 0.194 0.196 0.198\n",
      " 0.2   0.202 0.204 0.206 0.21  0.212 0.214 0.216 0.218 0.22  0.222 0.224\n",
      " 0.226 0.228 0.23  0.232 0.234 0.236 0.238 0.24  0.246 0.248 0.25  0.252\n",
      " 0.254 0.256 0.258 0.26  0.262 0.264 0.266 0.268 0.27  0.272 0.278 0.28\n",
      " 0.282 0.284 0.286 0.288 0.29  0.292 0.294 0.296 0.298 0.3   0.302 0.304\n",
      " 0.306 0.308 0.31  0.312 0.316 0.318 0.32  0.322 0.324 0.324 0.324 0.326\n",
      " 0.33  0.332 0.334 0.336 0.338 0.34  0.342 0.344 0.346 0.348 0.35  0.352\n",
      " 0.354 0.356 0.358 0.36  0.364 0.366 0.368 0.37  0.372 0.374 0.376 0.378\n",
      " 0.38  0.38  0.382 0.384 0.386 0.388 0.39  0.392 0.394 0.396 0.398 0.4\n",
      " 0.402 0.404 0.406 0.41  0.412 0.414 0.416 0.418 0.42  0.422 0.424 0.426\n",
      " 0.428 0.43  0.432 0.434 0.438 0.442 0.444 0.446 0.448 0.45  0.452 0.454\n",
      " 0.456 0.456 0.458 0.462 0.464 0.466 0.468 0.47  0.472 0.474 0.476 0.478\n",
      " 0.48  0.482 0.484 0.486 0.488 0.492 0.494 0.494 0.496 0.498 0.5   0.502\n",
      " 0.504 0.506 0.508 0.51  0.512 0.514 0.518 0.52  0.522 0.524 0.526 0.528\n",
      " 0.53  0.532 0.534 0.536 0.538 0.54  0.542 0.544 0.546 0.548 0.55  0.552\n",
      " 0.556 0.558 0.56  0.562 0.562 0.564 0.566 0.568 0.57  0.572 0.574 0.576\n",
      " 0.58  0.582 0.584 0.586 0.586 0.59  0.592 0.594 0.596 0.598 0.6   0.602\n",
      " 0.604 0.606 0.608 0.61  0.612 0.614 0.616 0.62  0.622 0.626 0.628 0.628\n",
      " 0.63  0.632 0.634 0.636 0.638 0.64  0.642 0.644 0.646 0.648 0.65  0.652\n",
      " 0.654 0.656 0.658 0.66  0.662 0.664 0.666 0.668 0.67  0.672 0.674 0.676\n",
      " 0.678 0.68  0.684 0.686 0.688 0.69  0.692 0.694 0.696 0.698 0.7   0.702\n",
      " 0.704 0.706 0.708 0.71  0.712 0.714 0.716 0.718 0.72  0.722 0.722 0.724\n",
      " 0.726 0.728 0.73  0.732 0.734 0.734 0.736 0.738 0.74  0.744 0.746 0.748\n",
      " 0.75  0.754 0.756 0.76  0.762 0.764 0.766 0.77  0.772 0.772 0.774 0.776\n",
      " 0.778 0.78  0.782 0.784 0.786 0.788 0.79  0.792 0.792 0.796 0.796 0.8\n",
      " 0.802 0.804 0.806 0.808 0.81  0.81  0.81  0.812 0.814 0.816 0.818 0.82\n",
      " 0.822 0.824 0.826 0.826 0.828 0.83  0.83  0.832 0.832 0.834 0.836 0.838\n",
      " 0.84  0.842 0.844 0.846 0.848 0.848 0.848 0.85  0.852 0.854 0.854 0.854\n",
      " 0.856 0.858 0.862 0.864 0.864 0.864 0.864 0.866 0.868 0.868 0.868 0.87\n",
      " 0.872 0.874 0.876 0.876 0.876 0.878 0.88  0.882 0.884 0.886 0.888 0.89\n",
      " 0.89  0.89  0.89  0.892 0.892 0.892 0.892 0.894 0.896 0.896 0.898 0.898\n",
      " 0.9   0.9   0.9   0.902 0.902 0.902 0.904 0.904 0.904 0.904 0.904 0.906\n",
      " 0.906 0.906 0.908 0.908 0.91  0.912 0.914 0.916 0.916 0.916 0.916 0.918\n",
      " 0.918 0.918 0.918 0.92  0.92  0.922 0.924 0.924 0.924 0.928 0.928 0.928\n",
      " 0.928 0.928 0.928 0.928 0.93  0.93  0.932 0.932 0.932 0.932 0.932 0.932\n",
      " 0.932 0.932 0.934 0.936 0.936 0.936 0.938 0.94  0.94  0.94  0.942 0.942\n",
      " 0.942 0.942 0.944 0.944 0.946 0.946 0.946 0.946 0.948 0.95  0.95  0.952\n",
      " 0.954 0.954 0.956 0.956 0.958 0.958 0.958 0.958 0.958 0.96  0.962 0.962\n",
      " 0.962 0.962 0.964 0.964 0.964 0.964 0.964 0.966 0.966 0.968 0.968 0.968\n",
      " 0.97  0.972 0.972 0.974 0.974 0.974 0.974 0.974 0.974 0.976 0.976 0.976\n",
      " 0.976 0.978 0.978 0.978 0.98  0.98  0.98  0.98  0.98  0.982 0.982 0.982\n",
      " 0.982 0.982 0.982 0.982 0.982 0.982 0.982 0.982 0.982 0.982 0.982 0.984\n",
      " 0.984 0.984 0.986 0.988 0.99  0.99  0.99  0.99  0.99  0.99  0.99  0.99\n",
      " 0.99  0.992 0.994 0.994 0.994 0.994 0.994 0.994 0.994 0.994 0.994 0.994\n",
      " 0.994 0.994 0.994 0.994 0.994 0.994 0.994 0.994 0.994 0.994 0.994 0.994\n",
      " 0.994 0.994 0.994 0.994 0.994 0.994 0.994 0.994 0.994 0.994 0.994 0.994\n",
      " 0.994 0.996 0.996 0.996 0.996 0.996 0.996 0.996 0.996 0.996 0.998 0.998\n",
      " 0.998 0.998 0.998 0.998 0.998 0.998 0.998 0.998 0.998 0.998 0.998 0.998\n",
      " 0.998 0.998 0.998 0.998 0.998 0.998 0.998 0.998 0.998 0.998 0.998 0.998\n",
      " 0.998 0.998 0.998 0.998 0.998 0.998 0.998 0.998 0.998 0.998 0.998 0.998\n",
      " 0.998 0.998 0.998 0.998 0.998 0.998 0.998 0.998 0.998 0.998 0.998 0.998\n",
      " 1.    1.    1.    1.    1.    1.    1.    1.    1.    1.    1.    1.\n",
      " 1.    1.    1.    1.    1.    1.    1.    1.    1.    1.    1.    1.\n",
      " 1.    1.    1.    1.    1.    1.    1.    1.    1.    1.    1.    1.\n",
      " 1.    1.    1.    1.    1.    1.    1.    1.    1.    1.    1.    1.\n",
      " 1.    1.    1.    1.    1.    1.    1.    1.    1.    1.    1.    1.\n",
      " 1.    1.    1.    1.    1.    1.    1.    1.    1.    1.    1.    1.\n",
      " 1.    1.    1.    1.    1.    1.    1.    1.    1.    1.    1.    1.\n",
      " 1.    1.    1.    1.    1.    1.    1.    1.    1.    1.    1.    1.\n",
      " 1.    1.    1.    1.    1.    1.    1.    1.    1.    1.    1.    1.\n",
      " 1.    1.    1.    1.    1.    1.    1.    1.    1.    1.    1.    1.\n",
      " 1.    1.    1.    1.    1.    1.    1.    1.    1.    1.    1.    1.\n",
      " 1.    1.    1.    1.    1.    1.    1.    1.    1.    1.    1.    1.\n",
      " 1.    1.    1.    1.    1.    1.    1.    1.    1.    1.    1.    1.\n",
      " 1.    1.    1.    1.    1.    1.    1.    1.    1.    1.    1.    1.\n",
      " 1.    1.    1.    1.    1.    1.    1.    1.    1.    1.    1.    1.\n",
      " 1.    1.    1.    1.    1.    1.    1.    1.    1.    1.    1.    1.\n",
      " 1.    1.    1.    1.    1.    1.    1.    1.    1.    1.    1.    1.\n",
      " 1.    1.    1.    1.    1.    1.    1.    1.    1.    1.    1.    1.\n",
      " 1.    1.    1.    1.    1.    1.    1.    1.    1.    1.    1.    1.\n",
      " 1.    1.    1.    1.    1.    1.    1.    1.    1.    1.    1.    1.\n",
      " 1.    1.    1.    1.    1.    1.    1.    1.    1.    1.    1.    1.\n",
      " 1.    1.    1.    1.    1.    1.    1.    1.    1.    1.    1.    1.\n",
      " 1.    1.    1.    1.    1.    1.    1.    1.    1.    1.    1.    1.\n",
      " 1.    1.    1.    1.    1.    1.    1.    1.    1.    1.   ]\n"
     ]
    }
   ],
   "source": [
    "print(tpr_test)"
   ]
  },
  {
   "cell_type": "code",
   "execution_count": 20,
   "metadata": {},
   "outputs": [
    {
     "name": "stdout",
     "output_type": "stream",
     "text": [
      "[0.         0.         0.         0.         0.         0.\n",
      " 0.         0.         0.         0.         0.         0.\n",
      " 0.         0.         0.         0.         0.         0.\n",
      " 0.         0.         0.         0.         0.         0.\n",
      " 0.         0.         0.         0.         0.         0.\n",
      " 0.         0.         0.         0.         0.         0.\n",
      " 0.         0.         0.         0.         0.         0.\n",
      " 0.         0.         0.         0.         0.         0.\n",
      " 0.         0.         0.         0.         0.         0.\n",
      " 0.         0.         0.         0.         0.         0.\n",
      " 0.         0.         0.         0.         0.         0.\n",
      " 0.         0.         0.         0.         0.         0.\n",
      " 0.         0.         0.         0.         0.         0.\n",
      " 0.         0.         0.         0.         0.         0.\n",
      " 0.         0.         0.         0.         0.         0.\n",
      " 0.         0.         0.         0.         0.         0.\n",
      " 0.         0.         0.         0.         0.         0.\n",
      " 0.         0.         0.         0.         0.         0.\n",
      " 0.         0.         0.         0.         0.         0.\n",
      " 0.         0.         0.         0.         0.         0.\n",
      " 0.         0.         0.         0.         0.         0.\n",
      " 0.         0.         0.         0.         0.         0.\n",
      " 0.         0.         0.         0.         0.         0.\n",
      " 0.         0.         0.         0.         0.         0.\n",
      " 0.         0.         0.         0.         0.         0.\n",
      " 0.         0.         0.         0.00166667 0.00333333 0.00333333\n",
      " 0.00333333 0.00333333 0.00333333 0.00333333 0.00333333 0.00333333\n",
      " 0.00333333 0.00333333 0.00333333 0.00333333 0.005      0.005\n",
      " 0.005      0.005      0.005      0.005      0.005      0.005\n",
      " 0.005      0.005      0.005      0.005      0.005      0.005\n",
      " 0.005      0.00666667 0.00666667 0.00666667 0.00666667 0.00666667\n",
      " 0.00666667 0.00666667 0.00666667 0.00666667 0.00666667 0.00666667\n",
      " 0.00666667 0.00666667 0.00666667 0.00666667 0.00666667 0.00666667\n",
      " 0.00666667 0.00666667 0.00666667 0.00666667 0.00666667 0.00666667\n",
      " 0.00666667 0.00666667 0.00666667 0.00666667 0.00666667 0.00666667\n",
      " 0.00666667 0.00666667 0.00666667 0.00666667 0.00666667 0.00666667\n",
      " 0.00666667 0.00833333 0.00833333 0.00833333 0.00833333 0.00833333\n",
      " 0.00833333 0.00833333 0.00833333 0.00833333 0.00833333 0.00833333\n",
      " 0.00833333 0.00833333 0.00833333 0.00833333 0.00833333 0.00833333\n",
      " 0.00833333 0.01       0.01       0.01       0.01       0.01\n",
      " 0.01       0.01       0.01       0.01       0.01       0.01\n",
      " 0.01       0.01       0.01       0.01       0.01       0.01\n",
      " 0.01       0.01       0.01       0.01       0.01       0.01\n",
      " 0.01       0.01       0.01       0.01       0.01       0.01\n",
      " 0.01       0.01       0.01       0.01       0.01166667 0.01166667\n",
      " 0.01166667 0.01166667 0.01166667 0.01166667 0.01166667 0.01166667\n",
      " 0.01166667 0.01166667 0.01166667 0.01166667 0.01333333 0.01333333\n",
      " 0.01333333 0.01333333 0.01333333 0.01333333 0.01333333 0.01333333\n",
      " 0.01333333 0.01333333 0.01333333 0.01333333 0.01333333 0.01333333\n",
      " 0.01333333 0.01333333 0.01333333 0.01333333 0.01333333 0.015\n",
      " 0.015      0.015      0.015      0.015      0.015      0.015\n",
      " 0.015      0.015      0.015      0.015      0.015      0.015\n",
      " 0.015      0.01666667 0.01666667 0.01666667 0.01666667 0.01666667\n",
      " 0.01666667 0.01666667 0.01666667 0.01666667 0.01666667 0.01666667\n",
      " 0.01666667 0.01666667 0.01666667 0.01666667 0.01666667 0.01666667\n",
      " 0.01666667 0.01666667 0.01666667 0.01666667 0.01666667 0.01666667\n",
      " 0.01666667 0.01666667 0.01666667 0.01833333 0.01833333 0.01833333\n",
      " 0.01833333 0.01833333 0.01833333 0.01833333 0.02       0.02\n",
      " 0.02       0.02       0.02       0.02       0.02       0.02333333\n",
      " 0.02333333 0.02333333 0.02333333 0.02333333 0.02333333 0.02333333\n",
      " 0.02333333 0.02333333 0.02333333 0.02333333 0.02333333 0.02666667\n",
      " 0.02666667 0.02666667 0.02666667 0.02833333 0.02833333 0.02833333\n",
      " 0.02833333 0.02833333 0.02833333 0.02833333 0.02833333 0.02833333\n",
      " 0.02833333 0.02833333 0.03       0.03       0.03166667 0.03166667\n",
      " 0.03166667 0.03166667 0.03166667 0.03166667 0.03166667 0.03333333\n",
      " 0.035      0.035      0.035      0.035      0.035      0.035\n",
      " 0.035      0.035      0.035      0.03666667 0.03666667 0.03666667\n",
      " 0.04       0.04       0.04166667 0.04166667 0.04166667 0.04166667\n",
      " 0.04166667 0.04166667 0.04166667 0.04166667 0.04166667 0.04333333\n",
      " 0.045      0.045      0.045      0.045      0.04666667 0.04833333\n",
      " 0.04833333 0.04833333 0.04833333 0.04833333 0.05       0.05166667\n",
      " 0.05333333 0.05333333 0.05333333 0.055      0.05833333 0.05833333\n",
      " 0.05833333 0.05833333 0.05833333 0.06       0.06166667 0.06166667\n",
      " 0.06166667 0.06166667 0.06166667 0.06166667 0.06166667 0.06166667\n",
      " 0.06333333 0.065      0.06666667 0.06666667 0.06833333 0.07\n",
      " 0.07166667 0.07166667 0.07166667 0.07333333 0.07333333 0.075\n",
      " 0.075      0.07666667 0.07833333 0.07833333 0.08       0.08166667\n",
      " 0.08166667 0.08333333 0.085      0.08833333 0.09       0.09\n",
      " 0.09166667 0.09333333 0.09333333 0.095      0.095      0.095\n",
      " 0.095      0.095      0.09666667 0.09833333 0.10166667 0.10166667\n",
      " 0.10333333 0.105      0.10666667 0.10666667 0.10833333 0.10833333\n",
      " 0.10833333 0.11166667 0.11333333 0.11333333 0.115      0.11666667\n",
      " 0.11833333 0.12       0.12333333 0.125      0.125      0.12833333\n",
      " 0.12833333 0.13       0.13166667 0.13333333 0.135      0.13666667\n",
      " 0.13833333 0.14166667 0.14166667 0.14166667 0.14333333 0.145\n",
      " 0.145      0.145      0.14666667 0.14833333 0.14833333 0.15\n",
      " 0.15166667 0.15333333 0.15333333 0.155      0.155      0.15666667\n",
      " 0.16       0.16166667 0.16166667 0.16166667 0.16333333 0.16333333\n",
      " 0.16333333 0.17       0.17       0.17166667 0.17166667 0.175\n",
      " 0.17666667 0.18       0.18333333 0.18333333 0.18333333 0.185\n",
      " 0.18666667 0.18833333 0.18833333 0.19166667 0.19333333 0.195\n",
      " 0.19833333 0.19833333 0.2        0.2        0.20166667 0.205\n",
      " 0.205      0.205      0.20666667 0.20666667 0.20833333 0.21\n",
      " 0.21333333 0.215      0.21833333 0.21833333 0.22       0.22166667\n",
      " 0.22333333 0.22333333 0.22666667 0.22833333 0.22833333 0.23\n",
      " 0.23166667 0.23333333 0.235      0.235      0.23666667 0.23833333\n",
      " 0.24166667 0.245      0.24666667 0.24833333 0.25       0.25166667\n",
      " 0.255      0.25666667 0.25833333 0.26       0.26333333 0.26333333\n",
      " 0.26666667 0.26833333 0.27       0.27       0.27       0.27166667\n",
      " 0.27333333 0.275      0.27666667 0.27833333 0.28       0.28166667\n",
      " 0.285      0.28666667 0.28666667 0.29166667 0.29333333 0.295\n",
      " 0.29666667 0.29833333 0.3        0.30166667 0.305      0.30833333\n",
      " 0.31       0.31333333 0.31666667 0.31833333 0.32       0.32166667\n",
      " 0.32333333 0.325      0.32666667 0.32833333 0.33       0.33166667\n",
      " 0.33333333 0.335      0.33666667 0.33833333 0.34       0.34166667\n",
      " 0.34333333 0.345      0.34666667 0.35       0.35333333 0.355\n",
      " 0.35666667 0.35666667 0.35833333 0.36333333 0.365      0.36666667\n",
      " 0.37       0.37166667 0.37333333 0.37666667 0.37666667 0.37833333\n",
      " 0.38       0.38166667 0.38333333 0.385      0.38666667 0.38833333\n",
      " 0.39       0.39166667 0.39333333 0.395      0.39666667 0.39833333\n",
      " 0.4        0.40333333 0.405      0.40666667 0.40833333 0.41\n",
      " 0.41333333 0.415      0.41666667 0.41833333 0.42       0.42166667\n",
      " 0.42333333 0.42666667 0.42833333 0.43       0.43166667 0.43333333\n",
      " 0.435      0.43666667 0.43833333 0.44       0.44166667 0.44333333\n",
      " 0.44666667 0.44833333 0.45       0.45166667 0.455      0.45666667\n",
      " 0.45833333 0.46       0.46166667 0.46333333 0.465      0.46666667\n",
      " 0.46666667 0.46833333 0.47       0.47166667 0.47333333 0.475\n",
      " 0.47666667 0.47833333 0.48       0.48166667 0.48333333 0.485\n",
      " 0.48666667 0.48833333 0.49       0.49166667 0.495      0.49666667\n",
      " 0.49833333 0.5        0.50166667 0.50333333 0.505      0.50666667\n",
      " 0.51       0.51166667 0.51333333 0.515      0.51666667 0.51833333\n",
      " 0.52       0.52333333 0.525      0.52666667 0.52833333 0.53333333\n",
      " 0.535      0.53666667 0.53833333 0.54       0.54166667 0.54333333\n",
      " 0.545      0.54833333 0.55       0.55166667 0.555      0.55666667\n",
      " 0.55833333 0.56       0.56166667 0.56333333 0.565      0.56666667\n",
      " 0.57       0.57166667 0.57333333 0.575      0.57666667 0.57833333\n",
      " 0.58       0.58166667 0.58333333 0.58666667 0.58833333 0.59\n",
      " 0.59333333 0.595      0.59666667 0.59833333 0.6        0.60166667\n",
      " 0.60333333 0.605      0.60666667 0.60833333 0.61       0.61166667\n",
      " 0.61333333 0.615      0.61666667 0.61833333 0.62       0.62166667\n",
      " 0.62333333 0.625      0.62833333 0.63       0.63166667 0.63333333\n",
      " 0.635      0.63833333 0.64       0.64166667 0.64333333 0.645\n",
      " 0.64666667 0.64833333 0.65       0.65166667 0.65333333 0.65833333\n",
      " 0.66       0.66166667 0.66333333 0.665      0.66666667 0.66833333\n",
      " 0.67       0.67166667 0.67333333 0.67666667 0.67833333 0.68\n",
      " 0.68166667 0.68333333 0.685      0.68666667 0.68833333 0.69\n",
      " 0.69166667 0.69333333 0.69833333 0.7        0.70166667 0.70333333\n",
      " 0.705      0.70666667 0.70833333 0.71       0.71166667 0.71333333\n",
      " 0.715      0.71666667 0.71833333 0.72       0.72166667 0.72333333\n",
      " 0.725      0.72666667 0.72833333 0.73       0.73166667 0.73333333\n",
      " 0.735      0.73666667 0.73833333 0.74       0.74166667 0.74333333\n",
      " 0.745      0.74666667 0.75       0.75166667 0.75333333 0.755\n",
      " 0.75666667 0.75833333 0.76       0.76166667 0.76333333 0.765\n",
      " 0.76666667 0.77       0.77166667 0.77333333 0.775      0.77666667\n",
      " 0.77833333 0.78       0.78166667 0.78333333 0.78833333 0.79\n",
      " 0.79166667 0.79333333 0.795      0.79833333 0.8        0.80166667\n",
      " 0.805      0.80833333 0.81       0.81166667 0.81333333 0.815\n",
      " 0.81833333 0.82       0.82166667 0.82333333 0.825      0.82666667\n",
      " 0.82833333 0.83       0.83333333 0.835      0.83666667 0.83833333\n",
      " 0.84       0.84166667 0.84333333 0.84833333 0.85       0.85166667\n",
      " 0.855      0.85666667 0.85833333 0.86       0.86166667 0.86333333\n",
      " 0.865      0.86666667 0.86833333 0.87       0.87166667 0.87333333\n",
      " 0.875      0.87666667 0.87833333 0.88       0.88166667 0.885\n",
      " 0.88666667 0.88833333 0.89       0.89166667 0.89333333 0.895\n",
      " 0.89666667 0.89833333 0.9        0.90166667 0.90333333 0.905\n",
      " 0.90833333 0.91       0.91166667 0.91333333 0.915      0.91666667\n",
      " 0.91833333 0.92       0.92166667 0.92333333 0.925      0.92666667\n",
      " 0.92833333 0.93       0.93166667 0.93333333 0.935      0.93666667\n",
      " 0.93833333 0.94       0.94333333 0.945      0.94666667 0.94833333\n",
      " 0.95       0.95166667 0.95333333 0.955      0.95666667 0.95833333\n",
      " 0.96       0.96166667 0.965      0.96666667 0.96833333 0.97\n",
      " 0.97166667 0.97333333 0.975      0.97666667 0.97833333 0.98166667\n",
      " 0.98333333 0.985      0.98666667 0.98833333 0.99       0.99166667\n",
      " 0.99333333 0.99666667 0.99833333 1.        ]\n"
     ]
    }
   ],
   "source": [
    "print(fpr_test)"
   ]
  },
  {
   "cell_type": "code",
   "execution_count": 21,
   "metadata": {},
   "outputs": [
    {
     "name": "stdout",
     "output_type": "stream",
     "text": [
      "Train\n",
      "TPR at FPR 0.100: 1.000\n",
      "TPR at FPR 0.010: 1.000\n",
      "TPR at FPR 0.001: 1.000\n",
      "             AUC: 1.0\n",
      "Validation\n",
      "TPR at FPR 0.100: 0.838\n",
      "TPR at FPR 0.010: 0.402\n",
      "TPR at FPR 0.001: 0.290\n",
      "             AUC: 0.9487333333333333\n",
      "Test\n",
      "TPR at FPR 0.100: 0.916\n",
      "TPR at FPR 0.010: 0.562\n",
      "TPR at FPR 0.001: 0.324\n",
      "             AUC: 0.9711816666666666\n"
     ]
    }
   ],
   "source": [
    "print(\"Train\")\n",
    "for tpr, fpr in zip(tpr_at_target_fpr_train, target_fprs):\n",
    "    print(f'TPR at FPR {fpr:.3f}: {tpr:.3f}')\n",
    "print(f'             AUC: {roc_auc_train}')\n",
    "\n",
    "print(\"Validation\")\n",
    "for tpr, fpr in zip(tpr_at_target_fpr_val, target_fprs):\n",
    "    print(f'TPR at FPR {fpr:.3f}: {tpr:.3f}')\n",
    "print(f'             AUC: {roc_auc_val}')\n",
    "\n",
    "print(\"Test\")\n",
    "for tpr, fpr in zip(tpr_at_target_fpr_test, target_fprs):\n",
    "    print(f'TPR at FPR {fpr:.3f}: {tpr:.3f}')\n",
    "print(f'             AUC: {roc_auc_test}')"
   ]
  }
 ],
 "metadata": {
  "kernelspec": {
   "display_name": "Python 3",
   "language": "python",
   "name": "python3"
  },
  "language_info": {
   "codemirror_mode": {
    "name": "ipython",
    "version": 3
   },
   "file_extension": ".py",
   "mimetype": "text/x-python",
   "name": "python",
   "nbconvert_exporter": "python",
   "pygments_lexer": "ipython3",
   "version": "3.11.1"
  }
 },
 "nbformat": 4,
 "nbformat_minor": 2
}
