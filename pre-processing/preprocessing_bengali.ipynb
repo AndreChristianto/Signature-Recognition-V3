{
 "cells": [
  {
   "cell_type": "markdown",
   "metadata": {},
   "source": [
    "# 1. Pre-Processing"
   ]
  },
  {
   "cell_type": "markdown",
   "metadata": {},
   "source": [
    "### Import Library"
   ]
  },
  {
   "cell_type": "code",
   "execution_count": 1,
   "metadata": {},
   "outputs": [],
   "source": [
    "import os\n",
    "import shutil\n",
    "from sklearn.model_selection import train_test_split"
   ]
  },
  {
   "cell_type": "markdown",
   "metadata": {},
   "source": [
    "### Folder Paths"
   ]
  },
  {
   "cell_type": "code",
   "execution_count": 2,
   "metadata": {},
   "outputs": [],
   "source": [
    "# source_folder = folder penyimpanan kumpulan dataset yang masih tercampur atau belum dibagi menjadi train, test, dan validation\n",
    "source_folder = \"../../dataset/BHSig260-Bengali\"\n",
    "# train_folder, test_folder, validation_folder = folder tujuan / tempat penyimpanan dataset setelah dibagi di bagian \"Train and Test Data Split\" \n",
    "train_folder = \"../../template/BENGALI-data/train\"\n",
    "test_folder = \"../../template/BENGALI-data/test\"\n",
    "validation_folder = \"../../template/BENGALI-data/validation\""
   ]
  },
  {
   "cell_type": "markdown",
   "metadata": {},
   "source": [
    "### Train and Test Data Split"
   ]
  },
  {
   "cell_type": "code",
   "execution_count": 3,
   "metadata": {},
   "outputs": [],
   "source": [
    "def extract_label(folder_name):\n",
    "    return 0 if \"_forg\" in folder_name else 1\n",
    "\n",
    "def split_data(source_folder, train_folder, test_folder, validation_folder):\n",
    "    if not os.path.exists(train_folder):\n",
    "        os.makedirs(train_folder)\n",
    "    if not os.path.exists(test_folder):\n",
    "        os.makedirs(test_folder)\n",
    "    if not os.path.exists(validation_folder):\n",
    "        os.makedirs(validation_folder)\n",
    "\n",
    "    signatures = [folder for folder in os.listdir(source_folder) if os.path.isdir(os.path.join(source_folder, folder))]\n",
    "    for signature in signatures:\n",
    "        signature_path = os.path.join(source_folder, signature)\n",
    "        images = os.listdir(signature_path)\n",
    "\n",
    "        label = extract_label(signature)\n",
    "\n",
    "        train_signature_temp, test_signature = train_test_split(images, test_size=0.2, random_state=3, stratify=[label]*len(images)) #stratify\n",
    "        train_signature, validation_signature = train_test_split(train_signature_temp, test_size=0.25, random_state=3, stratify=[label]*len(train_signature_temp))\n",
    "\n",
    "        for sig in train_signature:\n",
    "            source_path = os.path.join(signature_path, sig)\n",
    "            destination_path = os.path.join(train_folder, signature)\n",
    "            if not os.path.exists(destination_path):\n",
    "                os.makedirs(destination_path)\n",
    "            destination_path = os.path.join(destination_path, sig)\n",
    "            shutil.copy(source_path, destination_path)\n",
    "\n",
    "        for sig in test_signature:\n",
    "            source_path = os.path.join(signature_path, sig)\n",
    "            destination_path = os.path.join(test_folder, signature)\n",
    "            if not os.path.exists(destination_path):\n",
    "                os.makedirs(destination_path)\n",
    "            destination_path = os.path.join(destination_path, sig)\n",
    "            shutil.copy(source_path, destination_path)\n",
    "\n",
    "        for sig in validation_signature:\n",
    "            source_path = os.path.join(signature_path, sig)\n",
    "            destination_path = os.path.join(validation_folder, signature)\n",
    "            if not os.path.exists(destination_path):\n",
    "                os.makedirs(destination_path)\n",
    "            destination_path = os.path.join(destination_path, sig)\n",
    "            shutil.copy(source_path, destination_path)"
   ]
  },
  {
   "cell_type": "code",
   "execution_count": 4,
   "metadata": {},
   "outputs": [
    {
     "ename": "FileNotFoundError",
     "evalue": "[WinError 3] The system cannot find the path specified: '../../../dataset/BHSig260-Bengali'",
     "output_type": "error",
     "traceback": [
      "\u001b[1;31m---------------------------------------------------------------------------\u001b[0m",
      "\u001b[1;31mFileNotFoundError\u001b[0m                         Traceback (most recent call last)",
      "\u001b[1;32mc:\\Users\\Andreas Christianto\\Documents\\College Crap\\7th Semester\\Papers\\test 3\\Signature-Recognition-V3\\pre-processing\\preprocessing_bengali.ipynb Cell 8\u001b[0m line \u001b[0;36m1\n\u001b[1;32m----> <a href='vscode-notebook-cell:/c%3A/Users/Andreas%20Christianto/Documents/College%20Crap/7th%20Semester/Papers/test%203/Signature-Recognition-V3/pre-processing/preprocessing_bengali.ipynb#X10sZmlsZQ%3D%3D?line=0'>1</a>\u001b[0m split_data(source_folder, train_folder, test_folder, validation_folder)\n",
      "\u001b[1;32mc:\\Users\\Andreas Christianto\\Documents\\College Crap\\7th Semester\\Papers\\test 3\\Signature-Recognition-V3\\pre-processing\\preprocessing_bengali.ipynb Cell 8\u001b[0m line \u001b[0;36m1\n\u001b[0;32m      <a href='vscode-notebook-cell:/c%3A/Users/Andreas%20Christianto/Documents/College%20Crap/7th%20Semester/Papers/test%203/Signature-Recognition-V3/pre-processing/preprocessing_bengali.ipynb#X10sZmlsZQ%3D%3D?line=8'>9</a>\u001b[0m \u001b[39mif\u001b[39;00m \u001b[39mnot\u001b[39;00m os\u001b[39m.\u001b[39mpath\u001b[39m.\u001b[39mexists(validation_folder):\n\u001b[0;32m     <a href='vscode-notebook-cell:/c%3A/Users/Andreas%20Christianto/Documents/College%20Crap/7th%20Semester/Papers/test%203/Signature-Recognition-V3/pre-processing/preprocessing_bengali.ipynb#X10sZmlsZQ%3D%3D?line=9'>10</a>\u001b[0m     os\u001b[39m.\u001b[39mmakedirs(validation_folder)\n\u001b[1;32m---> <a href='vscode-notebook-cell:/c%3A/Users/Andreas%20Christianto/Documents/College%20Crap/7th%20Semester/Papers/test%203/Signature-Recognition-V3/pre-processing/preprocessing_bengali.ipynb#X10sZmlsZQ%3D%3D?line=11'>12</a>\u001b[0m signatures \u001b[39m=\u001b[39m [folder \u001b[39mfor\u001b[39;00m folder \u001b[39min\u001b[39;00m os\u001b[39m.\u001b[39;49mlistdir(source_folder) \u001b[39mif\u001b[39;00m os\u001b[39m.\u001b[39mpath\u001b[39m.\u001b[39misdir(os\u001b[39m.\u001b[39mpath\u001b[39m.\u001b[39mjoin(source_folder, folder))]\n\u001b[0;32m     <a href='vscode-notebook-cell:/c%3A/Users/Andreas%20Christianto/Documents/College%20Crap/7th%20Semester/Papers/test%203/Signature-Recognition-V3/pre-processing/preprocessing_bengali.ipynb#X10sZmlsZQ%3D%3D?line=12'>13</a>\u001b[0m \u001b[39mfor\u001b[39;00m signature \u001b[39min\u001b[39;00m signatures:\n\u001b[0;32m     <a href='vscode-notebook-cell:/c%3A/Users/Andreas%20Christianto/Documents/College%20Crap/7th%20Semester/Papers/test%203/Signature-Recognition-V3/pre-processing/preprocessing_bengali.ipynb#X10sZmlsZQ%3D%3D?line=13'>14</a>\u001b[0m     signature_path \u001b[39m=\u001b[39m os\u001b[39m.\u001b[39mpath\u001b[39m.\u001b[39mjoin(source_folder, signature)\n",
      "\u001b[1;31mFileNotFoundError\u001b[0m: [WinError 3] The system cannot find the path specified: '../../../dataset/BHSig260-Bengali'"
     ]
    }
   ],
   "source": [
    "split_data(source_folder, train_folder, test_folder, validation_folder)"
   ]
  }
 ],
 "metadata": {
  "kernelspec": {
   "display_name": "Python 3",
   "language": "python",
   "name": "python3"
  },
  "language_info": {
   "codemirror_mode": {
    "name": "ipython",
    "version": 3
   },
   "file_extension": ".py",
   "mimetype": "text/x-python",
   "name": "python",
   "nbconvert_exporter": "python",
   "pygments_lexer": "ipython3",
   "version": "3.11.1"
  }
 },
 "nbformat": 4,
 "nbformat_minor": 2
}
