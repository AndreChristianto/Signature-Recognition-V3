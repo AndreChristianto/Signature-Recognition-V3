{
 "cells": [
  {
   "cell_type": "markdown",
   "metadata": {},
   "source": [
    "# 1. Data Gathering"
   ]
  },
  {
   "cell_type": "markdown",
   "metadata": {},
   "source": [
    "### Import Library"
   ]
  },
  {
   "cell_type": "code",
   "execution_count": 1,
   "metadata": {},
   "outputs": [],
   "source": [
    "import os\n",
    "import shutil\n",
    "from sklearn.model_selection import train_test_split"
   ]
  },
  {
   "cell_type": "markdown",
   "metadata": {},
   "source": [
    "### Assign Folder Paths"
   ]
  },
  {
   "cell_type": "code",
   "execution_count": 2,
   "metadata": {},
   "outputs": [],
   "source": [
    "source_folder = \"../dataset/BHSig260-Bengali\"\n",
    "train_folder = \"../BENGALI-dataset/train\"\n",
    "test_folder = \"../BENGALI-dataset/test\""
   ]
  },
  {
   "cell_type": "markdown",
   "metadata": {},
   "source": [
    "### Train and Test Data Splitting"
   ]
  },
  {
   "cell_type": "code",
   "execution_count": 3,
   "metadata": {},
   "outputs": [],
   "source": [
    "def split_data(source_folder, train_folder, test_folder):\n",
    "    if not os.path.exists(train_folder):\n",
    "        os.makedirs(train_folder)\n",
    "    if not os.path.exists(test_folder):\n",
    "        os.makedirs(test_folder)\n",
    "\n",
    "    signatures = [folder for folder in os.listdir(source_folder) if os.path.isdir(os.path.join(source_folder, folder))]\n",
    "\n",
    "    paired_signatures = list(zip(signatures[::2], signatures[1::2]))\n",
    "\n",
    "    train_signature, test_signature = train_test_split(paired_signatures, test_size=0.2, random_state=3)\n",
    "\n",
    "    # print(train_signature)\n",
    "    # print(test_signature)\n",
    "\n",
    "    for signature in train_signature:\n",
    "        for sig in signature:\n",
    "            source_path = os.path.join(source_folder, sig)\n",
    "            destination_path = os.path.join(train_folder, sig)\n",
    "            shutil.copytree(source_path, destination_path)\n",
    "\n",
    "    for signature in test_signature:\n",
    "        for sig in signature:\n",
    "            source_path = os.path.join(source_folder, sig)\n",
    "            destination_path = os.path.join(test_folder, sig)\n",
    "            shutil.copytree(source_path, destination_path)"
   ]
  },
  {
   "cell_type": "code",
   "execution_count": 4,
   "metadata": {},
   "outputs": [],
   "source": [
    "# Only run if train and test data do not exist yet\n",
    "split_data(source_folder, train_folder, test_folder)"
   ]
  },
  {
   "cell_type": "markdown",
   "metadata": {},
   "source": [
    "# 2. Data Pre-Processing"
   ]
  },
  {
   "cell_type": "markdown",
   "metadata": {},
   "source": [
    "### Resizing"
   ]
  },
  {
   "cell_type": "code",
   "execution_count": 5,
   "metadata": {},
   "outputs": [],
   "source": [
    "import cv2 as cv"
   ]
  },
  {
   "cell_type": "code",
   "execution_count": 6,
   "metadata": {},
   "outputs": [],
   "source": [
    "def resize_images(folder_path, new_size=(224, 224)):\n",
    "     signatures = [folder for folder in os.listdir(folder_path) if os.path.isdir(os.path.join(folder_path, folder))]\n",
    "     for signature in signatures:\n",
    "          signature_path = os.path.join(folder_path, signature)\n",
    "          images = os.listdir(signature_path)\n",
    "          for image in images:\n",
    "               image_path = os.path.join(signature_path, image)\n",
    "               img = cv.imread(image_path)\n",
    "               resized_img = cv.resize(img, new_size)\n",
    "               cv.imwrite(image_path, resized_img)"
   ]
  },
  {
   "cell_type": "code",
   "execution_count": 7,
   "metadata": {},
   "outputs": [],
   "source": [
    "# Only run if train and test data are not 224x224 yet\n",
    "resize_images(train_folder)\n",
    "resize_images(test_folder)"
   ]
  },
  {
   "cell_type": "markdown",
   "metadata": {},
   "source": [
    "### Shuffling"
   ]
  },
  {
   "cell_type": "code",
   "execution_count": 8,
   "metadata": {},
   "outputs": [],
   "source": [
    "import random"
   ]
  },
  {
   "cell_type": "code",
   "execution_count": 9,
   "metadata": {},
   "outputs": [],
   "source": [
    "def shuffle_data(folder_path):\n",
    "    signatures = [folder for folder in os.listdir(folder_path) if os.path.isdir(os.path.join(folder_path, folder))]\n",
    "    for signature in signatures:\n",
    "        signature_path = os.path.join(folder_path, signature)\n",
    "        images = os.listdir(signature_path)\n",
    "        random.shuffle(images)\n",
    "        for i, image in enumerate(images):\n",
    "            os.rename(os.path.join(signature_path, image), os.path.join(signature_path, f\"{i+1}.png\"))"
   ]
  },
  {
   "cell_type": "code",
   "execution_count": 10,
   "metadata": {},
   "outputs": [],
   "source": [
    "# Only run if train and test data are not renamed yet\n",
    "shuffle_data(train_folder)\n",
    "shuffle_data(test_folder)"
   ]
  },
  {
   "cell_type": "markdown",
   "metadata": {},
   "source": [
    "### Formation of Feature Vectors"
   ]
  },
  {
   "cell_type": "code",
   "execution_count": 11,
   "metadata": {},
   "outputs": [],
   "source": [
    "import numpy as np\n",
    "from tensorflow.keras.preprocessing.image import img_to_array"
   ]
  },
  {
   "cell_type": "code",
   "execution_count": 12,
   "metadata": {},
   "outputs": [],
   "source": [
    "def process_data(folder_path, target_size=(224, 224)):\n",
    "    data = []\n",
    "    labels = []\n",
    "\n",
    "    signatures = [folder for folder in os.listdir(folder_path) if os.path.isdir(os.path.join(folder_path, folder))]\n",
    "    for signature in signatures:\n",
    "        signature_path = os.path.join(folder_path, signature)\n",
    "        images = os.listdir(signature_path)\n",
    "        for image in images:\n",
    "            image_path = os.path.join(signature_path, image)\n",
    "            img = cv.imread(image_path)\n",
    "            \n",
    "            gray_img = cv.cvtColor(img, cv.COLOR_BGR2RGB)\n",
    "            img_array = img_to_array(gray_img)\n",
    "\n",
    "            data.append(img_array)\n",
    "            if(\"forg\" in signature):\n",
    "                labels.append(np.array(0))\n",
    "            else:\n",
    "                labels.append(np.array(1))\n",
    "\n",
    "    data = np.array(data)/255.0\n",
    "    labels = np.array(labels)\n",
    "\n",
    "    return data, labels\n",
    "\n",
    "    "
   ]
  },
  {
   "cell_type": "code",
   "execution_count": 13,
   "metadata": {},
   "outputs": [],
   "source": [
    "train_data, train_labels = process_data(train_folder)\n",
    "test_data, test_labels = process_data(test_folder)"
   ]
  },
  {
   "cell_type": "code",
   "execution_count": 14,
   "metadata": {},
   "outputs": [],
   "source": [
    "# print(train_labels.shape)\n",
    "# print(train_data.shape)\n",
    "# print(test_labels.shape)\n",
    "# print(test_data.shape)"
   ]
  },
  {
   "cell_type": "markdown",
   "metadata": {},
   "source": [
    "# 3. Feature Extraction"
   ]
  },
  {
   "cell_type": "code",
   "execution_count": 15,
   "metadata": {},
   "outputs": [],
   "source": [
    "from tensorflow import keras\n",
    "from tensorflow.keras.applications.vgg16 import VGG16, preprocess_input\n",
    "from tensorflow.keras.layers import Flatten, Dense\n",
    "from tensorflow.keras import optimizers\n",
    "from sklearn.decomposition import PCA\n",
    "\n",
    "import matplotlib.pyplot as plt"
   ]
  },
  {
   "cell_type": "code",
   "execution_count": 16,
   "metadata": {},
   "outputs": [],
   "source": [
    "size = 224"
   ]
  },
  {
   "cell_type": "code",
   "execution_count": 17,
   "metadata": {},
   "outputs": [],
   "source": [
    "vgg16_train_path = \"../BENGALI-features/vgg16_features_train.npy\"\n",
    "vgg16_test_path = \"../BENGALI-features/vgg16_features_test.npy\""
   ]
  },
  {
   "cell_type": "code",
   "execution_count": 18,
   "metadata": {},
   "outputs": [],
   "source": [
    "def extract_feature():\n",
    "    base_model = VGG16(weights='imagenet', include_top=False, input_shape=(size, size, 3))\n",
    "\n",
    "    model = keras.Sequential()\n",
    "    model.add(base_model)\n",
    "    model.add(Flatten())\n",
    "    model.add(Dense(256, activation='relu'))\n",
    "    model.add(Dense(1, activation='sigmoid'))\n",
    "\n",
    "    model.compile(loss='binary_crossentropy', optimizer=optimizers.Adam(lr=1e-4), metrics=['accuracy'])\n",
    "\n",
    "    model.summary()\n",
    "\n",
    "    train_features = base_model.predict(preprocess_input(train_data))\n",
    "    test_features = base_model.predict(preprocess_input(test_data))\n",
    "\n",
    "    np.save(vgg16_train_path, train_features)\n",
    "    np.save(vgg16_test_path, test_features)\n",
    "\n",
    "    # progess = model.fit(train_data, train_labels, batch_size=64, epochs=6, callbacks=early_stop, validation_split=0.3)"
   ]
  },
  {
   "cell_type": "code",
   "execution_count": 19,
   "metadata": {},
   "outputs": [],
   "source": [
    "extract_feature()"
   ]
  },
  {
   "cell_type": "code",
   "execution_count": 20,
   "metadata": {},
   "outputs": [
    {
     "ename": "FileNotFoundError",
     "evalue": "[Errno 2] No such file or directory: '../BENGALI-features/vgg16_features_train.npy'",
     "output_type": "error",
     "traceback": [
      "\u001b[1;31m---------------------------------------------------------------------------\u001b[0m",
      "\u001b[1;31mFileNotFoundError\u001b[0m                         Traceback (most recent call last)",
      "\u001b[1;32mc:\\Users\\Andreas Christianto\\Documents\\College\\7th Semester\\Papers\\test 3\\Signature-Recognition-V3\\signature_recognition_BENGALI.ipynb Cell 29\u001b[0m line \u001b[0;36m1\n\u001b[1;32m----> <a href='vscode-notebook-cell:/c%3A/Users/Andreas%20Christianto/Documents/College/7th%20Semester/Papers/test%203/Signature-Recognition-V3/signature_recognition_BENGALI.ipynb#X36sZmlsZQ%3D%3D?line=0'>1</a>\u001b[0m train_features \u001b[39m=\u001b[39m np\u001b[39m.\u001b[39;49mload(vgg16_train_path)\n\u001b[0;32m      <a href='vscode-notebook-cell:/c%3A/Users/Andreas%20Christianto/Documents/College/7th%20Semester/Papers/test%203/Signature-Recognition-V3/signature_recognition_BENGALI.ipynb#X36sZmlsZQ%3D%3D?line=1'>2</a>\u001b[0m test_features \u001b[39m=\u001b[39m np\u001b[39m.\u001b[39mload(vgg16_test_path)\n\u001b[0;32m      <a href='vscode-notebook-cell:/c%3A/Users/Andreas%20Christianto/Documents/College/7th%20Semester/Papers/test%203/Signature-Recognition-V3/signature_recognition_BENGALI.ipynb#X36sZmlsZQ%3D%3D?line=3'>4</a>\u001b[0m train_features_2d \u001b[39m=\u001b[39m train_features\u001b[39m.\u001b[39mreshape(train_features\u001b[39m.\u001b[39mshape[\u001b[39m0\u001b[39m], \u001b[39m-\u001b[39m\u001b[39m1\u001b[39m)\n",
      "File \u001b[1;32mc:\\Users\\Andreas Christianto\\AppData\\Local\\Programs\\Python\\Python311\\Lib\\site-packages\\numpy\\lib\\npyio.py:405\u001b[0m, in \u001b[0;36mload\u001b[1;34m(file, mmap_mode, allow_pickle, fix_imports, encoding, max_header_size)\u001b[0m\n\u001b[0;32m    403\u001b[0m     own_fid \u001b[39m=\u001b[39m \u001b[39mFalse\u001b[39;00m\n\u001b[0;32m    404\u001b[0m \u001b[39melse\u001b[39;00m:\n\u001b[1;32m--> 405\u001b[0m     fid \u001b[39m=\u001b[39m stack\u001b[39m.\u001b[39menter_context(\u001b[39mopen\u001b[39;49m(os_fspath(file), \u001b[39m\"\u001b[39;49m\u001b[39mrb\u001b[39;49m\u001b[39m\"\u001b[39;49m))\n\u001b[0;32m    406\u001b[0m     own_fid \u001b[39m=\u001b[39m \u001b[39mTrue\u001b[39;00m\n\u001b[0;32m    408\u001b[0m \u001b[39m# Code to distinguish from NumPy binary files and pickles.\u001b[39;00m\n",
      "\u001b[1;31mFileNotFoundError\u001b[0m: [Errno 2] No such file or directory: '../BENGALI-features/vgg16_features_train.npy'"
     ]
    }
   ],
   "source": [
    "train_features = np.load(vgg16_train_path)\n",
    "test_features = np.load(vgg16_test_path)\n",
    "\n",
    "train_features_2d = train_features.reshape(train_features.shape[0], -1)\n",
    "test_features_2d = test_features.reshape(test_features.shape[0], -1)\n",
    "\n",
    "all_features_2d = np.concatenate([train_features_2d, test_features_2d])\n",
    "\n",
    "pca = PCA(n_components=2)\n",
    "pca_result = pca.fit_transform(all_features_2d)\n",
    "\n",
    "pca_train = pca_result[:len(train_features)]\n",
    "pca_test = pca_result[len(train_features):]\n",
    "\n",
    "plt.scatter(pca_train[:, 0], pca_train[:, 1], label='Train', alpha=0.5)\n",
    "plt.scatter(pca_test[:, 0], pca_test[:, 1], label='Test', alpha=0.5)\n",
    "plt.title('PCA Visualization of VGG16 Features')\n",
    "plt.xlabel('Principal Component 1')\n",
    "plt.ylabel('Principal Component 2')\n",
    "plt.legend()\n",
    "plt.show()"
   ]
  }
 ],
 "metadata": {
  "kernelspec": {
   "display_name": "Python 3",
   "language": "python",
   "name": "python3"
  },
  "language_info": {
   "codemirror_mode": {
    "name": "ipython",
    "version": 3
   },
   "file_extension": ".py",
   "mimetype": "text/x-python",
   "name": "python",
   "nbconvert_exporter": "python",
   "pygments_lexer": "ipython3",
   "version": "3.11.1"
  },
  "orig_nbformat": 4
 },
 "nbformat": 4,
 "nbformat_minor": 2
}
