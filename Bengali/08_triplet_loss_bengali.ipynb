{
 "cells": [
  {
   "cell_type": "markdown",
   "metadata": {},
   "source": [
    "# Triplet Loss"
   ]
  },
  {
   "cell_type": "markdown",
   "metadata": {},
   "source": [
    "### Load Train, Test, and Validation data"
   ]
  },
  {
   "cell_type": "code",
   "execution_count": 1,
   "metadata": {},
   "outputs": [],
   "source": [
    "import numpy as np"
   ]
  },
  {
   "cell_type": "code",
   "execution_count": 2,
   "metadata": {},
   "outputs": [],
   "source": [
    "train_features_path =  \"../feature/BENGALI-feature/train_features.npy\"\n",
    "train_names_path = \"../feature/BENGALI-feature/train_names.npy\"\n",
    "train_labels_path = \"../feature/BENGALI-feature/train_labels.npy\"\n",
    "\n",
    "test_features_path = \"../feature/BENGALI-feature/test_features.npy\"\n",
    "test_names_path = \"../feature/BENGALI-feature/test_names.npy\"\n",
    "test_labels_path = \"../feature/BENGALI-feature/test_labels.npy\"\n",
    "\n",
    "validation_features_path = \"../feature/BENGALI-feature/validation_features.npy\"\n",
    "validation_names_path = \"../feature/BENGALI-feature/validation_names.npy\"\n",
    "validation_labels_path = \"../feature/BENGALI-feature/validation_labels.npy\"\n",
    "\n",
    "gallery_feature_path = \"../feature/BENGALI-feature/gallery_features.npy\"\n",
    "gallery_name_path = \"../feature/BENGALI-feature/gallery_names.npy\"\n",
    "\n",
    "train_features = np.load(train_features_path)\n",
    "train_names = np.load(train_names_path)\n",
    "train_labels = np.load(train_labels_path)\n",
    "\n",
    "test_features = np.load(test_features_path)\n",
    "test_names = np.load(test_names_path)\n",
    "test_labels = np.load(test_labels_path)\n",
    "\n",
    "validation_features = np.load(validation_features_path)\n",
    "validation_names = np.load(validation_names_path)\n",
    "validation_labels = np.load(validation_labels_path)\n",
    "\n",
    "gallery_features = np.load(gallery_feature_path)\n",
    "gallery_names = np.load(gallery_name_path)"
   ]
  },
  {
   "cell_type": "code",
   "execution_count": 3,
   "metadata": {},
   "outputs": [
    {
     "name": "stdout",
     "output_type": "stream",
     "text": [
      "(3200, 512)\n",
      "(3200,)\n",
      "(3200,)\n",
      "(1100, 512)\n",
      "(1100,)\n",
      "(1100,)\n",
      "(1100, 512)\n",
      "(1100,)\n",
      "(1100,)\n",
      "(100, 512)\n",
      "(100,)\n"
     ]
    }
   ],
   "source": [
    "print(train_features.shape)\n",
    "print(train_labels.shape)\n",
    "print(train_names.shape)\n",
    "print(test_features.shape)\n",
    "print(test_labels.shape)\n",
    "print(test_names.shape)\n",
    "print(validation_features.shape)\n",
    "print(validation_labels.shape)\n",
    "print(validation_names.shape)\n",
    "print(gallery_features.shape)\n",
    "print(gallery_names.shape)"
   ]
  },
  {
   "cell_type": "markdown",
   "metadata": {},
   "source": [
    "### Creating Triplets"
   ]
  },
  {
   "cell_type": "code",
   "execution_count": 4,
   "metadata": {},
   "outputs": [],
   "source": [
    "unique_names = set(train_names.flatten())\n",
    "sorted_names = sorted(unique_names)"
   ]
  },
  {
   "cell_type": "code",
   "execution_count": 5,
   "metadata": {},
   "outputs": [
    {
     "name": "stdout",
     "output_type": "stream",
     "text": [
      "['001', '002', '003', '004', '005', '006', '007', '008', '009', '010', '011', '012', '013', '014', '015', '016', '017', '018', '019', '020', '021', '022', '023', '024', '025', '026', '027', '028', '029', '030', '031', '032', '033', '034', '035', '036', '037', '038', '039', '040', '041', '042', '043', '044', '045', '046', '047', '048', '049', '050', '051', '052', '053', '054', '055', '056', '057', '058', '059', '060', '061', '062', '063', '064', '065', '066', '067', '068', '069', '070', '071', '072', '073', '074', '075', '076', '077', '078', '079', '080', '081', '082', '083', '084', '085', '086', '087', '088', '089', '090', '091', '092', '093', '094', '095', '096', '097', '098', '099', '100']\n"
     ]
    }
   ],
   "source": [
    "print(sorted_names)"
   ]
  },
  {
   "cell_type": "code",
   "execution_count": 6,
   "metadata": {},
   "outputs": [
    {
     "name": "stdout",
     "output_type": "stream",
     "text": [
      "['001' '002' '003' '004' '005' '006' '007' '008' '009' '010' '011' '012'\n",
      " '013' '014' '015' '016' '017' '018' '019' '020' '021' '022' '023' '024'\n",
      " '025' '026' '027' '028' '029' '030' '031' '032' '033' '034' '035' '036'\n",
      " '037' '038' '039' '040' '041' '042' '043' '044' '045' '046' '047' '048'\n",
      " '049' '050' '051' '052' '053' '054' '055' '056' '057' '058' '059' '060'\n",
      " '061' '062' '063' '064' '065' '066' '067' '068' '069' '070' '071' '072'\n",
      " '073' '074' '075' '076' '077' '078' '079' '080' '081' '082' '083' '084'\n",
      " '085' '086' '087' '088' '089' '090' '091' '092' '093' '094' '095' '096'\n",
      " '097' '098' '099' '100']\n"
     ]
    }
   ],
   "source": [
    "print(gallery_names)"
   ]
  },
  {
   "cell_type": "code",
   "execution_count": 7,
   "metadata": {},
   "outputs": [],
   "source": [
    "def create_triplets(unique_names, gallery_features, features, labels):\n",
    "    anchors, positives, negatives = [], [], []\n",
    "    for name, gallery in zip(unique_names, gallery_features):\n",
    "        # find all the instances for name\n",
    "        indices = np.where(train_names == name)[0]\n",
    "        # print(indices)\n",
    "        \n",
    "        # separate instances to positive and negative\n",
    "        positive_set, negative_set = [], []\n",
    "        for index in indices:\n",
    "            # print(index)\n",
    "            if labels[index] == 0:\n",
    "                negative_set.append(features[index])\n",
    "                # print(features[index])\n",
    "            else:\n",
    "                positive_set.append(features[index]) \n",
    "\n",
    "        negative_set = np.array(negative_set)\n",
    "        positive_set = np.array(positive_set)\n",
    "\n",
    "        # use feature gallery for anchor\n",
    "        # print(gallery.size)\n",
    "        anchor = gallery\n",
    "        \n",
    "        # print(positive_set.size)\n",
    "        # print(negative_set.size)\n",
    "\n",
    "        # randomize data picks to accomodate for unequal data size (total size is based on negative data size due to it being bigger than positive data size)\n",
    "        np.random.seed(1)\n",
    "        positive_idx = np.random.choice(len(positive_set), size=len(negative_set), replace=True)\n",
    "        positive = positive_set[positive_idx]\n",
    "        \n",
    "        anchor_set = []\n",
    "        for _ in range(0, len(negative_set)):\n",
    "            anchor_set.append(anchor)\n",
    "\n",
    "        anchors.append(anchor_set)\n",
    "        positives.append(positive)\n",
    "        negatives.append(negative_set)\n",
    "        # print(len(anchors))\n",
    "        # print(len(positives))\n",
    "        # print(len(negatives))\n",
    "\n",
    "    anchors = np.concatenate(anchors, axis=0)\n",
    "    \n",
    "    positives = np.concatenate(positives, axis=0)\n",
    "\n",
    "    negatives = np.concatenate(negatives, axis=0)\n",
    "    \n",
    "    return anchors, positives, negatives"
   ]
  },
  {
   "cell_type": "code",
   "execution_count": 8,
   "metadata": {},
   "outputs": [],
   "source": [
    "anchors, positives, negatives = create_triplets(sorted_names, gallery_features, train_features, train_labels)"
   ]
  },
  {
   "cell_type": "code",
   "execution_count": 9,
   "metadata": {},
   "outputs": [
    {
     "name": "stdout",
     "output_type": "stream",
     "text": [
      "Anchors shape: (1800, 512)\n",
      "Positives shape: (1800, 512)\n",
      "Negatives shape: (1800, 512)\n"
     ]
    }
   ],
   "source": [
    "print(\"Anchors shape:\", anchors.shape)\n",
    "print(\"Positives shape:\", positives.shape)\n",
    "print(\"Negatives shape:\", negatives.shape)"
   ]
  },
  {
   "cell_type": "markdown",
   "metadata": {},
   "source": [
    "### Triplet Loss Function"
   ]
  },
  {
   "cell_type": "code",
   "execution_count": 10,
   "metadata": {},
   "outputs": [
    {
     "name": "stdout",
     "output_type": "stream",
     "text": [
      "WARNING:tensorflow:From C:\\Users\\Andreas Christianto\\AppData\\Roaming\\Python\\Python311\\site-packages\\keras\\src\\losses.py:2976: The name tf.losses.sparse_softmax_cross_entropy is deprecated. Please use tf.compat.v1.losses.sparse_softmax_cross_entropy instead.\n",
      "\n"
     ]
    }
   ],
   "source": [
    "import tensorflow as tf\n",
    "from tensorflow.keras import layers, models"
   ]
  },
  {
   "cell_type": "code",
   "execution_count": 11,
   "metadata": {},
   "outputs": [],
   "source": [
    "input_shape = (train_features.shape[1],)"
   ]
  },
  {
   "cell_type": "code",
   "execution_count": 12,
   "metadata": {},
   "outputs": [
    {
     "name": "stdout",
     "output_type": "stream",
     "text": [
      "WARNING:tensorflow:From C:\\Users\\Andreas Christianto\\AppData\\Roaming\\Python\\Python311\\site-packages\\keras\\src\\backend.py:1398: The name tf.executing_eagerly_outside_functions is deprecated. Please use tf.compat.v1.executing_eagerly_outside_functions instead.\n",
      "\n"
     ]
    }
   ],
   "source": [
    "embedding_model = models.Sequential([\n",
    "    layers.Input(shape=input_shape),\n",
    "    layers.Dense(512, activation='relu'),\n",
    "    layers.Dense(256, activation='relu'),\n",
    "    layers.Dense(128, activation='relu')\n",
    "])"
   ]
  },
  {
   "cell_type": "code",
   "execution_count": 13,
   "metadata": {},
   "outputs": [],
   "source": [
    "def create_triplet_loss_model(embedding_model, input_shape):\n",
    "    anchor_input = layers.Input(shape=input_shape, name='anchor_input')\n",
    "    positive_input = layers.Input(shape=input_shape, name='positive_input')\n",
    "    negative_input = layers.Input(shape=input_shape, name='negative_input')\n",
    "\n",
    "    # Get embeddings\n",
    "    anchor_embedding = embedding_model(anchor_input)\n",
    "    positive_embedding = embedding_model(positive_input)\n",
    "    negative_embedding = embedding_model(negative_input)\n",
    "\n",
    "    # Triplet loss function\n",
    "    margin = 0.2\n",
    "    positive_distance = tf.reduce_sum(tf.square(anchor_embedding - positive_embedding), axis=1)\n",
    "    negative_distance = tf.reduce_sum(tf.square(anchor_embedding - negative_embedding), axis=1)\n",
    "    loss = tf.maximum(0.0, positive_distance - negative_distance + margin)\n",
    "    loss = tf.reduce_mean(loss)\n",
    "\n",
    "    triplet_loss_model = models.Model(inputs=[anchor_input, positive_input, negative_input], outputs=loss)\n",
    "    return triplet_loss_model"
   ]
  },
  {
   "cell_type": "code",
   "execution_count": 14,
   "metadata": {},
   "outputs": [
    {
     "name": "stdout",
     "output_type": "stream",
     "text": [
      "Model: \"sequential\"\n",
      "_________________________________________________________________\n",
      " Layer (type)                Output Shape              Param #   \n",
      "=================================================================\n",
      " dense (Dense)               (None, 512)               262656    \n",
      "                                                                 \n",
      " dense_1 (Dense)             (None, 256)               131328    \n",
      "                                                                 \n",
      " dense_2 (Dense)             (None, 128)               32896     \n",
      "                                                                 \n",
      "=================================================================\n",
      "Total params: 426880 (1.63 MB)\n",
      "Trainable params: 426880 (1.63 MB)\n",
      "Non-trainable params: 0 (0.00 Byte)\n",
      "_________________________________________________________________\n"
     ]
    }
   ],
   "source": [
    "embedding_model.summary()"
   ]
  },
  {
   "cell_type": "code",
   "execution_count": 15,
   "metadata": {},
   "outputs": [
    {
     "name": "stdout",
     "output_type": "stream",
     "text": [
      "WARNING:tensorflow:From C:\\Users\\Andreas Christianto\\AppData\\Roaming\\Python\\Python311\\site-packages\\keras\\src\\optimizers\\__init__.py:309: The name tf.train.Optimizer is deprecated. Please use tf.compat.v1.train.Optimizer instead.\n",
      "\n"
     ]
    }
   ],
   "source": [
    "triplet_model = create_triplet_loss_model(embedding_model, input_shape)\n",
    "triplet_model.compile(optimizer='adam', loss='mean_squared_error')"
   ]
  },
  {
   "cell_type": "code",
   "execution_count": 16,
   "metadata": {},
   "outputs": [
    {
     "name": "stdout",
     "output_type": "stream",
     "text": [
      "Model: \"model\"\n",
      "__________________________________________________________________________________________________\n",
      " Layer (type)                Output Shape                 Param #   Connected to                  \n",
      "==================================================================================================\n",
      " anchor_input (InputLayer)   [(None, 512)]                0         []                            \n",
      "                                                                                                  \n",
      " positive_input (InputLayer  [(None, 512)]                0         []                            \n",
      " )                                                                                                \n",
      "                                                                                                  \n",
      " negative_input (InputLayer  [(None, 512)]                0         []                            \n",
      " )                                                                                                \n",
      "                                                                                                  \n",
      " sequential (Sequential)     (None, 128)                  426880    ['anchor_input[0][0]',        \n",
      "                                                                     'positive_input[0][0]',      \n",
      "                                                                     'negative_input[0][0]']      \n",
      "                                                                                                  \n",
      " tf.math.subtract (TFOpLamb  (None, 128)                  0         ['sequential[0][0]',          \n",
      " da)                                                                 'sequential[1][0]']          \n",
      "                                                                                                  \n",
      " tf.math.subtract_1 (TFOpLa  (None, 128)                  0         ['sequential[0][0]',          \n",
      " mbda)                                                               'sequential[2][0]']          \n",
      "                                                                                                  \n",
      " tf.math.square (TFOpLambda  (None, 128)                  0         ['tf.math.subtract[0][0]']    \n",
      " )                                                                                                \n",
      "                                                                                                  \n",
      " tf.math.square_1 (TFOpLamb  (None, 128)                  0         ['tf.math.subtract_1[0][0]']  \n",
      " da)                                                                                              \n",
      "                                                                                                  \n",
      " tf.math.reduce_sum (TFOpLa  (None,)                      0         ['tf.math.square[0][0]']      \n",
      " mbda)                                                                                            \n",
      "                                                                                                  \n",
      " tf.math.reduce_sum_1 (TFOp  (None,)                      0         ['tf.math.square_1[0][0]']    \n",
      " Lambda)                                                                                          \n",
      "                                                                                                  \n",
      " tf.math.subtract_2 (TFOpLa  (None,)                      0         ['tf.math.reduce_sum[0][0]',  \n",
      " mbda)                                                               'tf.math.reduce_sum_1[0][0]']\n",
      "                                                                                                  \n",
      " tf.__operators__.add (TFOp  (None,)                      0         ['tf.math.subtract_2[0][0]']  \n",
      " Lambda)                                                                                          \n",
      "                                                                                                  \n",
      " tf.math.maximum (TFOpLambd  (None,)                      0         ['tf.__operators__.add[0][0]']\n",
      " a)                                                                                               \n",
      "                                                                                                  \n",
      " tf.math.reduce_mean (TFOpL  ()                           0         ['tf.math.maximum[0][0]']     \n",
      " ambda)                                                                                           \n",
      "                                                                                                  \n",
      "==================================================================================================\n",
      "Total params: 426880 (1.63 MB)\n",
      "Trainable params: 426880 (1.63 MB)\n",
      "Non-trainable params: 0 (0.00 Byte)\n",
      "__________________________________________________________________________________________________\n"
     ]
    }
   ],
   "source": [
    "triplet_model.summary()"
   ]
  },
  {
   "cell_type": "code",
   "execution_count": 17,
   "metadata": {},
   "outputs": [
    {
     "name": "stdout",
     "output_type": "stream",
     "text": [
      "Epoch 1/10\n",
      "WARNING:tensorflow:From C:\\Users\\Andreas Christianto\\AppData\\Roaming\\Python\\Python311\\site-packages\\keras\\src\\utils\\tf_utils.py:492: The name tf.ragged.RaggedTensorValue is deprecated. Please use tf.compat.v1.ragged.RaggedTensorValue instead.\n",
      "\n",
      "57/57 [==============================] - 3s 9ms/step - loss: 0.0714\n",
      "Epoch 2/10\n",
      "57/57 [==============================] - 1s 9ms/step - loss: 0.0065\n",
      "Epoch 3/10\n",
      "57/57 [==============================] - 0s 9ms/step - loss: 0.0013\n",
      "Epoch 4/10\n",
      "57/57 [==============================] - 0s 9ms/step - loss: 1.7830e-05\n",
      "Epoch 5/10\n",
      "57/57 [==============================] - 1s 9ms/step - loss: 2.7957e-06\n",
      "Epoch 6/10\n",
      "57/57 [==============================] - 0s 9ms/step - loss: 2.1264e-06\n",
      "Epoch 7/10\n",
      "57/57 [==============================] - 0s 9ms/step - loss: 5.9752e-09\n",
      "Epoch 8/10\n",
      "57/57 [==============================] - 0s 9ms/step - loss: 0.0000e+00\n",
      "Epoch 9/10\n",
      "57/57 [==============================] - 1s 9ms/step - loss: 0.0000e+00\n",
      "Epoch 10/10\n",
      "57/57 [==============================] - 0s 8ms/step - loss: 0.0000e+00\n"
     ]
    },
    {
     "data": {
      "text/plain": [
       "<keras.src.callbacks.History at 0x1c2136c8090>"
      ]
     },
     "execution_count": 17,
     "metadata": {},
     "output_type": "execute_result"
    }
   ],
   "source": [
    "triplet_model.fit([anchors, positives, negatives], np.zeros_like(anchors), epochs=10, batch_size=32)"
   ]
  },
  {
   "cell_type": "code",
   "execution_count": 18,
   "metadata": {},
   "outputs": [],
   "source": [
    "from sklearn.metrics import accuracy_score"
   ]
  },
  {
   "cell_type": "code",
   "execution_count": 19,
   "metadata": {},
   "outputs": [
    {
     "name": "stdout",
     "output_type": "stream",
     "text": [
      "[1 1 1 ... 0 0 0]\n"
     ]
    }
   ],
   "source": [
    "print(test_labels)"
   ]
  },
  {
   "cell_type": "code",
   "execution_count": 20,
   "metadata": {},
   "outputs": [
    {
     "name": "stdout",
     "output_type": "stream",
     "text": [
      "100/100 [==============================] - 1s 4ms/step\n",
      "35/35 [==============================] - 0s 4ms/step\n",
      "35/35 [==============================] - 0s 4ms/step\n",
      "4/4 [==============================] - 0s 5ms/step\n"
     ]
    }
   ],
   "source": [
    "train_predictions = embedding_model.predict(train_features)\n",
    "validation_predictions = embedding_model.predict(validation_features)\n",
    "test_predictions = embedding_model.predict(test_features)\n",
    "gallery_predictions = embedding_model.predict(gallery_features)"
   ]
  },
  {
   "cell_type": "code",
   "execution_count": 21,
   "metadata": {},
   "outputs": [
    {
     "name": "stdout",
     "output_type": "stream",
     "text": [
      "(3200, 128)\n",
      "(1100, 128)\n",
      "(1100, 128)\n",
      "(100, 128)\n"
     ]
    }
   ],
   "source": [
    "print(train_predictions.shape)\n",
    "print(validation_predictions.shape)\n",
    "print(test_predictions.shape)\n",
    "print(gallery_predictions.shape)"
   ]
  },
  {
   "cell_type": "code",
   "execution_count": 22,
   "metadata": {},
   "outputs": [],
   "source": [
    "# Feature Gallery dilakukan untuk setiap kelas / nama seperti \"001\", \"002\", \"003\", dst dengan cara mengambil data training positive dan mengambil mean / rata-rata dari data tersebut\n",
    "def create_feature_gallery(train_features, train_names, train_labels):\n",
    "    gallery_feature = []\n",
    "    gallery_name = []\n",
    "\n",
    "    unique_names = set(train_names.flatten())\n",
    "    sorted_names = sorted(unique_names)\n",
    "\n",
    "    for name in sorted_names:\n",
    "        # print(name)\n",
    "        # print(name)\n",
    "        name_features = []\n",
    "\n",
    "        for feature, feature_name, label in zip(train_features, train_names, train_labels):\n",
    "            # print(feature, feature_name, label)\n",
    "            if name in feature_name and label == 1:\n",
    "                name_features.append(feature)\n",
    "\n",
    "        if name_features:\n",
    "            # print(name_features)\n",
    "            average_feature = np.mean(name_features, axis=0)\n",
    "            gallery_feature.append(average_feature)\n",
    "            gallery_name.append(name)\n",
    "\n",
    "    return gallery_feature, gallery_name"
   ]
  },
  {
   "cell_type": "code",
   "execution_count": 23,
   "metadata": {},
   "outputs": [],
   "source": [
    "# gallery_features_extracted, gallery_names_extracted = create_feature_gallery(train_predictions, train_names, train_labels)"
   ]
  },
  {
   "cell_type": "code",
   "execution_count": 24,
   "metadata": {},
   "outputs": [],
   "source": [
    "# print(gallery_features_extracted)"
   ]
  },
  {
   "cell_type": "code",
   "execution_count": 25,
   "metadata": {},
   "outputs": [],
   "source": [
    "def euclidean_distance(feature_vector1, feature_vector2):\n",
    "    return np.sqrt(np.sum((feature_vector1 - feature_vector2)**2))"
   ]
  },
  {
   "cell_type": "code",
   "execution_count": 26,
   "metadata": {},
   "outputs": [],
   "source": [
    "def find_euclidean_distance(test_features, test_names, test_labels, gallery_features, gallery_names):\n",
    "    euclidean_distances = []\n",
    "    euclidean_names = []\n",
    "    euclidean_actual_labels = []\n",
    "\n",
    "    for gallery_feature, gallery_name in zip(gallery_features, gallery_names):\n",
    "        curr_euclid_name = gallery_name\n",
    "        curr_euclid_feature = []\n",
    "        curr_euclid_label = []\n",
    "        curr_euclid_dist = []\n",
    "        for feature, name, label in zip(test_features, test_names, test_labels):\n",
    "            if gallery_name in name:\n",
    "                curr_euclid_feature.append(feature)\n",
    "                curr_euclid_label.append(label)\n",
    "        \n",
    "        for feature in curr_euclid_feature:\n",
    "            distance = euclidean_distance(feature, gallery_feature)\n",
    "            curr_euclid_dist.append(distance)\n",
    "\n",
    "        euclidean_distances.append(curr_euclid_dist)\n",
    "        euclidean_names.append(curr_euclid_name)\n",
    "        euclidean_actual_labels.append(curr_euclid_label)\n",
    "        \n",
    "    return euclidean_distances, euclidean_names, euclidean_actual_labels"
   ]
  },
  {
   "cell_type": "code",
   "execution_count": 27,
   "metadata": {},
   "outputs": [],
   "source": [
    "test_euclidean_distances, test_euclidean_names, test_euclidean_actual_labels = find_euclidean_distance(test_predictions, test_names, test_labels, gallery_predictions, gallery_names)\n",
    "train_euclidean_distances, train_euclidean_names, train_euclidean_actual_labels = find_euclidean_distance(train_predictions, train_names, train_labels, gallery_predictions, gallery_names)\n",
    "validation_euclidean_distances, validation_euclidean_names, validation_euclidean_actual_labels = find_euclidean_distance(validation_predictions, validation_names, validation_labels, gallery_predictions, gallery_names)"
   ]
  },
  {
   "cell_type": "markdown",
   "metadata": {},
   "source": [
    "### Normalize Euclidean Distance"
   ]
  },
  {
   "cell_type": "code",
   "execution_count": 28,
   "metadata": {},
   "outputs": [],
   "source": [
    "# Flatten the lists of distances\n",
    "flat_test_distances = [item for sublist in test_euclidean_distances for item in sublist]\n",
    "flat_train_distances = [item for sublist in train_euclidean_distances for item in sublist]\n",
    "flat_validation_distances = [item for sublist in validation_euclidean_distances for item in sublist]"
   ]
  },
  {
   "cell_type": "code",
   "execution_count": 29,
   "metadata": {},
   "outputs": [
    {
     "name": "stdout",
     "output_type": "stream",
     "text": [
      "[1.8968247, 1.3427002, 1.1699826, 1.5619707, 1.4989467, 1.6134427, 1.9269124, 1.3362434, 1.1011591, 1.5621283, 2.0822022, 1.8283999, 2.6449294, 1.7540523, 4.602803, 5.061256, 4.8765345, 3.3586679, 4.879777, 4.910127, 4.8293805, 6.534127, 5.6623635, 4.1581254, 6.201302, 5.824031, 5.656358, 4.3618855, 4.2318926, 4.831016, 5.4796906, 6.580495, 1.3988752, 1.105819, 1.3458608, 0.97724456, 1.4195906, 1.5127174, 1.5723871, 1.30916, 1.224262, 1.7926824, 1.0454005, 2.1455255, 1.293828, 1.2351322, 3.2570374, 4.4530563, 6.214325, 2.5724075, 4.0965176, 4.0391164, 5.7018814, 4.1553736, 3.8531373, 4.3892336, 5.1863523, 5.2278733, 5.0256343, 4.0917783, 4.975368, 5.024962, 3.2940176, 5.7462564, 2.0439353, 1.3183986, 1.9044628, 2.1904573, 1.9096216, 3.7519853, 1.653921, 1.9096216, 2.094719, 2.1904573, 1.9044628, 1.9096216, 2.094719, 2.1904573, 4.7257338, 4.8422127, 5.954277, 5.9734983, 4.7306843, 5.9646816, 5.950694, 4.5334754, 4.563724, 5.1885777, 5.5541587, 4.9402194, 5.54149, 5.19618, 5.7781243, 6.3220663, 4.7005625, 6.2222967, 2.2242405, 2.3152769, 1.9798058, 1.4475564, 3.0234878, 2.5917623, 2.325435, 2.4692159, 1.7671382, 2.5944195, 2.3222558, 2.2378886, 2.3816311, 3.58506, 3.942026, 4.9340367, 3.4362767, 3.2299383, 5.6482444, 3.8068695, 4.106941, 5.214744, 3.4608705, 5.4812183, 3.947846, 4.677402, 4.650161, 4.617946, 4.096846, 4.273485, 4.934876, 4.6031203, 1.229147, 2.1936467, 1.4779067, 2.747319, 1.3398248, 1.1269363, 1.673251, 1.8061762, 2.0369785, 1.5405991, 1.8149351, 1.5933927, 2.377392, 1.647557, 4.6319847, 2.1293423, 3.4673684, 3.0023108, 1.9901705, 2.5273745, 3.2254374, 3.7142665, 3.174851, 3.4150565, 3.468199, 3.2447689, 3.235305, 3.4941561, 3.1263876, 3.9715166, 3.698679, 4.380885, 2.31719, 1.9984502, 2.340107, 2.6255102, 1.6771578, 1.3910059, 1.9883742, 1.2804714, 1.7081286, 1.1851339, 2.0057151, 2.0175347, 1.9761709, 1.9736907, 2.8717124, 2.7165506, 2.9638088, 4.37621, 3.5136795, 2.3302054, 2.7136965, 3.4175396, 2.9022346, 3.642298, 3.242449, 3.2510462, 2.8547263, 3.9606924, 3.6230578, 3.2169318, 2.8547256, 3.9606922, 1.8805248, 1.6933277, 1.1051997, 2.152076, 1.5417866, 2.3915515, 2.2594485, 3.2269008, 1.7768215, 1.8954473, 2.3218808, 1.8334926, 2.6982217, 4.5112123, 6.0173955, 5.4290338, 5.9333625, 4.55015, 5.870187, 5.21262, 5.1623297, 5.554167, 4.778417, 5.529055, 5.726675, 5.8767915, 5.6542864, 4.7934613, 5.502341, 6.020776, 4.4805465, 5.1623297, 2.3426878, 1.9969728, 1.7148228, 1.9794157, 1.5649176, 1.646499, 1.1168488, 2.3163707, 1.6633227, 1.3331687, 1.1625358, 1.7696053, 1.7562628, 1.8088312, 3.2641206, 3.2714057, 3.4930727, 3.8259976, 2.6117558, 4.8310466, 4.9021816, 3.8854153, 4.3844166, 3.251741, 2.8873928, 3.3377066, 3.9915733, 4.5404286, 3.859011, 3.4693363, 3.1401656, 5.4804487, 2.6878717, 1.7044891, 2.5887773, 2.7662156, 2.561, 2.1549144, 2.4566705, 1.7337037, 2.405752, 1.518715, 2.3324497, 1.5117892, 1.961687, 1.8777897, 4.919343, 5.5165396, 4.9030128, 3.2380018, 6.032119, 4.4040704, 4.7078586, 7.280182, 4.3254724, 4.8328056, 4.057031, 5.120311, 3.787784, 4.972241, 3.4119263, 5.120311, 4.832806, 5.283873, 1.8609607, 1.8514435, 1.349269, 1.6844922, 3.1190445, 1.8690137, 1.8627503, 3.3200183, 1.7729206, 1.9184647, 1.5645182, 1.8035283, 1.8326887, 1.8900816, 4.451609, 3.9355052, 3.851003, 3.315872, 4.433359, 3.2600539, 4.1403627, 4.991792, 4.264839, 5.156072, 4.7777476, 4.9471264, 4.8236704, 5.0003853, 4.69359, 5.0362535, 4.823671, 5.0003867, 1.4121776, 0.9924564, 1.6747282, 1.7102519, 0.97426033, 1.2123263, 1.1862031, 0.6444781, 1.6779363, 1.1967742, 1.0448759, 0.97194487, 1.5985938, 1.5438665, 2.023138, 3.2318542, 3.2184246, 3.5218382, 2.5531695, 2.7086961, 2.3726125, 2.8629117, 2.2532387, 2.7086961, 3.0989454, 2.3985054, 2.961764, 2.8629117, 2.023138, 2.2532387, 3.2318552, 3.2184238, 1.6320057, 1.657406, 2.0455806, 1.6706125, 1.8324227, 1.370929, 1.6353391, 2.3105538, 1.867362, 1.5301628, 2.3112776, 1.5214733, 1.5048273, 2.0433578, 3.3550265, 4.0564785, 5.006406, 4.566383, 4.490651, 4.7536726, 5.0495696, 4.6431255, 4.1523676, 4.4332004, 3.769673, 4.8133063, 3.8629076, 5.1597295, 2.1662, 3.6242592, 3.4963758, 4.0141854, 1.6942586, 2.231726, 1.4468759, 1.7496191, 1.7887964, 1.4531788, 1.7337075, 1.1747415, 1.3481113, 0.7526257, 1.1362187, 1.554228, 1.0038465, 1.5208355, 3.7525074, 3.430278, 4.0192165, 3.1736228, 4.247857, 3.232551, 3.3842237, 2.3713436, 2.748871, 2.6600206, 2.7882483, 1.8537964, 4.2000384, 2.4644442, 3.4672914, 2.7959003, 3.780987, 4.36968, 1.0560352, 1.5664575, 2.8357108, 1.9284564, 1.917159, 1.3525256, 2.2455904, 1.8990566, 1.448727, 0.96804047, 1.7561268, 1.3967953, 1.3013655, 2.0549238, 2.3260539, 2.2166421, 3.988192, 3.6635008, 2.9061983, 3.6101084, 3.2185717, 3.8900661, 2.3085217, 3.3427787, 2.2096758, 4.1157146, 3.5617392, 2.767077, 3.535664, 3.5586524, 3.5617394, 2.767077, 1.4508585, 2.2853966, 1.7794223, 2.6933386, 2.8545706, 2.196749, 1.6274333, 1.6914262, 3.1526446, 2.3790455, 1.6395004, 2.399694, 2.6453657, 1.6274333, 4.2810526, 3.8014257, 3.578363, 4.8006635, 3.8960297, 4.63012, 3.506247, 4.0914288, 4.2371125, 3.3777702, 5.123831, 3.2719631, 4.3557973, 3.9473445, 3.9907994, 3.0303087, 3.2719626, 4.3557963, 1.5373368, 1.4751287, 1.4751287, 2.2742429, 1.12885, 1.7485237, 1.7995769, 2.6779954, 2.2227228, 1.7698998, 1.0749962, 1.6263739, 1.555656, 2.1268215, 3.7061775, 2.9948218, 2.9471, 3.6332412, 3.624564, 4.2425075, 2.0751922, 3.0715168, 4.3129826, 3.714407, 4.0610867, 3.0139544, 2.8366659, 3.6887274, 2.5925822, 3.3444552, 2.836666, 3.6887279, 2.3550587, 1.675127, 1.1981138, 1.0589972, 1.098858, 1.0024643, 1.5989649, 1.9526625, 1.3139912, 0.9789112, 1.3284062, 1.4080786, 1.6808296, 1.5100689, 3.704352, 2.6734383, 2.792307, 2.7191575, 3.2992194, 2.9298682, 3.978053, 4.672541, 4.209352, 5.2536387, 2.792307, 5.384804, 5.0087113, 5.0604787, 5.2705517, 4.5470166, 2.7191577, 3.2992196, 2.332177, 1.3406092, 2.4416215, 1.8626628, 1.5231302, 2.4198167, 1.6601852, 1.3474975, 2.3458376, 1.5497233, 1.7165225, 2.1701393, 1.5231302, 1.8614806, 3.373438, 3.013994, 3.4887054, 3.503359, 3.1495883, 3.2679312, 3.4831147, 3.5121503, 3.3574219, 3.6663492, 3.1200724, 3.9440536, 3.6644924, 3.2916691, 3.4176316, 4.167002, 3.9440541, 3.6644936, 1.3659346, 1.8754125, 1.7355423, 1.4641991, 1.3328568, 1.2440474, 1.6052114, 1.055369, 1.640211, 1.8804637, 1.1555042, 1.83314, 2.184125, 1.4883206, 4.263848, 3.9322226, 2.9050634, 3.4615889, 4.281602, 5.2371116, 3.8807976, 3.1873665, 3.789571, 4.22489, 3.8640041, 3.8854632, 2.2590473, 4.809035, 4.887262, 4.185763, 3.6828203, 3.7628891, 0.792051, 0.9698754, 0.792051, 0.55618674, 0.55618674, 0.8175976, 2.581485, 0.792051, 0.9698754, 0.7277394, 0.55618674, 0.8175976, 0.7277394, 0.55618674, 6.9117036, 5.802647, 3.5982308, 4.716453, 5.307436, 4.6094995, 3.9212136, 5.307436, 4.5644836, 4.894959, 5.861606, 4.467091, 4.436987, 5.3704367, 4.115739, 4.819446, 4.170791, 5.671102, 1.8578995, 1.1520662, 1.3183258, 2.0100043, 1.0162683, 1.5820725, 1.0201198, 1.7129856, 1.4311585, 1.6033617, 1.1737413, 1.0201198, 1.1520662, 1.3183258, 2.4184792, 2.3979564, 2.57107, 2.305797, 3.0178604, 1.6405721, 2.7742052, 2.4655168, 2.4298859, 2.0576363, 2.1101844, 1.908976, 2.2797554, 2.517382, 3.37322, 1.925001, 1.6255826, 1.9086225, 0.8644997, 1.2123867, 0.6541085, 0.91267836, 0.9030484, 1.2740175, 0.57957375, 0.71516764, 1.031932, 0.94829595, 1.201201, 1.2062758, 0.9393037, 1.1746187, 5.5661077, 5.3631225, 6.218444, 4.196563, 5.2743115, 3.3701632, 4.9336767, 4.76527, 5.045673, 5.435162, 4.3514285, 4.786522, 5.429524, 4.4623775, 4.3238115, 6.4478235, 5.4295244, 4.462377, 1.5422786, 1.0758547, 1.8637035, 1.6377771, 1.4901811, 1.1632985, 2.4800236, 1.8478441, 1.5934691, 1.8003417, 1.2940955, 1.0788231, 1.9876838, 2.1186292, 3.4181142, 2.7155635, 2.5097275, 1.7665133, 2.8168721, 4.5223346, 3.387387, 3.2358477, 2.559315, 3.6423254, 2.1879647, 2.948628, 3.2102249, 2.7190967, 2.8130584, 2.0555637, 2.2131796, 2.568534, 1.4094425, 1.4653227, 1.9788351, 2.1478872, 1.784481, 2.5976145, 1.7159134, 1.7447042, 1.8305588, 1.08857, 1.1746289, 1.4026923, 1.7548451, 2.8785195, 4.7427993, 5.66275, 4.8727884, 3.9035325, 5.0380545, 4.419549, 4.799476, 5.0380545, 4.0458302, 5.852847, 4.8727884, 4.8727884, 5.0380545, 3.9035325, 3.9035325, 3.9035325, 4.872789, 4.7929955, 1.235538, 1.0574094, 1.0076337, 0.94221956, 1.4256027, 0.8467364, 2.141859, 1.6819053, 1.3626344, 1.5554194, 1.5065653, 1.6660984, 1.3493459, 1.1588774, 5.7205806, 2.8424656, 4.966999, 4.2548594, 3.771515, 3.522976, 6.372443, 6.2504554, 6.4062066, 5.8602524, 4.286687, 5.7205806, 5.174262, 3.591348, 2.8424656, 4.966999, 6.893322, 3.5229754, 1.7018441, 1.0686196, 1.9394318, 1.9364562, 2.3956845, 0.96816874, 1.0178909, 1.6965572, 1.7819762, 1.3852003, 1.4692932, 0.5408449, 1.436434, 2.3378525, 3.8751266, 3.0996482, 4.5382752, 2.5248456, 4.2001905, 3.3299596, 3.8169167, 4.2699733, 3.1509204, 4.4456916, 3.1339533, 4.024584, 4.4764857, 3.674634, 4.5549855, 3.5756104, 3.3299596, 4.383324, 1.7297045, 1.499749, 1.2038387, 1.3691463, 0.93956184, 1.169551, 1.1987405, 1.0518786, 1.542312, 1.5407126, 1.8256556, 1.4035784, 1.1225213, 1.5511374, 2.4835222, 3.1738572, 3.5539036, 4.435574, 3.697062, 5.397677, 2.9044373, 3.257212, 3.8434377, 4.30259, 3.5411196, 3.965316, 3.4701457, 3.8063564, 2.715121, 2.7984974, 3.4225497, 3.7595344, 1.3592973, 0.822144, 0.9362368, 0.9842357, 1.2033302, 1.5108572, 1.6088455, 0.76775527, 1.5456972, 1.125837, 1.6478473, 1.3877995, 1.6250055, 1.265316, 2.7969692, 2.9200993, 2.3568187, 2.114333, 3.4335725, 3.0116293, 2.8076756, 3.0766394, 2.5987265, 2.6911488, 2.5158412, 2.6184018, 3.0366118, 3.732175, 2.6565454, 3.8778265, 2.4439678, 4.19936, 1.8087195, 1.3933462, 2.4370012, 1.9113451, 1.0975288, 1.7078648, 1.458297, 1.8381114, 1.6984849, 2.8848703, 2.5873742, 1.4436167, 1.5605539, 1.6964535, 4.305204, 4.637992, 4.073749, 3.8220258, 4.8438177, 3.596473, 4.7368946, 3.6819742, 4.252305, 3.6543937, 3.4771743, 3.8760848, 4.1089344, 5.097489, 3.8307679, 4.146748, 4.843818, 4.5127454, 1.6682675, 2.1580372, 1.9866079, 1.9670665, 2.5588782, 2.082417, 1.5872341, 1.5240085, 1.7045262, 2.0098999, 1.8975463, 2.151014, 1.6657169, 3.2770557, 4.7793646, 3.8681974, 6.161207, 4.146619, 4.0639167, 3.527223, 5.17291, 4.8705764, 3.9952924, 3.547771, 3.931983, 3.2192993, 4.113229, 3.6644127, 4.36921, 4.932832, 4.113228, 3.664413, 1.8178133, 1.9542847, 3.6820395, 2.6253953, 1.4960898, 2.2461298, 1.4651908, 2.6367035, 2.2168617, 1.8321488, 1.8085783, 1.9376943, 2.2584252, 1.8890253, 6.516216, 6.7845254, 5.7137885, 6.1723814, 6.5926847, 6.68064, 7.198608, 8.051515, 6.8948803, 8.186496, 6.21803, 6.7598815, 6.1767063, 7.288264, 6.609461, 7.5453978, 6.6376557, 7.198606, 3.3793607, 1.80275, 2.1922317, 2.1838949, 3.0274165, 1.8386108, 1.7291973, 2.445918, 2.445918, 1.5729321, 2.299762, 2.8490167, 2.3789413, 3.5940876, 4.4002824, 4.1373587, 4.4633617, 4.148332, 4.6697345, 3.735242, 4.8311434, 5.4576077, 3.8674462, 4.584222, 5.036769, 4.2633657, 6.1209745, 5.2752986, 4.679323, 5.669485, 5.246008, 3.735242, 0.8748555, 2.416428, 1.0888195, 1.4065161, 1.2810844, 0.96460533, 1.0633647, 1.072152, 1.6862679, 2.0625658, 0.9997617, 1.3386576, 2.0220885, 1.0614763, 3.64009, 4.308242, 3.0181828, 2.7113705, 2.3749876, 2.6801767, 3.2411673, 4.670012, 2.8798807, 4.325114, 3.1161354, 2.9215922, 3.955452, 2.3042986, 2.743727, 3.6033103, 3.955454, 2.3042998, 1.180669, 1.3983259, 2.0097747, 1.3318634, 1.3672343, 1.3202727, 1.3977265, 0.90492946, 1.1564678, 0.97691214, 1.3699234, 1.3035911, 0.9980728, 1.324049, 3.4397712, 2.7826464, 2.105785, 4.3171077, 2.6395814, 1.8941345, 2.5767872, 3.0307086, 2.3993053, 2.6465762, 3.0461707, 1.8234928, 1.4508474, 3.0592284, 2.4707267, 2.4137113, 2.536439, 2.5767872, 1.2442102, 1.7834256, 3.8523366, 1.4204327, 1.6202266, 1.6454227, 1.7748148, 1.8132598, 1.0847886, 1.7243673, 2.099633, 2.0907805, 1.2396052, 2.2205253, 3.6396673, 3.6278675, 3.489238, 3.861347, 4.246818, 4.2580886, 3.8808079, 4.1748166, 4.2605066, 3.420511, 4.0141783, 3.1603596, 3.0563881, 3.7168126, 3.4658368, 3.720186, 4.6281385, 4.258089, 1.3746653, 1.1348572, 2.023604, 1.3983426, 2.0628734, 1.1704167, 1.3818048, 2.0926876, 1.3780365, 2.0143542, 1.4768454, 2.2457755, 1.2638465, 1.716119, 4.641838, 4.873831, 4.3671412, 5.156665, 5.042527, 5.592832, 5.387359, 4.0758743, 4.0686855, 5.0424423, 4.595149, 5.568791, 6.8174834, 3.7196758, 5.2067237, 4.8921456, 5.1566653, 5.042527, 1.7024002, 2.1344166, 1.2032796, 2.258318, 2.2226, 0.9321783, 1.50227, 1.4445354, 2.0692635, 2.1539705, 1.6462685, 1.7217085, 1.6515868, 2.7443128, 3.316046, 4.5975246, 2.433277, 3.223786, 4.001952, 3.7907069, 2.7769327, 3.9050744, 5.180629, 4.276934, 3.9190443, 3.7861266, 4.9157414, 3.7292378, 3.3349745, 4.788996, 3.2641418, 2.776934, 1.1199864, 1.7858295, 2.534459, 1.6472137, 1.3458482, 1.0648096, 1.7497762, 1.4387505, 1.5657034, 1.143859, 1.8674133, 1.5521499, 1.4950597, 1.9634548, 2.3648407, 2.4205332, 2.1738412, 3.2954242, 2.489587, 2.839156, 2.713475, 2.1232138, 2.3370612, 2.8192048, 2.9344592, 2.5904331, 2.7819486, 3.3717182, 3.2206202, 3.1278152, 2.7134748, 4.14517, 1.6114912, 1.1217321, 1.3466281, 1.1364768, 1.5088465, 1.7206392, 1.4637624, 1.4064108, 1.7214129, 2.1212864, 1.5165442, 1.459112, 1.9647201, 1.3309227, 4.276013, 3.956464, 4.1979423, 3.5925622, 4.5386024, 3.187331, 5.0756593, 5.295495, 3.9046116, 5.0353885, 3.4755673, 4.456193, 5.5392537, 3.464085, 5.9698577, 5.4654403, 4.974712, 3.1873312, 1.4360356, 1.5062807, 1.0171233, 1.3366069, 2.0600715, 1.6498595, 1.4150767, 0.85237986, 1.2646747, 1.5718522, 1.6027534, 2.1197019, 1.0469265, 1.1478937, 4.268724, 4.2673206, 4.020343, 3.611601, 3.7147086, 2.5247536, 3.5313323, 4.9708533, 3.7592518, 3.8157303, 3.3005962, 4.2296977, 3.571963, 3.8785045, 4.8344913, 4.074465, 2.524754, 4.311217, 1.1293665, 0.956279, 0.723545, 1.2939153, 1.0235037, 0.8417745, 1.1194165, 1.0474097, 1.056962, 0.7972849, 1.2292653, 1.215778, 1.3686715, 0.8242763, 4.1115727, 3.9093611, 6.009912, 3.0828288, 5.838973, 3.0605347, 5.003511, 5.23653, 4.0102, 5.755379, 4.3102317, 4.3567924, 5.6484704, 4.7716503, 6.3014317, 5.6590385, 6.0105934, 3.0605335, 1.9403466, 2.2770214, 1.8615639, 1.8930509, 2.0932515, 2.339935, 2.015002, 1.9621632, 1.6077225, 2.0500474, 2.1341674, 2.4641995, 1.9621632, 1.6077225, 2.9854264, 3.99599, 4.071768, 4.099092, 4.1826434, 3.9138122, 3.326744, 3.1291897, 3.686109, 4.313023, 3.8680885, 4.9794974, 2.5410073, 3.9062822, 3.6038969, 3.712875, 4.818667, 3.129189, 0.8714144, 1.2532085, 0.9350012, 1.4891576, 0.98941576, 1.171816, 1.3852816, 1.2050605, 1.7867931, 1.390863, 1.1981392, 1.4891576, 1.3312918, 0.98941576, 1.8781978, 2.1030467, 2.3298585, 1.8426436, 1.8030118, 1.9915959, 1.2567916, 2.3146396, 1.9644966, 2.20712, 1.4416715, 1.5865957, 1.5597137, 1.7170436, 2.6823804, 1.6516514, 1.9644966, 2.8233762, 1.0805964, 2.364122, 2.0000641, 1.6009096, 2.1680126, 2.1454144, 1.773294, 2.3075485, 1.4554632, 1.1840918, 1.8416117, 2.267045, 1.9845589, 2.126912, 3.9636998, 3.4253004, 3.6166728, 4.0131288, 2.8182366, 3.9496768, 3.5605211, 2.9755409, 3.0875814, 2.5281484, 2.536251, 3.5698328, 2.8230884, 3.648452, 3.658826, 2.843392, 3.9503262, 2.9755402, 1.4402996, 1.129161, 1.2947956, 0.7899086, 1.0702099, 0.6686394, 1.3773361, 1.3011156, 0.9706921, 1.391473, 1.4036328, 1.184087, 1.1754687, 0.94096357, 3.6004274, 4.2385488, 4.363621, 3.2433627, 3.6188169, 2.9109957, 3.1341598, 3.7383566, 3.46964, 3.7006688, 2.8196266, 3.7255983, 3.2481222, 3.5054748, 4.266557, 2.7342322, 3.46964, 3.336189, 1.0532963, 1.1598969, 1.1930634, 0.9559902, 0.8071203, 0.8824167, 0.99019885, 1.2959268, 1.0387934, 1.4073508, 0.9930015, 1.3597575, 0.8424851, 0.9058013, 4.2047687, 3.8379536, 6.852931, 3.8561482, 4.1446977, 4.2091827, 5.477283, 6.233285, 4.8255424, 4.675223, 4.595951, 4.933825, 5.2026577, 4.0346956, 5.063636, 4.8834395, 4.5959506, 4.933825, 3.2608662, 2.4185817, 1.525837, 2.268748, 1.3406391, 1.4792622, 1.5912454, 2.1795254, 1.832197, 1.4523534, 1.4293665, 2.272337, 1.4523534, 1.4293665, 2.875751, 3.1396692, 2.0698621, 3.5105374, 3.1887815, 3.5580375, 3.0944016, 3.8732855, 3.7646422, 3.311789, 3.5972123, 3.7474177, 3.8961504, 2.9985127, 2.7493308, 4.758595, 3.3117902, 3.5972128, 1.0767474, 0.7726613, 0.87171006, 1.2622875, 0.8592153, 0.9512818, 1.5306121, 0.87171006, 1.0767474, 0.7726613, 0.87171006, 0.8592153, 1.2177027, 1.1943845, 2.0376382, 1.9422941, 2.2129557, 1.5064915, 1.2448403, 2.7711692, 1.8183147, 1.8340199, 1.7591094, 1.8612044, 2.4101572, 1.5387472, 2.4506886, 1.8084545, 1.5946252, 1.9552077, 2.07982, 1.6729109, 1.6866429, 1.8599646, 1.6409581, 1.2464048, 2.1175652, 2.9660184, 1.6409581, 1.6409581, 1.6409581, 1.6409581, 1.6866429, 1.2464048, 2.3430915, 2.1175652, 4.127968, 4.119962, 3.6982677, 3.400418, 3.848981, 3.5166917, 4.5362873, 4.056798, 4.5008407, 4.3412642, 4.2325215, 4.185089, 3.3946993, 3.9951143, 3.1549008, 4.072612, 4.056797, 4.5008407, 2.0237746, 1.5623554, 1.8307587, 2.4435441, 1.0335367, 1.1668504, 1.7316693, 1.7853314, 1.7290026, 2.2493644, 1.6518965, 1.6518965, 1.0335367, 1.2405475, 2.5308723, 4.391484, 1.8113637, 3.7578642, 3.2210553, 4.1302, 2.375847, 2.5486712, 2.7251108, 2.7606106, 2.8734267, 2.4263256, 3.2806177, 3.0756152, 2.1918554, 2.7316525, 2.2156026, 4.1301994, 1.7199247, 1.303685, 1.494517, 1.3568928, 1.8851382, 1.6154159, 1.9172627, 1.6751013, 2.2531257, 1.1830432, 0.9205686, 1.494517, 1.3568928, 2.2400968, 2.3807476, 3.1710403, 2.0928593, 4.849862, 3.825798, 3.4979646, 2.046271, 3.6520631, 4.158771, 3.856702, 3.2044015, 3.150822, 2.5116968, 3.5953805, 3.00854, 3.0854044, 3.1710396, 2.0928593, 1.6798322, 1.3970712, 1.0977625, 1.2816521, 1.0445861, 1.1776019, 0.97691125, 1.6032004, 2.0591471, 1.6507388, 1.0977625, 1.3970712, 1.0977625, 1.2816521, 2.5278246, 2.899618, 3.1605165, 3.0072424, 2.683617, 2.4508412, 2.75762, 3.7108798, 2.7223513, 3.1514578, 3.661889, 2.3577106, 3.3200011, 2.747374, 3.286688, 2.9416206, 2.722352, 3.2000518, 1.9936652, 1.8959063, 2.6392362, 1.1800331, 1.3101639, 1.979771, 2.004757, 1.9015266, 2.0281262, 2.6521668, 2.6392362, 1.979771, 2.004757, 1.9015266, 2.5885618, 3.866115, 3.9192092, 4.2568293, 3.9515405, 3.5858135, 2.7882216, 4.043152, 3.5311713, 3.5004137, 3.3044608, 2.5289903, 2.8486078, 3.2993808, 3.7153037, 3.426992, 4.0431523, 3.5311718, 1.3145283, 2.28798, 1.747728, 2.197565, 3.120047, 3.3521376, 2.1078086, 2.6798916, 1.8275113, 2.0463567, 2.6205947, 1.747728, 2.197565, 1.47679, 4.710894, 4.6940484, 4.3413835, 3.4560573, 4.628257, 4.9957266, 7.100089, 3.6220858, 4.9692016, 4.5508213, 3.8106592, 3.5458295, 4.1392365, 3.2714646, 3.9232745, 3.3739681, 3.4560575, 4.6282563, 1.9126813, 2.1896846, 1.8394694, 1.4966656, 1.2723237, 1.1264532, 1.37431, 1.0734593, 0.97798055, 1.4617442, 2.028842, 1.4966656, 1.161372, 1.2723237, 2.2194765, 3.7665317, 2.745976, 3.1698565, 3.1114235, 3.4604504, 2.4652085, 2.8392942, 2.892131, 3.321366, 2.2000723, 2.7462418, 2.7946646, 1.2483068, 3.1887796, 2.7246304, 3.377526, 2.8392932, 1.6934097, 1.9207017, 2.3961616, 1.5330589, 1.2800704, 2.0826979, 2.2626767, 1.1906186, 1.5580711, 1.508191, 1.6934097, 1.3845401, 1.2800704, 2.316907, 3.8608923, 2.6941018, 3.7715566, 2.083645, 4.214339, 2.7842321, 3.3829815, 3.4115365, 2.6122842, 2.8700507, 2.868441, 2.7553158, 3.426143, 3.9598129, 3.5064442, 3.7536035, 3.4115372, 2.6122832, 1.0837668, 1.4599704, 1.351741, 1.0433755, 0.71640676, 1.3744259, 1.0431839, 1.2099606, 1.9962095, 1.647016, 1.3087574, 1.0433755, 1.2168242, 0.71640676, 2.344489, 2.0580156, 2.032314, 2.3134882, 1.9191893, 4.047044, 1.9611684, 2.1596758, 3.3797603, 1.8846667, 2.8817854, 2.6808643, 1.7062067, 4.19738, 2.2259607, 2.5084596, 3.3797596, 2.2988846, 1.5696582, 1.7439444, 1.5599366, 1.9037371, 1.6961455, 1.4587849, 1.5763239, 1.6940022, 2.0166516, 1.479356, 1.52334, 1.1493081, 1.4218963, 0.980097, 2.559512, 3.110026, 3.517352, 3.0017684, 2.1367307, 3.3925433, 4.1364436, 3.67123, 3.0975466, 3.1813986, 3.7476392, 2.460655, 2.6509726, 3.4191837, 2.9159136, 3.6178374, 3.6712291, 3.0975468, 0.8263071, 1.3004776, 1.1239643, 1.5254587, 1.9750806, 1.5082678, 1.343026, 1.3495389, 1.037506, 1.3231581, 1.2310524, 0.9997846, 1.1090108, 1.7089751, 3.5271053, 2.9154043, 1.9769063, 2.8208787, 2.3211281, 2.183584, 2.2472508, 3.2636178, 2.7811968, 2.912392, 2.8829246, 3.1884522, 3.4649048, 4.7054176, 2.600055, 2.6366, 2.3923907, 3.263618, 0.9504872, 0.79430604, 1.8481389, 2.0207846, 1.4265178, 1.4900063, 0.8894331, 1.5232165, 1.4439014, 1.293563, 1.3377901, 1.7290267, 0.9049055, 2.152885, 3.232652, 1.9333835, 2.112404, 1.5707759, 3.0689828, 2.0228286, 2.6190393, 2.3213353, 2.5965102, 2.4332256, 1.6888133, 3.2739625, 2.6495001, 2.9558785, 3.253852, 3.7318857, 2.2213643, 2.321335, 1.9572833, 1.1216155, 1.1898534, 1.6763345, 1.7035416, 2.3432336, 1.4905045, 1.6047245, 2.2228549, 2.5047855, 1.8856437, 1.1898534, 1.6763345, 2.0494924, 3.8460338, 3.0514126, 3.000401, 2.9749627, 4.2167993, 2.52285, 2.9998786, 2.637893, 2.2403014, 2.952971, 3.014689, 3.3108082, 3.5460157, 2.3679554, 2.929448, 3.011447, 2.637894, 2.2403016, 1.9947919, 1.5216514, 1.534335, 1.3072778, 1.7483574, 2.0951133, 2.0808778, 2.2301772, 1.5752413, 2.4567504, 2.2497325, 1.3072778, 1.9410689, 1.7483574, 4.538753, 3.5624678, 4.3320613, 2.5446265, 3.270851, 2.8514721, 4.278853, 3.90266, 4.931247, 3.200298, 3.5120227, 4.4564967, 4.023594, 3.207364, 4.1312037, 3.0390866, 3.270852, 5.142856, 2.4210732, 1.5528729, 2.6315668, 0.70079607, 1.0989311, 1.648061, 1.2738844, 1.6866149, 1.3618604, 1.9134464, 1.2509115, 0.70079607, 1.887856, 1.0989311, 5.378904, 5.1603155, 3.524388, 5.0624275, 4.0194926, 3.9532893, 3.6077273, 4.4001527, 4.69161, 3.5253537, 3.3985593, 4.0565095, 4.341189, 3.0442305, 3.8823297, 3.7768, 3.4334698, 3.9532883, 1.7731235, 1.2674272, 1.5975232, 2.1592386, 2.053302, 2.034761, 1.1645856, 1.639579, 1.4394565, 1.7190157, 1.4187883, 2.1592386, 1.4187883, 1.639579, 2.7154498, 3.4444385, 3.523707, 4.50337, 4.0863347, 4.924186, 3.059924, 2.9494228, 3.137709, 3.1442637, 2.1387641, 2.6180704, 3.7707486, 2.065379, 3.0584493, 2.8421519, 4.086334, 2.8200557, 0.7846902, 0.89012563, 1.4543855, 1.0051506, 0.9255975, 1.2421309, 1.4527217, 1.0691751, 1.144032, 1.6862348, 1.5206481, 1.0051506, 0.78247863, 0.9255975, 4.771496, 5.917171, 5.247176, 4.1576977, 5.4481697, 3.2342155, 4.8346877, 3.8311331, 4.091349, 4.823379, 4.5031624, 5.5925484, 5.450509, 6.3450274, 5.4587708, 3.8221762, 5.4481688, 5.0284233, 1.5540632, 1.2252802, 1.1411904, 1.302667, 1.1809621, 0.83518744, 1.4095254, 1.3542888, 1.6895761, 1.2422652, 1.2856894, 1.302667, 1.1876664, 1.1809621, 1.9353573, 2.1706088, 2.9505794, 3.2191708, 3.4346004, 2.3878803, 4.000257, 2.9765055, 2.4735978, 2.646057, 2.2269619, 2.7260551, 2.9505794, 3.2191708, 3.4346004, 1.8885322, 3.2191708, 3.4346008, 1.4444246, 1.8820754, 2.2313914, 2.0552883, 1.6360426, 1.8380159, 1.9900433, 1.7297741, 2.2563918, 1.9342555, 3.0745661, 1.4444246, 2.2313914, 2.0552883, 3.2703407, 4.9055905, 4.2847233, 2.3845456, 3.1008942, 3.8292248, 3.4708006, 3.2191708, 4.1647654, 3.5679104, 4.385411, 4.5370774, 5.0749416, 4.7508297, 3.2500095, 3.5822818, 3.35307, 4.5370774, 2.0784812, 1.4775035, 2.0568771, 1.7612501, 1.353714, 1.1688563, 1.5047789, 1.331266, 1.8916634, 1.3446084, 2.3848803, 2.0784812, 1.1688563, 1.5047789, 2.3923345, 2.355398, 3.0588865, 2.9115703, 1.8313078, 2.8169553, 2.3765004, 2.9089205, 2.2429595, 2.9648166, 3.3950548, 3.517649, 2.4885848, 2.5758646, 2.2742238, 2.8340595, 3.840517, 3.5176492, 1.420143, 1.9340216, 1.8148224, 2.139366, 2.2805786, 1.8936487, 3.2247303, 2.4747202, 2.3575163, 2.179763, 2.4739938, 2.139366, 2.9757907, 2.2805786, 4.941233, 4.0396276, 4.4956203, 3.8468447, 4.384113, 3.833228, 4.91401, 3.6448262, 3.6920865, 5.3696604, 4.911784, 4.9554486, 4.809125, 5.9102693, 4.155557, 5.7262073, 4.3841114, 4.758441, 2.650775, 2.1273277, 3.113567, 2.8610015, 2.750832, 2.6720707, 3.6436787, 1.7605047, 2.2459164, 2.3047886, 2.6783283, 2.0969696, 2.750832, 2.6665943, 6.0221987, 4.4682717, 4.589551, 3.772027, 4.234769, 2.2449696, 4.5910997, 3.9592068, 3.2678788, 3.7781978, 4.6872344, 3.1099224, 5.1833763, 3.6659734, 4.3565636, 5.8058653, 4.687233, 3.1099226, 1.8181459, 1.9734597, 2.3556814, 1.9311459, 2.032041, 1.657993, 1.7787986, 1.4986814, 2.2288368, 2.3706572, 1.3929565, 1.5997254, 2.3875954, 1.8185982, 2.915882, 2.7817807, 5.0778933, 2.8153846, 3.2465022, 2.6501472, 2.266435, 4.611246, 4.563204, 3.4148135, 4.4194856, 2.5518327, 3.8258355, 3.7184157, 3.3181298, 2.8657064, 4.611245, 4.563205, 1.4967817, 1.8566321, 2.3187153, 1.3234314, 2.713456, 1.9349749, 2.5204804, 2.0669112, 1.8147398, 2.1692262, 2.0117462, 1.9599502, 1.6965756, 2.5158098, 3.8499947, 2.9805427, 3.7764304, 3.4528809, 2.6681914, 3.051257, 4.1663036, 4.003676, 4.0444484, 3.308319, 2.7813284, 4.3995533, 3.4294775, 2.95886, 4.193848, 2.5127308, 4.0036764, 4.044448, 1.535439, 1.0490491, 0.9891645, 0.85640115, 0.6800132, 1.0424654, 2.193034, 1.306305, 1.3298593, 1.3092524, 1.2061759, 0.85640115, 1.0269756, 0.6800132, 3.0726254, 4.0383058, 3.2321873, 2.2557807, 2.8897297, 3.1074657, 3.3681235, 2.9991157, 3.2359085, 3.5381968, 3.577178, 3.202169, 3.3499792, 3.3123548, 3.034458, 2.7032626, 4.038306, 3.232188, 0.8424451, 1.523176, 1.4959182, 0.998744, 1.9493043, 1.7836174, 1.2489709, 1.3643707, 1.8148911, 1.329762, 1.5965955, 1.8168799, 1.4959182, 0.998744, 3.0876627, 3.7251706, 3.3473332, 3.4778838, 3.7059798, 2.573705, 2.8334436, 2.7915833, 3.0744474, 2.9398644, 4.2277355, 3.336504, 2.5508385, 3.9198985, 4.827089, 3.3639152, 3.7251716, 3.3473334, 1.6565641, 2.183851, 1.367945, 1.6837028, 2.1632254, 1.6490291, 1.7771877, 1.7117877, 1.7788804, 2.4822865, 2.021682, 1.6863202, 1.2430023, 1.2024714, 3.6555567, 4.6603193, 3.2425776, 3.9720647, 3.1663303, 2.496891, 2.9934633, 2.3407419, 2.7222877, 2.8695176, 2.834252, 2.839594, 3.9230168, 2.8984563, 2.784692, 2.9053001, 3.2803094, 2.3407412, 1.4343235, 0.8207536, 1.0053352, 1.1556243, 1.1616461, 1.7928905, 1.3448951, 1.6934292, 1.4322323, 1.0730569, 1.5187886, 1.6802862, 1.3649886, 1.3848938, 3.5399046, 3.1830633, 4.224994, 3.5580912, 3.5549197, 2.9227371, 2.9622078, 4.0158267, 2.9075174, 3.1596944, 2.72763, 3.8594725, 3.3952682, 3.448914, 4.0890036, 4.3452163, 3.1830633, 4.224994, 1.4144232, 2.036038, 1.1796789, 1.8386288, 1.0359625, 1.5721747, 1.8687946, 1.7610567, 2.8561082, 1.9222922, 1.984836, 1.1796789, 1.6697291, 1.0359625, 3.8678856, 6.488235, 5.1436086, 6.13045, 5.609081, 6.4182506, 4.0849943, 3.2025514, 4.499044, 3.709264, 5.5983243, 3.4190874, 3.6887822, 3.9619062, 4.474743, 2.9461749, 4.0477357, 3.4190876, 1.3204027, 1.5410619, 2.0224288, 1.615055, 1.8576138, 1.766419, 1.6668998, 1.1711466, 2.0595725, 1.1961113, 1.6988181, 1.615055, 1.178383, 1.8576138, 3.2304606, 3.247932, 5.1013637, 3.6368928, 4.176207, 3.4596562, 3.182721, 3.612335, 3.6134815, 3.6369674, 3.4057152, 3.9241273, 3.8270903, 4.7000694, 5.038976, 4.5991535, 3.126094, 3.9241278, 1.8959703, 2.16742, 1.6278571, 2.0503285, 1.8946414, 1.205698, 2.6552057, 2.2705977, 2.2426622, 2.0510948, 1.8959703, 1.9001925, 1.8946414, 2.091734, 3.738894, 3.3261573, 4.5235906, 3.1006448, 3.6427908, 3.2633767, 3.2618175, 4.0416684, 3.287294, 3.7102115, 4.0941277, 2.847759, 2.602353, 3.4150116, 4.2480354, 2.7647111, 3.514059, 2.8477583, 2.0195901, 1.6059953, 2.0415254, 1.3172579, 1.7321229, 2.1245432, 2.0695167, 2.597715, 1.81256, 2.5262933, 2.5326424, 1.3172579, 1.5145445, 1.7321229, 2.8680966, 2.8673615, 3.5672705, 4.217202, 2.8155286, 3.0205677, 4.173197, 2.8012722, 2.8473823, 3.061764, 2.591225, 3.2091384, 1.9943693, 2.960821, 3.3346286, 3.8009017, 4.3274965, 3.2091384, 1.566661, 1.814303, 0.9523997, 1.495546, 1.7174857, 2.0414178, 1.8828132, 2.112745, 1.8819854, 1.2782758, 1.7402896, 1.495546, 1.6507376, 1.7174857, 2.3075874, 2.683825, 3.2707064, 3.2057827, 2.4413733, 2.718813, 3.790368, 4.042445, 2.8465579, 2.4357488, 2.2691202, 2.6104968, 2.7142134, 2.7603955, 2.925421, 2.5601065, 2.4413733, 2.9940982, 2.2514687, 0.9065052, 1.2561744, 1.52117, 2.3951702, 1.7056581, 1.8322481, 1.7178597, 1.8753477, 1.6030732, 1.5074885, 1.8322481, 1.7178597, 1.8753477, 2.9552844, 2.673815, 3.2254999, 2.4146345, 2.498171, 3.2168865, 3.4304829, 2.9733899, 2.5501387, 3.4043946, 3.1170409, 3.0715759, 3.214166, 2.2372568, 3.4247985, 2.950643, 2.3246474, 3.0715752, 1.8895057, 2.3080807, 2.3020344, 1.8344733, 2.5960126, 3.2195194, 2.008123, 1.5482361, 3.090514, 2.1758707, 2.4331887, 1.8895057, 2.008123, 3.090514, 4.5196857, 4.5542436, 3.674632, 4.0319233, 6.7551465, 5.03296, 4.172728, 5.434509, 4.1877427, 4.956817, 3.2792594, 5.2786655, 3.963743, 4.1554484, 4.5279727, 2.6538522, 4.4413533, 5.2786646, 1.5846059, 1.2180598, 2.2173533, 1.4922932, 1.0255094, 1.0338727, 1.0924067, 1.6521655, 1.2311798, 1.1551865, 1.809125, 1.702848, 1.5212331, 1.4374506, 2.7993572, 2.9825165, 2.6264563, 3.044701, 2.50848, 2.7306948, 4.750774, 4.2465773, 1.7644974, 3.4690075, 2.637088, 3.2336724, 3.45144, 3.4774542, 3.197557, 3.9753852, 3.215224, 3.2336724, 1.0686222, 1.9888918, 1.5489397, 1.7014228, 1.5051354, 1.9602079, 2.262913, 1.3485627, 1.0741235, 1.8988855, 1.5759476, 1.9888918, 1.0741235, 1.8988855, 4.416986, 5.1531134, 4.442907, 3.7139537, 5.9118013, 2.878271, 3.3182766, 5.333129, 3.985994, 5.79156, 5.0059376, 4.082003, 5.0546846, 5.6153784, 5.7153497, 5.762541, 6.029557, 4.082003, 1.3234593, 1.338364, 1.4818377, 1.1073447, 2.029475, 2.1038089, 1.2618375, 1.0527427, 1.6961372, 1.0210372, 1.4016048, 1.2618375, 1.0527427, 1.6961372, 2.902189, 3.5086117, 2.9855702, 3.384861, 3.720573, 5.0026207, 4.31022, 5.654196, 4.2261996, 3.4656975, 4.853386, 2.7907126, 4.4734325, 6.993448, 3.7179193, 4.4896474, 3.9552078, 2.790712, 1.6393516, 1.5056875, 1.6281469, 1.2913196, 1.0435585, 1.6058285, 1.0387142, 1.152756, 1.7765375, 1.4950479, 2.155028, 1.2913196, 1.0387142, 1.152756, 3.9038084, 2.9511096, 2.6732447, 3.8883712, 4.527578, 3.0395153, 3.6581244, 2.7928007, 2.4805868, 2.779064, 4.7182837, 3.276729, 3.096946, 2.7303727, 2.9423444, 3.0097637, 4.527577, 2.6692405, 1.4510489, 1.352251, 1.7823992, 1.6955286, 1.419196, 0.9959359, 1.2175107, 0.9959359, 0.9959359, 1.2470667, 1.0717208, 1.6955286, 1.2175107, 1.419196, 3.3053284, 3.5189385, 4.1116595, 2.6325626, 3.4687746, 2.9309108, 3.7140062, 3.4882162, 1.8979485, 3.685847, 3.750169, 3.0340605, 3.1708126, 2.8595178, 4.828751, 3.4277499, 2.6325626, 3.468774, 2.2412522, 2.6442933, 2.0333154, 1.6814889, 2.0332642, 2.0601363, 2.961862, 2.635367, 2.1480815, 2.3527408, 2.0170898, 1.6045017, 2.635367, 2.1480815, 4.259497, 4.6397424, 4.0088234, 4.661206, 4.8266983, 3.8055003, 3.9375346, 3.9480143, 3.463223, 3.3480623, 4.0201945, 4.9902573, 3.8630085, 4.780032, 4.0088234, 4.661206, 4.0689816, 3.3480618, 1.3869122, 1.5741245, 1.4906683, 0.89237505, 2.135274, 2.4728644, 1.9446421, 1.2520193, 1.5834743, 1.7668215, 1.4022019, 1.5908664, 1.2520193, 1.5834743, 5.689425, 3.7442136, 5.1746926, 4.4698105, 3.5974772, 5.864525, 4.346309, 4.4564986, 5.1628256, 3.2404249, 4.701494, 5.4803705, 3.3103929, 5.478918, 5.0385237, 5.321322, 3.597477, 3.8885791, 1.4900874, 0.90277576, 1.528981, 0.788651, 1.3727573, 1.1290098, 1.2250396, 1.0252715, 0.96592504, 1.5982358, 1.1745486, 1.3727573, 1.7905868, 1.0252715, 2.7578719, 3.4095795, 3.147841, 3.9273312, 4.059974, 3.2692332, 2.5999699, 4.5987525, 2.91315, 3.9869778, 4.3236146, 5.1984925, 2.9672666, 2.7469678, 4.7199535, 3.4095795, 4.059974, 2.9131494, 1.9799662, 1.354517, 1.1209869, 1.2587022, 1.9846689, 1.5143392, 1.5495248, 1.6493871, 1.3178138, 2.0019445, 1.9034233, 1.3823404, 1.9846689, 1.7054868, 1.7877944, 1.8915317, 3.1368124, 2.6382499, 2.4464154, 2.2183664, 2.6645763, 2.2573388, 2.2295492, 3.5328984, 3.1224031, 2.4619658, 4.553145, 2.5054567, 2.5890822, 2.1524887, 2.3445582, 3.5328982, 1.8794389, 1.892651, 2.625345, 1.6017357, 1.5789084, 1.8069808, 1.7630643, 1.5855784, 1.6589636, 1.6193268, 1.8926169, 1.5789084, 1.7664287, 1.6589636, 2.963411, 2.357539, 2.0345328, 2.6951673, 2.7681081, 2.5114937, 3.2810597, 2.8020844, 2.8505414, 4.0528407, 3.2951255, 2.4862847, 3.186291, 2.1229155, 2.9865313, 3.1744804, 2.6951666, 2.850543, 1.6106367, 1.1227677, 1.7287861, 1.4169803, 0.8699408, 1.7505687, 2.401937, 1.1430594, 1.0141629, 1.7941252, 1.1461776, 0.8699408, 1.1430594, 1.0141629, 2.194496, 1.9668489, 3.244009, 2.3102062, 2.4615276, 2.2059379, 3.5080369, 3.438906, 2.7017558, 3.457547, 2.1100023, 3.6660752, 3.5863175, 2.092489, 2.7062862, 3.4511964, 3.5212467, 3.4575474, 1.4776133, 1.5277021, 1.6290731, 1.6159444, 1.2703842, 1.3393248, 1.9247451, 1.4944738, 0.9085643, 0.7848517, 1.1403648, 1.8145338, 1.5347925, 0.94096804, 3.3372355, 2.8061762, 2.854417, 1.9403191, 2.8786778, 2.4376426, 2.226055, 2.91514, 1.8146225, 2.5143366, 2.9745479, 3.0049295, 1.8389366, 1.8993374, 3.1243849, 2.0317655, 2.8786776, 2.1950846, 1.2409272, 1.1646366, 1.4514172, 1.3674502, 1.391824, 1.5758657, 2.5899074, 1.4307189, 1.5843322, 1.0411047, 1.3900739, 1.3486706, 0.96955025, 1.3149905, 5.7388973, 6.4353743, 6.3780293, 4.117017, 4.123034, 5.7246337, 4.884738, 5.7660184, 6.999166, 5.4957337, 4.984523, 5.119989, 5.891818, 4.6977005, 5.905883, 5.4036303, 4.1170163, 6.999165, 1.0289298, 1.5064297, 0.84730947, 1.0498455, 1.081868, 1.001725, 1.9246625, 1.2163965, 1.6713922, 1.0289298, 1.5064297, 1.0498455, 1.081868, 1.001725, 1.8100449, 2.6194477, 2.2701347, 1.9670205, 1.7811414, 2.4101045, 2.3322377, 2.2739444, 1.4708205, 2.1022627, 1.5624727, 2.004083, 2.950794, 1.8360859, 2.0138247, 1.7673719, 1.7811424, 2.358508, 1.1038897, 1.2080609, 1.4131824, 2.6961224, 1.8099586, 1.4290223, 1.1038897, 1.2080609, 1.8099586, 1.1663901, 1.4290223, 1.1663901, 1.4290223, 1.1038897, 3.7741241, 3.021292, 3.1089244, 3.3843112, 3.4808307, 3.1160433, 3.1789832, 1.8918589, 2.8014288, 2.9730296, 2.7800033, 2.7170427, 3.652428, 4.0072193, 4.3184958, 2.522887, 3.4808302, 2.7072535, 1.3657217, 1.4956616, 1.4729326, 1.5684662, 2.1488907, 1.66134, 1.7525371, 1.5443748, 1.5355955, 1.3999532, 3.659032, 1.5956416, 1.7395072, 2.0796523, 4.924337, 2.5188491, 2.7619286, 3.6221578, 3.021289, 3.5233653, 2.5061815, 2.7009423, 3.4168088, 2.4073308, 3.5670536, 3.2888424, 2.6662169, 4.54309, 2.760746, 2.5586395, 3.5233653, 3.567053, 0.8264146, 1.3467017, 1.6133819, 1.6813631, 1.2809769, 1.5286678, 0.6853636, 1.3908886, 0.8264146, 1.3467017, 1.6133819, 0.6853636, 1.3908886, 1.3467017, 2.2684765, 1.541181, 2.0819743, 1.7742168, 2.4728944, 2.089968, 2.0104783, 1.7184932, 2.5602312, 1.557009, 2.245308, 1.825642, 1.7210807, 2.8258069, 2.5538182, 1.8004593, 2.0899673, 2.2453077]\n"
     ]
    }
   ],
   "source": [
    "print(flat_train_distances)"
   ]
  },
  {
   "cell_type": "code",
   "execution_count": 30,
   "metadata": {},
   "outputs": [],
   "source": [
    "def get_min_max(euclidean_distances):\n",
    "    min_distance = min(euclidean_distances)\n",
    "    max_distance = max(euclidean_distances)\n",
    "\n",
    "    return min_distance, max_distance"
   ]
  },
  {
   "cell_type": "code",
   "execution_count": 31,
   "metadata": {},
   "outputs": [
    {
     "name": "stdout",
     "output_type": "stream",
     "text": [
      "min: 0.5408449172973633, max: 8.186495780944824\n"
     ]
    }
   ],
   "source": [
    "min_val, max_val = get_min_max(flat_train_distances)\n",
    "print(f'min: {min_val}, max: {max_val}')"
   ]
  },
  {
   "cell_type": "code",
   "execution_count": 32,
   "metadata": {},
   "outputs": [],
   "source": [
    "def normalize_distance(euclidean_distances, min_val, max_val):\n",
    "    all_distance = []\n",
    "\n",
    "    for distance in euclidean_distances:\n",
    "        normalized_distance = (distance - min_val) / (max_val - min_val)\n",
    "\n",
    "        # in case test and train distances are beyond max of train\n",
    "        if normalized_distance > 1:\n",
    "            normalized_distance = 1\n",
    "        elif normalized_distance < 0:\n",
    "            normalized_distance = 0\n",
    "        \n",
    "        all_distance.append(normalized_distance)\n",
    "\n",
    "    return all_distance\n",
    "\n",
    "def reverse_normalized_distance(euclidean_distances, min_val, max_val):\n",
    "    reverse_distance = []\n",
    "    normalized_distances = normalize_distance(euclidean_distances, min_val, max_val)\n",
    "    for distance in normalized_distances:\n",
    "        distance = -distance\n",
    "        reverse_distance.append(distance)\n",
    "\n",
    "    return reverse_distance"
   ]
  },
  {
   "cell_type": "code",
   "execution_count": 33,
   "metadata": {},
   "outputs": [],
   "source": [
    "normalized_test_euclidean_distance = reverse_normalized_distance(flat_test_distances, min_val, max_val)\n",
    "normalized_train_euclidean_distance = reverse_normalized_distance(flat_train_distances, min_val, max_val)\n",
    "normalized_validation_euclidean_distance = reverse_normalized_distance(flat_validation_distances, min_val, max_val)"
   ]
  },
  {
   "cell_type": "code",
   "execution_count": 34,
   "metadata": {},
   "outputs": [
    {
     "name": "stdout",
     "output_type": "stream",
     "text": [
      "[-0.13181657, -0.18286604, -0.23331328, -0.11065733, -0.112555236, -0.3744896, -0.65250975, -0.7073762, -0.6101448, -0.4640567, -0.7554715, -0.15298589, -0.11223222, -0.07326639, -0.14989503, -0.13924092, -0.51259774, -0.6020884, -0.43796802, -0.43338385, -0.35940093, -0.47773737, -0.16051199, -0.14059544, -0.20323633, -0.15292671, -0.1783521, -0.75437117, -0.52119344, -0.62052643, -0.6377389, -0.79028714, -0.54115033, -0.45445648, -0.43142802, -0.23110539, -0.1539397, -0.42733198, -0.58293617, -0.5378739, -0.60265875, -0.5384159, -0.398521, -0.5177265, -0.26352125, -0.20152551, -0.25308374, -0.22947468, -0.19045307, -0.21608299, -0.31790534, -0.30075085, -0.43968365, -0.432188, -0.3143098, -0.37224278, -0.13249649, -0.18773104, -0.19614987, -0.22918165, -0.26470423, -0.40801775, -0.3551946, -0.3533518, -0.3544762, -0.40313283, -0.32101014, -0.24766342, -0.26181248, -0.24628358, -0.21470682, -0.5743376, -0.49557588, -0.5152865, -0.49557588, -0.6110369, -0.70841223, -0.16146073, -0.17645442, -0.24004123, -0.08274066, -0.08547508, -0.3968891, -0.41630355, -0.47972652, -0.42315897, -0.44803897, -0.4568298, -0.31377742, -0.18537764, -0.33734298, -0.2776163, -0.18325362, -0.4210607, -0.5984996, -0.47410667, -0.47410667, -0.45989364, -0.49500397, -0.40799084, -0.37282658, -0.37227353, -0.23656102, -0.25695324, -0.34121957, -0.5661843, -0.47098166, -0.5661843, -0.5763121, -0.5431513, -0.13960236, -0.35772118, -0.24598461, -0.25899446, -0.06696377, -0.22483402, -0.25168222, -0.33458242, -0.27402827, -0.22483402, -0.38989398, -0.34859094, -0.21438083, -0.20029363, -0.29777125, -0.17108032, -0.43407986, -0.57571137, -0.57656366, -0.45767182, -0.4673366, -0.49350047, -0.37517825, -0.14194433, -0.13877156, -0.18796599, -0.16797009, -0.29175666, -0.4273971, -0.27576646, -0.2854576, -0.43900254, -0.25696117, -0.25968292, -0.1316512, -0.08503746, -0.14458597, -0.117760174, -0.25095272, -0.2859038, -0.4460953, -0.21827191, -0.46756905, -0.39170232, -0.29770824, -0.25836468, -0.30261984, -0.2105121, -0.36479914, -0.4727974, -0.39885363, -0.5371902, -0.3256052, -0.5994239, -0.44554737, -0.21246126, -0.22606497, -0.14675374, -0.4595465, -0.25378656, -0.32264742, -0.28896725, -0.24832076, -0.46042407, -0.32346618, -0.26835352, -0.14521807, -0.08549032, -0.082078755, -0.041588504, -0.11798231, -0.42336634, -0.45866477, -0.36896712, -0.27892897, -0.29447618, -0.45866477, -0.20109926, -0.13208869, -0.13208869, -0.20166355, -0.19820006, -0.40521348, -0.31227845, -0.30744982, -0.40879506, -0.3373457, -0.3597894, -0.14115334, -0.14701624, -0.07041356, -0.15345515, -0.06555713, -0.42142183, -0.53245384, -0.5462485, -0.36367702, -0.48694387, -0.4435695, -0.0020066071, -0.2669021, -0.056114316, -0.024444548, -0.2669021, -0.67100346, -0.5338124, -0.5575268, -0.59735024, -0.8332657, -0.6882085, -0.16950922, -0.16372928, -0.033217676, -0.089264676, -0.1506712, -0.17889622, -0.29820782, -0.25103033, -0.12054256, -0.24558201, -0.24289776, -0.18418473, -0.059885718, -0.03884331, -0.06156593, -0.06253065, -0.49260956, -0.53547245, -0.49550506, -0.49839884, -0.55530614, -0.49478674, -0.20862977, -0.22189598, -0.17038889, -0.070363946, -0.14496914, -0.26520807, -0.21540609, -0.15329847, -0.38675374, -0.37632757, -0.28443864, -0.21107104, -0.21236098, -0.18144466, -0.18028729, -0.18925291, -0.54052603, -0.5882049, -0.5411683, -0.43981704, -0.43981704, -0.54958755, -0.25038284, -0.16853882, -0.18083476, -0.17807035, -0.16643797, -0.3989854, -0.8308614, -0.48280925, -0.48576826, -0.42255002, -0.48280925, -0.23005487, -0.16849822, -0.15840465, -0.16205, -0.1949465, -0.40261972, -0.45486218, -0.5025705, -0.47861794, -0.45486218, -0.42848828, -0.1633125, -0.1228952, -0.15716967, -0.12082323, -0.07206378, -0.23647706, -0.4083691, -0.42258444, -0.42258444, -0.30914208, -0.35528263, -0.13456215, -0.105142124, -0.18201901, -0.095893286, -0.110409856, -0.4785095, -0.32694128, -0.3588262, -0.29182163, -0.29508597, -0.31119055, -0.4686804, -0.24418102, -0.14393401, -0.19116071, -0.17065361, -0.45068678, -0.51949793, -0.47594857, -0.46208024, -0.4291565, -0.3996556, -0.2912137, -0.12490832, -0.13816826, -0.12381058, -0.14356962, -0.35688597, -0.380433, -0.5313592, -0.4435382, -0.35032392, -0.5007245, -0.276062, -0.13676926, -0.24614069, -0.15746427, -0.27509433, -0.7630578, -0.86920494, -0.79742193, -0.86920494, -0.80304414, -0.6050091, -0.24998385, -0.3311275, -0.22349238, -0.39711973, -0.22319, -0.41058666, -0.6154038, -0.460925, -0.4718352, -0.54003125, -0.460925, -0.16792952, -0.15673602, -0.10277445, -0.19362035, -0.11511569, -0.39344198, -0.47524393, -0.25572056, -0.33683077, -0.31138584, -0.28812224, -0.11611819, -0.15575843, -0.07478051, -0.09578932, -0.07255135, -0.34174135, -0.21282203, -0.26101032, -0.21282203, -0.17700122, -0.2683225, -0.22758463, -0.14680491, -0.13590431, -0.2193074, -0.09571722, -0.3349058, -0.53459066, -0.48961183, -0.43429938, -0.4847165, -0.48961183, -0.21362628, -0.19218314, -0.10592692, -0.117671445, -0.088898614, -0.5170648, -0.52580816, -0.5351872, -0.56672555, -0.50045395, -0.52580816, -0.4754063, -0.3911896, -0.11643717, -0.23490953, -0.11562865, -0.43026435, -0.30701226, -0.35618895, -0.30701226, -0.4250602, -0.34241346, -0.13770774, -0.122165665, -0.15483207, -0.1267536, -0.1131988, -0.266293, -0.22979414, -0.2657994, -0.30060372, -0.2657994, -0.19082442, -0.18387714, -0.07567856, -0.16210802, -0.14892957, -0.15412392, -0.18200919, -0.57992023, -0.48805502, -0.3991442, -0.52287996, -0.48805502, -0.15630004, -0.057533935, -0.30309132, -0.099813215, -0.12897244, -0.28980494, -0.4970604, -0.49313942, -0.41512012, -0.4970604, -0.39113575, -0.12641717, -0.11330201, -0.07167418, -0.10200968, -0.044348147, -0.3027073, -0.71540654, -0.59060824, -0.3324745, -0.6929597, -0.5906083, -0.14562836, -0.22799686, -0.18347465, -0.12440465, -0.20729066, -0.51676404, -0.48864514, -0.4973153, -0.364377, -0.6887838, -0.41137952, -0.13058203, -0.1032853, -0.103385165, -0.119889714, -0.051553003, -0.23706684, -0.110278636, -0.1303123, -0.16241294, -0.23200047, -0.21793763, -0.114940904, -0.1481345, -0.16622843, -0.12848999, -0.11188527, -0.42083982, -0.4099187, -0.38925135, -0.39495346, -0.4458713, -0.3330961, -0.09328222, -0.070894, -0.09724679, -0.09186193, -0.090665646, -0.3896233, -0.290452, -0.45550904, -0.40342653, -0.41821313, -0.41328382, -0.094370954, -0.05823699, -0.028053163, -0.101781316, -0.055821232, -0.5698097, -0.5777984, -0.73367715, -0.51152474, -0.540749, -0.60973394, -0.36693418, -0.19468264, -0.10749873, -0.2116562, -0.34018403, -0.526769, -0.2540299, -0.33340335, -0.42165112, -0.30091617, -0.41939828, -0.08373179, -0.17385626, -0.111869834, -0.08852848, -0.024871716, -0.14806674, -0.23776133, -0.28791162, -0.15718602, -0.19577055, -0.18330018, -0.16082288, -0.13586977, -0.2357218, -0.28754294, -0.14388745, -0.35371003, -0.386449, -0.41299978, -0.38952473, -0.3719112, -0.36474913, -0.16484839, -0.33775908, -0.14531812, -0.091516405, -0.24886033, -0.29695696, -0.21904711, -0.30020487, -0.42076463, -0.3505536, -0.30020487, -0.22395487, -0.37426206, -0.22225079, -0.093572296, -0.099774376, -0.4007681, -0.26297688, -0.3086397, -0.40349615, -0.4007681, -0.56359065, -0.18088455, -0.1114606, -0.08197398, -0.20907474, -0.14897192, -0.41507322, -0.3181019, -0.24361292, -0.20800641, -0.41461936, -0.3414507, -0.37862203, -0.12761545, -0.22965214, -0.08433616, -0.08433615, -0.32946143, -0.41120017, -0.46240136, -0.4198101, -0.42456287, -0.41163275, -0.23286645, -0.31715563, -0.12241535, -0.2599762, -0.2285136, -0.3505613, -0.3772332, -0.4121604, -0.5432112, -0.49708503, -0.3772332, -0.15221252, -0.19462006, -0.081160784, -0.074024506, -0.1698514, -0.26744783, -0.26488099, -0.36830336, -0.2516939, -0.47187874, -0.30753252, -0.2114707, -0.05398962, -0.110349715, -0.23229703, -0.12977496, -0.35151416, -0.39920464, -0.36371064, -0.38715157, -0.23005344, -0.3467448, -0.15665029, -0.10043782, -0.08841357, -0.15823922, -0.10605978, -0.30903924, -0.22375327, -0.19154187, -0.28702396, -0.21173225, -0.1757629, -0.19016819, -0.16055635, -0.18080963, -0.19209339, -0.17209974, -0.2764844, -0.25555065, -0.3381722, -0.24633828, -0.36228597, -0.3045046, -0.13563874, -0.12797625, -0.07535764, -0.05797653, -0.17813805, -0.36742306, -0.21212754, -0.31000525, -0.22318648, -0.34827307, -0.29302305, -0.33176485, -0.14310287, -0.19406167, -0.2234424, -0.11656231, -0.18187487, -0.23189387, -0.2465548, -0.27181393, -0.17781489, -0.26886725, -0.22954509, -0.22077069, -0.197321, -0.17443228, -0.07596091, -0.33992326, -0.4078456, -0.5105009, -0.33996058, -0.39537096, -0.13466768, -0.2263086, -0.22351107, -0.18313994, -0.18346247, -0.12994187, -0.33506563, -0.60191214, -0.4396238, -0.49586573, -0.26208124, -0.3022146, -0.1675439, -0.22402194, -0.17618003, -0.09287196, -0.27345243, -0.3489541, -0.3783361, -0.44203347, -0.59139276, -0.45498386, -0.44203347, -0.19389395, -0.10186252, -0.11482912, -0.15115018, -0.13820645, -0.29298863, -0.29810554, -0.31779155, -0.3901384, -0.5182718, -0.5733117, -0.20815298, -0.1281517, -0.031604074, -0.12896532, -0.119485, -0.3787463, -0.58694535, -0.6623562, -0.61555666, -0.47306016, -0.35227486, -0.161135, -0.09742067, -0.08459993, -0.09061773, -0.07852118, -0.25646666, -0.17626847, -0.21742678, -0.30685866, -0.33086288, -0.17626847, -0.33139378, -0.30503234, -0.21310848, -0.20012674, -0.30503234, -0.33617434, -0.39721844, -0.36782014, -0.39721847, -0.43009806, -0.5930295, -0.2411875, -0.12760329, -0.106179774, -0.13909116, -0.12760329, -0.2367746, -0.30209854, -0.43157515, -0.30209854, -0.29770002, -0.25475135, -0.164102, -0.25284293, -0.31847462, -0.34152412, -0.16662773, -0.40820262, -0.5516334, -0.6145773, -0.51725817, -0.43240267, -0.4306217, -0.5186403, -0.27956852, -0.2035307, -0.2780338, -0.30346096, -0.38788253, -0.46036538, -0.23816001, -0.38502783, -0.4234241, -0.60721207, -0.26488084, -0.20604067, -0.23910552, -0.076627225, -0.29128394, -0.31400272, -0.40783995, -0.3918573, -0.48120344, -0.22478037, -0.25857782, -0.18615952, -0.30086154, -0.25912553, -0.19793023, -0.34641534, -0.2771003, -0.41581702, -0.40457895, -0.5342697, -0.44635865, -0.38719273, -0.10050256, -0.07539264, -0.063582644, -0.16833803, -0.058637198, -0.3321703, -0.3909462, -0.4327243, -0.33546343, -0.3321703, -0.22430213, -0.23409814, -0.07343863, -0.12614127, -0.14416869, -0.12043589, -0.47722784, -0.44082144, -0.34944203, -0.28219774, -0.47722784, -0.38414505, -0.19186845, -0.26622763, -0.18941998, -0.15227899, -0.08653632, -0.36856177, -0.18600962, -0.3178999, -0.3207861, -0.38192746, -0.2853181, -0.20580146, -0.1880175, -0.10874619, -0.09696513, -0.23401229, -0.39382347, -0.73038054, -0.66482955, -0.49975148, -0.39382344, -0.39463562, -0.60766906, -0.3364015, -0.14765051, -0.14879006, -0.19556125, -0.8326691, -0.50680333, -0.45867786, -0.50680333, -0.76872534, -0.41172916, -0.29809627, -0.17538267, -0.08338571, -0.14265114, -0.25707084, -0.33549473, -0.38177785, -0.3381333, -0.38177785, -0.381761, -0.42981893, -0.2874239, -0.085887976, -0.17779358, -0.20284592, -0.19743039, -0.3456424, -0.38548866, -0.38887656, -0.38548866, -0.35608894, -0.26963148, -0.18820353, -0.26051378, -0.12735339, -0.22416897, -0.19627896, -0.26713094, -0.20330721, -0.49526846, -0.20330721, -0.32433116, -0.19011126, -0.311005, -0.15687934, -0.14516655, -0.12738226, -0.05382861, -0.2961908, -0.32086906, -0.2714002, -0.35704762, -0.34855604, -0.28486365, -0.066013575, -0.23621011, -0.1657024, -0.2087817, -0.22373824, -0.26858687, -0.26231217, -0.2333094, -0.26231217, -0.35000834, -0.3496525, -0.32102615, -0.16697392, -0.3421077, -0.2738205, -0.16697392, -0.48524868, -0.46963403, -0.5101606, -0.46963403, -0.5875386, -0.4476922, -0.12938559, -0.09712998, -0.1608507, -0.21332331, -0.17460985, -0.42845568, -0.2814457, -0.34979084, -0.2814457, -0.28641772, -0.38068637, -0.1256171, -0.13956577, -0.11464127, -0.1477995, -0.06902974, -0.3682853, -0.5349167, -0.71788687, -0.5349167, -0.3057197, -0.5903801, -0.20608392, -0.14232016, -0.09242251, -0.109676085, -0.102360725, -0.4438725, -0.23263478, -0.44657576, -0.23263478, -0.5835704, -0.51435614, -0.13556822, -0.038672473, -0.23814575, -0.20938414, -0.14221182, -0.42925042, -0.27350816, -0.4348685, -0.27890363, -0.43783405, -0.29274407, -0.06625562, -0.16704042, -0.088503435, -0.20867936, -0.162387, -0.22507963, -0.36110166, -0.52663326, -0.3895147, -0.46703866, -0.17750007, -0.3267627, -0.19698343, -0.19069996, -0.1391192, -0.19519846, -0.5184316, -0.34331086, -0.5011376, -0.56056094, -0.34331086, -0.45507565, -0.12637766, -0.115574054, -0.09048108, -0.13733579, -0.20854065, -0.43480948, -0.46813053, -0.39218867, -0.6060763, -0.5138824, -0.353087, -0.13537051, -0.119049005, -0.063766114, -0.16345789, -0.063766114, -0.43666595, -0.3253406, -0.46852407, -0.34097764, -0.44292974, -0.32243285, -0.23070434, -0.17821614, -0.11006199, -0.15232736, -0.09389093, -0.4012557, -0.23591363, -0.26146147, -0.27432653, -0.24923588, -0.33765054, -0.3947817, -0.17680272, -0.16255693, -0.16029817, -0.16255693, -0.24426621, -0.5224572, -0.3279633, -0.23761143, -0.19536439, -0.24448784, -0.16248132, -0.110216826, -0.15418014, -0.11752599, -0.07611161, -0.25234452, -0.3898167, -0.29428637, -0.23142062, -0.25121245, -0.20523529, -0.19869928, -0.10496302, -0.14694642, -0.08312002, -0.057814367, -0.2646363, -0.27509362, -0.31723657, -0.30259976, -0.18304186, -0.25811952, -0.10139048, -0.09305918, -0.20977347, -0.113004625, -0.1485791, -0.61550623, -0.57019824, -0.55382466, -0.77096504, -0.7634647, -0.80240494, -0.07076221, -0.14786802, -0.17127462, -0.09910839, -0.040083513, -0.23032439, -0.20706819, -0.17130026, -0.18218853, -0.16600287, -0.204223, -0.2881425, -0.116167665, -0.16091514, -0.08181712, -0.16599157, -0.42685944, -0.3780837, -0.37095618, -0.3358876, -0.37190637, -0.3181135, -0.26213995, -0.2137464, -0.19394629, -0.20266788, -0.1934146, -0.33147278, -0.3082653, -0.25161564, -0.32442546, -0.30826536, -0.3594197, -0.1565019, -0.11118002, -0.08349313, -0.1565019, -0.09680431, -0.3114687, -0.258357, -0.1942361, -0.25269917, -0.258357, -0.16804287]\n"
     ]
    }
   ],
   "source": [
    "print(normalized_test_euclidean_distance)"
   ]
  },
  {
   "cell_type": "markdown",
   "metadata": {},
   "source": [
    "# 3. ROC Curve"
   ]
  },
  {
   "cell_type": "code",
   "execution_count": 35,
   "metadata": {},
   "outputs": [],
   "source": [
    "from sklearn.metrics import roc_curve, auc\n",
    "import matplotlib.pyplot as plt\n",
    "from matplotlib.ticker import MultipleLocator"
   ]
  },
  {
   "cell_type": "code",
   "execution_count": 36,
   "metadata": {},
   "outputs": [
    {
     "data": {
      "image/png": "[encoded data removed]",
      "text/plain": [
       "<Figure size 800x800 with 1 Axes>"
      ]
     },
     "metadata": {},
     "output_type": "display_data"
    }
   ],
   "source": [
    "# Flatten the lists of labels\n",
    "flat_test_labels = [item for sublist in test_euclidean_actual_labels for item in sublist]\n",
    "flat_train_labels = [item for sublist in train_euclidean_actual_labels for item in sublist]\n",
    "flat_validation_labels = [item for sublist in validation_euclidean_actual_labels for item in sublist]\n",
    "\n",
    "# Calculate ROC curve\n",
    "fpr_test, tpr_test, thresholds_test = roc_curve(flat_test_labels, normalized_test_euclidean_distance, drop_intermediate=False)\n",
    "roc_auc_test = auc(fpr_test, tpr_test)\n",
    "fpr_train, tpr_train, thresholds_train = roc_curve(flat_train_labels, normalized_train_euclidean_distance, drop_intermediate=False)\n",
    "roc_auc_train = auc(fpr_train, tpr_train)\n",
    "fpr_validation, tpr_validation, thresholds_validation = roc_curve(flat_validation_labels, normalized_validation_euclidean_distance, drop_intermediate=False)\n",
    "roc_auc_validation = auc(fpr_validation, tpr_validation)\n",
    "\n",
    "# Plot ROC curve\n",
    "plt.figure(figsize=(8, 8))\n",
    "\n",
    "plt.plot(fpr_train, tpr_train, color='darkseagreen', lw=2, label=f'Train AUC = {roc_auc_train:.5f}')\n",
    "plt.plot(fpr_validation, tpr_validation, color='steelblue', lw=2, label=f'Validation AUC = {roc_auc_validation:.5f}')\n",
    "plt.plot(fpr_test, tpr_test, color='peru', lw=2, label=f'Test AUC = {roc_auc_test:.5f}')\n",
    "\n",
    "plt.plot([0, 1], [0, 1], color='navy', lw=2, linestyle='--')\n",
    "plt.xlabel('False Positive Rate')\n",
    "plt.ylabel('True Positive Rate')\n",
    "plt.title('ROC Curves - Euclidean Distance')\n",
    "plt.legend(loc='lower right')\n",
    "plt.show()"
   ]
  },
  {
   "cell_type": "code",
   "execution_count": 37,
   "metadata": {},
   "outputs": [
    {
     "name": "stdout",
     "output_type": "stream",
     "text": [
      "[0.    0.002 0.004 ... 1.    1.    1.   ]\n"
     ]
    }
   ],
   "source": [
    "print(tpr_test)"
   ]
  },
  {
   "cell_type": "code",
   "execution_count": 38,
   "metadata": {},
   "outputs": [
    {
     "name": "stdout",
     "output_type": "stream",
     "text": [
      "[0.         0.         0.         ... 0.995      0.99666667 1.        ]\n"
     ]
    }
   ],
   "source": [
    "print(fpr_test)"
   ]
  },
  {
   "cell_type": "code",
   "execution_count": 39,
   "metadata": {},
   "outputs": [],
   "source": [
    "def find_tpr_at_fpr(fpr, tpr, target_fpr):\n",
    "    return np.interp(target_fpr, fpr, tpr)"
   ]
  },
  {
   "cell_type": "code",
   "execution_count": 40,
   "metadata": {},
   "outputs": [],
   "source": [
    "target_fprs = [0.1, 0.01, 0.001]\n",
    "tpr_at_target_fpr_train = [find_tpr_at_fpr(fpr_train, tpr_train, fpr) for fpr in target_fprs]\n",
    "tpr_at_target_fpr_test = [find_tpr_at_fpr(fpr_test, tpr_test, fpr) for fpr in target_fprs]\n",
    "tpr_at_target_fpr_val = [find_tpr_at_fpr(fpr_validation, tpr_validation, fpr) for fpr in target_fprs]"
   ]
  },
  {
   "cell_type": "code",
   "execution_count": 41,
   "metadata": {},
   "outputs": [
    {
     "name": "stdout",
     "output_type": "stream",
     "text": [
      "Train\n",
      "TPR at FPR 0.100: 0.916\n",
      "TPR at FPR 0.010: 0.567\n",
      "TPR at FPR 0.001: 0.246\n",
      "             AUC: 0.9670234126984127\n",
      "Validation\n",
      "TPR at FPR 0.100: 0.828\n",
      "TPR at FPR 0.010: 0.452\n",
      "TPR at FPR 0.001: 0.308\n",
      "             AUC: 0.9340066666666665\n",
      "Test\n",
      "TPR at FPR 0.100: 0.804\n",
      "TPR at FPR 0.010: 0.486\n",
      "TPR at FPR 0.001: 0.230\n",
      "             AUC: 0.9281433333333334\n"
     ]
    }
   ],
   "source": [
    "print(\"Train\")\n",
    "for tpr, fpr in zip(tpr_at_target_fpr_train, target_fprs):\n",
    "    print(f'TPR at FPR {fpr:.3f}: {tpr:.3f}')\n",
    "print(f'             AUC: {roc_auc_train}')\n",
    "\n",
    "print(\"Validation\")\n",
    "for tpr, fpr in zip(tpr_at_target_fpr_val, target_fprs):\n",
    "    print(f'TPR at FPR {fpr:.3f}: {tpr:.3f}')\n",
    "print(f'             AUC: {roc_auc_validation}')\n",
    "\n",
    "print(\"Test\")\n",
    "for tpr, fpr in zip(tpr_at_target_fpr_test, target_fprs):\n",
    "    print(f'TPR at FPR {fpr:.3f}: {tpr:.3f}')\n",
    "print(f'             AUC: {roc_auc_test}')\n"
   ]
  },
  {
   "cell_type": "code",
   "execution_count": 42,
   "metadata": {},
   "outputs": [],
   "source": [
    "train_features_triplet_loss_path =  \"../feature/BENGALI-feature/train_features_triplet_loss.npy\"\n",
    "validation_features_triplet_loss_path = \"../feature/BENGALI-feature/validation_features_triplet_loss.npy\"\n",
    "test_features_triplet_loss_path = \"../feature/BENGALI-feature/test_features_triplet_loss.npy\"\n",
    "gallery_features_triplet_loss_path = \"../feature/BENGALI-feature/gallery_features_triplet_loss.npy\""
   ]
  },
  {
   "cell_type": "code",
   "execution_count": 43,
   "metadata": {},
   "outputs": [],
   "source": [
    "np.save(train_features_triplet_loss_path, train_predictions)\n",
    "np.save(test_features_triplet_loss_path, test_predictions)\n",
    "np.save(validation_features_triplet_loss_path, validation_predictions)\n",
    "np.save(gallery_features_triplet_loss_path, gallery_predictions)"
   ]
  }
 ],
 "metadata": {
  "kernelspec": {
   "display_name": "Python 3",
   "language": "python",
   "name": "python3"
  },
  "language_info": {
   "codemirror_mode": {
    "name": "ipython",
    "version": 3
   },
   "file_extension": ".py",
   "mimetype": "text/x-python",
   "name": "python",
   "nbconvert_exporter": "python",
   "pygments_lexer": "ipython3",
   "version": "3.11.1"
  }
 },
 "nbformat": 4,
 "nbformat_minor": 2
}
