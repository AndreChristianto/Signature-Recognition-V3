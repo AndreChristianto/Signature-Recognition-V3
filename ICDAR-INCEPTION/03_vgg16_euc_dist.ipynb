{
 "cells": [
  {
   "cell_type": "code",
   "execution_count": 1,
   "metadata": {},
   "outputs": [],
   "source": [
    "import numpy as np"
   ]
  },
  {
   "cell_type": "markdown",
   "metadata": {},
   "source": [
    "### Load Features, Names, and Labels"
   ]
  },
  {
   "cell_type": "code",
   "execution_count": 2,
   "metadata": {},
   "outputs": [],
   "source": [
    "train_features_path =  \"../feature/ICDAR-INCEPTION-feature/train_features.npy\"\n",
    "train_names_path = \"../feature/ICDAR-INCEPTION-feature/train_names.npy\"\n",
    "train_labels_path = \"../feature/ICDAR-INCEPTION-feature/train_labels.npy\"\n",
    "\n",
    "test_features_path = \"../feature/ICDAR-INCEPTION-feature/test_features.npy\"\n",
    "test_names_path = \"../feature/ICDAR-INCEPTION-feature/test_names.npy\"\n",
    "test_labels_path = \"../feature/ICDAR-INCEPTION-feature/test_labels.npy\"\n",
    "\n",
    "validation_features_path = \"../feature/ICDAR-INCEPTION-feature/validation_features.npy\"\n",
    "validation_names_path = \"../feature/ICDAR-INCEPTION-feature/validation_names.npy\"\n",
    "validation_labels_path = \"../feature/ICDAR-INCEPTION-feature/validation_labels.npy\""
   ]
  },
  {
   "cell_type": "code",
   "execution_count": 3,
   "metadata": {},
   "outputs": [],
   "source": [
    "train_features = np.load(train_features_path)\n",
    "train_names = np.load(train_names_path)\n",
    "train_labels = np.load(train_labels_path)\n",
    "\n",
    "test_features = np.load(test_features_path)\n",
    "test_names = np.load(test_names_path)\n",
    "test_labels = np.load(test_labels_path)\n",
    "\n",
    "validation_features = np.load(validation_features_path)\n",
    "validation_names = np.load(validation_names_path)\n",
    "validation_labels = np.load(validation_labels_path)"
   ]
  },
  {
   "cell_type": "code",
   "execution_count": 4,
   "metadata": {},
   "outputs": [
    {
     "name": "stdout",
     "output_type": "stream",
     "text": [
      "train_features shape :  (857, 2048)\n",
      "test_features shape :  (401, 2048)\n",
      "validation_features shape :  (391, 2048)\n"
     ]
    }
   ],
   "source": [
    "print(\"train_features shape : \", train_features.shape)\n",
    "print(\"test_features shape : \", test_features.shape)\n",
    "print(\"validation_features shape : \", validation_features.shape)"
   ]
  },
  {
   "cell_type": "markdown",
   "metadata": {},
   "source": [
    "### Feature Gallery"
   ]
  },
  {
   "cell_type": "code",
   "execution_count": 5,
   "metadata": {},
   "outputs": [],
   "source": [
    "# Feature Gallery dilakukan untuk setiap kelas / nama seperti \"001\", \"002\", \"003\", dst dengan cara mengambil data training positive dan mengambil mean / rata-rata dari data tersebut\n",
    "def create_feature_gallery(train_features, train_names, train_labels):\n",
    "    gallery_feature = []\n",
    "    gallery_name = []\n",
    "\n",
    "    unique_names = set(train_names.flatten())\n",
    "    sorted_names = sorted(unique_names)\n",
    "\n",
    "    for name in sorted_names:\n",
    "        # print(name)\n",
    "        # print(name)\n",
    "        name_features = []\n",
    "\n",
    "        for feature, feature_name, label in zip(train_features, train_names, train_labels):\n",
    "            # print(feature, feature_name, label)\n",
    "            if name in feature_name and label == 1:\n",
    "                name_features.append(feature)\n",
    "\n",
    "        if name_features:\n",
    "            # print(name_features)\n",
    "            average_feature = np.mean(name_features, axis=0)\n",
    "            gallery_feature.append(average_feature)\n",
    "            gallery_name.append(name)\n",
    "\n",
    "    return gallery_feature, gallery_name"
   ]
  },
  {
   "cell_type": "code",
   "execution_count": 6,
   "metadata": {},
   "outputs": [],
   "source": [
    "gallery_features, gallery_names = create_feature_gallery(train_features, train_names, train_labels)"
   ]
  },
  {
   "cell_type": "code",
   "execution_count": 7,
   "metadata": {},
   "outputs": [],
   "source": [
    "gallery_feature_path = \"../feature/ICDAR-INCEPTION-feature/gallery_features.npy\"\n",
    "gallery_name_path = \"../feature/ICDAR-INCEPTION-feature/gallery_names.npy\""
   ]
  },
  {
   "cell_type": "code",
   "execution_count": 8,
   "metadata": {},
   "outputs": [],
   "source": [
    "np.save(gallery_feature_path, gallery_features)\n",
    "np.save(gallery_name_path, gallery_names)"
   ]
  },
  {
   "cell_type": "code",
   "execution_count": 9,
   "metadata": {},
   "outputs": [],
   "source": [
    "gallery_features = np.load(gallery_feature_path)\n",
    "gallery_names = np.load(gallery_name_path)"
   ]
  },
  {
   "cell_type": "code",
   "execution_count": 10,
   "metadata": {},
   "outputs": [
    {
     "name": "stdout",
     "output_type": "stream",
     "text": [
      "gallery features shape :  (64, 2048)\n"
     ]
    }
   ],
   "source": [
    "gallery_features_array = np.array(gallery_features)\n",
    "print(\"gallery features shape : \", gallery_features_array.shape)"
   ]
  },
  {
   "cell_type": "markdown",
   "metadata": {},
   "source": [
    "### Euclidean Distance"
   ]
  },
  {
   "cell_type": "code",
   "execution_count": 11,
   "metadata": {},
   "outputs": [],
   "source": [
    "def euclidean_distance(feature_vector1, feature_vector2):\n",
    "    return np.sqrt(np.sum((feature_vector1 - feature_vector2)**2))"
   ]
  },
  {
   "cell_type": "code",
   "execution_count": 12,
   "metadata": {},
   "outputs": [],
   "source": [
    "def find_euclidean_distance(test_features, test_names, test_labels, gallery_features, gallery_names):\n",
    "    euclidean_distances = []\n",
    "    euclidean_names = []\n",
    "    euclidean_actual_labels = []\n",
    "\n",
    "    for gallery_feature, gallery_name in zip(gallery_features, gallery_names):\n",
    "        curr_euclid_name = gallery_name\n",
    "        curr_euclid_feature = []\n",
    "        curr_euclid_label = []\n",
    "        curr_euclid_dist = []\n",
    "        for feature, name, label in zip(test_features, test_names, test_labels):\n",
    "            if gallery_name in name:\n",
    "                curr_euclid_feature.append(feature)\n",
    "                curr_euclid_label.append(label)\n",
    "        \n",
    "        for feature in curr_euclid_feature:\n",
    "            distance = euclidean_distance(feature, gallery_feature)\n",
    "            curr_euclid_dist.append(distance)\n",
    "\n",
    "        euclidean_distances.append(curr_euclid_dist)\n",
    "        euclidean_names.append(curr_euclid_name)\n",
    "        euclidean_actual_labels.append(curr_euclid_label)\n",
    "        \n",
    "    return euclidean_distances, euclidean_names, euclidean_actual_labels"
   ]
  },
  {
   "cell_type": "code",
   "execution_count": 13,
   "metadata": {},
   "outputs": [],
   "source": [
    "test_euclidean_distances, test_euclidean_names, test_euclidean_actual_labels = find_euclidean_distance(test_features, test_names, test_labels, gallery_features, gallery_names)\n",
    "train_euclidean_distances, train_euclidean_names, train_euclidean_actual_labels = find_euclidean_distance(train_features, train_names, train_labels, gallery_features, gallery_names)\n",
    "validation_euclidean_distances, validation_euclidean_names, validation_euclidean_actual_labels = find_euclidean_distance(validation_features, validation_names, validation_labels, gallery_features, gallery_names)"
   ]
  },
  {
   "cell_type": "markdown",
   "metadata": {},
   "source": [
    "### Split Euclidean Distance to Positive and Negative for Future Use (If needed)"
   ]
  },
  {
   "cell_type": "code",
   "execution_count": 14,
   "metadata": {},
   "outputs": [],
   "source": [
    "def split_euc_dist(euclidean_distances, euclidean_names, euclidean_actual_labels):\n",
    "    positive_distance = []\n",
    "    positive_name = []\n",
    "    positive_label = []\n",
    "    negative_distance = []\n",
    "    negative_name = []\n",
    "    negative_label = []\n",
    "\n",
    "    for euclidean_distance, euclidean_name, euclidean_actual_label in zip(euclidean_distances, euclidean_names, euclidean_actual_labels):\n",
    "        pos_dist = []\n",
    "        neg_dist = []\n",
    "        pos_lab = []\n",
    "        neg_lab = []\n",
    "        for distance, label in zip(euclidean_distance, euclidean_actual_label):\n",
    "            if label == 0:\n",
    "                neg_dist.append(distance)\n",
    "                neg_lab.append(label)\n",
    "            else:\n",
    "                pos_dist.append(distance)\n",
    "                pos_lab.append(label)\n",
    "\n",
    "        positive_distance.append(pos_dist)\n",
    "        positive_name.append(euclidean_name)\n",
    "        positive_label.append(pos_lab)\n",
    "\n",
    "        negative_distance.append(neg_dist)\n",
    "        negative_name.append(euclidean_name)\n",
    "        negative_label.append(neg_lab)\n",
    "        # print(euclidean_distance, euclidean_name, euclidean_actual_label)\n",
    "\n",
    "    return positive_distance, negative_label"
   ]
  },
  {
   "cell_type": "code",
   "execution_count": 15,
   "metadata": {},
   "outputs": [],
   "source": [
    "train_positive_dist, train_negative_dist = split_euc_dist(train_euclidean_distances, train_names, train_euclidean_actual_labels)\n",
    "test_positive_dist, test_negative_dist = split_euc_dist(test_euclidean_distances, test_names, test_euclidean_actual_labels)\n",
    "validation_positive_dist, validation_negative_dist = split_euc_dist(validation_euclidean_distances, validation_names, validation_euclidean_actual_labels)"
   ]
  },
  {
   "cell_type": "code",
   "execution_count": 16,
   "metadata": {},
   "outputs": [
    {
     "name": "stdout",
     "output_type": "stream",
     "text": [
      "Train total : 857\n",
      "  Train pos : 463\n",
      "  Train neg : 394\n",
      " Test total : 401\n",
      "   Test pos : 212\n",
      "   Test neg : 189\n",
      "  Val total : 391\n",
      "    Val pos : 212\n",
      "    Val neg : 179\n"
     ]
    }
   ],
   "source": [
    "flat_train_positive_dist = [item for sublist in train_positive_dist for item in sublist]\n",
    "flat_train_negative_dist = [item for sublist in train_negative_dist for item in sublist]\n",
    "flat_test_positive_dist = [item for sublist in test_positive_dist for item in sublist]\n",
    "flat_test_negative_dist = [item for sublist in test_negative_dist for item in sublist]\n",
    "flat_validation_positive_dist = [item for sublist in validation_positive_dist for item in sublist]\n",
    "flat_validation_negative_dist = [item for sublist in validation_negative_dist for item in sublist]\n",
    "\n",
    "print(f'Train total : {len(flat_train_positive_dist) + len(flat_train_negative_dist)}')\n",
    "print(f'  Train pos : {len(flat_train_positive_dist)}')\n",
    "print(f'  Train neg : {len(flat_train_negative_dist)}')\n",
    "print(f' Test total : {len(flat_test_positive_dist) + len(flat_test_negative_dist)}')\n",
    "print(f'   Test pos : {len(flat_test_positive_dist)}')\n",
    "print(f'   Test neg : {len(flat_test_negative_dist)}')\n",
    "print(f'  Val total : {len(flat_validation_positive_dist) + len(flat_validation_negative_dist)}')\n",
    "print(f'    Val pos : {len(flat_validation_positive_dist)}')\n",
    "print(f'    Val neg : {len(flat_validation_negative_dist)}')"
   ]
  },
  {
   "cell_type": "markdown",
   "metadata": {},
   "source": [
    "### Normalize Euclidean Distance"
   ]
  },
  {
   "cell_type": "code",
   "execution_count": 17,
   "metadata": {},
   "outputs": [],
   "source": [
    "# Flatten the lists of distances\n",
    "flat_test_distances = [item for sublist in test_euclidean_distances for item in sublist]\n",
    "flat_train_distances = [item for sublist in train_euclidean_distances for item in sublist]\n",
    "flat_validation_distances = [item for sublist in validation_euclidean_distances for item in sublist]"
   ]
  },
  {
   "cell_type": "code",
   "execution_count": 18,
   "metadata": {},
   "outputs": [
    {
     "name": "stdout",
     "output_type": "stream",
     "text": [
      "[10.264642, 9.4855, 13.600153, 11.71488, 9.893428, 10.16692, 8.874469, 11.016807, 10.487608, 16.345419, 15.278705, 12.932986, 10.467443, 15.646052, 19.217598, 13.733664, 13.630764, 15.880689, 12.572819, 12.82697, 10.630274, 11.30529, 9.464987, 9.975922, 11.472539, 10.328035, 13.687792, 11.513642, 11.577977, 8.924565, 10.185164, 12.69729, 33.523, 15.296377, 27.64846, 20.299408, 13.252183, 14.947208, 11.233191, 12.582722, 14.14532, 12.478986, 17.089731, 16.332932, 14.262346, 12.359755, 22.870955, 14.882343, 14.939238, 10.838666, 10.324058, 11.969305, 16.318554, 15.530309, 14.595961, 16.002625, 16.540337, 12.479205, 9.722845, 14.490298, 11.6605835, 15.281183, 11.337057, 9.488028, 11.381365, 11.689026, 9.911516, 11.303688, 12.709879, 20.400045, 9.506741, 17.870014, 11.147371, 15.712013, 17.914145, 14.210248, 14.960528, 13.910366, 8.461074, 14.206163, 8.65536, 8.198233, 8.230253, 8.58124, 8.491329, 9.764128, 11.043335, 8.159022, 8.703515, 11.917354, 8.252285, 8.5169115, 16.476217, 14.491603, 16.11099, 13.375387, 9.177639, 14.105867, 11.146094, 10.82139, 9.079042, 12.033379, 9.641357, 11.130719, 10.692984, 12.502726, 9.520827, 15.758774, 8.594929, 11.17642, 9.156003, 10.308654, 16.933758, 13.8127575, 16.358658, 9.845155, 11.810105, 11.965089, 10.799149, 10.058314, 12.390271, 10.705874, 13.68105, 10.060049, 10.271131, 12.584532, 13.385646, 13.874869, 12.460486, 19.600986, 14.654758, 15.461826, 13.019853, 16.907276, 15.940142, 14.017538, 11.272734, 15.909398, 9.277614, 8.47587, 12.454644, 11.802332, 8.953341, 11.62092, 31.476511, 15.993736, 12.4911995, 18.590645, 13.616271, 15.602701, 9.229615, 11.303722, 9.717958, 8.09254, 9.200028, 10.597562, 11.260169, 8.416141, 12.543451, 11.856222, 8.052027, 9.195054, 11.516846, 10.419829, 20.799606, 14.558607, 16.726389, 16.45184, 26.70135, 23.066694, 19.069885, 18.510721, 15.707573, 13.639979, 14.826995, 14.167359, 12.7448225, 13.137079, 13.942081, 9.888192, 12.099275, 11.435765, 13.250748, 14.209021, 17.173513, 11.365238, 10.821559, 16.628935, 14.617542, 19.880503, 20.830929, 20.125353, 17.640768, 15.950375, 10.210673, 11.247934, 11.485974, 11.856648, 14.985516, 9.622057, 8.68421, 8.921585, 9.757801, 10.654043, 10.259732, 8.155399, 15.734544, 13.691028, 9.712422, 17.912073, 12.53619, 12.240013, 10.510617, 14.000033, 10.757808, 9.319983, 9.309926, 12.719184, 9.26635, 12.177865, 10.511017, 14.681756, 17.658947, 17.242018, 16.240995, 14.196152, 12.811128, 7.6669517, 10.068659, 7.6020246, 9.30838, 8.90444, 11.30082, 16.430483, 18.208609, 13.909111, 12.904726, 13.69544, 13.589418, 15.2210455, 12.8115, 13.59504, 14.745895, 18.034487, 21.281385, 21.016474, 21.479273, 22.11367, 20.051495, 21.318241, 23.139454, 10.157435, 8.464877, 6.6595445, 8.817366, 9.241098, 9.269975, 16.994518, 11.910955, 15.745135, 12.523629, 12.454312, 14.782507, 11.365664, 16.549765, 15.3533125, 13.785243, 12.771239, 14.767028, 13.18693, 16.35265, 14.226383, 14.7779875, 38.882698, 20.630587, 21.663002, 19.028223, 22.074692, 20.536795, 23.957243, 8.884043, 11.09764, 15.34134, 10.810044, 9.142032, 9.913221, 12.97503, 13.805337, 32.707626, 16.747385, 23.232037, 41.819355, 14.839343, 11.01973, 19.168419, 8.408926, 9.118269, 9.289912, 8.616765, 6.7698746, 9.46805, 15.295262, 10.54201, 13.627226, 11.574999, 9.726113, 14.234706, 9.231215, 13.56897, 11.102079, 9.494216, 13.099502, 14.760244, 17.72449, 22.335075, 21.947987, 23.365992, 9.069119, 18.416868, 13.849456, 12.453365, 10.83289, 10.183296, 12.3762665, 15.83009, 14.611292, 17.625263, 10.944234, 14.620649, 8.941895, 8.548444, 11.139218, 12.0420885, 16.463303, 11.843827, 14.573383, 11.405213, 16.574745, 11.760475, 10.490709, 8.6871395, 14.10332, 7.5291257, 12.257988, 10.931488, 15.223104, 26.704336, 11.397397, 13.660767, 11.120903, 7.634691, 10.330419, 13.588462, 8.341269, 11.956793, 13.343827, 23.661612, 12.259548, 10.08307, 15.1925745, 10.643242, 14.06726, 11.501034, 16.843966, 19.975542, 12.011309, 13.165091, 20.84671, 20.28183, 18.643759, 17.647593, 20.413002, 30.328888, 10.194089, 12.238616, 9.542939, 11.213001, 17.371561, 14.946624, 13.130623, 12.430825, 12.675617, 12.080659, 11.3096485, 11.941535, 12.134825, 8.2446, 8.403742, 7.2737794, 8.920567, 9.359842, 9.191602, 9.599963, 9.606405, 10.178928, 11.7130575, 8.618105, 8.272466, 10.460401, 9.224551, 10.053802, 16.486235, 11.506182, 16.970812, 11.39679, 10.991188, 11.905862, 7.309558, 6.6285295, 6.2105107, 9.455843, 5.6084056, 6.935865, 8.733278, 13.6823435, 18.376587, 6.4612727, 11.615308, 8.195881, 7.865755, 9.098114, 6.5334315, 15.630597, 14.933373, 10.392485, 22.775497, 9.272131, 11.138084, 17.398645, 20.14467, 19.34501, 15.428012, 22.296255, 17.412659, 24.45718, 16.369967, 14.974539, 18.198578, 20.423449, 13.598469, 18.497059, 24.722967, 15.151567, 24.934242, 15.792121, 24.798227, 12.028326, 10.830282, 10.127245, 8.061722, 8.356056, 15.93246, 13.808516, 11.548072, 12.779458, 13.739403, 13.863784, 11.624932, 9.182557, 10.59881, 8.959591, 8.905012, 6.075697, 10.237008, 12.041044, 15.964213, 12.456392, 10.047442, 11.204819, 11.848076, 13.725119, 11.775009, 9.218927, 11.227331, 14.597273, 9.697071, 7.8326902, 11.576544, 9.479069, 10.8847275, 13.055025, 10.299652, 10.747356, 13.911856, 11.99908, 7.7554226, 7.517922, 6.089344, 5.503506, 10.148602, 13.380826, 10.556346, 10.020366, 13.612244, 16.12587, 12.518447, 12.936676, 24.17464, 14.87287, 13.54147, 37.67931, 25.91844, 17.962076, 15.497983, 18.184172, 25.02076, 18.523155, 9.073057, 8.210632, 8.898771, 7.9817085, 6.4349504, 9.562428, 17.830524, 14.95644, 13.670304, 17.14389, 17.224365, 13.691883, 10.968569, 8.188272, 11.417304, 7.505749, 9.37567, 11.571142, 13.268845, 15.075559, 16.86335, 16.501705, 16.950285, 22.294235, 8.59058, 8.200415, 7.5891986, 6.9877377, 7.1910086, 10.574819, 12.944033, 11.445561, 13.128652, 12.193338, 12.891669, 23.760311, 12.871039, 22.919386, 10.995853, 11.062319, 11.86931, 11.009678, 14.528921, 14.606359, 13.583239, 14.020399, 11.292928, 17.878584, 10.766539, 8.196384, 7.6171627, 7.979977, 7.9608727, 8.349939, 11.392275, 11.283222, 10.922317, 16.488708, 10.6769495, 11.515733, 17.479376, 14.440589, 38.48744, 18.711517, 13.679448, 16.021425, 49.50777, 16.861986, 18.364693, 17.345453, 21.215033, 16.62922, 9.324423, 9.209468, 10.198796, 10.546506, 11.946332, 9.037741, 8.589292, 18.540867, 12.081983, 12.038235, 10.697225, 11.218267, 10.852864, 9.893583, 12.198679, 12.31957, 9.635749, 10.923176, 12.576109, 16.060612, 12.217717, 12.0724945, 12.178559, 11.2259245, 14.371322, 9.677494, 8.922394, 11.104058, 12.943821, 14.330407, 15.291261, 18.44372, 15.314667, 17.185366, 12.964871, 12.0482855, 11.67664, 22.469675, 9.324731, 13.429993, 17.674173, 22.378256, 19.086182, 20.180902, 20.282629, 20.852629, 10.0429, 10.950302, 11.583239, 13.279671, 11.641168, 11.925683, 34.991535, 18.633593, 16.983032, 17.034315, 13.397613, 7.694281, 8.839503, 7.596718, 6.6341114, 8.576728, 10.430799, 12.841875, 12.7560425, 10.73356, 14.652441, 12.233341, 13.664331, 12.660629, 13.238012, 8.550387, 9.959135, 10.608535, 8.779463, 10.772845, 10.897828, 14.021367, 12.039652, 14.665411, 14.534933, 11.6366005, 12.319776, 14.123473, 12.673313, 12.487346, 11.6211, 12.792994, 11.934882, 12.66659, 11.321329, 23.892986, 29.206377, 16.29781, 15.52774, 16.237555, 15.113482, 13.97469, 14.76476, 20.268875, 19.777483, 26.557531, 17.158836, 16.704063, 9.84674, 12.114566, 17.014656, 11.57785, 9.139641, 10.989856, 11.920095, 15.279508, 24.58287, 13.4072895, 31.176416, 12.72343, 12.042168, 13.634668, 15.183421, 15.498126, 30.213615, 11.544231, 14.624083, 30.620329, 28.59024, 30.862373, 16.728127, 13.306799, 17.86133, 14.207207, 18.756445, 15.788743, 18.38128, 25.817057, 19.238302, 20.957943, 18.261286, 18.208563, 11.627378, 9.868816, 6.9134264, 8.578061, 10.085504, 7.8403, 10.774058, 12.20068, 13.7367115, 14.389437, 13.578112, 10.885661, 13.938427, 12.522599, 10.151469, 11.555393, 7.697579, 8.152623, 8.356596, 8.52525, 9.037122, 15.370476, 12.38779, 11.454551, 11.94193, 22.659758, 22.924551, 23.565943, 18.163101, 16.964664, 15.6857605, 27.411999, 20.368246, 20.750948, 16.764565, 17.06721, 17.581491, 15.112718, 11.96809, 11.410031, 12.121104, 12.831355, 13.086415, 15.325675, 18.184687, 17.392555, 15.228176, 17.312298, 14.145447, 10.129335, 12.477987, 16.225819, 8.40225, 8.417861, 11.125171, 16.480412, 15.649447, 15.280547, 12.4345665, 15.487993, 11.884673, 9.71601, 8.1159935, 8.293416, 7.229858, 13.4700985, 10.777793, 10.377506, 18.02758, 12.758039, 11.5469475, 14.897771, 11.841963, 10.61777, 16.37629, 10.275197, 11.639274, 10.198837, 10.010961, 15.575451, 15.296833, 12.350927, 11.984761, 13.411195, 9.75036, 9.3954525, 10.03936, 9.865494, 8.429853, 10.540005, 15.950066, 11.6427, 14.192366, 8.150239, 11.034676, 13.739275, 7.369886, 10.352361, 10.959804, 12.884242, 9.161697, 11.358963, 37.656918, 10.337167, 13.774847, 10.461297, 13.566928, 18.438372, 8.52544, 9.973125, 9.277278, 7.964044, 10.313673, 9.187171, 17.604794, 11.684808, 14.336599, 11.480279, 9.181087, 8.048947, 7.627308, 6.320539, 8.743786, 7.367732, 15.327272, 13.059628, 17.05972, 14.728261, 11.042441, 9.013937, 10.576131, 12.095129, 10.802344, 13.465114, 13.009845, 19.236086, 14.272636, 23.0525, 13.389884, 14.012869]\n"
     ]
    }
   ],
   "source": [
    "print(flat_train_distances)"
   ]
  },
  {
   "cell_type": "code",
   "execution_count": 19,
   "metadata": {},
   "outputs": [],
   "source": [
    "def get_min_max(euclidean_distances):\n",
    "    min_distance = min(euclidean_distances)\n",
    "    max_distance = max(euclidean_distances)\n",
    "\n",
    "    return min_distance, max_distance"
   ]
  },
  {
   "cell_type": "code",
   "execution_count": 20,
   "metadata": {},
   "outputs": [
    {
     "name": "stdout",
     "output_type": "stream",
     "text": [
      "min: 5.503506183624268, max: 49.50777053833008\n"
     ]
    }
   ],
   "source": [
    "min_val, max_val = get_min_max(flat_train_distances)\n",
    "print(f'min: {min_val}, max: {max_val}')"
   ]
  },
  {
   "cell_type": "code",
   "execution_count": 21,
   "metadata": {},
   "outputs": [],
   "source": [
    "def normalize_distance(euclidean_distances, min_val, max_val):\n",
    "    all_distance = []\n",
    "\n",
    "    for distance in euclidean_distances:\n",
    "        normalized_distance = (distance - min_val) / (max_val - min_val)\n",
    "\n",
    "        # in case test and train distances are beyond max of train\n",
    "        if normalized_distance > 1:\n",
    "            normalized_distance = 1\n",
    "        elif normalized_distance < 0:\n",
    "            normalized_distance = 0\n",
    "        \n",
    "        all_distance.append(normalized_distance)\n",
    "\n",
    "    return all_distance\n",
    "\n",
    "def reverse_normalized_distance(euclidean_distances, min_val, max_val):\n",
    "    reverse_distance = []\n",
    "    normalized_distances = normalize_distance(euclidean_distances, min_val, max_val)\n",
    "    for distance in normalized_distances:\n",
    "        distance = -distance\n",
    "        reverse_distance.append(distance)\n",
    "\n",
    "    return reverse_distance"
   ]
  },
  {
   "cell_type": "code",
   "execution_count": 22,
   "metadata": {},
   "outputs": [],
   "source": [
    "# normalized_positive_distances = reverse_normalized_distance(positive_distance)\n",
    "# normalized_negative_distances = reverse_normalized_distance(negative_distance)"
   ]
  },
  {
   "cell_type": "code",
   "execution_count": 23,
   "metadata": {},
   "outputs": [],
   "source": [
    "normalized_test_euclidean_distance = reverse_normalized_distance(flat_test_distances, min_val, max_val)\n",
    "normalized_train_euclidean_distance = reverse_normalized_distance(flat_train_distances, min_val, max_val)\n",
    "normalized_validation_euclidean_distance = reverse_normalized_distance(flat_validation_distances, min_val, max_val)"
   ]
  },
  {
   "cell_type": "code",
   "execution_count": 24,
   "metadata": {},
   "outputs": [
    {
     "name": "stdout",
     "output_type": "stream",
     "text": [
      "[-0.19407901, -0.16383697, -0.24351668, -0.11970141, -0.12251153, -0.17792892, -0.26128256, -0.13527387, -0.21099846, -0.2105019, -0.12104982, -0.12938643, -0.2483344, -0.34592012, -0.24438696, -0.27659708, -0.10093414, -0.24757136, -0.16992374, -0.20347136, -0.22958516, -0.15576519, -0.14591399, -0.19988269, -0.1817377, -0.18839419, -0.20282756, -0.09200443, -0.17228627, -0.19769491, -0.20878541, -0.1654445, -0.21027513, -0.05953126, -0.110222094, -0.071224555, -0.20604998, -0.19435863, -0.207495, -0.17332403, -0.19329174, -0.1759373, -0.16611916, -0.1574449, -0.18739614, -0.13571993, -0.15388305, -0.14944255, -0.14911915, -0.18945166, -0.1522019, -0.14386845, -0.25024885, -0.29081765, -0.24094912, -0.21742183, -0.08545218, -0.14518856, -0.23016164, -0.2512905, -0.31079665, -0.13196395, -0.1817447, -0.112842426, -0.08553245, -0.10130237, -0.30437243, -0.30207002, -0.232202, -0.26509008, -0.18758382, -0.21007206, -0.15731758, -0.17672928, -0.2513028, -0.22238804, -0.26562798, -0.30072367, -0.762852, -0.1319361, -0.2891783, -0.25391406, -0.094601184, -0.2224466, -0.5372302, -1, -1, -0.10755436, -0.16893929, -0.12646861, -0.22707342, -0.19921926, -0.15318425, -0.11918426, -0.111315005, -0.25720105, -0.13442458, -0.2519838, -0.17325893, -0.24571092, -0.16760121, -0.31218866, -0.28821033, -0.33648512, -0.35773772, -0.12350367, -0.17873998, -0.20162873, -0.15904196, -0.25300375, -0.19200705, -0.16532338, -0.2285112, -0.20988125, -0.30766517, -0.37353167, -0.4127503, -0.31244424, -0.10216255, -0.4364164, -0.06142178, -0.23691808, -0.21403159, -0.17989224, -0.18008512, -0.16024412, -0.11801294, -0.12925297, -0.24351837, -0.26543853, -0.13885361, -0.23353793, -0.167896, -0.43716347, -0.21953201, -0.15778242, -0.17996866, -0.15566099, -0.21448012, -0.14254187, -0.16772878, -0.12487121, -0.19406305, -0.20255293, -0.13221477, -0.23886168, -0.19393618, -0.13053353, -0.13430767, -0.0975424, -0.15657718, -0.18935227, -0.10008192, -0.16072576, -0.1765596, -0.1687101, -0.15270793, -0.12871118, -0.26216766, -0.20649269, -0.21615613, -0.38499573, -0.34545648, -0.31406397, -0.12296266, -0.13741142, -0.16379267, -0.1354188, -0.19423942, -0.11354558, -0.1339805, -0.18470491, -0.0687815, -0.14856659, -0.23901032, -0.20780352, -0.08581252, -0.1315533, -0.11207794, -0.14909594, -0.11594057, -0.16660267, -0.09895938, -0.043120205, -0.067422956, -0.10757367, -0.06623637, -0.1651658, -0.19069055, -0.13205215, -0.22044988, -0.3582722, -0.2758577, -0.41448924, -0.19276008, -0.30513957, -0.393607, -0.4488898, -0.21216404, -0.24722153, -0.12076089, -0.12644696, -0.11354936, -0.20958248, -0.21405183, -0.17642339, -0.07904753, -0.1218206, -0.09453742, -0.1820954, -0.24365266, -0.14382228, -0.14950386, -0.18872222, -0.2100392, -0.15715475, -0.10188655, -0.16148613, -0.12106618, -0.07336188, -0.47370246, -0.14065176, -0.18058744, -0.10287884, -0.13355076, -0.440323, -0.4232837, -0.6624702, -0.44126278, -0.3198101, -0.18640888, -0.07444732, -0.14383316, -0.2237761, -0.30048895, -0.26874706, -0.039982226, -0.30272523, -0.31054154, -0.19192028, -0.17413522, -0.2347504, -0.07973957, -0.066634625, -0.11189188, -0.23867261, -0.13407165, -0.13126315, -0.418707, -0.14254406, -0.16585593, -0.1529786, -0.14370763, -0.15556554, -0.107280076, -0.21675107, -0.0999072, -0.120453745, -0.16100806, -0.1580172, -0.23591135, -0.2768548, -0.30263326, -0.25439623, -0.25737512, -0.3390028, -0.1299155, -0.12245072, -0.13351323, -0.15036193, -0.2596042, -0.15424097, -0.13397586, -0.20273788, -0.14375655, -0.2255584, -0.19291286, -0.15773034, -0.15944451, -0.18243712, -0.24431731, -0.1688889, -0.1844419, -0.14390583, -0.4497462, -0.16271025, -0.23242682, -0.2620596, -0.29841158, -0.19257002, -0.2455515, -0.20865859, -0.25618762, -0.25153401, -0.0836035, -0.055234324, -0.14432453, -0.19779633, -0.23343754, -0.28581804, -0.113536894, -0.16388598, -0.11504323, -0.17725746, -0.18461181, -0.13904206, -0.19846371, -0.15305501, -0.3976954, -0.3016879, -0.20455107, -0.25783694, -0.23732066, -0.17504859, -0.2577077, -0.13470592, -0.18269853, -0.17906621, -0.18460067, -0.16774705, -0.3245489, -0.46403405, -0.41303504, -0.40111357, -0.27950975, -0.34986508, -0.38017398, -0.68093425, -0.67765594, -0.26749724, -0.2207578, -0.34008896, -0.11717102, -0.100280136, -0.073802695, -0.19299223, -0.19266433, -0.16903625, -0.16753578, -0.093723714, -0.21793087, -0.12782161, -0.17490649, -0.1359267, -0.2673456, -0.23983863, -0.31984866, -0.26212627, -0.34504774, -0.59037095, -0.12799712, -0.12644508, -0.18803829, -0.23546052, -0.12318814, -0.23862225, -0.15420829, -0.1327025, -0.13601159, -0.2215358, -0.21189864, -0.25174433, -0.07089286, -0.1084258, -0.09123953, -0.12902562, -0.12318697, -0.25888595, -0.12415104, -0.18014067, -0.28671494, -0.14475997, -0.16424766, -0.12487923, -0.68031126, -0.16749665, -0.18593785, -0.18355016, -0.09066909, -0.15416744, -0.3877478, -0.11520105, -0.20949215, -0.09519451, -0.5305511, -0.13487914, -0.14512889, -0.086226285, -0.14074636, -0.15809023, -0.095646136, -0.058206953, -0.100393325, -0.15499116, -0.15375267, -0.1693998, -0.24303551, -0.18861859, -0.45453992, -0.14268927, -0.3253241]\n"
     ]
    }
   ],
   "source": [
    "print(normalized_test_euclidean_distance)"
   ]
  },
  {
   "cell_type": "markdown",
   "metadata": {},
   "source": [
    "# 3. ROC Curve"
   ]
  },
  {
   "cell_type": "code",
   "execution_count": 25,
   "metadata": {},
   "outputs": [],
   "source": [
    "from sklearn.metrics import roc_curve, auc\n",
    "import matplotlib.pyplot as plt\n",
    "from matplotlib.ticker import MultipleLocator"
   ]
  },
  {
   "cell_type": "code",
   "execution_count": 26,
   "metadata": {},
   "outputs": [
    {
     "data": {
      "image/png": "[encoded data removed]",
      "text/plain": [
       "<Figure size 800x800 with 1 Axes>"
      ]
     },
     "metadata": {},
     "output_type": "display_data"
    }
   ],
   "source": [
    "# Flatten the lists of labels\n",
    "flat_test_labels = [item for sublist in test_euclidean_actual_labels for item in sublist]\n",
    "flat_train_labels = [item for sublist in train_euclidean_actual_labels for item in sublist]\n",
    "flat_validation_labels = [item for sublist in validation_euclidean_actual_labels for item in sublist]\n",
    "\n",
    "# Calculate ROC curve\n",
    "fpr_test, tpr_test, thresholds_test = roc_curve(flat_test_labels, normalized_test_euclidean_distance, drop_intermediate=False)\n",
    "roc_auc_test = auc(fpr_test, tpr_test)\n",
    "fpr_train, tpr_train, thresholds_train = roc_curve(flat_train_labels, normalized_train_euclidean_distance, drop_intermediate=False)\n",
    "roc_auc_train = auc(fpr_train, tpr_train)\n",
    "fpr_validation, tpr_validation, thresholds_validation = roc_curve(flat_validation_labels, normalized_validation_euclidean_distance, drop_intermediate=False)\n",
    "roc_auc_validation = auc(fpr_validation, tpr_validation)\n",
    "\n",
    "# Plot ROC curve\n",
    "plt.figure(figsize=(8, 8))\n",
    "\n",
    "plt.plot(fpr_train, tpr_train, color='darkseagreen', lw=2, label=f'Train AUC = {roc_auc_train:.5f}')\n",
    "plt.plot(fpr_validation, tpr_validation, color='steelblue', lw=2, label=f'Validation AUC = {roc_auc_validation:.5f}')\n",
    "plt.plot(fpr_test, tpr_test, color='peru', lw=2, label=f'Test AUC = {roc_auc_test:.5f}')\n",
    "\n",
    "plt.plot([0, 1], [0, 1], color='navy', lw=2, linestyle='--')\n",
    "plt.xlabel('False Positive Rate')\n",
    "plt.ylabel('True Positive Rate')\n",
    "plt.title('ROC Curves - Euclidean Distance')\n",
    "plt.legend(loc='lower right')\n",
    "plt.show()"
   ]
  },
  {
   "cell_type": "code",
   "execution_count": 27,
   "metadata": {},
   "outputs": [
    {
     "name": "stdout",
     "output_type": "stream",
     "text": [
      "[0.         0.00471698 0.00943396 0.01415094 0.01886792 0.02358491\n",
      " 0.02830189 0.02830189 0.03301887 0.03301887 0.03773585 0.04245283\n",
      " 0.04716981 0.05188679 0.05660377 0.06132075 0.06603774 0.07075472\n",
      " 0.0754717  0.08018868 0.08490566 0.08962264 0.09433962 0.0990566\n",
      " 0.10377358 0.10849057 0.11320755 0.11792453 0.12264151 0.12264151\n",
      " 0.12735849 0.13207547 0.13679245 0.14150943 0.14622642 0.1509434\n",
      " 0.15566038 0.16037736 0.16509434 0.16509434 0.16981132 0.16981132\n",
      " 0.1745283  0.17924528 0.17924528 0.18396226 0.18867925 0.19339623\n",
      " 0.19811321 0.19811321 0.20283019 0.20283019 0.20283019 0.20754717\n",
      " 0.21226415 0.21226415 0.21226415 0.21698113 0.22169811 0.22641509\n",
      " 0.23113208 0.23113208 0.23584906 0.24056604 0.24056604 0.24528302\n",
      " 0.25       0.25471698 0.25943396 0.25943396 0.25943396 0.26415094\n",
      " 0.26886792 0.27358491 0.27830189 0.28301887 0.28773585 0.29245283\n",
      " 0.29716981 0.30188679 0.30188679 0.30188679 0.30660377 0.31132075\n",
      " 0.31603774 0.32075472 0.32075472 0.3254717  0.33018868 0.33490566\n",
      " 0.33962264 0.33962264 0.34433962 0.3490566  0.3490566  0.35377358\n",
      " 0.35849057 0.35849057 0.36320755 0.36320755 0.36792453 0.37264151\n",
      " 0.37735849 0.37735849 0.37735849 0.37735849 0.38207547 0.38679245\n",
      " 0.39150943 0.39150943 0.39622642 0.39622642 0.39622642 0.4009434\n",
      " 0.4009434  0.4009434  0.40566038 0.40566038 0.41037736 0.41509434\n",
      " 0.41981132 0.4245283  0.4245283  0.42924528 0.43396226 0.43396226\n",
      " 0.43396226 0.43396226 0.43867925 0.44339623 0.44339623 0.44339623\n",
      " 0.44811321 0.44811321 0.44811321 0.44811321 0.44811321 0.44811321\n",
      " 0.44811321 0.45283019 0.45754717 0.45754717 0.45754717 0.45754717\n",
      " 0.46226415 0.46226415 0.46226415 0.46698113 0.47169811 0.47641509\n",
      " 0.48113208 0.48113208 0.48113208 0.48113208 0.48113208 0.48584906\n",
      " 0.49056604 0.49528302 0.49528302 0.49528302 0.5        0.50471698\n",
      " 0.50943396 0.51415094 0.51415094 0.51415094 0.51415094 0.51886792\n",
      " 0.52358491 0.52830189 0.53301887 0.53773585 0.53773585 0.54245283\n",
      " 0.54245283 0.54245283 0.54716981 0.54716981 0.54716981 0.55188679\n",
      " 0.55188679 0.55660377 0.56132075 0.56132075 0.56132075 0.56603774\n",
      " 0.56603774 0.56603774 0.56603774 0.57075472 0.57075472 0.5754717\n",
      " 0.58018868 0.58490566 0.58490566 0.58962264 0.59433962 0.59433962\n",
      " 0.5990566  0.5990566  0.60377358 0.60377358 0.60849057 0.61320755\n",
      " 0.61320755 0.61792453 0.62264151 0.62264151 0.62264151 0.62264151\n",
      " 0.62264151 0.62735849 0.62735849 0.63207547 0.63207547 0.63679245\n",
      " 0.64150943 0.64622642 0.6509434  0.65566038 0.65566038 0.66037736\n",
      " 0.66509434 0.66509434 0.66509434 0.66981132 0.66981132 0.6745283\n",
      " 0.6745283  0.6745283  0.67924528 0.67924528 0.68396226 0.68867925\n",
      " 0.68867925 0.68867925 0.68867925 0.68867925 0.68867925 0.68867925\n",
      " 0.69339623 0.69811321 0.70283019 0.70754717 0.71226415 0.71698113\n",
      " 0.72169811 0.72169811 0.72641509 0.72641509 0.73113208 0.73584906\n",
      " 0.73584906 0.73584906 0.73584906 0.74056604 0.74528302 0.75\n",
      " 0.75471698 0.75943396 0.76415094 0.76415094 0.76415094 0.76415094\n",
      " 0.76415094 0.76886792 0.77358491 0.77830189 0.78301887 0.78773585\n",
      " 0.78773585 0.79245283 0.79245283 0.79245283 0.79245283 0.79245283\n",
      " 0.79245283 0.79245283 0.79245283 0.79716981 0.79716981 0.79716981\n",
      " 0.79716981 0.79716981 0.79716981 0.80188679 0.80188679 0.80188679\n",
      " 0.80660377 0.80660377 0.80660377 0.80660377 0.80660377 0.80660377\n",
      " 0.80660377 0.81132075 0.81132075 0.81603774 0.82075472 0.82075472\n",
      " 0.82075472 0.82075472 0.82075472 0.8254717  0.83018868 0.83018868\n",
      " 0.83490566 0.83490566 0.83490566 0.83490566 0.83962264 0.83962264\n",
      " 0.83962264 0.83962264 0.83962264 0.84433962 0.84433962 0.84433962\n",
      " 0.8490566  0.8490566  0.8490566  0.8490566  0.8490566  0.8490566\n",
      " 0.8490566  0.8490566  0.8490566  0.85377358 0.85377358 0.85377358\n",
      " 0.85377358 0.85849057 0.85849057 0.85849057 0.85849057 0.86320755\n",
      " 0.86792453 0.86792453 0.86792453 0.87264151 0.87264151 0.87735849\n",
      " 0.87735849 0.87735849 0.87735849 0.87735849 0.88207547 0.88207547\n",
      " 0.88679245 0.89150943 0.89150943 0.89622642 0.9009434  0.90566038\n",
      " 0.90566038 0.91037736 0.91037736 0.91037736 0.91037736 0.91509434\n",
      " 0.91509434 0.91509434 0.91509434 0.91509434 0.91509434 0.91509434\n",
      " 0.91509434 0.91509434 0.91509434 0.91509434 0.91509434 0.91509434\n",
      " 0.91981132 0.91981132 0.9245283  0.92924528 0.93396226 0.93867925\n",
      " 0.93867925 0.94339623 0.94339623 0.94811321 0.95283019 0.95754717\n",
      " 0.95754717 0.96226415 0.96226415 0.96226415 0.96698113 0.96698113\n",
      " 0.97169811 0.97641509 0.97641509 0.97641509 0.97641509 0.98113208\n",
      " 0.98584906 0.99056604 0.99528302 1.         1.        ]\n"
     ]
    }
   ],
   "source": [
    "print(tpr_test)"
   ]
  },
  {
   "cell_type": "code",
   "execution_count": 28,
   "metadata": {},
   "outputs": [
    {
     "name": "stdout",
     "output_type": "stream",
     "text": [
      "[0.         0.         0.         0.         0.         0.\n",
      " 0.         0.00529101 0.00529101 0.01058201 0.01058201 0.01058201\n",
      " 0.01058201 0.01058201 0.01058201 0.01058201 0.01058201 0.01058201\n",
      " 0.01058201 0.01058201 0.01058201 0.01058201 0.01058201 0.01058201\n",
      " 0.01058201 0.01058201 0.01058201 0.01058201 0.01058201 0.01587302\n",
      " 0.01587302 0.01587302 0.01587302 0.01587302 0.01587302 0.01587302\n",
      " 0.01587302 0.01587302 0.01587302 0.02116402 0.02116402 0.02645503\n",
      " 0.02645503 0.02645503 0.03174603 0.03174603 0.03174603 0.03174603\n",
      " 0.03174603 0.03703704 0.03703704 0.04232804 0.04761905 0.04761905\n",
      " 0.04761905 0.05291005 0.05820106 0.05820106 0.05820106 0.05820106\n",
      " 0.05820106 0.06349206 0.06349206 0.06349206 0.06878307 0.06878307\n",
      " 0.06878307 0.06878307 0.06878307 0.07407407 0.07936508 0.07936508\n",
      " 0.07936508 0.07936508 0.07936508 0.07936508 0.07936508 0.07936508\n",
      " 0.07936508 0.07936508 0.08465608 0.08994709 0.08994709 0.08994709\n",
      " 0.08994709 0.08994709 0.0952381  0.0952381  0.0952381  0.0952381\n",
      " 0.0952381  0.1005291  0.1005291  0.1005291  0.10582011 0.10582011\n",
      " 0.10582011 0.11111111 0.11111111 0.11640212 0.11640212 0.11640212\n",
      " 0.11640212 0.12169312 0.12698413 0.13227513 0.13227513 0.13227513\n",
      " 0.13227513 0.13756614 0.13756614 0.14285714 0.14814815 0.14814815\n",
      " 0.15343915 0.15873016 0.15873016 0.16402116 0.16402116 0.16402116\n",
      " 0.16402116 0.16402116 0.16931217 0.16931217 0.16931217 0.17460317\n",
      " 0.17989418 0.18518519 0.18518519 0.18518519 0.19047619 0.1957672\n",
      " 0.1957672  0.2010582  0.20634921 0.21164021 0.21693122 0.22222222\n",
      " 0.22751323 0.22751323 0.22751323 0.23280423 0.23809524 0.24338624\n",
      " 0.24338624 0.24867725 0.25396825 0.25396825 0.25396825 0.25396825\n",
      " 0.25396825 0.25925926 0.26455026 0.26984127 0.27513228 0.27513228\n",
      " 0.27513228 0.27513228 0.28042328 0.28571429 0.28571429 0.28571429\n",
      " 0.28571429 0.28571429 0.29100529 0.2962963  0.3015873  0.3015873\n",
      " 0.3015873  0.3015873  0.3015873  0.3015873  0.30687831 0.30687831\n",
      " 0.31216931 0.31746032 0.31746032 0.32275132 0.32804233 0.32804233\n",
      " 0.33333333 0.33333333 0.33333333 0.33862434 0.34391534 0.34391534\n",
      " 0.34920635 0.35449735 0.35978836 0.35978836 0.36507937 0.36507937\n",
      " 0.36507937 0.36507937 0.37037037 0.37037037 0.37037037 0.37566138\n",
      " 0.37566138 0.38095238 0.38095238 0.38624339 0.38624339 0.38624339\n",
      " 0.39153439 0.39153439 0.39153439 0.3968254  0.4021164  0.40740741\n",
      " 0.41269841 0.41269841 0.41798942 0.41798942 0.42328042 0.42328042\n",
      " 0.42328042 0.42328042 0.42328042 0.42328042 0.42857143 0.42857143\n",
      " 0.42857143 0.43386243 0.43915344 0.43915344 0.44444444 0.44444444\n",
      " 0.44973545 0.45502646 0.45502646 0.46031746 0.46031746 0.46031746\n",
      " 0.46560847 0.47089947 0.47619048 0.48148148 0.48677249 0.49206349\n",
      " 0.49206349 0.49206349 0.49206349 0.49206349 0.49206349 0.49206349\n",
      " 0.49206349 0.4973545  0.4973545  0.5026455  0.5026455  0.5026455\n",
      " 0.50793651 0.51322751 0.51851852 0.51851852 0.51851852 0.51851852\n",
      " 0.51851852 0.51851852 0.51851852 0.52380952 0.52910053 0.53439153\n",
      " 0.53968254 0.53968254 0.53968254 0.53968254 0.53968254 0.53968254\n",
      " 0.54497354 0.54497354 0.55026455 0.55555556 0.56084656 0.56613757\n",
      " 0.57142857 0.57671958 0.58201058 0.58201058 0.58730159 0.59259259\n",
      " 0.5978836  0.6031746  0.60846561 0.60846561 0.61375661 0.61904762\n",
      " 0.61904762 0.62433862 0.62962963 0.63492063 0.64021164 0.64550265\n",
      " 0.65079365 0.65079365 0.65608466 0.65608466 0.65608466 0.66137566\n",
      " 0.66666667 0.67195767 0.67724868 0.67724868 0.67724868 0.68253968\n",
      " 0.68253968 0.68783069 0.69312169 0.6984127  0.6984127  0.7037037\n",
      " 0.70899471 0.71428571 0.71957672 0.71957672 0.72486772 0.73015873\n",
      " 0.73015873 0.73544974 0.74074074 0.74603175 0.75132275 0.75661376\n",
      " 0.76190476 0.76719577 0.77248677 0.77248677 0.77777778 0.78306878\n",
      " 0.78835979 0.78835979 0.79365079 0.7989418  0.8042328  0.8042328\n",
      " 0.8042328  0.80952381 0.81481481 0.81481481 0.82010582 0.82010582\n",
      " 0.82539683 0.83068783 0.83597884 0.84126984 0.84126984 0.84656085\n",
      " 0.84656085 0.84656085 0.85185185 0.85185185 0.85185185 0.85185185\n",
      " 0.85714286 0.85714286 0.86243386 0.86772487 0.87301587 0.87301587\n",
      " 0.87830688 0.88359788 0.88888889 0.89417989 0.8994709  0.9047619\n",
      " 0.91005291 0.91534392 0.92063492 0.92592593 0.93121693 0.93650794\n",
      " 0.93650794 0.94179894 0.94179894 0.94179894 0.94179894 0.94179894\n",
      " 0.94708995 0.94708995 0.95238095 0.95238095 0.95238095 0.95238095\n",
      " 0.95767196 0.95767196 0.96296296 0.96825397 0.96825397 0.97354497\n",
      " 0.97354497 0.97354497 0.97883598 0.98412698 0.98941799 0.98941799\n",
      " 0.98941799 0.98941799 0.98941799 0.98941799 1.        ]\n"
     ]
    }
   ],
   "source": [
    "print(fpr_test)"
   ]
  },
  {
   "cell_type": "code",
   "execution_count": 29,
   "metadata": {},
   "outputs": [],
   "source": [
    "def find_tpr_at_fpr(fpr, tpr, target_fpr):\n",
    "    return np.interp(target_fpr, fpr, tpr)"
   ]
  },
  {
   "cell_type": "code",
   "execution_count": 30,
   "metadata": {},
   "outputs": [],
   "source": [
    "target_fprs = [0.1, 0.01, 0.001]\n",
    "tpr_at_target_fpr_train = [find_tpr_at_fpr(fpr_train, tpr_train, fpr) for fpr in target_fprs]\n",
    "tpr_at_target_fpr_test = [find_tpr_at_fpr(fpr_test, tpr_test, fpr) for fpr in target_fprs]\n",
    "tpr_at_target_fpr_val = [find_tpr_at_fpr(fpr_validation, tpr_validation, fpr) for fpr in target_fprs]"
   ]
  },
  {
   "cell_type": "code",
   "execution_count": 31,
   "metadata": {},
   "outputs": [
    {
     "name": "stdout",
     "output_type": "stream",
     "text": [
      "Train\n",
      "TPR at FPR 0.100: 0.518\n",
      "TPR at FPR 0.010: 0.106\n",
      "TPR at FPR 0.001: 0.015\n",
      "             AUC: 0.7937584282597494\n",
      "Validation\n",
      "TPR at FPR 0.100: 0.269\n",
      "TPR at FPR 0.010: 0.047\n",
      "TPR at FPR 0.001: 0.047\n",
      "             AUC: 0.6407188784652683\n",
      "Test\n",
      "TPR at FPR 0.100: 0.340\n",
      "TPR at FPR 0.010: 0.033\n",
      "TPR at FPR 0.001: 0.028\n",
      "             AUC: 0.6604522312069483\n"
     ]
    }
   ],
   "source": [
    "print(\"Train\")\n",
    "for tpr, fpr in zip(tpr_at_target_fpr_train, target_fprs):\n",
    "    print(f'TPR at FPR {fpr:.3f}: {tpr:.3f}')\n",
    "print(f'             AUC: {roc_auc_train}')\n",
    "\n",
    "print(\"Validation\")\n",
    "for tpr, fpr in zip(tpr_at_target_fpr_val, target_fprs):\n",
    "    print(f'TPR at FPR {fpr:.3f}: {tpr:.3f}')\n",
    "print(f'             AUC: {roc_auc_validation}')\n",
    "\n",
    "print(\"Test\")\n",
    "for tpr, fpr in zip(tpr_at_target_fpr_test, target_fprs):\n",
    "    print(f'TPR at FPR {fpr:.3f}: {tpr:.3f}')\n",
    "print(f'             AUC: {roc_auc_test}')\n"
   ]
  }
 ],
 "metadata": {
  "kernelspec": {
   "display_name": "Python 3",
   "language": "python",
   "name": "python3"
  },
  "language_info": {
   "codemirror_mode": {
    "name": "ipython",
    "version": 3
   },
   "file_extension": ".py",
   "mimetype": "text/x-python",
   "name": "python",
   "nbconvert_exporter": "python",
   "pygments_lexer": "ipython3",
   "version": "3.11.1"
  }
 },
 "nbformat": 4,
 "nbformat_minor": 2
}
