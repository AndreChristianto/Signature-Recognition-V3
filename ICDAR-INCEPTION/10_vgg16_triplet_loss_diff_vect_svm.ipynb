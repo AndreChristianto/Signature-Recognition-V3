{
 "cells": [
  {
   "cell_type": "markdown",
   "metadata": {},
   "source": [
    "### 1. Load Train / Test / Validation Data Files"
   ]
  },
  {
   "cell_type": "code",
   "execution_count": 1,
   "metadata": {},
   "outputs": [],
   "source": [
    "import numpy as np"
   ]
  },
  {
   "cell_type": "code",
   "execution_count": 2,
   "metadata": {},
   "outputs": [],
   "source": [
    "train_features_path =  \"../feature/ICDAR-INCEPTION-feature/train_features_triplet_loss.npy\"\n",
    "train_names_path = \"../feature/ICDAR-INCEPTION-feature/train_names.npy\"\n",
    "train_labels_path = \"../feature/ICDAR-INCEPTION-feature/train_labels.npy\"\n",
    "\n",
    "test_features_path = \"../feature/ICDAR-INCEPTION-feature/test_features_triplet_loss.npy\"\n",
    "test_names_path = \"../feature/ICDAR-INCEPTION-feature/test_names.npy\"\n",
    "test_labels_path = \"../feature/ICDAR-INCEPTION-feature/test_labels.npy\"\n",
    "\n",
    "validation_features_path = \"../feature/ICDAR-INCEPTION-feature/validation_features_triplet_loss.npy\"\n",
    "validation_names_path = \"../feature/ICDAR-INCEPTION-feature/validation_names.npy\"\n",
    "validation_labels_path = \"../feature/ICDAR-INCEPTION-feature/validation_labels.npy\"\n",
    "\n",
    "gallery_feature_path = \"../feature/ICDAR-INCEPTION-feature/gallery_features_triplet_loss.npy\"\n",
    "gallery_name_path = \"../feature/ICDAR-INCEPTION-feature/gallery_names.npy\"\n",
    "\n",
    "train_features = np.load(train_features_path)\n",
    "train_names = np.load(train_names_path)\n",
    "train_labels = np.load(train_labels_path)\n",
    "\n",
    "test_features = np.load(test_features_path)\n",
    "test_names = np.load(test_names_path)\n",
    "test_labels = np.load(test_labels_path)\n",
    "\n",
    "validation_features = np.load(validation_features_path)\n",
    "validation_names = np.load(validation_names_path)\n",
    "validation_labels = np.load(validation_labels_path)\n",
    "\n",
    "gallery_features = np.load(gallery_feature_path)\n",
    "gallery_names = np.load(gallery_name_path)"
   ]
  },
  {
   "cell_type": "code",
   "execution_count": 3,
   "metadata": {},
   "outputs": [
    {
     "name": "stdout",
     "output_type": "stream",
     "text": [
      "(857, 2048)\n",
      "(857,)\n",
      "(857,)\n",
      "(401, 2048)\n",
      "(401,)\n",
      "(401,)\n",
      "(391, 2048)\n",
      "(391,)\n",
      "(391,)\n",
      "(64, 2048)\n",
      "(64,)\n"
     ]
    }
   ],
   "source": [
    "print(train_features.shape)\n",
    "print(train_labels.shape)\n",
    "print(train_names.shape)\n",
    "print(test_features.shape)\n",
    "print(test_labels.shape)\n",
    "print(test_names.shape)\n",
    "print(validation_features.shape)\n",
    "print(validation_labels.shape)\n",
    "print(validation_names.shape)\n",
    "print(gallery_features.shape)\n",
    "print(gallery_names.shape)"
   ]
  },
  {
   "cell_type": "code",
   "execution_count": 4,
   "metadata": {},
   "outputs": [],
   "source": [
    "def find_difference_vector(vector_features, vector_labels, vector_names, gallery_features, gallery_names):\n",
    "    difference_vectors = []\n",
    "    difference_names = []\n",
    "    difference_labels = []\n",
    "\n",
    "    for gallery_feature, gallery_name in zip(gallery_features, gallery_names):\n",
    "        curr_difference_name = gallery_name\n",
    "        curr_difference_feature = []\n",
    "        curr_difference_label = []\n",
    "        curr_difference = []\n",
    "        \n",
    "        for feature, name, label in zip(vector_features, vector_names, vector_labels):\n",
    "            # print(f\"Gallery Name: {gallery_name}, Name: {name}\")\n",
    "            if gallery_name == name:\n",
    "                curr_difference_feature.append(feature)\n",
    "                curr_difference_label.append(label)\n",
    "        \n",
    "        if curr_difference_feature:  # Check if the list is not empty\n",
    "            # Assuming curr_difference_feature, curr_difference_label, and gallery_feature are numpy arrays\n",
    "            curr_difference_feature = np.array(curr_difference_feature)\n",
    "            curr_difference_label = np.array(curr_difference_label)\n",
    "            curr_difference = curr_difference_feature - gallery_feature\n",
    "\n",
    "            difference_vectors.append(curr_difference)\n",
    "            difference_names.append(curr_difference_name)\n",
    "            difference_labels.append(curr_difference_label)\n",
    "            \n",
    "    return difference_vectors, difference_names, difference_labels"
   ]
  },
  {
   "cell_type": "code",
   "execution_count": 5,
   "metadata": {},
   "outputs": [],
   "source": [
    "test_difference_vectors, test_difference_names, test_difference_labels = find_difference_vector(test_features, test_labels, test_names, gallery_features, gallery_names)\n",
    "train_difference_vectors, train_difference_names, train_difference_labels = find_difference_vector(train_features, train_labels, train_names, gallery_features, gallery_names)\n",
    "validation_difference_vectors, validation_difference_names, validation_difference_labels = find_difference_vector(validation_features, validation_labels, validation_names, gallery_features, gallery_names)"
   ]
  },
  {
   "cell_type": "markdown",
   "metadata": {},
   "source": [
    "### 2. Train on ML"
   ]
  },
  {
   "cell_type": "code",
   "execution_count": 6,
   "metadata": {},
   "outputs": [],
   "source": [
    "from sklearn import svm\n",
    "from sklearn.metrics import accuracy_score\n",
    "from sklearn.model_selection import GridSearchCV"
   ]
  },
  {
   "cell_type": "code",
   "execution_count": 7,
   "metadata": {},
   "outputs": [],
   "source": [
    "# For Train Set\n",
    "train_difference_vectors_flat = [item for sublist in train_difference_vectors for item in sublist]\n",
    "train_difference_array = np.array(train_difference_vectors_flat).reshape(len(train_difference_vectors_flat), -1)\n",
    "\n",
    "# For test set\n",
    "test_difference_vectors_flat = [item for sublist in test_difference_vectors for item in sublist]\n",
    "test_difference_array = np.array(test_difference_vectors_flat).reshape(len(test_difference_vectors_flat), -1)\n",
    "\n",
    "# For validation set\n",
    "validation_difference_vectors_flat = [item for sublist in validation_difference_vectors for item in sublist]\n",
    "validation_difference_array = np.array(validation_difference_vectors_flat).reshape(len(validation_difference_vectors_flat), -1)"
   ]
  },
  {
   "cell_type": "code",
   "execution_count": 8,
   "metadata": {},
   "outputs": [
    {
     "name": "stdout",
     "output_type": "stream",
     "text": [
      "(857, 2048)\n",
      "(857,)\n",
      "(401, 2048)\n",
      "(401,)\n",
      "(391, 2048)\n",
      "(391,)\n"
     ]
    }
   ],
   "source": [
    "print(train_difference_array.shape)\n",
    "print(train_labels.shape)\n",
    "print(test_difference_array.shape)\n",
    "print(test_labels.shape)\n",
    "print(validation_difference_array.shape)\n",
    "print(validation_labels.shape)"
   ]
  },
  {
   "cell_type": "code",
   "execution_count": 9,
   "metadata": {},
   "outputs": [
    {
     "data": {
      "text/html": [
       "<style>#sk-container-id-1 {color: black;}#sk-container-id-1 pre{padding: 0;}#sk-container-id-1 div.sk-toggleable {background-color: white;}#sk-container-id-1 label.sk-toggleable__label {cursor: pointer;display: block;width: 100%;margin-bottom: 0;padding: 0.3em;box-sizing: border-box;text-align: center;}#sk-container-id-1 label.sk-toggleable__label-arrow:before {content: \"▸\";float: left;margin-right: 0.25em;color: #696969;}#sk-container-id-1 label.sk-toggleable__label-arrow:hover:before {color: black;}#sk-container-id-1 div.sk-estimator:hover label.sk-toggleable__label-arrow:before {color: black;}#sk-container-id-1 div.sk-toggleable__content {max-height: 0;max-width: 0;overflow: hidden;text-align: left;background-color: #f0f8ff;}#sk-container-id-1 div.sk-toggleable__content pre {margin: 0.2em;color: black;border-radius: 0.25em;background-color: #f0f8ff;}#sk-container-id-1 input.sk-toggleable__control:checked~div.sk-toggleable__content {max-height: 200px;max-width: 100%;overflow: auto;}#sk-container-id-1 input.sk-toggleable__control:checked~label.sk-toggleable__label-arrow:before {content: \"▾\";}#sk-container-id-1 div.sk-estimator input.sk-toggleable__control:checked~label.sk-toggleable__label {background-color: #d4ebff;}#sk-container-id-1 div.sk-label input.sk-toggleable__control:checked~label.sk-toggleable__label {background-color: #d4ebff;}#sk-container-id-1 input.sk-hidden--visually {border: 0;clip: rect(1px 1px 1px 1px);clip: rect(1px, 1px, 1px, 1px);height: 1px;margin: -1px;overflow: hidden;padding: 0;position: absolute;width: 1px;}#sk-container-id-1 div.sk-estimator {font-family: monospace;background-color: #f0f8ff;border: 1px dotted black;border-radius: 0.25em;box-sizing: border-box;margin-bottom: 0.5em;}#sk-container-id-1 div.sk-estimator:hover {background-color: #d4ebff;}#sk-container-id-1 div.sk-parallel-item::after {content: \"\";width: 100%;border-bottom: 1px solid gray;flex-grow: 1;}#sk-container-id-1 div.sk-label:hover label.sk-toggleable__label {background-color: #d4ebff;}#sk-container-id-1 div.sk-serial::before {content: \"\";position: absolute;border-left: 1px solid gray;box-sizing: border-box;top: 0;bottom: 0;left: 50%;z-index: 0;}#sk-container-id-1 div.sk-serial {display: flex;flex-direction: column;align-items: center;background-color: white;padding-right: 0.2em;padding-left: 0.2em;position: relative;}#sk-container-id-1 div.sk-item {position: relative;z-index: 1;}#sk-container-id-1 div.sk-parallel {display: flex;align-items: stretch;justify-content: center;background-color: white;position: relative;}#sk-container-id-1 div.sk-item::before, #sk-container-id-1 div.sk-parallel-item::before {content: \"\";position: absolute;border-left: 1px solid gray;box-sizing: border-box;top: 0;bottom: 0;left: 50%;z-index: -1;}#sk-container-id-1 div.sk-parallel-item {display: flex;flex-direction: column;z-index: 1;position: relative;background-color: white;}#sk-container-id-1 div.sk-parallel-item:first-child::after {align-self: flex-end;width: 50%;}#sk-container-id-1 div.sk-parallel-item:last-child::after {align-self: flex-start;width: 50%;}#sk-container-id-1 div.sk-parallel-item:only-child::after {width: 0;}#sk-container-id-1 div.sk-dashed-wrapped {border: 1px dashed gray;margin: 0 0.4em 0.5em 0.4em;box-sizing: border-box;padding-bottom: 0.4em;background-color: white;}#sk-container-id-1 div.sk-label label {font-family: monospace;font-weight: bold;display: inline-block;line-height: 1.2em;}#sk-container-id-1 div.sk-label-container {text-align: center;}#sk-container-id-1 div.sk-container {/* jupyter's `normalize.less` sets `[hidden] { display: none; }` but bootstrap.min.css set `[hidden] { display: none !important; }` so we also need the `!important` here to be able to override the default hidden behavior on the sphinx rendered scikit-learn.org. See: https://github.com/scikit-learn/scikit-learn/issues/21755 */display: inline-block !important;position: relative;}#sk-container-id-1 div.sk-text-repr-fallback {display: none;}</style><div id=\"sk-container-id-1\" class=\"sk-top-container\"><div class=\"sk-text-repr-fallback\"><pre>SVC()</pre><b>In a Jupyter environment, please rerun this cell to show the HTML representation or trust the notebook. <br />On GitHub, the HTML representation is unable to render, please try loading this page with nbviewer.org.</b></div><div class=\"sk-container\" hidden><div class=\"sk-item\"><div class=\"sk-estimator sk-toggleable\"><input class=\"sk-toggleable__control sk-hidden--visually\" id=\"sk-estimator-id-1\" type=\"checkbox\" checked><label for=\"sk-estimator-id-1\" class=\"sk-toggleable__label sk-toggleable__label-arrow\">SVC</label><div class=\"sk-toggleable__content\"><pre>SVC()</pre></div></div></div></div></div>"
      ],
      "text/plain": [
       "SVC()"
      ]
     },
     "execution_count": 9,
     "metadata": {},
     "output_type": "execute_result"
    }
   ],
   "source": [
    "model = svm.SVC()\n",
    "model.fit(train_difference_array, train_labels)"
   ]
  },
  {
   "cell_type": "markdown",
   "metadata": {},
   "source": [
    "### 3. Hyperparameter Tuning"
   ]
  },
  {
   "cell_type": "code",
   "execution_count": 10,
   "metadata": {},
   "outputs": [
    {
     "name": "stdout",
     "output_type": "stream",
     "text": [
      "C: 1.0\n",
      "break_ties: False\n",
      "cache_size: 200\n",
      "class_weight: None\n",
      "coef0: 0.0\n",
      "decision_function_shape: ovr\n",
      "degree: 3\n",
      "gamma: scale\n",
      "kernel: rbf\n",
      "max_iter: -1\n",
      "probability: False\n",
      "random_state: None\n",
      "shrinking: True\n",
      "tol: 0.001\n",
      "verbose: False\n"
     ]
    }
   ],
   "source": [
    "parameter = model.get_params()\n",
    "for key, value in parameter.items():\n",
    "    print(f\"{key}: {value}\")"
   ]
  },
  {
   "cell_type": "code",
   "execution_count": 11,
   "metadata": {},
   "outputs": [],
   "source": [
    "param_grid = {'C': [0.1, 1, 10, 100, 1000], 'gamma': [1, 0.1, 0.01, 0.001, 0.0001], 'kernel': ['linear', 'rbf']}\n",
    "grid_search = GridSearchCV(svm.SVC(), param_grid, cv=5)\n",
    "grid_search.fit(validation_difference_array, validation_labels)\n",
    "best_params = grid_search.best_params_"
   ]
  },
  {
   "cell_type": "code",
   "execution_count": 12,
   "metadata": {},
   "outputs": [
    {
     "name": "stdout",
     "output_type": "stream",
     "text": [
      "{'C': 0.1, 'gamma': 1, 'kernel': 'linear'}\n"
     ]
    }
   ],
   "source": [
    "print(best_params)"
   ]
  },
  {
   "cell_type": "markdown",
   "metadata": {},
   "source": [
    "### 4. Test"
   ]
  },
  {
   "cell_type": "code",
   "execution_count": 13,
   "metadata": {},
   "outputs": [],
   "source": [
    "best_model = svm.SVC(**best_params)\n",
    "best_model.fit(train_difference_array , train_labels)\n",
    "test_pred = best_model.predict(test_difference_array)\n",
    "accuracy = accuracy_score(test_labels, test_pred)"
   ]
  },
  {
   "cell_type": "code",
   "execution_count": 14,
   "metadata": {},
   "outputs": [
    {
     "name": "stdout",
     "output_type": "stream",
     "text": [
      "0.7281795511221946\n"
     ]
    }
   ],
   "source": [
    "print(accuracy)"
   ]
  },
  {
   "cell_type": "markdown",
   "metadata": {},
   "source": [
    "### 5. ROC Curve"
   ]
  },
  {
   "cell_type": "code",
   "execution_count": 15,
   "metadata": {},
   "outputs": [],
   "source": [
    "from sklearn.metrics import roc_curve, auc\n",
    "import matplotlib.pyplot as plt"
   ]
  },
  {
   "cell_type": "code",
   "execution_count": 16,
   "metadata": {},
   "outputs": [
    {
     "data": {
      "image/png": "[encoded data removed]",
      "text/plain": [
       "<Figure size 800x800 with 1 Axes>"
      ]
     },
     "metadata": {},
     "output_type": "display_data"
    }
   ],
   "source": [
    "# Predict decision values for each class\n",
    "y_train_score = best_model.decision_function(train_difference_array)\n",
    "y_test_score = best_model.decision_function(test_difference_array)\n",
    "y_val_score = best_model.decision_function(validation_difference_array)\n",
    "\n",
    "# Compute ROC curve and AUC for each set\n",
    "fpr_train, tpr_train, thresholds_train = roc_curve(train_labels, y_train_score, drop_intermediate=False)\n",
    "roc_auc_train = auc(fpr_train, tpr_train)\n",
    "fpr_test, tpr_test, thresholds_test = roc_curve(test_labels, y_test_score, drop_intermediate=False)\n",
    "roc_auc_test = auc(fpr_test, tpr_test)\n",
    "fpr_val, tpr_val, thresholds_val = roc_curve(validation_labels, y_val_score, drop_intermediate=False)\n",
    "roc_auc_val = auc(fpr_val, tpr_val)\n",
    "\n",
    "# Plot ROC curve\n",
    "plt.figure(figsize=(8, 8))\n",
    "\n",
    "plt.plot(fpr_train, tpr_train, color='darkseagreen', lw=2, label=f'Train AUC = {roc_auc_train:.5f}')\n",
    "plt.plot(fpr_val, tpr_val, color='steelblue', lw=2, label=f'Validation AUC = {roc_auc_val:.5f}')\n",
    "plt.plot(fpr_test, tpr_test, color='peru', lw=2, label=f'Test AUC = {roc_auc_test:.5f}')\n",
    "\n",
    "plt.plot([0, 1], [0, 1], 'k--')\n",
    "plt.xlabel('False Positive Rate')\n",
    "plt.ylabel('True Positive Rate')\n",
    "plt.title('ROC Curves - SVM')\n",
    "plt.legend()\n",
    "plt.show()"
   ]
  },
  {
   "cell_type": "code",
   "execution_count": 17,
   "metadata": {},
   "outputs": [],
   "source": [
    "def find_tpr_at_fpr(fpr, tpr, target_fpr):\n",
    "    return np.interp(target_fpr, fpr, tpr)"
   ]
  },
  {
   "cell_type": "code",
   "execution_count": 18,
   "metadata": {},
   "outputs": [],
   "source": [
    "target_fprs = [0.1, 0.01, 0.001]\n",
    "tpr_at_target_fpr_train = [find_tpr_at_fpr(fpr_train, tpr_train, fpr) for fpr in target_fprs]\n",
    "tpr_at_target_fpr_test = [find_tpr_at_fpr(fpr_test, tpr_test, fpr) for fpr in target_fprs]\n",
    "tpr_at_target_fpr_val = [find_tpr_at_fpr(fpr_val, tpr_val, fpr) for fpr in target_fprs]"
   ]
  },
  {
   "cell_type": "code",
   "execution_count": 19,
   "metadata": {},
   "outputs": [
    {
     "name": "stdout",
     "output_type": "stream",
     "text": [
      "[0.         0.00471698 0.00943396 0.00943396 0.01415094 0.01886792\n",
      " 0.02358491 0.02830189 0.03301887 0.03773585 0.04245283 0.04716981\n",
      " 0.05188679 0.05660377 0.06132075 0.06603774 0.07075472 0.0754717\n",
      " 0.08018868 0.08490566 0.08962264 0.09433962 0.0990566  0.10377358\n",
      " 0.10849057 0.11320755 0.11792453 0.12264151 0.12735849 0.13207547\n",
      " 0.13679245 0.14150943 0.14150943 0.14622642 0.1509434  0.15566038\n",
      " 0.16037736 0.16509434 0.16981132 0.1745283  0.17924528 0.18396226\n",
      " 0.18867925 0.19339623 0.19811321 0.20283019 0.20754717 0.21226415\n",
      " 0.21698113 0.22169811 0.22641509 0.23113208 0.23584906 0.24056604\n",
      " 0.24528302 0.25       0.25       0.25471698 0.25943396 0.26415094\n",
      " 0.26886792 0.27358491 0.27830189 0.28301887 0.28773585 0.29245283\n",
      " 0.29716981 0.30188679 0.30660377 0.30660377 0.31132075 0.31132075\n",
      " 0.31603774 0.32075472 0.32075472 0.3254717  0.33018868 0.33490566\n",
      " 0.33962264 0.34433962 0.3490566  0.35377358 0.35849057 0.36320755\n",
      " 0.36320755 0.36792453 0.37264151 0.37264151 0.37735849 0.38207547\n",
      " 0.38679245 0.39150943 0.39150943 0.39622642 0.39622642 0.4009434\n",
      " 0.4009434  0.4009434  0.4009434  0.40566038 0.41037736 0.41509434\n",
      " 0.41509434 0.41981132 0.4245283  0.42924528 0.43396226 0.43867925\n",
      " 0.44339623 0.44811321 0.45283019 0.45283019 0.45754717 0.46226415\n",
      " 0.46698113 0.46698113 0.47169811 0.47169811 0.47641509 0.47641509\n",
      " 0.47641509 0.48113208 0.48584906 0.49056604 0.49528302 0.49528302\n",
      " 0.5        0.50471698 0.50943396 0.50943396 0.51415094 0.51886792\n",
      " 0.52358491 0.52358491 0.52358491 0.52830189 0.52830189 0.53301887\n",
      " 0.53301887 0.53301887 0.53301887 0.53773585 0.54245283 0.54716981\n",
      " 0.55188679 0.55188679 0.55188679 0.55660377 0.55660377 0.56132075\n",
      " 0.56132075 0.56603774 0.56603774 0.57075472 0.5754717  0.58018868\n",
      " 0.58490566 0.58962264 0.58962264 0.58962264 0.58962264 0.59433962\n",
      " 0.5990566  0.60377358 0.60849057 0.61320755 0.61792453 0.62264151\n",
      " 0.62735849 0.63207547 0.63679245 0.64150943 0.64622642 0.6509434\n",
      " 0.6509434  0.6509434  0.65566038 0.65566038 0.66037736 0.66509434\n",
      " 0.66509434 0.66981132 0.6745283  0.67924528 0.67924528 0.68396226\n",
      " 0.68396226 0.68396226 0.68396226 0.68396226 0.68867925 0.68867925\n",
      " 0.68867925 0.68867925 0.69339623 0.69339623 0.69339623 0.69339623\n",
      " 0.69811321 0.70283019 0.70754717 0.70754717 0.71226415 0.71698113\n",
      " 0.72169811 0.72641509 0.73113208 0.73584906 0.73584906 0.73584906\n",
      " 0.73584906 0.74056604 0.74528302 0.74528302 0.74528302 0.74528302\n",
      " 0.74528302 0.75       0.75471698 0.75471698 0.75943396 0.76415094\n",
      " 0.76415094 0.76415094 0.76415094 0.76886792 0.77358491 0.77830189\n",
      " 0.77830189 0.78301887 0.78773585 0.78773585 0.79245283 0.79716981\n",
      " 0.80188679 0.80188679 0.80660377 0.80660377 0.81132075 0.81132075\n",
      " 0.81132075 0.81603774 0.81603774 0.82075472 0.82075472 0.82075472\n",
      " 0.82075472 0.8254717  0.8254717  0.8254717  0.8254717  0.83018868\n",
      " 0.83018868 0.83490566 0.83490566 0.83490566 0.83490566 0.83490566\n",
      " 0.83962264 0.84433962 0.8490566  0.8490566  0.8490566  0.8490566\n",
      " 0.85377358 0.85377358 0.85849057 0.85849057 0.85849057 0.86320755\n",
      " 0.86320755 0.86320755 0.86320755 0.86320755 0.86320755 0.86320755\n",
      " 0.86792453 0.86792453 0.87264151 0.87264151 0.87264151 0.87264151\n",
      " 0.87264151 0.87735849 0.88207547 0.88207547 0.88207547 0.88207547\n",
      " 0.88207547 0.88207547 0.88207547 0.88207547 0.88207547 0.88207547\n",
      " 0.88207547 0.88207547 0.88207547 0.88679245 0.88679245 0.88679245\n",
      " 0.88679245 0.88679245 0.88679245 0.88679245 0.88679245 0.89150943\n",
      " 0.89150943 0.89150943 0.89150943 0.89150943 0.89150943 0.89150943\n",
      " 0.89150943 0.89150943 0.89622642 0.89622642 0.9009434  0.9009434\n",
      " 0.9009434  0.90566038 0.91037736 0.91037736 0.91037736 0.91037736\n",
      " 0.91509434 0.91981132 0.91981132 0.91981132 0.91981132 0.9245283\n",
      " 0.92924528 0.93396226 0.93396226 0.93867925 0.93867925 0.93867925\n",
      " 0.94339623 0.94339623 0.94339623 0.94339623 0.94339623 0.94811321\n",
      " 0.95283019 0.95283019 0.95283019 0.95283019 0.95283019 0.95283019\n",
      " 0.95283019 0.95283019 0.95283019 0.95754717 0.95754717 0.95754717\n",
      " 0.95754717 0.96226415 0.96226415 0.96226415 0.96698113 0.96698113\n",
      " 0.96698113 0.96698113 0.96698113 0.96698113 0.96698113 0.96698113\n",
      " 0.96698113 0.96698113 0.96698113 0.96698113 0.97169811 0.97169811\n",
      " 0.97641509 0.97641509 0.97641509 0.97641509 0.97641509 0.97641509\n",
      " 0.97641509 0.97641509 0.97641509 0.97641509 0.97641509 0.98113208\n",
      " 0.98584906 0.98584906 0.98584906 0.99056604 0.99056604 0.99056604\n",
      " 0.99056604 0.99056604 0.99056604 0.99056604 0.99528302 1.\n",
      " 1.         1.         1.         1.         1.         1.        ]\n"
     ]
    }
   ],
   "source": [
    "print(tpr_test)"
   ]
  },
  {
   "cell_type": "code",
   "execution_count": 20,
   "metadata": {},
   "outputs": [
    {
     "name": "stdout",
     "output_type": "stream",
     "text": [
      "[0.         0.         0.         0.00529101 0.00529101 0.00529101\n",
      " 0.00529101 0.00529101 0.00529101 0.00529101 0.00529101 0.00529101\n",
      " 0.00529101 0.00529101 0.00529101 0.00529101 0.00529101 0.00529101\n",
      " 0.00529101 0.00529101 0.00529101 0.00529101 0.00529101 0.00529101\n",
      " 0.00529101 0.00529101 0.00529101 0.00529101 0.00529101 0.00529101\n",
      " 0.00529101 0.00529101 0.01058201 0.01058201 0.01058201 0.01058201\n",
      " 0.01058201 0.01058201 0.01058201 0.01058201 0.01058201 0.01058201\n",
      " 0.01058201 0.01058201 0.01058201 0.01058201 0.01058201 0.01058201\n",
      " 0.01058201 0.01058201 0.01058201 0.01058201 0.01058201 0.01058201\n",
      " 0.01058201 0.01058201 0.01587302 0.01587302 0.01587302 0.01587302\n",
      " 0.01587302 0.01587302 0.01587302 0.01587302 0.01587302 0.01587302\n",
      " 0.01587302 0.01587302 0.01587302 0.02116402 0.02116402 0.02645503\n",
      " 0.02645503 0.02645503 0.03174603 0.03174603 0.03174603 0.03174603\n",
      " 0.03174603 0.03174603 0.03174603 0.03174603 0.03174603 0.03174603\n",
      " 0.03703704 0.03703704 0.03703704 0.04232804 0.04232804 0.04232804\n",
      " 0.04232804 0.04232804 0.04761905 0.04761905 0.05291005 0.05291005\n",
      " 0.05820106 0.06349206 0.06878307 0.06878307 0.06878307 0.06878307\n",
      " 0.07407407 0.07407407 0.07407407 0.07407407 0.07407407 0.07407407\n",
      " 0.07407407 0.07407407 0.07407407 0.07936508 0.07936508 0.07936508\n",
      " 0.07936508 0.08465608 0.08465608 0.08994709 0.08994709 0.0952381\n",
      " 0.1005291  0.1005291  0.1005291  0.1005291  0.1005291  0.10582011\n",
      " 0.10582011 0.10582011 0.10582011 0.11111111 0.11111111 0.11111111\n",
      " 0.11111111 0.11640212 0.12169312 0.12169312 0.12698413 0.12698413\n",
      " 0.13227513 0.13756614 0.14285714 0.14285714 0.14285714 0.14285714\n",
      " 0.14285714 0.14814815 0.15343915 0.15343915 0.15873016 0.15873016\n",
      " 0.16402116 0.16402116 0.16931217 0.16931217 0.16931217 0.16931217\n",
      " 0.16931217 0.16931217 0.17460317 0.17989418 0.18518519 0.18518519\n",
      " 0.18518519 0.18518519 0.18518519 0.18518519 0.18518519 0.18518519\n",
      " 0.18518519 0.18518519 0.18518519 0.18518519 0.18518519 0.18518519\n",
      " 0.19047619 0.1957672  0.1957672  0.2010582  0.2010582  0.2010582\n",
      " 0.20634921 0.20634921 0.20634921 0.20634921 0.21164021 0.21164021\n",
      " 0.21693122 0.22222222 0.22751323 0.23280423 0.23280423 0.23809524\n",
      " 0.24338624 0.24867725 0.24867725 0.25396825 0.25925926 0.26455026\n",
      " 0.26455026 0.26455026 0.26455026 0.26984127 0.26984127 0.26984127\n",
      " 0.26984127 0.26984127 0.26984127 0.26984127 0.27513228 0.28042328\n",
      " 0.28571429 0.28571429 0.28571429 0.29100529 0.2962963  0.3015873\n",
      " 0.30687831 0.30687831 0.30687831 0.31216931 0.31216931 0.31216931\n",
      " 0.31746032 0.32275132 0.32804233 0.32804233 0.32804233 0.32804233\n",
      " 0.33333333 0.33333333 0.33333333 0.33862434 0.33862434 0.33862434\n",
      " 0.33862434 0.34391534 0.34391534 0.34920635 0.34920635 0.35449735\n",
      " 0.35978836 0.35978836 0.36507937 0.36507937 0.37037037 0.37566138\n",
      " 0.38095238 0.38095238 0.38624339 0.39153439 0.3968254  0.3968254\n",
      " 0.4021164  0.4021164  0.40740741 0.41269841 0.41798942 0.42328042\n",
      " 0.42328042 0.42328042 0.42328042 0.42857143 0.43386243 0.43915344\n",
      " 0.43915344 0.44444444 0.44444444 0.44973545 0.45502646 0.45502646\n",
      " 0.46031746 0.46560847 0.47089947 0.47619048 0.48148148 0.48677249\n",
      " 0.48677249 0.49206349 0.49206349 0.4973545  0.5026455  0.50793651\n",
      " 0.51322751 0.51322751 0.51322751 0.51851852 0.52380952 0.52910053\n",
      " 0.53439153 0.53968254 0.54497354 0.55026455 0.55555556 0.56084656\n",
      " 0.56613757 0.57142857 0.57671958 0.57671958 0.58201058 0.58730159\n",
      " 0.59259259 0.5978836  0.6031746  0.60846561 0.61375661 0.61375661\n",
      " 0.61904762 0.62433862 0.62962963 0.63492063 0.64021164 0.64550265\n",
      " 0.65079365 0.65608466 0.65608466 0.66137566 0.66137566 0.66666667\n",
      " 0.67195767 0.67195767 0.67195767 0.67724868 0.68253968 0.68783069\n",
      " 0.68783069 0.68783069 0.69312169 0.6984127  0.7037037  0.7037037\n",
      " 0.7037037  0.7037037  0.70899471 0.70899471 0.71428571 0.71957672\n",
      " 0.71957672 0.72486772 0.73015873 0.73544974 0.74074074 0.74074074\n",
      " 0.74074074 0.74603175 0.75132275 0.75661376 0.76190476 0.76719577\n",
      " 0.77248677 0.77777778 0.78306878 0.78306878 0.78835979 0.79365079\n",
      " 0.7989418  0.7989418  0.8042328  0.80952381 0.80952381 0.81481481\n",
      " 0.82010582 0.82539683 0.83068783 0.83597884 0.84126984 0.84656085\n",
      " 0.85185185 0.85714286 0.86243386 0.86772487 0.86772487 0.87301587\n",
      " 0.87301587 0.87830688 0.88359788 0.88888889 0.89417989 0.8994709\n",
      " 0.9047619  0.91005291 0.91534392 0.92063492 0.92592593 0.92592593\n",
      " 0.92592593 0.93121693 0.93650794 0.93650794 0.94179894 0.94708995\n",
      " 0.95238095 0.95767196 0.96296296 0.96825397 0.96825397 0.96825397\n",
      " 0.97354497 0.97883598 0.98412698 0.98941799 0.99470899 1.        ]\n"
     ]
    }
   ],
   "source": [
    "print(fpr_test)"
   ]
  },
  {
   "cell_type": "code",
   "execution_count": 21,
   "metadata": {},
   "outputs": [
    {
     "name": "stdout",
     "output_type": "stream",
     "text": [
      "Train\n",
      "TPR at FPR 0.100: 0.957\n",
      "TPR at FPR 0.010: 0.229\n",
      "TPR at FPR 0.001: 0.026\n",
      "             AUC: 0.9669447763975837\n",
      "Validation\n",
      "TPR at FPR 0.100: 0.377\n",
      "TPR at FPR 0.010: 0.127\n",
      "TPR at FPR 0.001: 0.127\n",
      "             AUC: 0.760013702961948\n",
      "Test\n",
      "TPR at FPR 0.100: 0.476\n",
      "TPR at FPR 0.010: 0.142\n",
      "TPR at FPR 0.001: 0.009\n",
      "             AUC: 0.7961465508635319\n"
     ]
    }
   ],
   "source": [
    "print(\"Train\")\n",
    "for tpr, fpr in zip(tpr_at_target_fpr_train, target_fprs):\n",
    "    print(f'TPR at FPR {fpr:.3f}: {tpr:.3f}')\n",
    "print(f'             AUC: {roc_auc_train}')\n",
    "\n",
    "print(\"Validation\")\n",
    "for tpr, fpr in zip(tpr_at_target_fpr_val, target_fprs):\n",
    "    print(f'TPR at FPR {fpr:.3f}: {tpr:.3f}')\n",
    "print(f'             AUC: {roc_auc_val}')\n",
    "\n",
    "print(\"Test\")\n",
    "for tpr, fpr in zip(tpr_at_target_fpr_test, target_fprs):\n",
    "    print(f'TPR at FPR {fpr:.3f}: {tpr:.3f}')\n",
    "print(f'             AUC: {roc_auc_test}')"
   ]
  }
 ],
 "metadata": {
  "kernelspec": {
   "display_name": "Python 3",
   "language": "python",
   "name": "python3"
  },
  "language_info": {
   "codemirror_mode": {
    "name": "ipython",
    "version": 3
   },
   "file_extension": ".py",
   "mimetype": "text/x-python",
   "name": "python",
   "nbconvert_exporter": "python",
   "pygments_lexer": "ipython3",
   "version": "3.11.1"
  }
 },
 "nbformat": 4,
 "nbformat_minor": 2
}
